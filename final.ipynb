{
 "cells": [
  {
   "cell_type": "code",
   "execution_count": 1,
   "metadata": {},
   "outputs": [],
   "source": [
    "import seaborn as sns\n",
    "import matplotlib.pyplot as plt\n",
    "from sklearn.preprocessing import LabelEncoder\n",
    "import pandas as pd\n",
    "import pickle\n"
   ]
  },
  {
   "cell_type": "markdown",
   "metadata": {},
   "source": [
    "## Name and movies datasets\n",
    "\n"
   ]
  },
  {
   "cell_type": "markdown",
   "metadata": {},
   "source": [
    "For this project we decided to work on the CMU movie dataset containing metadata extracted from Freebase, including Movie metadata like Movie box office revenue, genre, release date, runtime, and language but also Character metada like character names and aligned information about the actors who portray them, including gender and estimated age at the time of the movie's release. \n",
    "First let's see what the 2 metadasets contains.\n",
    "\n",
    "#### Characters\n",
    "The dataset contains informations  450,669 characters aligned to the movies such as Wikipedia movie ID,  Freebase movie ID, Movie release date, Character name, Actor date of birth, Actor gender, Actor height (in meters), Actor ethnicity,Actor name, Actor age at movie release, Freebase character/actor map ID, Freebase character ID, Freebase actor ID. \n",
    "\n",
    "\n",
    "#### Movies\n",
    "The dataset contains informations on 81,741 movies such as the Wikipedia movie ID, Freebase movie ID, Movie name, Movie release date, Movie box office revenue, Movie runtime, Movie languages, Movie countries, Movie genres .\n",
    "\n",
    "\n",
    "\n",
    "#### Cleaning\n",
    "\n",
    "The cleaning task was implement in the *clean_raw_data()* method of our different CharacterData and MovieData classes implementation (by Wikipedia Movie ID) and validated using the *check_clean_data()* method, available and shared by the 2 datasets (python inheritance).\n",
    "\n",
    "From both metadataset, we directly oberved similar features such as Wikipedia Movie ID and Freebase Movie ID that is useful for futur merge of the 2 dataset. However, as in both datasets we saw that there were several columns containing Freebase and Wikipedia IDs for actors, characters and films, we decided to put them aside as the data is too difficult to access.\n",
    "\n",
    "This are the different steps we applied to both datasets before merging:\n",
    "\n",
    "Character dataset:\n",
    "- Load with the right spacer.\n",
    "- Rename the columns for proper understanding.\n",
    "- Check the good type format : Actor date of birth and the Release Date as a datetime, and the other into objects.\n",
    "- Deal with missing values : we wrote them as NaN or NaT\n",
    "- Droping unwanted columns\n",
    "- Checking that the cleaning was made\n",
    "\n",
    "Movie dataset :\n",
    "- Load with the right spacer.\n",
    "- Rename the columns for proper understanding.\n",
    "- Modify the Language, Country and Genre columns:  the information was a JSON format not readable nor accessible so we isolate the information and replace it by a human-readable string format.\n",
    "- Modify the datatypes of movie runtime into timedelta and the release date into a datetime object for further manipulation.\n",
    "- Modify the movie Name, Language, Country and Genre:  we checked that they were in object type and modified them if not.\n",
    "- Deal with missing values : we wrote them as NaN or NaT\n",
    "- Dropping the unwanted columns\n",
    "- Check that the cleaning was made\n",
    "\n",
    "\n",
    "We kept the whole dataset with NaN and NaT values in a specific file to keep features that could be interesting even if the rate of missing values is very high (such as etchnicity or Box office revenue). However, for the following notebook, to make some we decided to remove this 2 columns since they have more than 70% missing values.\n",
    "\n"
   ]
  },
  {
   "cell_type": "markdown",
   "metadata": {},
   "source": [
    "### Loading the cleaned datasets\n",
    "\n",
    "To facilitate the running of the notebook we saved the cleand dataframe into .csv files.\n"
   ]
  },
  {
   "cell_type": "code",
   "execution_count": 2,
   "metadata": {},
   "outputs": [
    {
     "ename": "FileNotFoundError",
     "evalue": "[Errno 2] No such file or directory: 'data/clean/movies_char/movies_characters_data.pkl'",
     "output_type": "error",
     "traceback": [
      "\u001b[1;31m---------------------------------------------------------------------------\u001b[0m",
      "\u001b[1;31mFileNotFoundError\u001b[0m                         Traceback (most recent call last)",
      "Cell \u001b[1;32mIn[2], line 4\u001b[0m\n\u001b[0;32m      1\u001b[0m \u001b[38;5;66;03m# MOVIES AND CHARACTER DADASET\u001b[39;00m\n\u001b[0;32m      2\u001b[0m \u001b[38;5;66;03m# load class instance for mov_char_data\u001b[39;00m\n\u001b[0;32m      3\u001b[0m mov_char_datapath \u001b[38;5;241m=\u001b[39m \u001b[38;5;124m\"\u001b[39m\u001b[38;5;124mdata/clean/movies_char/movies_characters_data.pkl\u001b[39m\u001b[38;5;124m\"\u001b[39m\n\u001b[1;32m----> 4\u001b[0m \u001b[38;5;28;01mwith\u001b[39;00m \u001b[38;5;28mopen\u001b[39m(mov_char_datapath, \u001b[38;5;124m'\u001b[39m\u001b[38;5;124mrb\u001b[39m\u001b[38;5;124m'\u001b[39m) \u001b[38;5;28;01mas\u001b[39;00m f:\n\u001b[0;32m      5\u001b[0m     mov_char_data \u001b[38;5;241m=\u001b[39m pickle\u001b[38;5;241m.\u001b[39mload(f)\n\u001b[0;32m      8\u001b[0m \u001b[38;5;28mprint\u001b[39m(\u001b[38;5;124m\"\u001b[39m\u001b[38;5;124mmovies_characters_data  loaded successfully\u001b[39m\u001b[38;5;124m\"\u001b[39m)\n",
      "File \u001b[1;32mc:\\Users\\Pauline\\anaconda3\\envs\\ada\\Lib\\site-packages\\IPython\\core\\interactiveshell.py:324\u001b[0m, in \u001b[0;36m_modified_open\u001b[1;34m(file, *args, **kwargs)\u001b[0m\n\u001b[0;32m    317\u001b[0m \u001b[38;5;28;01mif\u001b[39;00m file \u001b[38;5;129;01min\u001b[39;00m {\u001b[38;5;241m0\u001b[39m, \u001b[38;5;241m1\u001b[39m, \u001b[38;5;241m2\u001b[39m}:\n\u001b[0;32m    318\u001b[0m     \u001b[38;5;28;01mraise\u001b[39;00m \u001b[38;5;167;01mValueError\u001b[39;00m(\n\u001b[0;32m    319\u001b[0m         \u001b[38;5;124mf\u001b[39m\u001b[38;5;124m\"\u001b[39m\u001b[38;5;124mIPython won\u001b[39m\u001b[38;5;124m'\u001b[39m\u001b[38;5;124mt let you open fd=\u001b[39m\u001b[38;5;132;01m{\u001b[39;00mfile\u001b[38;5;132;01m}\u001b[39;00m\u001b[38;5;124m by default \u001b[39m\u001b[38;5;124m\"\u001b[39m\n\u001b[0;32m    320\u001b[0m         \u001b[38;5;124m\"\u001b[39m\u001b[38;5;124mas it is likely to crash IPython. If you know what you are doing, \u001b[39m\u001b[38;5;124m\"\u001b[39m\n\u001b[0;32m    321\u001b[0m         \u001b[38;5;124m\"\u001b[39m\u001b[38;5;124myou can use builtins\u001b[39m\u001b[38;5;124m'\u001b[39m\u001b[38;5;124m open.\u001b[39m\u001b[38;5;124m\"\u001b[39m\n\u001b[0;32m    322\u001b[0m     )\n\u001b[1;32m--> 324\u001b[0m \u001b[38;5;28;01mreturn\u001b[39;00m io_open(file, \u001b[38;5;241m*\u001b[39margs, \u001b[38;5;241m*\u001b[39m\u001b[38;5;241m*\u001b[39mkwargs)\n",
      "\u001b[1;31mFileNotFoundError\u001b[0m: [Errno 2] No such file or directory: 'data/clean/movies_char/movies_characters_data.pkl'"
     ]
    }
   ],
   "source": [
    "# MOVIES AND CHARACTER DADASET\n",
    "# load class instance for mov_char_data\n",
    "mov_char_datapath = \"data/clean/movies_char/movies_characters_data.pkl\"\n",
    "with open(mov_char_datapath, 'rb') as f:\n",
    "    mov_char_data = pickle.load(f)\n",
    "\n",
    "\n",
    "print(\"movies_characters_data  loaded successfully\")\n",
    "mov_char_data.head(1) # Access the clean DataFrame\n"
   ]
  },
  {
   "cell_type": "markdown",
   "metadata": {},
   "source": [
    "## Names datasets\n",
    "\n",
    "In order to answer our research questions, we needed to find some birth registries from different countries. Those were freely available and we found datasets for the following countries:\n",
    "\n",
    "- France\n",
    "- USA\n",
    "- United Kingdom\n",
    "- Norway\n",
    "\n",
    "Since they all came from different places and didn't follow the same structure, we had to decide what kind of data was necessary for our project and what structure would be the most practical to work with. We ended-up with the following collumns in our dataframes:\n",
    "\n",
    "1. **Year** : An integer value giving the year of the count \n",
    "2. **Name** :  A string representing the name that was counted\n",
    "3. **Sex** : There are two possible characters, 'F' (female) and 'M' (male)\n",
    "4. **Count** : An integer value giving the count of the name during this year\n",
    "\n",
    "## Data homogenization\n",
    "\n",
    "The cleaning task was implement in the *clean_raw_data()* method of our different NamesData classes implementation (by country) and validated using the *check_clean_data()* method, available and shared by all the name datasets (python inheritance).\n",
    "\n",
    "### Column structure\n",
    "This task was not too difficult since it was mostly reordering, renaming the ones needed and dropping the ones that were not useful for our project. We also made sure that the same type was used on the collumns of the different datasets. \n",
    "\n",
    "### Year \n",
    "All of our dataset had the same year format, but some had missing values in this field, which made those row useless and they were therefore discarded.\n",
    "This collumn made it hard to find datasets from more countries, since a lot of them started to count only in the early 2000's, which doesn't give us enough data to detect real changes in the distribution. (The movie data base ends in 2012)\n",
    "\n",
    "### Name\n",
    "This was the hardest column to sanitize and clean since a lot of variation of a same name are possible. We ended by defining a regex expression do define what we would accept as a valid name : ^[A-Z-\\s\\']+$\n",
    "\n",
    "This allows us to limit ourselves to names composed only of capitalized letters, spaces, '-' for composed names and ''' for the some regional variations. This rule is really strict and would have made us lose a considerable proportion of our dataset. This is where the data cleaning process came to help homogenize our data and it mainly consisted of the following operations:\n",
    "\n",
    "- Converting all the name to uppercase\n",
    "- Removing all accents on letter, for example é becomes e.\n",
    "\n",
    "Some names have different spellings, for example you can write JEREMY and JEREMIE, but we decided to count this as two separate entries since grouping \"similar\" is out of the scope of this project and is not an uniformised concept.\n",
    "\n",
    "### Sex\n",
    "The french dataset had some integer values that we converted to the expected format. This field is useful for our research questions, but complicated the dataset research, since a lot of countries did not include this information in their registries.\n",
    "\n",
    "### Validation\n",
    "\n",
    "The python class representing our datasets contains a method *check_clean_data()* that checks multiple conditions to be sure that the data is uniform. \n",
    "\n",
    "- Checks the collumns' name\n",
    "- Checks if some missing values are present\n",
    "- Checks the data type of each collumn\n",
    "- Checks for duplicated rows (same name, same sex and same name)\n",
    "- Checks that the strings respects the defined regex expressions\n",
    "- Checks that the counts and years are coherent numbers \n",
    "\n",
    "## Demo\n",
    "\n",
    "Here, we will import and clean the data base to demonstrate the process.\n"
   ]
  },
  {
   "cell_type": "code",
   "execution_count": 6,
   "metadata": {},
   "outputs": [
    {
     "name": "stdout",
     "output_type": "stream",
     "text": [
      "NamesData  loaded successfully\n"
     ]
    },
    {
     "data": {
      "text/html": [
       "<div>\n",
       "<style scoped>\n",
       "    .dataframe tbody tr th:only-of-type {\n",
       "        vertical-align: middle;\n",
       "    }\n",
       "\n",
       "    .dataframe tbody tr th {\n",
       "        vertical-align: top;\n",
       "    }\n",
       "\n",
       "    .dataframe thead th {\n",
       "        text-align: right;\n",
       "    }\n",
       "</style>\n",
       "<table border=\"1\" class=\"dataframe\">\n",
       "  <thead>\n",
       "    <tr style=\"text-align: right;\">\n",
       "      <th></th>\n",
       "      <th>Year</th>\n",
       "      <th>Name</th>\n",
       "      <th>Sex</th>\n",
       "      <th>Count</th>\n",
       "    </tr>\n",
       "  </thead>\n",
       "  <tbody>\n",
       "    <tr>\n",
       "      <th>0</th>\n",
       "      <td>1880</td>\n",
       "      <td>AARON</td>\n",
       "      <td>M</td>\n",
       "      <td>102</td>\n",
       "    </tr>\n",
       "    <tr>\n",
       "      <th>1</th>\n",
       "      <td>1880</td>\n",
       "      <td>AB</td>\n",
       "      <td>M</td>\n",
       "      <td>5</td>\n",
       "    </tr>\n",
       "    <tr>\n",
       "      <th>2</th>\n",
       "      <td>1880</td>\n",
       "      <td>ABBIE</td>\n",
       "      <td>F</td>\n",
       "      <td>71</td>\n",
       "    </tr>\n",
       "    <tr>\n",
       "      <th>3</th>\n",
       "      <td>1880</td>\n",
       "      <td>ABBOTT</td>\n",
       "      <td>M</td>\n",
       "      <td>5</td>\n",
       "    </tr>\n",
       "    <tr>\n",
       "      <th>4</th>\n",
       "      <td>1880</td>\n",
       "      <td>ABBY</td>\n",
       "      <td>F</td>\n",
       "      <td>6</td>\n",
       "    </tr>\n",
       "  </tbody>\n",
       "</table>\n",
       "</div>"
      ],
      "text/plain": [
       "   Year    Name Sex  Count\n",
       "0  1880   AARON   M    102\n",
       "1  1880      AB   M      5\n",
       "2  1880   ABBIE   F     71\n",
       "3  1880  ABBOTT   M      5\n",
       "4  1880    ABBY   F      6"
      ]
     },
     "execution_count": 6,
     "metadata": {},
     "output_type": "execute_result"
    }
   ],
   "source": [
    "# NAMES \n",
    "global_names_path = \"data/clean/names/global_names.pkl\"\n",
    "with open(global_names_path, \"rb\") as f:\n",
    "    global_names = pickle.load(f)\n",
    "\n",
    "print(\"NamesData  loaded successfully\")\n",
    "global_names.clean_df.head() # Access the clean DataFrame\n",
    "\n"
   ]
  },
  {
   "cell_type": "markdown",
   "metadata": {},
   "source": [
    "## Feature of movies and characters dataset visualization\n",
    "\n",
    "Lets visualize the different information from the datasets."
   ]
  },
  {
   "cell_type": "code",
   "execution_count": 4,
   "metadata": {},
   "outputs": [],
   "source": [
    "from src.utils.data_utils import *"
   ]
  },
  {
   "cell_type": "code",
   "execution_count": null,
   "metadata": {},
   "outputs": [],
   "source": [
    "# Number of Nan values in the Movies & Character dataset\n",
    "mov_char_data.isna().sum()"
   ]
  },
  {
   "cell_type": "code",
   "execution_count": null,
   "metadata": {},
   "outputs": [],
   "source": [
    "# Visualizing the number of missing values per columns\n",
    "nan_percentage = mov_char_data.isnull().mean().sort_values(ascending=False)\n",
    "\n",
    "# Plot the percentage of NaN values per column\n",
    "ax = nan_percentage.plot(kind='bar', figsize=(16, 8), color='skyblue')\n",
    "plt.ylabel('Percentage of NaN values')\n",
    "plt.title('Percentage of NaN values in % per column', fontsize=20)\n",
    "for p in ax.patches:\n",
    "    ax.annotate(f'{p.get_height():.2%}', (p.get_x() + p.get_width() / 2., p.get_height()),\n",
    "                ha='center', va='center', xytext=(0, 10), textcoords='offset points')\n",
    "plt.show()"
   ]
  },
  {
   "cell_type": "markdown",
   "metadata": {},
   "source": [
    "This graph illustrates the distribution of columns based on the percentage of NaN values present in each. It helps us understand how missing data is spread across different features, highlighting columns with higher or lower levels of incompleteness.\n",
    "With the revenue features we could have deducted if a movie was a blockbuster, but unfortunately there is too many missing values so we will do an other method."
   ]
  },
  {
   "cell_type": "code",
   "execution_count": null,
   "metadata": {},
   "outputs": [],
   "source": [
    "# Descriptive statistics for each column in dataframe with .head() method\n",
    "mov_char_data.describe(include='all').head()"
   ]
  },
  {
   "cell_type": "markdown",
   "metadata": {},
   "source": [
    "####  Visualizing the top 50 movies with biggest Revenue\n"
   ]
  },
  {
   "cell_type": "code",
   "execution_count": null,
   "metadata": {},
   "outputs": [],
   "source": [
    "# Group by the Movie name \n",
    "top_50_movies = mov_char_data.groupby('Movie_name')['Revenue'].sum().sort_values(ascending=False).head(50)\n",
    "plt.figure(figsize=(16, 8))\n",
    "sns.barplot(x=top_50_movies.values, y=top_50_movies.index, palette='viridis')\n",
    "plt.xlabel('Revenue (billion dollars)')\n",
    "plt.ylabel('Movie Name')\n",
    "plt.title('Top 50 movies with biggest Revenue', fontsize=20)\n",
    "plt.show()\n",
    "\n"
   ]
  },
  {
   "cell_type": "markdown",
   "metadata": {},
   "source": [
    "#### Information about Release_date"
   ]
  },
  {
   "cell_type": "code",
   "execution_count": null,
   "metadata": {},
   "outputs": [],
   "source": [
    "# Visualizing the Release_date column information with sns with the number of movies on the top of each bar\n",
    "# converting the colum to datetime\n",
    "mov_char_data['Release_date'] = pd.to_datetime(mov_char_data['Release_date'])   \n",
    "plt.figure(figsize=(10, 5))\n",
    "sns.histplot(mov_char_data['Release_date'].dt.year.dropna(), bins=range(1900, 2025, 1), kde=False)\n",
    "plt.title('Number of movies released per year')\n",
    "plt.xlabel('Year')\n",
    "plt.ylabel('Number of movies')\n",
    "plt.show()\n"
   ]
  },
  {
   "cell_type": "markdown",
   "metadata": {},
   "source": [
    "#### Information about countries"
   ]
  },
  {
   "cell_type": "code",
   "execution_count": null,
   "metadata": {},
   "outputs": [],
   "source": [
    "# grouping the movies by country\n",
    "movies_by_country = mov_char_data['Countries'].str.split(', ', expand=True).stack().reset_index(level=1, drop=True).rename('Country')\n",
    "movies_by_country = movies_by_country[movies_by_country != ''].value_counts()\n",
    "\n",
    "plt.figure(figsize=(20, 10))\n",
    "sns.barplot(x=movies_by_country.head(50), y=movies_by_country.head(50).index)\n",
    "\n",
    "for i, val in enumerate(movies_by_country.head(50)):\n",
    "    plt.text(val, i, val, ha='left', va='center')\n",
    "\n",
    "plt.title('Number of movies by country, font size = 20')\n",
    "plt.xlabel('Number of movies')\n",
    "plt.ylabel('Country')\n",
    "plt.show()\n"
   ]
  },
  {
   "cell_type": "markdown",
   "metadata": {},
   "source": [
    "#### Information about language"
   ]
  },
  {
   "cell_type": "code",
   "execution_count": null,
   "metadata": {},
   "outputs": [],
   "source": [
    "# grouping the movies by country\n",
    "movies_by_country = mov_char_data['Countries'].str.split(', ', expand=True).stack().reset_index(level=1, drop=True).rename('Country')\n",
    "movies_by_country = movies_by_country[movies_by_country != ''].value_counts()\n",
    "\n",
    "plt.figure(figsize=(20, 10))\n",
    "sns.barplot(x=movies_by_country.head(50), y=movies_by_country.head(50).index)\n",
    "\n",
    "for i, val in enumerate(movies_by_country.head(50)):\n",
    "    plt.text(val, i, val, ha='left', va='center')\n",
    "\n",
    "plt.title('Number of movies by country, font size = 20')\n",
    "plt.xlabel('Number of movies')\n",
    "plt.ylabel('Country')\n",
    "plt.show()\n"
   ]
  },
  {
   "cell_type": "markdown",
   "metadata": {},
   "source": [
    "It is obvious that the initial dataset is centered on occidental world, aside from the presence of indian movies. Fortunately it coincides with the fact that it is harder for us to find baby names data from non-occidental countries."
   ]
  },
  {
   "cell_type": "code",
   "execution_count": null,
   "metadata": {},
   "outputs": [],
   "source": [
    "# Grouping movies by genre and counting the occurrences\n",
    "movies_by_genre = mov_char_data['Genres'].str.split(', ', expand=True).stack().reset_index(level=1, drop=True).rename('Genre')\n",
    "movies_by_genre = movies_by_genre[movies_by_genre != ''].value_counts()\n",
    "\n",
    "# Group all genres beyond the top 10 into \"Other\"\n",
    "top_10_genres = movies_by_genre[:10]\n",
    "\n",
    "\n",
    "# Visualizing the top 10 genres with a pie chart\n",
    "plt.figure(figsize=(6, 6))\n",
    "plt.pie(top_10_genres, labels=top_10_genres.index, autopct='%1.1f%%', startangle=140)\n",
    "plt.title('10 Most Present Genres of Movies')\n",
    "plt.show()\n",
    "\n"
   ]
  },
  {
   "cell_type": "code",
   "execution_count": null,
   "metadata": {},
   "outputs": [],
   "source": [
    "# Isolting the genders columns\n",
    "new_df = mov_char_data[['Actor_gender', 'Actor_name']]\n",
    "new_df.head()\n",
    "\n",
    "\n",
    "gender_counts = new_df['Actor_gender'].value_counts()\n",
    "\n",
    "# Calculate percentages\n",
    "gender_percentages = gender_counts / gender_counts.sum() * 100\n",
    "\n",
    "# Plotting the percentages using a pie chart\n",
    "plt.figure(figsize=(4, 4))\n",
    "plt.pie(gender_percentages, labels=gender_percentages.index, autopct='%1.1f%%', startangle=90)\n",
    "plt.title('Percentage of Actor Genders')\n",
    "plt.show()\n"
   ]
  },
  {
   "cell_type": "markdown",
   "metadata": {},
   "source": [
    "### Correlation matrix "
   ]
  },
  {
   "cell_type": "code",
   "execution_count": 14,
   "metadata": {},
   "outputs": [],
   "source": [
    "def encode_categorical_features(df):\n",
    "    # Identify categorical features\n",
    "    categorical_features = df.select_dtypes(include=['object', 'category']).columns\n",
    "    \n",
    "    # Initialize a LabelEncoder\n",
    "    le = LabelEncoder()\n",
    "    \n",
    "    # Apply label encoding to each categorical feature\n",
    "    for feature in categorical_features:\n",
    "        df[feature] = le.fit_transform(df[feature].astype(str))\n",
    "    \n",
    "    return df\n",
    "\n",
    "def plot_correlation_matrix(df):\n",
    "    # Encode categorical features\n",
    "    df_encoded = encode_categorical_features(df.copy())\n",
    "    \n",
    "    # Calculate the correlation matrix, automatically excluding NaN values\n",
    "    corr_matrix = df_encoded.corr()\n",
    "    \n",
    "    # Plot the heatmap\n",
    "    plt.figure(figsize=(12, 10))\n",
    "    sns.heatmap(corr_matrix, annot=True, fmt='.2f', cmap='coolwarm', cbar=True, square=True)\n",
    "    plt.title('Correlation Matrix')\n",
    "    plt.show()"
   ]
  },
  {
   "cell_type": "code",
   "execution_count": null,
   "metadata": {},
   "outputs": [],
   "source": [
    "plot_correlation_matrix(mov_char_data)"
   ]
  },
  {
   "cell_type": "markdown",
   "metadata": {},
   "source": [
    "#### Conclusion of this feature visualisation:\n",
    "\n",
    "This visualisation on the dataset gives us a first insight of the content of the dataset and to see that there is a occidental domination on the dataset considering the language, countries for example."
   ]
  },
  {
   "cell_type": "markdown",
   "metadata": {},
   "source": [
    "## Trend evaluation\n",
    "To assess what impact a movie had on child naming, we first try a simple model that computes the average count of babies named like a character 5 years before and 5 years after the movie's release, and compute their difference. The higher it is, the higher the trend the year the film was released.\n",
    "\n",
    "Here is a demo of the model printing the top10 trend-inducing character names"
   ]
  },
  {
   "cell_type": "code",
   "execution_count": 7,
   "metadata": {},
   "outputs": [],
   "source": [
    "# IMDB VOTES AND RATINGS\n",
    "mov_char_data = pd.read_csv(\"data/clean/movies_char/CMU_movies_chars.csv\")\n",
    "cmu_imdb = pd.read_csv(\"data/clean/CMU_IMDB_merged.csv\")\n"
   ]
  },
  {
   "cell_type": "code",
   "execution_count": 8,
   "metadata": {},
   "outputs": [
    {
     "data": {
      "text/html": [
       "<div>\n",
       "<style scoped>\n",
       "    .dataframe tbody tr th:only-of-type {\n",
       "        vertical-align: middle;\n",
       "    }\n",
       "\n",
       "    .dataframe tbody tr th {\n",
       "        vertical-align: top;\n",
       "    }\n",
       "\n",
       "    .dataframe thead th {\n",
       "        text-align: right;\n",
       "    }\n",
       "</style>\n",
       "<table border=\"1\" class=\"dataframe\">\n",
       "  <thead>\n",
       "    <tr style=\"text-align: right;\">\n",
       "      <th></th>\n",
       "      <th>Wikipedia_movie_ID</th>\n",
       "      <th>Movie_name</th>\n",
       "      <th>Release_date</th>\n",
       "      <th>Revenue</th>\n",
       "      <th>Runtime</th>\n",
       "      <th>Languages</th>\n",
       "      <th>Countries</th>\n",
       "      <th>Genres</th>\n",
       "      <th>weightedAverageRating</th>\n",
       "      <th>totalVotes</th>\n",
       "      <th>is_blockbuster</th>\n",
       "    </tr>\n",
       "  </thead>\n",
       "  <tbody>\n",
       "    <tr>\n",
       "      <th>45330</th>\n",
       "      <td>30625.0</td>\n",
       "      <td>the shawshank redemption</td>\n",
       "      <td>1994-09-10</td>\n",
       "      <td>2.834147e+07</td>\n",
       "      <td>0 days 02:22:00</td>\n",
       "      <td>English</td>\n",
       "      <td>United States of America</td>\n",
       "      <td>Crime Fiction, Buddy film, Prison film, Drama,...</td>\n",
       "      <td>9.3</td>\n",
       "      <td>2972813.0</td>\n",
       "      <td>True</td>\n",
       "    </tr>\n",
       "    <tr>\n",
       "      <th>39738</th>\n",
       "      <td>4276475.0</td>\n",
       "      <td>the dark knight</td>\n",
       "      <td>2008-07-16</td>\n",
       "      <td>1.004558e+09</td>\n",
       "      <td>0 days 02:33:00</td>\n",
       "      <td>Standard Mandarin, English</td>\n",
       "      <td>United States of America, United Kingdom</td>\n",
       "      <td>Crime Fiction, Thriller, Superhero movie, Crim...</td>\n",
       "      <td>9.0</td>\n",
       "      <td>2953990.0</td>\n",
       "      <td>True</td>\n",
       "    </tr>\n",
       "    <tr>\n",
       "      <th>18897</th>\n",
       "      <td>23270459.0</td>\n",
       "      <td>inception</td>\n",
       "      <td>2010-07-08</td>\n",
       "      <td>8.255328e+08</td>\n",
       "      <td>0 days 02:28:00</td>\n",
       "      <td>French, Japanese, English</td>\n",
       "      <td>United States of America, United Kingdom</td>\n",
       "      <td>Thriller, Science Fiction, Adventure, Psycholo...</td>\n",
       "      <td>8.8</td>\n",
       "      <td>2621473.0</td>\n",
       "      <td>True</td>\n",
       "    </tr>\n",
       "    <tr>\n",
       "      <th>13757</th>\n",
       "      <td>1009041.0</td>\n",
       "      <td>fight club</td>\n",
       "      <td>1999-09-10</td>\n",
       "      <td>1.009000e+08</td>\n",
       "      <td>0 days 02:12:00</td>\n",
       "      <td>English</td>\n",
       "      <td>United States of America, Germany</td>\n",
       "      <td>Thriller, Action/Adventure, Existentialism, Ps...</td>\n",
       "      <td>8.8</td>\n",
       "      <td>2402927.0</td>\n",
       "      <td>True</td>\n",
       "    </tr>\n",
       "    <tr>\n",
       "      <th>14451</th>\n",
       "      <td>41528.0</td>\n",
       "      <td>forrest gump</td>\n",
       "      <td>1994-06-23</td>\n",
       "      <td>6.773877e+08</td>\n",
       "      <td>0 days 02:16:00</td>\n",
       "      <td>English</td>\n",
       "      <td>United States of America</td>\n",
       "      <td>Coming of age, Comedy film, Drama, War film, R...</td>\n",
       "      <td>8.8</td>\n",
       "      <td>2326220.0</td>\n",
       "      <td>True</td>\n",
       "    </tr>\n",
       "    <tr>\n",
       "      <th>30852</th>\n",
       "      <td>54173.0</td>\n",
       "      <td>pulp fiction</td>\n",
       "      <td>1994-01-01</td>\n",
       "      <td>2.139288e+08</td>\n",
       "      <td>0 days 02:48:00</td>\n",
       "      <td>French, English, Spanish</td>\n",
       "      <td>United States of America</td>\n",
       "      <td>Crime Fiction, Thriller, Crime Comedy, Indie, ...</td>\n",
       "      <td>8.9</td>\n",
       "      <td>2282173.0</td>\n",
       "      <td>True</td>\n",
       "    </tr>\n",
       "    <tr>\n",
       "      <th>43286</th>\n",
       "      <td>30007.0</td>\n",
       "      <td>the matrix</td>\n",
       "      <td>1999-03-31</td>\n",
       "      <td>4.635174e+08</td>\n",
       "      <td>0 days 02:15:00</td>\n",
       "      <td>English</td>\n",
       "      <td>United States of America, Australia</td>\n",
       "      <td>Thriller, Science Fiction, Adventure, Doomsday...</td>\n",
       "      <td>8.7</td>\n",
       "      <td>2109922.0</td>\n",
       "      <td>True</td>\n",
       "    </tr>\n",
       "    <tr>\n",
       "      <th>41057</th>\n",
       "      <td>2466773.0</td>\n",
       "      <td>the godfather</td>\n",
       "      <td>1972-03-15</td>\n",
       "      <td>2.685000e+08</td>\n",
       "      <td>0 days 02:57:00</td>\n",
       "      <td>Latin, Italian, Sicilian, English</td>\n",
       "      <td>United States of America</td>\n",
       "      <td>Crime Fiction, Gangster Film, Crime Drama, Fam...</td>\n",
       "      <td>9.2</td>\n",
       "      <td>2073581.0</td>\n",
       "      <td>True</td>\n",
       "    </tr>\n",
       "    <tr>\n",
       "      <th>42828</th>\n",
       "      <td>173941.0</td>\n",
       "      <td>the lord of the rings: the fellowship of the ring</td>\n",
       "      <td>2001-12-10</td>\n",
       "      <td>8.715303e+08</td>\n",
       "      <td>0 days 02:58:00</td>\n",
       "      <td>English</td>\n",
       "      <td>United States of America, New Zealand</td>\n",
       "      <td>Fantasy Adventure, Adventure, Epic, Fantasy, F...</td>\n",
       "      <td>8.9</td>\n",
       "      <td>2064367.0</td>\n",
       "      <td>True</td>\n",
       "    </tr>\n",
       "    <tr>\n",
       "      <th>42829</th>\n",
       "      <td>174251.0</td>\n",
       "      <td>the lord of the rings: the return of the king</td>\n",
       "      <td>2003-12-17</td>\n",
       "      <td>1.119930e+09</td>\n",
       "      <td>0 days 04:10:00</td>\n",
       "      <td>Old English language, English</td>\n",
       "      <td>United States of America, New Zealand</td>\n",
       "      <td>Fantasy Adventure, Adventure, Epic, Action/Adv...</td>\n",
       "      <td>9.0</td>\n",
       "      <td>2034710.0</td>\n",
       "      <td>True</td>\n",
       "    </tr>\n",
       "    <tr>\n",
       "      <th>39739</th>\n",
       "      <td>29075630.0</td>\n",
       "      <td>the dark knight rises</td>\n",
       "      <td>2012-07-16</td>\n",
       "      <td>1.078009e+09</td>\n",
       "      <td>0 days 02:45:00</td>\n",
       "      <td>English</td>\n",
       "      <td>United States of America, United Kingdom</td>\n",
       "      <td>Crime Fiction, Thriller, Action, Drama</td>\n",
       "      <td>8.4</td>\n",
       "      <td>1876577.0</td>\n",
       "      <td>True</td>\n",
       "    </tr>\n",
       "    <tr>\n",
       "      <th>42830</th>\n",
       "      <td>173944.0</td>\n",
       "      <td>the lord of the rings: the two towers</td>\n",
       "      <td>2002-12-05</td>\n",
       "      <td>9.260471e+08</td>\n",
       "      <td>0 days 02:59:00</td>\n",
       "      <td>Old English language, English</td>\n",
       "      <td>United States of America, New Zealand</td>\n",
       "      <td>Fantasy Adventure, Adventure, Epic, Action/Adv...</td>\n",
       "      <td>8.8</td>\n",
       "      <td>1834754.0</td>\n",
       "      <td>True</td>\n",
       "    </tr>\n",
       "    <tr>\n",
       "      <th>11232</th>\n",
       "      <td>31638720.0</td>\n",
       "      <td>django unchained</td>\n",
       "      <td>2012-12-25</td>\n",
       "      <td>NaN</td>\n",
       "      <td>NaN</td>\n",
       "      <td>NaN</td>\n",
       "      <td>United States of America</td>\n",
       "      <td>Western, Spaghetti Western, Drama</td>\n",
       "      <td>8.5</td>\n",
       "      <td>1746899.0</td>\n",
       "      <td>True</td>\n",
       "    </tr>\n",
       "    <tr>\n",
       "      <th>15543</th>\n",
       "      <td>3616797.0</td>\n",
       "      <td>gladiator</td>\n",
       "      <td>2000-05-01</td>\n",
       "      <td>4.576404e+08</td>\n",
       "      <td>0 days 02:35:00</td>\n",
       "      <td>English</td>\n",
       "      <td>United States of America, United Kingdom</td>\n",
       "      <td>Tragedy, Adventure, Costume drama, Epic, Drama...</td>\n",
       "      <td>8.5</td>\n",
       "      <td>1696447.0</td>\n",
       "      <td>True</td>\n",
       "    </tr>\n",
       "    <tr>\n",
       "      <th>15544</th>\n",
       "      <td>6804043.0</td>\n",
       "      <td>gladiator</td>\n",
       "      <td>2000-01-01</td>\n",
       "      <td>9.223441e+06</td>\n",
       "      <td>0 days 01:41:00</td>\n",
       "      <td>American English</td>\n",
       "      <td>United States of America</td>\n",
       "      <td>Crime Fiction, Sports, Drama, Boxing, Teen</td>\n",
       "      <td>8.5</td>\n",
       "      <td>1696447.0</td>\n",
       "      <td>True</td>\n",
       "    </tr>\n",
       "    <tr>\n",
       "      <th>18976</th>\n",
       "      <td>633052.0</td>\n",
       "      <td>inglourious basterds</td>\n",
       "      <td>2009-05-20</td>\n",
       "      <td>3.203894e+08</td>\n",
       "      <td>0 days 02:32:00</td>\n",
       "      <td>French, Italian, German, English</td>\n",
       "      <td>United States of America, France, Germany</td>\n",
       "      <td>Thriller, Black comedy, Action/Adventure, Dram...</td>\n",
       "      <td>8.4</td>\n",
       "      <td>1635449.0</td>\n",
       "      <td>True</td>\n",
       "    </tr>\n",
       "    <tr>\n",
       "      <th>4541</th>\n",
       "      <td>481605.0</td>\n",
       "      <td>batman begins</td>\n",
       "      <td>2005-06-10</td>\n",
       "      <td>3.727100e+08</td>\n",
       "      <td>0 days 02:21:00</td>\n",
       "      <td>Standard Mandarin, Urdu, English</td>\n",
       "      <td>United States of America, United Kingdom</td>\n",
       "      <td>Crime Fiction, Thriller, Superhero movie, Crim...</td>\n",
       "      <td>8.2</td>\n",
       "      <td>1616765.0</td>\n",
       "      <td>True</td>\n",
       "    </tr>\n",
       "    <tr>\n",
       "      <th>45404</th>\n",
       "      <td>30006.0</td>\n",
       "      <td>the silence of the lambs</td>\n",
       "      <td>1991-02-14</td>\n",
       "      <td>2.727429e+08</td>\n",
       "      <td>0 days 01:58:00</td>\n",
       "      <td>English</td>\n",
       "      <td>United States of America</td>\n",
       "      <td>Thriller, LGBT, Horror, Psychological thriller...</td>\n",
       "      <td>8.6</td>\n",
       "      <td>1596712.0</td>\n",
       "      <td>True</td>\n",
       "    </tr>\n",
       "    <tr>\n",
       "      <th>20076</th>\n",
       "      <td>29769807.0</td>\n",
       "      <td>joker</td>\n",
       "      <td>2012-08-30</td>\n",
       "      <td>NaN</td>\n",
       "      <td>NaN</td>\n",
       "      <td>Hindi</td>\n",
       "      <td>India</td>\n",
       "      <td>Fantasy, Adventure</td>\n",
       "      <td>8.4</td>\n",
       "      <td>1565657.0</td>\n",
       "      <td>True</td>\n",
       "    </tr>\n",
       "    <tr>\n",
       "      <th>33391</th>\n",
       "      <td>28269.0</td>\n",
       "      <td>saving private ryan</td>\n",
       "      <td>1998-07-24</td>\n",
       "      <td>4.818409e+08</td>\n",
       "      <td>0 days 02:49:00</td>\n",
       "      <td>French, Czech, German, English</td>\n",
       "      <td>United States of America</td>\n",
       "      <td>Ensemble Film, History, Drama, War film, Actio...</td>\n",
       "      <td>8.6</td>\n",
       "      <td>1537045.0</td>\n",
       "      <td>True</td>\n",
       "    </tr>\n",
       "  </tbody>\n",
       "</table>\n",
       "</div>"
      ],
      "text/plain": [
       "       Wikipedia_movie_ID                                         Movie_name  \\\n",
       "45330             30625.0                           the shawshank redemption   \n",
       "39738           4276475.0                                    the dark knight   \n",
       "18897          23270459.0                                          inception   \n",
       "13757           1009041.0                                         fight club   \n",
       "14451             41528.0                                       forrest gump   \n",
       "30852             54173.0                                       pulp fiction   \n",
       "43286             30007.0                                         the matrix   \n",
       "41057           2466773.0                                      the godfather   \n",
       "42828            173941.0  the lord of the rings: the fellowship of the ring   \n",
       "42829            174251.0      the lord of the rings: the return of the king   \n",
       "39739          29075630.0                              the dark knight rises   \n",
       "42830            173944.0              the lord of the rings: the two towers   \n",
       "11232          31638720.0                                   django unchained   \n",
       "15543           3616797.0                                          gladiator   \n",
       "15544           6804043.0                                          gladiator   \n",
       "18976            633052.0                               inglourious basterds   \n",
       "4541             481605.0                                      batman begins   \n",
       "45404             30006.0                           the silence of the lambs   \n",
       "20076          29769807.0                                              joker   \n",
       "33391             28269.0                                saving private ryan   \n",
       "\n",
       "      Release_date       Revenue          Runtime  \\\n",
       "45330   1994-09-10  2.834147e+07  0 days 02:22:00   \n",
       "39738   2008-07-16  1.004558e+09  0 days 02:33:00   \n",
       "18897   2010-07-08  8.255328e+08  0 days 02:28:00   \n",
       "13757   1999-09-10  1.009000e+08  0 days 02:12:00   \n",
       "14451   1994-06-23  6.773877e+08  0 days 02:16:00   \n",
       "30852   1994-01-01  2.139288e+08  0 days 02:48:00   \n",
       "43286   1999-03-31  4.635174e+08  0 days 02:15:00   \n",
       "41057   1972-03-15  2.685000e+08  0 days 02:57:00   \n",
       "42828   2001-12-10  8.715303e+08  0 days 02:58:00   \n",
       "42829   2003-12-17  1.119930e+09  0 days 04:10:00   \n",
       "39739   2012-07-16  1.078009e+09  0 days 02:45:00   \n",
       "42830   2002-12-05  9.260471e+08  0 days 02:59:00   \n",
       "11232   2012-12-25           NaN              NaN   \n",
       "15543   2000-05-01  4.576404e+08  0 days 02:35:00   \n",
       "15544   2000-01-01  9.223441e+06  0 days 01:41:00   \n",
       "18976   2009-05-20  3.203894e+08  0 days 02:32:00   \n",
       "4541    2005-06-10  3.727100e+08  0 days 02:21:00   \n",
       "45404   1991-02-14  2.727429e+08  0 days 01:58:00   \n",
       "20076   2012-08-30           NaN              NaN   \n",
       "33391   1998-07-24  4.818409e+08  0 days 02:49:00   \n",
       "\n",
       "                               Languages  \\\n",
       "45330                            English   \n",
       "39738         Standard Mandarin, English   \n",
       "18897          French, Japanese, English   \n",
       "13757                            English   \n",
       "14451                            English   \n",
       "30852           French, English, Spanish   \n",
       "43286                            English   \n",
       "41057  Latin, Italian, Sicilian, English   \n",
       "42828                            English   \n",
       "42829      Old English language, English   \n",
       "39739                            English   \n",
       "42830      Old English language, English   \n",
       "11232                                NaN   \n",
       "15543                            English   \n",
       "15544                   American English   \n",
       "18976   French, Italian, German, English   \n",
       "4541    Standard Mandarin, Urdu, English   \n",
       "45404                            English   \n",
       "20076                              Hindi   \n",
       "33391     French, Czech, German, English   \n",
       "\n",
       "                                       Countries  \\\n",
       "45330                   United States of America   \n",
       "39738   United States of America, United Kingdom   \n",
       "18897   United States of America, United Kingdom   \n",
       "13757          United States of America, Germany   \n",
       "14451                   United States of America   \n",
       "30852                   United States of America   \n",
       "43286        United States of America, Australia   \n",
       "41057                   United States of America   \n",
       "42828      United States of America, New Zealand   \n",
       "42829      United States of America, New Zealand   \n",
       "39739   United States of America, United Kingdom   \n",
       "42830      United States of America, New Zealand   \n",
       "11232                   United States of America   \n",
       "15543   United States of America, United Kingdom   \n",
       "15544                   United States of America   \n",
       "18976  United States of America, France, Germany   \n",
       "4541    United States of America, United Kingdom   \n",
       "45404                   United States of America   \n",
       "20076                                      India   \n",
       "33391                   United States of America   \n",
       "\n",
       "                                                  Genres  \\\n",
       "45330  Crime Fiction, Buddy film, Prison film, Drama,...   \n",
       "39738  Crime Fiction, Thriller, Superhero movie, Crim...   \n",
       "18897  Thriller, Science Fiction, Adventure, Psycholo...   \n",
       "13757  Thriller, Action/Adventure, Existentialism, Ps...   \n",
       "14451  Coming of age, Comedy film, Drama, War film, R...   \n",
       "30852  Crime Fiction, Thriller, Crime Comedy, Indie, ...   \n",
       "43286  Thriller, Science Fiction, Adventure, Doomsday...   \n",
       "41057  Crime Fiction, Gangster Film, Crime Drama, Fam...   \n",
       "42828  Fantasy Adventure, Adventure, Epic, Fantasy, F...   \n",
       "42829  Fantasy Adventure, Adventure, Epic, Action/Adv...   \n",
       "39739             Crime Fiction, Thriller, Action, Drama   \n",
       "42830  Fantasy Adventure, Adventure, Epic, Action/Adv...   \n",
       "11232                  Western, Spaghetti Western, Drama   \n",
       "15543  Tragedy, Adventure, Costume drama, Epic, Drama...   \n",
       "15544         Crime Fiction, Sports, Drama, Boxing, Teen   \n",
       "18976  Thriller, Black comedy, Action/Adventure, Dram...   \n",
       "4541   Crime Fiction, Thriller, Superhero movie, Crim...   \n",
       "45404  Thriller, LGBT, Horror, Psychological thriller...   \n",
       "20076                                 Fantasy, Adventure   \n",
       "33391  Ensemble Film, History, Drama, War film, Actio...   \n",
       "\n",
       "       weightedAverageRating  totalVotes  is_blockbuster  \n",
       "45330                    9.3   2972813.0            True  \n",
       "39738                    9.0   2953990.0            True  \n",
       "18897                    8.8   2621473.0            True  \n",
       "13757                    8.8   2402927.0            True  \n",
       "14451                    8.8   2326220.0            True  \n",
       "30852                    8.9   2282173.0            True  \n",
       "43286                    8.7   2109922.0            True  \n",
       "41057                    9.2   2073581.0            True  \n",
       "42828                    8.9   2064367.0            True  \n",
       "42829                    9.0   2034710.0            True  \n",
       "39739                    8.4   1876577.0            True  \n",
       "42830                    8.8   1834754.0            True  \n",
       "11232                    8.5   1746899.0            True  \n",
       "15543                    8.5   1696447.0            True  \n",
       "15544                    8.5   1696447.0            True  \n",
       "18976                    8.4   1635449.0            True  \n",
       "4541                     8.2   1616765.0            True  \n",
       "45404                    8.6   1596712.0            True  \n",
       "20076                    8.4   1565657.0            True  \n",
       "33391                    8.6   1537045.0            True  "
      ]
     },
     "execution_count": 8,
     "metadata": {},
     "output_type": "execute_result"
    }
   ],
   "source": [
    "# Ranking the top 50 movies by IMDB rating and total votes\n",
    "top_50_movies = cmu_imdb.sort_values('totalVotes', ascending=False)\n",
    "top_50_movies.head(20)"
   ]
  },
  {
   "cell_type": "code",
   "execution_count": 24,
   "metadata": {},
   "outputs": [
    {
     "name": "stdout",
     "output_type": "stream",
     "text": [
      "Expanded dataset instance loaded successfully\n"
     ]
    },
    {
     "data": {
      "text/html": [
       "<div>\n",
       "<style scoped>\n",
       "    .dataframe tbody tr th:only-of-type {\n",
       "        vertical-align: middle;\n",
       "    }\n",
       "\n",
       "    .dataframe tbody tr th {\n",
       "        vertical-align: top;\n",
       "    }\n",
       "\n",
       "    .dataframe thead th {\n",
       "        text-align: right;\n",
       "    }\n",
       "</style>\n",
       "<table border=\"1\" class=\"dataframe\">\n",
       "  <thead>\n",
       "    <tr style=\"text-align: right;\">\n",
       "      <th></th>\n",
       "      <th>Wikipedia_movie_ID</th>\n",
       "      <th>Movie_name</th>\n",
       "      <th>Release_date</th>\n",
       "      <th>Revenue</th>\n",
       "      <th>Runtime</th>\n",
       "      <th>Languages</th>\n",
       "      <th>Countries</th>\n",
       "      <th>Genres</th>\n",
       "      <th>Character_name</th>\n",
       "      <th>Actor_DOB</th>\n",
       "      <th>Actor_gender</th>\n",
       "      <th>Actor_height</th>\n",
       "      <th>Actor_name</th>\n",
       "      <th>Actor_age</th>\n",
       "      <th>primaryTitle</th>\n",
       "      <th>weightedAverageRating</th>\n",
       "      <th>totalVotes</th>\n",
       "      <th>isBlockbuster</th>\n",
       "    </tr>\n",
       "  </thead>\n",
       "  <tbody>\n",
       "    <tr>\n",
       "      <th>0</th>\n",
       "      <td>3196793</td>\n",
       "      <td>Getting Away with Murder: The JonBenét Ramsey ...</td>\n",
       "      <td>2000-02-16</td>\n",
       "      <td>NaN</td>\n",
       "      <td>0 days 01:35:00</td>\n",
       "      <td>English</td>\n",
       "      <td>United States of America</td>\n",
       "      <td>Mystery, Biographical film, Drama, Crime Drama</td>\n",
       "      <td>POLICE OFFICER</td>\n",
       "      <td>NaT</td>\n",
       "      <td>M</td>\n",
       "      <td>NaN</td>\n",
       "      <td>ALLEN CUTLER</td>\n",
       "      <td>NaN</td>\n",
       "      <td>NaN</td>\n",
       "      <td>NaN</td>\n",
       "      <td>NaN</td>\n",
       "      <td>NaN</td>\n",
       "    </tr>\n",
       "  </tbody>\n",
       "</table>\n",
       "</div>"
      ],
      "text/plain": [
       "   Wikipedia_movie_ID                                         Movie_name  \\\n",
       "0             3196793  Getting Away with Murder: The JonBenét Ramsey ...   \n",
       "\n",
       "  Release_date  Revenue         Runtime Languages                 Countries  \\\n",
       "0   2000-02-16      NaN 0 days 01:35:00   English  United States of America   \n",
       "\n",
       "                                           Genres  Character_name Actor_DOB  \\\n",
       "0  Mystery, Biographical film, Drama, Crime Drama  POLICE OFFICER       NaT   \n",
       "\n",
       "  Actor_gender  Actor_height    Actor_name  Actor_age primaryTitle  \\\n",
       "0            M           NaN  ALLEN CUTLER        NaN          NaN   \n",
       "\n",
       "   weightedAverageRating  totalVotes isBlockbuster  \n",
       "0                    NaN         NaN           NaN  "
      ]
     },
     "execution_count": 24,
     "metadata": {},
     "output_type": "execute_result"
    }
   ],
   "source": [
    "# EXPANDED DATA: MOVIES, CHARACTERS, IMDB VOTES AND RATINGS\n",
    "expanded_datapath = \"data/clean/expanded/expanded_df.pkl\"\n",
    "with open(expanded_datapath, 'rb') as f:\n",
    "    expanded_imdb_mov_char_data = pickle.load(f)\n",
    "\n",
    "print(\"Expanded dataset instance loaded successfully\")\n",
    "expanded_imdb_mov_char_data.head(1) # Access the clean DataFrame"
   ]
  },
  {
   "cell_type": "code",
   "execution_count": 25,
   "metadata": {},
   "outputs": [
    {
     "data": {
      "text/html": [
       "<div>\n",
       "<style scoped>\n",
       "    .dataframe tbody tr th:only-of-type {\n",
       "        vertical-align: middle;\n",
       "    }\n",
       "\n",
       "    .dataframe tbody tr th {\n",
       "        vertical-align: top;\n",
       "    }\n",
       "\n",
       "    .dataframe thead th {\n",
       "        text-align: right;\n",
       "    }\n",
       "</style>\n",
       "<table border=\"1\" class=\"dataframe\">\n",
       "  <thead>\n",
       "    <tr style=\"text-align: right;\">\n",
       "      <th></th>\n",
       "      <th>Character_name</th>\n",
       "      <th>movie_name</th>\n",
       "      <th>release_year</th>\n",
       "    </tr>\n",
       "  </thead>\n",
       "  <tbody>\n",
       "    <tr>\n",
       "      <th>999</th>\n",
       "      <td>MARK</td>\n",
       "      <td>Dial M for Murder</td>\n",
       "      <td>1954.0</td>\n",
       "    </tr>\n",
       "    <tr>\n",
       "      <th>1051</th>\n",
       "      <td>MICHAEL</td>\n",
       "      <td>Peter Pan</td>\n",
       "      <td>1953.0</td>\n",
       "    </tr>\n",
       "    <tr>\n",
       "      <th>375</th>\n",
       "      <td>DAVID</td>\n",
       "      <td>Sabrina</td>\n",
       "      <td>1954.0</td>\n",
       "    </tr>\n",
       "    <tr>\n",
       "      <th>495</th>\n",
       "      <td>EMMA</td>\n",
       "      <td>The Avengers</td>\n",
       "      <td>1998.0</td>\n",
       "    </tr>\n",
       "    <tr>\n",
       "      <th>654</th>\n",
       "      <td>HANNAH</td>\n",
       "      <td>Toy Story</td>\n",
       "      <td>1995.0</td>\n",
       "    </tr>\n",
       "    <tr>\n",
       "      <th>1439</th>\n",
       "      <td>SUSAN</td>\n",
       "      <td>Citizen Kane</td>\n",
       "      <td>1941.0</td>\n",
       "    </tr>\n",
       "    <tr>\n",
       "      <th>912</th>\n",
       "      <td>LISA</td>\n",
       "      <td>Rear Window</td>\n",
       "      <td>1954.0</td>\n",
       "    </tr>\n",
       "    <tr>\n",
       "      <th>380</th>\n",
       "      <td>DEBBIE</td>\n",
       "      <td>The Searchers</td>\n",
       "      <td>1956.0</td>\n",
       "    </tr>\n",
       "    <tr>\n",
       "      <th>794</th>\n",
       "      <td>JONATHAN</td>\n",
       "      <td>Superman</td>\n",
       "      <td>1978.0</td>\n",
       "    </tr>\n",
       "    <tr>\n",
       "      <th>1023</th>\n",
       "      <td>MATTHEW</td>\n",
       "      <td>Taxi Driver</td>\n",
       "      <td>1976.0</td>\n",
       "    </tr>\n",
       "  </tbody>\n",
       "</table>\n",
       "</div>"
      ],
      "text/plain": [
       "     Character_name         movie_name  release_year\n",
       "999            MARK  Dial M for Murder        1954.0\n",
       "1051        MICHAEL          Peter Pan        1953.0\n",
       "375           DAVID            Sabrina        1954.0\n",
       "495            EMMA       The Avengers        1998.0\n",
       "654          HANNAH          Toy Story        1995.0\n",
       "1439          SUSAN       Citizen Kane        1941.0\n",
       "912            LISA        Rear Window        1954.0\n",
       "380          DEBBIE      The Searchers        1956.0\n",
       "794        JONATHAN           Superman        1978.0\n",
       "1023        MATTHEW        Taxi Driver        1976.0"
      ]
     },
     "execution_count": 25,
     "metadata": {},
     "output_type": "execute_result"
    }
   ],
   "source": [
    "# Ranking top 10 influencing character names by trend increase\n",
    "from src.models.trend_evaluation import trend_eval_ranking\n",
    "\n",
    "# Ensure release_year is in datetime format\n",
    "cmu_imdb['Release_date'] = pd.to_datetime(cmu_imdb['Release_date'], errors='coerce')\n",
    "\n",
    "ranking = trend_eval_ranking(global_names.clean_df, expanded_imdb_mov_char_data)\n",
    "ranking[[\"Character_name\",\"movie_name\",\"release_year\"]].head(10)"
   ]
  },
  {
   "cell_type": "code",
   "execution_count": 26,
   "metadata": {},
   "outputs": [
    {
     "data": {
      "application/vnd.plotly.v1+json": {
       "config": {
        "plotlyServerURL": "https://plot.ly"
       },
       "data": [
        {
         "alignmentgroup": "True",
         "hovertemplate": "Genre=%{y}<br>Number of Movies=%{text}<extra></extra>",
         "legendgroup": "Drama",
         "marker": {
          "color": "#636efa",
          "pattern": {
           "shape": ""
          }
         },
         "name": "Drama",
         "offsetgroup": "Drama",
         "orientation": "h",
         "showlegend": true,
         "text": [
          15429
         ],
         "textposition": "outside",
         "type": "bar",
         "x": [
          15429
         ],
         "xaxis": "x",
         "y": [
          "Drama"
         ],
         "yaxis": "y"
        },
        {
         "alignmentgroup": "True",
         "hovertemplate": "Genre=%{y}<br>Number of Movies=%{text}<extra></extra>",
         "legendgroup": "Comedy",
         "marker": {
          "color": "#EF553B",
          "pattern": {
           "shape": ""
          }
         },
         "name": "Comedy",
         "offsetgroup": "Comedy",
         "orientation": "h",
         "showlegend": true,
         "text": [
          7946
         ],
         "textposition": "outside",
         "type": "bar",
         "x": [
          7946
         ],
         "xaxis": "x",
         "y": [
          "Comedy"
         ],
         "yaxis": "y"
        },
        {
         "alignmentgroup": "True",
         "hovertemplate": "Genre=%{y}<br>Number of Movies=%{text}<extra></extra>",
         "legendgroup": "Romance Film",
         "marker": {
          "color": "#00cc96",
          "pattern": {
           "shape": ""
          }
         },
         "name": "Romance Film",
         "offsetgroup": "Romance Film",
         "orientation": "h",
         "showlegend": true,
         "text": [
          5739
         ],
         "textposition": "outside",
         "type": "bar",
         "x": [
          5739
         ],
         "xaxis": "x",
         "y": [
          "Romance Film"
         ],
         "yaxis": "y"
        },
        {
         "alignmentgroup": "True",
         "hovertemplate": "Genre=%{y}<br>Number of Movies=%{text}<extra></extra>",
         "legendgroup": "Thriller",
         "marker": {
          "color": "#ab63fa",
          "pattern": {
           "shape": ""
          }
         },
         "name": "Thriller",
         "offsetgroup": "Thriller",
         "orientation": "h",
         "showlegend": true,
         "text": [
          5133
         ],
         "textposition": "outside",
         "type": "bar",
         "x": [
          5133
         ],
         "xaxis": "x",
         "y": [
          "Thriller"
         ],
         "yaxis": "y"
        },
        {
         "alignmentgroup": "True",
         "hovertemplate": "Genre=%{y}<br>Number of Movies=%{text}<extra></extra>",
         "legendgroup": "Action",
         "marker": {
          "color": "#FFA15A",
          "pattern": {
           "shape": ""
          }
         },
         "name": "Action",
         "offsetgroup": "Action",
         "orientation": "h",
         "showlegend": true,
         "text": [
          4619
         ],
         "textposition": "outside",
         "type": "bar",
         "x": [
          4619
         ],
         "xaxis": "x",
         "y": [
          "Action"
         ],
         "yaxis": "y"
        },
        {
         "alignmentgroup": "True",
         "hovertemplate": "Genre=%{y}<br>Number of Movies=%{text}<extra></extra>",
         "legendgroup": "Crime Fiction",
         "marker": {
          "color": "#19d3f3",
          "pattern": {
           "shape": ""
          }
         },
         "name": "Crime Fiction",
         "offsetgroup": "Crime Fiction",
         "orientation": "h",
         "showlegend": true,
         "text": [
          3513
         ],
         "textposition": "outside",
         "type": "bar",
         "x": [
          3513
         ],
         "xaxis": "x",
         "y": [
          "Crime Fiction"
         ],
         "yaxis": "y"
        },
        {
         "alignmentgroup": "True",
         "hovertemplate": "Genre=%{y}<br>Number of Movies=%{text}<extra></extra>",
         "legendgroup": "World cinema",
         "marker": {
          "color": "#FF6692",
          "pattern": {
           "shape": ""
          }
         },
         "name": "World cinema",
         "offsetgroup": "World cinema",
         "orientation": "h",
         "showlegend": true,
         "text": [
          3387
         ],
         "textposition": "outside",
         "type": "bar",
         "x": [
          3387
         ],
         "xaxis": "x",
         "y": [
          "World cinema"
         ],
         "yaxis": "y"
        },
        {
         "alignmentgroup": "True",
         "hovertemplate": "Genre=%{y}<br>Number of Movies=%{text}<extra></extra>",
         "legendgroup": "Indie",
         "marker": {
          "color": "#B6E880",
          "pattern": {
           "shape": ""
          }
         },
         "name": "Indie",
         "offsetgroup": "Indie",
         "orientation": "h",
         "showlegend": true,
         "text": [
          2909
         ],
         "textposition": "outside",
         "type": "bar",
         "x": [
          2909
         ],
         "xaxis": "x",
         "y": [
          "Indie"
         ],
         "yaxis": "y"
        },
        {
         "alignmentgroup": "True",
         "hovertemplate": "Genre=%{y}<br>Number of Movies=%{text}<extra></extra>",
         "legendgroup": "Action/Adventure",
         "marker": {
          "color": "#FF97FF",
          "pattern": {
           "shape": ""
          }
         },
         "name": "Action/Adventure",
         "offsetgroup": "Action/Adventure",
         "orientation": "h",
         "showlegend": true,
         "text": [
          2722
         ],
         "textposition": "outside",
         "type": "bar",
         "x": [
          2722
         ],
         "xaxis": "x",
         "y": [
          "Action/Adventure"
         ],
         "yaxis": "y"
        },
        {
         "alignmentgroup": "True",
         "hovertemplate": "Genre=%{y}<br>Number of Movies=%{text}<extra></extra>",
         "legendgroup": "Romantic drama",
         "marker": {
          "color": "#FECB52",
          "pattern": {
           "shape": ""
          }
         },
         "name": "Romantic drama",
         "offsetgroup": "Romantic drama",
         "orientation": "h",
         "showlegend": true,
         "text": [
          2264
         ],
         "textposition": "outside",
         "type": "bar",
         "x": [
          2264
         ],
         "xaxis": "x",
         "y": [
          "Romantic drama"
         ],
         "yaxis": "y"
        }
       ],
       "layout": {
        "barmode": "relative",
        "legend": {
         "title": {
          "text": "Genre"
         },
         "tracegroupgap": 0
        },
        "plot_bgcolor": "white",
        "showlegend": false,
        "template": {
         "data": {
          "bar": [
           {
            "error_x": {
             "color": "#2a3f5f"
            },
            "error_y": {
             "color": "#2a3f5f"
            },
            "marker": {
             "line": {
              "color": "#E5ECF6",
              "width": 0.5
             },
             "pattern": {
              "fillmode": "overlay",
              "size": 10,
              "solidity": 0.2
             }
            },
            "type": "bar"
           }
          ],
          "barpolar": [
           {
            "marker": {
             "line": {
              "color": "#E5ECF6",
              "width": 0.5
             },
             "pattern": {
              "fillmode": "overlay",
              "size": 10,
              "solidity": 0.2
             }
            },
            "type": "barpolar"
           }
          ],
          "carpet": [
           {
            "aaxis": {
             "endlinecolor": "#2a3f5f",
             "gridcolor": "white",
             "linecolor": "white",
             "minorgridcolor": "white",
             "startlinecolor": "#2a3f5f"
            },
            "baxis": {
             "endlinecolor": "#2a3f5f",
             "gridcolor": "white",
             "linecolor": "white",
             "minorgridcolor": "white",
             "startlinecolor": "#2a3f5f"
            },
            "type": "carpet"
           }
          ],
          "choropleth": [
           {
            "colorbar": {
             "outlinewidth": 0,
             "ticks": ""
            },
            "type": "choropleth"
           }
          ],
          "contour": [
           {
            "colorbar": {
             "outlinewidth": 0,
             "ticks": ""
            },
            "colorscale": [
             [
              0,
              "#0d0887"
             ],
             [
              0.1111111111111111,
              "#46039f"
             ],
             [
              0.2222222222222222,
              "#7201a8"
             ],
             [
              0.3333333333333333,
              "#9c179e"
             ],
             [
              0.4444444444444444,
              "#bd3786"
             ],
             [
              0.5555555555555556,
              "#d8576b"
             ],
             [
              0.6666666666666666,
              "#ed7953"
             ],
             [
              0.7777777777777778,
              "#fb9f3a"
             ],
             [
              0.8888888888888888,
              "#fdca26"
             ],
             [
              1,
              "#f0f921"
             ]
            ],
            "type": "contour"
           }
          ],
          "contourcarpet": [
           {
            "colorbar": {
             "outlinewidth": 0,
             "ticks": ""
            },
            "type": "contourcarpet"
           }
          ],
          "heatmap": [
           {
            "colorbar": {
             "outlinewidth": 0,
             "ticks": ""
            },
            "colorscale": [
             [
              0,
              "#0d0887"
             ],
             [
              0.1111111111111111,
              "#46039f"
             ],
             [
              0.2222222222222222,
              "#7201a8"
             ],
             [
              0.3333333333333333,
              "#9c179e"
             ],
             [
              0.4444444444444444,
              "#bd3786"
             ],
             [
              0.5555555555555556,
              "#d8576b"
             ],
             [
              0.6666666666666666,
              "#ed7953"
             ],
             [
              0.7777777777777778,
              "#fb9f3a"
             ],
             [
              0.8888888888888888,
              "#fdca26"
             ],
             [
              1,
              "#f0f921"
             ]
            ],
            "type": "heatmap"
           }
          ],
          "heatmapgl": [
           {
            "colorbar": {
             "outlinewidth": 0,
             "ticks": ""
            },
            "colorscale": [
             [
              0,
              "#0d0887"
             ],
             [
              0.1111111111111111,
              "#46039f"
             ],
             [
              0.2222222222222222,
              "#7201a8"
             ],
             [
              0.3333333333333333,
              "#9c179e"
             ],
             [
              0.4444444444444444,
              "#bd3786"
             ],
             [
              0.5555555555555556,
              "#d8576b"
             ],
             [
              0.6666666666666666,
              "#ed7953"
             ],
             [
              0.7777777777777778,
              "#fb9f3a"
             ],
             [
              0.8888888888888888,
              "#fdca26"
             ],
             [
              1,
              "#f0f921"
             ]
            ],
            "type": "heatmapgl"
           }
          ],
          "histogram": [
           {
            "marker": {
             "pattern": {
              "fillmode": "overlay",
              "size": 10,
              "solidity": 0.2
             }
            },
            "type": "histogram"
           }
          ],
          "histogram2d": [
           {
            "colorbar": {
             "outlinewidth": 0,
             "ticks": ""
            },
            "colorscale": [
             [
              0,
              "#0d0887"
             ],
             [
              0.1111111111111111,
              "#46039f"
             ],
             [
              0.2222222222222222,
              "#7201a8"
             ],
             [
              0.3333333333333333,
              "#9c179e"
             ],
             [
              0.4444444444444444,
              "#bd3786"
             ],
             [
              0.5555555555555556,
              "#d8576b"
             ],
             [
              0.6666666666666666,
              "#ed7953"
             ],
             [
              0.7777777777777778,
              "#fb9f3a"
             ],
             [
              0.8888888888888888,
              "#fdca26"
             ],
             [
              1,
              "#f0f921"
             ]
            ],
            "type": "histogram2d"
           }
          ],
          "histogram2dcontour": [
           {
            "colorbar": {
             "outlinewidth": 0,
             "ticks": ""
            },
            "colorscale": [
             [
              0,
              "#0d0887"
             ],
             [
              0.1111111111111111,
              "#46039f"
             ],
             [
              0.2222222222222222,
              "#7201a8"
             ],
             [
              0.3333333333333333,
              "#9c179e"
             ],
             [
              0.4444444444444444,
              "#bd3786"
             ],
             [
              0.5555555555555556,
              "#d8576b"
             ],
             [
              0.6666666666666666,
              "#ed7953"
             ],
             [
              0.7777777777777778,
              "#fb9f3a"
             ],
             [
              0.8888888888888888,
              "#fdca26"
             ],
             [
              1,
              "#f0f921"
             ]
            ],
            "type": "histogram2dcontour"
           }
          ],
          "mesh3d": [
           {
            "colorbar": {
             "outlinewidth": 0,
             "ticks": ""
            },
            "type": "mesh3d"
           }
          ],
          "parcoords": [
           {
            "line": {
             "colorbar": {
              "outlinewidth": 0,
              "ticks": ""
             }
            },
            "type": "parcoords"
           }
          ],
          "pie": [
           {
            "automargin": true,
            "type": "pie"
           }
          ],
          "scatter": [
           {
            "fillpattern": {
             "fillmode": "overlay",
             "size": 10,
             "solidity": 0.2
            },
            "type": "scatter"
           }
          ],
          "scatter3d": [
           {
            "line": {
             "colorbar": {
              "outlinewidth": 0,
              "ticks": ""
             }
            },
            "marker": {
             "colorbar": {
              "outlinewidth": 0,
              "ticks": ""
             }
            },
            "type": "scatter3d"
           }
          ],
          "scattercarpet": [
           {
            "marker": {
             "colorbar": {
              "outlinewidth": 0,
              "ticks": ""
             }
            },
            "type": "scattercarpet"
           }
          ],
          "scattergeo": [
           {
            "marker": {
             "colorbar": {
              "outlinewidth": 0,
              "ticks": ""
             }
            },
            "type": "scattergeo"
           }
          ],
          "scattergl": [
           {
            "marker": {
             "colorbar": {
              "outlinewidth": 0,
              "ticks": ""
             }
            },
            "type": "scattergl"
           }
          ],
          "scattermapbox": [
           {
            "marker": {
             "colorbar": {
              "outlinewidth": 0,
              "ticks": ""
             }
            },
            "type": "scattermapbox"
           }
          ],
          "scatterpolar": [
           {
            "marker": {
             "colorbar": {
              "outlinewidth": 0,
              "ticks": ""
             }
            },
            "type": "scatterpolar"
           }
          ],
          "scatterpolargl": [
           {
            "marker": {
             "colorbar": {
              "outlinewidth": 0,
              "ticks": ""
             }
            },
            "type": "scatterpolargl"
           }
          ],
          "scatterternary": [
           {
            "marker": {
             "colorbar": {
              "outlinewidth": 0,
              "ticks": ""
             }
            },
            "type": "scatterternary"
           }
          ],
          "surface": [
           {
            "colorbar": {
             "outlinewidth": 0,
             "ticks": ""
            },
            "colorscale": [
             [
              0,
              "#0d0887"
             ],
             [
              0.1111111111111111,
              "#46039f"
             ],
             [
              0.2222222222222222,
              "#7201a8"
             ],
             [
              0.3333333333333333,
              "#9c179e"
             ],
             [
              0.4444444444444444,
              "#bd3786"
             ],
             [
              0.5555555555555556,
              "#d8576b"
             ],
             [
              0.6666666666666666,
              "#ed7953"
             ],
             [
              0.7777777777777778,
              "#fb9f3a"
             ],
             [
              0.8888888888888888,
              "#fdca26"
             ],
             [
              1,
              "#f0f921"
             ]
            ],
            "type": "surface"
           }
          ],
          "table": [
           {
            "cells": {
             "fill": {
              "color": "#EBF0F8"
             },
             "line": {
              "color": "white"
             }
            },
            "header": {
             "fill": {
              "color": "#C8D4E3"
             },
             "line": {
              "color": "white"
             }
            },
            "type": "table"
           }
          ]
         },
         "layout": {
          "annotationdefaults": {
           "arrowcolor": "#2a3f5f",
           "arrowhead": 0,
           "arrowwidth": 1
          },
          "autotypenumbers": "strict",
          "coloraxis": {
           "colorbar": {
            "outlinewidth": 0,
            "ticks": ""
           }
          },
          "colorscale": {
           "diverging": [
            [
             0,
             "#8e0152"
            ],
            [
             0.1,
             "#c51b7d"
            ],
            [
             0.2,
             "#de77ae"
            ],
            [
             0.3,
             "#f1b6da"
            ],
            [
             0.4,
             "#fde0ef"
            ],
            [
             0.5,
             "#f7f7f7"
            ],
            [
             0.6,
             "#e6f5d0"
            ],
            [
             0.7,
             "#b8e186"
            ],
            [
             0.8,
             "#7fbc41"
            ],
            [
             0.9,
             "#4d9221"
            ],
            [
             1,
             "#276419"
            ]
           ],
           "sequential": [
            [
             0,
             "#0d0887"
            ],
            [
             0.1111111111111111,
             "#46039f"
            ],
            [
             0.2222222222222222,
             "#7201a8"
            ],
            [
             0.3333333333333333,
             "#9c179e"
            ],
            [
             0.4444444444444444,
             "#bd3786"
            ],
            [
             0.5555555555555556,
             "#d8576b"
            ],
            [
             0.6666666666666666,
             "#ed7953"
            ],
            [
             0.7777777777777778,
             "#fb9f3a"
            ],
            [
             0.8888888888888888,
             "#fdca26"
            ],
            [
             1,
             "#f0f921"
            ]
           ],
           "sequentialminus": [
            [
             0,
             "#0d0887"
            ],
            [
             0.1111111111111111,
             "#46039f"
            ],
            [
             0.2222222222222222,
             "#7201a8"
            ],
            [
             0.3333333333333333,
             "#9c179e"
            ],
            [
             0.4444444444444444,
             "#bd3786"
            ],
            [
             0.5555555555555556,
             "#d8576b"
            ],
            [
             0.6666666666666666,
             "#ed7953"
            ],
            [
             0.7777777777777778,
             "#fb9f3a"
            ],
            [
             0.8888888888888888,
             "#fdca26"
            ],
            [
             1,
             "#f0f921"
            ]
           ]
          },
          "colorway": [
           "#636efa",
           "#EF553B",
           "#00cc96",
           "#ab63fa",
           "#FFA15A",
           "#19d3f3",
           "#FF6692",
           "#B6E880",
           "#FF97FF",
           "#FECB52"
          ],
          "font": {
           "color": "#2a3f5f"
          },
          "geo": {
           "bgcolor": "white",
           "lakecolor": "white",
           "landcolor": "#E5ECF6",
           "showlakes": true,
           "showland": true,
           "subunitcolor": "white"
          },
          "hoverlabel": {
           "align": "left"
          },
          "hovermode": "closest",
          "mapbox": {
           "style": "light"
          },
          "paper_bgcolor": "white",
          "plot_bgcolor": "#E5ECF6",
          "polar": {
           "angularaxis": {
            "gridcolor": "white",
            "linecolor": "white",
            "ticks": ""
           },
           "bgcolor": "#E5ECF6",
           "radialaxis": {
            "gridcolor": "white",
            "linecolor": "white",
            "ticks": ""
           }
          },
          "scene": {
           "xaxis": {
            "backgroundcolor": "#E5ECF6",
            "gridcolor": "white",
            "gridwidth": 2,
            "linecolor": "white",
            "showbackground": true,
            "ticks": "",
            "zerolinecolor": "white"
           },
           "yaxis": {
            "backgroundcolor": "#E5ECF6",
            "gridcolor": "white",
            "gridwidth": 2,
            "linecolor": "white",
            "showbackground": true,
            "ticks": "",
            "zerolinecolor": "white"
           },
           "zaxis": {
            "backgroundcolor": "#E5ECF6",
            "gridcolor": "white",
            "gridwidth": 2,
            "linecolor": "white",
            "showbackground": true,
            "ticks": "",
            "zerolinecolor": "white"
           }
          },
          "shapedefaults": {
           "line": {
            "color": "#2a3f5f"
           }
          },
          "ternary": {
           "aaxis": {
            "gridcolor": "white",
            "linecolor": "white",
            "ticks": ""
           },
           "baxis": {
            "gridcolor": "white",
            "linecolor": "white",
            "ticks": ""
           },
           "bgcolor": "#E5ECF6",
           "caxis": {
            "gridcolor": "white",
            "linecolor": "white",
            "ticks": ""
           }
          },
          "title": {
           "x": 0.05
          },
          "xaxis": {
           "automargin": true,
           "gridcolor": "white",
           "linecolor": "white",
           "ticks": "",
           "title": {
            "standoff": 15
           },
           "zerolinecolor": "white",
           "zerolinewidth": 2
          },
          "yaxis": {
           "automargin": true,
           "gridcolor": "white",
           "linecolor": "white",
           "ticks": "",
           "title": {
            "standoff": 15
           },
           "zerolinecolor": "white",
           "zerolinewidth": 2
          }
         }
        },
        "title": {
         "text": "Top 10 Most Represented Genres in Movies Dataset"
        },
        "xaxis": {
         "anchor": "y",
         "domain": [
          0,
          1
         ],
         "title": {
          "text": "Number of Movies"
         }
        },
        "yaxis": {
         "anchor": "x",
         "categoryarray": [
          "Romantic drama",
          "Action/Adventure",
          "Indie",
          "World cinema",
          "Crime Fiction",
          "Action",
          "Thriller",
          "Romance Film",
          "Comedy",
          "Drama"
         ],
         "categoryorder": "array",
         "domain": [
          0,
          1
         ],
         "title": {
          "text": "Genre"
         }
        }
       }
      }
     },
     "metadata": {},
     "output_type": "display_data"
    },
    {
     "name": "stdout",
     "output_type": "stream",
     "text": [
      "Sum of counts: 108451\n"
     ]
    }
   ],
   "source": [
    "import plotly.express as px\n",
    "\n",
    "# Split genres and normalize\n",
    "df = mov_char_data.copy().drop_duplicates(subset=[\"Movie_name\"])\n",
    "df_genres = df.assign(Genres=df[\"Genres\"].str.split(\", \")).explode(\"Genres\")\n",
    "\n",
    "# Count occurrences of each genre\n",
    "genre_counts = df_genres[\"Genres\"].value_counts().reset_index()\n",
    "genre_counts.columns = [\"Genre\", \"Count\"]\n",
    "\n",
    "# Select the top 10 genres\n",
    "top_10_genres = genre_counts.head(10)\n",
    "\n",
    "# Create horizontal bar graph\n",
    "fig = px.bar(\n",
    "    top_10_genres,\n",
    "    x=\"Count\",\n",
    "    y=\"Genre\",\n",
    "    orientation=\"h\",  # Horizontal orientation\n",
    "    title=\"Top 10 Most Represented Genres in Movies Dataset\",\n",
    "    labels={\"Count\": \"Number of Movies\", \"Genre\": \"Genre\"},\n",
    "    text=\"Count\",\n",
    "    color=\"Genre\"\n",
    ")\n",
    "\n",
    "# Style the graph for better readability\n",
    "fig.update_traces(textposition=\"outside\")\n",
    "fig.update_layout(\n",
    "    xaxis=dict(title=\"Number of Movies\"),\n",
    "    yaxis=dict(title=\"Genre\"),\n",
    "    plot_bgcolor=\"white\",\n",
    "    showlegend=False\n",
    ")\n",
    "\n",
    "fig.show()\n",
    "fig.write_html(\"top_10_genres.html\")\n",
    "\n",
    "# Print sum of counts\n",
    "print(f\"Sum of counts: {genre_counts['Count'].sum()}\")\n"
   ]
  },
  {
   "cell_type": "code",
   "execution_count": 27,
   "metadata": {},
   "outputs": [
    {
     "data": {
      "text/plain": [
       "Character_name\n",
       "YOUNG BULLY            4\n",
       "BOROMIR                3\n",
       "GALADRIEL              3\n",
       "GOLLUM                 3\n",
       "GIMLI                  3\n",
       "ELROND                 3\n",
       "FARAMIR                3\n",
       "ARAGORN                3\n",
       "MERIADOC BRANDYBUCK    3\n",
       "GANDALF                3\n",
       "Name: count, dtype: int64"
      ]
     },
     "execution_count": 27,
     "metadata": {},
     "output_type": "execute_result"
    }
   ],
   "source": [
    "# In blockbuster movies, what are the top 10 most represented names of character?\n",
    "\n",
    "# Isolating the blockbuster movies\n",
    "blockbuster_movies = expanded_imdb_mov_char_data[expanded_imdb_mov_char_data['isBlockbuster'] == 1]\n",
    "\n",
    "# What are the top 10 most represented names of character in blockbuster movies?\n",
    "blockbuster_character_names = blockbuster_movies['Character_name'].value_counts()\n",
    "blockbuster_character_names.head(10)\n",
    "\n"
   ]
  },
  {
   "cell_type": "code",
   "execution_count": 28,
   "metadata": {},
   "outputs": [
    {
     "data": {
      "text/html": [
       "<div>\n",
       "<style scoped>\n",
       "    .dataframe tbody tr th:only-of-type {\n",
       "        vertical-align: middle;\n",
       "    }\n",
       "\n",
       "    .dataframe tbody tr th {\n",
       "        vertical-align: top;\n",
       "    }\n",
       "\n",
       "    .dataframe thead th {\n",
       "        text-align: right;\n",
       "    }\n",
       "</style>\n",
       "<table border=\"1\" class=\"dataframe\">\n",
       "  <thead>\n",
       "    <tr style=\"text-align: right;\">\n",
       "      <th></th>\n",
       "      <th>Wikipedia_movie_ID</th>\n",
       "      <th>Movie_name</th>\n",
       "      <th>Release_date</th>\n",
       "      <th>Revenue</th>\n",
       "      <th>Runtime</th>\n",
       "      <th>Languages</th>\n",
       "      <th>Countries</th>\n",
       "      <th>Genres</th>\n",
       "      <th>Character_name</th>\n",
       "      <th>Actor_DOB</th>\n",
       "      <th>Actor_gender</th>\n",
       "      <th>Actor_height</th>\n",
       "      <th>Actor_name</th>\n",
       "      <th>Actor_age</th>\n",
       "      <th>primaryTitle</th>\n",
       "      <th>weightedAverageRating</th>\n",
       "      <th>totalVotes</th>\n",
       "      <th>isBlockbuster</th>\n",
       "      <th>Release_year</th>\n",
       "    </tr>\n",
       "  </thead>\n",
       "  <tbody>\n",
       "    <tr>\n",
       "      <th>0</th>\n",
       "      <td>3196793</td>\n",
       "      <td>Getting Away with Murder: The JonBenét Ramsey ...</td>\n",
       "      <td>2000-02-16</td>\n",
       "      <td>NaN</td>\n",
       "      <td>0 days 01:35:00</td>\n",
       "      <td>English</td>\n",
       "      <td>United States of America</td>\n",
       "      <td>Mystery, Biographical film, Drama, Crime Drama</td>\n",
       "      <td>POLICE OFFICER</td>\n",
       "      <td>NaT</td>\n",
       "      <td>M</td>\n",
       "      <td>NaN</td>\n",
       "      <td>ALLEN CUTLER</td>\n",
       "      <td>NaN</td>\n",
       "      <td>NaN</td>\n",
       "      <td>NaN</td>\n",
       "      <td>NaN</td>\n",
       "      <td>NaN</td>\n",
       "      <td>2000.0</td>\n",
       "    </tr>\n",
       "  </tbody>\n",
       "</table>\n",
       "</div>"
      ],
      "text/plain": [
       "   Wikipedia_movie_ID                                         Movie_name  \\\n",
       "0             3196793  Getting Away with Murder: The JonBenét Ramsey ...   \n",
       "\n",
       "  Release_date  Revenue         Runtime Languages                 Countries  \\\n",
       "0   2000-02-16      NaN 0 days 01:35:00   English  United States of America   \n",
       "\n",
       "                                           Genres  Character_name Actor_DOB  \\\n",
       "0  Mystery, Biographical film, Drama, Crime Drama  POLICE OFFICER       NaT   \n",
       "\n",
       "  Actor_gender  Actor_height    Actor_name  Actor_age primaryTitle  \\\n",
       "0            M           NaN  ALLEN CUTLER        NaN          NaN   \n",
       "\n",
       "   weightedAverageRating  totalVotes isBlockbuster  Release_year  \n",
       "0                    NaN         NaN           NaN        2000.0  "
      ]
     },
     "execution_count": 28,
     "metadata": {},
     "output_type": "execute_result"
    }
   ],
   "source": [
    "expanded_imdb_mov_char_data.head(1)"
   ]
  },
  {
   "cell_type": "markdown",
   "metadata": {},
   "source": [
    "### By genres, the most reccurent character names"
   ]
  },
  {
   "cell_type": "code",
   "execution_count": 29,
   "metadata": {},
   "outputs": [],
   "source": [
    "from src.models.trend_by_genres import *"
   ]
  },
  {
   "cell_type": "code",
   "execution_count": 30,
   "metadata": {},
   "outputs": [
    {
     "name": "stdout",
     "output_type": "stream",
     "text": [
      "Initial name dataset size: (2262552, 4)\n",
      "Cleaned name dataset size: (149381, 4)\n"
     ]
    }
   ],
   "source": [
    "valid_names_df = clean_valid_names(global_names)\n"
   ]
  },
  {
   "cell_type": "code",
   "execution_count": 31,
   "metadata": {},
   "outputs": [
    {
     "name": "stdout",
     "output_type": "stream",
     "text": [
      "Top 10 genres: ['Drama', 'Comedy', 'Romance Film', 'Thriller', 'Action', 'Crime Fiction', 'World cinema', 'Indie', 'Action/Adventure', 'Romantic drama']\n"
     ]
    }
   ],
   "source": [
    "top_10_genres = get_top_10_genres(expanded_imdb_mov_char_data)\n"
   ]
  },
  {
   "cell_type": "code",
   "execution_count": 32,
   "metadata": {},
   "outputs": [],
   "source": [
    "filtered_data = filter_data_by_top_genres(expanded_imdb_mov_char_data, top_10_genres)\n"
   ]
  },
  {
   "cell_type": "code",
   "execution_count": 33,
   "metadata": {},
   "outputs": [
    {
     "name": "stdout",
     "output_type": "stream",
     "text": [
      "   Genres Character_name  Count\n",
      "0  Action          FRANK     36\n",
      "1  Action            SAM     32\n",
      "2  Action           TONY     29\n",
      "3  Action          JIMMY     25\n",
      "4  Action        CHARLIE     24\n",
      "5  Action          MARIA     24\n",
      "6  Action          VIJAY     24\n",
      "7  Action          BILLY     22\n",
      "8  Action           JACK     22\n",
      "9  Action        SHERIFF     22\n"
     ]
    }
   ],
   "source": [
    "top_names_df = merge_and_analyze_names(filtered_data, valid_names_df)\n",
    "print(top_names_df.head(10))\n"
   ]
  },
  {
   "cell_type": "code",
   "execution_count": 34,
   "metadata": {},
   "outputs": [
    {
     "data": {
      "application/vnd.plotly.v1+json": {
       "config": {
        "plotlyServerURL": "https://plot.ly"
       },
       "data": [
        {
         "branchvalues": "total",
         "customdata": [
          [
           "Crime Fiction"
          ],
          [
           "Romantic drama"
          ],
          [
           "Thriller"
          ],
          [
           "World cinema"
          ],
          [
           "Crime Fiction"
          ],
          [
           "Drama"
          ],
          [
           "Romance Film"
          ],
          [
           "Romantic drama"
          ],
          [
           "Thriller"
          ],
          [
           "World cinema"
          ],
          [
           "Crime Fiction"
          ],
          [
           "Comedy"
          ],
          [
           "Action/Adventure"
          ],
          [
           "Action"
          ],
          [
           "Action/Adventure"
          ],
          [
           "Comedy"
          ],
          [
           "Indie"
          ],
          [
           "Action/Adventure"
          ],
          [
           "Action"
          ],
          [
           "Romance Film"
          ],
          [
           "Thriller"
          ],
          [
           "Comedy"
          ],
          [
           "Action/Adventure"
          ],
          [
           "Action"
          ],
          [
           "Romantic drama"
          ],
          [
           "Thriller"
          ],
          [
           "Indie"
          ],
          [
           "Drama"
          ],
          [
           "Indie"
          ],
          [
           "Romance Film"
          ],
          [
           "Action/Adventure"
          ],
          [
           "Action"
          ],
          [
           "Thriller"
          ],
          [
           "Indie"
          ],
          [
           "Drama"
          ],
          [
           "Crime Fiction"
          ],
          [
           "Thriller"
          ],
          [
           "Drama"
          ],
          [
           "Crime Fiction"
          ],
          [
           "Action"
          ],
          [
           "Indie"
          ],
          [
           "Romance Film"
          ],
          [
           "Romance Film"
          ],
          [
           "Drama"
          ],
          [
           "Romantic drama"
          ],
          [
           "Romance Film"
          ],
          [
           "Comedy"
          ],
          [
           "Indie"
          ],
          [
           "Crime Fiction"
          ],
          [
           "Comedy"
          ],
          [
           "Drama"
          ],
          [
           "Comedy"
          ],
          [
           "Romantic drama"
          ],
          [
           "Thriller"
          ],
          [
           "Indie"
          ],
          [
           "Drama"
          ],
          [
           "Action"
          ],
          [
           "Romantic drama"
          ],
          [
           "Action/Adventure"
          ],
          [
           "Romantic drama"
          ],
          [
           "Indie"
          ],
          [
           "Drama"
          ],
          [
           "Crime Fiction"
          ],
          [
           "Comedy"
          ],
          [
           "Comedy"
          ],
          [
           "Crime Fiction"
          ],
          [
           "Romantic drama"
          ],
          [
           "Romantic drama"
          ],
          [
           "Romance Film"
          ],
          [
           "World cinema"
          ],
          [
           "World cinema"
          ],
          [
           "Action"
          ],
          [
           "World cinema"
          ],
          [
           "Action/Adventure"
          ],
          [
           "World cinema"
          ],
          [
           "Thriller"
          ],
          [
           "World cinema"
          ],
          [
           "Romantic drama"
          ],
          [
           "Romance Film"
          ],
          [
           "World cinema"
          ],
          [
           "Action"
          ],
          [
           "Thriller"
          ],
          [
           "Drama"
          ],
          [
           "Thriller"
          ],
          [
           "Indie"
          ],
          [
           "Indie"
          ],
          [
           "Drama"
          ],
          [
           "Crime Fiction"
          ],
          [
           "Comedy"
          ],
          [
           "Romance Film"
          ],
          [
           "Action"
          ],
          [
           "Action/Adventure"
          ],
          [
           "World cinema"
          ],
          [
           "Action/Adventure"
          ],
          [
           "Comedy"
          ],
          [
           "Romance Film"
          ],
          [
           "Action"
          ],
          [
           "Action/Adventure"
          ],
          [
           "Crime Fiction"
          ],
          [
           "World cinema"
          ],
          [
           "Action"
          ],
          [
           "Action/Adventure"
          ],
          [
           "Comedy"
          ],
          [
           "Crime Fiction"
          ],
          [
           "Drama"
          ],
          [
           "Indie"
          ],
          [
           "Romance Film"
          ],
          [
           "Romantic drama"
          ],
          [
           "Thriller"
          ],
          [
           "World cinema"
          ]
         ],
         "domain": {
          "x": [
           0,
           1
          ],
          "y": [
           0,
           1
          ]
         },
         "hovertemplate": "<b>%{label}</b><br>Count: %{value}<extra></extra>",
         "ids": [
          "Crime Fiction/ALEX",
          "Romantic drama/ALEX",
          "Thriller/ALEX",
          "World cinema/ANJALI",
          "Crime Fiction/ANNA",
          "Drama/ANNA",
          "Romance Film/ANNA",
          "Romantic drama/ANNA",
          "Thriller/ANNA",
          "World cinema/ANNA",
          "Crime Fiction/CHARLIE",
          "Comedy/CHARLIE",
          "Action/Adventure/CHARLIE",
          "Action/CHARLIE",
          "Action/Adventure/CARL",
          "Comedy/BOB",
          "Indie/BOB",
          "Action/Adventure/BOB",
          "Action/BILLY",
          "Romance Film/BOB",
          "Thriller/DAVID",
          "Comedy/FRANK",
          "Action/Adventure/FRANK",
          "Action/FRANK",
          "Romantic drama/DAVID",
          "Thriller/CHARLIE",
          "Indie/DAVID",
          "Drama/DAVID",
          "Indie/CHARLIE",
          "Romance Film/DAVID",
          "Action/Adventure/JIMMY",
          "Action/JIMMY",
          "Thriller/JACK",
          "Indie/JACK",
          "Drama/JACK",
          "Crime Fiction/JACK",
          "Thriller/FRANK",
          "Drama/FRANK",
          "Crime Fiction/FRANK",
          "Action/JACK",
          "Indie/JOHN",
          "Romance Film/JULIE",
          "Romance Film/JOHN",
          "Drama/JOHN",
          "Romantic drama/JULIE",
          "Romance Film/JOE",
          "Comedy/JOE",
          "Indie/JIMMY",
          "Crime Fiction/JIMMY",
          "Comedy/JOHN",
          "Drama/MARY",
          "Comedy/MARY",
          "Romantic drama/MARIE",
          "Thriller/MARIA",
          "Indie/MARY",
          "Drama/MARIA",
          "Action/MARIA",
          "Romantic drama/LUCY",
          "Action/Adventure/KAREN",
          "Romantic drama/MARIA",
          "Indie/PAUL",
          "Drama/PAUL",
          "Crime Fiction/PAUL",
          "Comedy/PAUL",
          "Comedy/MOE",
          "Crime Fiction/MIKE",
          "Romantic drama/MAYA",
          "Romantic drama/MARY",
          "Romance Film/MARY",
          "World cinema/MAYA",
          "World cinema/RAHUL",
          "Action/SAM",
          "World cinema/RAJA",
          "Action/Adventure/SAM",
          "World cinema/RADHA",
          "Thriller/PAUL",
          "World cinema/POOJA",
          "Romantic drama/PAUL",
          "Romance Film/PAUL",
          "World cinema/PRIYA",
          "Action/SHERIFF",
          "Thriller/SARAH",
          "Drama/SARAH",
          "Thriller/SAM",
          "Indie/SARAH",
          "Indie/SAM",
          "Drama/SAM",
          "Crime Fiction/SAM",
          "Comedy/SAM",
          "Romance Film/SAM",
          "Action/VIJAY",
          "Action/Adventure/SHERIFF",
          "World cinema/SONIA",
          "Action/Adventure/TOM",
          "Comedy/TOM",
          "Romance Film/TOM",
          "Action/TONY",
          "Action/Adventure/TONY",
          "Crime Fiction/TONY",
          "World cinema/VIJAY",
          "Action",
          "Action/Adventure",
          "Comedy",
          "Crime Fiction",
          "Drama",
          "Indie",
          "Romance Film",
          "Romantic drama",
          "Thriller",
          "World cinema"
         ],
         "labels": [
          "ALEX",
          "ALEX",
          "ALEX",
          "ANJALI",
          "ANNA",
          "ANNA",
          "ANNA",
          "ANNA",
          "ANNA",
          "ANNA",
          "CHARLIE",
          "CHARLIE",
          "CHARLIE",
          "CHARLIE",
          "CARL",
          "BOB",
          "BOB",
          "BOB",
          "BILLY",
          "BOB",
          "DAVID",
          "FRANK",
          "FRANK",
          "FRANK",
          "DAVID",
          "CHARLIE",
          "DAVID",
          "DAVID",
          "CHARLIE",
          "DAVID",
          "JIMMY",
          "JIMMY",
          "JACK",
          "JACK",
          "JACK",
          "JACK",
          "FRANK",
          "FRANK",
          "FRANK",
          "JACK",
          "JOHN",
          "JULIE",
          "JOHN",
          "JOHN",
          "JULIE",
          "JOE",
          "JOE",
          "JIMMY",
          "JIMMY",
          "JOHN",
          "MARY",
          "MARY",
          "MARIE",
          "MARIA",
          "MARY",
          "MARIA",
          "MARIA",
          "LUCY",
          "KAREN",
          "MARIA",
          "PAUL",
          "PAUL",
          "PAUL",
          "PAUL",
          "MOE",
          "MIKE",
          "MAYA",
          "MARY",
          "MARY",
          "MAYA",
          "RAHUL",
          "SAM",
          "RAJA",
          "SAM",
          "RADHA",
          "PAUL",
          "POOJA",
          "PAUL",
          "PAUL",
          "PRIYA",
          "SHERIFF",
          "SARAH",
          "SARAH",
          "SAM",
          "SARAH",
          "SAM",
          "SAM",
          "SAM",
          "SAM",
          "SAM",
          "VIJAY",
          "SHERIFF",
          "SONIA",
          "TOM",
          "TOM",
          "TOM",
          "TONY",
          "TONY",
          "TONY",
          "VIJAY",
          "Action",
          "Action/Adventure",
          "Comedy",
          "Crime Fiction",
          "Drama",
          "Indie",
          "Romance Film",
          "Romantic drama",
          "Thriller",
          "World cinema"
         ],
         "marker": {
          "colors": [
           "#636efa",
           "#EF553B",
           "#00cc96",
           "#ab63fa",
           "#636efa",
           "#FFA15A",
           "#19d3f3",
           "#EF553B",
           "#00cc96",
           "#ab63fa",
           "#636efa",
           "#FF6692",
           "#B6E880",
           "#FF97FF",
           "#B6E880",
           "#FF6692",
           "#FECB52",
           "#B6E880",
           "#FF97FF",
           "#19d3f3",
           "#00cc96",
           "#FF6692",
           "#B6E880",
           "#FF97FF",
           "#EF553B",
           "#00cc96",
           "#FECB52",
           "#FFA15A",
           "#FECB52",
           "#19d3f3",
           "#B6E880",
           "#FF97FF",
           "#00cc96",
           "#FECB52",
           "#FFA15A",
           "#636efa",
           "#00cc96",
           "#FFA15A",
           "#636efa",
           "#FF97FF",
           "#FECB52",
           "#19d3f3",
           "#19d3f3",
           "#FFA15A",
           "#EF553B",
           "#19d3f3",
           "#FF6692",
           "#FECB52",
           "#636efa",
           "#FF6692",
           "#FFA15A",
           "#FF6692",
           "#EF553B",
           "#00cc96",
           "#FECB52",
           "#FFA15A",
           "#FF97FF",
           "#EF553B",
           "#B6E880",
           "#EF553B",
           "#FECB52",
           "#FFA15A",
           "#636efa",
           "#FF6692",
           "#FF6692",
           "#636efa",
           "#EF553B",
           "#EF553B",
           "#19d3f3",
           "#ab63fa",
           "#ab63fa",
           "#FF97FF",
           "#ab63fa",
           "#B6E880",
           "#ab63fa",
           "#00cc96",
           "#ab63fa",
           "#EF553B",
           "#19d3f3",
           "#ab63fa",
           "#FF97FF",
           "#00cc96",
           "#FFA15A",
           "#00cc96",
           "#FECB52",
           "#FECB52",
           "#FFA15A",
           "#636efa",
           "#FF6692",
           "#19d3f3",
           "#FF97FF",
           "#B6E880",
           "#ab63fa",
           "#B6E880",
           "#FF6692",
           "#19d3f3",
           "#FF97FF",
           "#B6E880",
           "#636efa",
           "#ab63fa",
           "#FF97FF",
           "#B6E880",
           "#FF6692",
           "#636efa",
           "#FFA15A",
           "#FECB52",
           "#19d3f3",
           "#EF553B",
           "#00cc96",
           "#ab63fa"
          ]
         },
         "name": "",
         "parents": [
          "Crime Fiction",
          "Romantic drama",
          "Thriller",
          "World cinema",
          "Crime Fiction",
          "Drama",
          "Romance Film",
          "Romantic drama",
          "Thriller",
          "World cinema",
          "Crime Fiction",
          "Comedy",
          "Action/Adventure",
          "Action",
          "Action/Adventure",
          "Comedy",
          "Indie",
          "Action/Adventure",
          "Action",
          "Romance Film",
          "Thriller",
          "Comedy",
          "Action/Adventure",
          "Action",
          "Romantic drama",
          "Thriller",
          "Indie",
          "Drama",
          "Indie",
          "Romance Film",
          "Action/Adventure",
          "Action",
          "Thriller",
          "Indie",
          "Drama",
          "Crime Fiction",
          "Thriller",
          "Drama",
          "Crime Fiction",
          "Action",
          "Indie",
          "Romance Film",
          "Romance Film",
          "Drama",
          "Romantic drama",
          "Romance Film",
          "Comedy",
          "Indie",
          "Crime Fiction",
          "Comedy",
          "Drama",
          "Comedy",
          "Romantic drama",
          "Thriller",
          "Indie",
          "Drama",
          "Action",
          "Romantic drama",
          "Action/Adventure",
          "Romantic drama",
          "Indie",
          "Drama",
          "Crime Fiction",
          "Comedy",
          "Comedy",
          "Crime Fiction",
          "Romantic drama",
          "Romantic drama",
          "Romance Film",
          "World cinema",
          "World cinema",
          "Action",
          "World cinema",
          "Action/Adventure",
          "World cinema",
          "Thriller",
          "World cinema",
          "Romantic drama",
          "Romance Film",
          "World cinema",
          "Action",
          "Thriller",
          "Drama",
          "Thriller",
          "Indie",
          "Indie",
          "Drama",
          "Crime Fiction",
          "Comedy",
          "Romance Film",
          "Action",
          "Action/Adventure",
          "World cinema",
          "Action/Adventure",
          "Comedy",
          "Romance Film",
          "Action",
          "Action/Adventure",
          "Crime Fiction",
          "World cinema",
          "",
          "",
          "",
          "",
          "",
          "",
          "",
          "",
          "",
          ""
         ],
         "type": "treemap",
         "values": [
          28,
          16,
          46,
          23,
          25,
          104,
          42,
          21,
          37,
          26,
          26,
          50,
          13,
          24,
          10,
          54,
          31,
          15,
          22,
          33,
          38,
          51,
          23,
          36,
          21,
          34,
          26,
          96,
          27,
          37,
          16,
          25,
          51,
          40,
          100,
          23,
          40,
          91,
          31,
          22,
          27,
          33,
          34,
          89,
          16,
          39,
          52,
          28,
          24,
          50,
          106,
          53,
          16,
          38,
          32,
          97,
          24,
          14,
          12,
          14,
          34,
          97,
          22,
          53,
          141,
          22,
          15,
          19,
          44,
          23,
          21,
          32,
          27,
          20,
          28,
          37,
          28,
          17,
          43,
          31,
          22,
          37,
          85,
          49,
          26,
          41,
          105,
          37,
          58,
          42,
          24,
          12,
          23,
          11,
          50,
          34,
          29,
          21,
          36,
          20,
          260,
          153,
          612,
          274,
          970,
          312,
          381,
          169,
          407,
          250
         ]
        }
       ],
       "layout": {
        "legend": {
         "tracegroupgap": 0
        },
        "template": {
         "data": {
          "bar": [
           {
            "error_x": {
             "color": "#2a3f5f"
            },
            "error_y": {
             "color": "#2a3f5f"
            },
            "marker": {
             "line": {
              "color": "white",
              "width": 0.5
             },
             "pattern": {
              "fillmode": "overlay",
              "size": 10,
              "solidity": 0.2
             }
            },
            "type": "bar"
           }
          ],
          "barpolar": [
           {
            "marker": {
             "line": {
              "color": "white",
              "width": 0.5
             },
             "pattern": {
              "fillmode": "overlay",
              "size": 10,
              "solidity": 0.2
             }
            },
            "type": "barpolar"
           }
          ],
          "carpet": [
           {
            "aaxis": {
             "endlinecolor": "#2a3f5f",
             "gridcolor": "#C8D4E3",
             "linecolor": "#C8D4E3",
             "minorgridcolor": "#C8D4E3",
             "startlinecolor": "#2a3f5f"
            },
            "baxis": {
             "endlinecolor": "#2a3f5f",
             "gridcolor": "#C8D4E3",
             "linecolor": "#C8D4E3",
             "minorgridcolor": "#C8D4E3",
             "startlinecolor": "#2a3f5f"
            },
            "type": "carpet"
           }
          ],
          "choropleth": [
           {
            "colorbar": {
             "outlinewidth": 0,
             "ticks": ""
            },
            "type": "choropleth"
           }
          ],
          "contour": [
           {
            "colorbar": {
             "outlinewidth": 0,
             "ticks": ""
            },
            "colorscale": [
             [
              0,
              "#0d0887"
             ],
             [
              0.1111111111111111,
              "#46039f"
             ],
             [
              0.2222222222222222,
              "#7201a8"
             ],
             [
              0.3333333333333333,
              "#9c179e"
             ],
             [
              0.4444444444444444,
              "#bd3786"
             ],
             [
              0.5555555555555556,
              "#d8576b"
             ],
             [
              0.6666666666666666,
              "#ed7953"
             ],
             [
              0.7777777777777778,
              "#fb9f3a"
             ],
             [
              0.8888888888888888,
              "#fdca26"
             ],
             [
              1,
              "#f0f921"
             ]
            ],
            "type": "contour"
           }
          ],
          "contourcarpet": [
           {
            "colorbar": {
             "outlinewidth": 0,
             "ticks": ""
            },
            "type": "contourcarpet"
           }
          ],
          "heatmap": [
           {
            "colorbar": {
             "outlinewidth": 0,
             "ticks": ""
            },
            "colorscale": [
             [
              0,
              "#0d0887"
             ],
             [
              0.1111111111111111,
              "#46039f"
             ],
             [
              0.2222222222222222,
              "#7201a8"
             ],
             [
              0.3333333333333333,
              "#9c179e"
             ],
             [
              0.4444444444444444,
              "#bd3786"
             ],
             [
              0.5555555555555556,
              "#d8576b"
             ],
             [
              0.6666666666666666,
              "#ed7953"
             ],
             [
              0.7777777777777778,
              "#fb9f3a"
             ],
             [
              0.8888888888888888,
              "#fdca26"
             ],
             [
              1,
              "#f0f921"
             ]
            ],
            "type": "heatmap"
           }
          ],
          "heatmapgl": [
           {
            "colorbar": {
             "outlinewidth": 0,
             "ticks": ""
            },
            "colorscale": [
             [
              0,
              "#0d0887"
             ],
             [
              0.1111111111111111,
              "#46039f"
             ],
             [
              0.2222222222222222,
              "#7201a8"
             ],
             [
              0.3333333333333333,
              "#9c179e"
             ],
             [
              0.4444444444444444,
              "#bd3786"
             ],
             [
              0.5555555555555556,
              "#d8576b"
             ],
             [
              0.6666666666666666,
              "#ed7953"
             ],
             [
              0.7777777777777778,
              "#fb9f3a"
             ],
             [
              0.8888888888888888,
              "#fdca26"
             ],
             [
              1,
              "#f0f921"
             ]
            ],
            "type": "heatmapgl"
           }
          ],
          "histogram": [
           {
            "marker": {
             "pattern": {
              "fillmode": "overlay",
              "size": 10,
              "solidity": 0.2
             }
            },
            "type": "histogram"
           }
          ],
          "histogram2d": [
           {
            "colorbar": {
             "outlinewidth": 0,
             "ticks": ""
            },
            "colorscale": [
             [
              0,
              "#0d0887"
             ],
             [
              0.1111111111111111,
              "#46039f"
             ],
             [
              0.2222222222222222,
              "#7201a8"
             ],
             [
              0.3333333333333333,
              "#9c179e"
             ],
             [
              0.4444444444444444,
              "#bd3786"
             ],
             [
              0.5555555555555556,
              "#d8576b"
             ],
             [
              0.6666666666666666,
              "#ed7953"
             ],
             [
              0.7777777777777778,
              "#fb9f3a"
             ],
             [
              0.8888888888888888,
              "#fdca26"
             ],
             [
              1,
              "#f0f921"
             ]
            ],
            "type": "histogram2d"
           }
          ],
          "histogram2dcontour": [
           {
            "colorbar": {
             "outlinewidth": 0,
             "ticks": ""
            },
            "colorscale": [
             [
              0,
              "#0d0887"
             ],
             [
              0.1111111111111111,
              "#46039f"
             ],
             [
              0.2222222222222222,
              "#7201a8"
             ],
             [
              0.3333333333333333,
              "#9c179e"
             ],
             [
              0.4444444444444444,
              "#bd3786"
             ],
             [
              0.5555555555555556,
              "#d8576b"
             ],
             [
              0.6666666666666666,
              "#ed7953"
             ],
             [
              0.7777777777777778,
              "#fb9f3a"
             ],
             [
              0.8888888888888888,
              "#fdca26"
             ],
             [
              1,
              "#f0f921"
             ]
            ],
            "type": "histogram2dcontour"
           }
          ],
          "mesh3d": [
           {
            "colorbar": {
             "outlinewidth": 0,
             "ticks": ""
            },
            "type": "mesh3d"
           }
          ],
          "parcoords": [
           {
            "line": {
             "colorbar": {
              "outlinewidth": 0,
              "ticks": ""
             }
            },
            "type": "parcoords"
           }
          ],
          "pie": [
           {
            "automargin": true,
            "type": "pie"
           }
          ],
          "scatter": [
           {
            "fillpattern": {
             "fillmode": "overlay",
             "size": 10,
             "solidity": 0.2
            },
            "type": "scatter"
           }
          ],
          "scatter3d": [
           {
            "line": {
             "colorbar": {
              "outlinewidth": 0,
              "ticks": ""
             }
            },
            "marker": {
             "colorbar": {
              "outlinewidth": 0,
              "ticks": ""
             }
            },
            "type": "scatter3d"
           }
          ],
          "scattercarpet": [
           {
            "marker": {
             "colorbar": {
              "outlinewidth": 0,
              "ticks": ""
             }
            },
            "type": "scattercarpet"
           }
          ],
          "scattergeo": [
           {
            "marker": {
             "colorbar": {
              "outlinewidth": 0,
              "ticks": ""
             }
            },
            "type": "scattergeo"
           }
          ],
          "scattergl": [
           {
            "marker": {
             "colorbar": {
              "outlinewidth": 0,
              "ticks": ""
             }
            },
            "type": "scattergl"
           }
          ],
          "scattermapbox": [
           {
            "marker": {
             "colorbar": {
              "outlinewidth": 0,
              "ticks": ""
             }
            },
            "type": "scattermapbox"
           }
          ],
          "scatterpolar": [
           {
            "marker": {
             "colorbar": {
              "outlinewidth": 0,
              "ticks": ""
             }
            },
            "type": "scatterpolar"
           }
          ],
          "scatterpolargl": [
           {
            "marker": {
             "colorbar": {
              "outlinewidth": 0,
              "ticks": ""
             }
            },
            "type": "scatterpolargl"
           }
          ],
          "scatterternary": [
           {
            "marker": {
             "colorbar": {
              "outlinewidth": 0,
              "ticks": ""
             }
            },
            "type": "scatterternary"
           }
          ],
          "surface": [
           {
            "colorbar": {
             "outlinewidth": 0,
             "ticks": ""
            },
            "colorscale": [
             [
              0,
              "#0d0887"
             ],
             [
              0.1111111111111111,
              "#46039f"
             ],
             [
              0.2222222222222222,
              "#7201a8"
             ],
             [
              0.3333333333333333,
              "#9c179e"
             ],
             [
              0.4444444444444444,
              "#bd3786"
             ],
             [
              0.5555555555555556,
              "#d8576b"
             ],
             [
              0.6666666666666666,
              "#ed7953"
             ],
             [
              0.7777777777777778,
              "#fb9f3a"
             ],
             [
              0.8888888888888888,
              "#fdca26"
             ],
             [
              1,
              "#f0f921"
             ]
            ],
            "type": "surface"
           }
          ],
          "table": [
           {
            "cells": {
             "fill": {
              "color": "#EBF0F8"
             },
             "line": {
              "color": "white"
             }
            },
            "header": {
             "fill": {
              "color": "#C8D4E3"
             },
             "line": {
              "color": "white"
             }
            },
            "type": "table"
           }
          ]
         },
         "layout": {
          "annotationdefaults": {
           "arrowcolor": "#2a3f5f",
           "arrowhead": 0,
           "arrowwidth": 1
          },
          "autotypenumbers": "strict",
          "coloraxis": {
           "colorbar": {
            "outlinewidth": 0,
            "ticks": ""
           }
          },
          "colorscale": {
           "diverging": [
            [
             0,
             "#8e0152"
            ],
            [
             0.1,
             "#c51b7d"
            ],
            [
             0.2,
             "#de77ae"
            ],
            [
             0.3,
             "#f1b6da"
            ],
            [
             0.4,
             "#fde0ef"
            ],
            [
             0.5,
             "#f7f7f7"
            ],
            [
             0.6,
             "#e6f5d0"
            ],
            [
             0.7,
             "#b8e186"
            ],
            [
             0.8,
             "#7fbc41"
            ],
            [
             0.9,
             "#4d9221"
            ],
            [
             1,
             "#276419"
            ]
           ],
           "sequential": [
            [
             0,
             "#0d0887"
            ],
            [
             0.1111111111111111,
             "#46039f"
            ],
            [
             0.2222222222222222,
             "#7201a8"
            ],
            [
             0.3333333333333333,
             "#9c179e"
            ],
            [
             0.4444444444444444,
             "#bd3786"
            ],
            [
             0.5555555555555556,
             "#d8576b"
            ],
            [
             0.6666666666666666,
             "#ed7953"
            ],
            [
             0.7777777777777778,
             "#fb9f3a"
            ],
            [
             0.8888888888888888,
             "#fdca26"
            ],
            [
             1,
             "#f0f921"
            ]
           ],
           "sequentialminus": [
            [
             0,
             "#0d0887"
            ],
            [
             0.1111111111111111,
             "#46039f"
            ],
            [
             0.2222222222222222,
             "#7201a8"
            ],
            [
             0.3333333333333333,
             "#9c179e"
            ],
            [
             0.4444444444444444,
             "#bd3786"
            ],
            [
             0.5555555555555556,
             "#d8576b"
            ],
            [
             0.6666666666666666,
             "#ed7953"
            ],
            [
             0.7777777777777778,
             "#fb9f3a"
            ],
            [
             0.8888888888888888,
             "#fdca26"
            ],
            [
             1,
             "#f0f921"
            ]
           ]
          },
          "colorway": [
           "#636efa",
           "#EF553B",
           "#00cc96",
           "#ab63fa",
           "#FFA15A",
           "#19d3f3",
           "#FF6692",
           "#B6E880",
           "#FF97FF",
           "#FECB52"
          ],
          "font": {
           "color": "#2a3f5f"
          },
          "geo": {
           "bgcolor": "white",
           "lakecolor": "white",
           "landcolor": "white",
           "showlakes": true,
           "showland": true,
           "subunitcolor": "#C8D4E3"
          },
          "hoverlabel": {
           "align": "left"
          },
          "hovermode": "closest",
          "mapbox": {
           "style": "light"
          },
          "paper_bgcolor": "white",
          "plot_bgcolor": "white",
          "polar": {
           "angularaxis": {
            "gridcolor": "#EBF0F8",
            "linecolor": "#EBF0F8",
            "ticks": ""
           },
           "bgcolor": "white",
           "radialaxis": {
            "gridcolor": "#EBF0F8",
            "linecolor": "#EBF0F8",
            "ticks": ""
           }
          },
          "scene": {
           "xaxis": {
            "backgroundcolor": "white",
            "gridcolor": "#DFE8F3",
            "gridwidth": 2,
            "linecolor": "#EBF0F8",
            "showbackground": true,
            "ticks": "",
            "zerolinecolor": "#EBF0F8"
           },
           "yaxis": {
            "backgroundcolor": "white",
            "gridcolor": "#DFE8F3",
            "gridwidth": 2,
            "linecolor": "#EBF0F8",
            "showbackground": true,
            "ticks": "",
            "zerolinecolor": "#EBF0F8"
           },
           "zaxis": {
            "backgroundcolor": "white",
            "gridcolor": "#DFE8F3",
            "gridwidth": 2,
            "linecolor": "#EBF0F8",
            "showbackground": true,
            "ticks": "",
            "zerolinecolor": "#EBF0F8"
           }
          },
          "shapedefaults": {
           "line": {
            "color": "#2a3f5f"
           }
          },
          "ternary": {
           "aaxis": {
            "gridcolor": "#DFE8F3",
            "linecolor": "#A2B1C6",
            "ticks": ""
           },
           "baxis": {
            "gridcolor": "#DFE8F3",
            "linecolor": "#A2B1C6",
            "ticks": ""
           },
           "bgcolor": "white",
           "caxis": {
            "gridcolor": "#DFE8F3",
            "linecolor": "#A2B1C6",
            "ticks": ""
           }
          },
          "title": {
           "x": 0.05
          },
          "xaxis": {
           "automargin": true,
           "gridcolor": "#EBF0F8",
           "linecolor": "#EBF0F8",
           "ticks": "",
           "title": {
            "standoff": 15
           },
           "zerolinecolor": "#EBF0F8",
           "zerolinewidth": 2
          },
          "yaxis": {
           "automargin": true,
           "gridcolor": "#EBF0F8",
           "linecolor": "#EBF0F8",
           "ticks": "",
           "title": {
            "standoff": 15
           },
           "zerolinecolor": "#EBF0F8",
           "zerolinewidth": 2
          }
         }
        },
        "title": {
         "text": "Top 10 most represented names by movie genres"
        }
       }
      }
     },
     "metadata": {},
     "output_type": "display_data"
    }
   ],
   "source": [
    "visualize_top_names(top_names_df)\n"
   ]
  },
  {
   "cell_type": "markdown",
   "metadata": {},
   "source": [
    "## Influenced prophet with genres\n"
   ]
  },
  {
   "cell_type": "code",
   "execution_count": 35,
   "metadata": {},
   "outputs": [
    {
     "data": {
      "text/html": [
       "<div>\n",
       "<style scoped>\n",
       "    .dataframe tbody tr th:only-of-type {\n",
       "        vertical-align: middle;\n",
       "    }\n",
       "\n",
       "    .dataframe tbody tr th {\n",
       "        vertical-align: top;\n",
       "    }\n",
       "\n",
       "    .dataframe thead th {\n",
       "        text-align: right;\n",
       "    }\n",
       "</style>\n",
       "<table border=\"1\" class=\"dataframe\">\n",
       "  <thead>\n",
       "    <tr style=\"text-align: right;\">\n",
       "      <th></th>\n",
       "      <th>Wikipedia ID</th>\n",
       "      <th>Movie_name</th>\n",
       "      <th>Year</th>\n",
       "      <th>Count</th>\n",
       "      <th>Full name</th>\n",
       "      <th>Normalized_name</th>\n",
       "      <th>Mean Difference</th>\n",
       "      <th>Genres</th>\n",
       "    </tr>\n",
       "  </thead>\n",
       "  <tbody>\n",
       "    <tr>\n",
       "      <th>0</th>\n",
       "      <td>451866</td>\n",
       "      <td>mission: impossible ii</td>\n",
       "      <td>2000</td>\n",
       "      <td>18</td>\n",
       "      <td>Ethan Hunt</td>\n",
       "      <td>ETHAN</td>\n",
       "      <td>15725.466667</td>\n",
       "      <td>Thriller</td>\n",
       "    </tr>\n",
       "    <tr>\n",
       "      <th>0</th>\n",
       "      <td>451866</td>\n",
       "      <td>mission: impossible ii</td>\n",
       "      <td>2000</td>\n",
       "      <td>18</td>\n",
       "      <td>Ethan Hunt</td>\n",
       "      <td>ETHAN</td>\n",
       "      <td>15725.466667</td>\n",
       "      <td>Action Thrillers</td>\n",
       "    </tr>\n",
       "    <tr>\n",
       "      <th>0</th>\n",
       "      <td>451866</td>\n",
       "      <td>mission: impossible ii</td>\n",
       "      <td>2000</td>\n",
       "      <td>18</td>\n",
       "      <td>Ethan Hunt</td>\n",
       "      <td>ETHAN</td>\n",
       "      <td>15725.466667</td>\n",
       "      <td>Action/Adventure</td>\n",
       "    </tr>\n",
       "    <tr>\n",
       "      <th>0</th>\n",
       "      <td>451866</td>\n",
       "      <td>mission: impossible ii</td>\n",
       "      <td>2000</td>\n",
       "      <td>18</td>\n",
       "      <td>Ethan Hunt</td>\n",
       "      <td>ETHAN</td>\n",
       "      <td>15725.466667</td>\n",
       "      <td>Glamorized Spy Film</td>\n",
       "    </tr>\n",
       "    <tr>\n",
       "      <th>0</th>\n",
       "      <td>451866</td>\n",
       "      <td>mission: impossible ii</td>\n",
       "      <td>2000</td>\n",
       "      <td>18</td>\n",
       "      <td>Ethan Hunt</td>\n",
       "      <td>ETHAN</td>\n",
       "      <td>15725.466667</td>\n",
       "      <td>Action</td>\n",
       "    </tr>\n",
       "  </tbody>\n",
       "</table>\n",
       "</div>"
      ],
      "text/plain": [
       "   Wikipedia ID              Movie_name  Year  Count   Full name  \\\n",
       "0        451866  mission: impossible ii  2000     18  Ethan Hunt   \n",
       "0        451866  mission: impossible ii  2000     18  Ethan Hunt   \n",
       "0        451866  mission: impossible ii  2000     18  Ethan Hunt   \n",
       "0        451866  mission: impossible ii  2000     18  Ethan Hunt   \n",
       "0        451866  mission: impossible ii  2000     18  Ethan Hunt   \n",
       "\n",
       "  Normalized_name  Mean Difference               Genres  \n",
       "0           ETHAN     15725.466667             Thriller  \n",
       "0           ETHAN     15725.466667     Action Thrillers  \n",
       "0           ETHAN     15725.466667     Action/Adventure  \n",
       "0           ETHAN     15725.466667  Glamorized Spy Film  \n",
       "0           ETHAN     15725.466667               Action  "
      ]
     },
     "execution_count": 35,
     "metadata": {},
     "output_type": "execute_result"
    }
   ],
   "source": [
    "exploded_df = load(\"data/clean/influenced_prophet_with_genres.csv\")\n",
    "exploded_df.head()"
   ]
  },
  {
   "cell_type": "code",
   "execution_count": 36,
   "metadata": {},
   "outputs": [
    {
     "data": {
      "text/html": [
       "<div>\n",
       "<style scoped>\n",
       "    .dataframe tbody tr th:only-of-type {\n",
       "        vertical-align: middle;\n",
       "    }\n",
       "\n",
       "    .dataframe tbody tr th {\n",
       "        vertical-align: top;\n",
       "    }\n",
       "\n",
       "    .dataframe thead th {\n",
       "        text-align: right;\n",
       "    }\n",
       "</style>\n",
       "<table border=\"1\" class=\"dataframe\">\n",
       "  <thead>\n",
       "    <tr style=\"text-align: right;\">\n",
       "      <th></th>\n",
       "      <th>Genres</th>\n",
       "      <th>Mean Difference</th>\n",
       "    </tr>\n",
       "  </thead>\n",
       "  <tbody>\n",
       "    <tr>\n",
       "      <th>176</th>\n",
       "      <td>Thriller</td>\n",
       "      <td>264148.016667</td>\n",
       "    </tr>\n",
       "    <tr>\n",
       "      <th>64</th>\n",
       "      <td>Drama</td>\n",
       "      <td>221542.266667</td>\n",
       "    </tr>\n",
       "    <tr>\n",
       "      <th>1</th>\n",
       "      <td>Action</td>\n",
       "      <td>220826.433333</td>\n",
       "    </tr>\n",
       "    <tr>\n",
       "      <th>39</th>\n",
       "      <td>Comedy</td>\n",
       "      <td>143556.933333</td>\n",
       "    </tr>\n",
       "    <tr>\n",
       "      <th>54</th>\n",
       "      <td>Crime Fiction</td>\n",
       "      <td>122131.833333</td>\n",
       "    </tr>\n",
       "    <tr>\n",
       "      <th>5</th>\n",
       "      <td>Adventure</td>\n",
       "      <td>112813.800000</td>\n",
       "    </tr>\n",
       "    <tr>\n",
       "      <th>144</th>\n",
       "      <td>Romance Film</td>\n",
       "      <td>108416.916667</td>\n",
       "    </tr>\n",
       "    <tr>\n",
       "      <th>152</th>\n",
       "      <td>Science Fiction</td>\n",
       "      <td>92833.933333</td>\n",
       "    </tr>\n",
       "    <tr>\n",
       "      <th>130</th>\n",
       "      <td>Period piece</td>\n",
       "      <td>83911.616667</td>\n",
       "    </tr>\n",
       "    <tr>\n",
       "      <th>102</th>\n",
       "      <td>Horror</td>\n",
       "      <td>83729.683333</td>\n",
       "    </tr>\n",
       "  </tbody>\n",
       "</table>\n",
       "</div>"
      ],
      "text/plain": [
       "              Genres  Mean Difference\n",
       "176         Thriller    264148.016667\n",
       "64             Drama    221542.266667\n",
       "1             Action    220826.433333\n",
       "39            Comedy    143556.933333\n",
       "54     Crime Fiction    122131.833333\n",
       "5          Adventure    112813.800000\n",
       "144     Romance Film    108416.916667\n",
       "152  Science Fiction     92833.933333\n",
       "130     Period piece     83911.616667\n",
       "102           Horror     83729.683333"
      ]
     },
     "execution_count": 36,
     "metadata": {},
     "output_type": "execute_result"
    }
   ],
   "source": [
    "genre_influence = get_top_genre_influence(exploded_df, top_n=10)\n",
    "genre_influence.head(10)"
   ]
  },
  {
   "cell_type": "code",
   "execution_count": 37,
   "metadata": {},
   "outputs": [
    {
     "ename": "TypeError",
     "evalue": "plot_top_genres() missing 1 required positional argument: 'metric'",
     "output_type": "error",
     "traceback": [
      "\u001b[1;31m---------------------------------------------------------------------------\u001b[0m",
      "\u001b[1;31mTypeError\u001b[0m                                 Traceback (most recent call last)",
      "Cell \u001b[1;32mIn[37], line 1\u001b[0m\n\u001b[1;32m----> 1\u001b[0m plot_top_genres(genre_influence)\n",
      "\u001b[1;31mTypeError\u001b[0m: plot_top_genres() missing 1 required positional argument: 'metric'"
     ]
    }
   ],
   "source": [
    "plot_top_genres(genre_influence)"
   ]
  },
  {
   "cell_type": "code",
   "execution_count": 18,
   "metadata": {},
   "outputs": [
    {
     "data": {
      "text/html": [
       "<div>\n",
       "<style scoped>\n",
       "    .dataframe tbody tr th:only-of-type {\n",
       "        vertical-align: middle;\n",
       "    }\n",
       "\n",
       "    .dataframe tbody tr th {\n",
       "        vertical-align: top;\n",
       "    }\n",
       "\n",
       "    .dataframe thead th {\n",
       "        text-align: right;\n",
       "    }\n",
       "</style>\n",
       "<table border=\"1\" class=\"dataframe\">\n",
       "  <thead>\n",
       "    <tr style=\"text-align: right;\">\n",
       "      <th></th>\n",
       "      <th>Wikipedia ID</th>\n",
       "      <th>Movie_name</th>\n",
       "      <th>Year</th>\n",
       "      <th>Count</th>\n",
       "      <th>Full name</th>\n",
       "      <th>Normalized_name</th>\n",
       "      <th>Mean Difference</th>\n",
       "      <th>Genres</th>\n",
       "    </tr>\n",
       "  </thead>\n",
       "  <tbody>\n",
       "    <tr>\n",
       "      <th>0</th>\n",
       "      <td>451866</td>\n",
       "      <td>mission: impossible ii</td>\n",
       "      <td>2000</td>\n",
       "      <td>18</td>\n",
       "      <td>Ethan Hunt</td>\n",
       "      <td>ETHAN</td>\n",
       "      <td>15725.466667</td>\n",
       "      <td>Action</td>\n",
       "    </tr>\n",
       "    <tr>\n",
       "      <th>1</th>\n",
       "      <td>633411</td>\n",
       "      <td>the avengers</td>\n",
       "      <td>1998</td>\n",
       "      <td>15</td>\n",
       "      <td>Emma Peel</td>\n",
       "      <td>EMMA</td>\n",
       "      <td>14985.966667</td>\n",
       "      <td>Action</td>\n",
       "    </tr>\n",
       "    <tr>\n",
       "      <th>2</th>\n",
       "      <td>3727473</td>\n",
       "      <td>man on fire</td>\n",
       "      <td>1987</td>\n",
       "      <td>4</td>\n",
       "      <td>Samantha \"Sam\" Balletto</td>\n",
       "      <td>SAMANTHA</td>\n",
       "      <td>14453.500000</td>\n",
       "      <td>Action</td>\n",
       "    </tr>\n",
       "    <tr>\n",
       "      <th>0</th>\n",
       "      <td>451866</td>\n",
       "      <td>mission: impossible ii</td>\n",
       "      <td>2000</td>\n",
       "      <td>18</td>\n",
       "      <td>Ethan Hunt</td>\n",
       "      <td>ETHAN</td>\n",
       "      <td>15725.466667</td>\n",
       "      <td>Action/Adventure</td>\n",
       "    </tr>\n",
       "    <tr>\n",
       "      <th>1</th>\n",
       "      <td>633411</td>\n",
       "      <td>the avengers</td>\n",
       "      <td>1998</td>\n",
       "      <td>15</td>\n",
       "      <td>Emma Peel</td>\n",
       "      <td>EMMA</td>\n",
       "      <td>14985.966667</td>\n",
       "      <td>Action/Adventure</td>\n",
       "    </tr>\n",
       "    <tr>\n",
       "      <th>7</th>\n",
       "      <td>268833</td>\n",
       "      <td>goldeneye</td>\n",
       "      <td>1995</td>\n",
       "      <td>4</td>\n",
       "      <td>Jack Wade</td>\n",
       "      <td>JACK</td>\n",
       "      <td>12508.133333</td>\n",
       "      <td>Action/Adventure</td>\n",
       "    </tr>\n",
       "    <tr>\n",
       "      <th>1</th>\n",
       "      <td>633411</td>\n",
       "      <td>the avengers</td>\n",
       "      <td>1998</td>\n",
       "      <td>15</td>\n",
       "      <td>Emma Peel</td>\n",
       "      <td>EMMA</td>\n",
       "      <td>14985.966667</td>\n",
       "      <td>Adventure</td>\n",
       "    </tr>\n",
       "    <tr>\n",
       "      <th>6</th>\n",
       "      <td>142417</td>\n",
       "      <td>apollo 13</td>\n",
       "      <td>1995</td>\n",
       "      <td>8</td>\n",
       "      <td>Jack Swigert</td>\n",
       "      <td>JACK</td>\n",
       "      <td>12508.133333</td>\n",
       "      <td>Adventure</td>\n",
       "    </tr>\n",
       "    <tr>\n",
       "      <th>7</th>\n",
       "      <td>268833</td>\n",
       "      <td>goldeneye</td>\n",
       "      <td>1995</td>\n",
       "      <td>4</td>\n",
       "      <td>Jack Wade</td>\n",
       "      <td>JACK</td>\n",
       "      <td>12508.133333</td>\n",
       "      <td>Adventure</td>\n",
       "    </tr>\n",
       "    <tr>\n",
       "      <th>1</th>\n",
       "      <td>633411</td>\n",
       "      <td>the avengers</td>\n",
       "      <td>1998</td>\n",
       "      <td>15</td>\n",
       "      <td>Emma Peel</td>\n",
       "      <td>EMMA</td>\n",
       "      <td>14985.966667</td>\n",
       "      <td>Comedy</td>\n",
       "    </tr>\n",
       "  </tbody>\n",
       "</table>\n",
       "</div>"
      ],
      "text/plain": [
       "   Wikipedia ID              Movie_name  Year  Count                Full name  \\\n",
       "0        451866  mission: impossible ii  2000     18               Ethan Hunt   \n",
       "1        633411            the avengers  1998     15                Emma Peel   \n",
       "2       3727473             man on fire  1987      4  Samantha \"Sam\" Balletto   \n",
       "0        451866  mission: impossible ii  2000     18               Ethan Hunt   \n",
       "1        633411            the avengers  1998     15                Emma Peel   \n",
       "7        268833               goldeneye  1995      4                Jack Wade   \n",
       "1        633411            the avengers  1998     15                Emma Peel   \n",
       "6        142417               apollo 13  1995      8             Jack Swigert   \n",
       "7        268833               goldeneye  1995      4                Jack Wade   \n",
       "1        633411            the avengers  1998     15                Emma Peel   \n",
       "\n",
       "  Normalized_name  Mean Difference            Genres  \n",
       "0           ETHAN     15725.466667            Action  \n",
       "1            EMMA     14985.966667            Action  \n",
       "2        SAMANTHA     14453.500000            Action  \n",
       "0           ETHAN     15725.466667  Action/Adventure  \n",
       "1            EMMA     14985.966667  Action/Adventure  \n",
       "7            JACK     12508.133333  Action/Adventure  \n",
       "1            EMMA     14985.966667         Adventure  \n",
       "6            JACK     12508.133333         Adventure  \n",
       "7            JACK     12508.133333         Adventure  \n",
       "1            EMMA     14985.966667            Comedy  "
      ]
     },
     "execution_count": 18,
     "metadata": {},
     "output_type": "execute_result"
    }
   ],
   "source": [
    "top_names_by_genre = get_top_names_by_genre(exploded_df)\n",
    "top_names_by_genre.head(10)"
   ]
  },
  {
   "cell_type": "code",
   "execution_count": 19,
   "metadata": {},
   "outputs": [
    {
     "data": {
      "application/vnd.plotly.v1+json": {
       "config": {
        "plotlyServerURL": "https://plot.ly"
       },
       "data": [
        {
         "branchvalues": "total",
         "customdata": [
          [
           "die hard",
           "Crime Fiction"
          ],
          [
           "terminator 2: judgment day",
           "Science Fiction"
          ],
          [
           "the avengers",
           "Action"
          ],
          [
           "the avengers",
           "Action/Adventure"
          ],
          [
           "the avengers",
           "Adventure"
          ],
          [
           "the avengers",
           "Comedy"
          ],
          [
           "the avengers",
           "Thriller"
          ],
          [
           "mission: impossible ii",
           "Action"
          ],
          [
           "mission: impossible ii",
           "Action/Adventure"
          ],
          [
           "mission: impossible ii",
           "Thriller"
          ],
          [
           "goldeneye",
           "Action/Adventure"
          ],
          [
           "(?)",
           "Adventure"
          ],
          [
           "apollo 13",
           "Drama"
          ],
          [
           "titanic",
           "Period piece"
          ],
          [
           "(?)",
           "Crime Fiction"
          ],
          [
           "titanic",
           "Romance Film"
          ],
          [
           "superman",
           "Science Fiction"
          ],
          [
           "the terminator",
           "Science Fiction"
          ],
          [
           "love actually",
           "Romance Film"
          ],
          [
           "the notebook",
           "Period piece"
          ],
          [
           "man on fire",
           "Action"
          ],
          [
           "sixteen candles",
           "Comedy"
          ],
          [
           "man on fire",
           "Drama"
          ],
          [
           "sixteen candles",
           "Romance Film"
          ],
          [
           "man on fire",
           "Thriller"
          ],
          [
           "barton fink",
           "Comedy"
          ],
          [
           "barton fink",
           "Drama"
          ],
          [
           "(?)",
           "Action"
          ],
          [
           "barton fink",
           "Period piece"
          ],
          [
           "(?)",
           "Action/Adventure"
          ],
          [
           "(?)",
           "Adventure"
          ],
          [
           "(?)",
           "Comedy"
          ],
          [
           "(?)",
           "Crime Fiction"
          ],
          [
           "(?)",
           "Drama"
          ],
          [
           "(?)",
           "Period piece"
          ],
          [
           "(?)",
           "Romance Film"
          ],
          [
           "(?)",
           "Science Fiction"
          ],
          [
           "(?)",
           "Thriller"
          ]
         ],
         "domain": {
          "x": [
           0,
           1
          ],
          "y": [
           0,
           1
          ]
         },
         "hovertemplate": "<b>%{label}</b><br>%{customdata[0]}<extra></extra>",
         "ids": [
          "Crime Fiction/ALEXANDER",
          "Science Fiction/CONNOR",
          "Action/EMMA",
          "Action/Adventure/EMMA",
          "Adventure/EMMA",
          "Comedy/EMMA",
          "Thriller/EMMA",
          "Action/ETHAN",
          "Action/Adventure/ETHAN",
          "Thriller/ETHAN",
          "Action/Adventure/JACK",
          "Adventure/JACK",
          "Drama/JACK",
          "Period piece/JACK",
          "Crime Fiction/JACK",
          "Romance Film/JACK",
          "Science Fiction/JONATHAN",
          "Science Fiction/KYLE",
          "Romance Film/MIA",
          "Period piece/NOAH",
          "Action/SAMANTHA",
          "Comedy/SAMANTHA",
          "Drama/SAMANTHA",
          "Romance Film/SAMANTHA",
          "Thriller/SAMANTHA",
          "Comedy/TAYLOR",
          "Drama/TAYLOR",
          "Action",
          "Period piece/TAYLOR",
          "Action/Adventure",
          "Adventure",
          "Comedy",
          "Crime Fiction",
          "Drama",
          "Period piece",
          "Romance Film",
          "Science Fiction",
          "Thriller"
         ],
         "labels": [
          "ALEXANDER",
          "CONNOR",
          "EMMA",
          "EMMA",
          "EMMA",
          "EMMA",
          "EMMA",
          "ETHAN",
          "ETHAN",
          "ETHAN",
          "JACK",
          "JACK",
          "JACK",
          "JACK",
          "JACK",
          "JACK",
          "JONATHAN",
          "KYLE",
          "MIA",
          "NOAH",
          "SAMANTHA",
          "SAMANTHA",
          "SAMANTHA",
          "SAMANTHA",
          "SAMANTHA",
          "TAYLOR",
          "TAYLOR",
          "Action",
          "TAYLOR",
          "Action/Adventure",
          "Adventure",
          "Comedy",
          "Crime Fiction",
          "Drama",
          "Period piece",
          "Romance Film",
          "Science Fiction",
          "Thriller"
         ],
         "marker": {
          "colors": [
           "#636efa",
           "#EF553B",
           "#00cc96",
           "#ab63fa",
           "#FFA15A",
           "#19d3f3",
           "#FF6692",
           "#00cc96",
           "#ab63fa",
           "#FF6692",
           "#ab63fa",
           "#FFA15A",
           "#B6E880",
           "#FF97FF",
           "#636efa",
           "#FECB52",
           "#EF553B",
           "#EF553B",
           "#FECB52",
           "#FF97FF",
           "#00cc96",
           "#19d3f3",
           "#B6E880",
           "#FECB52",
           "#FF6692",
           "#19d3f3",
           "#B6E880",
           "#00cc96",
           "#FF97FF",
           "#ab63fa",
           "#FFA15A",
           "#19d3f3",
           "#636efa",
           "#B6E880",
           "#FF97FF",
           "#FECB52",
           "#EF553B",
           "#FF6692"
          ]
         },
         "name": "",
         "parents": [
          "Crime Fiction",
          "Science Fiction",
          "Action",
          "Action/Adventure",
          "Adventure",
          "Comedy",
          "Thriller",
          "Action",
          "Action/Adventure",
          "Thriller",
          "Action/Adventure",
          "Adventure",
          "Drama",
          "Period piece",
          "Crime Fiction",
          "Romance Film",
          "Science Fiction",
          "Science Fiction",
          "Romance Film",
          "Period piece",
          "Action",
          "Comedy",
          "Drama",
          "Romance Film",
          "Thriller",
          "Comedy",
          "Drama",
          "",
          "Period piece",
          "",
          "",
          "",
          "",
          "",
          "",
          "",
          "",
          ""
         ],
         "type": "treemap",
         "values": [
          8733.633333333331,
          6015.1,
          14985.966666666667,
          14985.966666666667,
          14985.966666666667,
          14985.966666666667,
          14985.966666666667,
          15725.466666666667,
          15725.466666666667,
          15725.466666666667,
          12508.133333333337,
          25016.266666666674,
          12508.133333333337,
          12348.266666666668,
          22796.333333333336,
          12348.266666666668,
          10878.166666666668,
          10607.133333333331,
          7789.1,
          6105.4,
          14453.5,
          10643.533333333333,
          14453.5,
          10643.533333333333,
          14453.5,
          13892.1,
          13892.1,
          45164.933333333334,
          13892.1,
          43219.56666666667,
          40002.23333333334,
          39521.6,
          31529.966666666667,
          40853.73333333334,
          32345.76666666667,
          30780.9,
          27500.4,
          45164.933333333334
         ]
        }
       ],
       "layout": {
        "legend": {
         "tracegroupgap": 0
        },
        "template": {
         "data": {
          "bar": [
           {
            "error_x": {
             "color": "#2a3f5f"
            },
            "error_y": {
             "color": "#2a3f5f"
            },
            "marker": {
             "line": {
              "color": "white",
              "width": 0.5
             },
             "pattern": {
              "fillmode": "overlay",
              "size": 10,
              "solidity": 0.2
             }
            },
            "type": "bar"
           }
          ],
          "barpolar": [
           {
            "marker": {
             "line": {
              "color": "white",
              "width": 0.5
             },
             "pattern": {
              "fillmode": "overlay",
              "size": 10,
              "solidity": 0.2
             }
            },
            "type": "barpolar"
           }
          ],
          "carpet": [
           {
            "aaxis": {
             "endlinecolor": "#2a3f5f",
             "gridcolor": "#C8D4E3",
             "linecolor": "#C8D4E3",
             "minorgridcolor": "#C8D4E3",
             "startlinecolor": "#2a3f5f"
            },
            "baxis": {
             "endlinecolor": "#2a3f5f",
             "gridcolor": "#C8D4E3",
             "linecolor": "#C8D4E3",
             "minorgridcolor": "#C8D4E3",
             "startlinecolor": "#2a3f5f"
            },
            "type": "carpet"
           }
          ],
          "choropleth": [
           {
            "colorbar": {
             "outlinewidth": 0,
             "ticks": ""
            },
            "type": "choropleth"
           }
          ],
          "contour": [
           {
            "colorbar": {
             "outlinewidth": 0,
             "ticks": ""
            },
            "colorscale": [
             [
              0,
              "#0d0887"
             ],
             [
              0.1111111111111111,
              "#46039f"
             ],
             [
              0.2222222222222222,
              "#7201a8"
             ],
             [
              0.3333333333333333,
              "#9c179e"
             ],
             [
              0.4444444444444444,
              "#bd3786"
             ],
             [
              0.5555555555555556,
              "#d8576b"
             ],
             [
              0.6666666666666666,
              "#ed7953"
             ],
             [
              0.7777777777777778,
              "#fb9f3a"
             ],
             [
              0.8888888888888888,
              "#fdca26"
             ],
             [
              1,
              "#f0f921"
             ]
            ],
            "type": "contour"
           }
          ],
          "contourcarpet": [
           {
            "colorbar": {
             "outlinewidth": 0,
             "ticks": ""
            },
            "type": "contourcarpet"
           }
          ],
          "heatmap": [
           {
            "colorbar": {
             "outlinewidth": 0,
             "ticks": ""
            },
            "colorscale": [
             [
              0,
              "#0d0887"
             ],
             [
              0.1111111111111111,
              "#46039f"
             ],
             [
              0.2222222222222222,
              "#7201a8"
             ],
             [
              0.3333333333333333,
              "#9c179e"
             ],
             [
              0.4444444444444444,
              "#bd3786"
             ],
             [
              0.5555555555555556,
              "#d8576b"
             ],
             [
              0.6666666666666666,
              "#ed7953"
             ],
             [
              0.7777777777777778,
              "#fb9f3a"
             ],
             [
              0.8888888888888888,
              "#fdca26"
             ],
             [
              1,
              "#f0f921"
             ]
            ],
            "type": "heatmap"
           }
          ],
          "heatmapgl": [
           {
            "colorbar": {
             "outlinewidth": 0,
             "ticks": ""
            },
            "colorscale": [
             [
              0,
              "#0d0887"
             ],
             [
              0.1111111111111111,
              "#46039f"
             ],
             [
              0.2222222222222222,
              "#7201a8"
             ],
             [
              0.3333333333333333,
              "#9c179e"
             ],
             [
              0.4444444444444444,
              "#bd3786"
             ],
             [
              0.5555555555555556,
              "#d8576b"
             ],
             [
              0.6666666666666666,
              "#ed7953"
             ],
             [
              0.7777777777777778,
              "#fb9f3a"
             ],
             [
              0.8888888888888888,
              "#fdca26"
             ],
             [
              1,
              "#f0f921"
             ]
            ],
            "type": "heatmapgl"
           }
          ],
          "histogram": [
           {
            "marker": {
             "pattern": {
              "fillmode": "overlay",
              "size": 10,
              "solidity": 0.2
             }
            },
            "type": "histogram"
           }
          ],
          "histogram2d": [
           {
            "colorbar": {
             "outlinewidth": 0,
             "ticks": ""
            },
            "colorscale": [
             [
              0,
              "#0d0887"
             ],
             [
              0.1111111111111111,
              "#46039f"
             ],
             [
              0.2222222222222222,
              "#7201a8"
             ],
             [
              0.3333333333333333,
              "#9c179e"
             ],
             [
              0.4444444444444444,
              "#bd3786"
             ],
             [
              0.5555555555555556,
              "#d8576b"
             ],
             [
              0.6666666666666666,
              "#ed7953"
             ],
             [
              0.7777777777777778,
              "#fb9f3a"
             ],
             [
              0.8888888888888888,
              "#fdca26"
             ],
             [
              1,
              "#f0f921"
             ]
            ],
            "type": "histogram2d"
           }
          ],
          "histogram2dcontour": [
           {
            "colorbar": {
             "outlinewidth": 0,
             "ticks": ""
            },
            "colorscale": [
             [
              0,
              "#0d0887"
             ],
             [
              0.1111111111111111,
              "#46039f"
             ],
             [
              0.2222222222222222,
              "#7201a8"
             ],
             [
              0.3333333333333333,
              "#9c179e"
             ],
             [
              0.4444444444444444,
              "#bd3786"
             ],
             [
              0.5555555555555556,
              "#d8576b"
             ],
             [
              0.6666666666666666,
              "#ed7953"
             ],
             [
              0.7777777777777778,
              "#fb9f3a"
             ],
             [
              0.8888888888888888,
              "#fdca26"
             ],
             [
              1,
              "#f0f921"
             ]
            ],
            "type": "histogram2dcontour"
           }
          ],
          "mesh3d": [
           {
            "colorbar": {
             "outlinewidth": 0,
             "ticks": ""
            },
            "type": "mesh3d"
           }
          ],
          "parcoords": [
           {
            "line": {
             "colorbar": {
              "outlinewidth": 0,
              "ticks": ""
             }
            },
            "type": "parcoords"
           }
          ],
          "pie": [
           {
            "automargin": true,
            "type": "pie"
           }
          ],
          "scatter": [
           {
            "fillpattern": {
             "fillmode": "overlay",
             "size": 10,
             "solidity": 0.2
            },
            "type": "scatter"
           }
          ],
          "scatter3d": [
           {
            "line": {
             "colorbar": {
              "outlinewidth": 0,
              "ticks": ""
             }
            },
            "marker": {
             "colorbar": {
              "outlinewidth": 0,
              "ticks": ""
             }
            },
            "type": "scatter3d"
           }
          ],
          "scattercarpet": [
           {
            "marker": {
             "colorbar": {
              "outlinewidth": 0,
              "ticks": ""
             }
            },
            "type": "scattercarpet"
           }
          ],
          "scattergeo": [
           {
            "marker": {
             "colorbar": {
              "outlinewidth": 0,
              "ticks": ""
             }
            },
            "type": "scattergeo"
           }
          ],
          "scattergl": [
           {
            "marker": {
             "colorbar": {
              "outlinewidth": 0,
              "ticks": ""
             }
            },
            "type": "scattergl"
           }
          ],
          "scattermapbox": [
           {
            "marker": {
             "colorbar": {
              "outlinewidth": 0,
              "ticks": ""
             }
            },
            "type": "scattermapbox"
           }
          ],
          "scatterpolar": [
           {
            "marker": {
             "colorbar": {
              "outlinewidth": 0,
              "ticks": ""
             }
            },
            "type": "scatterpolar"
           }
          ],
          "scatterpolargl": [
           {
            "marker": {
             "colorbar": {
              "outlinewidth": 0,
              "ticks": ""
             }
            },
            "type": "scatterpolargl"
           }
          ],
          "scatterternary": [
           {
            "marker": {
             "colorbar": {
              "outlinewidth": 0,
              "ticks": ""
             }
            },
            "type": "scatterternary"
           }
          ],
          "surface": [
           {
            "colorbar": {
             "outlinewidth": 0,
             "ticks": ""
            },
            "colorscale": [
             [
              0,
              "#0d0887"
             ],
             [
              0.1111111111111111,
              "#46039f"
             ],
             [
              0.2222222222222222,
              "#7201a8"
             ],
             [
              0.3333333333333333,
              "#9c179e"
             ],
             [
              0.4444444444444444,
              "#bd3786"
             ],
             [
              0.5555555555555556,
              "#d8576b"
             ],
             [
              0.6666666666666666,
              "#ed7953"
             ],
             [
              0.7777777777777778,
              "#fb9f3a"
             ],
             [
              0.8888888888888888,
              "#fdca26"
             ],
             [
              1,
              "#f0f921"
             ]
            ],
            "type": "surface"
           }
          ],
          "table": [
           {
            "cells": {
             "fill": {
              "color": "#EBF0F8"
             },
             "line": {
              "color": "white"
             }
            },
            "header": {
             "fill": {
              "color": "#C8D4E3"
             },
             "line": {
              "color": "white"
             }
            },
            "type": "table"
           }
          ]
         },
         "layout": {
          "annotationdefaults": {
           "arrowcolor": "#2a3f5f",
           "arrowhead": 0,
           "arrowwidth": 1
          },
          "autotypenumbers": "strict",
          "coloraxis": {
           "colorbar": {
            "outlinewidth": 0,
            "ticks": ""
           }
          },
          "colorscale": {
           "diverging": [
            [
             0,
             "#8e0152"
            ],
            [
             0.1,
             "#c51b7d"
            ],
            [
             0.2,
             "#de77ae"
            ],
            [
             0.3,
             "#f1b6da"
            ],
            [
             0.4,
             "#fde0ef"
            ],
            [
             0.5,
             "#f7f7f7"
            ],
            [
             0.6,
             "#e6f5d0"
            ],
            [
             0.7,
             "#b8e186"
            ],
            [
             0.8,
             "#7fbc41"
            ],
            [
             0.9,
             "#4d9221"
            ],
            [
             1,
             "#276419"
            ]
           ],
           "sequential": [
            [
             0,
             "#0d0887"
            ],
            [
             0.1111111111111111,
             "#46039f"
            ],
            [
             0.2222222222222222,
             "#7201a8"
            ],
            [
             0.3333333333333333,
             "#9c179e"
            ],
            [
             0.4444444444444444,
             "#bd3786"
            ],
            [
             0.5555555555555556,
             "#d8576b"
            ],
            [
             0.6666666666666666,
             "#ed7953"
            ],
            [
             0.7777777777777778,
             "#fb9f3a"
            ],
            [
             0.8888888888888888,
             "#fdca26"
            ],
            [
             1,
             "#f0f921"
            ]
           ],
           "sequentialminus": [
            [
             0,
             "#0d0887"
            ],
            [
             0.1111111111111111,
             "#46039f"
            ],
            [
             0.2222222222222222,
             "#7201a8"
            ],
            [
             0.3333333333333333,
             "#9c179e"
            ],
            [
             0.4444444444444444,
             "#bd3786"
            ],
            [
             0.5555555555555556,
             "#d8576b"
            ],
            [
             0.6666666666666666,
             "#ed7953"
            ],
            [
             0.7777777777777778,
             "#fb9f3a"
            ],
            [
             0.8888888888888888,
             "#fdca26"
            ],
            [
             1,
             "#f0f921"
            ]
           ]
          },
          "colorway": [
           "#636efa",
           "#EF553B",
           "#00cc96",
           "#ab63fa",
           "#FFA15A",
           "#19d3f3",
           "#FF6692",
           "#B6E880",
           "#FF97FF",
           "#FECB52"
          ],
          "font": {
           "color": "#2a3f5f"
          },
          "geo": {
           "bgcolor": "white",
           "lakecolor": "white",
           "landcolor": "white",
           "showlakes": true,
           "showland": true,
           "subunitcolor": "#C8D4E3"
          },
          "hoverlabel": {
           "align": "left"
          },
          "hovermode": "closest",
          "mapbox": {
           "style": "light"
          },
          "paper_bgcolor": "white",
          "plot_bgcolor": "white",
          "polar": {
           "angularaxis": {
            "gridcolor": "#EBF0F8",
            "linecolor": "#EBF0F8",
            "ticks": ""
           },
           "bgcolor": "white",
           "radialaxis": {
            "gridcolor": "#EBF0F8",
            "linecolor": "#EBF0F8",
            "ticks": ""
           }
          },
          "scene": {
           "xaxis": {
            "backgroundcolor": "white",
            "gridcolor": "#DFE8F3",
            "gridwidth": 2,
            "linecolor": "#EBF0F8",
            "showbackground": true,
            "ticks": "",
            "zerolinecolor": "#EBF0F8"
           },
           "yaxis": {
            "backgroundcolor": "white",
            "gridcolor": "#DFE8F3",
            "gridwidth": 2,
            "linecolor": "#EBF0F8",
            "showbackground": true,
            "ticks": "",
            "zerolinecolor": "#EBF0F8"
           },
           "zaxis": {
            "backgroundcolor": "white",
            "gridcolor": "#DFE8F3",
            "gridwidth": 2,
            "linecolor": "#EBF0F8",
            "showbackground": true,
            "ticks": "",
            "zerolinecolor": "#EBF0F8"
           }
          },
          "shapedefaults": {
           "line": {
            "color": "#2a3f5f"
           }
          },
          "ternary": {
           "aaxis": {
            "gridcolor": "#DFE8F3",
            "linecolor": "#A2B1C6",
            "ticks": ""
           },
           "baxis": {
            "gridcolor": "#DFE8F3",
            "linecolor": "#A2B1C6",
            "ticks": ""
           },
           "bgcolor": "white",
           "caxis": {
            "gridcolor": "#DFE8F3",
            "linecolor": "#A2B1C6",
            "ticks": ""
           }
          },
          "title": {
           "x": 0.05
          },
          "xaxis": {
           "automargin": true,
           "gridcolor": "#EBF0F8",
           "linecolor": "#EBF0F8",
           "ticks": "",
           "title": {
            "standoff": 15
           },
           "zerolinecolor": "#EBF0F8",
           "zerolinewidth": 2
          },
          "yaxis": {
           "automargin": true,
           "gridcolor": "#EBF0F8",
           "linecolor": "#EBF0F8",
           "ticks": "",
           "title": {
            "standoff": 15
           },
           "zerolinecolor": "#EBF0F8",
           "zerolinewidth": 2
          }
         }
        },
        "title": {
         "text": "Top 3 Influential Names per Genre"
        }
       }
      }
     },
     "metadata": {},
     "output_type": "display_data"
    }
   ],
   "source": [
    "plot_treemap(top_names_by_genre)"
   ]
  },
  {
   "cell_type": "code",
   "execution_count": 29,
   "metadata": {},
   "outputs": [],
   "source": [
    "# note de mimile : commenté car fig ne représente pas le graph juste au dessus, ce dernier est deja ecrit sur top_10blabla dans la fonction visualize_top_names\n",
    "# Export the figure as an HTML file\n",
    "##fig.write_html(\"docs/_includes/top_10_names_by_genres.html\")\n"
   ]
  },
  {
   "cell_type": "markdown",
   "metadata": {},
   "source": [
    "### not cleaned"
   ]
  },
  {
   "cell_type": "code",
   "execution_count": null,
   "metadata": {},
   "outputs": [],
   "source": [
    "import pandas as pd\n",
    "\n",
    "# Access the actual DataFrame within the `NamesData` object\n",
    "valid_names_df = global_names.clean_df  # Access the DataFrame\n",
    "print(\"valid_name_df size:\", valid_names_df.shape)\n",
    "\n",
    "\n",
    "# Remove rows where Name is 'M' or 'DOCTOR'\n",
    "valid_names_df = valid_names_df[~valid_names_df[\"Name\"].isin([\"M\", \"DOCTOR\"])]\n",
    "\n",
    "# Verify the changes\n",
    "print(\"Remaining rows:\", valid_names_df.shape)\n",
    "print(valid_names_df.head())\n"
   ]
  },
  {
   "cell_type": "code",
   "execution_count": null,
   "metadata": {},
   "outputs": [],
   "source": [
    "valid_names_df[valid_names_df[\"Name\"]==\"M\"]"
   ]
  },
  {
   "cell_type": "code",
   "execution_count": null,
   "metadata": {},
   "outputs": [],
   "source": [
    "# Remove duplicates to avoid bias in movie character dataset\n",
    "df = expanded_imdb_mov_char_data.drop_duplicates(subset=[\"Movie_name\", \"Character_name\"])\n",
    "\n",
    "# Split genres into lists and explode them\n",
    "df_genres = df.assign(Genres=df[\"Genres\"].str.split(\", \")).explode(\"Genres\")\n",
    "df_genres.head(5)\n"
   ]
  },
  {
   "cell_type": "code",
   "execution_count": null,
   "metadata": {},
   "outputs": [],
   "source": [
    "# Step 1: Group by Movie_name to determine the top 10 movie genres\n",
    "# Remove duplicates for movies to avoid actor-based duplicates\n",
    "unique_movies = expanded_imdb_mov_char_data.drop_duplicates(subset=[\"Movie_name\"])\n",
    "\n",
    "# Split genres into lists and explode them for proper analysis\n",
    "unique_movies_genres = unique_movies.assign(Genres=unique_movies[\"Genres\"].str.split(\", \")).explode(\"Genres\")\n",
    "\n",
    "# Count the number of unique movies per genre and determine the top 10 genres\n",
    "top_10_genres = (\n",
    "    unique_movies_genres[\"Genres\"]\n",
    "    .value_counts()\n",
    "    .head(10)\n",
    "    .index.tolist()\n",
    ")\n",
    "\n",
    "# Create a dataframe containing only the top 10 genres\n",
    "top_10_genres_df = unique_movies_genres[unique_movies_genres[\"Genres\"].isin(top_10_genres)]\n",
    "\n",
    "print(\"Top 10 genres:\", top_10_genres)\n"
   ]
  },
  {
   "cell_type": "code",
   "execution_count": null,
   "metadata": {},
   "outputs": [],
   "source": [
    "# Step 2: Isolate rows from expanded_imdb_mov_char_data that belong to these top 10 genres\n",
    "# Explode the Genres column in the main dataset for analysis\n",
    "expanded_data_genres = expanded_imdb_mov_char_data.assign(Genres=expanded_imdb_mov_char_data[\"Genres\"].str.split(\", \")).explode(\"Genres\")\n",
    "\n",
    "# Filter to include only rows where the genre is in the top 10 genres\n",
    "filtered_data = expanded_data_genres[expanded_data_genres[\"Genres\"].isin(top_10_genres)]\n",
    "\n",
    "filtered_data.head(5)"
   ]
  },
  {
   "cell_type": "code",
   "execution_count": null,
   "metadata": {},
   "outputs": [],
   "source": [
    "# Step 3: Validate character names against the global_names dataset\n",
    "# Access the clean global_names dataframe\n",
    "#create a dataframe with only the names from global names, with the title of the column as \"Name\"\n",
    "\n",
    "valid_names_df.drop_duplicates(subset=[\"Name\"], inplace=True)\n",
    "valid_names_df.head(10)\n",
    "\n",
    "# is there M ?\n",
    "valid_names_df[valid_names_df[\"Name\"]==\"M\"]"
   ]
  },
  {
   "cell_type": "code",
   "execution_count": null,
   "metadata": {},
   "outputs": [],
   "source": [
    "valid_names_df[valid_names_df[\"Name\"] == \"DOCTOR\"].head(10)\n"
   ]
  },
  {
   "cell_type": "code",
   "execution_count": null,
   "metadata": {},
   "outputs": [],
   "source": [
    "# from filtered_data, isolate the columns: Movie_Name, Genres, Character_name\n",
    "genres_reduced_df = filtered_data[[\"Movie_name\", \"Genres\", \"Character_name\"]]\n",
    "genres_reduced_df.head(50)\n"
   ]
  },
  {
   "cell_type": "code",
   "execution_count": null,
   "metadata": {},
   "outputs": [],
   "source": [
    "genres_reduced_df[genres_reduced_df[\"Character_name\"]==\"MORGANA\"].head(10)"
   ]
  },
  {
   "cell_type": "code",
   "execution_count": 39,
   "metadata": {},
   "outputs": [],
   "source": [
    "# Extract first names from Character_name and filter them\n",
    "# keep only columns : Movie_name, Genres, Character_first_name\n",
    "# Fusionner les deux datasets (inner join)\n",
    "filtered_movies_df = genres_reduced_df.merge(\n",
    "    valid_names_df,\n",
    "    left_on='Character_name',\n",
    "    right_on='Name',\n",
    "    how='inner'\n",
    ")\n",
    "\n"
   ]
  },
  {
   "cell_type": "code",
   "execution_count": null,
   "metadata": {},
   "outputs": [],
   "source": [
    "# print size\n",
    "print(\"Size of filtered dataset:\", filtered_movies_df.shape)\n",
    "filtered_movies_df.head(10)"
   ]
  },
  {
   "cell_type": "code",
   "execution_count": null,
   "metadata": {},
   "outputs": [],
   "source": [
    "# Step 5: Determine the top 10 names for each genre\n",
    "filtered_movies_df = (\n",
    "    filtered_movies_df.groupby(\"Genres\")[\"Character_name\"]\n",
    "    .value_counts()\n",
    "    .groupby(level=0)\n",
    "    .nlargest(10)\n",
    "    .reset_index(level=0, drop=True)\n",
    "    .reset_index(name=\"Count\")\n",
    ")\n",
    "\n",
    "filtered_movies_df.head(50)"
   ]
  },
  {
   "cell_type": "code",
   "execution_count": null,
   "metadata": {},
   "outputs": [],
   "source": [
    "import plotly.express as px\n",
    "\n",
    "# Créer un treemap avec les données\n",
    "fig = px.treemap(\n",
    "    filtered_movies_df,\n",
    "    path=['Genres', 'Character_name'],  # Hiérarchie : Genre > Prénom\n",
    "    values='Count',                    # Taille proportionnelle au nombre d'occurrences\n",
    "    title=\"Répartition des Top 10 Prénoms par Genre de Films\",\n",
    "    color='Genres',                    # Couleur basée sur le Genre\n",
    "    template=\"plotly_dark\"             # Thème visuel\n",
    ")\n",
    "\n",
    "fig.show()\n"
   ]
  },
  {
   "cell_type": "markdown",
   "metadata": {},
   "source": [
    "## Sex influence"
   ]
  },
  {
   "cell_type": "code",
   "execution_count": null,
   "metadata": {},
   "outputs": [],
   "source": [
    "yup\n"
   ]
  },
  {
   "cell_type": "markdown",
   "metadata": {},
   "source": [
    "### Trend visualisation\n",
    "Using the previously computed trend-inducing movies, we can now plot the baby name popularity over time with a red line on the year of the most influential movie for this name.\n",
    "\n",
    "Note that we need to indicate the name in uppercase for compatibility with name datasets and add the gender M/F to avoid confusion for androgenous names."
   ]
  },
  {
   "cell_type": "code",
   "execution_count": null,
   "metadata": {},
   "outputs": [],
   "source": [
    "from src.models.trend_evaluation import plot_trend\n",
    "\n",
    "plot_trend(\"NEO\", \"M\", ranking, global_names)"
   ]
  },
  {
   "cell_type": "markdown",
   "metadata": {},
   "source": [
    "## Name prediction\n",
    "\n",
    "To answer our research questions, we needed to find a method to determine if after a specific date, the count of name would follow an abnormal evolution.\n",
    "\n",
    "There are multiple ways to do it and for our first tentative, we decided to try interrupted time series.\n",
    "\n",
    "### ITS - Interrupted time series\n",
    "The concept is rather simple: at a specific point in time, we split our measurements in two parts and use the first one to train a model. This model will try to predict what the evolution would have been based on the previous behaviour and once we get it, we can compare it with the second part of the data that we kept. \n",
    "\n",
    "As mentioned in the explanation, we need to chose a model for this and after some researches, we decided to try the two following ones.\n",
    "\n",
    "We are still evaluating how well they are suited for our project, since the training sample is quite limited due to the granularity of the data. (Count is by year)\n",
    "\n",
    "#### SARIMA - Seasonal Autoregressive Integrated Moving Average\n",
    "Well known model for univariate time series forecasting, SARIMA is an extension of the ARIMA model and adds the support for time series with a seasonal behaviour in addition to the trend support of ARIMA. "
   ]
  },
  {
   "cell_type": "code",
   "execution_count": null,
   "metadata": {},
   "outputs": [],
   "source": [
    "from src.models.naming_prediction import predict_naming_ARIMA\n",
    "\n",
    "prediction = predict_naming_ARIMA(global_names, \"LUKE\", 1976, 10, True)"
   ]
  },
  {
   "cell_type": "markdown",
   "metadata": {},
   "source": [
    "Here we asked our SARIMA model to forecast the counts for the name \"Luke\" from the year after the year 1976, which is when the first Star Wars movie was released. \n",
    "\n",
    "We can see that the the modelled curve has a slower growth than the actual one and this can be used to show an abnormal evolution of the count."
   ]
  },
  {
   "cell_type": "markdown",
   "metadata": {},
   "source": [
    "#### Prophet\n",
    "Developped by Facebook, Prophet is a fully automatic procedure made for time series forecasting that is used in various context due it's wide range of features (seasonality, holidy effect, ...)   "
   ]
  },
  {
   "cell_type": "code",
   "execution_count": null,
   "metadata": {},
   "outputs": [],
   "source": [
    "from src.models.naming_prediction import predict_naming_prophet\n",
    "\n",
    "prediction = predict_naming_prophet(global_names, \"LUKE\", 1976, 10, True)"
   ]
  }
 ],
 "metadata": {
  "kernelspec": {
   "display_name": "ada",
   "language": "python",
   "name": "python3"
  },
  "language_info": {
   "codemirror_mode": {
    "name": "ipython",
    "version": 3
   },
   "file_extension": ".py",
   "mimetype": "text/x-python",
   "name": "python",
   "nbconvert_exporter": "python",
   "pygments_lexer": "ipython3",
   "version": "3.11.9"
  }
 },
 "nbformat": 4,
 "nbformat_minor": 2
}
