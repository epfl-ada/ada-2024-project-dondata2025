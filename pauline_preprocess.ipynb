{
 "cells": [
  {
   "cell_type": "markdown",
   "metadata": {},
   "source": [
    "### Loading dataset\n"
   ]
  },
  {
   "cell_type": "code",
   "execution_count": 9,
   "metadata": {},
   "outputs": [],
   "source": [
    "import pandas as pd\n",
    "import os\n",
    "%matplotlib inline\n",
    "\n",
    "DATA_FOLDER = 'data/raw/'\n",
    "\n",
    "CHARACTER_METADATASET = DATA_FOLDER+\"character.metadata.tsv\"\n",
    "MOVIE_METADATASET = DATA_FOLDER+\"movie.metadata.tsv\"\n",
    "PLOT_SUMMARIES = DATA_FOLDER+\"plot_summaries.txt\"\n",
    "NAME_CLUSTER = DATA_FOLDER+\"name.clusters.txt\"\n",
    "TVTROPES = DATA_FOLDER+\"tvtropes.clusters.txt\""
   ]
  },
  {
   "cell_type": "code",
   "execution_count": null,
   "metadata": {},
   "outputs": [],
   "source": []
  },
  {
   "cell_type": "code",
   "execution_count": 10,
   "metadata": {},
   "outputs": [
    {
     "name": "stdout",
     "output_type": "stream",
     "text": [
      "Current working directory: c:\\Users\\Pauline\\Documents\\EPFL\\Master\\MA3\\ada\\ada-2024-project-dondata2025\n"
     ]
    }
   ],
   "source": [
    "print(\"Current working directory:\", os.getcwd())\n"
   ]
  },
  {
   "cell_type": "markdown",
   "metadata": {},
   "source": [
    "#### Character"
   ]
  },
  {
   "cell_type": "code",
   "execution_count": 12,
   "metadata": {},
   "outputs": [
    {
     "name": "stdout",
     "output_type": "stream",
     "text": [
      "shape: (450668, 13)\n"
     ]
    },
    {
     "data": {
      "text/html": [
       "<div>\n",
       "<style scoped>\n",
       "    .dataframe tbody tr th:only-of-type {\n",
       "        vertical-align: middle;\n",
       "    }\n",
       "\n",
       "    .dataframe tbody tr th {\n",
       "        vertical-align: top;\n",
       "    }\n",
       "\n",
       "    .dataframe thead th {\n",
       "        text-align: right;\n",
       "    }\n",
       "</style>\n",
       "<table border=\"1\" class=\"dataframe\">\n",
       "  <thead>\n",
       "    <tr style=\"text-align: right;\">\n",
       "      <th></th>\n",
       "      <th>975900</th>\n",
       "      <th>/m/03vyhn</th>\n",
       "      <th>2001-08-24</th>\n",
       "      <th>Akooshay</th>\n",
       "      <th>1958-08-26</th>\n",
       "      <th>F</th>\n",
       "      <th>1.62</th>\n",
       "      <th>Unnamed: 7</th>\n",
       "      <th>Wanda De Jesus</th>\n",
       "      <th>42</th>\n",
       "      <th>/m/0bgchxw</th>\n",
       "      <th>/m/0bgcj3x</th>\n",
       "      <th>/m/03wcfv7</th>\n",
       "    </tr>\n",
       "  </thead>\n",
       "  <tbody>\n",
       "    <tr>\n",
       "      <th>0</th>\n",
       "      <td>975900</td>\n",
       "      <td>/m/03vyhn</td>\n",
       "      <td>2001-08-24</td>\n",
       "      <td>Lieutenant Melanie Ballard</td>\n",
       "      <td>1974-08-15</td>\n",
       "      <td>F</td>\n",
       "      <td>1.780</td>\n",
       "      <td>/m/044038p</td>\n",
       "      <td>Natasha Henstridge</td>\n",
       "      <td>27.0</td>\n",
       "      <td>/m/0jys3m</td>\n",
       "      <td>/m/0bgchn4</td>\n",
       "      <td>/m/0346l4</td>\n",
       "    </tr>\n",
       "    <tr>\n",
       "      <th>1</th>\n",
       "      <td>975900</td>\n",
       "      <td>/m/03vyhn</td>\n",
       "      <td>2001-08-24</td>\n",
       "      <td>Desolation Williams</td>\n",
       "      <td>1969-06-15</td>\n",
       "      <td>M</td>\n",
       "      <td>1.727</td>\n",
       "      <td>/m/0x67</td>\n",
       "      <td>Ice Cube</td>\n",
       "      <td>32.0</td>\n",
       "      <td>/m/0jys3g</td>\n",
       "      <td>/m/0bgchn_</td>\n",
       "      <td>/m/01vw26l</td>\n",
       "    </tr>\n",
       "  </tbody>\n",
       "</table>\n",
       "</div>"
      ],
      "text/plain": [
       "   975900  /m/03vyhn  2001-08-24                    Akooshay  1958-08-26  F  \\\n",
       "0  975900  /m/03vyhn  2001-08-24  Lieutenant Melanie Ballard  1974-08-15  F   \n",
       "1  975900  /m/03vyhn  2001-08-24         Desolation Williams  1969-06-15  M   \n",
       "\n",
       "    1.62  Unnamed: 7      Wanda De Jesus    42 /m/0bgchxw  /m/0bgcj3x  \\\n",
       "0  1.780  /m/044038p  Natasha Henstridge  27.0  /m/0jys3m  /m/0bgchn4   \n",
       "1  1.727     /m/0x67            Ice Cube  32.0  /m/0jys3g  /m/0bgchn_   \n",
       "\n",
       "   /m/03wcfv7  \n",
       "0   /m/0346l4  \n",
       "1  /m/01vw26l  "
      ]
     },
     "execution_count": 12,
     "metadata": {},
     "output_type": "execute_result"
    }
   ],
   "source": [
    "# Character metadata\n",
    "character = pd.read_csv(CHARACTER_METADATASET, delimiter='\\t')\n",
    "print(\"shape:\", character.shape)\n",
    "character.head(2)\n",
    "\n"
   ]
  },
  {
   "cell_type": "code",
   "execution_count": null,
   "metadata": {},
   "outputs": [],
   "source": []
  },
  {
   "cell_type": "code",
   "execution_count": 13,
   "metadata": {},
   "outputs": [
    {
     "data": {
      "text/html": [
       "<div>\n",
       "<style scoped>\n",
       "    .dataframe tbody tr th:only-of-type {\n",
       "        vertical-align: middle;\n",
       "    }\n",
       "\n",
       "    .dataframe tbody tr th {\n",
       "        vertical-align: top;\n",
       "    }\n",
       "\n",
       "    .dataframe thead th {\n",
       "        text-align: right;\n",
       "    }\n",
       "</style>\n",
       "<table border=\"1\" class=\"dataframe\">\n",
       "  <thead>\n",
       "    <tr style=\"text-align: right;\">\n",
       "      <th></th>\n",
       "      <th>Wikipedia_movie_ID</th>\n",
       "      <th>Freebase_movie_ID</th>\n",
       "      <th>Release_date</th>\n",
       "      <th>Character_name</th>\n",
       "      <th>Actor_DOB</th>\n",
       "      <th>Actor_gender</th>\n",
       "      <th>Actor_height</th>\n",
       "      <th>Actor_ethnicity</th>\n",
       "      <th>Actor_name</th>\n",
       "      <th>Actor_age</th>\n",
       "      <th>Freebase_character_map</th>\n",
       "      <th>Freebase character ID</th>\n",
       "      <th>Freebase actor ID</th>\n",
       "    </tr>\n",
       "  </thead>\n",
       "  <tbody>\n",
       "    <tr>\n",
       "      <th>0</th>\n",
       "      <td>975900</td>\n",
       "      <td>/m/03vyhn</td>\n",
       "      <td>2001-08-24</td>\n",
       "      <td>Lieutenant Melanie Ballard</td>\n",
       "      <td>1974-08-15</td>\n",
       "      <td>F</td>\n",
       "      <td>1.780</td>\n",
       "      <td>/m/044038p</td>\n",
       "      <td>Natasha Henstridge</td>\n",
       "      <td>27.0</td>\n",
       "      <td>/m/0jys3m</td>\n",
       "      <td>/m/0bgchn4</td>\n",
       "      <td>/m/0346l4</td>\n",
       "    </tr>\n",
       "    <tr>\n",
       "      <th>1</th>\n",
       "      <td>975900</td>\n",
       "      <td>/m/03vyhn</td>\n",
       "      <td>2001-08-24</td>\n",
       "      <td>Desolation Williams</td>\n",
       "      <td>1969-06-15</td>\n",
       "      <td>M</td>\n",
       "      <td>1.727</td>\n",
       "      <td>/m/0x67</td>\n",
       "      <td>Ice Cube</td>\n",
       "      <td>32.0</td>\n",
       "      <td>/m/0jys3g</td>\n",
       "      <td>/m/0bgchn_</td>\n",
       "      <td>/m/01vw26l</td>\n",
       "    </tr>\n",
       "  </tbody>\n",
       "</table>\n",
       "</div>"
      ],
      "text/plain": [
       "   Wikipedia_movie_ID Freebase_movie_ID Release_date  \\\n",
       "0              975900         /m/03vyhn   2001-08-24   \n",
       "1              975900         /m/03vyhn   2001-08-24   \n",
       "\n",
       "               Character_name   Actor_DOB Actor_gender  Actor_height  \\\n",
       "0  Lieutenant Melanie Ballard  1974-08-15            F         1.780   \n",
       "1         Desolation Williams  1969-06-15            M         1.727   \n",
       "\n",
       "  Actor_ethnicity          Actor_name  Actor_age Freebase_character_map  \\\n",
       "0      /m/044038p  Natasha Henstridge       27.0              /m/0jys3m   \n",
       "1         /m/0x67            Ice Cube       32.0              /m/0jys3g   \n",
       "\n",
       "   Freebase character ID Freebase actor ID   \n",
       "0             /m/0bgchn4          /m/0346l4  \n",
       "1             /m/0bgchn_         /m/01vw26l  "
      ]
     },
     "execution_count": 13,
     "metadata": {},
     "output_type": "execute_result"
    }
   ],
   "source": [
    "# Naming the columns of the dataframes\n",
    "character.columns = ['Wikipedia_movie_ID', 'Freebase_movie_ID', 'Release_date','Character_name', 'Actor_DOB', 'Actor_gender', 'Actor_height', 'Actor_ethnicity', 'Actor_name', 'Actor_age', 'Freebase_character_map', ' Freebase character ID','Freebase actor ID '] \n",
    "\n",
    "#creating a header line for the movie_metadata\n",
    "character.head(2)"
   ]
  },
  {
   "cell_type": "code",
   "execution_count": 14,
   "metadata": {},
   "outputs": [
    {
     "name": "stdout",
     "output_type": "stream",
     "text": [
      "wikipedia_movie_ID unique? False\n"
     ]
    }
   ],
   "source": [
    "# is wikipedia_movie_ID unique?\n",
    "print(\"wikipedia_movie_ID unique?\", character.Wikipedia_movie_ID.is_unique)\n"
   ]
  },
  {
   "cell_type": "code",
   "execution_count": 15,
   "metadata": {},
   "outputs": [
    {
     "name": "stdout",
     "output_type": "stream",
     "text": [
      "wikipedia_movie_ID type: int64\n"
     ]
    }
   ],
   "source": [
    "#what is the type of wikipedia_movie_ID?\n",
    "print(\"wikipedia_movie_ID type:\", character.Wikipedia_movie_ID.dtype)\n"
   ]
  },
  {
   "cell_type": "code",
   "execution_count": 6,
   "metadata": {},
   "outputs": [
    {
     "data": {
      "text/html": [
       "<div>\n",
       "<style scoped>\n",
       "    .dataframe tbody tr th:only-of-type {\n",
       "        vertical-align: middle;\n",
       "    }\n",
       "\n",
       "    .dataframe tbody tr th {\n",
       "        vertical-align: top;\n",
       "    }\n",
       "\n",
       "    .dataframe thead th {\n",
       "        text-align: right;\n",
       "    }\n",
       "</style>\n",
       "<table border=\"1\" class=\"dataframe\">\n",
       "  <thead>\n",
       "    <tr style=\"text-align: right;\">\n",
       "      <th></th>\n",
       "      <th>Wikipedia_movie_ID</th>\n",
       "      <th>Freebase_movie_ID</th>\n",
       "      <th>Release_date</th>\n",
       "      <th>Character_name</th>\n",
       "      <th>Actor_DOB</th>\n",
       "      <th>Actor_gender</th>\n",
       "      <th>Actor_height</th>\n",
       "      <th>Actor_ethnicity</th>\n",
       "      <th>Actor_name</th>\n",
       "      <th>Actor_age</th>\n",
       "      <th>Freebase_character_map</th>\n",
       "      <th>Freebase character ID</th>\n",
       "      <th>Freebase actor ID</th>\n",
       "    </tr>\n",
       "  </thead>\n",
       "  <tbody>\n",
       "    <tr>\n",
       "      <th>16</th>\n",
       "      <td>3196793</td>\n",
       "      <td>/m/08yl5d</td>\n",
       "      <td>2000-02-16</td>\n",
       "      <td>Police Officer</td>\n",
       "      <td>NaN</td>\n",
       "      <td>M</td>\n",
       "      <td>NaN</td>\n",
       "      <td>NaN</td>\n",
       "      <td>Allen Cutler</td>\n",
       "      <td>NaN</td>\n",
       "      <td>/m/0lr37fl</td>\n",
       "      <td>/m/0lr3z80</td>\n",
       "      <td>/m/0h8pnlw</td>\n",
       "    </tr>\n",
       "    <tr>\n",
       "      <th>17</th>\n",
       "      <td>3196793</td>\n",
       "      <td>/m/08yl5d</td>\n",
       "      <td>2000-02-16</td>\n",
       "      <td>Reporter</td>\n",
       "      <td>1956-12-19</td>\n",
       "      <td>F</td>\n",
       "      <td>NaN</td>\n",
       "      <td>NaN</td>\n",
       "      <td>Alice Barrett</td>\n",
       "      <td>43.0</td>\n",
       "      <td>/m/0lr37d8</td>\n",
       "      <td>/m/0lr3z8g</td>\n",
       "      <td>/m/034dbm</td>\n",
       "    </tr>\n",
       "    <tr>\n",
       "      <th>18</th>\n",
       "      <td>3196793</td>\n",
       "      <td>/m/08yl5d</td>\n",
       "      <td>2000-02-16</td>\n",
       "      <td>NaN</td>\n",
       "      <td>NaN</td>\n",
       "      <td>M</td>\n",
       "      <td>NaN</td>\n",
       "      <td>NaN</td>\n",
       "      <td>Rod Britt</td>\n",
       "      <td>NaN</td>\n",
       "      <td>/m/0lr37gd</td>\n",
       "      <td>NaN</td>\n",
       "      <td>/m/0lr37gh</td>\n",
       "    </tr>\n",
       "    <tr>\n",
       "      <th>19</th>\n",
       "      <td>3196793</td>\n",
       "      <td>/m/08yl5d</td>\n",
       "      <td>2000-02-16</td>\n",
       "      <td>NaN</td>\n",
       "      <td>NaN</td>\n",
       "      <td>F</td>\n",
       "      <td>NaN</td>\n",
       "      <td>NaN</td>\n",
       "      <td>Hildy Brooks</td>\n",
       "      <td>NaN</td>\n",
       "      <td>/m/0lr37ff</td>\n",
       "      <td>NaN</td>\n",
       "      <td>/m/0gc9cpb</td>\n",
       "    </tr>\n",
       "    <tr>\n",
       "      <th>20</th>\n",
       "      <td>3196793</td>\n",
       "      <td>/m/08yl5d</td>\n",
       "      <td>2000-02-16</td>\n",
       "      <td>FBI Profiler Robert Hanks</td>\n",
       "      <td>1950-01-05</td>\n",
       "      <td>M</td>\n",
       "      <td>NaN</td>\n",
       "      <td>NaN</td>\n",
       "      <td>Robert Catrini</td>\n",
       "      <td>50.0</td>\n",
       "      <td>/m/0lr37g7</td>\n",
       "      <td>/m/0lr3z93</td>\n",
       "      <td>/m/0gbxsl5</td>\n",
       "    </tr>\n",
       "  </tbody>\n",
       "</table>\n",
       "</div>"
      ],
      "text/plain": [
       "    Wikipedia_movie_ID Freebase_movie_ID Release_date  \\\n",
       "16             3196793         /m/08yl5d   2000-02-16   \n",
       "17             3196793         /m/08yl5d   2000-02-16   \n",
       "18             3196793         /m/08yl5d   2000-02-16   \n",
       "19             3196793         /m/08yl5d   2000-02-16   \n",
       "20             3196793         /m/08yl5d   2000-02-16   \n",
       "\n",
       "               Character_name   Actor_DOB Actor_gender  Actor_height  \\\n",
       "16             Police Officer         NaN            M           NaN   \n",
       "17                   Reporter  1956-12-19            F           NaN   \n",
       "18                        NaN         NaN            M           NaN   \n",
       "19                        NaN         NaN            F           NaN   \n",
       "20  FBI Profiler Robert Hanks  1950-01-05            M           NaN   \n",
       "\n",
       "   Actor_ethnicity      Actor_name  Actor_age Freebase_character_map  \\\n",
       "16             NaN    Allen Cutler        NaN             /m/0lr37fl   \n",
       "17             NaN   Alice Barrett       43.0             /m/0lr37d8   \n",
       "18             NaN       Rod Britt        NaN             /m/0lr37gd   \n",
       "19             NaN    Hildy Brooks        NaN             /m/0lr37ff   \n",
       "20             NaN  Robert Catrini       50.0             /m/0lr37g7   \n",
       "\n",
       "    Freebase character ID Freebase actor ID   \n",
       "16             /m/0lr3z80         /m/0h8pnlw  \n",
       "17             /m/0lr3z8g          /m/034dbm  \n",
       "18                    NaN         /m/0lr37gh  \n",
       "19                    NaN         /m/0gc9cpb  \n",
       "20             /m/0lr3z93         /m/0gbxsl5  "
      ]
     },
     "execution_count": 6,
     "metadata": {},
     "output_type": "execute_result"
    }
   ],
   "source": [
    "# print the line of the 3196793 wikipedia_movie_ID\n",
    "character[character.Wikipedia_movie_ID == 3196793].head()\n"
   ]
  },
  {
   "cell_type": "markdown",
   "metadata": {},
   "source": [
    "#### Movies"
   ]
  },
  {
   "cell_type": "code",
   "execution_count": 7,
   "metadata": {},
   "outputs": [
    {
     "name": "stdout",
     "output_type": "stream",
     "text": [
      "shape: (81740, 9)\n"
     ]
    },
    {
     "data": {
      "text/html": [
       "<div>\n",
       "<style scoped>\n",
       "    .dataframe tbody tr th:only-of-type {\n",
       "        vertical-align: middle;\n",
       "    }\n",
       "\n",
       "    .dataframe tbody tr th {\n",
       "        vertical-align: top;\n",
       "    }\n",
       "\n",
       "    .dataframe thead th {\n",
       "        text-align: right;\n",
       "    }\n",
       "</style>\n",
       "<table border=\"1\" class=\"dataframe\">\n",
       "  <thead>\n",
       "    <tr style=\"text-align: right;\">\n",
       "      <th></th>\n",
       "      <th>975900</th>\n",
       "      <th>/m/03vyhn</th>\n",
       "      <th>Ghosts of Mars</th>\n",
       "      <th>2001-08-24</th>\n",
       "      <th>14010832</th>\n",
       "      <th>98.0</th>\n",
       "      <th>{\"/m/02h40lc\": \"English Language\"}</th>\n",
       "      <th>{\"/m/09c7w0\": \"United States of America\"}</th>\n",
       "      <th>{\"/m/01jfsb\": \"Thriller\", \"/m/06n90\": \"Science Fiction\", \"/m/03npn\": \"Horror\", \"/m/03k9fj\": \"Adventure\", \"/m/0fdjb\": \"Supernatural\", \"/m/02kdv5l\": \"Action\", \"/m/09zvmj\": \"Space western\"}</th>\n",
       "    </tr>\n",
       "  </thead>\n",
       "  <tbody>\n",
       "    <tr>\n",
       "      <th>0</th>\n",
       "      <td>3196793</td>\n",
       "      <td>/m/08yl5d</td>\n",
       "      <td>Getting Away with Murder: The JonBenét Ramsey ...</td>\n",
       "      <td>2000-02-16</td>\n",
       "      <td>NaN</td>\n",
       "      <td>95.0</td>\n",
       "      <td>{\"/m/02h40lc\": \"English Language\"}</td>\n",
       "      <td>{\"/m/09c7w0\": \"United States of America\"}</td>\n",
       "      <td>{\"/m/02n4kr\": \"Mystery\", \"/m/03bxz7\": \"Biograp...</td>\n",
       "    </tr>\n",
       "  </tbody>\n",
       "</table>\n",
       "</div>"
      ],
      "text/plain": [
       "    975900  /m/03vyhn                                     Ghosts of Mars  \\\n",
       "0  3196793  /m/08yl5d  Getting Away with Murder: The JonBenét Ramsey ...   \n",
       "\n",
       "   2001-08-24  14010832  98.0  {\"/m/02h40lc\": \"English Language\"}  \\\n",
       "0  2000-02-16       NaN  95.0  {\"/m/02h40lc\": \"English Language\"}   \n",
       "\n",
       "   {\"/m/09c7w0\": \"United States of America\"}  \\\n",
       "0  {\"/m/09c7w0\": \"United States of America\"}   \n",
       "\n",
       "  {\"/m/01jfsb\": \"Thriller\", \"/m/06n90\": \"Science Fiction\", \"/m/03npn\": \"Horror\", \"/m/03k9fj\": \"Adventure\", \"/m/0fdjb\": \"Supernatural\", \"/m/02kdv5l\": \"Action\", \"/m/09zvmj\": \"Space western\"}  \n",
       "0  {\"/m/02n4kr\": \"Mystery\", \"/m/03bxz7\": \"Biograp...                                                                                                                                          "
      ]
     },
     "execution_count": 7,
     "metadata": {},
     "output_type": "execute_result"
    }
   ],
   "source": [
    "movie_metadata = pd.read_csv(MOVIE_METADATASET, delimiter='\\t')\n",
    "print(\"shape:\", movie_metadata.shape)\n",
    "movie_metadata.head(1)"
   ]
  },
  {
   "cell_type": "code",
   "execution_count": 8,
   "metadata": {},
   "outputs": [
    {
     "data": {
      "text/html": [
       "<div>\n",
       "<style scoped>\n",
       "    .dataframe tbody tr th:only-of-type {\n",
       "        vertical-align: middle;\n",
       "    }\n",
       "\n",
       "    .dataframe tbody tr th {\n",
       "        vertical-align: top;\n",
       "    }\n",
       "\n",
       "    .dataframe thead th {\n",
       "        text-align: right;\n",
       "    }\n",
       "</style>\n",
       "<table border=\"1\" class=\"dataframe\">\n",
       "  <thead>\n",
       "    <tr style=\"text-align: right;\">\n",
       "      <th></th>\n",
       "      <th>Wikipedia_movie_ID</th>\n",
       "      <th>Freebase_movie_ID</th>\n",
       "      <th>Movie_name</th>\n",
       "      <th>Release_date</th>\n",
       "      <th>Revenue</th>\n",
       "      <th>Runtime</th>\n",
       "      <th>Languages</th>\n",
       "      <th>Countries</th>\n",
       "      <th>Genres</th>\n",
       "    </tr>\n",
       "  </thead>\n",
       "  <tbody>\n",
       "    <tr>\n",
       "      <th>0</th>\n",
       "      <td>3196793</td>\n",
       "      <td>/m/08yl5d</td>\n",
       "      <td>Getting Away with Murder: The JonBenét Ramsey ...</td>\n",
       "      <td>2000-02-16</td>\n",
       "      <td>NaN</td>\n",
       "      <td>95.0</td>\n",
       "      <td>{\"/m/02h40lc\": \"English Language\"}</td>\n",
       "      <td>{\"/m/09c7w0\": \"United States of America\"}</td>\n",
       "      <td>{\"/m/02n4kr\": \"Mystery\", \"/m/03bxz7\": \"Biograp...</td>\n",
       "    </tr>\n",
       "  </tbody>\n",
       "</table>\n",
       "</div>"
      ],
      "text/plain": [
       "   Wikipedia_movie_ID Freebase_movie_ID  \\\n",
       "0             3196793         /m/08yl5d   \n",
       "\n",
       "                                          Movie_name Release_date  Revenue  \\\n",
       "0  Getting Away with Murder: The JonBenét Ramsey ...   2000-02-16      NaN   \n",
       "\n",
       "   Runtime                           Languages  \\\n",
       "0     95.0  {\"/m/02h40lc\": \"English Language\"}   \n",
       "\n",
       "                                   Countries  \\\n",
       "0  {\"/m/09c7w0\": \"United States of America\"}   \n",
       "\n",
       "                                              Genres  \n",
       "0  {\"/m/02n4kr\": \"Mystery\", \"/m/03bxz7\": \"Biograp...  "
      ]
     },
     "execution_count": 8,
     "metadata": {},
     "output_type": "execute_result"
    }
   ],
   "source": [
    "# Naming the columns of the dataframes\n",
    "movie_metadata.columns = ['Wikipedia_movie_ID', 'Freebase_movie_ID', 'Movie_name', 'Release_date', 'Revenue', 'Runtime', 'Languages', 'Countries', 'Genres'] \n",
    "\n",
    "#creating a header line for the movie_metadata\n",
    "movie_metadata.head(1)"
   ]
  },
  {
   "cell_type": "code",
   "execution_count": 9,
   "metadata": {},
   "outputs": [
    {
     "name": "stdout",
     "output_type": "stream",
     "text": [
      "wikipedia_movie_ID unique? True\n"
     ]
    }
   ],
   "source": [
    "# is wikipedia_movie_ID unique?\n",
    "print(\"wikipedia_movie_ID unique?\", movie_metadata.Wikipedia_movie_ID.is_unique)"
   ]
  },
  {
   "cell_type": "markdown",
   "metadata": {},
   "source": [
    "#### Merging "
   ]
  },
  {
   "cell_type": "code",
   "execution_count": 10,
   "metadata": {},
   "outputs": [
    {
     "name": "stdout",
     "output_type": "stream",
     "text": [
      "movie_metadata size: (81740, 9)\n",
      "character size: (450668, 13)\n"
     ]
    }
   ],
   "source": [
    "# printing size of both dataframes\n",
    "print(\"movie_metadata size:\", movie_metadata.shape)\n",
    "print(\"character size:\", character.shape)"
   ]
  },
  {
   "cell_type": "code",
   "execution_count": 11,
   "metadata": {},
   "outputs": [
    {
     "name": "stdout",
     "output_type": "stream",
     "text": [
      "shape: (450652, 19)\n"
     ]
    },
    {
     "data": {
      "text/html": [
       "<div>\n",
       "<style scoped>\n",
       "    .dataframe tbody tr th:only-of-type {\n",
       "        vertical-align: middle;\n",
       "    }\n",
       "\n",
       "    .dataframe tbody tr th {\n",
       "        vertical-align: top;\n",
       "    }\n",
       "\n",
       "    .dataframe thead th {\n",
       "        text-align: right;\n",
       "    }\n",
       "</style>\n",
       "<table border=\"1\" class=\"dataframe\">\n",
       "  <thead>\n",
       "    <tr style=\"text-align: right;\">\n",
       "      <th></th>\n",
       "      <th>Wikipedia_movie_ID</th>\n",
       "      <th>Freebase_movie_ID</th>\n",
       "      <th>Movie_name</th>\n",
       "      <th>Release_date</th>\n",
       "      <th>Revenue</th>\n",
       "      <th>Runtime</th>\n",
       "      <th>Languages</th>\n",
       "      <th>Countries</th>\n",
       "      <th>Genres</th>\n",
       "      <th>Character_name</th>\n",
       "      <th>Actor_DOB</th>\n",
       "      <th>Actor_gender</th>\n",
       "      <th>Actor_height</th>\n",
       "      <th>Actor_ethnicity</th>\n",
       "      <th>Actor_name</th>\n",
       "      <th>Actor_age</th>\n",
       "      <th>Freebase_character_map</th>\n",
       "      <th>Freebase character ID</th>\n",
       "      <th>Freebase actor ID</th>\n",
       "    </tr>\n",
       "  </thead>\n",
       "  <tbody>\n",
       "    <tr>\n",
       "      <th>0</th>\n",
       "      <td>3196793</td>\n",
       "      <td>/m/08yl5d</td>\n",
       "      <td>Getting Away with Murder: The JonBenét Ramsey ...</td>\n",
       "      <td>2000-02-16</td>\n",
       "      <td>NaN</td>\n",
       "      <td>95.0</td>\n",
       "      <td>{\"/m/02h40lc\": \"English Language\"}</td>\n",
       "      <td>{\"/m/09c7w0\": \"United States of America\"}</td>\n",
       "      <td>{\"/m/02n4kr\": \"Mystery\", \"/m/03bxz7\": \"Biograp...</td>\n",
       "      <td>Police Officer</td>\n",
       "      <td>NaN</td>\n",
       "      <td>M</td>\n",
       "      <td>NaN</td>\n",
       "      <td>NaN</td>\n",
       "      <td>Allen Cutler</td>\n",
       "      <td>NaN</td>\n",
       "      <td>/m/0lr37fl</td>\n",
       "      <td>/m/0lr3z80</td>\n",
       "      <td>/m/0h8pnlw</td>\n",
       "    </tr>\n",
       "    <tr>\n",
       "      <th>1</th>\n",
       "      <td>3196793</td>\n",
       "      <td>/m/08yl5d</td>\n",
       "      <td>Getting Away with Murder: The JonBenét Ramsey ...</td>\n",
       "      <td>2000-02-16</td>\n",
       "      <td>NaN</td>\n",
       "      <td>95.0</td>\n",
       "      <td>{\"/m/02h40lc\": \"English Language\"}</td>\n",
       "      <td>{\"/m/09c7w0\": \"United States of America\"}</td>\n",
       "      <td>{\"/m/02n4kr\": \"Mystery\", \"/m/03bxz7\": \"Biograp...</td>\n",
       "      <td>Reporter</td>\n",
       "      <td>1956-12-19</td>\n",
       "      <td>F</td>\n",
       "      <td>NaN</td>\n",
       "      <td>NaN</td>\n",
       "      <td>Alice Barrett</td>\n",
       "      <td>43.0</td>\n",
       "      <td>/m/0lr37d8</td>\n",
       "      <td>/m/0lr3z8g</td>\n",
       "      <td>/m/034dbm</td>\n",
       "    </tr>\n",
       "    <tr>\n",
       "      <th>2</th>\n",
       "      <td>3196793</td>\n",
       "      <td>/m/08yl5d</td>\n",
       "      <td>Getting Away with Murder: The JonBenét Ramsey ...</td>\n",
       "      <td>2000-02-16</td>\n",
       "      <td>NaN</td>\n",
       "      <td>95.0</td>\n",
       "      <td>{\"/m/02h40lc\": \"English Language\"}</td>\n",
       "      <td>{\"/m/09c7w0\": \"United States of America\"}</td>\n",
       "      <td>{\"/m/02n4kr\": \"Mystery\", \"/m/03bxz7\": \"Biograp...</td>\n",
       "      <td>NaN</td>\n",
       "      <td>NaN</td>\n",
       "      <td>M</td>\n",
       "      <td>NaN</td>\n",
       "      <td>NaN</td>\n",
       "      <td>Rod Britt</td>\n",
       "      <td>NaN</td>\n",
       "      <td>/m/0lr37gd</td>\n",
       "      <td>NaN</td>\n",
       "      <td>/m/0lr37gh</td>\n",
       "    </tr>\n",
       "  </tbody>\n",
       "</table>\n",
       "</div>"
      ],
      "text/plain": [
       "   Wikipedia_movie_ID Freebase_movie_ID  \\\n",
       "0             3196793         /m/08yl5d   \n",
       "1             3196793         /m/08yl5d   \n",
       "2             3196793         /m/08yl5d   \n",
       "\n",
       "                                          Movie_name Release_date  Revenue  \\\n",
       "0  Getting Away with Murder: The JonBenét Ramsey ...   2000-02-16      NaN   \n",
       "1  Getting Away with Murder: The JonBenét Ramsey ...   2000-02-16      NaN   \n",
       "2  Getting Away with Murder: The JonBenét Ramsey ...   2000-02-16      NaN   \n",
       "\n",
       "   Runtime                           Languages  \\\n",
       "0     95.0  {\"/m/02h40lc\": \"English Language\"}   \n",
       "1     95.0  {\"/m/02h40lc\": \"English Language\"}   \n",
       "2     95.0  {\"/m/02h40lc\": \"English Language\"}   \n",
       "\n",
       "                                   Countries  \\\n",
       "0  {\"/m/09c7w0\": \"United States of America\"}   \n",
       "1  {\"/m/09c7w0\": \"United States of America\"}   \n",
       "2  {\"/m/09c7w0\": \"United States of America\"}   \n",
       "\n",
       "                                              Genres  Character_name  \\\n",
       "0  {\"/m/02n4kr\": \"Mystery\", \"/m/03bxz7\": \"Biograp...  Police Officer   \n",
       "1  {\"/m/02n4kr\": \"Mystery\", \"/m/03bxz7\": \"Biograp...        Reporter   \n",
       "2  {\"/m/02n4kr\": \"Mystery\", \"/m/03bxz7\": \"Biograp...             NaN   \n",
       "\n",
       "    Actor_DOB Actor_gender  Actor_height Actor_ethnicity     Actor_name  \\\n",
       "0         NaN            M           NaN             NaN   Allen Cutler   \n",
       "1  1956-12-19            F           NaN             NaN  Alice Barrett   \n",
       "2         NaN            M           NaN             NaN      Rod Britt   \n",
       "\n",
       "   Actor_age Freebase_character_map  Freebase character ID Freebase actor ID   \n",
       "0        NaN             /m/0lr37fl             /m/0lr3z80         /m/0h8pnlw  \n",
       "1       43.0             /m/0lr37d8             /m/0lr3z8g          /m/034dbm  \n",
       "2        NaN             /m/0lr37gd                    NaN         /m/0lr37gh  "
      ]
     },
     "execution_count": 11,
     "metadata": {},
     "output_type": "execute_result"
    }
   ],
   "source": [
    "df = pd.merge(movie_metadata, character, on=['Wikipedia_movie_ID', 'Freebase_movie_ID', 'Release_date' ])\n",
    "print(\"shape:\", df.shape)\n",
    "df.head(3)"
   ]
  },
  {
   "cell_type": "code",
   "execution_count": 12,
   "metadata": {},
   "outputs": [
    {
     "name": "stdout",
     "output_type": "stream",
     "text": [
      "wikipedia_movie_ID unique? False\n"
     ]
    }
   ],
   "source": [
    "# is wikipedia_movie_ID unique?\n",
    "print(\"wikipedia_movie_ID unique?\", df.Wikipedia_movie_ID.is_unique)"
   ]
  },
  {
   "cell_type": "markdown",
   "metadata": {},
   "source": [
    "#### Dealing with unreadable features"
   ]
  },
  {
   "cell_type": "code",
   "execution_count": 13,
   "metadata": {},
   "outputs": [],
   "source": [
    "import pandas as pd\n",
    "import json\n"
   ]
  },
  {
   "cell_type": "code",
   "execution_count": 14,
   "metadata": {},
   "outputs": [],
   "source": [
    "# Define a general function to parse JSON-like strings and extract data based on the column name\n",
    "def extract_data_from_column(data, column_name):\n",
    "    if pd.notna(data):\n",
    "        # Check if the entry is already a dictionary\n",
    "        if isinstance(data, dict):\n",
    "            data_dict = data\n",
    "        else:\n",
    "            try:\n",
    "                # Convert string representation of a dictionary to an actual dictionary\n",
    "                data_dict = json.loads(data.replace(\"'\", '\"'))\n",
    "            except Exception as e:\n",
    "                return None  # Handle cases where conversion fails\n",
    "\n",
    "        # Extract and process data based on the column type\n",
    "        if column_name in ['Languages', 'Countries']:\n",
    "            # Simplify by removing common suffix like \"Language\" or \"Country\" if needed\n",
    "            return ', '.join(value.replace(\" Language\", \"\").replace(\" Country\", \"\") for value in data_dict.values())\n",
    "        elif column_name == 'Genres':\n",
    "            # For genres, extract the human-readable part after the colon if present\n",
    "            return ', '.join(genre.split(': ')[-1] if ': ' in genre else genre for genre in data_dict.values())\n",
    "        else:\n",
    "            # Default behavior: join values with a comma\n",
    "            return ', '.join(data_dict.values())\n",
    "    return None\n"
   ]
  },
  {
   "cell_type": "code",
   "execution_count": 15,
   "metadata": {},
   "outputs": [
    {
     "data": {
      "text/html": [
       "<div>\n",
       "<style scoped>\n",
       "    .dataframe tbody tr th:only-of-type {\n",
       "        vertical-align: middle;\n",
       "    }\n",
       "\n",
       "    .dataframe tbody tr th {\n",
       "        vertical-align: top;\n",
       "    }\n",
       "\n",
       "    .dataframe thead th {\n",
       "        text-align: right;\n",
       "    }\n",
       "</style>\n",
       "<table border=\"1\" class=\"dataframe\">\n",
       "  <thead>\n",
       "    <tr style=\"text-align: right;\">\n",
       "      <th></th>\n",
       "      <th>Wikipedia_movie_ID</th>\n",
       "      <th>Freebase_movie_ID</th>\n",
       "      <th>Movie_name</th>\n",
       "      <th>Release_date</th>\n",
       "      <th>Revenue</th>\n",
       "      <th>Runtime</th>\n",
       "      <th>Languages</th>\n",
       "      <th>Countries</th>\n",
       "      <th>Genres</th>\n",
       "      <th>Character_name</th>\n",
       "      <th>Actor_DOB</th>\n",
       "      <th>Actor_gender</th>\n",
       "      <th>Actor_height</th>\n",
       "      <th>Actor_ethnicity</th>\n",
       "      <th>Actor_name</th>\n",
       "      <th>Actor_age</th>\n",
       "      <th>Freebase_character_map</th>\n",
       "      <th>Freebase character ID</th>\n",
       "      <th>Freebase actor ID</th>\n",
       "    </tr>\n",
       "  </thead>\n",
       "  <tbody>\n",
       "    <tr>\n",
       "      <th>0</th>\n",
       "      <td>3196793</td>\n",
       "      <td>/m/08yl5d</td>\n",
       "      <td>Getting Away with Murder: The JonBenét Ramsey ...</td>\n",
       "      <td>2000-02-16</td>\n",
       "      <td>NaN</td>\n",
       "      <td>95.0</td>\n",
       "      <td>English</td>\n",
       "      <td>United States of America</td>\n",
       "      <td>Mystery, Biographical film, Drama, Crime Drama</td>\n",
       "      <td>Police Officer</td>\n",
       "      <td>NaN</td>\n",
       "      <td>M</td>\n",
       "      <td>NaN</td>\n",
       "      <td>NaN</td>\n",
       "      <td>Allen Cutler</td>\n",
       "      <td>NaN</td>\n",
       "      <td>/m/0lr37fl</td>\n",
       "      <td>/m/0lr3z80</td>\n",
       "      <td>/m/0h8pnlw</td>\n",
       "    </tr>\n",
       "    <tr>\n",
       "      <th>1</th>\n",
       "      <td>3196793</td>\n",
       "      <td>/m/08yl5d</td>\n",
       "      <td>Getting Away with Murder: The JonBenét Ramsey ...</td>\n",
       "      <td>2000-02-16</td>\n",
       "      <td>NaN</td>\n",
       "      <td>95.0</td>\n",
       "      <td>English</td>\n",
       "      <td>United States of America</td>\n",
       "      <td>Mystery, Biographical film, Drama, Crime Drama</td>\n",
       "      <td>Reporter</td>\n",
       "      <td>1956-12-19</td>\n",
       "      <td>F</td>\n",
       "      <td>NaN</td>\n",
       "      <td>NaN</td>\n",
       "      <td>Alice Barrett</td>\n",
       "      <td>43.0</td>\n",
       "      <td>/m/0lr37d8</td>\n",
       "      <td>/m/0lr3z8g</td>\n",
       "      <td>/m/034dbm</td>\n",
       "    </tr>\n",
       "    <tr>\n",
       "      <th>2</th>\n",
       "      <td>3196793</td>\n",
       "      <td>/m/08yl5d</td>\n",
       "      <td>Getting Away with Murder: The JonBenét Ramsey ...</td>\n",
       "      <td>2000-02-16</td>\n",
       "      <td>NaN</td>\n",
       "      <td>95.0</td>\n",
       "      <td>English</td>\n",
       "      <td>United States of America</td>\n",
       "      <td>Mystery, Biographical film, Drama, Crime Drama</td>\n",
       "      <td>NaN</td>\n",
       "      <td>NaN</td>\n",
       "      <td>M</td>\n",
       "      <td>NaN</td>\n",
       "      <td>NaN</td>\n",
       "      <td>Rod Britt</td>\n",
       "      <td>NaN</td>\n",
       "      <td>/m/0lr37gd</td>\n",
       "      <td>NaN</td>\n",
       "      <td>/m/0lr37gh</td>\n",
       "    </tr>\n",
       "    <tr>\n",
       "      <th>3</th>\n",
       "      <td>3196793</td>\n",
       "      <td>/m/08yl5d</td>\n",
       "      <td>Getting Away with Murder: The JonBenét Ramsey ...</td>\n",
       "      <td>2000-02-16</td>\n",
       "      <td>NaN</td>\n",
       "      <td>95.0</td>\n",
       "      <td>English</td>\n",
       "      <td>United States of America</td>\n",
       "      <td>Mystery, Biographical film, Drama, Crime Drama</td>\n",
       "      <td>NaN</td>\n",
       "      <td>NaN</td>\n",
       "      <td>F</td>\n",
       "      <td>NaN</td>\n",
       "      <td>NaN</td>\n",
       "      <td>Hildy Brooks</td>\n",
       "      <td>NaN</td>\n",
       "      <td>/m/0lr37ff</td>\n",
       "      <td>NaN</td>\n",
       "      <td>/m/0gc9cpb</td>\n",
       "    </tr>\n",
       "    <tr>\n",
       "      <th>4</th>\n",
       "      <td>3196793</td>\n",
       "      <td>/m/08yl5d</td>\n",
       "      <td>Getting Away with Murder: The JonBenét Ramsey ...</td>\n",
       "      <td>2000-02-16</td>\n",
       "      <td>NaN</td>\n",
       "      <td>95.0</td>\n",
       "      <td>English</td>\n",
       "      <td>United States of America</td>\n",
       "      <td>Mystery, Biographical film, Drama, Crime Drama</td>\n",
       "      <td>FBI Profiler Robert Hanks</td>\n",
       "      <td>1950-01-05</td>\n",
       "      <td>M</td>\n",
       "      <td>NaN</td>\n",
       "      <td>NaN</td>\n",
       "      <td>Robert Catrini</td>\n",
       "      <td>50.0</td>\n",
       "      <td>/m/0lr37g7</td>\n",
       "      <td>/m/0lr3z93</td>\n",
       "      <td>/m/0gbxsl5</td>\n",
       "    </tr>\n",
       "  </tbody>\n",
       "</table>\n",
       "</div>"
      ],
      "text/plain": [
       "   Wikipedia_movie_ID Freebase_movie_ID  \\\n",
       "0             3196793         /m/08yl5d   \n",
       "1             3196793         /m/08yl5d   \n",
       "2             3196793         /m/08yl5d   \n",
       "3             3196793         /m/08yl5d   \n",
       "4             3196793         /m/08yl5d   \n",
       "\n",
       "                                          Movie_name Release_date  Revenue  \\\n",
       "0  Getting Away with Murder: The JonBenét Ramsey ...   2000-02-16      NaN   \n",
       "1  Getting Away with Murder: The JonBenét Ramsey ...   2000-02-16      NaN   \n",
       "2  Getting Away with Murder: The JonBenét Ramsey ...   2000-02-16      NaN   \n",
       "3  Getting Away with Murder: The JonBenét Ramsey ...   2000-02-16      NaN   \n",
       "4  Getting Away with Murder: The JonBenét Ramsey ...   2000-02-16      NaN   \n",
       "\n",
       "   Runtime Languages                 Countries  \\\n",
       "0     95.0   English  United States of America   \n",
       "1     95.0   English  United States of America   \n",
       "2     95.0   English  United States of America   \n",
       "3     95.0   English  United States of America   \n",
       "4     95.0   English  United States of America   \n",
       "\n",
       "                                           Genres             Character_name  \\\n",
       "0  Mystery, Biographical film, Drama, Crime Drama             Police Officer   \n",
       "1  Mystery, Biographical film, Drama, Crime Drama                   Reporter   \n",
       "2  Mystery, Biographical film, Drama, Crime Drama                        NaN   \n",
       "3  Mystery, Biographical film, Drama, Crime Drama                        NaN   \n",
       "4  Mystery, Biographical film, Drama, Crime Drama  FBI Profiler Robert Hanks   \n",
       "\n",
       "    Actor_DOB Actor_gender  Actor_height Actor_ethnicity      Actor_name  \\\n",
       "0         NaN            M           NaN             NaN    Allen Cutler   \n",
       "1  1956-12-19            F           NaN             NaN   Alice Barrett   \n",
       "2         NaN            M           NaN             NaN       Rod Britt   \n",
       "3         NaN            F           NaN             NaN    Hildy Brooks   \n",
       "4  1950-01-05            M           NaN             NaN  Robert Catrini   \n",
       "\n",
       "   Actor_age Freebase_character_map  Freebase character ID Freebase actor ID   \n",
       "0        NaN             /m/0lr37fl             /m/0lr3z80         /m/0h8pnlw  \n",
       "1       43.0             /m/0lr37d8             /m/0lr3z8g          /m/034dbm  \n",
       "2        NaN             /m/0lr37gd                    NaN         /m/0lr37gh  \n",
       "3        NaN             /m/0lr37ff                    NaN         /m/0gc9cpb  \n",
       "4       50.0             /m/0lr37g7             /m/0lr3z93         /m/0gbxsl5  "
      ]
     },
     "execution_count": 15,
     "metadata": {},
     "output_type": "execute_result"
    }
   ],
   "source": [
    "# Apply the function to different columns based on their type\n",
    "for column in ['Languages', 'Countries', 'Genres']:\n",
    "    df[column] = df[column].apply(lambda x: extract_data_from_column(x, column))\n",
    "\n",
    "# Display the first few rows of the DataFrame to verify the modified columns\n",
    "df.head()"
   ]
  },
  {
   "cell_type": "code",
   "execution_count": 16,
   "metadata": {},
   "outputs": [
    {
     "name": "stdout",
     "output_type": "stream",
     "text": [
      "type: <class 'str'>\n"
     ]
    }
   ],
   "source": [
    "# what is the type of the Genres column?\n",
    "print(\"type:\", type(df.Genres[0]))\n"
   ]
  },
  {
   "cell_type": "markdown",
   "metadata": {},
   "source": [
    "## Looking at the data"
   ]
  },
  {
   "cell_type": "markdown",
   "metadata": {},
   "source": [
    "### Nan values\n"
   ]
  },
  {
   "cell_type": "code",
   "execution_count": 17,
   "metadata": {},
   "outputs": [],
   "source": [
    "import matplotlib.pyplot as plt"
   ]
  },
  {
   "cell_type": "code",
   "execution_count": 18,
   "metadata": {},
   "outputs": [
    {
     "data": {
      "image/png": "[encoded data removed]",
      "text/plain": [
       "<Figure size 1000x500 with 1 Axes>"
      ]
     },
     "metadata": {},
     "output_type": "display_data"
    }
   ],
   "source": [
    "# Plot the percentage of NaN values in % per column, noting the percentage at the top of each bar\n",
    "\n",
    "plt.figure(figsize=(10, 5))\n",
    "\n",
    "df.isnull().mean().sort_values(ascending=False).plot(kind='bar')\n",
    "plt.title('Percentage of NaN values per column')\n",
    "plt.ylabel('Percentage')\n",
    "for i, val in enumerate(df.isnull().mean().sort_values(ascending=False).round(2)):\n",
    "    plt.text(i, val, f'{val*100:.0f}%', ha='center', va='bottom')\n",
    "\n",
    "plt.show()"
   ]
  },
  {
   "cell_type": "code",
   "execution_count": 19,
   "metadata": {},
   "outputs": [
    {
     "name": "stdout",
     "output_type": "stream",
     "text": [
      "df size: (450652, 19)\n",
      "df_copy size: (20053, 19)\n",
      "percentage of lines lost: 95.55022500732272\n"
     ]
    }
   ],
   "source": [
    "# Make a copy of df, and drop the lines of the copy with nan values. Compare the number of lines in df and in the copy\n",
    "df_copy = df.dropna()\n",
    "print(\"df size:\", df.shape)\n",
    "print(\"df_copy size:\", df_copy.shape)\n",
    "\n",
    "#print the percentage of lines lost \n",
    "print(\"percentage of lines lost:\", (df.shape[0] - df_copy.shape[0]) / df.shape[0] * 100)\n"
   ]
  },
  {
   "cell_type": "code",
   "execution_count": 20,
   "metadata": {},
   "outputs": [
    {
     "data": {
      "text/plain": [
       "{'Wikipedia_movie_ID': 'numerical',\n",
       " 'Freebase_movie_ID': 'text',\n",
       " 'Movie_name': 'text',\n",
       " 'Release_date': 'categorical',\n",
       " 'Revenue': 'numerical',\n",
       " 'Runtime': 'numerical',\n",
       " 'Languages': 'categorical',\n",
       " 'Countries': 'categorical',\n",
       " 'Genres': 'categorical',\n",
       " 'Character_name': 'text',\n",
       " 'Actor_DOB': 'text',\n",
       " 'Actor_gender': 'categorical',\n",
       " 'Actor_height': 'numerical',\n",
       " 'Actor_ethnicity': 'categorical',\n",
       " 'Actor_name': 'text',\n",
       " 'Actor_age': 'numerical',\n",
       " 'Freebase_character_map': 'text',\n",
       " ' Freebase character ID': 'text',\n",
       " 'Freebase actor ID ': 'text'}"
      ]
     },
     "execution_count": 20,
     "metadata": {},
     "output_type": "execute_result"
    }
   ],
   "source": [
    "# how to determine  columns that  are categorical and which are numerical?\n",
    "# Categorical columns have a limited number of unique values, while numerical columns have a wide range of values.\n",
    "\n",
    "# Define a function to determine the type of each column\n",
    "def get_column_types(df):\n",
    "    column_types = {}\n",
    "    for column in df.columns:\n",
    "        if df[column].dtype == 'object':\n",
    "            unique_values = df[column].nunique()\n",
    "            if unique_values / len(df[column]) < 0.05 or unique_values < 10:\n",
    "                column_types[column] = 'categorical'\n",
    "            else:\n",
    "                column_types[column] = 'text'\n",
    "        else:\n",
    "            column_types[column] = 'numerical'\n",
    "    return column_types\n",
    "\n",
    "# Apply the function to the DataFrame\n",
    "column_types = get_column_types(df)\n",
    "column_types\n"
   ]
  },
  {
   "cell_type": "markdown",
   "metadata": {},
   "source": [
    "### Distribution\n"
   ]
  },
  {
   "cell_type": "markdown",
   "metadata": {},
   "source": [
    "### Transforming object to datetime\n"
   ]
  },
  {
   "cell_type": "code",
   "execution_count": 21,
   "metadata": {},
   "outputs": [],
   "source": [
    "# Looking at my data types, I see that the Release_date column is an object. I will convert it to a datetime object.\n",
    "\n",
    "#df['Release_date'] = pd.to_datetime(df['Release_date'], errors='coerce')\n",
    "\n",
    "\n",
    "# Actor_DOB is also an object. I will convert it to a datetime object.\n",
    "df['Actor_DOB'] = pd.to_datetime(df['Actor_DOB'], errors='coerce')\n",
    "\n",
    "# Runtime is an float. I will convert it to a time value.\n",
    "df['Runtime'] = pd.to_timedelta(df['Runtime'], errors='coerce')"
   ]
  },
  {
   "cell_type": "code",
   "execution_count": 22,
   "metadata": {},
   "outputs": [
    {
     "data": {
      "text/html": [
       "<div>\n",
       "<style scoped>\n",
       "    .dataframe tbody tr th:only-of-type {\n",
       "        vertical-align: middle;\n",
       "    }\n",
       "\n",
       "    .dataframe tbody tr th {\n",
       "        vertical-align: top;\n",
       "    }\n",
       "\n",
       "    .dataframe thead th {\n",
       "        text-align: right;\n",
       "    }\n",
       "</style>\n",
       "<table border=\"1\" class=\"dataframe\">\n",
       "  <thead>\n",
       "    <tr style=\"text-align: right;\">\n",
       "      <th></th>\n",
       "      <th>Wikipedia_movie_ID</th>\n",
       "      <th>Revenue</th>\n",
       "      <th>Runtime</th>\n",
       "      <th>Actor_DOB</th>\n",
       "      <th>Actor_height</th>\n",
       "      <th>Actor_age</th>\n",
       "    </tr>\n",
       "  </thead>\n",
       "  <tbody>\n",
       "    <tr>\n",
       "      <th>count</th>\n",
       "      <td>4.506520e+05</td>\n",
       "      <td>1.010110e+05</td>\n",
       "      <td>400182</td>\n",
       "      <td>329874</td>\n",
       "      <td>154815.000000</td>\n",
       "      <td>292543.000000</td>\n",
       "    </tr>\n",
       "    <tr>\n",
       "      <th>mean</th>\n",
       "      <td>1.397024e+07</td>\n",
       "      <td>6.941638e+07</td>\n",
       "      <td>0 days 00:00:00.000000128</td>\n",
       "      <td>1943-05-29 06:43:28.836100864</td>\n",
       "      <td>1.788896</td>\n",
       "      <td>37.788270</td>\n",
       "    </tr>\n",
       "    <tr>\n",
       "      <th>min</th>\n",
       "      <td>3.300000e+02</td>\n",
       "      <td>1.000000e+04</td>\n",
       "      <td>0 days 00:00:00</td>\n",
       "      <td>1796-09-20 00:00:00</td>\n",
       "      <td>0.610000</td>\n",
       "      <td>-7896.000000</td>\n",
       "    </tr>\n",
       "    <tr>\n",
       "      <th>25%</th>\n",
       "      <td>3.759392e+06</td>\n",
       "      <td>3.600000e+06</td>\n",
       "      <td>0 days 00:00:00.000000088</td>\n",
       "      <td>1922-09-01 00:00:00</td>\n",
       "      <td>1.676400</td>\n",
       "      <td>28.000000</td>\n",
       "    </tr>\n",
       "    <tr>\n",
       "      <th>50%</th>\n",
       "      <td>1.189156e+07</td>\n",
       "      <td>1.785493e+07</td>\n",
       "      <td>0 days 00:00:00.000000097</td>\n",
       "      <td>1948-02-25 00:00:00</td>\n",
       "      <td>1.750000</td>\n",
       "      <td>36.000000</td>\n",
       "    </tr>\n",
       "    <tr>\n",
       "      <th>75%</th>\n",
       "      <td>2.366501e+07</td>\n",
       "      <td>6.696699e+07</td>\n",
       "      <td>0 days 00:00:00.000000112</td>\n",
       "      <td>1966-07-11 00:00:00</td>\n",
       "      <td>1.830000</td>\n",
       "      <td>47.000000</td>\n",
       "    </tr>\n",
       "    <tr>\n",
       "      <th>max</th>\n",
       "      <td>3.750192e+07</td>\n",
       "      <td>2.782275e+09</td>\n",
       "      <td>0 days 00:00:00.001079281</td>\n",
       "      <td>2011-09-02 00:00:00</td>\n",
       "      <td>510.000000</td>\n",
       "      <td>103.000000</td>\n",
       "    </tr>\n",
       "    <tr>\n",
       "      <th>std</th>\n",
       "      <td>1.079653e+07</td>\n",
       "      <td>1.469650e+08</td>\n",
       "      <td>0 days 00:00:00.000005394</td>\n",
       "      <td>NaN</td>\n",
       "      <td>4.380067</td>\n",
       "      <td>20.588105</td>\n",
       "    </tr>\n",
       "  </tbody>\n",
       "</table>\n",
       "</div>"
      ],
      "text/plain": [
       "       Wikipedia_movie_ID       Revenue                    Runtime  \\\n",
       "count        4.506520e+05  1.010110e+05                     400182   \n",
       "mean         1.397024e+07  6.941638e+07  0 days 00:00:00.000000128   \n",
       "min          3.300000e+02  1.000000e+04            0 days 00:00:00   \n",
       "25%          3.759392e+06  3.600000e+06  0 days 00:00:00.000000088   \n",
       "50%          1.189156e+07  1.785493e+07  0 days 00:00:00.000000097   \n",
       "75%          2.366501e+07  6.696699e+07  0 days 00:00:00.000000112   \n",
       "max          3.750192e+07  2.782275e+09  0 days 00:00:00.001079281   \n",
       "std          1.079653e+07  1.469650e+08  0 days 00:00:00.000005394   \n",
       "\n",
       "                           Actor_DOB   Actor_height      Actor_age  \n",
       "count                         329874  154815.000000  292543.000000  \n",
       "mean   1943-05-29 06:43:28.836100864       1.788896      37.788270  \n",
       "min              1796-09-20 00:00:00       0.610000   -7896.000000  \n",
       "25%              1922-09-01 00:00:00       1.676400      28.000000  \n",
       "50%              1948-02-25 00:00:00       1.750000      36.000000  \n",
       "75%              1966-07-11 00:00:00       1.830000      47.000000  \n",
       "max              2011-09-02 00:00:00     510.000000     103.000000  \n",
       "std                              NaN       4.380067      20.588105  "
      ]
     },
     "execution_count": 22,
     "metadata": {},
     "output_type": "execute_result"
    }
   ],
   "source": [
    "df.describe()"
   ]
  },
  {
   "cell_type": "markdown",
   "metadata": {},
   "source": [
    "### Number of movies per year"
   ]
  },
  {
   "cell_type": "code",
   "execution_count": 23,
   "metadata": {},
   "outputs": [],
   "source": [
    "import seaborn as sns"
   ]
  },
  {
   "cell_type": "code",
   "execution_count": 24,
   "metadata": {},
   "outputs": [],
   "source": [
    "# convertine the Release_date to a datetime object\n",
    "df['Release_date'] = pd.to_datetime(df['Release_date'], errors='coerce')"
   ]
  },
  {
   "cell_type": "code",
   "execution_count": 25,
   "metadata": {},
   "outputs": [
    {
     "data": {
      "text/plain": [
       "dtype('<M8[ns]')"
      ]
     },
     "execution_count": 25,
     "metadata": {},
     "output_type": "execute_result"
    }
   ],
   "source": [
    "df['Release_date'].dtype"
   ]
  },
  {
   "cell_type": "code",
   "execution_count": 26,
   "metadata": {},
   "outputs": [
    {
     "data": {
      "image/png": "[encoded data removed]",
      "text/plain": [
       "<Figure size 1000x500 with 1 Axes>"
      ]
     },
     "metadata": {},
     "output_type": "display_data"
    }
   ],
   "source": [
    "# Visualizing the Release_date column information with sns with the number of movies on the top of each bar\n",
    "plt.figure(figsize=(10, 5))\n",
    "sns.histplot(df['Release_date'].dt.year.dropna(), bins=range(1900, 2025, 1), kde=False)\n",
    "plt.title('Number of movies released per year')\n",
    "plt.xlabel('Year')\n",
    "plt.ylabel('Number of movies')\n",
    "plt.show()\n"
   ]
  },
  {
   "cell_type": "markdown",
   "metadata": {},
   "source": [
    "### Movies accross the world"
   ]
  },
  {
   "cell_type": "code",
   "execution_count": 27,
   "metadata": {},
   "outputs": [],
   "source": [
    "# grouping the movies by country\n",
    "movies_by_country = df['Countries'].str.split(', ', expand=True).stack().reset_index(level=1, drop=True).rename('Country')\n",
    "movies_by_country = movies_by_country[movies_by_country != ''].value_counts()\n"
   ]
  },
  {
   "cell_type": "code",
   "execution_count": 28,
   "metadata": {},
   "outputs": [
    {
     "data": {
      "image/png": "[encoded data removed]",
      "text/plain": [
       "<Figure size 2000x1000 with 1 Axes>"
      ]
     },
     "metadata": {},
     "output_type": "display_data"
    }
   ],
   "source": [
    "#visualizing the number of movies by country with sns \n",
    "# if the count is under a certain threshold (e.g. 100), you can filter it out to avoid cluttering the plot\n",
    "# add the count at the top of each bar\n",
    "\n",
    "plt.figure(figsize=(20, 10))\n",
    "sns.barplot(x=movies_by_country.head(50), y=movies_by_country.head(50).index)\n",
    "\n",
    "for i, val in enumerate(movies_by_country.head(50)):\n",
    "    plt.text(val, i, val, ha='left', va='center')\n",
    "\n",
    "plt.title('Number of movies by country')\n",
    "plt.xlabel('Number of movies')\n",
    "plt.ylabel('Country')\n",
    "plt.show()\n",
    "\n",
    "\n",
    "\n",
    "\n"
   ]
  },
  {
   "cell_type": "markdown",
   "metadata": {},
   "source": [
    "### Tentatives qui ne fonctionnent pas \n"
   ]
  },
  {
   "cell_type": "code",
   "execution_count": 29,
   "metadata": {},
   "outputs": [],
   "source": [
    "# Calculate the total count of each genre over the years\n",
    "genre_totals = df.groupby('Release_date')['Genres'].value_counts().reset_index(name='Count')\n",
    "\n",
    "# Filter out rows with no genre\n",
    "genre_totals = genre_totals[genre_totals['Genres'] != '']\n",
    "\n",
    "# Taking rows from 1980 to 2020\n",
    "final_genre = genre_totals[genre_totals['Release_date'].dt.year.between(1980, 2000)]\n"
   ]
  },
  {
   "cell_type": "code",
   "execution_count": 30,
   "metadata": {},
   "outputs": [
    {
     "ename": "ValueError",
     "evalue": "Image size of 2105x94243 pixels is too large. It must be less than 2^16 in each direction.",
     "output_type": "error",
     "traceback": [
      "\u001b[1;31m---------------------------------------------------------------------------\u001b[0m",
      "\u001b[1;31mValueError\u001b[0m                                Traceback (most recent call last)",
      "File \u001b[1;32mc:\\Users\\Pauline\\anaconda3\\envs\\ada\\Lib\\site-packages\\IPython\\core\\formatters.py:343\u001b[0m, in \u001b[0;36mBaseFormatter.__call__\u001b[1;34m(self, obj)\u001b[0m\n\u001b[0;32m    341\u001b[0m     \u001b[38;5;28;01mpass\u001b[39;00m\n\u001b[0;32m    342\u001b[0m \u001b[38;5;28;01melse\u001b[39;00m:\n\u001b[1;32m--> 343\u001b[0m     \u001b[38;5;28;01mreturn\u001b[39;00m printer(obj)\n\u001b[0;32m    344\u001b[0m \u001b[38;5;66;03m# Finally look for special method names\u001b[39;00m\n\u001b[0;32m    345\u001b[0m method \u001b[38;5;241m=\u001b[39m get_real_method(obj, \u001b[38;5;28mself\u001b[39m\u001b[38;5;241m.\u001b[39mprint_method)\n",
      "File \u001b[1;32mc:\\Users\\Pauline\\anaconda3\\envs\\ada\\Lib\\site-packages\\IPython\\core\\pylabtools.py:170\u001b[0m, in \u001b[0;36mprint_figure\u001b[1;34m(fig, fmt, bbox_inches, base64, **kwargs)\u001b[0m\n\u001b[0;32m    167\u001b[0m     \u001b[38;5;28;01mfrom\u001b[39;00m \u001b[38;5;21;01mmatplotlib\u001b[39;00m\u001b[38;5;21;01m.\u001b[39;00m\u001b[38;5;21;01mbackend_bases\u001b[39;00m \u001b[38;5;28;01mimport\u001b[39;00m FigureCanvasBase\n\u001b[0;32m    168\u001b[0m     FigureCanvasBase(fig)\n\u001b[1;32m--> 170\u001b[0m fig\u001b[38;5;241m.\u001b[39mcanvas\u001b[38;5;241m.\u001b[39mprint_figure(bytes_io, \u001b[38;5;241m*\u001b[39m\u001b[38;5;241m*\u001b[39mkw)\n\u001b[0;32m    171\u001b[0m data \u001b[38;5;241m=\u001b[39m bytes_io\u001b[38;5;241m.\u001b[39mgetvalue()\n\u001b[0;32m    172\u001b[0m \u001b[38;5;28;01mif\u001b[39;00m fmt \u001b[38;5;241m==\u001b[39m \u001b[38;5;124m'\u001b[39m\u001b[38;5;124msvg\u001b[39m\u001b[38;5;124m'\u001b[39m:\n",
      "File \u001b[1;32mc:\\Users\\Pauline\\anaconda3\\envs\\ada\\Lib\\site-packages\\matplotlib\\backend_bases.py:2204\u001b[0m, in \u001b[0;36mFigureCanvasBase.print_figure\u001b[1;34m(self, filename, dpi, facecolor, edgecolor, orientation, format, bbox_inches, pad_inches, bbox_extra_artists, backend, **kwargs)\u001b[0m\n\u001b[0;32m   2200\u001b[0m \u001b[38;5;28;01mtry\u001b[39;00m:\n\u001b[0;32m   2201\u001b[0m     \u001b[38;5;66;03m# _get_renderer may change the figure dpi (as vector formats\u001b[39;00m\n\u001b[0;32m   2202\u001b[0m     \u001b[38;5;66;03m# force the figure dpi to 72), so we need to set it again here.\u001b[39;00m\n\u001b[0;32m   2203\u001b[0m     \u001b[38;5;28;01mwith\u001b[39;00m cbook\u001b[38;5;241m.\u001b[39m_setattr_cm(\u001b[38;5;28mself\u001b[39m\u001b[38;5;241m.\u001b[39mfigure, dpi\u001b[38;5;241m=\u001b[39mdpi):\n\u001b[1;32m-> 2204\u001b[0m         result \u001b[38;5;241m=\u001b[39m print_method(\n\u001b[0;32m   2205\u001b[0m             filename,\n\u001b[0;32m   2206\u001b[0m             facecolor\u001b[38;5;241m=\u001b[39mfacecolor,\n\u001b[0;32m   2207\u001b[0m             edgecolor\u001b[38;5;241m=\u001b[39medgecolor,\n\u001b[0;32m   2208\u001b[0m             orientation\u001b[38;5;241m=\u001b[39morientation,\n\u001b[0;32m   2209\u001b[0m             bbox_inches_restore\u001b[38;5;241m=\u001b[39m_bbox_inches_restore,\n\u001b[0;32m   2210\u001b[0m             \u001b[38;5;241m*\u001b[39m\u001b[38;5;241m*\u001b[39mkwargs)\n\u001b[0;32m   2211\u001b[0m \u001b[38;5;28;01mfinally\u001b[39;00m:\n\u001b[0;32m   2212\u001b[0m     \u001b[38;5;28;01mif\u001b[39;00m bbox_inches \u001b[38;5;129;01mand\u001b[39;00m restore_bbox:\n",
      "File \u001b[1;32mc:\\Users\\Pauline\\anaconda3\\envs\\ada\\Lib\\site-packages\\matplotlib\\backend_bases.py:2054\u001b[0m, in \u001b[0;36mFigureCanvasBase._switch_canvas_and_return_print_method.<locals>.<lambda>\u001b[1;34m(*args, **kwargs)\u001b[0m\n\u001b[0;32m   2050\u001b[0m     optional_kws \u001b[38;5;241m=\u001b[39m {  \u001b[38;5;66;03m# Passed by print_figure for other renderers.\u001b[39;00m\n\u001b[0;32m   2051\u001b[0m         \u001b[38;5;124m\"\u001b[39m\u001b[38;5;124mdpi\u001b[39m\u001b[38;5;124m\"\u001b[39m, \u001b[38;5;124m\"\u001b[39m\u001b[38;5;124mfacecolor\u001b[39m\u001b[38;5;124m\"\u001b[39m, \u001b[38;5;124m\"\u001b[39m\u001b[38;5;124medgecolor\u001b[39m\u001b[38;5;124m\"\u001b[39m, \u001b[38;5;124m\"\u001b[39m\u001b[38;5;124morientation\u001b[39m\u001b[38;5;124m\"\u001b[39m,\n\u001b[0;32m   2052\u001b[0m         \u001b[38;5;124m\"\u001b[39m\u001b[38;5;124mbbox_inches_restore\u001b[39m\u001b[38;5;124m\"\u001b[39m}\n\u001b[0;32m   2053\u001b[0m     skip \u001b[38;5;241m=\u001b[39m optional_kws \u001b[38;5;241m-\u001b[39m {\u001b[38;5;241m*\u001b[39minspect\u001b[38;5;241m.\u001b[39msignature(meth)\u001b[38;5;241m.\u001b[39mparameters}\n\u001b[1;32m-> 2054\u001b[0m     print_method \u001b[38;5;241m=\u001b[39m functools\u001b[38;5;241m.\u001b[39mwraps(meth)(\u001b[38;5;28;01mlambda\u001b[39;00m \u001b[38;5;241m*\u001b[39margs, \u001b[38;5;241m*\u001b[39m\u001b[38;5;241m*\u001b[39mkwargs: meth(\n\u001b[0;32m   2055\u001b[0m         \u001b[38;5;241m*\u001b[39margs, \u001b[38;5;241m*\u001b[39m\u001b[38;5;241m*\u001b[39m{k: v \u001b[38;5;28;01mfor\u001b[39;00m k, v \u001b[38;5;129;01min\u001b[39;00m kwargs\u001b[38;5;241m.\u001b[39mitems() \u001b[38;5;28;01mif\u001b[39;00m k \u001b[38;5;129;01mnot\u001b[39;00m \u001b[38;5;129;01min\u001b[39;00m skip}))\n\u001b[0;32m   2056\u001b[0m \u001b[38;5;28;01melse\u001b[39;00m:  \u001b[38;5;66;03m# Let third-parties do as they see fit.\u001b[39;00m\n\u001b[0;32m   2057\u001b[0m     print_method \u001b[38;5;241m=\u001b[39m meth\n",
      "File \u001b[1;32mc:\\Users\\Pauline\\anaconda3\\envs\\ada\\Lib\\site-packages\\matplotlib\\backends\\backend_agg.py:496\u001b[0m, in \u001b[0;36mFigureCanvasAgg.print_png\u001b[1;34m(self, filename_or_obj, metadata, pil_kwargs)\u001b[0m\n\u001b[0;32m    449\u001b[0m \u001b[38;5;28;01mdef\u001b[39;00m \u001b[38;5;21mprint_png\u001b[39m(\u001b[38;5;28mself\u001b[39m, filename_or_obj, \u001b[38;5;241m*\u001b[39m, metadata\u001b[38;5;241m=\u001b[39m\u001b[38;5;28;01mNone\u001b[39;00m, pil_kwargs\u001b[38;5;241m=\u001b[39m\u001b[38;5;28;01mNone\u001b[39;00m):\n\u001b[0;32m    450\u001b[0m \u001b[38;5;250m    \u001b[39m\u001b[38;5;124;03m\"\"\"\u001b[39;00m\n\u001b[0;32m    451\u001b[0m \u001b[38;5;124;03m    Write the figure to a PNG file.\u001b[39;00m\n\u001b[0;32m    452\u001b[0m \n\u001b[1;32m   (...)\u001b[0m\n\u001b[0;32m    494\u001b[0m \u001b[38;5;124;03m        *metadata*, including the default 'Software' key.\u001b[39;00m\n\u001b[0;32m    495\u001b[0m \u001b[38;5;124;03m    \"\"\"\u001b[39;00m\n\u001b[1;32m--> 496\u001b[0m     \u001b[38;5;28mself\u001b[39m\u001b[38;5;241m.\u001b[39m_print_pil(filename_or_obj, \u001b[38;5;124m\"\u001b[39m\u001b[38;5;124mpng\u001b[39m\u001b[38;5;124m\"\u001b[39m, pil_kwargs, metadata)\n",
      "File \u001b[1;32mc:\\Users\\Pauline\\anaconda3\\envs\\ada\\Lib\\site-packages\\matplotlib\\backends\\backend_agg.py:444\u001b[0m, in \u001b[0;36mFigureCanvasAgg._print_pil\u001b[1;34m(self, filename_or_obj, fmt, pil_kwargs, metadata)\u001b[0m\n\u001b[0;32m    439\u001b[0m \u001b[38;5;28;01mdef\u001b[39;00m \u001b[38;5;21m_print_pil\u001b[39m(\u001b[38;5;28mself\u001b[39m, filename_or_obj, fmt, pil_kwargs, metadata\u001b[38;5;241m=\u001b[39m\u001b[38;5;28;01mNone\u001b[39;00m):\n\u001b[0;32m    440\u001b[0m \u001b[38;5;250m    \u001b[39m\u001b[38;5;124;03m\"\"\"\u001b[39;00m\n\u001b[0;32m    441\u001b[0m \u001b[38;5;124;03m    Draw the canvas, then save it using `.image.imsave` (to which\u001b[39;00m\n\u001b[0;32m    442\u001b[0m \u001b[38;5;124;03m    *pil_kwargs* and *metadata* are forwarded).\u001b[39;00m\n\u001b[0;32m    443\u001b[0m \u001b[38;5;124;03m    \"\"\"\u001b[39;00m\n\u001b[1;32m--> 444\u001b[0m     FigureCanvasAgg\u001b[38;5;241m.\u001b[39mdraw(\u001b[38;5;28mself\u001b[39m)\n\u001b[0;32m    445\u001b[0m     mpl\u001b[38;5;241m.\u001b[39mimage\u001b[38;5;241m.\u001b[39mimsave(\n\u001b[0;32m    446\u001b[0m         filename_or_obj, \u001b[38;5;28mself\u001b[39m\u001b[38;5;241m.\u001b[39mbuffer_rgba(), \u001b[38;5;28mformat\u001b[39m\u001b[38;5;241m=\u001b[39mfmt, origin\u001b[38;5;241m=\u001b[39m\u001b[38;5;124m\"\u001b[39m\u001b[38;5;124mupper\u001b[39m\u001b[38;5;124m\"\u001b[39m,\n\u001b[0;32m    447\u001b[0m         dpi\u001b[38;5;241m=\u001b[39m\u001b[38;5;28mself\u001b[39m\u001b[38;5;241m.\u001b[39mfigure\u001b[38;5;241m.\u001b[39mdpi, metadata\u001b[38;5;241m=\u001b[39mmetadata, pil_kwargs\u001b[38;5;241m=\u001b[39mpil_kwargs)\n",
      "File \u001b[1;32mc:\\Users\\Pauline\\anaconda3\\envs\\ada\\Lib\\site-packages\\matplotlib\\backends\\backend_agg.py:382\u001b[0m, in \u001b[0;36mFigureCanvasAgg.draw\u001b[1;34m(self)\u001b[0m\n\u001b[0;32m    380\u001b[0m \u001b[38;5;28;01mdef\u001b[39;00m \u001b[38;5;21mdraw\u001b[39m(\u001b[38;5;28mself\u001b[39m):\n\u001b[0;32m    381\u001b[0m     \u001b[38;5;66;03m# docstring inherited\u001b[39;00m\n\u001b[1;32m--> 382\u001b[0m     \u001b[38;5;28mself\u001b[39m\u001b[38;5;241m.\u001b[39mrenderer \u001b[38;5;241m=\u001b[39m \u001b[38;5;28mself\u001b[39m\u001b[38;5;241m.\u001b[39mget_renderer()\n\u001b[0;32m    383\u001b[0m     \u001b[38;5;28mself\u001b[39m\u001b[38;5;241m.\u001b[39mrenderer\u001b[38;5;241m.\u001b[39mclear()\n\u001b[0;32m    384\u001b[0m     \u001b[38;5;66;03m# Acquire a lock on the shared font cache.\u001b[39;00m\n",
      "File \u001b[1;32mc:\\Users\\Pauline\\anaconda3\\envs\\ada\\Lib\\site-packages\\matplotlib\\backends\\backend_agg.py:397\u001b[0m, in \u001b[0;36mFigureCanvasAgg.get_renderer\u001b[1;34m(self)\u001b[0m\n\u001b[0;32m    395\u001b[0m reuse_renderer \u001b[38;5;241m=\u001b[39m (\u001b[38;5;28mself\u001b[39m\u001b[38;5;241m.\u001b[39m_lastKey \u001b[38;5;241m==\u001b[39m key)\n\u001b[0;32m    396\u001b[0m \u001b[38;5;28;01mif\u001b[39;00m \u001b[38;5;129;01mnot\u001b[39;00m reuse_renderer:\n\u001b[1;32m--> 397\u001b[0m     \u001b[38;5;28mself\u001b[39m\u001b[38;5;241m.\u001b[39mrenderer \u001b[38;5;241m=\u001b[39m RendererAgg(w, h, \u001b[38;5;28mself\u001b[39m\u001b[38;5;241m.\u001b[39mfigure\u001b[38;5;241m.\u001b[39mdpi)\n\u001b[0;32m    398\u001b[0m     \u001b[38;5;28mself\u001b[39m\u001b[38;5;241m.\u001b[39m_lastKey \u001b[38;5;241m=\u001b[39m key\n\u001b[0;32m    399\u001b[0m \u001b[38;5;28;01mreturn\u001b[39;00m \u001b[38;5;28mself\u001b[39m\u001b[38;5;241m.\u001b[39mrenderer\n",
      "File \u001b[1;32mc:\\Users\\Pauline\\anaconda3\\envs\\ada\\Lib\\site-packages\\matplotlib\\backends\\backend_agg.py:70\u001b[0m, in \u001b[0;36mRendererAgg.__init__\u001b[1;34m(self, width, height, dpi)\u001b[0m\n\u001b[0;32m     68\u001b[0m \u001b[38;5;28mself\u001b[39m\u001b[38;5;241m.\u001b[39mwidth \u001b[38;5;241m=\u001b[39m width\n\u001b[0;32m     69\u001b[0m \u001b[38;5;28mself\u001b[39m\u001b[38;5;241m.\u001b[39mheight \u001b[38;5;241m=\u001b[39m height\n\u001b[1;32m---> 70\u001b[0m \u001b[38;5;28mself\u001b[39m\u001b[38;5;241m.\u001b[39m_renderer \u001b[38;5;241m=\u001b[39m _RendererAgg(\u001b[38;5;28mint\u001b[39m(width), \u001b[38;5;28mint\u001b[39m(height), dpi)\n\u001b[0;32m     71\u001b[0m \u001b[38;5;28mself\u001b[39m\u001b[38;5;241m.\u001b[39m_filter_renderers \u001b[38;5;241m=\u001b[39m []\n\u001b[0;32m     73\u001b[0m \u001b[38;5;28mself\u001b[39m\u001b[38;5;241m.\u001b[39m_update_methods()\n",
      "\u001b[1;31mValueError\u001b[0m: Image size of 2105x94243 pixels is too large. It must be less than 2^16 in each direction."
     ]
    },
    {
     "data": {
      "text/plain": [
       "<Figure size 640x480 with 1 Axes>"
      ]
     },
     "metadata": {},
     "output_type": "display_data"
    }
   ],
   "source": [
    "# Plot the temporal patterns of genre popularity\n",
    "sns.lineplot(final_genre, x='Release_date', y='Count', hue='Genres', marker='o')\n",
    "plt.title('Temporal Patterns of Genre Popularity')\n",
    "plt.xlabel('Year')\n",
    "plt.ylabel('Genre Count')\n",
    "plt.xticks(rotation=45)\n",
    "plt.legend(bbox_to_anchor=(1.05, 1), loc='upper left')\n",
    "plt.show()"
   ]
  },
  {
   "cell_type": "markdown",
   "metadata": {},
   "source": [
    "### Trying the Pipeline"
   ]
  },
  {
   "cell_type": "code",
   "execution_count": 1,
   "metadata": {},
   "outputs": [
    {
     "name": "stdout",
     "output_type": "stream",
     "text": [
      "Character : loaded 450668 rows !\n",
      "Character : Cleaning the raw data\n"
     ]
    },
    {
     "name": "stderr",
     "output_type": "stream",
     "text": [
      "c:\\Users\\Pauline\\Documents\\EPFL\\Master\\MA3\\ada\\ada-2024-project-dondata2025\\src\\data\\movies_char_data.py:258: FutureWarning: A value is trying to be set on a copy of a DataFrame or Series through chained assignment using an inplace method.\n",
      "The behavior will change in pandas 3.0. This inplace method will never work because the intermediate object on which we are setting values always behaves as a copy.\n",
      "\n",
      "For example, when doing 'df[col].method(value, inplace=True)', try using 'df.method({col: value}, inplace=True)' or df[col] = df[col].method(value) instead, to perform the operation inplace on the original object.\n",
      "\n",
      "\n",
      "  self.clean_df['Actor_DOB'].fillna(pd.NaT, inplace=True)\n",
      "c:\\Users\\Pauline\\Documents\\EPFL\\Master\\MA3\\ada\\ada-2024-project-dondata2025\\src\\data\\movies_char_data.py:259: FutureWarning: A value is trying to be set on a copy of a DataFrame or Series through chained assignment using an inplace method.\n",
      "The behavior will change in pandas 3.0. This inplace method will never work because the intermediate object on which we are setting values always behaves as a copy.\n",
      "\n",
      "For example, when doing 'df[col].method(value, inplace=True)', try using 'df.method({col: value}, inplace=True)' or df[col] = df[col].method(value) instead, to perform the operation inplace on the original object.\n",
      "\n",
      "\n",
      "  self.clean_df['Release_date'].fillna(pd.NaT, inplace=True)\n"
     ]
    },
    {
     "data": {
      "text/html": [
       "<div>\n",
       "<style scoped>\n",
       "    .dataframe tbody tr th:only-of-type {\n",
       "        vertical-align: middle;\n",
       "    }\n",
       "\n",
       "    .dataframe tbody tr th {\n",
       "        vertical-align: top;\n",
       "    }\n",
       "\n",
       "    .dataframe thead th {\n",
       "        text-align: right;\n",
       "    }\n",
       "</style>\n",
       "<table border=\"1\" class=\"dataframe\">\n",
       "  <thead>\n",
       "    <tr style=\"text-align: right;\">\n",
       "      <th></th>\n",
       "      <th>Wikipedia_movie_ID</th>\n",
       "      <th>Release_date</th>\n",
       "      <th>Character_name</th>\n",
       "      <th>Actor_DOB</th>\n",
       "      <th>Actor_gender</th>\n",
       "      <th>Actor_height</th>\n",
       "      <th>Actor_ethnicity</th>\n",
       "      <th>Actor_name</th>\n",
       "      <th>Actor_age</th>\n",
       "    </tr>\n",
       "  </thead>\n",
       "  <tbody>\n",
       "    <tr>\n",
       "      <th>0</th>\n",
       "      <td>975900</td>\n",
       "      <td>2001-08-24</td>\n",
       "      <td>Lieutenant Melanie Ballard</td>\n",
       "      <td>1974-08-15</td>\n",
       "      <td>F</td>\n",
       "      <td>1.780</td>\n",
       "      <td>/m/044038p</td>\n",
       "      <td>Natasha Henstridge</td>\n",
       "      <td>27.0</td>\n",
       "    </tr>\n",
       "    <tr>\n",
       "      <th>1</th>\n",
       "      <td>975900</td>\n",
       "      <td>2001-08-24</td>\n",
       "      <td>Desolation Williams</td>\n",
       "      <td>1969-06-15</td>\n",
       "      <td>M</td>\n",
       "      <td>1.727</td>\n",
       "      <td>/m/0x67</td>\n",
       "      <td>Ice Cube</td>\n",
       "      <td>32.0</td>\n",
       "    </tr>\n",
       "    <tr>\n",
       "      <th>2</th>\n",
       "      <td>975900</td>\n",
       "      <td>2001-08-24</td>\n",
       "      <td>Sgt Jericho Butler</td>\n",
       "      <td>1967-09-12</td>\n",
       "      <td>M</td>\n",
       "      <td>1.750</td>\n",
       "      <td>NaN</td>\n",
       "      <td>Jason Statham</td>\n",
       "      <td>33.0</td>\n",
       "    </tr>\n",
       "    <tr>\n",
       "      <th>3</th>\n",
       "      <td>975900</td>\n",
       "      <td>2001-08-24</td>\n",
       "      <td>Bashira Kincaid</td>\n",
       "      <td>1977-09-25</td>\n",
       "      <td>F</td>\n",
       "      <td>1.650</td>\n",
       "      <td>NaN</td>\n",
       "      <td>Clea DuVall</td>\n",
       "      <td>23.0</td>\n",
       "    </tr>\n",
       "    <tr>\n",
       "      <th>4</th>\n",
       "      <td>975900</td>\n",
       "      <td>2001-08-24</td>\n",
       "      <td>Commander Helena Braddock</td>\n",
       "      <td>1949-05-26</td>\n",
       "      <td>F</td>\n",
       "      <td>1.727</td>\n",
       "      <td>/m/0x67</td>\n",
       "      <td>Pam Grier</td>\n",
       "      <td>52.0</td>\n",
       "    </tr>\n",
       "  </tbody>\n",
       "</table>\n",
       "</div>"
      ],
      "text/plain": [
       "   Wikipedia_movie_ID Release_date              Character_name  Actor_DOB  \\\n",
       "0              975900   2001-08-24  Lieutenant Melanie Ballard 1974-08-15   \n",
       "1              975900   2001-08-24         Desolation Williams 1969-06-15   \n",
       "2              975900   2001-08-24          Sgt Jericho Butler 1967-09-12   \n",
       "3              975900   2001-08-24             Bashira Kincaid 1977-09-25   \n",
       "4              975900   2001-08-24   Commander Helena Braddock 1949-05-26   \n",
       "\n",
       "  Actor_gender  Actor_height Actor_ethnicity          Actor_name  Actor_age  \n",
       "0            F         1.780      /m/044038p  Natasha Henstridge       27.0  \n",
       "1            M         1.727         /m/0x67            Ice Cube       32.0  \n",
       "2            M         1.750             NaN       Jason Statham       33.0  \n",
       "3            F         1.650             NaN         Clea DuVall       23.0  \n",
       "4            F         1.727         /m/0x67           Pam Grier       52.0  "
      ]
     },
     "execution_count": 1,
     "metadata": {},
     "output_type": "execute_result"
    }
   ],
   "source": [
    "# imports my code from the file src/data/names_data.py\n",
    "import src.data.movies_char_data as DataClass\n",
    "\n",
    "characterNames = DataClass.CharacterData(\"Character\", \"character.metadata.tsv\")\n",
    "\n",
    "characterNames.clean_raw_data()\n",
    "characterNames.clean_df.head()"
   ]
  }
 ],
 "metadata": {
  "kernelspec": {
   "display_name": "ada",
   "language": "python",
   "name": "python3"
  },
  "language_info": {
   "codemirror_mode": {
    "name": "ipython",
    "version": 3
   },
   "file_extension": ".py",
   "mimetype": "text/x-python",
   "name": "python",
   "nbconvert_exporter": "python",
   "pygments_lexer": "ipython3",
   "version": "3.11.9"
  }
 },
 "nbformat": 4,
 "nbformat_minor": 2
}
