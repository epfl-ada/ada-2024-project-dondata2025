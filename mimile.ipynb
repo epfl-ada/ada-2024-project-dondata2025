{
 "cells": [
  {
   "cell_type": "code",
   "execution_count": 65,
   "metadata": {},
   "outputs": [],
   "source": [
    "import pandas as pd\n",
    "import os\n",
    "import json\n",
    "import data_wrangler\n",
    "## Remark : importing data_wrangler preprocesses and creates the dataset containing the characters of every movie in the dataset\n",
    "\n",
    "df = pd.read_csv(\"processed_data.csv\")"
   ]
  },
  {
   "cell_type": "markdown",
   "metadata": {},
   "source": [
    "Gathering the 10 biggest revenue-inducing movies each year"
   ]
  },
  {
   "cell_type": "code",
   "execution_count": 68,
   "metadata": {},
   "outputs": [
    {
     "data": {
      "text/html": [
       "<div>\n",
       "<style scoped>\n",
       "    .dataframe tbody tr th:only-of-type {\n",
       "        vertical-align: middle;\n",
       "    }\n",
       "\n",
       "    .dataframe tbody tr th {\n",
       "        vertical-align: top;\n",
       "    }\n",
       "\n",
       "    .dataframe thead th {\n",
       "        text-align: right;\n",
       "    }\n",
       "</style>\n",
       "<table border=\"1\" class=\"dataframe\">\n",
       "  <thead>\n",
       "    <tr style=\"text-align: right;\">\n",
       "      <th></th>\n",
       "      <th>Wikipedia_movie_ID</th>\n",
       "      <th>Freebase_movie_ID</th>\n",
       "      <th>Movie_name</th>\n",
       "      <th>Release_date</th>\n",
       "      <th>Revenue</th>\n",
       "      <th>Runtime</th>\n",
       "      <th>Languages</th>\n",
       "      <th>Countries</th>\n",
       "      <th>Genres</th>\n",
       "      <th>Character_name</th>\n",
       "      <th>Actor_DOB</th>\n",
       "      <th>Actor_gender</th>\n",
       "      <th>Actor_height</th>\n",
       "      <th>Actor_ethnicity</th>\n",
       "      <th>Actor_name</th>\n",
       "      <th>Actor_age</th>\n",
       "      <th>Freebase_character_map</th>\n",
       "      <th>Freebase character ID</th>\n",
       "      <th>Freebase actor ID</th>\n",
       "      <th>Release_year</th>\n",
       "    </tr>\n",
       "  </thead>\n",
       "  <tbody>\n",
       "    <tr>\n",
       "      <th>319733</th>\n",
       "      <td>30007</td>\n",
       "      <td>/m/07cz2</td>\n",
       "      <td>The Matrix</td>\n",
       "      <td>1999-03-31</td>\n",
       "      <td>463517383.0</td>\n",
       "      <td>135.0</td>\n",
       "      <td>English</td>\n",
       "      <td>United States of America, Australia</td>\n",
       "      <td>Thriller, Science Fiction, Adventure, Doomsday...</td>\n",
       "      <td>Neo</td>\n",
       "      <td>1964-09-02</td>\n",
       "      <td>M</td>\n",
       "      <td>1.86</td>\n",
       "      <td>/m/03bkbh</td>\n",
       "      <td>Keanu Reeves</td>\n",
       "      <td>34.0</td>\n",
       "      <td>/m/0k5wyl</td>\n",
       "      <td>/m/01hmvs</td>\n",
       "      <td>/m/0479b</td>\n",
       "      <td>1999</td>\n",
       "    </tr>\n",
       "  </tbody>\n",
       "</table>\n",
       "</div>"
      ],
      "text/plain": [
       "        Wikipedia_movie_ID Freebase_movie_ID  Movie_name Release_date  \\\n",
       "319733               30007          /m/07cz2  The Matrix   1999-03-31   \n",
       "\n",
       "            Revenue  Runtime Languages                            Countries  \\\n",
       "319733  463517383.0    135.0   English  United States of America, Australia   \n",
       "\n",
       "                                                   Genres Character_name  \\\n",
       "319733  Thriller, Science Fiction, Adventure, Doomsday...            Neo   \n",
       "\n",
       "         Actor_DOB Actor_gender  Actor_height Actor_ethnicity    Actor_name  \\\n",
       "319733  1964-09-02            M          1.86       /m/03bkbh  Keanu Reeves   \n",
       "\n",
       "        Actor_age Freebase_character_map  Freebase character ID  \\\n",
       "319733       34.0              /m/0k5wyl              /m/01hmvs   \n",
       "\n",
       "       Freebase actor ID  Release_year  \n",
       "319733           /m/0479b         1999  "
      ]
     },
     "execution_count": 68,
     "metadata": {},
     "output_type": "execute_result"
    }
   ],
   "source": [
    "# Creating a new column for the release year (without month and day) of the movie$\n",
    "df['Release_year'] = df['Release_date'].str[:4]\n",
    "\n",
    "# Ditching entries with nan revenue \n",
    "df = df.dropna(subset=['Revenue'])\n",
    "\n",
    "\n",
    "def topTenByYear(year):\n",
    "    \"\"\"\n",
    "    Returns all characters of the top ten movies by revenue in a given year.\n",
    "    \"\"\"\n",
    "    df_year = df[df['Release_year'] == year]\n",
    "    only_movies = df_year.drop_duplicates(subset=['Wikipedia_movie_ID', 'Revenue'])\n",
    "    top10 = only_movies.nlargest(10, 'Revenue')\n",
    "\n",
    "    return df_year[df_year['Wikipedia_movie_ID'].isin(top10['Wikipedia_movie_ID'])]\n",
    "\n",
    "def isInTopTen(name, year):\n",
    "    \"\"\"\n",
    "    Checks if a name was given to a character in a movie that was in the top ten by revenue in a given year.\n",
    "    If yes, return the corresponding dataset entry, otherwise return None.\n",
    "    \"\"\"\n",
    "    top10 = topTenByYear(year)\n",
    "    return top10[top10['Character_name'] == name]\n",
    "\n",
    "isInTopTen(\"Neo\", \"1999\")\n",
    "\n"
   ]
  },
  {
   "cell_type": "code",
   "execution_count": null,
   "metadata": {},
   "outputs": [],
   "source": []
  }
 ],
 "metadata": {
  "kernelspec": {
   "display_name": "Python 3",
   "language": "python",
   "name": "python3"
  },
  "language_info": {
   "codemirror_mode": {
    "name": "ipython",
    "version": 3
   },
   "file_extension": ".py",
   "mimetype": "text/x-python",
   "name": "python",
   "nbconvert_exporter": "python",
   "pygments_lexer": "ipython3",
   "version": "3.11.3"
  }
 },
 "nbformat": 4,
 "nbformat_minor": 2
}
