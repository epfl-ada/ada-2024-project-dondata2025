{
 "cells": [
  {
   "cell_type": "markdown",
   "id": "ce9e39bb",
   "metadata": {},
   "source": [
    "# Name and movies datasets\n",
    "\n",
    "For this project we decided to work on the CMU movie dataset containing metadata extracted from Freebase, including Movie metadata like Movie box office revenue, genre, release date, runtime, and language but also Character metada like character names and aligned information about the actors who portray them, including gender and estimated age at the time of the movie's release. \n",
    "First let's see what the 2 metadasets contains.\n",
    "\n",
    "#### Characters\n",
    "The dataset contains informations  450,669 characters aligned to the movies such as Wikipedia movie ID,  Freebase movie ID, Movie release date, Character name, Actor date of birth, Actor gender, Actor height (in meters), Actor ethnicity,Actor name, Actor age at movie release, Freebase character/actor map ID, Freebase character ID, Freebase actor ID. \n",
    "\n",
    "\n",
    "#### Movies\n",
    "The dataset contains informations on 81,741 movies such as the Wikipedia movie ID, Freebase movie ID, Movie name, Movie release date, Movie box office revenue, Movie runtime, Movie languages, Movie countries, Movie genres .\n",
    "\n",
    "\n",
    "\n",
    "## Cleaning\n",
    "\n",
    "The cleaning task was implement in the *clean_raw_data()* method of our different CharacterData and MovieData classes implementation (by Wikipedia Movie ID) and validated using the *check_clean_data()* method, available and shared by the 2 datasets (python inheritance).\n",
    "\n",
    "From both metadataset, we directly oberved similar features such as Wikipedia Movie ID and Freebase Movie ID that is useful for futur merge of the 2 dataset. However, as in both datasets we saw that there were several columns containing Freebase and Wikipedia IDs for actors, characters and films, we decided to put them aside as the data is too difficult to access.\n",
    "\n",
    "This are the different steps we applied to both datasets before merging:\n",
    "\n",
    "Character dataset:\n",
    "- Load with the right spacer.\n",
    "- Rename the columns for proper understanding.\n",
    "- Check the good type format : Actor date of birth and the Release Date as a datetime, and the other into objects.\n",
    "- Deal with missing values : we wrote them as NaN or NaT\n",
    "- Droping unwanted columns\n",
    "- Checking that the cleaning was made\n",
    "\n",
    "Movie dataset :\n",
    "- Load with the right spacer.\n",
    "- Rename the columns for proper understanding.\n",
    "- Modify the Language, Country and Genre columns:  the information was a JSON format not readable nor accessible so we isolate the information and replace it by a human-readable string format.\n",
    "- Modify the datatypes of movie runtime into timedelta and the release date into a datetime object for further manipulation.\n",
    "- Modify the movie Name, Language, Country and Genre:  we checked that they were in object type and modified them if not.\n",
    "- Deal with missing values : we wrote them as NaN or NaT\n",
    "- Dropping the unwanted columns\n",
    "- Check that the cleaning was made\n",
    "\n",
    "\n",
    "We kept the whole dataset with NaN and NaT values in a specific file to keep features that could be interesting even if the rate of missing values is very high (such as etchnicity or Box office revenue). However, for the following notebook, to make some we decided to remove this 2 columns since they have more than 70% missing values.\n",
    "\n",
    "\n",
    "## Demo\n",
    "\n",
    "Here, we will import and clean the data base to demonstrate the process.\n"
   ]
  },
  {
   "cell_type": "code",
   "execution_count": 12,
   "id": "cb427778",
   "metadata": {
    "ExecuteTime": {
     "end_time": "2024-11-12T21:58:15.271445Z",
     "start_time": "2024-11-12T21:58:15.268046Z"
    }
   },
   "outputs": [],
   "source": [
    "# imports my code from the file src/data/movies_char_data.py\n",
    "import src.data.movies_char_data as MovieChar"
   ]
  },
  {
   "cell_type": "markdown",
   "id": "965eb4fa",
   "metadata": {},
   "source": [
    "#### Characters "
   ]
  },
  {
   "cell_type": "code",
   "execution_count": 13,
   "id": "initial_id",
   "metadata": {
    "ExecuteTime": {
     "end_time": "2024-11-12T21:58:17.650126Z",
     "start_time": "2024-11-12T21:58:15.312145Z"
    },
    "collapsed": true
   },
   "outputs": [
    {
     "name": "stdout",
     "output_type": "stream",
     "text": [
      "Checking if the data is loaded from a file or from memory\n",
      "Character : Loading the raw data in the attribute\n",
      "data/raw/character.metadata.tsv\n",
      "Character : loaded 450668 rows !\n"
     ]
    },
    {
     "data": {
      "text/html": [
       "<div>\n",
       "<style scoped>\n",
       "    .dataframe tbody tr th:only-of-type {\n",
       "        vertical-align: middle;\n",
       "    }\n",
       "\n",
       "    .dataframe tbody tr th {\n",
       "        vertical-align: top;\n",
       "    }\n",
       "\n",
       "    .dataframe thead th {\n",
       "        text-align: right;\n",
       "    }\n",
       "</style>\n",
       "<table border=\"1\" class=\"dataframe\">\n",
       "  <thead>\n",
       "    <tr style=\"text-align: right;\">\n",
       "      <th></th>\n",
       "      <th>975900</th>\n",
       "      <th>/m/03vyhn</th>\n",
       "      <th>2001-08-24</th>\n",
       "      <th>Akooshay</th>\n",
       "      <th>1958-08-26</th>\n",
       "      <th>F</th>\n",
       "      <th>1.62</th>\n",
       "      <th>Unnamed: 7</th>\n",
       "      <th>Wanda De Jesus</th>\n",
       "      <th>42</th>\n",
       "      <th>/m/0bgchxw</th>\n",
       "      <th>/m/0bgcj3x</th>\n",
       "      <th>/m/03wcfv7</th>\n",
       "    </tr>\n",
       "  </thead>\n",
       "  <tbody>\n",
       "    <tr>\n",
       "      <th>0</th>\n",
       "      <td>975900</td>\n",
       "      <td>/m/03vyhn</td>\n",
       "      <td>2001-08-24</td>\n",
       "      <td>Lieutenant Melanie Ballard</td>\n",
       "      <td>1974-08-15</td>\n",
       "      <td>F</td>\n",
       "      <td>1.780</td>\n",
       "      <td>/m/044038p</td>\n",
       "      <td>Natasha Henstridge</td>\n",
       "      <td>27.0</td>\n",
       "      <td>/m/0jys3m</td>\n",
       "      <td>/m/0bgchn4</td>\n",
       "      <td>/m/0346l4</td>\n",
       "    </tr>\n",
       "    <tr>\n",
       "      <th>1</th>\n",
       "      <td>975900</td>\n",
       "      <td>/m/03vyhn</td>\n",
       "      <td>2001-08-24</td>\n",
       "      <td>Desolation Williams</td>\n",
       "      <td>1969-06-15</td>\n",
       "      <td>M</td>\n",
       "      <td>1.727</td>\n",
       "      <td>/m/0x67</td>\n",
       "      <td>Ice Cube</td>\n",
       "      <td>32.0</td>\n",
       "      <td>/m/0jys3g</td>\n",
       "      <td>/m/0bgchn_</td>\n",
       "      <td>/m/01vw26l</td>\n",
       "    </tr>\n",
       "    <tr>\n",
       "      <th>2</th>\n",
       "      <td>975900</td>\n",
       "      <td>/m/03vyhn</td>\n",
       "      <td>2001-08-24</td>\n",
       "      <td>Sgt Jericho Butler</td>\n",
       "      <td>1967-09-12</td>\n",
       "      <td>M</td>\n",
       "      <td>1.750</td>\n",
       "      <td>NaN</td>\n",
       "      <td>Jason Statham</td>\n",
       "      <td>33.0</td>\n",
       "      <td>/m/02vchl6</td>\n",
       "      <td>/m/0bgchnq</td>\n",
       "      <td>/m/034hyc</td>\n",
       "    </tr>\n",
       "    <tr>\n",
       "      <th>3</th>\n",
       "      <td>975900</td>\n",
       "      <td>/m/03vyhn</td>\n",
       "      <td>2001-08-24</td>\n",
       "      <td>Bashira Kincaid</td>\n",
       "      <td>1977-09-25</td>\n",
       "      <td>F</td>\n",
       "      <td>1.650</td>\n",
       "      <td>NaN</td>\n",
       "      <td>Clea DuVall</td>\n",
       "      <td>23.0</td>\n",
       "      <td>/m/02vbb3r</td>\n",
       "      <td>/m/0bgchp9</td>\n",
       "      <td>/m/01y9xg</td>\n",
       "    </tr>\n",
       "    <tr>\n",
       "      <th>4</th>\n",
       "      <td>975900</td>\n",
       "      <td>/m/03vyhn</td>\n",
       "      <td>2001-08-24</td>\n",
       "      <td>Commander Helena Braddock</td>\n",
       "      <td>1949-05-26</td>\n",
       "      <td>F</td>\n",
       "      <td>1.727</td>\n",
       "      <td>/m/0x67</td>\n",
       "      <td>Pam Grier</td>\n",
       "      <td>52.0</td>\n",
       "      <td>/m/02vdcfp</td>\n",
       "      <td>/m/0bgchnd</td>\n",
       "      <td>/m/0418ft</td>\n",
       "    </tr>\n",
       "  </tbody>\n",
       "</table>\n",
       "</div>"
      ],
      "text/plain": [
       "   975900  /m/03vyhn  2001-08-24                    Akooshay  1958-08-26  F  \\\n",
       "0  975900  /m/03vyhn  2001-08-24  Lieutenant Melanie Ballard  1974-08-15  F   \n",
       "1  975900  /m/03vyhn  2001-08-24         Desolation Williams  1969-06-15  M   \n",
       "2  975900  /m/03vyhn  2001-08-24          Sgt Jericho Butler  1967-09-12  M   \n",
       "3  975900  /m/03vyhn  2001-08-24             Bashira Kincaid  1977-09-25  F   \n",
       "4  975900  /m/03vyhn  2001-08-24   Commander Helena Braddock  1949-05-26  F   \n",
       "\n",
       "    1.62  Unnamed: 7      Wanda De Jesus    42  /m/0bgchxw  /m/0bgcj3x  \\\n",
       "0  1.780  /m/044038p  Natasha Henstridge  27.0   /m/0jys3m  /m/0bgchn4   \n",
       "1  1.727     /m/0x67            Ice Cube  32.0   /m/0jys3g  /m/0bgchn_   \n",
       "2  1.750         NaN       Jason Statham  33.0  /m/02vchl6  /m/0bgchnq   \n",
       "3  1.650         NaN         Clea DuVall  23.0  /m/02vbb3r  /m/0bgchp9   \n",
       "4  1.727     /m/0x67           Pam Grier  52.0  /m/02vdcfp  /m/0bgchnd   \n",
       "\n",
       "   /m/03wcfv7  \n",
       "0   /m/0346l4  \n",
       "1  /m/01vw26l  \n",
       "2   /m/034hyc  \n",
       "3   /m/01y9xg  \n",
       "4   /m/0418ft  "
      ]
     },
     "execution_count": 13,
     "metadata": {},
     "output_type": "execute_result"
    }
   ],
   "source": [
    "character_df = MovieChar.CharacterData(\"Character\", \"character.metadata.tsv\", output_name = \"character_data_clean.csv\")\n",
    "character_df.raw_df.head()"
   ]
  },
  {
   "cell_type": "code",
   "execution_count": 14,
   "id": "57abe64c7880d8db",
   "metadata": {
    "ExecuteTime": {
     "end_time": "2024-11-12T21:58:18.568495Z",
     "start_time": "2024-11-12T21:58:17.713852Z"
    }
   },
   "outputs": [
    {
     "name": "stdout",
     "output_type": "stream",
     "text": [
      "Character : Cleaning the raw data\n"
     ]
    },
    {
     "data": {
      "text/html": [
       "<div>\n",
       "<style scoped>\n",
       "    .dataframe tbody tr th:only-of-type {\n",
       "        vertical-align: middle;\n",
       "    }\n",
       "\n",
       "    .dataframe tbody tr th {\n",
       "        vertical-align: top;\n",
       "    }\n",
       "\n",
       "    .dataframe thead th {\n",
       "        text-align: right;\n",
       "    }\n",
       "</style>\n",
       "<table border=\"1\" class=\"dataframe\">\n",
       "  <thead>\n",
       "    <tr style=\"text-align: right;\">\n",
       "      <th></th>\n",
       "      <th>Wikipedia_movie_ID</th>\n",
       "      <th>Release_date</th>\n",
       "      <th>Character_name</th>\n",
       "      <th>Actor_DOB</th>\n",
       "      <th>Actor_gender</th>\n",
       "      <th>Actor_height</th>\n",
       "      <th>Actor_ethnicity</th>\n",
       "      <th>Actor_name</th>\n",
       "      <th>Actor_age</th>\n",
       "    </tr>\n",
       "  </thead>\n",
       "  <tbody>\n",
       "    <tr>\n",
       "      <th>0</th>\n",
       "      <td>975900</td>\n",
       "      <td>2001-08-24</td>\n",
       "      <td>Lieutenant Melanie Ballard</td>\n",
       "      <td>1974-08-15</td>\n",
       "      <td>F</td>\n",
       "      <td>1.780</td>\n",
       "      <td>/m/044038p</td>\n",
       "      <td>Natasha Henstridge</td>\n",
       "      <td>27.0</td>\n",
       "    </tr>\n",
       "    <tr>\n",
       "      <th>1</th>\n",
       "      <td>975900</td>\n",
       "      <td>2001-08-24</td>\n",
       "      <td>Desolation Williams</td>\n",
       "      <td>1969-06-15</td>\n",
       "      <td>M</td>\n",
       "      <td>1.727</td>\n",
       "      <td>/m/0x67</td>\n",
       "      <td>Ice Cube</td>\n",
       "      <td>32.0</td>\n",
       "    </tr>\n",
       "    <tr>\n",
       "      <th>2</th>\n",
       "      <td>975900</td>\n",
       "      <td>2001-08-24</td>\n",
       "      <td>Sgt Jericho Butler</td>\n",
       "      <td>1967-09-12</td>\n",
       "      <td>M</td>\n",
       "      <td>1.750</td>\n",
       "      <td>NaN</td>\n",
       "      <td>Jason Statham</td>\n",
       "      <td>33.0</td>\n",
       "    </tr>\n",
       "    <tr>\n",
       "      <th>3</th>\n",
       "      <td>975900</td>\n",
       "      <td>2001-08-24</td>\n",
       "      <td>Bashira Kincaid</td>\n",
       "      <td>1977-09-25</td>\n",
       "      <td>F</td>\n",
       "      <td>1.650</td>\n",
       "      <td>NaN</td>\n",
       "      <td>Clea DuVall</td>\n",
       "      <td>23.0</td>\n",
       "    </tr>\n",
       "    <tr>\n",
       "      <th>4</th>\n",
       "      <td>975900</td>\n",
       "      <td>2001-08-24</td>\n",
       "      <td>Commander Helena Braddock</td>\n",
       "      <td>1949-05-26</td>\n",
       "      <td>F</td>\n",
       "      <td>1.727</td>\n",
       "      <td>/m/0x67</td>\n",
       "      <td>Pam Grier</td>\n",
       "      <td>52.0</td>\n",
       "    </tr>\n",
       "  </tbody>\n",
       "</table>\n",
       "</div>"
      ],
      "text/plain": [
       "   Wikipedia_movie_ID Release_date              Character_name  Actor_DOB  \\\n",
       "0              975900   2001-08-24  Lieutenant Melanie Ballard 1974-08-15   \n",
       "1              975900   2001-08-24         Desolation Williams 1969-06-15   \n",
       "2              975900   2001-08-24          Sgt Jericho Butler 1967-09-12   \n",
       "3              975900   2001-08-24             Bashira Kincaid 1977-09-25   \n",
       "4              975900   2001-08-24   Commander Helena Braddock 1949-05-26   \n",
       "\n",
       "  Actor_gender  Actor_height Actor_ethnicity          Actor_name  Actor_age  \n",
       "0            F         1.780      /m/044038p  Natasha Henstridge       27.0  \n",
       "1            M         1.727         /m/0x67            Ice Cube       32.0  \n",
       "2            M         1.750             NaN       Jason Statham       33.0  \n",
       "3            F         1.650             NaN         Clea DuVall       23.0  \n",
       "4            F         1.727         /m/0x67           Pam Grier       52.0  "
      ]
     },
     "execution_count": 14,
     "metadata": {},
     "output_type": "execute_result"
    }
   ],
   "source": [
    "# print duplicated rows\n",
    "character_df.clean_raw_data()\n",
    "character_df.clean_df.head()"
   ]
  },
  {
   "cell_type": "code",
   "execution_count": 15,
   "id": "7298820688573702",
   "metadata": {
    "ExecuteTime": {
     "end_time": "2024-11-12T21:58:25.056105Z",
     "start_time": "2024-11-12T21:58:18.628918Z"
    }
   },
   "outputs": [
    {
     "name": "stdout",
     "output_type": "stream",
     "text": [
      "Character : Loading the raw data in the attribute\n",
      "data/raw/character.metadata.tsv\n",
      "Character : loaded 450668 rows !\n",
      "Character : Cleaning the raw data\n",
      "Character : Data has been cleaned and saved to data/clean/movies_char/character.metadata.tsv!\n"
     ]
    }
   ],
   "source": [
    "character_df.pipeline()"
   ]
  },
  {
   "cell_type": "markdown",
   "id": "7bb600d2",
   "metadata": {},
   "source": [
    "####  Movie dataset"
   ]
  },
  {
   "cell_type": "code",
   "execution_count": 16,
   "id": "7949e276",
   "metadata": {
    "ExecuteTime": {
     "end_time": "2024-11-12T21:58:25.626051Z",
     "start_time": "2024-11-12T21:58:25.113215Z"
    }
   },
   "outputs": [
    {
     "name": "stdout",
     "output_type": "stream",
     "text": [
      "Checking if the data is loaded from a file or from memory\n",
      "Movie : Loading the raw data in the attribute\n",
      "data/raw/movie.metadata.tsv\n",
      "Movie : loaded 81740 rows !\n",
      "Movie movie.metadata.tsv\n"
     ]
    },
    {
     "data": {
      "text/html": [
       "<div>\n",
       "<style scoped>\n",
       "    .dataframe tbody tr th:only-of-type {\n",
       "        vertical-align: middle;\n",
       "    }\n",
       "\n",
       "    .dataframe tbody tr th {\n",
       "        vertical-align: top;\n",
       "    }\n",
       "\n",
       "    .dataframe thead th {\n",
       "        text-align: right;\n",
       "    }\n",
       "</style>\n",
       "<table border=\"1\" class=\"dataframe\">\n",
       "  <thead>\n",
       "    <tr style=\"text-align: right;\">\n",
       "      <th></th>\n",
       "      <th>975900</th>\n",
       "      <th>/m/03vyhn</th>\n",
       "      <th>Ghosts of Mars</th>\n",
       "      <th>2001-08-24</th>\n",
       "      <th>14010832</th>\n",
       "      <th>98.0</th>\n",
       "      <th>{\"/m/02h40lc\": \"English Language\"}</th>\n",
       "      <th>{\"/m/09c7w0\": \"United States of America\"}</th>\n",
       "      <th>{\"/m/01jfsb\": \"Thriller\", \"/m/06n90\": \"Science Fiction\", \"/m/03npn\": \"Horror\", \"/m/03k9fj\": \"Adventure\", \"/m/0fdjb\": \"Supernatural\", \"/m/02kdv5l\": \"Action\", \"/m/09zvmj\": \"Space western\"}</th>\n",
       "    </tr>\n",
       "  </thead>\n",
       "  <tbody>\n",
       "    <tr>\n",
       "      <th>0</th>\n",
       "      <td>3196793</td>\n",
       "      <td>/m/08yl5d</td>\n",
       "      <td>Getting Away with Murder: The JonBenét Ramsey ...</td>\n",
       "      <td>2000-02-16</td>\n",
       "      <td>NaN</td>\n",
       "      <td>95.0</td>\n",
       "      <td>{\"/m/02h40lc\": \"English Language\"}</td>\n",
       "      <td>{\"/m/09c7w0\": \"United States of America\"}</td>\n",
       "      <td>{\"/m/02n4kr\": \"Mystery\", \"/m/03bxz7\": \"Biograp...</td>\n",
       "    </tr>\n",
       "    <tr>\n",
       "      <th>1</th>\n",
       "      <td>28463795</td>\n",
       "      <td>/m/0crgdbh</td>\n",
       "      <td>Brun bitter</td>\n",
       "      <td>1988</td>\n",
       "      <td>NaN</td>\n",
       "      <td>83.0</td>\n",
       "      <td>{\"/m/05f_3\": \"Norwegian Language\"}</td>\n",
       "      <td>{\"/m/05b4w\": \"Norway\"}</td>\n",
       "      <td>{\"/m/0lsxr\": \"Crime Fiction\", \"/m/07s9rl0\": \"D...</td>\n",
       "    </tr>\n",
       "    <tr>\n",
       "      <th>2</th>\n",
       "      <td>9363483</td>\n",
       "      <td>/m/0285_cd</td>\n",
       "      <td>White Of The Eye</td>\n",
       "      <td>1987</td>\n",
       "      <td>NaN</td>\n",
       "      <td>110.0</td>\n",
       "      <td>{\"/m/02h40lc\": \"English Language\"}</td>\n",
       "      <td>{\"/m/07ssc\": \"United Kingdom\"}</td>\n",
       "      <td>{\"/m/01jfsb\": \"Thriller\", \"/m/0glj9q\": \"Erotic...</td>\n",
       "    </tr>\n",
       "    <tr>\n",
       "      <th>3</th>\n",
       "      <td>261236</td>\n",
       "      <td>/m/01mrr1</td>\n",
       "      <td>A Woman in Flames</td>\n",
       "      <td>1983</td>\n",
       "      <td>NaN</td>\n",
       "      <td>106.0</td>\n",
       "      <td>{\"/m/04306rv\": \"German Language\"}</td>\n",
       "      <td>{\"/m/0345h\": \"Germany\"}</td>\n",
       "      <td>{\"/m/07s9rl0\": \"Drama\"}</td>\n",
       "    </tr>\n",
       "    <tr>\n",
       "      <th>4</th>\n",
       "      <td>13696889</td>\n",
       "      <td>/m/03cfc81</td>\n",
       "      <td>The Gangsters</td>\n",
       "      <td>1913-05-29</td>\n",
       "      <td>NaN</td>\n",
       "      <td>35.0</td>\n",
       "      <td>{\"/m/06ppq\": \"Silent film\", \"/m/02h40lc\": \"Eng...</td>\n",
       "      <td>{\"/m/09c7w0\": \"United States of America\"}</td>\n",
       "      <td>{\"/m/02hmvc\": \"Short Film\", \"/m/06ppq\": \"Silen...</td>\n",
       "    </tr>\n",
       "  </tbody>\n",
       "</table>\n",
       "</div>"
      ],
      "text/plain": [
       "     975900   /m/03vyhn                                     Ghosts of Mars  \\\n",
       "0   3196793   /m/08yl5d  Getting Away with Murder: The JonBenét Ramsey ...   \n",
       "1  28463795  /m/0crgdbh                                        Brun bitter   \n",
       "2   9363483  /m/0285_cd                                   White Of The Eye   \n",
       "3    261236   /m/01mrr1                                  A Woman in Flames   \n",
       "4  13696889  /m/03cfc81                                      The Gangsters   \n",
       "\n",
       "   2001-08-24  14010832   98.0  \\\n",
       "0  2000-02-16       NaN   95.0   \n",
       "1        1988       NaN   83.0   \n",
       "2        1987       NaN  110.0   \n",
       "3        1983       NaN  106.0   \n",
       "4  1913-05-29       NaN   35.0   \n",
       "\n",
       "                  {\"/m/02h40lc\": \"English Language\"}  \\\n",
       "0                 {\"/m/02h40lc\": \"English Language\"}   \n",
       "1                 {\"/m/05f_3\": \"Norwegian Language\"}   \n",
       "2                 {\"/m/02h40lc\": \"English Language\"}   \n",
       "3                  {\"/m/04306rv\": \"German Language\"}   \n",
       "4  {\"/m/06ppq\": \"Silent film\", \"/m/02h40lc\": \"Eng...   \n",
       "\n",
       "   {\"/m/09c7w0\": \"United States of America\"}  \\\n",
       "0  {\"/m/09c7w0\": \"United States of America\"}   \n",
       "1                     {\"/m/05b4w\": \"Norway\"}   \n",
       "2             {\"/m/07ssc\": \"United Kingdom\"}   \n",
       "3                    {\"/m/0345h\": \"Germany\"}   \n",
       "4  {\"/m/09c7w0\": \"United States of America\"}   \n",
       "\n",
       "  {\"/m/01jfsb\": \"Thriller\", \"/m/06n90\": \"Science Fiction\", \"/m/03npn\": \"Horror\", \"/m/03k9fj\": \"Adventure\", \"/m/0fdjb\": \"Supernatural\", \"/m/02kdv5l\": \"Action\", \"/m/09zvmj\": \"Space western\"}  \n",
       "0  {\"/m/02n4kr\": \"Mystery\", \"/m/03bxz7\": \"Biograp...                                                                                                                                          \n",
       "1  {\"/m/0lsxr\": \"Crime Fiction\", \"/m/07s9rl0\": \"D...                                                                                                                                          \n",
       "2  {\"/m/01jfsb\": \"Thriller\", \"/m/0glj9q\": \"Erotic...                                                                                                                                          \n",
       "3                            {\"/m/07s9rl0\": \"Drama\"}                                                                                                                                          \n",
       "4  {\"/m/02hmvc\": \"Short Film\", \"/m/06ppq\": \"Silen...                                                                                                                                          "
      ]
     },
     "execution_count": 16,
     "metadata": {},
     "output_type": "execute_result"
    }
   ],
   "source": [
    "movie_df = MovieChar.MovieData(\"Movie\", \"movie.metadata.tsv\", output_name = \"movie_data_clean.csv\")\n",
    "\n",
    "#Display name and file_name\n",
    "print(movie_df.name, movie_df.file_name)\n",
    "\n",
    "movie_df.raw_df.head()"
   ]
  },
  {
   "cell_type": "code",
   "execution_count": 17,
   "id": "995e3120c95d62e",
   "metadata": {
    "ExecuteTime": {
     "end_time": "2024-11-12T21:58:27.853156Z",
     "start_time": "2024-11-12T21:58:25.679441Z"
    }
   },
   "outputs": [
    {
     "data": {
      "text/html": [
       "<div>\n",
       "<style scoped>\n",
       "    .dataframe tbody tr th:only-of-type {\n",
       "        vertical-align: middle;\n",
       "    }\n",
       "\n",
       "    .dataframe tbody tr th {\n",
       "        vertical-align: top;\n",
       "    }\n",
       "\n",
       "    .dataframe thead th {\n",
       "        text-align: right;\n",
       "    }\n",
       "</style>\n",
       "<table border=\"1\" class=\"dataframe\">\n",
       "  <thead>\n",
       "    <tr style=\"text-align: right;\">\n",
       "      <th></th>\n",
       "      <th>Wikipedia_movie_ID</th>\n",
       "      <th>Movie_name</th>\n",
       "      <th>Release_date</th>\n",
       "      <th>Revenue</th>\n",
       "      <th>Runtime</th>\n",
       "      <th>Languages</th>\n",
       "      <th>Countries</th>\n",
       "      <th>Genres</th>\n",
       "    </tr>\n",
       "  </thead>\n",
       "  <tbody>\n",
       "    <tr>\n",
       "      <th>0</th>\n",
       "      <td>3196793</td>\n",
       "      <td>Getting Away with Murder: The JonBenét Ramsey ...</td>\n",
       "      <td>2000-02-16</td>\n",
       "      <td>NaN</td>\n",
       "      <td>0 days 00:00:00.000000095</td>\n",
       "      <td>English</td>\n",
       "      <td>United States of America</td>\n",
       "      <td>Mystery, Biographical film, Drama, Crime Drama</td>\n",
       "    </tr>\n",
       "    <tr>\n",
       "      <th>1</th>\n",
       "      <td>28463795</td>\n",
       "      <td>Brun bitter</td>\n",
       "      <td>NaT</td>\n",
       "      <td>NaN</td>\n",
       "      <td>0 days 00:00:00.000000083</td>\n",
       "      <td>Norwegian</td>\n",
       "      <td>Norway</td>\n",
       "      <td>Crime Fiction, Drama</td>\n",
       "    </tr>\n",
       "    <tr>\n",
       "      <th>2</th>\n",
       "      <td>9363483</td>\n",
       "      <td>White Of The Eye</td>\n",
       "      <td>NaT</td>\n",
       "      <td>NaN</td>\n",
       "      <td>0 days 00:00:00.000000110</td>\n",
       "      <td>English</td>\n",
       "      <td>United Kingdom</td>\n",
       "      <td>Thriller, Erotic thriller, Psychological thriller</td>\n",
       "    </tr>\n",
       "    <tr>\n",
       "      <th>3</th>\n",
       "      <td>261236</td>\n",
       "      <td>A Woman in Flames</td>\n",
       "      <td>NaT</td>\n",
       "      <td>NaN</td>\n",
       "      <td>0 days 00:00:00.000000106</td>\n",
       "      <td>German</td>\n",
       "      <td>Germany</td>\n",
       "      <td>Drama</td>\n",
       "    </tr>\n",
       "    <tr>\n",
       "      <th>4</th>\n",
       "      <td>13696889</td>\n",
       "      <td>The Gangsters</td>\n",
       "      <td>1913-05-29</td>\n",
       "      <td>NaN</td>\n",
       "      <td>0 days 00:00:00.000000035</td>\n",
       "      <td>Silent film, English</td>\n",
       "      <td>United States of America</td>\n",
       "      <td>Short Film, Silent film, Indie, Black-and-whit...</td>\n",
       "    </tr>\n",
       "  </tbody>\n",
       "</table>\n",
       "</div>"
      ],
      "text/plain": [
       "   Wikipedia_movie_ID                                         Movie_name  \\\n",
       "0             3196793  Getting Away with Murder: The JonBenét Ramsey ...   \n",
       "1            28463795                                        Brun bitter   \n",
       "2             9363483                                   White Of The Eye   \n",
       "3              261236                                  A Woman in Flames   \n",
       "4            13696889                                      The Gangsters   \n",
       "\n",
       "  Release_date  Revenue                   Runtime             Languages  \\\n",
       "0   2000-02-16      NaN 0 days 00:00:00.000000095               English   \n",
       "1          NaT      NaN 0 days 00:00:00.000000083             Norwegian   \n",
       "2          NaT      NaN 0 days 00:00:00.000000110               English   \n",
       "3          NaT      NaN 0 days 00:00:00.000000106                German   \n",
       "4   1913-05-29      NaN 0 days 00:00:00.000000035  Silent film, English   \n",
       "\n",
       "                  Countries                                             Genres  \n",
       "0  United States of America     Mystery, Biographical film, Drama, Crime Drama  \n",
       "1                    Norway                               Crime Fiction, Drama  \n",
       "2            United Kingdom  Thriller, Erotic thriller, Psychological thriller  \n",
       "3                   Germany                                              Drama  \n",
       "4  United States of America  Short Film, Silent film, Indie, Black-and-whit...  "
      ]
     },
     "execution_count": 17,
     "metadata": {},
     "output_type": "execute_result"
    }
   ],
   "source": [
    "# print duplicated rows\n",
    "movie_df.clean_raw_data()\n",
    "movie_df.clean_df.head()"
   ]
  },
  {
   "cell_type": "code",
   "execution_count": 18,
   "id": "8878aae6ad2e2178",
   "metadata": {
    "ExecuteTime": {
     "end_time": "2024-11-12T21:58:32.478202Z",
     "start_time": "2024-11-12T21:58:28.020262Z"
    }
   },
   "outputs": [
    {
     "name": "stdout",
     "output_type": "stream",
     "text": [
      "Movie : Loading the raw data in the attribute\n",
      "data/raw/movie.metadata.tsv\n",
      "Movie : loaded 81740 rows !\n",
      "Movie : Data has been cleaned and saved to data/clean/movies_char/movie.metadata.tsv!\n"
     ]
    }
   ],
   "source": [
    "movie_df.pipeline()"
   ]
  },
  {
   "cell_type": "markdown",
   "id": "7a6d342e",
   "metadata": {},
   "source": [
    "## Merging Movie and Character into one dataset\n",
    "\n",
    "We merged the 2 dataset following the Wikipedi movie ID."
   ]
  },
  {
   "cell_type": "code",
   "execution_count": 19,
   "id": "ee1c02c3",
   "metadata": {
    "ExecuteTime": {
     "end_time": "2024-11-12T21:58:35.783666Z",
     "start_time": "2024-11-12T21:58:32.651731Z"
    }
   },
   "outputs": [
    {
     "name": "stdout",
     "output_type": "stream",
     "text": [
      "Duplicates found: 862 duplicates ! removing them...\n"
     ]
    },
    {
     "data": {
      "text/html": [
       "<div>\n",
       "<style scoped>\n",
       "    .dataframe tbody tr th:only-of-type {\n",
       "        vertical-align: middle;\n",
       "    }\n",
       "\n",
       "    .dataframe tbody tr th {\n",
       "        vertical-align: top;\n",
       "    }\n",
       "\n",
       "    .dataframe thead th {\n",
       "        text-align: right;\n",
       "    }\n",
       "</style>\n",
       "<table border=\"1\" class=\"dataframe\">\n",
       "  <thead>\n",
       "    <tr style=\"text-align: right;\">\n",
       "      <th></th>\n",
       "      <th>Wikipedia_movie_ID</th>\n",
       "      <th>Movie_name</th>\n",
       "      <th>Release_date</th>\n",
       "      <th>Revenue</th>\n",
       "      <th>Runtime</th>\n",
       "      <th>Languages</th>\n",
       "      <th>Countries</th>\n",
       "      <th>Genres</th>\n",
       "      <th>Character_name</th>\n",
       "      <th>Actor_DOB</th>\n",
       "      <th>Actor_gender</th>\n",
       "      <th>Actor_height</th>\n",
       "      <th>Actor_ethnicity</th>\n",
       "      <th>Actor_name</th>\n",
       "      <th>Actor_age</th>\n",
       "    </tr>\n",
       "  </thead>\n",
       "  <tbody>\n",
       "    <tr>\n",
       "      <th>0</th>\n",
       "      <td>3196793</td>\n",
       "      <td>Getting Away with Murder: The JonBenét Ramsey ...</td>\n",
       "      <td>2000-02-16</td>\n",
       "      <td>NaN</td>\n",
       "      <td>0 days 00:00:00.000000095</td>\n",
       "      <td>English</td>\n",
       "      <td>United States of America</td>\n",
       "      <td>Mystery, Biographical film, Drama, Crime Drama</td>\n",
       "      <td>Police Officer</td>\n",
       "      <td>NaT</td>\n",
       "      <td>M</td>\n",
       "      <td>NaN</td>\n",
       "      <td>NaN</td>\n",
       "      <td>Allen Cutler</td>\n",
       "      <td>NaN</td>\n",
       "    </tr>\n",
       "    <tr>\n",
       "      <th>1</th>\n",
       "      <td>3196793</td>\n",
       "      <td>Getting Away with Murder: The JonBenét Ramsey ...</td>\n",
       "      <td>2000-02-16</td>\n",
       "      <td>NaN</td>\n",
       "      <td>0 days 00:00:00.000000095</td>\n",
       "      <td>English</td>\n",
       "      <td>United States of America</td>\n",
       "      <td>Mystery, Biographical film, Drama, Crime Drama</td>\n",
       "      <td>Reporter</td>\n",
       "      <td>1956-12-19</td>\n",
       "      <td>F</td>\n",
       "      <td>NaN</td>\n",
       "      <td>NaN</td>\n",
       "      <td>Alice Barrett</td>\n",
       "      <td>43.0</td>\n",
       "    </tr>\n",
       "    <tr>\n",
       "      <th>2</th>\n",
       "      <td>3196793</td>\n",
       "      <td>Getting Away with Murder: The JonBenét Ramsey ...</td>\n",
       "      <td>2000-02-16</td>\n",
       "      <td>NaN</td>\n",
       "      <td>0 days 00:00:00.000000095</td>\n",
       "      <td>English</td>\n",
       "      <td>United States of America</td>\n",
       "      <td>Mystery, Biographical film, Drama, Crime Drama</td>\n",
       "      <td>NaN</td>\n",
       "      <td>NaT</td>\n",
       "      <td>M</td>\n",
       "      <td>NaN</td>\n",
       "      <td>NaN</td>\n",
       "      <td>Rod Britt</td>\n",
       "      <td>NaN</td>\n",
       "    </tr>\n",
       "    <tr>\n",
       "      <th>3</th>\n",
       "      <td>3196793</td>\n",
       "      <td>Getting Away with Murder: The JonBenét Ramsey ...</td>\n",
       "      <td>2000-02-16</td>\n",
       "      <td>NaN</td>\n",
       "      <td>0 days 00:00:00.000000095</td>\n",
       "      <td>English</td>\n",
       "      <td>United States of America</td>\n",
       "      <td>Mystery, Biographical film, Drama, Crime Drama</td>\n",
       "      <td>NaN</td>\n",
       "      <td>NaT</td>\n",
       "      <td>F</td>\n",
       "      <td>NaN</td>\n",
       "      <td>NaN</td>\n",
       "      <td>Hildy Brooks</td>\n",
       "      <td>NaN</td>\n",
       "    </tr>\n",
       "    <tr>\n",
       "      <th>4</th>\n",
       "      <td>3196793</td>\n",
       "      <td>Getting Away with Murder: The JonBenét Ramsey ...</td>\n",
       "      <td>2000-02-16</td>\n",
       "      <td>NaN</td>\n",
       "      <td>0 days 00:00:00.000000095</td>\n",
       "      <td>English</td>\n",
       "      <td>United States of America</td>\n",
       "      <td>Mystery, Biographical film, Drama, Crime Drama</td>\n",
       "      <td>FBI Profiler Robert Hanks</td>\n",
       "      <td>1950-01-05</td>\n",
       "      <td>M</td>\n",
       "      <td>NaN</td>\n",
       "      <td>NaN</td>\n",
       "      <td>Robert Catrini</td>\n",
       "      <td>50.0</td>\n",
       "    </tr>\n",
       "  </tbody>\n",
       "</table>\n",
       "</div>"
      ],
      "text/plain": [
       "   Wikipedia_movie_ID                                         Movie_name  \\\n",
       "0             3196793  Getting Away with Murder: The JonBenét Ramsey ...   \n",
       "1             3196793  Getting Away with Murder: The JonBenét Ramsey ...   \n",
       "2             3196793  Getting Away with Murder: The JonBenét Ramsey ...   \n",
       "3             3196793  Getting Away with Murder: The JonBenét Ramsey ...   \n",
       "4             3196793  Getting Away with Murder: The JonBenét Ramsey ...   \n",
       "\n",
       "  Release_date  Revenue                   Runtime Languages  \\\n",
       "0   2000-02-16      NaN 0 days 00:00:00.000000095   English   \n",
       "1   2000-02-16      NaN 0 days 00:00:00.000000095   English   \n",
       "2   2000-02-16      NaN 0 days 00:00:00.000000095   English   \n",
       "3   2000-02-16      NaN 0 days 00:00:00.000000095   English   \n",
       "4   2000-02-16      NaN 0 days 00:00:00.000000095   English   \n",
       "\n",
       "                  Countries                                          Genres  \\\n",
       "0  United States of America  Mystery, Biographical film, Drama, Crime Drama   \n",
       "1  United States of America  Mystery, Biographical film, Drama, Crime Drama   \n",
       "2  United States of America  Mystery, Biographical film, Drama, Crime Drama   \n",
       "3  United States of America  Mystery, Biographical film, Drama, Crime Drama   \n",
       "4  United States of America  Mystery, Biographical film, Drama, Crime Drama   \n",
       "\n",
       "              Character_name  Actor_DOB Actor_gender  Actor_height  \\\n",
       "0             Police Officer        NaT            M           NaN   \n",
       "1                   Reporter 1956-12-19            F           NaN   \n",
       "2                        NaN        NaT            M           NaN   \n",
       "3                        NaN        NaT            F           NaN   \n",
       "4  FBI Profiler Robert Hanks 1950-01-05            M           NaN   \n",
       "\n",
       "  Actor_ethnicity      Actor_name  Actor_age  \n",
       "0             NaN    Allen Cutler        NaN  \n",
       "1             NaN   Alice Barrett       43.0  \n",
       "2             NaN       Rod Britt        NaN  \n",
       "3             NaN    Hildy Brooks        NaN  \n",
       "4             NaN  Robert Catrini       50.0  "
      ]
     },
     "execution_count": 19,
     "metadata": {},
     "output_type": "execute_result"
    }
   ],
   "source": [
    "from src.utils.movies_utils import *\n",
    "\n",
    "mov_char_data = merge_movies_characters_data(movie_df, character_df)\n",
    "\n",
    "mov_char_data.head() # When we call the data name object, it returns the cleaned data"
   ]
  },
  {
   "cell_type": "code",
   "execution_count": 20,
   "id": "144abe8c5e2174c1",
   "metadata": {
    "ExecuteTime": {
     "end_time": "2024-11-12T21:58:35.880525Z",
     "start_time": "2024-11-12T21:58:35.871642Z"
    }
   },
   "outputs": [
    {
     "name": "stdout",
     "output_type": "stream",
     "text": [
      "(449790, 15)\n"
     ]
    }
   ],
   "source": [
    "# Print size of the dataset\n",
    "print(mov_char_data.shape)"
   ]
  },
  {
   "cell_type": "markdown",
   "id": "ef9e07a9",
   "metadata": {},
   "source": [
    "# Names datasets\n",
    "\n",
    "In order to answer our research questions, we needed to find some birth registries from different countries. Those were freely available and we found datasets for the following countries:\n",
    "\n",
    "- France\n",
    "- USA\n",
    "- United Kingdom\n",
    "- AJOUTER AUTRE SI BESOIN\n",
    "\n",
    "Since they all came from different places and didn't follow the same structure, we had to decide what kind of data was necessary for our project and what structure would be the most practical to work with. We ended-up with the following collumns in our dataframes:\n",
    "\n",
    "1. **Year** : An integer value giving the year of the count \n",
    "2. **Name** :  A string representing the name that was counted\n",
    "3. **Sex** : There are two possible characters, 'F' (female) and 'M' (male)\n",
    "4. **Count** : An integer value giving the count of the name during this year\n",
    "\n",
    "## Data homogenization\n",
    "\n",
    "The cleaning task was implement in the *clean_raw_data()* method of our different NamesData classes implementation (by country) and validated using the *check_clean_data()* method, available and shared by all the name datasets (python inheritance).\n",
    "\n",
    "### Column structure\n",
    "This task was not too difficult since it was mostly reordering, renaming the ones needed and dropping the ones that were not useful for our project. We also made sure that the same type was used on the collumns of the different datasets. \n",
    "\n",
    "### Year \n",
    "All of our dataset had the same year format, but some had missing values in this field, which made those row useless and they were therefore discarded.\n",
    "This collumn made it hard to find datasets from more countries, since a lot of them started to count only in the early 2000's, which doesn't give us enough data to detect real changes in the distribution. (The movie data base ends in 2012)\n",
    "\n",
    "### Name\n",
    "This was the hardest column to sanitize and clean since a lot of variation of a same name are possible. We ended by defining a regex expression do define what we would accept as a valid name : ^[A-Z-\\s\\']+$\n",
    "\n",
    "This allows us to limit ourselves to names composed only of capitalized letters, spaces, '-' for composed names and ''' for the some regional variations. This rule is really strict and would have made us lose a considerable proportion of our dataset. This is where the data cleaning process came to help homogenize our data and it mainly consisted of the following operations:\n",
    "\n",
    "- Converting all the name to uppercase\n",
    "- Removing all accents on letter, for example é becomes e.\n",
    "\n",
    "Some names have different spellings, for example you can write JEREMY and JEREMIE, but we decided to count this as two separate entries since grouping \"similar\" is out of the scope of this project and is not an uniformised concept.\n",
    "\n",
    "### Sex\n",
    "The french dataset had some integer values that we converted to the expected format. This field is useful for our research questions, but complicated the dataset research, since a lot of countries did not include this information in their registries.\n",
    "\n",
    "### Validation\n",
    "\n",
    "The python class representing our datasets contains a method *check_clean_data()* that checks multiple conditions to be sure that the data is uniform. \n",
    "\n",
    "- Checks the collumns' name\n",
    "- Checks if some missing values are present\n",
    "- Checks the data type of each collumn\n",
    "- Checks for duplicated rows (same name, same sex and same name)\n",
    "- Checks that the strings respects the defined regex expressions\n",
    "- Checks that the counts and years are coherent numbers \n",
    "\n",
    "## Demo\n",
    "\n",
    "Here, we will import and clean the data base to demonstrate the process.\n"
   ]
  },
  {
   "cell_type": "code",
   "execution_count": 21,
   "id": "9f34f05a",
   "metadata": {},
   "outputs": [
    {
     "ename": "FileNotFoundError",
     "evalue": "[Errno 2] No such file or directory: 'data/raw/names/ukbabynames_datasets/ukbabynames.csv'",
     "output_type": "error",
     "traceback": [
      "\u001b[1;31m---------------------------------------------------------------------------\u001b[0m",
      "\u001b[1;31mFileNotFoundError\u001b[0m                         Traceback (most recent call last)",
      "Cell \u001b[1;32mIn[21], line 2\u001b[0m\n\u001b[0;32m      1\u001b[0m \u001b[38;5;28;01mimport\u001b[39;00m \u001b[38;5;21;01msrc\u001b[39;00m\u001b[38;5;21;01m.\u001b[39;00m\u001b[38;5;21;01mdata\u001b[39;00m\u001b[38;5;21;01m.\u001b[39;00m\u001b[38;5;21;01mnames_data\u001b[39;00m \u001b[38;5;28;01mas\u001b[39;00m \u001b[38;5;21;01mNamesData\u001b[39;00m\n\u001b[1;32m----> 2\u001b[0m ukNames \u001b[38;5;241m=\u001b[39m NamesData\u001b[38;5;241m.\u001b[39mUKNamesData(\u001b[38;5;124m\"\u001b[39m\u001b[38;5;124mUK\u001b[39m\u001b[38;5;124m\"\u001b[39m, \u001b[38;5;124m\"\u001b[39m\u001b[38;5;124mukbabynames_datasets/ukbabynames.csv\u001b[39m\u001b[38;5;124m\"\u001b[39m)\n\u001b[0;32m      4\u001b[0m \u001b[38;5;66;03m# The raw data directly from the file\u001b[39;00m\n\u001b[0;32m      5\u001b[0m ukNames\u001b[38;5;241m.\u001b[39mraw_df\u001b[38;5;241m.\u001b[39mhead()\n",
      "File \u001b[1;32mc:\\Users\\Pauline\\Documents\\EPFL\\Master\\MA3\\ada\\ada-2024-project-dondata2025\\src\\data\\names_data.py:36\u001b[0m, in \u001b[0;36mNamesData.__init__\u001b[1;34m(self, name, file_name, credits, separator, loaded)\u001b[0m\n\u001b[0;32m     34\u001b[0m \u001b[38;5;28;01mif\u001b[39;00m(loaded): \u001b[38;5;66;03m# If loaded is true, there is a file corresponding to the data in the raw directory\u001b[39;00m\n\u001b[0;32m     35\u001b[0m     \u001b[38;5;28mself\u001b[39m\u001b[38;5;241m.\u001b[39mloaded \u001b[38;5;241m=\u001b[39m \u001b[38;5;28;01mTrue\u001b[39;00m\n\u001b[1;32m---> 36\u001b[0m     \u001b[38;5;28mself\u001b[39m\u001b[38;5;241m.\u001b[39mfetch_raw_data()\n\u001b[0;32m     37\u001b[0m \u001b[38;5;28;01melse\u001b[39;00m: \u001b[38;5;66;03m# was created from in memory content, no file corresponding in the raw directory\u001b[39;00m\n\u001b[0;32m     38\u001b[0m     \u001b[38;5;28mself\u001b[39m\u001b[38;5;241m.\u001b[39mloaded \u001b[38;5;241m=\u001b[39m \u001b[38;5;28;01mFalse\u001b[39;00m\n",
      "File \u001b[1;32mc:\\Users\\Pauline\\Documents\\EPFL\\Master\\MA3\\ada\\ada-2024-project-dondata2025\\src\\data\\names_data.py:55\u001b[0m, in \u001b[0;36mNamesData.fetch_raw_data\u001b[1;34m(self)\u001b[0m\n\u001b[0;32m     52\u001b[0m     \u001b[38;5;28mprint\u001b[39m(\u001b[38;5;124mf\u001b[39m\u001b[38;5;124m\"\u001b[39m\u001b[38;5;132;01m{\u001b[39;00m\u001b[38;5;28mself\u001b[39m\u001b[38;5;241m.\u001b[39mname\u001b[38;5;132;01m}\u001b[39;00m\u001b[38;5;124m : This object does not come from a local file, cannot be loaded\u001b[39m\u001b[38;5;124m\"\u001b[39m)\n\u001b[0;32m     53\u001b[0m     \u001b[38;5;28;01mreturn\u001b[39;00m\n\u001b[1;32m---> 55\u001b[0m \u001b[38;5;28mself\u001b[39m\u001b[38;5;241m.\u001b[39mraw_df \u001b[38;5;241m=\u001b[39m pd\u001b[38;5;241m.\u001b[39mread_csv(\u001b[38;5;124mf\u001b[39m\u001b[38;5;124m'\u001b[39m\u001b[38;5;132;01m{\u001b[39;00mRAW_DATA_PATH\u001b[38;5;132;01m}\u001b[39;00m\u001b[38;5;132;01m{\u001b[39;00m\u001b[38;5;28mself\u001b[39m\u001b[38;5;241m.\u001b[39mfile_name\u001b[38;5;132;01m}\u001b[39;00m\u001b[38;5;124m'\u001b[39m, delimiter\u001b[38;5;241m=\u001b[39m\u001b[38;5;28mself\u001b[39m\u001b[38;5;241m.\u001b[39mseparator)\n\u001b[0;32m     56\u001b[0m \u001b[38;5;28mprint\u001b[39m(\u001b[38;5;124mf\u001b[39m\u001b[38;5;124m\"\u001b[39m\u001b[38;5;132;01m{\u001b[39;00m\u001b[38;5;28mself\u001b[39m\u001b[38;5;241m.\u001b[39mname\u001b[38;5;132;01m}\u001b[39;00m\u001b[38;5;124m : loaded \u001b[39m\u001b[38;5;132;01m{\u001b[39;00m\u001b[38;5;28mself\u001b[39m\u001b[38;5;241m.\u001b[39mraw_df\u001b[38;5;241m.\u001b[39mshape[\u001b[38;5;241m0\u001b[39m]\u001b[38;5;132;01m}\u001b[39;00m\u001b[38;5;124m rows !\u001b[39m\u001b[38;5;124m\"\u001b[39m)\n",
      "File \u001b[1;32mc:\\Users\\Pauline\\anaconda3\\envs\\ada\\Lib\\site-packages\\pandas\\io\\parsers\\readers.py:1026\u001b[0m, in \u001b[0;36mread_csv\u001b[1;34m(filepath_or_buffer, sep, delimiter, header, names, index_col, usecols, dtype, engine, converters, true_values, false_values, skipinitialspace, skiprows, skipfooter, nrows, na_values, keep_default_na, na_filter, verbose, skip_blank_lines, parse_dates, infer_datetime_format, keep_date_col, date_parser, date_format, dayfirst, cache_dates, iterator, chunksize, compression, thousands, decimal, lineterminator, quotechar, quoting, doublequote, escapechar, comment, encoding, encoding_errors, dialect, on_bad_lines, delim_whitespace, low_memory, memory_map, float_precision, storage_options, dtype_backend)\u001b[0m\n\u001b[0;32m   1013\u001b[0m kwds_defaults \u001b[38;5;241m=\u001b[39m _refine_defaults_read(\n\u001b[0;32m   1014\u001b[0m     dialect,\n\u001b[0;32m   1015\u001b[0m     delimiter,\n\u001b[1;32m   (...)\u001b[0m\n\u001b[0;32m   1022\u001b[0m     dtype_backend\u001b[38;5;241m=\u001b[39mdtype_backend,\n\u001b[0;32m   1023\u001b[0m )\n\u001b[0;32m   1024\u001b[0m kwds\u001b[38;5;241m.\u001b[39mupdate(kwds_defaults)\n\u001b[1;32m-> 1026\u001b[0m \u001b[38;5;28;01mreturn\u001b[39;00m _read(filepath_or_buffer, kwds)\n",
      "File \u001b[1;32mc:\\Users\\Pauline\\anaconda3\\envs\\ada\\Lib\\site-packages\\pandas\\io\\parsers\\readers.py:620\u001b[0m, in \u001b[0;36m_read\u001b[1;34m(filepath_or_buffer, kwds)\u001b[0m\n\u001b[0;32m    617\u001b[0m _validate_names(kwds\u001b[38;5;241m.\u001b[39mget(\u001b[38;5;124m\"\u001b[39m\u001b[38;5;124mnames\u001b[39m\u001b[38;5;124m\"\u001b[39m, \u001b[38;5;28;01mNone\u001b[39;00m))\n\u001b[0;32m    619\u001b[0m \u001b[38;5;66;03m# Create the parser.\u001b[39;00m\n\u001b[1;32m--> 620\u001b[0m parser \u001b[38;5;241m=\u001b[39m TextFileReader(filepath_or_buffer, \u001b[38;5;241m*\u001b[39m\u001b[38;5;241m*\u001b[39mkwds)\n\u001b[0;32m    622\u001b[0m \u001b[38;5;28;01mif\u001b[39;00m chunksize \u001b[38;5;129;01mor\u001b[39;00m iterator:\n\u001b[0;32m    623\u001b[0m     \u001b[38;5;28;01mreturn\u001b[39;00m parser\n",
      "File \u001b[1;32mc:\\Users\\Pauline\\anaconda3\\envs\\ada\\Lib\\site-packages\\pandas\\io\\parsers\\readers.py:1620\u001b[0m, in \u001b[0;36mTextFileReader.__init__\u001b[1;34m(self, f, engine, **kwds)\u001b[0m\n\u001b[0;32m   1617\u001b[0m     \u001b[38;5;28mself\u001b[39m\u001b[38;5;241m.\u001b[39moptions[\u001b[38;5;124m\"\u001b[39m\u001b[38;5;124mhas_index_names\u001b[39m\u001b[38;5;124m\"\u001b[39m] \u001b[38;5;241m=\u001b[39m kwds[\u001b[38;5;124m\"\u001b[39m\u001b[38;5;124mhas_index_names\u001b[39m\u001b[38;5;124m\"\u001b[39m]\n\u001b[0;32m   1619\u001b[0m \u001b[38;5;28mself\u001b[39m\u001b[38;5;241m.\u001b[39mhandles: IOHandles \u001b[38;5;241m|\u001b[39m \u001b[38;5;28;01mNone\u001b[39;00m \u001b[38;5;241m=\u001b[39m \u001b[38;5;28;01mNone\u001b[39;00m\n\u001b[1;32m-> 1620\u001b[0m \u001b[38;5;28mself\u001b[39m\u001b[38;5;241m.\u001b[39m_engine \u001b[38;5;241m=\u001b[39m \u001b[38;5;28mself\u001b[39m\u001b[38;5;241m.\u001b[39m_make_engine(f, \u001b[38;5;28mself\u001b[39m\u001b[38;5;241m.\u001b[39mengine)\n",
      "File \u001b[1;32mc:\\Users\\Pauline\\anaconda3\\envs\\ada\\Lib\\site-packages\\pandas\\io\\parsers\\readers.py:1880\u001b[0m, in \u001b[0;36mTextFileReader._make_engine\u001b[1;34m(self, f, engine)\u001b[0m\n\u001b[0;32m   1878\u001b[0m     \u001b[38;5;28;01mif\u001b[39;00m \u001b[38;5;124m\"\u001b[39m\u001b[38;5;124mb\u001b[39m\u001b[38;5;124m\"\u001b[39m \u001b[38;5;129;01mnot\u001b[39;00m \u001b[38;5;129;01min\u001b[39;00m mode:\n\u001b[0;32m   1879\u001b[0m         mode \u001b[38;5;241m+\u001b[39m\u001b[38;5;241m=\u001b[39m \u001b[38;5;124m\"\u001b[39m\u001b[38;5;124mb\u001b[39m\u001b[38;5;124m\"\u001b[39m\n\u001b[1;32m-> 1880\u001b[0m \u001b[38;5;28mself\u001b[39m\u001b[38;5;241m.\u001b[39mhandles \u001b[38;5;241m=\u001b[39m get_handle(\n\u001b[0;32m   1881\u001b[0m     f,\n\u001b[0;32m   1882\u001b[0m     mode,\n\u001b[0;32m   1883\u001b[0m     encoding\u001b[38;5;241m=\u001b[39m\u001b[38;5;28mself\u001b[39m\u001b[38;5;241m.\u001b[39moptions\u001b[38;5;241m.\u001b[39mget(\u001b[38;5;124m\"\u001b[39m\u001b[38;5;124mencoding\u001b[39m\u001b[38;5;124m\"\u001b[39m, \u001b[38;5;28;01mNone\u001b[39;00m),\n\u001b[0;32m   1884\u001b[0m     compression\u001b[38;5;241m=\u001b[39m\u001b[38;5;28mself\u001b[39m\u001b[38;5;241m.\u001b[39moptions\u001b[38;5;241m.\u001b[39mget(\u001b[38;5;124m\"\u001b[39m\u001b[38;5;124mcompression\u001b[39m\u001b[38;5;124m\"\u001b[39m, \u001b[38;5;28;01mNone\u001b[39;00m),\n\u001b[0;32m   1885\u001b[0m     memory_map\u001b[38;5;241m=\u001b[39m\u001b[38;5;28mself\u001b[39m\u001b[38;5;241m.\u001b[39moptions\u001b[38;5;241m.\u001b[39mget(\u001b[38;5;124m\"\u001b[39m\u001b[38;5;124mmemory_map\u001b[39m\u001b[38;5;124m\"\u001b[39m, \u001b[38;5;28;01mFalse\u001b[39;00m),\n\u001b[0;32m   1886\u001b[0m     is_text\u001b[38;5;241m=\u001b[39mis_text,\n\u001b[0;32m   1887\u001b[0m     errors\u001b[38;5;241m=\u001b[39m\u001b[38;5;28mself\u001b[39m\u001b[38;5;241m.\u001b[39moptions\u001b[38;5;241m.\u001b[39mget(\u001b[38;5;124m\"\u001b[39m\u001b[38;5;124mencoding_errors\u001b[39m\u001b[38;5;124m\"\u001b[39m, \u001b[38;5;124m\"\u001b[39m\u001b[38;5;124mstrict\u001b[39m\u001b[38;5;124m\"\u001b[39m),\n\u001b[0;32m   1888\u001b[0m     storage_options\u001b[38;5;241m=\u001b[39m\u001b[38;5;28mself\u001b[39m\u001b[38;5;241m.\u001b[39moptions\u001b[38;5;241m.\u001b[39mget(\u001b[38;5;124m\"\u001b[39m\u001b[38;5;124mstorage_options\u001b[39m\u001b[38;5;124m\"\u001b[39m, \u001b[38;5;28;01mNone\u001b[39;00m),\n\u001b[0;32m   1889\u001b[0m )\n\u001b[0;32m   1890\u001b[0m \u001b[38;5;28;01massert\u001b[39;00m \u001b[38;5;28mself\u001b[39m\u001b[38;5;241m.\u001b[39mhandles \u001b[38;5;129;01mis\u001b[39;00m \u001b[38;5;129;01mnot\u001b[39;00m \u001b[38;5;28;01mNone\u001b[39;00m\n\u001b[0;32m   1891\u001b[0m f \u001b[38;5;241m=\u001b[39m \u001b[38;5;28mself\u001b[39m\u001b[38;5;241m.\u001b[39mhandles\u001b[38;5;241m.\u001b[39mhandle\n",
      "File \u001b[1;32mc:\\Users\\Pauline\\anaconda3\\envs\\ada\\Lib\\site-packages\\pandas\\io\\common.py:873\u001b[0m, in \u001b[0;36mget_handle\u001b[1;34m(path_or_buf, mode, encoding, compression, memory_map, is_text, errors, storage_options)\u001b[0m\n\u001b[0;32m    868\u001b[0m \u001b[38;5;28;01melif\u001b[39;00m \u001b[38;5;28misinstance\u001b[39m(handle, \u001b[38;5;28mstr\u001b[39m):\n\u001b[0;32m    869\u001b[0m     \u001b[38;5;66;03m# Check whether the filename is to be opened in binary mode.\u001b[39;00m\n\u001b[0;32m    870\u001b[0m     \u001b[38;5;66;03m# Binary mode does not support 'encoding' and 'newline'.\u001b[39;00m\n\u001b[0;32m    871\u001b[0m     \u001b[38;5;28;01mif\u001b[39;00m ioargs\u001b[38;5;241m.\u001b[39mencoding \u001b[38;5;129;01mand\u001b[39;00m \u001b[38;5;124m\"\u001b[39m\u001b[38;5;124mb\u001b[39m\u001b[38;5;124m\"\u001b[39m \u001b[38;5;129;01mnot\u001b[39;00m \u001b[38;5;129;01min\u001b[39;00m ioargs\u001b[38;5;241m.\u001b[39mmode:\n\u001b[0;32m    872\u001b[0m         \u001b[38;5;66;03m# Encoding\u001b[39;00m\n\u001b[1;32m--> 873\u001b[0m         handle \u001b[38;5;241m=\u001b[39m \u001b[38;5;28mopen\u001b[39m(\n\u001b[0;32m    874\u001b[0m             handle,\n\u001b[0;32m    875\u001b[0m             ioargs\u001b[38;5;241m.\u001b[39mmode,\n\u001b[0;32m    876\u001b[0m             encoding\u001b[38;5;241m=\u001b[39mioargs\u001b[38;5;241m.\u001b[39mencoding,\n\u001b[0;32m    877\u001b[0m             errors\u001b[38;5;241m=\u001b[39merrors,\n\u001b[0;32m    878\u001b[0m             newline\u001b[38;5;241m=\u001b[39m\u001b[38;5;124m\"\u001b[39m\u001b[38;5;124m\"\u001b[39m,\n\u001b[0;32m    879\u001b[0m         )\n\u001b[0;32m    880\u001b[0m     \u001b[38;5;28;01melse\u001b[39;00m:\n\u001b[0;32m    881\u001b[0m         \u001b[38;5;66;03m# Binary mode\u001b[39;00m\n\u001b[0;32m    882\u001b[0m         handle \u001b[38;5;241m=\u001b[39m \u001b[38;5;28mopen\u001b[39m(handle, ioargs\u001b[38;5;241m.\u001b[39mmode)\n",
      "\u001b[1;31mFileNotFoundError\u001b[0m: [Errno 2] No such file or directory: 'data/raw/names/ukbabynames_datasets/ukbabynames.csv'"
     ]
    }
   ],
   "source": [
    "import src.data.names_data as NamesData\n",
    "ukNames = NamesData.UKNamesData(\"UK\", \"ukbabynames_datasets/ukbabynames.csv\")\n",
    "\n",
    "# The raw data directly from the file\n",
    "ukNames.raw_df.head()"
   ]
  },
  {
   "cell_type": "code",
   "execution_count": null,
   "id": "335bd2a6",
   "metadata": {},
   "outputs": [
    {
     "name": "stdout",
     "output_type": "stream",
     "text": [
      "UK : Data is clean and conforms to the expected structure !\n"
     ]
    },
    {
     "data": {
      "text/html": [
       "<div>\n",
       "<style scoped>\n",
       "    .dataframe tbody tr th:only-of-type {\n",
       "        vertical-align: middle;\n",
       "    }\n",
       "\n",
       "    .dataframe tbody tr th {\n",
       "        vertical-align: top;\n",
       "    }\n",
       "\n",
       "    .dataframe thead th {\n",
       "        text-align: right;\n",
       "    }\n",
       "</style>\n",
       "<table border=\"1\" class=\"dataframe\">\n",
       "  <thead>\n",
       "    <tr style=\"text-align: right;\">\n",
       "      <th></th>\n",
       "      <th>Year</th>\n",
       "      <th>Name</th>\n",
       "      <th>Sex</th>\n",
       "      <th>Count</th>\n",
       "    </tr>\n",
       "  </thead>\n",
       "  <tbody>\n",
       "    <tr>\n",
       "      <th>0</th>\n",
       "      <td>1974</td>\n",
       "      <td>AALIA</td>\n",
       "      <td>F</td>\n",
       "      <td>1</td>\n",
       "    </tr>\n",
       "    <tr>\n",
       "      <th>1</th>\n",
       "      <td>1974</td>\n",
       "      <td>AAMIR</td>\n",
       "      <td>M</td>\n",
       "      <td>1</td>\n",
       "    </tr>\n",
       "    <tr>\n",
       "      <th>2</th>\n",
       "      <td>1974</td>\n",
       "      <td>AARON</td>\n",
       "      <td>M</td>\n",
       "      <td>17</td>\n",
       "    </tr>\n",
       "    <tr>\n",
       "      <th>3</th>\n",
       "      <td>1974</td>\n",
       "      <td>ABADAH</td>\n",
       "      <td>F</td>\n",
       "      <td>1</td>\n",
       "    </tr>\n",
       "    <tr>\n",
       "      <th>4</th>\n",
       "      <td>1974</td>\n",
       "      <td>ABBEY</td>\n",
       "      <td>F</td>\n",
       "      <td>1</td>\n",
       "    </tr>\n",
       "  </tbody>\n",
       "</table>\n",
       "</div>"
      ],
      "text/plain": [
       "   Year    Name Sex  Count\n",
       "0  1974   AALIA   F      1\n",
       "1  1974   AAMIR   M      1\n",
       "2  1974   AARON   M     17\n",
       "3  1974  ABADAH   F      1\n",
       "4  1974   ABBEY   F      1"
      ]
     },
     "execution_count": 11,
     "metadata": {},
     "output_type": "execute_result"
    }
   ],
   "source": [
    "# We can call the cleaning method, which will correct the columns' names and ordering, and clean the content\n",
    "ukNames.clean_raw_data()\n",
    "ukNames().head() #  This is the cleaned data"
   ]
  },
  {
   "cell_type": "code",
   "execution_count": null,
   "id": "b5398679",
   "metadata": {},
   "outputs": [
    {
     "name": "stdout",
     "output_type": "stream",
     "text": [
      "France : loaded 3884324 rows !\n"
     ]
    },
    {
     "data": {
      "text/html": [
       "<div>\n",
       "<style scoped>\n",
       "    .dataframe tbody tr th:only-of-type {\n",
       "        vertical-align: middle;\n",
       "    }\n",
       "\n",
       "    .dataframe tbody tr th {\n",
       "        vertical-align: top;\n",
       "    }\n",
       "\n",
       "    .dataframe thead th {\n",
       "        text-align: right;\n",
       "    }\n",
       "</style>\n",
       "<table border=\"1\" class=\"dataframe\">\n",
       "  <thead>\n",
       "    <tr style=\"text-align: right;\">\n",
       "      <th></th>\n",
       "      <th>sexe</th>\n",
       "      <th>preusuel</th>\n",
       "      <th>annais</th>\n",
       "      <th>dpt</th>\n",
       "      <th>nombre</th>\n",
       "    </tr>\n",
       "  </thead>\n",
       "  <tbody>\n",
       "    <tr>\n",
       "      <th>0</th>\n",
       "      <td>1</td>\n",
       "      <td>A</td>\n",
       "      <td>XXXX</td>\n",
       "      <td>XX</td>\n",
       "      <td>27</td>\n",
       "    </tr>\n",
       "    <tr>\n",
       "      <th>1</th>\n",
       "      <td>1</td>\n",
       "      <td>AADAM</td>\n",
       "      <td>XXXX</td>\n",
       "      <td>XX</td>\n",
       "      <td>38</td>\n",
       "    </tr>\n",
       "    <tr>\n",
       "      <th>2</th>\n",
       "      <td>1</td>\n",
       "      <td>AADEL</td>\n",
       "      <td>XXXX</td>\n",
       "      <td>XX</td>\n",
       "      <td>56</td>\n",
       "    </tr>\n",
       "    <tr>\n",
       "      <th>3</th>\n",
       "      <td>1</td>\n",
       "      <td>AADHIRAN</td>\n",
       "      <td>2023</td>\n",
       "      <td>93</td>\n",
       "      <td>5</td>\n",
       "    </tr>\n",
       "    <tr>\n",
       "      <th>4</th>\n",
       "      <td>1</td>\n",
       "      <td>AADHIRAN</td>\n",
       "      <td>XXXX</td>\n",
       "      <td>XX</td>\n",
       "      <td>15</td>\n",
       "    </tr>\n",
       "  </tbody>\n",
       "</table>\n",
       "</div>"
      ],
      "text/plain": [
       "   sexe  preusuel annais dpt  nombre\n",
       "0     1         A   XXXX  XX      27\n",
       "1     1     AADAM   XXXX  XX      38\n",
       "2     1     AADEL   XXXX  XX      56\n",
       "3     1  AADHIRAN   2023  93       5\n",
       "4     1  AADHIRAN   XXXX  XX      15"
      ]
     },
     "execution_count": 12,
     "metadata": {},
     "output_type": "execute_result"
    }
   ],
   "source": [
    "frenchNames = NamesData.FranceNamesData(\"France\", \"france.csv\", \"https://www.insee.fr/fr/statistiques/8205621?sommaire=8205628#dictionnaire\", \";\")\n",
    "\n",
    "frenchNames.raw_df.head()"
   ]
  },
  {
   "cell_type": "code",
   "execution_count": null,
   "id": "b3e43bd7",
   "metadata": {},
   "outputs": [
    {
     "name": "stdout",
     "output_type": "stream",
     "text": [
      "France : Data is clean and conforms to the expected structure !\n"
     ]
    },
    {
     "data": {
      "text/html": [
       "<div>\n",
       "<style scoped>\n",
       "    .dataframe tbody tr th:only-of-type {\n",
       "        vertical-align: middle;\n",
       "    }\n",
       "\n",
       "    .dataframe tbody tr th {\n",
       "        vertical-align: top;\n",
       "    }\n",
       "\n",
       "    .dataframe thead th {\n",
       "        text-align: right;\n",
       "    }\n",
       "</style>\n",
       "<table border=\"1\" class=\"dataframe\">\n",
       "  <thead>\n",
       "    <tr style=\"text-align: right;\">\n",
       "      <th></th>\n",
       "      <th>Year</th>\n",
       "      <th>Name</th>\n",
       "      <th>Sex</th>\n",
       "      <th>Count</th>\n",
       "    </tr>\n",
       "  </thead>\n",
       "  <tbody>\n",
       "    <tr>\n",
       "      <th>0</th>\n",
       "      <td>1900</td>\n",
       "      <td>ABEL</td>\n",
       "      <td>M</td>\n",
       "      <td>382</td>\n",
       "    </tr>\n",
       "    <tr>\n",
       "      <th>1</th>\n",
       "      <td>1900</td>\n",
       "      <td>MARIE-ANNE</td>\n",
       "      <td>F</td>\n",
       "      <td>42</td>\n",
       "    </tr>\n",
       "    <tr>\n",
       "      <th>2</th>\n",
       "      <td>1900</td>\n",
       "      <td>MARIE-ANTOINETTE</td>\n",
       "      <td>F</td>\n",
       "      <td>61</td>\n",
       "    </tr>\n",
       "    <tr>\n",
       "      <th>3</th>\n",
       "      <td>1900</td>\n",
       "      <td>MARIE-EUGENIE</td>\n",
       "      <td>F</td>\n",
       "      <td>3</td>\n",
       "    </tr>\n",
       "    <tr>\n",
       "      <th>4</th>\n",
       "      <td>1900</td>\n",
       "      <td>MARIE-FRANCOISE</td>\n",
       "      <td>F</td>\n",
       "      <td>20</td>\n",
       "    </tr>\n",
       "  </tbody>\n",
       "</table>\n",
       "</div>"
      ],
      "text/plain": [
       "   Year              Name Sex  Count\n",
       "0  1900              ABEL   M    382\n",
       "1  1900        MARIE-ANNE   F     42\n",
       "2  1900  MARIE-ANTOINETTE   F     61\n",
       "3  1900     MARIE-EUGENIE   F      3\n",
       "4  1900   MARIE-FRANCOISE   F     20"
      ]
     },
     "execution_count": 13,
     "metadata": {},
     "output_type": "execute_result"
    }
   ],
   "source": [
    "frenchNames.clean_raw_data()\n",
    "frenchNames().head()\n"
   ]
  },
  {
   "cell_type": "code",
   "execution_count": null,
   "id": "f31df7ec",
   "metadata": {},
   "outputs": [
    {
     "name": "stdout",
     "output_type": "stream",
     "text": [
      "US : loaded 1858689 rows !\n"
     ]
    },
    {
     "data": {
      "text/html": [
       "<div>\n",
       "<style scoped>\n",
       "    .dataframe tbody tr th:only-of-type {\n",
       "        vertical-align: middle;\n",
       "    }\n",
       "\n",
       "    .dataframe tbody tr th {\n",
       "        vertical-align: top;\n",
       "    }\n",
       "\n",
       "    .dataframe thead th {\n",
       "        text-align: right;\n",
       "    }\n",
       "</style>\n",
       "<table border=\"1\" class=\"dataframe\">\n",
       "  <thead>\n",
       "    <tr style=\"text-align: right;\">\n",
       "      <th></th>\n",
       "      <th>YearOfBirth</th>\n",
       "      <th>Name</th>\n",
       "      <th>Sex</th>\n",
       "      <th>Number</th>\n",
       "    </tr>\n",
       "  </thead>\n",
       "  <tbody>\n",
       "    <tr>\n",
       "      <th>0</th>\n",
       "      <td>1880</td>\n",
       "      <td>Mary</td>\n",
       "      <td>F</td>\n",
       "      <td>7065</td>\n",
       "    </tr>\n",
       "    <tr>\n",
       "      <th>1</th>\n",
       "      <td>1880</td>\n",
       "      <td>Anna</td>\n",
       "      <td>F</td>\n",
       "      <td>2604</td>\n",
       "    </tr>\n",
       "    <tr>\n",
       "      <th>2</th>\n",
       "      <td>1880</td>\n",
       "      <td>Emma</td>\n",
       "      <td>F</td>\n",
       "      <td>2003</td>\n",
       "    </tr>\n",
       "    <tr>\n",
       "      <th>3</th>\n",
       "      <td>1880</td>\n",
       "      <td>Elizabeth</td>\n",
       "      <td>F</td>\n",
       "      <td>1939</td>\n",
       "    </tr>\n",
       "    <tr>\n",
       "      <th>4</th>\n",
       "      <td>1880</td>\n",
       "      <td>Minnie</td>\n",
       "      <td>F</td>\n",
       "      <td>1746</td>\n",
       "    </tr>\n",
       "  </tbody>\n",
       "</table>\n",
       "</div>"
      ],
      "text/plain": [
       "   YearOfBirth       Name Sex  Number\n",
       "0         1880       Mary   F    7065\n",
       "1         1880       Anna   F    2604\n",
       "2         1880       Emma   F    2003\n",
       "3         1880  Elizabeth   F    1939\n",
       "4         1880     Minnie   F    1746"
      ]
     },
     "execution_count": 14,
     "metadata": {},
     "output_type": "execute_result"
    }
   ],
   "source": [
    "USNames = NamesData.USNamesData(\"US\", \"babyNamesUSYOB-full.csv\")\n",
    "\n",
    "USNames.raw_df.head()"
   ]
  },
  {
   "cell_type": "code",
   "execution_count": null,
   "id": "05fa5b62",
   "metadata": {},
   "outputs": [
    {
     "name": "stdout",
     "output_type": "stream",
     "text": [
      "US : Data is clean and conforms to the expected structure !\n"
     ]
    },
    {
     "data": {
      "text/html": [
       "<div>\n",
       "<style scoped>\n",
       "    .dataframe tbody tr th:only-of-type {\n",
       "        vertical-align: middle;\n",
       "    }\n",
       "\n",
       "    .dataframe tbody tr th {\n",
       "        vertical-align: top;\n",
       "    }\n",
       "\n",
       "    .dataframe thead th {\n",
       "        text-align: right;\n",
       "    }\n",
       "</style>\n",
       "<table border=\"1\" class=\"dataframe\">\n",
       "  <thead>\n",
       "    <tr style=\"text-align: right;\">\n",
       "      <th></th>\n",
       "      <th>Year</th>\n",
       "      <th>Name</th>\n",
       "      <th>Sex</th>\n",
       "      <th>Count</th>\n",
       "    </tr>\n",
       "  </thead>\n",
       "  <tbody>\n",
       "    <tr>\n",
       "      <th>0</th>\n",
       "      <td>1880</td>\n",
       "      <td>MARY</td>\n",
       "      <td>F</td>\n",
       "      <td>7065</td>\n",
       "    </tr>\n",
       "    <tr>\n",
       "      <th>1</th>\n",
       "      <td>1880</td>\n",
       "      <td>ANNA</td>\n",
       "      <td>F</td>\n",
       "      <td>2604</td>\n",
       "    </tr>\n",
       "    <tr>\n",
       "      <th>2</th>\n",
       "      <td>1880</td>\n",
       "      <td>EMMA</td>\n",
       "      <td>F</td>\n",
       "      <td>2003</td>\n",
       "    </tr>\n",
       "    <tr>\n",
       "      <th>3</th>\n",
       "      <td>1880</td>\n",
       "      <td>ELIZABETH</td>\n",
       "      <td>F</td>\n",
       "      <td>1939</td>\n",
       "    </tr>\n",
       "    <tr>\n",
       "      <th>4</th>\n",
       "      <td>1880</td>\n",
       "      <td>MINNIE</td>\n",
       "      <td>F</td>\n",
       "      <td>1746</td>\n",
       "    </tr>\n",
       "  </tbody>\n",
       "</table>\n",
       "</div>"
      ],
      "text/plain": [
       "   Year       Name Sex  Count\n",
       "0  1880       MARY   F   7065\n",
       "1  1880       ANNA   F   2604\n",
       "2  1880       EMMA   F   2003\n",
       "3  1880  ELIZABETH   F   1939\n",
       "4  1880     MINNIE   F   1746"
      ]
     },
     "execution_count": 15,
     "metadata": {},
     "output_type": "execute_result"
    }
   ],
   "source": [
    "USNames.clean_raw_data()\n",
    "USNames().head()"
   ]
  },
  {
   "cell_type": "markdown",
   "id": "4a76753e",
   "metadata": {},
   "source": [
    "### Merging the datasets\n",
    "If we want to answer a question with no regards to the provenance of the names, we can use our function to group all the datasets together"
   ]
  },
  {
   "cell_type": "code",
   "execution_count": null,
   "id": "eb777dfb",
   "metadata": {},
   "outputs": [
    {
     "name": "stdout",
     "output_type": "stream",
     "text": [
      "UK : Data is clean and conforms to the expected structure !\n",
      "France : Data is clean and conforms to the expected structure !\n",
      "US : Data is clean and conforms to the expected structure !\n",
      "UK & France & US : Data is clean and conforms to the expected structure !\n",
      "The merged dataset contains 2227359 rows ! \n"
     ]
    }
   ],
   "source": [
    "from src.utils.names_utils import merge_names_data\n",
    "\n",
    "global_names = merge_names_data([ukNames, frenchNames, USNames])\n",
    "global_names().head()\n",
    "print(f\"The merged dataset contains {global_names().shape[0]} rows ! \")"
   ]
  },
  {
   "cell_type": "markdown",
   "id": "ff56f384",
   "metadata": {},
   "source": [
    "## Feature Trends\n",
    "\n",
    "Lets visualize the different information from the datasets."
   ]
  },
  {
   "cell_type": "code",
   "execution_count": 11,
   "id": "22cb9eaa",
   "metadata": {},
   "outputs": [
    {
     "ename": "NameError",
     "evalue": "name 'global_names' is not defined",
     "output_type": "error",
     "traceback": [
      "\u001b[1;31m---------------------------------------------------------------------------\u001b[0m",
      "\u001b[1;31mNameError\u001b[0m                                 Traceback (most recent call last)",
      "Cell \u001b[1;32mIn[11], line 2\u001b[0m\n\u001b[0;32m      1\u001b[0m \u001b[38;5;66;03m# Number of Nan values in the Names dataset\u001b[39;00m\n\u001b[1;32m----> 2\u001b[0m global_names()\u001b[38;5;241m.\u001b[39misna()\u001b[38;5;241m.\u001b[39msum()\n\u001b[0;32m      4\u001b[0m \u001b[38;5;66;03m# Number of Nan values in the Movies dataset\u001b[39;00m\n\u001b[0;32m      5\u001b[0m mov_char_data\u001b[38;5;241m.\u001b[39misna()\u001b[38;5;241m.\u001b[39msum()\n",
      "\u001b[1;31mNameError\u001b[0m: name 'global_names' is not defined"
     ]
    }
   ],
   "source": [
    "# Number of Nan values in the Names dataset\n",
    "global_names().isna().sum()\n",
    "\n",
    "# Number of Nan values in the Movies dataset\n",
    "mov_char_data.isna().sum()"
   ]
  },
  {
   "cell_type": "markdown",
   "id": "71f6458c",
   "metadata": {},
   "source": [
    "## Trend evaluation\n",
    "To assess what impact a movie had on child naming, we first try a simple model that computes the average count of babies named like a character 5 years before and 5 years after the movie's release, and compute their difference. The higher it is, the higher the trend the year the film was released.\n",
    "\n",
    "Here is a demo of the model printing the top10 trend-inducing character names"
   ]
  },
  {
   "cell_type": "code",
   "execution_count": 17,
   "id": "183cf556",
   "metadata": {},
   "outputs": [
    {
     "name": "stdout",
     "output_type": "stream",
     "text": [
      "    Character_name                  movie_name  release_year\n",
      "163       JENNIFER                  Love Story        1970.0\n",
      "224        MICHAEL                   Peter Pan        1953.0\n",
      "105          ETHAN      Mission: Impossible II        2000.0\n",
      "198           LISA                 Rear Window        1954.0\n",
      "124          GRACE                  Armageddon        1998.0\n",
      "132          HARRY                  Armageddon        1998.0\n",
      "331          TYLER  E.T. the Extra-Terrestrial        1982.0\n",
      "321         THOMAS                     Titanic        1997.0\n",
      "60       CHARLOTTE                     Top Gun        1986.0\n",
      "192          LEWIS               Jurassic Park        1993.0\n"
     ]
    }
   ],
   "source": [
    "from src.models.trend_evaluation import trend_eval_ranking\n",
    "\n",
    "ranking = trend_eval_ranking(global_names.clean_df, mov_char_data)\n",
    "print(ranking[[\"Character_name\",\"movie_name\",\"release_year\"]].head(10))\n"
   ]
  },
  {
   "cell_type": "markdown",
   "id": "d8594d30",
   "metadata": {},
   "source": [
    "### Trend visualisation\n",
    "Using the previously computed trend-inducing movies, we can now plot the baby name popularity over time with a red line on the year of the most influential movie for this name.\n",
    "\n",
    "Note that we need to indicate the name in uppercase for compatibility with name datasets and add the gender M/F to avoid confusion for androgenous names."
   ]
  },
  {
   "cell_type": "code",
   "execution_count": 22,
   "id": "6d189a29",
   "metadata": {},
   "outputs": [
    {
     "data": {
      "image/png": "[encoded data removed]",
      "text/plain": [
       "<Figure size 640x480 with 1 Axes>"
      ]
     },
     "metadata": {},
     "output_type": "display_data"
    }
   ],
   "source": [
    "from src.models.trend_evaluation import plot_trend\n",
    "\n",
    "plot_trend(\"LUKE\", \"M\", ranking, global_names.clean_df)"
   ]
  },
  {
   "cell_type": "markdown",
   "id": "7e102211",
   "metadata": {},
   "source": [
    "## Name prediction\n",
    "\n",
    "To answer our research questions, we needed to find a method to determine if after a specific date, the count of name would follow an abnormal evolution.\n",
    "\n",
    "There are multiple ways to do it and for our first tentative, we decided to try interrupted time series.\n",
    "\n",
    "### ITS - Interrupted time series\n",
    "The concept is rather simple: at a specific point in time, we split our measurements in two parts and use the first one to train a model. This model will try to predict what the evolution would have been based on the previous behaviour and once we get it, we can compare it with the second part of the data that we kept. \n",
    "\n",
    "As mentioned in the explanation, we need to chose a model for this and after some researches, we decided to try the two following ones.\n",
    "\n",
    "We are still evaluating how well they are suited for our project, since the training sample is quite limited due to the granularity of the data. (Count is by year)\n",
    "\n",
    "#### SARIMA - Seasonal Autoregressive Integrated Moving Average\n",
    "Well known model for univariate time series forecasting, SARIMA is an extension of the ARIMA model and adds the support for time series with a seasonal behaviour in addition to the trend support of ARIMA. "
   ]
  },
  {
   "cell_type": "code",
   "execution_count": 19,
   "id": "ec84451a",
   "metadata": {},
   "outputs": [
    {
     "ename": "ModuleNotFoundError",
     "evalue": "No module named 'pmdarima'",
     "output_type": "error",
     "traceback": [
      "\u001b[1;31m---------------------------------------------------------------------------\u001b[0m",
      "\u001b[1;31mModuleNotFoundError\u001b[0m                       Traceback (most recent call last)",
      "Cell \u001b[1;32mIn[19], line 1\u001b[0m\n\u001b[1;32m----> 1\u001b[0m \u001b[38;5;28;01mfrom\u001b[39;00m \u001b[38;5;21;01msrc\u001b[39;00m\u001b[38;5;21;01m.\u001b[39;00m\u001b[38;5;21;01mmodels\u001b[39;00m\u001b[38;5;21;01m.\u001b[39;00m\u001b[38;5;21;01mnaming_prediction\u001b[39;00m \u001b[38;5;28;01mimport\u001b[39;00m predict_naming_ARIMA\n\u001b[0;32m      3\u001b[0m prediction \u001b[38;5;241m=\u001b[39m predict_naming_ARIMA(global_names, \u001b[38;5;124m\"\u001b[39m\u001b[38;5;124mLUKE\u001b[39m\u001b[38;5;124m\"\u001b[39m, \u001b[38;5;241m1976\u001b[39m, \u001b[38;5;241m10\u001b[39m, \u001b[38;5;28;01mTrue\u001b[39;00m)\n",
      "File \u001b[1;32md:\\ada-2024-project-dondata2025\\src\\models\\naming_prediction.py:1\u001b[0m\n\u001b[1;32m----> 1\u001b[0m \u001b[38;5;28;01mimport\u001b[39;00m \u001b[38;5;21;01mpmdarima\u001b[39;00m \u001b[38;5;28;01mas\u001b[39;00m \u001b[38;5;21;01mpm\u001b[39;00m\n\u001b[0;32m      2\u001b[0m \u001b[38;5;28;01mimport\u001b[39;00m \u001b[38;5;21;01mpandas\u001b[39;00m \u001b[38;5;28;01mas\u001b[39;00m \u001b[38;5;21;01mpd\u001b[39;00m\n\u001b[0;32m      3\u001b[0m \u001b[38;5;28;01mfrom\u001b[39;00m \u001b[38;5;21;01msrc\u001b[39;00m\u001b[38;5;21;01m.\u001b[39;00m\u001b[38;5;21;01mdata\u001b[39;00m\u001b[38;5;21;01m.\u001b[39;00m\u001b[38;5;21;01mnames_data\u001b[39;00m \u001b[38;5;28;01mimport\u001b[39;00m NamesData\n",
      "\u001b[1;31mModuleNotFoundError\u001b[0m: No module named 'pmdarima'"
     ]
    }
   ],
   "source": [
    "from src.models.naming_prediction import predict_naming_ARIMA\n",
    "\n",
    "prediction = predict_naming_ARIMA(global_names, \"LUKE\", 1976, 10, True)"
   ]
  },
  {
   "cell_type": "markdown",
   "id": "4f02c2ec",
   "metadata": {},
   "source": [
    "#### Prophet\n",
    "Developped by Facebook, Prophet is a fully automatic procedure made for time series forecasting that is used in various context due it's wide range of features (seasonality, holidy effect, ...)   "
   ]
  },
  {
   "cell_type": "code",
   "execution_count": null,
   "id": "499b4a95",
   "metadata": {},
   "outputs": [
    {
     "name": "stderr",
     "output_type": "stream",
     "text": [
      "21:50:58 - cmdstanpy - INFO - Chain [1] start processing\n"
     ]
    },
    {
     "name": "stdout",
     "output_type": "stream",
     "text": [
      "UK & France & US : Data is clean and conforms to the expected structure !\n"
     ]
    },
    {
     "name": "stderr",
     "output_type": "stream",
     "text": [
      "21:50:59 - cmdstanpy - INFO - Chain [1] done processing\n"
     ]
    },
    {
     "data": {
      "image/png": "[encoded data removed]",
      "text/plain": [
       "<Figure size 640x480 with 1 Axes>"
      ]
     },
     "metadata": {},
     "output_type": "display_data"
    }
   ],
   "source": [
    "from src.models.naming_prediction import predict_naming_prophet\n",
    "\n",
    "prediction = predict_naming_prophet(global_names, \"LUKE\", 1976, 10, True)"
   ]
  },
  {
   "cell_type": "markdown",
   "id": "486f6ad5",
   "metadata": {},
   "source": [
    "#### Model conclusion\n",
    "We still need to compare the two models and see if the ITS approach would be beneficial for our project since other options are available."
   ]
  }
 ],
 "metadata": {
  "kernelspec": {
   "display_name": "Python 3",
   "language": "python",
   "name": "python3"
  },
  "language_info": {
   "codemirror_mode": {
    "name": "ipython",
    "version": 3
   },
   "file_extension": ".py",
   "mimetype": "text/x-python",
   "name": "python",
   "nbconvert_exporter": "python",
   "pygments_lexer": "ipython3",
   "version": "3.11.3"
  }
 },
 "nbformat": 4,
 "nbformat_minor": 5
}
