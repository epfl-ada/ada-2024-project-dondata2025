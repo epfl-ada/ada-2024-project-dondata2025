{
 "cells": [
  {
   "cell_type": "code",
   "execution_count": 1,
   "id": "184ee2da",
   "metadata": {
    "ExecuteTime": {
     "end_time": "2024-11-14T23:41:35.031509Z",
     "start_time": "2024-11-14T23:41:34.892663Z"
    }
   },
   "outputs": [],
   "source": [
    "import seaborn as sns\n",
    "import matplotlib.pyplot as plt\n",
    "from sklearn.preprocessing import LabelEncoder\n",
    "\n",
    "import pickle"
   ]
  },
  {
   "cell_type": "markdown",
   "id": "ce9e39bb",
   "metadata": {},
   "source": [
    "# Name and movies datasets\n",
    "\n",
    "For this project we decided to work on the CMU movie dataset containing metadata extracted from Freebase, including Movie metadata like Movie box office revenue, genre, release date, runtime, and language but also Character metada like character names and aligned information about the actors who portray them, including gender and estimated age at the time of the movie's release. \n",
    "First let's see what the 2 metadasets contains.\n",
    "\n",
    "#### Characters\n",
    "The dataset contains informations  450,669 characters aligned to the movies such as Wikipedia movie ID,  Freebase movie ID, Movie release date, Character name, Actor date of birth, Actor gender, Actor height (in meters), Actor ethnicity,Actor name, Actor age at movie release, Freebase character/actor map ID, Freebase character ID, Freebase actor ID. \n",
    "\n",
    "\n",
    "#### Movies\n",
    "The dataset contains informations on 81,741 movies such as the Wikipedia movie ID, Freebase movie ID, Movie name, Movie release date, Movie box office revenue, Movie runtime, Movie languages, Movie countries, Movie genres .\n",
    "\n",
    "\n",
    "\n",
    "## Cleaning\n",
    "\n",
    "The cleaning task was implement in the *clean_raw_data()* method of our different CharacterData and MovieData classes implementation (by Wikipedia Movie ID) and validated using the *check_clean_data()* method, available and shared by the 2 datasets (python inheritance).\n",
    "\n",
    "From both metadataset, we directly oberved similar features such as Wikipedia Movie ID and Freebase Movie ID that is useful for futur merge of the 2 dataset. However, as in both datasets we saw that there were several columns containing Freebase and Wikipedia IDs for actors, characters and films, we decided to put them aside as the data is too difficult to access.\n",
    "\n",
    "This are the different steps we applied to both datasets before merging:\n",
    "\n",
    "Character dataset:\n",
    "- Load with the right spacer.\n",
    "- Rename the columns for proper understanding.\n",
    "- Check the good type format : Actor date of birth and the Release Date as a datetime, and the other into objects.\n",
    "- Deal with missing values : we wrote them as NaN or NaT\n",
    "- Droping unwanted columns\n",
    "- Checking that the cleaning was made\n",
    "\n",
    "Movie dataset :\n",
    "- Load with the right spacer.\n",
    "- Rename the columns for proper understanding.\n",
    "- Modify the Language, Country and Genre columns:  the information was a JSON format not readable nor accessible so we isolate the information and replace it by a human-readable string format.\n",
    "- Modify the datatypes of movie runtime into timedelta and the release date into a datetime object for further manipulation.\n",
    "- Modify the movie Name, Language, Country and Genre:  we checked that they were in object type and modified them if not.\n",
    "- Deal with missing values : we wrote them as NaN or NaT\n",
    "- Dropping the unwanted columns\n",
    "- Check that the cleaning was made\n",
    "\n",
    "\n",
    "We kept the whole dataset with NaN and NaT values in a specific file to keep features that could be interesting even if the rate of missing values is very high (such as etchnicity or Box office revenue). However, for the following notebook, to make some we decided to remove this 2 columns since they have more than 70% missing values.\n",
    "\n",
    "\n",
    "## Demo\n",
    "\n",
    "Here, we will import and clean the data base to demonstrate the process.\n"
   ]
  },
  {
   "cell_type": "code",
   "execution_count": 2,
   "id": "cb427778",
   "metadata": {
    "ExecuteTime": {
     "end_time": "2024-11-14T23:41:35.044575Z",
     "start_time": "2024-11-14T23:41:35.037246Z"
    }
   },
   "outputs": [],
   "source": [
    "# imports my code from the file src/data/movies_char_data.py\n",
    "import src.data.movies_char_data as MovieChar"
   ]
  },
  {
   "cell_type": "markdown",
   "id": "965eb4fa",
   "metadata": {},
   "source": [
    "#### Characters "
   ]
  },
  {
   "cell_type": "code",
   "execution_count": 3,
   "id": "initial_id",
   "metadata": {
    "ExecuteTime": {
     "end_time": "2024-11-14T23:41:36.446057Z",
     "start_time": "2024-11-14T23:41:35.216969Z"
    },
    "collapsed": true
   },
   "outputs": [
    {
     "name": "stdout",
     "output_type": "stream",
     "text": [
      "Character : loaded 450668 rows !\n"
     ]
    },
    {
     "data": {
      "text/html": [
       "<div>\n",
       "<style scoped>\n",
       "    .dataframe tbody tr th:only-of-type {\n",
       "        vertical-align: middle;\n",
       "    }\n",
       "\n",
       "    .dataframe tbody tr th {\n",
       "        vertical-align: top;\n",
       "    }\n",
       "\n",
       "    .dataframe thead th {\n",
       "        text-align: right;\n",
       "    }\n",
       "</style>\n",
       "<table border=\"1\" class=\"dataframe\">\n",
       "  <thead>\n",
       "    <tr style=\"text-align: right;\">\n",
       "      <th></th>\n",
       "      <th>975900</th>\n",
       "      <th>/m/03vyhn</th>\n",
       "      <th>2001-08-24</th>\n",
       "      <th>Akooshay</th>\n",
       "      <th>1958-08-26</th>\n",
       "      <th>F</th>\n",
       "      <th>1.62</th>\n",
       "      <th>Unnamed: 7</th>\n",
       "      <th>Wanda De Jesus</th>\n",
       "      <th>42</th>\n",
       "      <th>/m/0bgchxw</th>\n",
       "      <th>/m/0bgcj3x</th>\n",
       "      <th>/m/03wcfv7</th>\n",
       "    </tr>\n",
       "  </thead>\n",
       "  <tbody>\n",
       "    <tr>\n",
       "      <th>0</th>\n",
       "      <td>975900</td>\n",
       "      <td>/m/03vyhn</td>\n",
       "      <td>2001-08-24</td>\n",
       "      <td>Lieutenant Melanie Ballard</td>\n",
       "      <td>1974-08-15</td>\n",
       "      <td>F</td>\n",
       "      <td>1.780</td>\n",
       "      <td>/m/044038p</td>\n",
       "      <td>Natasha Henstridge</td>\n",
       "      <td>27.0</td>\n",
       "      <td>/m/0jys3m</td>\n",
       "      <td>/m/0bgchn4</td>\n",
       "      <td>/m/0346l4</td>\n",
       "    </tr>\n",
       "    <tr>\n",
       "      <th>1</th>\n",
       "      <td>975900</td>\n",
       "      <td>/m/03vyhn</td>\n",
       "      <td>2001-08-24</td>\n",
       "      <td>Desolation Williams</td>\n",
       "      <td>1969-06-15</td>\n",
       "      <td>M</td>\n",
       "      <td>1.727</td>\n",
       "      <td>/m/0x67</td>\n",
       "      <td>Ice Cube</td>\n",
       "      <td>32.0</td>\n",
       "      <td>/m/0jys3g</td>\n",
       "      <td>/m/0bgchn_</td>\n",
       "      <td>/m/01vw26l</td>\n",
       "    </tr>\n",
       "    <tr>\n",
       "      <th>2</th>\n",
       "      <td>975900</td>\n",
       "      <td>/m/03vyhn</td>\n",
       "      <td>2001-08-24</td>\n",
       "      <td>Sgt Jericho Butler</td>\n",
       "      <td>1967-09-12</td>\n",
       "      <td>M</td>\n",
       "      <td>1.750</td>\n",
       "      <td>NaN</td>\n",
       "      <td>Jason Statham</td>\n",
       "      <td>33.0</td>\n",
       "      <td>/m/02vchl6</td>\n",
       "      <td>/m/0bgchnq</td>\n",
       "      <td>/m/034hyc</td>\n",
       "    </tr>\n",
       "    <tr>\n",
       "      <th>3</th>\n",
       "      <td>975900</td>\n",
       "      <td>/m/03vyhn</td>\n",
       "      <td>2001-08-24</td>\n",
       "      <td>Bashira Kincaid</td>\n",
       "      <td>1977-09-25</td>\n",
       "      <td>F</td>\n",
       "      <td>1.650</td>\n",
       "      <td>NaN</td>\n",
       "      <td>Clea DuVall</td>\n",
       "      <td>23.0</td>\n",
       "      <td>/m/02vbb3r</td>\n",
       "      <td>/m/0bgchp9</td>\n",
       "      <td>/m/01y9xg</td>\n",
       "    </tr>\n",
       "    <tr>\n",
       "      <th>4</th>\n",
       "      <td>975900</td>\n",
       "      <td>/m/03vyhn</td>\n",
       "      <td>2001-08-24</td>\n",
       "      <td>Commander Helena Braddock</td>\n",
       "      <td>1949-05-26</td>\n",
       "      <td>F</td>\n",
       "      <td>1.727</td>\n",
       "      <td>/m/0x67</td>\n",
       "      <td>Pam Grier</td>\n",
       "      <td>52.0</td>\n",
       "      <td>/m/02vdcfp</td>\n",
       "      <td>/m/0bgchnd</td>\n",
       "      <td>/m/0418ft</td>\n",
       "    </tr>\n",
       "  </tbody>\n",
       "</table>\n",
       "</div>"
      ],
      "text/plain": [
       "   975900  /m/03vyhn  2001-08-24                    Akooshay  1958-08-26  F  \\\n",
       "0  975900  /m/03vyhn  2001-08-24  Lieutenant Melanie Ballard  1974-08-15  F   \n",
       "1  975900  /m/03vyhn  2001-08-24         Desolation Williams  1969-06-15  M   \n",
       "2  975900  /m/03vyhn  2001-08-24          Sgt Jericho Butler  1967-09-12  M   \n",
       "3  975900  /m/03vyhn  2001-08-24             Bashira Kincaid  1977-09-25  F   \n",
       "4  975900  /m/03vyhn  2001-08-24   Commander Helena Braddock  1949-05-26  F   \n",
       "\n",
       "    1.62  Unnamed: 7      Wanda De Jesus    42  /m/0bgchxw  /m/0bgcj3x  \\\n",
       "0  1.780  /m/044038p  Natasha Henstridge  27.0   /m/0jys3m  /m/0bgchn4   \n",
       "1  1.727     /m/0x67            Ice Cube  32.0   /m/0jys3g  /m/0bgchn_   \n",
       "2  1.750         NaN       Jason Statham  33.0  /m/02vchl6  /m/0bgchnq   \n",
       "3  1.650         NaN         Clea DuVall  23.0  /m/02vbb3r  /m/0bgchp9   \n",
       "4  1.727     /m/0x67           Pam Grier  52.0  /m/02vdcfp  /m/0bgchnd   \n",
       "\n",
       "   /m/03wcfv7  \n",
       "0   /m/0346l4  \n",
       "1  /m/01vw26l  \n",
       "2   /m/034hyc  \n",
       "3   /m/01y9xg  \n",
       "4   /m/0418ft  "
      ]
     },
     "execution_count": 3,
     "metadata": {},
     "output_type": "execute_result"
    }
   ],
   "source": [
    "character_df = MovieChar.CharacterData(\"Character\", \"character.metadata.tsv\", output_name = \"character_data_clean.csv\")\n",
    "character_df.raw_df.head()"
   ]
  },
  {
   "cell_type": "code",
   "execution_count": 4,
   "id": "57abe64c7880d8db",
   "metadata": {
    "ExecuteTime": {
     "end_time": "2024-11-14T23:41:38.451374Z",
     "start_time": "2024-11-14T23:41:36.543444Z"
    }
   },
   "outputs": [
    {
     "name": "stdout",
     "output_type": "stream",
     "text": [
      "Character : Cleaning the raw data\n"
     ]
    },
    {
     "data": {
      "text/html": [
       "<div>\n",
       "<style scoped>\n",
       "    .dataframe tbody tr th:only-of-type {\n",
       "        vertical-align: middle;\n",
       "    }\n",
       "\n",
       "    .dataframe tbody tr th {\n",
       "        vertical-align: top;\n",
       "    }\n",
       "\n",
       "    .dataframe thead th {\n",
       "        text-align: right;\n",
       "    }\n",
       "</style>\n",
       "<table border=\"1\" class=\"dataframe\">\n",
       "  <thead>\n",
       "    <tr style=\"text-align: right;\">\n",
       "      <th></th>\n",
       "      <th>Wikipedia_movie_ID</th>\n",
       "      <th>Release_date</th>\n",
       "      <th>Character_name</th>\n",
       "      <th>Actor_DOB</th>\n",
       "      <th>Actor_gender</th>\n",
       "      <th>Actor_height</th>\n",
       "      <th>Actor_name</th>\n",
       "      <th>Actor_age</th>\n",
       "    </tr>\n",
       "  </thead>\n",
       "  <tbody>\n",
       "    <tr>\n",
       "      <th>0</th>\n",
       "      <td>975900</td>\n",
       "      <td>2001-08-24</td>\n",
       "      <td>LIEUTENANT MELANIE BALLARD</td>\n",
       "      <td>1974-08-15</td>\n",
       "      <td>F</td>\n",
       "      <td>1.780</td>\n",
       "      <td>NATASHA HENSTRIDGE</td>\n",
       "      <td>27.0</td>\n",
       "    </tr>\n",
       "    <tr>\n",
       "      <th>1</th>\n",
       "      <td>975900</td>\n",
       "      <td>2001-08-24</td>\n",
       "      <td>DESOLATION WILLIAMS</td>\n",
       "      <td>1969-06-15</td>\n",
       "      <td>M</td>\n",
       "      <td>1.727</td>\n",
       "      <td>ICE CUBE</td>\n",
       "      <td>32.0</td>\n",
       "    </tr>\n",
       "    <tr>\n",
       "      <th>2</th>\n",
       "      <td>975900</td>\n",
       "      <td>2001-08-24</td>\n",
       "      <td>SGT JERICHO BUTLER</td>\n",
       "      <td>1967-09-12</td>\n",
       "      <td>M</td>\n",
       "      <td>1.750</td>\n",
       "      <td>JASON STATHAM</td>\n",
       "      <td>33.0</td>\n",
       "    </tr>\n",
       "    <tr>\n",
       "      <th>3</th>\n",
       "      <td>975900</td>\n",
       "      <td>2001-08-24</td>\n",
       "      <td>BASHIRA KINCAID</td>\n",
       "      <td>1977-09-25</td>\n",
       "      <td>F</td>\n",
       "      <td>1.650</td>\n",
       "      <td>CLEA DUVALL</td>\n",
       "      <td>23.0</td>\n",
       "    </tr>\n",
       "    <tr>\n",
       "      <th>4</th>\n",
       "      <td>975900</td>\n",
       "      <td>2001-08-24</td>\n",
       "      <td>COMMANDER HELENA BRADDOCK</td>\n",
       "      <td>1949-05-26</td>\n",
       "      <td>F</td>\n",
       "      <td>1.727</td>\n",
       "      <td>PAM GRIER</td>\n",
       "      <td>52.0</td>\n",
       "    </tr>\n",
       "  </tbody>\n",
       "</table>\n",
       "</div>"
      ],
      "text/plain": [
       "   Wikipedia_movie_ID Release_date              Character_name  Actor_DOB  \\\n",
       "0              975900   2001-08-24  LIEUTENANT MELANIE BALLARD 1974-08-15   \n",
       "1              975900   2001-08-24         DESOLATION WILLIAMS 1969-06-15   \n",
       "2              975900   2001-08-24          SGT JERICHO BUTLER 1967-09-12   \n",
       "3              975900   2001-08-24             BASHIRA KINCAID 1977-09-25   \n",
       "4              975900   2001-08-24   COMMANDER HELENA BRADDOCK 1949-05-26   \n",
       "\n",
       "  Actor_gender  Actor_height          Actor_name  Actor_age  \n",
       "0            F         1.780  NATASHA HENSTRIDGE       27.0  \n",
       "1            M         1.727            ICE CUBE       32.0  \n",
       "2            M         1.750       JASON STATHAM       33.0  \n",
       "3            F         1.650         CLEA DUVALL       23.0  \n",
       "4            F         1.727           PAM GRIER       52.0  "
      ]
     },
     "execution_count": 4,
     "metadata": {},
     "output_type": "execute_result"
    }
   ],
   "source": [
    "# print duplicated rows\n",
    "character_df.clean_raw_data()\n",
    "character_df.clean_df.head()"
   ]
  },
  {
   "cell_type": "code",
   "execution_count": 5,
   "id": "7298820688573702",
   "metadata": {
    "ExecuteTime": {
     "end_time": "2024-11-14T23:41:42.677542Z",
     "start_time": "2024-11-14T23:41:38.530566Z"
    }
   },
   "outputs": [
    {
     "name": "stdout",
     "output_type": "stream",
     "text": [
      "Character : loaded 450668 rows !\n",
      "Character : Cleaning the raw data\n",
      "Character : Clean data has been and saved to data/clean/movies_char/character_data_clean.csv! (171826 rows)\n"
     ]
    }
   ],
   "source": [
    "character_df.pipeline()"
   ]
  },
  {
   "cell_type": "markdown",
   "id": "7bb600d2",
   "metadata": {},
   "source": [
    "####  Movie dataset"
   ]
  },
  {
   "cell_type": "code",
   "execution_count": 6,
   "id": "7949e276",
   "metadata": {
    "ExecuteTime": {
     "end_time": "2024-11-14T23:41:43.169758Z",
     "start_time": "2024-11-14T23:41:42.733189Z"
    }
   },
   "outputs": [
    {
     "name": "stdout",
     "output_type": "stream",
     "text": [
      "Movie : loaded 81740 rows !\n",
      "Movie movie.metadata.tsv\n"
     ]
    },
    {
     "data": {
      "text/html": [
       "<div>\n",
       "<style scoped>\n",
       "    .dataframe tbody tr th:only-of-type {\n",
       "        vertical-align: middle;\n",
       "    }\n",
       "\n",
       "    .dataframe tbody tr th {\n",
       "        vertical-align: top;\n",
       "    }\n",
       "\n",
       "    .dataframe thead th {\n",
       "        text-align: right;\n",
       "    }\n",
       "</style>\n",
       "<table border=\"1\" class=\"dataframe\">\n",
       "  <thead>\n",
       "    <tr style=\"text-align: right;\">\n",
       "      <th></th>\n",
       "      <th>975900</th>\n",
       "      <th>/m/03vyhn</th>\n",
       "      <th>Ghosts of Mars</th>\n",
       "      <th>2001-08-24</th>\n",
       "      <th>14010832</th>\n",
       "      <th>98.0</th>\n",
       "      <th>{\"/m/02h40lc\": \"English Language\"}</th>\n",
       "      <th>{\"/m/09c7w0\": \"United States of America\"}</th>\n",
       "      <th>{\"/m/01jfsb\": \"Thriller\", \"/m/06n90\": \"Science Fiction\", \"/m/03npn\": \"Horror\", \"/m/03k9fj\": \"Adventure\", \"/m/0fdjb\": \"Supernatural\", \"/m/02kdv5l\": \"Action\", \"/m/09zvmj\": \"Space western\"}</th>\n",
       "    </tr>\n",
       "  </thead>\n",
       "  <tbody>\n",
       "    <tr>\n",
       "      <th>0</th>\n",
       "      <td>3196793</td>\n",
       "      <td>/m/08yl5d</td>\n",
       "      <td>Getting Away with Murder: The JonBenét Ramsey ...</td>\n",
       "      <td>2000-02-16</td>\n",
       "      <td>NaN</td>\n",
       "      <td>95.0</td>\n",
       "      <td>{\"/m/02h40lc\": \"English Language\"}</td>\n",
       "      <td>{\"/m/09c7w0\": \"United States of America\"}</td>\n",
       "      <td>{\"/m/02n4kr\": \"Mystery\", \"/m/03bxz7\": \"Biograp...</td>\n",
       "    </tr>\n",
       "    <tr>\n",
       "      <th>1</th>\n",
       "      <td>28463795</td>\n",
       "      <td>/m/0crgdbh</td>\n",
       "      <td>Brun bitter</td>\n",
       "      <td>1988</td>\n",
       "      <td>NaN</td>\n",
       "      <td>83.0</td>\n",
       "      <td>{\"/m/05f_3\": \"Norwegian Language\"}</td>\n",
       "      <td>{\"/m/05b4w\": \"Norway\"}</td>\n",
       "      <td>{\"/m/0lsxr\": \"Crime Fiction\", \"/m/07s9rl0\": \"D...</td>\n",
       "    </tr>\n",
       "    <tr>\n",
       "      <th>2</th>\n",
       "      <td>9363483</td>\n",
       "      <td>/m/0285_cd</td>\n",
       "      <td>White Of The Eye</td>\n",
       "      <td>1987</td>\n",
       "      <td>NaN</td>\n",
       "      <td>110.0</td>\n",
       "      <td>{\"/m/02h40lc\": \"English Language\"}</td>\n",
       "      <td>{\"/m/07ssc\": \"United Kingdom\"}</td>\n",
       "      <td>{\"/m/01jfsb\": \"Thriller\", \"/m/0glj9q\": \"Erotic...</td>\n",
       "    </tr>\n",
       "    <tr>\n",
       "      <th>3</th>\n",
       "      <td>261236</td>\n",
       "      <td>/m/01mrr1</td>\n",
       "      <td>A Woman in Flames</td>\n",
       "      <td>1983</td>\n",
       "      <td>NaN</td>\n",
       "      <td>106.0</td>\n",
       "      <td>{\"/m/04306rv\": \"German Language\"}</td>\n",
       "      <td>{\"/m/0345h\": \"Germany\"}</td>\n",
       "      <td>{\"/m/07s9rl0\": \"Drama\"}</td>\n",
       "    </tr>\n",
       "    <tr>\n",
       "      <th>4</th>\n",
       "      <td>13696889</td>\n",
       "      <td>/m/03cfc81</td>\n",
       "      <td>The Gangsters</td>\n",
       "      <td>1913-05-29</td>\n",
       "      <td>NaN</td>\n",
       "      <td>35.0</td>\n",
       "      <td>{\"/m/06ppq\": \"Silent film\", \"/m/02h40lc\": \"Eng...</td>\n",
       "      <td>{\"/m/09c7w0\": \"United States of America\"}</td>\n",
       "      <td>{\"/m/02hmvc\": \"Short Film\", \"/m/06ppq\": \"Silen...</td>\n",
       "    </tr>\n",
       "  </tbody>\n",
       "</table>\n",
       "</div>"
      ],
      "text/plain": [
       "     975900   /m/03vyhn                                     Ghosts of Mars  \\\n",
       "0   3196793   /m/08yl5d  Getting Away with Murder: The JonBenét Ramsey ...   \n",
       "1  28463795  /m/0crgdbh                                        Brun bitter   \n",
       "2   9363483  /m/0285_cd                                   White Of The Eye   \n",
       "3    261236   /m/01mrr1                                  A Woman in Flames   \n",
       "4  13696889  /m/03cfc81                                      The Gangsters   \n",
       "\n",
       "   2001-08-24  14010832   98.0  \\\n",
       "0  2000-02-16       NaN   95.0   \n",
       "1        1988       NaN   83.0   \n",
       "2        1987       NaN  110.0   \n",
       "3        1983       NaN  106.0   \n",
       "4  1913-05-29       NaN   35.0   \n",
       "\n",
       "                  {\"/m/02h40lc\": \"English Language\"}  \\\n",
       "0                 {\"/m/02h40lc\": \"English Language\"}   \n",
       "1                 {\"/m/05f_3\": \"Norwegian Language\"}   \n",
       "2                 {\"/m/02h40lc\": \"English Language\"}   \n",
       "3                  {\"/m/04306rv\": \"German Language\"}   \n",
       "4  {\"/m/06ppq\": \"Silent film\", \"/m/02h40lc\": \"Eng...   \n",
       "\n",
       "   {\"/m/09c7w0\": \"United States of America\"}  \\\n",
       "0  {\"/m/09c7w0\": \"United States of America\"}   \n",
       "1                     {\"/m/05b4w\": \"Norway\"}   \n",
       "2             {\"/m/07ssc\": \"United Kingdom\"}   \n",
       "3                    {\"/m/0345h\": \"Germany\"}   \n",
       "4  {\"/m/09c7w0\": \"United States of America\"}   \n",
       "\n",
       "  {\"/m/01jfsb\": \"Thriller\", \"/m/06n90\": \"Science Fiction\", \"/m/03npn\": \"Horror\", \"/m/03k9fj\": \"Adventure\", \"/m/0fdjb\": \"Supernatural\", \"/m/02kdv5l\": \"Action\", \"/m/09zvmj\": \"Space western\"}  \n",
       "0  {\"/m/02n4kr\": \"Mystery\", \"/m/03bxz7\": \"Biograp...                                                                                                                                          \n",
       "1  {\"/m/0lsxr\": \"Crime Fiction\", \"/m/07s9rl0\": \"D...                                                                                                                                          \n",
       "2  {\"/m/01jfsb\": \"Thriller\", \"/m/0glj9q\": \"Erotic...                                                                                                                                          \n",
       "3                            {\"/m/07s9rl0\": \"Drama\"}                                                                                                                                          \n",
       "4  {\"/m/02hmvc\": \"Short Film\", \"/m/06ppq\": \"Silen...                                                                                                                                          "
      ]
     },
     "execution_count": 6,
     "metadata": {},
     "output_type": "execute_result"
    }
   ],
   "source": [
    "movie_df = MovieChar.MovieData(\"Movie\", \"movie.metadata.tsv\", output_name = \"movie_data_clean.csv\")\n",
    "\n",
    "#Display name and file_name\n",
    "print(movie_df.name, movie_df.file_name)\n",
    "movie_df.raw_df.head()"
   ]
  },
  {
   "cell_type": "code",
   "execution_count": 7,
   "id": "995e3120c95d62e",
   "metadata": {
    "ExecuteTime": {
     "end_time": "2024-11-14T23:41:44.471670Z",
     "start_time": "2024-11-14T23:41:43.245632Z"
    }
   },
   "outputs": [
    {
     "data": {
      "text/html": [
       "<div>\n",
       "<style scoped>\n",
       "    .dataframe tbody tr th:only-of-type {\n",
       "        vertical-align: middle;\n",
       "    }\n",
       "\n",
       "    .dataframe tbody tr th {\n",
       "        vertical-align: top;\n",
       "    }\n",
       "\n",
       "    .dataframe thead th {\n",
       "        text-align: right;\n",
       "    }\n",
       "</style>\n",
       "<table border=\"1\" class=\"dataframe\">\n",
       "  <thead>\n",
       "    <tr style=\"text-align: right;\">\n",
       "      <th></th>\n",
       "      <th>Wikipedia_movie_ID</th>\n",
       "      <th>Movie_name</th>\n",
       "      <th>Release_date</th>\n",
       "      <th>Revenue</th>\n",
       "      <th>Runtime</th>\n",
       "      <th>Languages</th>\n",
       "      <th>Countries</th>\n",
       "      <th>Genres</th>\n",
       "    </tr>\n",
       "  </thead>\n",
       "  <tbody>\n",
       "    <tr>\n",
       "      <th>0</th>\n",
       "      <td>3196793</td>\n",
       "      <td>Getting Away with Murder: The JonBenét Ramsey ...</td>\n",
       "      <td>2000-02-16</td>\n",
       "      <td>NaN</td>\n",
       "      <td>0 days 01:35:00</td>\n",
       "      <td>English</td>\n",
       "      <td>United States of America</td>\n",
       "      <td>Mystery, Biographical film, Drama, Crime Drama</td>\n",
       "    </tr>\n",
       "    <tr>\n",
       "      <th>1</th>\n",
       "      <td>28463795</td>\n",
       "      <td>Brun bitter</td>\n",
       "      <td>NaT</td>\n",
       "      <td>NaN</td>\n",
       "      <td>0 days 01:23:00</td>\n",
       "      <td>Norwegian</td>\n",
       "      <td>Norway</td>\n",
       "      <td>Crime Fiction, Drama</td>\n",
       "    </tr>\n",
       "    <tr>\n",
       "      <th>2</th>\n",
       "      <td>9363483</td>\n",
       "      <td>White Of The Eye</td>\n",
       "      <td>NaT</td>\n",
       "      <td>NaN</td>\n",
       "      <td>0 days 01:50:00</td>\n",
       "      <td>English</td>\n",
       "      <td>United Kingdom</td>\n",
       "      <td>Thriller, Erotic thriller, Psychological thriller</td>\n",
       "    </tr>\n",
       "    <tr>\n",
       "      <th>3</th>\n",
       "      <td>261236</td>\n",
       "      <td>A Woman in Flames</td>\n",
       "      <td>NaT</td>\n",
       "      <td>NaN</td>\n",
       "      <td>0 days 01:46:00</td>\n",
       "      <td>German</td>\n",
       "      <td>Germany</td>\n",
       "      <td>Drama</td>\n",
       "    </tr>\n",
       "    <tr>\n",
       "      <th>4</th>\n",
       "      <td>13696889</td>\n",
       "      <td>The Gangsters</td>\n",
       "      <td>1913-05-29</td>\n",
       "      <td>NaN</td>\n",
       "      <td>0 days 00:35:00</td>\n",
       "      <td>Silent film, English</td>\n",
       "      <td>United States of America</td>\n",
       "      <td>Short Film, Silent film, Indie, Black-and-whit...</td>\n",
       "    </tr>\n",
       "  </tbody>\n",
       "</table>\n",
       "</div>"
      ],
      "text/plain": [
       "   Wikipedia_movie_ID                                         Movie_name  \\\n",
       "0             3196793  Getting Away with Murder: The JonBenét Ramsey ...   \n",
       "1            28463795                                        Brun bitter   \n",
       "2             9363483                                   White Of The Eye   \n",
       "3              261236                                  A Woman in Flames   \n",
       "4            13696889                                      The Gangsters   \n",
       "\n",
       "  Release_date  Revenue         Runtime             Languages  \\\n",
       "0   2000-02-16      NaN 0 days 01:35:00               English   \n",
       "1          NaT      NaN 0 days 01:23:00             Norwegian   \n",
       "2          NaT      NaN 0 days 01:50:00               English   \n",
       "3          NaT      NaN 0 days 01:46:00                German   \n",
       "4   1913-05-29      NaN 0 days 00:35:00  Silent film, English   \n",
       "\n",
       "                  Countries                                             Genres  \n",
       "0  United States of America     Mystery, Biographical film, Drama, Crime Drama  \n",
       "1                    Norway                               Crime Fiction, Drama  \n",
       "2            United Kingdom  Thriller, Erotic thriller, Psychological thriller  \n",
       "3                   Germany                                              Drama  \n",
       "4  United States of America  Short Film, Silent film, Indie, Black-and-whit...  "
      ]
     },
     "execution_count": 7,
     "metadata": {},
     "output_type": "execute_result"
    }
   ],
   "source": [
    "# print duplicated rows\n",
    "movie_df.clean_raw_data()\n",
    "movie_df.clean_df.head()"
   ]
  },
  {
   "cell_type": "code",
   "execution_count": 8,
   "id": "8878aae6ad2e2178",
   "metadata": {
    "ExecuteTime": {
     "end_time": "2024-11-14T23:41:47.333437Z",
     "start_time": "2024-11-14T23:41:44.558458Z"
    }
   },
   "outputs": [
    {
     "name": "stdout",
     "output_type": "stream",
     "text": [
      "Movie : loaded 81740 rows !\n",
      "Movie : Clean data has been and saved to data/clean/movies_char/movie_data_clean.csv! (81740 rows)\n"
     ]
    }
   ],
   "source": [
    "movie_df.pipeline()"
   ]
  },
  {
   "cell_type": "markdown",
   "id": "7a6d342e",
   "metadata": {},
   "source": [
    "## Merging Movie and Character into one dataset\n",
    "\n",
    "We merged the 2 dataset following the Wikipedi movie ID."
   ]
  },
  {
   "cell_type": "code",
   "execution_count": 21,
   "id": "ee1c02c3",
   "metadata": {
    "ExecuteTime": {
     "end_time": "2024-11-14T23:41:48.278446Z",
     "start_time": "2024-11-14T23:41:47.424828Z"
    }
   },
   "outputs": [
    {
     "name": "stdout",
     "output_type": "stream",
     "text": [
      "Duplicates found: 412 duplicates ! removing them...\n",
      "NamesData instance saved to data/clean/movies_char/movies_characters_data.pkl\n"
     ]
    }
   ],
   "source": [
    "from src.utils.movies_utils import *\n",
    "\n",
    "mov_char_data = merge_movies_characters_data(movie_df, character_df)\n",
    "mov_char_data.head() # When we call the data name object, it returns the cleaned data\n",
    "\n",
    "# Save the class instance\n",
    "mov_char_datapath = \"data/clean/movies_char/movies_characters_data.pkl\"\n",
    "with open(mov_char_datapath, \"wb\") as f:\n",
    "    pickle.dump(mov_char_data, f)\n",
    "print(f\"NamesData instance saved to {mov_char_datapath}\")\n"
   ]
  },
  {
   "cell_type": "code",
   "execution_count": 10,
   "id": "144abe8c5e2174c1",
   "metadata": {
    "ExecuteTime": {
     "end_time": "2024-11-14T23:41:48.362946Z",
     "start_time": "2024-11-14T23:41:48.359328Z"
    }
   },
   "outputs": [
    {
     "name": "stdout",
     "output_type": "stream",
     "text": [
      "(171400, 14)\n"
     ]
    }
   ],
   "source": [
    "# Print size of the dataset\n",
    "print(mov_char_data.shape)"
   ]
  },
  {
   "cell_type": "code",
   "execution_count": 12,
   "id": "206998d4",
   "metadata": {
    "ExecuteTime": {
     "end_time": "2024-11-14T23:41:48.475716Z",
     "start_time": "2024-11-14T23:41:48.460509Z"
    }
   },
   "outputs": [
    {
     "data": {
      "text/html": [
       "<div>\n",
       "<style scoped>\n",
       "    .dataframe tbody tr th:only-of-type {\n",
       "        vertical-align: middle;\n",
       "    }\n",
       "\n",
       "    .dataframe tbody tr th {\n",
       "        vertical-align: top;\n",
       "    }\n",
       "\n",
       "    .dataframe thead th {\n",
       "        text-align: right;\n",
       "    }\n",
       "</style>\n",
       "<table border=\"1\" class=\"dataframe\">\n",
       "  <thead>\n",
       "    <tr style=\"text-align: right;\">\n",
       "      <th></th>\n",
       "      <th>Wikipedia_movie_ID</th>\n",
       "      <th>Movie_name</th>\n",
       "      <th>Release_date</th>\n",
       "      <th>Revenue</th>\n",
       "      <th>Runtime</th>\n",
       "      <th>Languages</th>\n",
       "      <th>Countries</th>\n",
       "      <th>Genres</th>\n",
       "      <th>Character_name</th>\n",
       "      <th>Actor_DOB</th>\n",
       "      <th>Actor_gender</th>\n",
       "      <th>Actor_height</th>\n",
       "      <th>Actor_name</th>\n",
       "      <th>Actor_age</th>\n",
       "    </tr>\n",
       "  </thead>\n",
       "  <tbody>\n",
       "    <tr>\n",
       "      <th>0</th>\n",
       "      <td>3196793</td>\n",
       "      <td>Getting Away with Murder: The JonBenét Ramsey ...</td>\n",
       "      <td>2000-02-16</td>\n",
       "      <td>NaN</td>\n",
       "      <td>0 days 01:35:00</td>\n",
       "      <td>English</td>\n",
       "      <td>United States of America</td>\n",
       "      <td>Mystery, Biographical film, Drama, Crime Drama</td>\n",
       "      <td>POLICE OFFICER</td>\n",
       "      <td>NaT</td>\n",
       "      <td>M</td>\n",
       "      <td>NaN</td>\n",
       "      <td>ALLEN CUTLER</td>\n",
       "      <td>NaN</td>\n",
       "    </tr>\n",
       "  </tbody>\n",
       "</table>\n",
       "</div>"
      ],
      "text/plain": [
       "   Wikipedia_movie_ID                                         Movie_name  \\\n",
       "0             3196793  Getting Away with Murder: The JonBenét Ramsey ...   \n",
       "\n",
       "  Release_date  Revenue         Runtime Languages                 Countries  \\\n",
       "0   2000-02-16      NaN 0 days 01:35:00   English  United States of America   \n",
       "\n",
       "                                           Genres  Character_name Actor_DOB  \\\n",
       "0  Mystery, Biographical film, Drama, Crime Drama  POLICE OFFICER       NaT   \n",
       "\n",
       "  Actor_gender  Actor_height    Actor_name  Actor_age  \n",
       "0            M           NaN  ALLEN CUTLER        NaN  "
      ]
     },
     "execution_count": 12,
     "metadata": {},
     "output_type": "execute_result"
    }
   ],
   "source": [
    "mov_char_data.head(1) # When we call the data name object, it returns the cleaned data\n",
    "      "
   ]
  },
  {
   "cell_type": "markdown",
   "id": "ef9e07a9",
   "metadata": {},
   "source": [
    "# Names datasets\n",
    "\n",
    "In order to answer our research questions, we needed to find some birth registries from different countries. Those were freely available and we found datasets for the following countries:\n",
    "\n",
    "- France\n",
    "- USA\n",
    "- United Kingdom\n",
    "- Norway\n",
    "\n",
    "Since they all came from different places and didn't follow the same structure, we had to decide what kind of data was necessary for our project and what structure would be the most practical to work with. We ended-up with the following collumns in our dataframes:\n",
    "\n",
    "1. **Year** : An integer value giving the year of the count \n",
    "2. **Name** :  A string representing the name that was counted\n",
    "3. **Sex** : There are two possible characters, 'F' (female) and 'M' (male)\n",
    "4. **Count** : An integer value giving the count of the name during this year\n",
    "\n",
    "## Data homogenization\n",
    "\n",
    "The cleaning task was implement in the *clean_raw_data()* method of our different NamesData classes implementation (by country) and validated using the *check_clean_data()* method, available and shared by all the name datasets (python inheritance).\n",
    "\n",
    "### Column structure\n",
    "This task was not too difficult since it was mostly reordering, renaming the ones needed and dropping the ones that were not useful for our project. We also made sure that the same type was used on the collumns of the different datasets. \n",
    "\n",
    "### Year \n",
    "All of our dataset had the same year format, but some had missing values in this field, which made those row useless and they were therefore discarded.\n",
    "This collumn made it hard to find datasets from more countries, since a lot of them started to count only in the early 2000's, which doesn't give us enough data to detect real changes in the distribution. (The movie data base ends in 2012)\n",
    "\n",
    "### Name\n",
    "This was the hardest column to sanitize and clean since a lot of variation of a same name are possible. We ended by defining a regex expression do define what we would accept as a valid name : ^[A-Z-\\s\\']+$\n",
    "\n",
    "This allows us to limit ourselves to names composed only of capitalized letters, spaces, '-' for composed names and ''' for the some regional variations. This rule is really strict and would have made us lose a considerable proportion of our dataset. This is where the data cleaning process came to help homogenize our data and it mainly consisted of the following operations:\n",
    "\n",
    "- Converting all the name to uppercase\n",
    "- Removing all accents on letter, for example é becomes e.\n",
    "\n",
    "Some names have different spellings, for example you can write JEREMY and JEREMIE, but we decided to count this as two separate entries since grouping \"similar\" is out of the scope of this project and is not an uniformised concept.\n",
    "\n",
    "### Sex\n",
    "The french dataset had some integer values that we converted to the expected format. This field is useful for our research questions, but complicated the dataset research, since a lot of countries did not include this information in their registries.\n",
    "\n",
    "### Validation\n",
    "\n",
    "The python class representing our datasets contains a method *check_clean_data()* that checks multiple conditions to be sure that the data is uniform. \n",
    "\n",
    "- Checks the collumns' name\n",
    "- Checks if some missing values are present\n",
    "- Checks the data type of each collumn\n",
    "- Checks for duplicated rows (same name, same sex and same name)\n",
    "- Checks that the strings respects the defined regex expressions\n",
    "- Checks that the counts and years are coherent numbers \n",
    "\n",
    "## Demo\n",
    "\n",
    "Here, we will import and clean the data base to demonstrate the process.\n"
   ]
  },
  {
   "cell_type": "code",
   "execution_count": null,
   "id": "9f34f05a",
   "metadata": {
    "ExecuteTime": {
     "end_time": "2024-11-14T23:41:49.166032Z",
     "start_time": "2024-11-14T23:41:48.628928Z"
    }
   },
   "outputs": [],
   "source": [
    "import src.data.names_data as NamesData\n",
    "ukNames = NamesData.UKNamesData(\"UK\", \"ukbabynames.csv\")\n",
    "\n",
    "# The raw data directly from the file\n",
    "ukNames.raw_df.head()"
   ]
  },
  {
   "cell_type": "code",
   "execution_count": null,
   "id": "335bd2a6",
   "metadata": {
    "ExecuteTime": {
     "end_time": "2024-11-14T23:41:51.337754Z",
     "start_time": "2024-11-14T23:41:49.241962Z"
    }
   },
   "outputs": [],
   "source": [
    "# We can call the cleaning method, which will correct the columns' names and ordering, and clean the content\n",
    "ukNames.clean_raw_data()\n",
    "ukNames().head() #  This is the cleaned data"
   ]
  },
  {
   "cell_type": "code",
   "execution_count": null,
   "id": "b5398679",
   "metadata": {
    "ExecuteTime": {
     "end_time": "2024-11-14T23:41:53.350866Z",
     "start_time": "2024-11-14T23:41:51.446150Z"
    }
   },
   "outputs": [],
   "source": [
    "frenchNames = NamesData.FranceNamesData(\"France\", \"france.csv\", \"https://www.insee.fr/fr/statistiques/8205621?sommaire=8205628#dictionnaire\", \";\")\n",
    "\n",
    "frenchNames.raw_df.head()"
   ]
  },
  {
   "cell_type": "code",
   "execution_count": null,
   "id": "b3e43bd7",
   "metadata": {
    "ExecuteTime": {
     "end_time": "2024-11-14T23:41:58.004962Z",
     "start_time": "2024-11-14T23:41:53.435250Z"
    }
   },
   "outputs": [],
   "source": [
    "frenchNames.clean_raw_data()\n",
    "frenchNames().head()\n"
   ]
  },
  {
   "cell_type": "code",
   "execution_count": null,
   "id": "f31df7ec",
   "metadata": {
    "ExecuteTime": {
     "end_time": "2024-11-14T23:41:59.162959Z",
     "start_time": "2024-11-14T23:41:58.125143Z"
    }
   },
   "outputs": [],
   "source": [
    "USNames = NamesData.USNamesData(\"US\", \"babyNamesUSYOB-full.csv\")\n",
    "USNames.raw_df.head()"
   ]
  },
  {
   "cell_type": "code",
   "execution_count": null,
   "id": "05fa5b62",
   "metadata": {
    "ExecuteTime": {
     "end_time": "2024-11-14T23:42:03.493624Z",
     "start_time": "2024-11-14T23:41:59.245885Z"
    }
   },
   "outputs": [],
   "source": [
    "USNames.clean_raw_data()\n",
    "USNames().head()"
   ]
  },
  {
   "cell_type": "code",
   "execution_count": null,
   "id": "221971f1",
   "metadata": {},
   "outputs": [],
   "source": [
    "norvegianNames = NamesData.NovergianNamesData(\"Norway\", \"norway/norway_merged.csv\")\n",
    "norvegianNames.raw_df.head()"
   ]
  },
  {
   "cell_type": "code",
   "execution_count": null,
   "id": "71837631",
   "metadata": {},
   "outputs": [],
   "source": [
    "norvegianNames.clean_raw_data()\n",
    "norvegianNames().head()"
   ]
  },
  {
   "cell_type": "markdown",
   "id": "4a76753e",
   "metadata": {},
   "source": [
    "### Merging the datasets\n",
    "If we want to answer a question with no regards to the provenance of the names, we can use our function to group all the datasets together"
   ]
  },
  {
   "cell_type": "code",
   "execution_count": null,
   "id": "eb777dfb",
   "metadata": {
    "ExecuteTime": {
     "end_time": "2024-11-14T23:42:17.302933Z",
     "start_time": "2024-11-14T23:42:03.618736Z"
    }
   },
   "outputs": [],
   "source": [
    "from src.utils.names_utils import merge_names_data\n",
    "\n",
    "global_names = merge_names_data([ukNames, frenchNames, USNames, norvegianNames])\n",
    "global_names.clean_df.head()\n",
    "print(f\"The merged dataset contains {global_names.clean_df.shape[0]} rows ! \")\n",
    "\n",
    "# Creating a dataframe and saving it\n",
    "\n",
    "\n",
    "#saving global names data into a .csv file\n",
    "global_names_datapath = \"data/clean/names\"\n",
    "global_names.clean_df.to_csv(f'{global_names_datapath}/global_names.csv', index=False)\n",
    "\n",
    "\n",
    "\n"
   ]
  },
  {
   "cell_type": "code",
   "execution_count": null,
   "id": "8b8ec522",
   "metadata": {},
   "outputs": [],
   "source": [
    "import pickle\n",
    "\n",
    "# Save the class instance\n",
    "global_names_path = \"data/clean/names/global_names.pkl\"\n",
    "with open(global_names_path, \"wb\") as f:\n",
    "    pickle.dump(global_names, f)\n",
    "\n",
    "print(f\"NamesData instance saved to {global_names_path}\")\n"
   ]
  },
  {
   "cell_type": "markdown",
   "id": "ff56f384",
   "metadata": {},
   "source": [
    "## Feature Visualization\n",
    "\n",
    "Lets visualize the different information from the datasets."
   ]
  },
  {
   "cell_type": "code",
   "execution_count": 26,
   "id": "361d5627dff4aa0d",
   "metadata": {
    "ExecuteTime": {
     "end_time": "2024-11-14T23:42:17.386027Z",
     "start_time": "2024-11-14T23:42:17.377035Z"
    }
   },
   "outputs": [],
   "source": [
    "from src.utils.data_utils import *"
   ]
  },
  {
   "cell_type": "code",
   "execution_count": null,
   "id": "22cb9eaa",
   "metadata": {
    "ExecuteTime": {
     "end_time": "2024-11-14T23:42:17.606378Z",
     "start_time": "2024-11-14T23:42:17.524810Z"
    }
   },
   "outputs": [],
   "source": [
    "# Number of Nan values in the Movies & Character dataset\n",
    "mov_char_data.isna().sum()"
   ]
  },
  {
   "cell_type": "code",
   "execution_count": null,
   "id": "f478355d",
   "metadata": {
    "ExecuteTime": {
     "end_time": "2024-11-14T23:42:18.412218Z",
     "start_time": "2024-11-14T23:42:17.871853Z"
    }
   },
   "outputs": [],
   "source": [
    "# Visualizing the number of missing values per columns\n",
    "nan_percentage = mov_char_data.isnull().mean().sort_values(ascending=False)\n",
    "\n",
    "# Plot the percentage of NaN values per column\n",
    "ax = nan_percentage.plot(kind='bar', figsize=(16, 8), color='skyblue')\n",
    "plt.ylabel('Percentage of NaN values')\n",
    "plt.title('Percentage of NaN values in % per column', fontsize=20)\n",
    "for p in ax.patches:\n",
    "    ax.annotate(f'{p.get_height():.2%}', (p.get_x() + p.get_width() / 2., p.get_height()),\n",
    "                ha='center', va='center', xytext=(0, 10), textcoords='offset points')\n",
    "plt.show()"
   ]
  },
  {
   "cell_type": "markdown",
   "id": "0703a894",
   "metadata": {},
   "source": [
    "This graph illustrates the distribution of columns based on the percentage of NaN values present in each. It helps us understand how missing data is spread across different features, highlighting columns with higher or lower levels of incompleteness\n",
    "\n",
    "Top 50 movies revenue \n",
    "This graph displays the top 50 movies based only on the revenue."
   ]
  },
  {
   "cell_type": "code",
   "execution_count": null,
   "id": "daf2a309",
   "metadata": {
    "ExecuteTime": {
     "end_time": "2024-11-14T23:42:19.149820Z",
     "start_time": "2024-11-14T23:42:18.490539Z"
    }
   },
   "outputs": [],
   "source": [
    "# Descriptive statistics for each column in dataframe with .head() method\n",
    "mov_char_data.describe(include='all').head()"
   ]
  },
  {
   "cell_type": "markdown",
   "id": "89983d94",
   "metadata": {},
   "source": [
    "#### Information about actor age\n",
    "\n",
    "We have here histogram plots showing the distribution of 3 features of the dataset: Actor age at the time of the movie release, Actor height and  Revenue of the movies.\n"
   ]
  },
  {
   "cell_type": "code",
   "execution_count": null,
   "id": "c016ebc3",
   "metadata": {
    "ExecuteTime": {
     "end_time": "2024-11-14T23:42:20.277965Z",
     "start_time": "2024-11-14T23:42:19.302009Z"
    }
   },
   "outputs": [],
   "source": [
    "# Distribution of actor age\n",
    "sns.histplot(mov_char_data['Actor_age'], color='skyblue', kde=True, bins=30)\n",
    "plt.xlim(0, mov_char_data['Actor_age'].max())\n",
    "plt.title('Distribution of actor age')\n",
    "plt.xlabel('Age')\n",
    "plt.ylabel('Frequency')\n",
    "\n",
    "plt.show()\n"
   ]
  },
  {
   "cell_type": "markdown",
   "id": "7d00182e6728355c",
   "metadata": {},
   "source": [
    "Comment: The distribution of Actor age is approximately normal with a peak around the age of 30. This suggests that most actors are around 30 years old at the time of the movie release, with fewer actors being significantly younger or older.\n",
    "\n",
    "Let's check the type of distribution and the skewness of the data."
   ]
  },
  {
   "cell_type": "code",
   "execution_count": null,
   "id": "ba91d856d4b1103",
   "metadata": {
    "ExecuteTime": {
     "end_time": "2024-11-14T23:52:20.444236Z",
     "start_time": "2024-11-14T23:52:20.397270Z"
    }
   },
   "outputs": [],
   "source": [
    "check_normality(mov_char_data['Actor_age'])\n",
    "check_skewness(mov_char_data['Actor_age'])"
   ]
  },
  {
   "cell_type": "markdown",
   "id": "366ef47c",
   "metadata": {},
   "source": [
    "#### Information about actor height"
   ]
  },
  {
   "cell_type": "code",
   "execution_count": null,
   "id": "4f7dbd50",
   "metadata": {},
   "outputs": [],
   "source": [
    "# Distribution of actor_height\n",
    "sns.histplot(mov_char_data['Actor_height'], color='skyblue', kde=True, bins=30)\n",
    "plt.xlim(0, mov_char_data['Actor_height'].max())\n",
    "plt.title('Distribution of actor height')\n",
    "plt.xlabel('Height')\n",
    "plt.ylabel('Frequency')\n",
    "\n"
   ]
  },
  {
   "cell_type": "code",
   "execution_count": null,
   "id": "7682a8e4",
   "metadata": {},
   "outputs": [],
   "source": [
    "# Dealing with height outliers: \n",
    "print( \"max value:\", mov_char_data['Actor_height'].max())\n",
    "#how many lines have 510 height\n",
    "print(\"number of lines have the max value: \", mov_char_data[mov_char_data['Actor_height'] == 510].shape[0])\n",
    "\n",
    "# Actor_name of all the actor with the max height\n",
    "print(\"Actor name with max values: \", mov_char_data[mov_char_data['Actor_height'] == 510]['Actor_name'])\n",
    "\n",
    "# Replace the height of 510feet by 1.78m\n",
    "mov_char_data['Actor_height'] = mov_char_data['Actor_height'].replace(510, 1.78)\n",
    "\n",
    "# Check if the value has been replaced\n",
    "print(mov_char_data[mov_char_data['Actor_height'] == 510].shape[0])\n"
   ]
  },
  {
   "cell_type": "code",
   "execution_count": null,
   "id": "f6f82b0b",
   "metadata": {},
   "outputs": [],
   "source": [
    "# Checking the new max value\n",
    "print(mov_char_data['Actor_height'].max()) # 180\n",
    "# Number of lines with 180 height\n",
    "print(\"Number of lines with 180 height: \", mov_char_data[mov_char_data['Actor_height'] == 180].shape[0])\n",
    "# Replace 180 by 1.80\n",
    "mov_char_data['Actor_height'] = mov_char_data['Actor_height'].replace(180, 1.80)\n",
    "# Check if the value has been replaced\n",
    "print(\"Number of lines containing 180 now : \", mov_char_data[mov_char_data['Actor_height'] == 180].shape[0])\n",
    "\n"
   ]
  },
  {
   "cell_type": "code",
   "execution_count": null,
   "id": "aba531ef",
   "metadata": {},
   "outputs": [],
   "source": [
    "# Visualize the distribution of actor height\n",
    "# adapting the min and max values of the x-axis\n",
    "sns.histplot(mov_char_data['Actor_height'], color='skyblue', kde=True, bins=30)\n",
    "plt.xlim(mov_char_data['Actor_height'].min(), mov_char_data['Actor_height'].max())\n",
    "plt.title('Distribution of actor height')\n",
    "plt.xlabel('Height')\n",
    "plt.ylabel('Frequency')\n",
    "plt.show()\n"
   ]
  },
  {
   "cell_type": "code",
   "execution_count": null,
   "id": "cdeb7504",
   "metadata": {},
   "outputs": [],
   "source": [
    "# print the different values of actor height\n",
    "print(mov_char_data['Actor_height'].unique())\n",
    "\n",
    "#min value\n",
    "print(\"min value:\", mov_char_data['Actor_height'].min())\n",
    "\n",
    "\n",
    "# what are the lines of the min value\n",
    "print(\"number of lines have the min value: \", mov_char_data[mov_char_data['Actor_height'] == 0.61].shape[0])\n",
    "#print actor name of the min value\n",
    "print(\"Actor name with min values: \", mov_char_data[mov_char_data['Actor_height'] == 0.61]['Actor_name'])\n"
   ]
  },
  {
   "cell_type": "markdown",
   "id": "f6db4926",
   "metadata": {},
   "source": [
    "The first visualization showed 2 outliers, actors with height of 5m10:  Benedict Smith and Vince Corrazza. Checking on the web their height, we saw that is was a mistakes. We replace the 2 outliers by their real height : 1,78 m. A similar problem with 180cm instead of 1.80m for some actors. For the min values, they usually correspond to babies height."
   ]
  },
  {
   "cell_type": "code",
   "execution_count": null,
   "id": "c3d450bf761f8856",
   "metadata": {
    "ExecuteTime": {
     "end_time": "2024-11-14T23:54:10.769943Z",
     "start_time": "2024-11-14T23:54:10.733157Z"
    }
   },
   "outputs": [],
   "source": [
    "check_normality(mov_char_data['Actor_height'])\n",
    "check_skewness(mov_char_data['Actor_height'])"
   ]
  },
  {
   "cell_type": "markdown",
   "id": "b6a92ddd",
   "metadata": {},
   "source": [
    "#### Information about the Revenue "
   ]
  },
  {
   "cell_type": "code",
   "execution_count": null,
   "id": "914d35ec",
   "metadata": {},
   "outputs": [],
   "source": [
    "# Distribution of Revenue in the dataset\n",
    "plt.figure(figsize=(12, 6))\n",
    "sns.histplot(mov_char_data['Revenue'], bins=30, kde=True, log_scale=True)\n",
    "plt.title(\"Distribution of Revenue (billion dollars)\")\n",
    "plt.show()"
   ]
  },
  {
   "cell_type": "markdown",
   "id": "bc255c8f7dd6208d",
   "metadata": {},
   "source": [
    "This histogram plot show the distribution of Actor age at the time of the movie release and Revenue of the movies. Log scale is used to better visualize the distribution of the data. The distribution of Revenue is right-skewed, meaning that most of the revenue values are concentrated on the lower end, with a long tail extending towards the higher revenue values.  \n"
   ]
  },
  {
   "cell_type": "code",
   "execution_count": null,
   "id": "f44fb4159013e263",
   "metadata": {
    "ExecuteTime": {
     "end_time": "2024-11-14T23:44:48.058315Z",
     "start_time": "2024-11-14T23:44:48.026556Z"
    }
   },
   "outputs": [],
   "source": [
    "check_normality(mov_char_data['Revenue'])\n",
    "check_skewness(mov_char_data['Revenue'])"
   ]
  },
  {
   "cell_type": "markdown",
   "id": "37628a45",
   "metadata": {},
   "source": [
    "####  Visualizing the top 50 movies with biggest Revenue\n"
   ]
  },
  {
   "cell_type": "code",
   "execution_count": null,
   "id": "7a540a54",
   "metadata": {},
   "outputs": [],
   "source": [
    "# Group by the Movie name \n",
    "top_50_movies = mov_char_data.groupby('Movie_name')['Revenue'].sum().sort_values(ascending=False).head(50)\n",
    "\n",
    "plt.figure(figsize=(16, 8))\n",
    "sns.barplot(x=top_50_movies.values, y=top_50_movies.index, palette='viridis')\n",
    "plt.xlabel('Revenue (billion dollars)')\n",
    "plt.ylabel('Movie Name')\n",
    "plt.title('Top 50 movies with biggest Revenue', fontsize=20)\n",
    "plt.show()\n",
    "\n"
   ]
  },
  {
   "cell_type": "markdown",
   "id": "6413d919",
   "metadata": {},
   "source": [
    "#### Information about Release_date"
   ]
  },
  {
   "cell_type": "code",
   "execution_count": null,
   "id": "7ba0c30c",
   "metadata": {},
   "outputs": [],
   "source": [
    "# Visualizing the Release_date column information with sns with the number of movies on the top of each bar\n",
    "plt.figure(figsize=(10, 5))\n",
    "sns.histplot(mov_char_data['Release_date'].dt.year.dropna(), bins=range(1900, 2025, 1), kde=False)\n",
    "plt.title('Number of movies released per year')\n",
    "plt.xlabel('Year')\n",
    "plt.ylabel('Number of movies')\n",
    "plt.show()\n"
   ]
  },
  {
   "cell_type": "markdown",
   "id": "a065b0e8",
   "metadata": {},
   "source": [
    "#### Information about countries"
   ]
  },
  {
   "cell_type": "code",
   "execution_count": null,
   "id": "bf3bedf2",
   "metadata": {},
   "outputs": [],
   "source": [
    "# grouping the movies by country\n",
    "movies_by_country = mov_char_data['Countries'].str.split(', ', expand=True).stack().reset_index(level=1, drop=True).rename('Country')\n",
    "movies_by_country = movies_by_country[movies_by_country != ''].value_counts()\n",
    "\n",
    "plt.figure(figsize=(20, 10))\n",
    "sns.barplot(x=movies_by_country.head(50), y=movies_by_country.head(50).index)\n",
    "\n",
    "for i, val in enumerate(movies_by_country.head(50)):\n",
    "    plt.text(val, i, val, ha='left', va='center')\n",
    "\n",
    "plt.title('Number of movies by country, font size = 20')\n",
    "plt.xlabel('Number of movies')\n",
    "plt.ylabel('Country')\n",
    "plt.show()\n"
   ]
  },
  {
   "cell_type": "markdown",
   "id": "ac6aa13b",
   "metadata": {},
   "source": [
    "It is obvious that the initial dataset is centered on occidental world, aside from the presence of indian movies. Fortunately it coincides with the fact that it is harder for us to find baby names data from non-occidental countries."
   ]
  },
  {
   "cell_type": "markdown",
   "id": "deed6318",
   "metadata": {},
   "source": [
    "#### Information about language"
   ]
  },
  {
   "cell_type": "code",
   "execution_count": null,
   "id": "aae26254",
   "metadata": {},
   "outputs": [],
   "source": [
    "# grouping the movies by language\n",
    "movies_by_language = mov_char_data['Languages'].str.split(', ', expand=True).stack().reset_index(level=1, drop=True).rename('Languages')\n",
    "movies_by_language = movies_by_language[movies_by_language != ''].value_counts()\n",
    "\n",
    "\n",
    "plt.figure(figsize=(20, 10))\n",
    "sns.barplot(x=movies_by_language.head(50), y=movies_by_language.head(50).index)\n",
    "\n",
    "for i, val in enumerate(movies_by_language.head(50)):\n",
    "    plt.text(val, i, val, ha='left', va='center')\n",
    "\n",
    "plt.title('Number of movies by language', fontsize=25)\n",
    "plt.xlabel('Number of movies')\n",
    "plt.ylabel('Language')\n",
    "plt.show()\n",
    "\n"
   ]
  },
  {
   "cell_type": "markdown",
   "id": "8151e554",
   "metadata": {},
   "source": [
    "#### Information about movies genre"
   ]
  },
  {
   "cell_type": "code",
   "execution_count": null,
   "id": "bfbe15fe",
   "metadata": {},
   "outputs": [],
   "source": [
    "# Visualizing the genres of the movies with a pie chart (under 1% grouped as 'Other')\n",
    "\n",
    "\n",
    "# Grouping the movies by genre and counting the number of movies in each genre\n",
    "movies_by_genre = mov_char_data['Genres'].str.split(', ', expand=True).stack().reset_index(level=1, drop=True).rename('Genre')\n",
    "movies_by_genre = movies_by_genre[movies_by_genre != ''].value_counts()\n",
    "\n",
    "# Grouping the genres with less than 1% of the total number of movies as 'Other'\n",
    "threshold = 0.01\n",
    "total_movies = movies_by_genre.sum()\n",
    "movies_by_genre = movies_by_genre[movies_by_genre / total_movies > threshold]\n",
    "movies_by_genre['Other'] = total_movies - movies_by_genre.sum()\n",
    "\n",
    "\n",
    "\n",
    "# Visualizing the genres of the movies with a pie chart\n",
    "# adapt the size of the % on the pie chart to 1 decimal\n",
    "\n",
    "plt.figure(figsize=(15, 15))\n",
    "plt.pie(movies_by_genre, labels=movies_by_genre.index, autopct='%1.1f%%') \n",
    "\n",
    "plt.title('Genres of the movies')\n",
    "plt.show()\n",
    "\n"
   ]
  },
  {
   "cell_type": "markdown",
   "id": "493a9a5d",
   "metadata": {},
   "source": [
    "#### Information about the actor gender"
   ]
  },
  {
   "cell_type": "code",
   "execution_count": null,
   "id": "91387b4a",
   "metadata": {},
   "outputs": [],
   "source": [
    "# Isolting the genders columns\n",
    "new_df = mov_char_data[['Actor_gender', 'Actor_name']]\n",
    "new_df.head()\n",
    "\n",
    "\n",
    "gender_counts = new_df['Actor_gender'].value_counts()\n",
    "\n",
    "# Calculate percentages\n",
    "gender_percentages = gender_counts / gender_counts.sum() * 100\n",
    "\n",
    "# Plotting the percentages using a pie chart\n",
    "plt.figure(figsize=(4, 4))\n",
    "plt.pie(gender_percentages, labels=gender_percentages.index, autopct='%1.1f%%', startangle=90)\n",
    "plt.title('Percentage of Actor Genders')\n",
    "plt.show()\n"
   ]
  },
  {
   "cell_type": "markdown",
   "id": "5284fda9",
   "metadata": {},
   "source": [
    "### Correlation matrix "
   ]
  },
  {
   "cell_type": "code",
   "execution_count": 46,
   "id": "5cbf7485",
   "metadata": {},
   "outputs": [],
   "source": [
    "def encode_categorical_features(df):\n",
    "    # Identify categorical features\n",
    "    categorical_features = df.select_dtypes(include=['object', 'category']).columns\n",
    "    \n",
    "    # Initialize a LabelEncoder\n",
    "    le = LabelEncoder()\n",
    "    \n",
    "    # Apply label encoding to each categorical feature\n",
    "    for feature in categorical_features:\n",
    "        df[feature] = le.fit_transform(df[feature].astype(str))\n",
    "    \n",
    "    return df\n",
    "\n",
    "def plot_correlation_matrix(df):\n",
    "    # Encode categorical features\n",
    "    df_encoded = encode_categorical_features(df.copy())\n",
    "    \n",
    "    # Calculate the correlation matrix, automatically excluding NaN values\n",
    "    corr_matrix = df_encoded.corr()\n",
    "    \n",
    "    # Plot the heatmap\n",
    "    plt.figure(figsize=(12, 10))\n",
    "    sns.heatmap(corr_matrix, annot=True, fmt='.2f', cmap='coolwarm', cbar=True, square=True)\n",
    "    plt.title('Correlation Matrix')\n",
    "    plt.show()"
   ]
  },
  {
   "cell_type": "code",
   "execution_count": null,
   "id": "096fdd7c",
   "metadata": {},
   "outputs": [],
   "source": [
    "plot_correlation_matrix(mov_char_data)"
   ]
  },
  {
   "cell_type": "markdown",
   "id": "a62df261",
   "metadata": {},
   "source": [
    "We observe some very slight relationships within the movie and character dataset: a moderate positive correlation between 'Runtime' and 'Revenue' suggests that longer movies tend to generate more revenue. Conversely, a negative correlation between 'Languages' and 'Countries' indicates that films with more languages are produced in fewer countries, highlighting trends in film production and distribution."
   ]
  },
  {
   "cell_type": "markdown",
   "id": "71f6458c",
   "metadata": {},
   "source": [
    "## Trend evaluation\n",
    "To assess what impact a movie had on child naming, we first try a simple model that computes the average count of babies named like a character 5 years before and 5 years after the movie's release, and compute their difference. The higher it is, the higher the trend the year the film was released.\n",
    "\n",
    "Here is a demo of the model printing the top10 trend-inducing character names"
   ]
  },
  {
   "cell_type": "code",
   "execution_count": 14,
   "id": "183cf556",
   "metadata": {},
   "outputs": [
    {
     "name": "stdout",
     "output_type": "stream",
     "text": [
      "There are 699357 movies in the imdb dataset.\n",
      "There are 1507095 movies in the title dataset.\n",
      "There are 321461 movies in the title-basic merged dataset before treating duplicates.\n"
     ]
    },
    {
     "data": {
      "text/html": [
       "<div>\n",
       "<style scoped>\n",
       "    .dataframe tbody tr th:only-of-type {\n",
       "        vertical-align: middle;\n",
       "    }\n",
       "\n",
       "    .dataframe tbody tr th {\n",
       "        vertical-align: top;\n",
       "    }\n",
       "\n",
       "    .dataframe thead th {\n",
       "        text-align: right;\n",
       "    }\n",
       "</style>\n",
       "<table border=\"1\" class=\"dataframe\">\n",
       "  <thead>\n",
       "    <tr style=\"text-align: right;\">\n",
       "      <th></th>\n",
       "      <th>primaryTitle</th>\n",
       "      <th>weightedAverageRating</th>\n",
       "      <th>totalVotes</th>\n",
       "    </tr>\n",
       "  </thead>\n",
       "  <tbody>\n",
       "    <tr>\n",
       "      <th>0</th>\n",
       "      <td>!Women Art Revolution</td>\n",
       "      <td>6.9</td>\n",
       "      <td>262.0</td>\n",
       "    </tr>\n",
       "    <tr>\n",
       "      <th>1</th>\n",
       "      <td>#1 Serial Killer</td>\n",
       "      <td>5.6</td>\n",
       "      <td>73.0</td>\n",
       "    </tr>\n",
       "    <tr>\n",
       "      <th>2</th>\n",
       "      <td>#1915House</td>\n",
       "      <td>3.4</td>\n",
       "      <td>20.0</td>\n",
       "    </tr>\n",
       "    <tr>\n",
       "      <th>3</th>\n",
       "      <td>#5</td>\n",
       "      <td>4.7</td>\n",
       "      <td>21.0</td>\n",
       "    </tr>\n",
       "    <tr>\n",
       "      <th>4</th>\n",
       "      <td>#50Fathers</td>\n",
       "      <td>3.7</td>\n",
       "      <td>12.0</td>\n",
       "    </tr>\n",
       "  </tbody>\n",
       "</table>\n",
       "</div>"
      ],
      "text/plain": [
       "            primaryTitle  weightedAverageRating  totalVotes\n",
       "0  !Women Art Revolution                    6.9       262.0\n",
       "1       #1 Serial Killer                    5.6        73.0\n",
       "2             #1915House                    3.4        20.0\n",
       "3                     #5                    4.7        21.0\n",
       "4             #50Fathers                    3.7        12.0"
      ]
     },
     "execution_count": 14,
     "metadata": {},
     "output_type": "execute_result"
    }
   ],
   "source": [
    "from src.models.trend_evaluation import trend_eval_ranking\n",
    "from src.models.imdb_manipulation import get_movie_votes, merge_imdb_and_dataset, is_blockbuster\n",
    "\n",
    "# Get the IMDB votes for the movies (Warning : might take a few minutes, nearly 700K rows !)\n",
    "imdb_datapath = \"data/raw/imdb\"\n",
    "imdb_votes = get_movie_votes(imdb_datapath)\n",
    "imdb_votes.head()\n"
   ]
  },
  {
   "cell_type": "code",
   "execution_count": 15,
   "id": "7761b1f7",
   "metadata": {},
   "outputs": [
    {
     "data": {
      "text/html": [
       "<div>\n",
       "<style scoped>\n",
       "    .dataframe tbody tr th:only-of-type {\n",
       "        vertical-align: middle;\n",
       "    }\n",
       "\n",
       "    .dataframe tbody tr th {\n",
       "        vertical-align: top;\n",
       "    }\n",
       "\n",
       "    .dataframe thead th {\n",
       "        text-align: right;\n",
       "    }\n",
       "</style>\n",
       "<table border=\"1\" class=\"dataframe\">\n",
       "  <thead>\n",
       "    <tr style=\"text-align: right;\">\n",
       "      <th></th>\n",
       "      <th>primaryTitle</th>\n",
       "      <th>weightedAverageRating</th>\n",
       "      <th>totalVotes</th>\n",
       "      <th>isBlockbuster</th>\n",
       "    </tr>\n",
       "  </thead>\n",
       "  <tbody>\n",
       "    <tr>\n",
       "      <th>247302</th>\n",
       "      <td>The Shawshank Redemption</td>\n",
       "      <td>9.3</td>\n",
       "      <td>2971050.0</td>\n",
       "      <td>True</td>\n",
       "    </tr>\n",
       "    <tr>\n",
       "      <th>226953</th>\n",
       "      <td>The Dark Knight</td>\n",
       "      <td>9.0</td>\n",
       "      <td>2952379.0</td>\n",
       "      <td>True</td>\n",
       "    </tr>\n",
       "    <tr>\n",
       "      <th>108105</th>\n",
       "      <td>Inception</td>\n",
       "      <td>8.8</td>\n",
       "      <td>2619982.0</td>\n",
       "      <td>True</td>\n",
       "    </tr>\n",
       "    <tr>\n",
       "      <th>79354</th>\n",
       "      <td>Fight Club</td>\n",
       "      <td>8.8</td>\n",
       "      <td>2403489.0</td>\n",
       "      <td>True</td>\n",
       "    </tr>\n",
       "    <tr>\n",
       "      <th>82601</th>\n",
       "      <td>Forrest Gump</td>\n",
       "      <td>8.8</td>\n",
       "      <td>2324952.0</td>\n",
       "      <td>True</td>\n",
       "    </tr>\n",
       "    <tr>\n",
       "      <th>182204</th>\n",
       "      <td>Pulp Fiction</td>\n",
       "      <td>8.9</td>\n",
       "      <td>2280958.0</td>\n",
       "      <td>True</td>\n",
       "    </tr>\n",
       "    <tr>\n",
       "      <th>109329</th>\n",
       "      <td>Interstellar</td>\n",
       "      <td>8.7</td>\n",
       "      <td>2211329.0</td>\n",
       "      <td>True</td>\n",
       "    </tr>\n",
       "    <tr>\n",
       "      <th>239992</th>\n",
       "      <td>The Matrix</td>\n",
       "      <td>8.7</td>\n",
       "      <td>2108846.0</td>\n",
       "      <td>True</td>\n",
       "    </tr>\n",
       "    <tr>\n",
       "      <th>232097</th>\n",
       "      <td>The Godfather</td>\n",
       "      <td>9.2</td>\n",
       "      <td>2072334.0</td>\n",
       "      <td>True</td>\n",
       "    </tr>\n",
       "    <tr>\n",
       "      <th>238458</th>\n",
       "      <td>The Lord of the Rings: The Fellowship of the Ring</td>\n",
       "      <td>8.9</td>\n",
       "      <td>2063322.0</td>\n",
       "      <td>True</td>\n",
       "    </tr>\n",
       "  </tbody>\n",
       "</table>\n",
       "</div>"
      ],
      "text/plain": [
       "                                             primaryTitle  \\\n",
       "247302                           The Shawshank Redemption   \n",
       "226953                                    The Dark Knight   \n",
       "108105                                          Inception   \n",
       "79354                                          Fight Club   \n",
       "82601                                        Forrest Gump   \n",
       "182204                                       Pulp Fiction   \n",
       "109329                                       Interstellar   \n",
       "239992                                         The Matrix   \n",
       "232097                                      The Godfather   \n",
       "238458  The Lord of the Rings: The Fellowship of the Ring   \n",
       "\n",
       "        weightedAverageRating  totalVotes  isBlockbuster  \n",
       "247302                    9.3   2971050.0           True  \n",
       "226953                    9.0   2952379.0           True  \n",
       "108105                    8.8   2619982.0           True  \n",
       "79354                     8.8   2403489.0           True  \n",
       "82601                     8.8   2324952.0           True  \n",
       "182204                    8.9   2280958.0           True  \n",
       "109329                    8.7   2211329.0           True  \n",
       "239992                    8.7   2108846.0           True  \n",
       "232097                    9.2   2072334.0           True  \n",
       "238458                    8.9   2063322.0           True  "
      ]
     },
     "execution_count": 15,
     "metadata": {},
     "output_type": "execute_result"
    }
   ],
   "source": [
    "# Looking for blockbuster:\n",
    "\n",
    "# Apply the function to the DataFrame\n",
    "imdb_votes['isBlockbuster'] = imdb_votes.apply(is_blockbuster, axis=1)\n",
    "# Display the 10 most influent blockbusters based on votes\n",
    "imdb_votes.sort_values('totalVotes', ascending=False).head(10)\n",
    "\n"
   ]
  },
  {
   "cell_type": "code",
   "execution_count": 20,
   "id": "1069dc4c",
   "metadata": {},
   "outputs": [
    {
     "name": "stdout",
     "output_type": "stream",
     "text": [
      "DataFrame saved to data/clean/imdb/imdb_of_interest.pkl\n"
     ]
    }
   ],
   "source": [
    "# Save the class instance\n",
    "imdb_clean_datapath = \"data/clean/imdb/imdb_of_interest.pkl\"\n",
    "with open(imdb_clean_datapath, \"wb\") as f:\n",
    "    pickle.dump(imdb_votes, f)\n",
    "\n",
    "print(f\"DataFrame saved to {imdb_clean_datapath}\")\n"
   ]
  },
  {
   "cell_type": "code",
   "execution_count": 17,
   "id": "4c50071c",
   "metadata": {},
   "outputs": [
    {
     "name": "stdout",
     "output_type": "stream",
     "text": [
      "Size of imdb dataset before merging:  (284599, 4)\n",
      "Size of mov_char_data dataset before merging:  (171400, 14)\n",
      "There are 171400 rows in the merged dataset\n"
     ]
    }
   ],
   "source": [
    "import os\n",
    "\n",
    "# Merging IMDB with our movie + character dataset\n",
    "expanded_datapath = \"data/clean/expanded\"\n",
    "expanded_df = merge_imdb_and_dataset(imdb_votes, mov_char_data)\n",
    "expanded_df.head(10)\n",
    "\n",
    "# Ensure the directory exists\n",
    "os.makedirs(expanded_datapath, exist_ok=True)\n",
    "\n",
    "# saving expanded_df to a csv file\n",
    "expanded_df.to_csv(f'{expanded_datapath}/expanded_df.csv', index=False)\n"
   ]
  },
  {
   "cell_type": "code",
   "execution_count": 22,
   "id": "7c7891e5",
   "metadata": {},
   "outputs": [
    {
     "name": "stdout",
     "output_type": "stream",
     "text": [
      "NamesData instance saved to data/clean/expanded/expanded_df.pkl\n"
     ]
    }
   ],
   "source": [
    "# Save the class instance\n",
    "expanded_datapath = \"data/clean/expanded/expanded_df.pkl\"\n",
    "with open(expanded_datapath, \"wb\") as f:\n",
    "    pickle.dump(expanded_df, f)\n",
    "\n",
    "print(f\"NamesData instance saved to {expanded_datapath}\")\n"
   ]
  },
  {
   "cell_type": "code",
   "execution_count": null,
   "id": "8d8b5f2a",
   "metadata": {},
   "outputs": [],
   "source": [
    "import plotly.express as px\n",
    "# Merge the movies and characters data with the IMDB votes\n",
    "char_movies_rating = merge_imdb_and_dataset(imdb_votes, mov_char_data)\n",
    "\n",
    "# Print number of movies represented in the dataset\n",
    "print(f\"The dataset contains {char_movies_rating.value_counts(subset='Movie_name').shape[0]} movies !\")\n",
    "\n",
    "# Split genres and normalize\n",
    "df = char_movies_rating.copy().drop_duplicates(subset=[\"Movie_name\"])\n",
    "df_genres = df.assign(Genres=df[\"Genres\"].str.split(\", \")).explode(\"Genres\")\n",
    "\n",
    "# Count occurrences of each genre\n",
    "genre_counts = df_genres[\"Genres\"].value_counts().reset_index()\n",
    "genre_counts.columns = [\"Genre\", \"Count\"]\n",
    "\n",
    "# Select the top 10 genres\n",
    "top_10_genres = genre_counts.head(10)\n",
    "\n",
    "# Create horizontal bar graph\n",
    "fig = px.bar(\n",
    "    top_10_genres,\n",
    "    x=\"Count\",\n",
    "    y=\"Genre\",\n",
    "    orientation=\"h\",  # Horizontal orientation\n",
    "    title=\"Top 10 Most Represented Genres in Movies Dataset\",\n",
    "    labels={\"Count\": \"Number of Movies\", \"Genre\": \"Genre\"},\n",
    "    text=\"Count\",\n",
    "    color=\"Genre\"\n",
    ")\n",
    "\n",
    "# Style the graph for better readability\n",
    "fig.update_traces(textposition=\"outside\")\n",
    "fig.update_layout(\n",
    "    xaxis=dict(title=\"Number of Movies\"),\n",
    "    yaxis=dict(title=\"Genre\"),\n",
    "    plot_bgcolor=\"white\",\n",
    "    showlegend=False\n",
    ")\n",
    "\n",
    "fig.show()\n",
    "fig.write_html(\"top_10_genres.html\")\n",
    "\n",
    "# Print sum of counts\n",
    "print(f\"Sum of counts: {genre_counts['Count'].sum()}\")\n",
    "genre_counts.head()\n",
    "\n"
   ]
  },
  {
   "cell_type": "code",
   "execution_count": null,
   "id": "d5d745dc",
   "metadata": {},
   "outputs": [],
   "source": [
    "# Ranking top 10 influencing character names by trend increase\n",
    "from src.models.trend_evaluation import trend_eval_ranking\n",
    "\n",
    "def trend_eval_ranking(df_babies, df_movies):\n",
    "    \"\"\"\n",
    "    Function to evaluate the trend of a name based on the ranking of a movie character\n",
    "    :param names_data: NamesData object\n",
    "    :param mov_char_data: MovieCharacterData object\n",
    "    :return: DataFrame\n",
    "    \"\"\"\n",
    "    # Creating a new column for the release year (without month and day) of the movie\n",
    "    df_movies['Release_year'] = df_movies['Release_date'].dt.year\n",
    "    # Ditching entries with nan revenue \n",
    "    df_movies = df_movies.dropna(subset=['Revenue'])\n",
    "    # Taking only the first name of the character name\n",
    "    df_movies.loc[:, 'Character_name'] = df_movies['Character_name'].str.split().str[0]\n",
    "    # Putting every character name in upper case\n",
    "    df_movies.loc[:, 'Character_name'] = df_movies['Character_name'].str.upper()\n",
    "\n",
    "    # Taking only characters of the top 100 characters by revenue every year\n",
    "    df_movies = (df_movies[df_movies[\"totalVotes\"] >= 100000]\n",
    "        .groupby('Release_year')\n",
    "        .apply(lambda x: x.nlargest(100, 'weightedAverageRating'))\n",
    "        .reset_index(drop=True))\n",
    "\n",
    "    merged_df = df_babies.merge(\n",
    "        df_movies[['Character_name', 'Release_year', 'Movie_name']],\n",
    "        left_on='Name', right_on='Character_name',\n",
    "        how='inner'\n",
    "    )\n",
    "\n",
    "\n",
    "    # Function to analyze the trend of a character name\n",
    "    def analyze_trend(group, window_before = 5, window_after = 5):\n",
    "        movie_name = group['Movie_name'].iloc[0]\n",
    "        release_year = group['Release_year'].iloc[0]\n",
    "        pre_movie = group[(group['Year'] < release_year) & (group['Year'] >= release_year - window_before)]\n",
    "        post_movie = group[(group['Year'] >= release_year) & (group['Year'] <= release_year + window_after)]\n",
    "        pre_avg = pre_movie['Count'].mean()\n",
    "        post_avg = post_movie['Count'].mean()\n",
    "        trend_increase = post_avg - pre_avg\n",
    "        return pd.Series({'pre_avg': pre_avg, 'post_avg': post_avg, 'trend_increase': trend_increase, 'movie_name': movie_name, 'release_year': release_year})\n",
    "\n",
    "\n",
    "\n",
    "    # Apply the function to each character name\n",
    "    groupedByName =  merged_df.groupby('Character_name')\n",
    "    trend_df = groupedByName.apply(analyze_trend).reset_index()\n",
    "    ranking = trend_df.sort_values('trend_increase', ascending=False)\n",
    "    return ranking\n",
    "\n",
    "\n",
    "ranking = trend_eval_ranking(global_names.clean_df, expanded_df)\n",
    "print(ranking[[\"Character_name\",\"movie_name\",\"release_year\"]].head(10))"
   ]
  },
  {
   "cell_type": "markdown",
   "id": "d8594d30",
   "metadata": {},
   "source": [
    "### Trend visualisation\n",
    "Using the previously computed trend-inducing movies, we can now plot the baby name popularity over time with a red line on the year of the most influential movie for this name.\n",
    "\n",
    "Note that we need to indicate the name in uppercase for compatibility with name datasets and add the gender M/F to avoid confusion for androgenous names."
   ]
  },
  {
   "cell_type": "code",
   "execution_count": null,
   "id": "6d189a29",
   "metadata": {},
   "outputs": [],
   "source": [
    "from src.models.trend_evaluation import plot_trend\n",
    "\n",
    "plot_trend(\"NEO\", \"M\", ranking, global_names.clean_df)"
   ]
  },
  {
   "cell_type": "markdown",
   "id": "7e102211",
   "metadata": {},
   "source": [
    "## Name prediction\n",
    "\n",
    "To answer our research questions, we needed to find a method to determine if after a specific date, the count of name would follow an abnormal evolution.\n",
    "\n",
    "There are multiple ways to do it and for our first tentative, we decided to try interrupted time series.\n",
    "\n",
    "### ITS - Interrupted time series\n",
    "The concept is rather simple: at a specific point in time, we split our measurements in two parts and use the first one to train a model. This model will try to predict what the evolution would have been based on the previous behaviour and once we get it, we can compare it with the second part of the data that we kept. \n",
    "\n",
    "As mentioned in the explanation, we need to chose a model for this and after some researches, we decided to try the two following ones.\n",
    "\n",
    "We are still evaluating how well they are suited for our project, since the training sample is quite limited due to the granularity of the data. (Count is by year)\n",
    "\n",
    "#### SARIMA - Seasonal Autoregressive Integrated Moving Average\n",
    "Well known model for univariate time series forecasting, SARIMA is an extension of the ARIMA model and adds the support for time series with a seasonal behaviour in addition to the trend support of ARIMA. "
   ]
  },
  {
   "cell_type": "code",
   "execution_count": null,
   "id": "ec84451a",
   "metadata": {},
   "outputs": [],
   "source": [
    "from src.models.naming_prediction import predict_naming_ARIMA\n",
    "\n",
    "prediction = predict_naming_ARIMA(global_names, \"LUKE\", 1976, 10, True)"
   ]
  },
  {
   "cell_type": "markdown",
   "id": "9f47ba8e",
   "metadata": {},
   "source": [
    "Here we asked our SARIMA model to forecast the counts for the name \"Luke\" from the year after the year 1976, which is when the first Star Wars movie was released. \n",
    "\n",
    "We can see that the the modelled curve has a slower growth than the actual one and this can be used to show an abnormal evolution of the count."
   ]
  },
  {
   "cell_type": "markdown",
   "id": "4f02c2ec",
   "metadata": {},
   "source": [
    "#### Prophet\n",
    "Developped by Facebook, Prophet is a fully automatic procedure made for time series forecasting that is used in various context due it's wide range of features (seasonality, holidy effect, ...)   "
   ]
  },
  {
   "cell_type": "code",
   "execution_count": null,
   "id": "499b4a95",
   "metadata": {},
   "outputs": [],
   "source": [
    "from src.models.naming_prediction import predict_naming_prophet\n",
    "\n",
    "prediction = predict_naming_prophet(global_names, \"LUKE\", 1976, 10, True)"
   ]
  },
  {
   "cell_type": "markdown",
   "id": "b059c35b",
   "metadata": {},
   "source": [
    "This time, we use Facebook's Prophet to forecast the counts for the same parameters and we can already see a difference between the two models. Prophet is generally more resistant to outliers and here, this leads to a more important difference between the modelled data and the actual one.\n",
    "\n",
    "For now, those are only observations and we'll be investigated more thoroughly in the following days"
   ]
  },
  {
   "cell_type": "markdown",
   "id": "486f6ad5",
   "metadata": {},
   "source": [
    "#### Model conclusion\n",
    "We still need to compare the two models and see if the ITS approach would be beneficial for our project since other options are available."
   ]
  }
 ],
 "metadata": {
  "kernelspec": {
   "display_name": "ada",
   "language": "python",
   "name": "python3"
  },
  "language_info": {
   "codemirror_mode": {
    "name": "ipython",
    "version": 3
   },
   "file_extension": ".py",
   "mimetype": "text/x-python",
   "name": "python",
   "nbconvert_exporter": "python",
   "pygments_lexer": "ipython3",
   "version": "3.11.9"
  }
 },
 "nbformat": 4,
 "nbformat_minor": 5
}
