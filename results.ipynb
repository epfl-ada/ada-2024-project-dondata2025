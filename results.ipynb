{
 "cells": [
  {
   "cell_type": "markdown",
   "id": "353e61d1",
   "metadata": {},
   "source": [
    "### Loading the Character dataset"
   ]
  },
  {
   "cell_type": "code",
   "execution_count": 1,
   "id": "cb427778",
   "metadata": {},
   "outputs": [],
   "source": [
    "# imports my code from the file src/data/names_data.py\n",
    "import src.data.movies_char_data as NamesData"
   ]
  },
  {
   "cell_type": "code",
   "execution_count": 2,
   "id": "initial_id",
   "metadata": {
    "collapsed": true
   },
   "outputs": [
    {
     "name": "stdout",
     "output_type": "stream",
     "text": [
      "Checking if the data is loaded from a file or from memory\n",
      "Character : Loading the raw data in the attribute\n",
      "data/raw/character.metadata.tsv\n",
      "Character : loaded 450668 rows !\n",
      "Character : Cleaning the raw data\n"
     ]
    },
    {
     "data": {
      "text/html": [
       "<div>\n",
       "<style scoped>\n",
       "    .dataframe tbody tr th:only-of-type {\n",
       "        vertical-align: middle;\n",
       "    }\n",
       "\n",
       "    .dataframe tbody tr th {\n",
       "        vertical-align: top;\n",
       "    }\n",
       "\n",
       "    .dataframe thead th {\n",
       "        text-align: right;\n",
       "    }\n",
       "</style>\n",
       "<table border=\"1\" class=\"dataframe\">\n",
       "  <thead>\n",
       "    <tr style=\"text-align: right;\">\n",
       "      <th></th>\n",
       "      <th>Wikipedia_movie_ID</th>\n",
       "      <th>Release_date</th>\n",
       "      <th>Character_name</th>\n",
       "      <th>Actor_DOB</th>\n",
       "      <th>Actor_gender</th>\n",
       "      <th>Actor_height</th>\n",
       "      <th>Actor_ethnicity</th>\n",
       "      <th>Actor_name</th>\n",
       "      <th>Actor_age</th>\n",
       "    </tr>\n",
       "  </thead>\n",
       "  <tbody>\n",
       "    <tr>\n",
       "      <th>0</th>\n",
       "      <td>975900</td>\n",
       "      <td>2001-08-24</td>\n",
       "      <td>Lieutenant Melanie Ballard</td>\n",
       "      <td>1974-08-15</td>\n",
       "      <td>F</td>\n",
       "      <td>1.780</td>\n",
       "      <td>/m/044038p</td>\n",
       "      <td>Natasha Henstridge</td>\n",
       "      <td>27.0</td>\n",
       "    </tr>\n",
       "    <tr>\n",
       "      <th>1</th>\n",
       "      <td>975900</td>\n",
       "      <td>2001-08-24</td>\n",
       "      <td>Desolation Williams</td>\n",
       "      <td>1969-06-15</td>\n",
       "      <td>M</td>\n",
       "      <td>1.727</td>\n",
       "      <td>/m/0x67</td>\n",
       "      <td>Ice Cube</td>\n",
       "      <td>32.0</td>\n",
       "    </tr>\n",
       "    <tr>\n",
       "      <th>2</th>\n",
       "      <td>975900</td>\n",
       "      <td>2001-08-24</td>\n",
       "      <td>Sgt Jericho Butler</td>\n",
       "      <td>1967-09-12</td>\n",
       "      <td>M</td>\n",
       "      <td>1.750</td>\n",
       "      <td>NaN</td>\n",
       "      <td>Jason Statham</td>\n",
       "      <td>33.0</td>\n",
       "    </tr>\n",
       "    <tr>\n",
       "      <th>3</th>\n",
       "      <td>975900</td>\n",
       "      <td>2001-08-24</td>\n",
       "      <td>Bashira Kincaid</td>\n",
       "      <td>1977-09-25</td>\n",
       "      <td>F</td>\n",
       "      <td>1.650</td>\n",
       "      <td>NaN</td>\n",
       "      <td>Clea DuVall</td>\n",
       "      <td>23.0</td>\n",
       "    </tr>\n",
       "    <tr>\n",
       "      <th>4</th>\n",
       "      <td>975900</td>\n",
       "      <td>2001-08-24</td>\n",
       "      <td>Commander Helena Braddock</td>\n",
       "      <td>1949-05-26</td>\n",
       "      <td>F</td>\n",
       "      <td>1.727</td>\n",
       "      <td>/m/0x67</td>\n",
       "      <td>Pam Grier</td>\n",
       "      <td>52.0</td>\n",
       "    </tr>\n",
       "  </tbody>\n",
       "</table>\n",
       "</div>"
      ],
      "text/plain": [
       "   Wikipedia_movie_ID Release_date              Character_name  Actor_DOB  \\\n",
       "0              975900   2001-08-24  Lieutenant Melanie Ballard 1974-08-15   \n",
       "1              975900   2001-08-24         Desolation Williams 1969-06-15   \n",
       "2              975900   2001-08-24          Sgt Jericho Butler 1967-09-12   \n",
       "3              975900   2001-08-24             Bashira Kincaid 1977-09-25   \n",
       "4              975900   2001-08-24   Commander Helena Braddock 1949-05-26   \n",
       "\n",
       "  Actor_gender  Actor_height Actor_ethnicity          Actor_name  Actor_age  \n",
       "0            F         1.780      /m/044038p  Natasha Henstridge       27.0  \n",
       "1            M         1.727         /m/0x67            Ice Cube       32.0  \n",
       "2            M         1.750             NaN       Jason Statham       33.0  \n",
       "3            F         1.650             NaN         Clea DuVall       23.0  \n",
       "4            F         1.727         /m/0x67           Pam Grier       52.0  "
      ]
     },
     "execution_count": 2,
     "metadata": {},
     "output_type": "execute_result"
    }
   ],
   "source": [
    "characterNames = NamesData.CharacterData(\"Character\", \"character.metadata.tsv\")\n",
    "\n",
    "characterNames.clean_raw_data()\n",
    "characterNames.clean_df.head()"
   ]
  },
  {
   "cell_type": "code",
   "execution_count": 1,
   "id": "71c7e45c",
   "metadata": {},
   "outputs": [],
   "source": [
    "import src.data.movies_char_data as NamesData   \n",
    "\n"
   ]
  },
  {
   "cell_type": "markdown",
   "id": "7bb600d2",
   "metadata": {},
   "source": [
    "#### Loading the Movie dataset"
   ]
  },
  {
   "cell_type": "code",
   "execution_count": null,
   "id": "255e5b77",
   "metadata": {},
   "outputs": [
    {
     "name": "stdout",
     "output_type": "stream",
     "text": [
      "(81740, 9)\n",
      "975900                                                                                                                                                                                          int64\n",
      "/m/03vyhn                                                                                                                                                                                      object\n",
      "Ghosts of Mars                                                                                                                                                                                 object\n",
      "2001-08-24                                                                                                                                                                                     object\n",
      "14010832                                                                                                                                                                                      float64\n",
      "98.0                                                                                                                                                                                          float64\n",
      "{\"/m/02h40lc\": \"English Language\"}                                                                                                                                                             object\n",
      "{\"/m/09c7w0\": \"United States of America\"}                                                                                                                                                      object\n",
      "{\"/m/01jfsb\": \"Thriller\", \"/m/06n90\": \"Science Fiction\", \"/m/03npn\": \"Horror\", \"/m/03k9fj\": \"Adventure\", \"/m/0fdjb\": \"Supernatural\", \"/m/02kdv5l\": \"Action\", \"/m/09zvmj\": \"Space western\"}     object\n",
      "dtype: object\n"
     ]
    }
   ],
   "source": [
    "import pandas as pd\n",
    "DATA_FOLDER = 'data/raw/'\n",
    "\n",
    "MOVIE_METADATASET = DATA_FOLDER+\"movie.metadata.tsv\"\n",
    "movie = pd.read_csv(MOVIE_METADATASET, delimiter='\\t')\n",
    "\n",
    "# size of the dataframe\n",
    "print(movie.shape)\n",
    "\n",
    "# determine the type of separate columns\n",
    "\n",
    "print(movie.dtypes)\n",
    "\n",
    "movie"
   ]
  },
  {
   "cell_type": "code",
   "execution_count": 3,
   "id": "7949e276",
   "metadata": {},
   "outputs": [
    {
     "name": "stdout",
     "output_type": "stream",
     "text": [
      "Checking if the data is loaded from a file or from memory\n",
      "Movie : Loading the raw data in the attribute\n",
      "data/raw/movie.metadata.tsv\n",
      "Movie : loaded 81740 rows !\n",
      "Movie : Loading the raw data in the attribute\n",
      "data/raw/movie.metadata.tsv\n",
      "Movie : loaded 81740 rows !\n"
     ]
    },
    {
     "ename": "ValueError",
     "evalue": "Length mismatch: Expected axis has 9 elements, new values have 4 elements",
     "output_type": "error",
     "traceback": [
      "\u001b[1;31m---------------------------------------------------------------------------\u001b[0m",
      "\u001b[1;31mValueError\u001b[0m                                Traceback (most recent call last)",
      "Cell \u001b[1;32mIn[3], line 3\u001b[0m\n\u001b[0;32m      1\u001b[0m movieNames \u001b[38;5;241m=\u001b[39m NamesData\u001b[38;5;241m.\u001b[39mMovieData(\u001b[38;5;124m\"\u001b[39m\u001b[38;5;124mMovie\u001b[39m\u001b[38;5;124m\"\u001b[39m, \u001b[38;5;124m\"\u001b[39m\u001b[38;5;124mmovie.metadata.tsv\u001b[39m\u001b[38;5;124m\"\u001b[39m)\n\u001b[1;32m----> 3\u001b[0m movieNames\u001b[38;5;241m.\u001b[39mpipeline()\n",
      "File \u001b[1;32mc:\\Users\\Pauline\\Documents\\EPFL\\Master\\MA3\\ada\\ada-2024-project-dondata2025\\src\\data\\movies_char_data.py:96\u001b[0m, in \u001b[0;36mNamesData.pipeline\u001b[1;34m(self)\u001b[0m\n\u001b[0;32m     94\u001b[0m     \u001b[38;5;28;01mreturn\u001b[39;00m\n\u001b[0;32m     95\u001b[0m \u001b[38;5;28mself\u001b[39m\u001b[38;5;241m.\u001b[39mfetch_raw_data()\n\u001b[1;32m---> 96\u001b[0m \u001b[38;5;28mself\u001b[39m\u001b[38;5;241m.\u001b[39mclean_raw_data()\n\u001b[0;32m     97\u001b[0m \u001b[38;5;28mself\u001b[39m\u001b[38;5;241m.\u001b[39mwrite_clean_data()\n\u001b[0;32m     98\u001b[0m \u001b[38;5;28mprint\u001b[39m(\u001b[38;5;124mf\u001b[39m\u001b[38;5;124m\"\u001b[39m\u001b[38;5;132;01m{\u001b[39;00m\u001b[38;5;28mself\u001b[39m\u001b[38;5;241m.\u001b[39mname\u001b[38;5;132;01m}\u001b[39;00m\u001b[38;5;124m : Data has been cleaned and saved to the clean data directory ! (\u001b[39m\u001b[38;5;132;01m{\u001b[39;00m\u001b[38;5;28mself\u001b[39m\u001b[38;5;241m.\u001b[39mclean_df\u001b[38;5;241m.\u001b[39mshape[\u001b[38;5;241m0\u001b[39m]\u001b[38;5;132;01m}\u001b[39;00m\u001b[38;5;124m rows)\u001b[39m\u001b[38;5;124m\"\u001b[39m)\n",
      "File \u001b[1;32mc:\\Users\\Pauline\\Documents\\EPFL\\Master\\MA3\\ada\\ada-2024-project-dondata2025\\src\\data\\movies_char_data.py:352\u001b[0m, in \u001b[0;36mMovieData.clean_raw_data\u001b[1;34m(self)\u001b[0m\n\u001b[0;32m    350\u001b[0m \u001b[38;5;28mself\u001b[39m\u001b[38;5;241m.\u001b[39mclean_df \u001b[38;5;241m=\u001b[39m \u001b[38;5;28mself\u001b[39m\u001b[38;5;241m.\u001b[39mraw_df\u001b[38;5;241m.\u001b[39mcopy()\n\u001b[0;32m    351\u001b[0m \u001b[38;5;66;03m# Correct any misalignments in column names due to spaces\u001b[39;00m\n\u001b[1;32m--> 352\u001b[0m \u001b[38;5;28mself\u001b[39m\u001b[38;5;241m.\u001b[39mclean_df\u001b[38;5;241m.\u001b[39mcolumns \u001b[38;5;241m=\u001b[39m [col\u001b[38;5;241m.\u001b[39mstrip() \u001b[38;5;28;01mfor\u001b[39;00m col \u001b[38;5;129;01min\u001b[39;00m \u001b[38;5;28mself\u001b[39m\u001b[38;5;241m.\u001b[39mcolumns]\n\u001b[0;32m    354\u001b[0m \u001b[38;5;66;03m# Rename columns\u001b[39;00m\n\u001b[0;32m    355\u001b[0m \u001b[38;5;66;03m#self.clean_df.columns = self.columns\u001b[39;00m\n\u001b[0;32m    356\u001b[0m \n\u001b[0;32m    357\u001b[0m \u001b[38;5;66;03m# Process the format of columns that are unreadable\u001b[39;00m\n\u001b[0;32m    358\u001b[0m \u001b[38;5;66;03m# Process 'Languages' column\u001b[39;00m\n\u001b[0;32m    359\u001b[0m \u001b[38;5;28mself\u001b[39m\u001b[38;5;241m.\u001b[39mclean_df[\u001b[38;5;124m'\u001b[39m\u001b[38;5;124mLanguages\u001b[39m\u001b[38;5;124m'\u001b[39m] \u001b[38;5;241m=\u001b[39m \u001b[38;5;28mself\u001b[39m\u001b[38;5;241m.\u001b[39mclean_df[\u001b[38;5;124m'\u001b[39m\u001b[38;5;124mLanguages\u001b[39m\u001b[38;5;124m'\u001b[39m]\u001b[38;5;241m.\u001b[39mapply(\u001b[38;5;28;01mlambda\u001b[39;00m data: \u001b[38;5;28mself\u001b[39m\u001b[38;5;241m.\u001b[39m_parse_json_column(data, \u001b[38;5;124m'\u001b[39m\u001b[38;5;124mLanguages\u001b[39m\u001b[38;5;124m'\u001b[39m))\n",
      "File \u001b[1;32mc:\\Users\\Pauline\\anaconda3\\envs\\ada\\Lib\\site-packages\\pandas\\core\\generic.py:6313\u001b[0m, in \u001b[0;36mNDFrame.__setattr__\u001b[1;34m(self, name, value)\u001b[0m\n\u001b[0;32m   6311\u001b[0m \u001b[38;5;28;01mtry\u001b[39;00m:\n\u001b[0;32m   6312\u001b[0m     \u001b[38;5;28mobject\u001b[39m\u001b[38;5;241m.\u001b[39m\u001b[38;5;21m__getattribute__\u001b[39m(\u001b[38;5;28mself\u001b[39m, name)\n\u001b[1;32m-> 6313\u001b[0m     \u001b[38;5;28;01mreturn\u001b[39;00m \u001b[38;5;28mobject\u001b[39m\u001b[38;5;241m.\u001b[39m\u001b[38;5;21m__setattr__\u001b[39m(\u001b[38;5;28mself\u001b[39m, name, value)\n\u001b[0;32m   6314\u001b[0m \u001b[38;5;28;01mexcept\u001b[39;00m \u001b[38;5;167;01mAttributeError\u001b[39;00m:\n\u001b[0;32m   6315\u001b[0m     \u001b[38;5;28;01mpass\u001b[39;00m\n",
      "File \u001b[1;32mproperties.pyx:69\u001b[0m, in \u001b[0;36mpandas._libs.properties.AxisProperty.__set__\u001b[1;34m()\u001b[0m\n",
      "File \u001b[1;32mc:\\Users\\Pauline\\anaconda3\\envs\\ada\\Lib\\site-packages\\pandas\\core\\generic.py:814\u001b[0m, in \u001b[0;36mNDFrame._set_axis\u001b[1;34m(self, axis, labels)\u001b[0m\n\u001b[0;32m    809\u001b[0m \u001b[38;5;250m\u001b[39m\u001b[38;5;124;03m\"\"\"\u001b[39;00m\n\u001b[0;32m    810\u001b[0m \u001b[38;5;124;03mThis is called from the cython code when we set the `index` attribute\u001b[39;00m\n\u001b[0;32m    811\u001b[0m \u001b[38;5;124;03mdirectly, e.g. `series.index = [1, 2, 3]`.\u001b[39;00m\n\u001b[0;32m    812\u001b[0m \u001b[38;5;124;03m\"\"\"\u001b[39;00m\n\u001b[0;32m    813\u001b[0m labels \u001b[38;5;241m=\u001b[39m ensure_index(labels)\n\u001b[1;32m--> 814\u001b[0m \u001b[38;5;28mself\u001b[39m\u001b[38;5;241m.\u001b[39m_mgr\u001b[38;5;241m.\u001b[39mset_axis(axis, labels)\n\u001b[0;32m    815\u001b[0m \u001b[38;5;28mself\u001b[39m\u001b[38;5;241m.\u001b[39m_clear_item_cache()\n",
      "File \u001b[1;32mc:\\Users\\Pauline\\anaconda3\\envs\\ada\\Lib\\site-packages\\pandas\\core\\internals\\managers.py:238\u001b[0m, in \u001b[0;36mBaseBlockManager.set_axis\u001b[1;34m(self, axis, new_labels)\u001b[0m\n\u001b[0;32m    236\u001b[0m \u001b[38;5;28;01mdef\u001b[39;00m \u001b[38;5;21mset_axis\u001b[39m(\u001b[38;5;28mself\u001b[39m, axis: AxisInt, new_labels: Index) \u001b[38;5;241m-\u001b[39m\u001b[38;5;241m>\u001b[39m \u001b[38;5;28;01mNone\u001b[39;00m:\n\u001b[0;32m    237\u001b[0m     \u001b[38;5;66;03m# Caller is responsible for ensuring we have an Index object.\u001b[39;00m\n\u001b[1;32m--> 238\u001b[0m     \u001b[38;5;28mself\u001b[39m\u001b[38;5;241m.\u001b[39m_validate_set_axis(axis, new_labels)\n\u001b[0;32m    239\u001b[0m     \u001b[38;5;28mself\u001b[39m\u001b[38;5;241m.\u001b[39maxes[axis] \u001b[38;5;241m=\u001b[39m new_labels\n",
      "File \u001b[1;32mc:\\Users\\Pauline\\anaconda3\\envs\\ada\\Lib\\site-packages\\pandas\\core\\internals\\base.py:98\u001b[0m, in \u001b[0;36mDataManager._validate_set_axis\u001b[1;34m(self, axis, new_labels)\u001b[0m\n\u001b[0;32m     95\u001b[0m     \u001b[38;5;28;01mpass\u001b[39;00m\n\u001b[0;32m     97\u001b[0m \u001b[38;5;28;01melif\u001b[39;00m new_len \u001b[38;5;241m!=\u001b[39m old_len:\n\u001b[1;32m---> 98\u001b[0m     \u001b[38;5;28;01mraise\u001b[39;00m \u001b[38;5;167;01mValueError\u001b[39;00m(\n\u001b[0;32m     99\u001b[0m         \u001b[38;5;124mf\u001b[39m\u001b[38;5;124m\"\u001b[39m\u001b[38;5;124mLength mismatch: Expected axis has \u001b[39m\u001b[38;5;132;01m{\u001b[39;00mold_len\u001b[38;5;132;01m}\u001b[39;00m\u001b[38;5;124m elements, new \u001b[39m\u001b[38;5;124m\"\u001b[39m\n\u001b[0;32m    100\u001b[0m         \u001b[38;5;124mf\u001b[39m\u001b[38;5;124m\"\u001b[39m\u001b[38;5;124mvalues have \u001b[39m\u001b[38;5;132;01m{\u001b[39;00mnew_len\u001b[38;5;132;01m}\u001b[39;00m\u001b[38;5;124m elements\u001b[39m\u001b[38;5;124m\"\u001b[39m\n\u001b[0;32m    101\u001b[0m     )\n",
      "\u001b[1;31mValueError\u001b[0m: Length mismatch: Expected axis has 9 elements, new values have 4 elements"
     ]
    }
   ],
   "source": [
    "movieNames = NamesData.MovieData(\"Movie\", \"movie.metadata.tsv\")\n",
    "\n",
    "movieNames.pipeline()\n",
    "#movieNames.clean_df.head()"
   ]
  },
  {
   "cell_type": "markdown",
   "id": "7a6d342e",
   "metadata": {},
   "source": [
    "### Merging into 1 big dataset"
   ]
  },
  {
   "cell_type": "code",
   "execution_count": null,
   "id": "ee1c02c3",
   "metadata": {},
   "outputs": [],
   "source": [
    "from src.utils.names_utils import *\n",
    "data = [movieNames, characterNames]\n",
    "mov_char_data = merge_names_data(data)\n",
    "\n",
    "mov_char_data().head() # When we call the data name object, it returns the cleaned data"
   ]
  }
 ],
 "metadata": {
  "kernelspec": {
   "display_name": "ada",
   "language": "python",
   "name": "python3"
  },
  "language_info": {
   "codemirror_mode": {
    "name": "ipython",
    "version": 3
   },
   "file_extension": ".py",
   "mimetype": "text/x-python",
   "name": "python",
   "nbconvert_exporter": "python",
   "pygments_lexer": "ipython3",
   "version": "3.11.9"
  }
 },
 "nbformat": 4,
 "nbformat_minor": 5
}
