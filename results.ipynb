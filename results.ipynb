{
 "cells": [
  {
   "cell_type": "code",
   "id": "184ee2da",
   "metadata": {
    "ExecuteTime": {
     "end_time": "2024-11-14T23:41:35.031509Z",
     "start_time": "2024-11-14T23:41:34.892663Z"
    }
   },
   "source": [
    "import seaborn as sns\n",
    "import matplotlib.pyplot as plt\n",
    "from sklearn.preprocessing import LabelEncoder\n"
   ],
   "outputs": [],
   "execution_count": 1
  },
  {
   "cell_type": "markdown",
   "id": "ce9e39bb",
   "metadata": {},
   "source": [
    "# Name and movies datasets\n",
    "\n",
    "For this project we decided to work on the CMU movie dataset containing metadata extracted from Freebase, including Movie metadata like Movie box office revenue, genre, release date, runtime, and language but also Character metada like character names and aligned information about the actors who portray them, including gender and estimated age at the time of the movie's release. \n",
    "First let's see what the 2 metadasets contains.\n",
    "\n",
    "#### Characters\n",
    "The dataset contains informations  450,669 characters aligned to the movies such as Wikipedia movie ID,  Freebase movie ID, Movie release date, Character name, Actor date of birth, Actor gender, Actor height (in meters), Actor ethnicity,Actor name, Actor age at movie release, Freebase character/actor map ID, Freebase character ID, Freebase actor ID. \n",
    "\n",
    "\n",
    "#### Movies\n",
    "The dataset contains informations on 81,741 movies such as the Wikipedia movie ID, Freebase movie ID, Movie name, Movie release date, Movie box office revenue, Movie runtime, Movie languages, Movie countries, Movie genres .\n",
    "\n",
    "\n",
    "\n",
    "## Cleaning\n",
    "\n",
    "The cleaning task was implement in the *clean_raw_data()* method of our different CharacterData and MovieData classes implementation (by Wikipedia Movie ID) and validated using the *check_clean_data()* method, available and shared by the 2 datasets (python inheritance).\n",
    "\n",
    "From both metadataset, we directly oberved similar features such as Wikipedia Movie ID and Freebase Movie ID that is useful for futur merge of the 2 dataset. However, as in both datasets we saw that there were several columns containing Freebase and Wikipedia IDs for actors, characters and films, we decided to put them aside as the data is too difficult to access.\n",
    "\n",
    "This are the different steps we applied to both datasets before merging:\n",
    "\n",
    "Character dataset:\n",
    "- Load with the right spacer.\n",
    "- Rename the columns for proper understanding.\n",
    "- Check the good type format : Actor date of birth and the Release Date as a datetime, and the other into objects.\n",
    "- Deal with missing values : we wrote them as NaN or NaT\n",
    "- Droping unwanted columns\n",
    "- Checking that the cleaning was made\n",
    "\n",
    "Movie dataset :\n",
    "- Load with the right spacer.\n",
    "- Rename the columns for proper understanding.\n",
    "- Modify the Language, Country and Genre columns:  the information was a JSON format not readable nor accessible so we isolate the information and replace it by a human-readable string format.\n",
    "- Modify the datatypes of movie runtime into timedelta and the release date into a datetime object for further manipulation.\n",
    "- Modify the movie Name, Language, Country and Genre:  we checked that they were in object type and modified them if not.\n",
    "- Deal with missing values : we wrote them as NaN or NaT\n",
    "- Dropping the unwanted columns\n",
    "- Check that the cleaning was made\n",
    "\n",
    "\n",
    "We kept the whole dataset with NaN and NaT values in a specific file to keep features that could be interesting even if the rate of missing values is very high (such as etchnicity or Box office revenue). However, for the following notebook, to make some we decided to remove this 2 columns since they have more than 70% missing values.\n",
    "\n",
    "\n",
    "## Demo\n",
    "\n",
    "Here, we will import and clean the data base to demonstrate the process.\n"
   ]
  },
  {
   "cell_type": "code",
   "id": "cb427778",
   "metadata": {
    "ExecuteTime": {
     "end_time": "2024-11-14T23:41:35.044575Z",
     "start_time": "2024-11-14T23:41:35.037246Z"
    }
   },
   "source": [
    "# imports my code from the file src/data/movies_char_data.py\n",
    "import src.data.movies_char_data as MovieChar"
   ],
   "outputs": [],
   "execution_count": 2
  },
  {
   "cell_type": "markdown",
   "id": "965eb4fa",
   "metadata": {},
   "source": [
    "#### Characters "
   ]
  },
  {
   "cell_type": "code",
   "id": "initial_id",
   "metadata": {
    "collapsed": true,
    "ExecuteTime": {
     "end_time": "2024-11-14T23:41:36.446057Z",
     "start_time": "2024-11-14T23:41:35.216969Z"
    }
   },
   "source": [
    "character_df = MovieChar.CharacterData(\"Character\", \"character.metadata.tsv\", output_name = \"character_data_clean.csv\")\n",
    "character_df.raw_df.head()"
   ],
   "outputs": [
    {
     "name": "stdout",
     "output_type": "stream",
     "text": [
      "Character : loaded 450668 rows !\n"
     ]
    },
    {
     "data": {
      "text/plain": [
       "   975900  /m/03vyhn  2001-08-24                    Akooshay  1958-08-26  F  \\\n",
       "0  975900  /m/03vyhn  2001-08-24  Lieutenant Melanie Ballard  1974-08-15  F   \n",
       "1  975900  /m/03vyhn  2001-08-24         Desolation Williams  1969-06-15  M   \n",
       "2  975900  /m/03vyhn  2001-08-24          Sgt Jericho Butler  1967-09-12  M   \n",
       "3  975900  /m/03vyhn  2001-08-24             Bashira Kincaid  1977-09-25  F   \n",
       "4  975900  /m/03vyhn  2001-08-24   Commander Helena Braddock  1949-05-26  F   \n",
       "\n",
       "    1.62  Unnamed: 7      Wanda De Jesus    42  /m/0bgchxw  /m/0bgcj3x  \\\n",
       "0  1.780  /m/044038p  Natasha Henstridge  27.0   /m/0jys3m  /m/0bgchn4   \n",
       "1  1.727     /m/0x67            Ice Cube  32.0   /m/0jys3g  /m/0bgchn_   \n",
       "2  1.750         NaN       Jason Statham  33.0  /m/02vchl6  /m/0bgchnq   \n",
       "3  1.650         NaN         Clea DuVall  23.0  /m/02vbb3r  /m/0bgchp9   \n",
       "4  1.727     /m/0x67           Pam Grier  52.0  /m/02vdcfp  /m/0bgchnd   \n",
       "\n",
       "   /m/03wcfv7  \n",
       "0   /m/0346l4  \n",
       "1  /m/01vw26l  \n",
       "2   /m/034hyc  \n",
       "3   /m/01y9xg  \n",
       "4   /m/0418ft  "
      ],
      "text/html": [
       "<div>\n",
       "<style scoped>\n",
       "    .dataframe tbody tr th:only-of-type {\n",
       "        vertical-align: middle;\n",
       "    }\n",
       "\n",
       "    .dataframe tbody tr th {\n",
       "        vertical-align: top;\n",
       "    }\n",
       "\n",
       "    .dataframe thead th {\n",
       "        text-align: right;\n",
       "    }\n",
       "</style>\n",
       "<table border=\"1\" class=\"dataframe\">\n",
       "  <thead>\n",
       "    <tr style=\"text-align: right;\">\n",
       "      <th></th>\n",
       "      <th>975900</th>\n",
       "      <th>/m/03vyhn</th>\n",
       "      <th>2001-08-24</th>\n",
       "      <th>Akooshay</th>\n",
       "      <th>1958-08-26</th>\n",
       "      <th>F</th>\n",
       "      <th>1.62</th>\n",
       "      <th>Unnamed: 7</th>\n",
       "      <th>Wanda De Jesus</th>\n",
       "      <th>42</th>\n",
       "      <th>/m/0bgchxw</th>\n",
       "      <th>/m/0bgcj3x</th>\n",
       "      <th>/m/03wcfv7</th>\n",
       "    </tr>\n",
       "  </thead>\n",
       "  <tbody>\n",
       "    <tr>\n",
       "      <th>0</th>\n",
       "      <td>975900</td>\n",
       "      <td>/m/03vyhn</td>\n",
       "      <td>2001-08-24</td>\n",
       "      <td>Lieutenant Melanie Ballard</td>\n",
       "      <td>1974-08-15</td>\n",
       "      <td>F</td>\n",
       "      <td>1.780</td>\n",
       "      <td>/m/044038p</td>\n",
       "      <td>Natasha Henstridge</td>\n",
       "      <td>27.0</td>\n",
       "      <td>/m/0jys3m</td>\n",
       "      <td>/m/0bgchn4</td>\n",
       "      <td>/m/0346l4</td>\n",
       "    </tr>\n",
       "    <tr>\n",
       "      <th>1</th>\n",
       "      <td>975900</td>\n",
       "      <td>/m/03vyhn</td>\n",
       "      <td>2001-08-24</td>\n",
       "      <td>Desolation Williams</td>\n",
       "      <td>1969-06-15</td>\n",
       "      <td>M</td>\n",
       "      <td>1.727</td>\n",
       "      <td>/m/0x67</td>\n",
       "      <td>Ice Cube</td>\n",
       "      <td>32.0</td>\n",
       "      <td>/m/0jys3g</td>\n",
       "      <td>/m/0bgchn_</td>\n",
       "      <td>/m/01vw26l</td>\n",
       "    </tr>\n",
       "    <tr>\n",
       "      <th>2</th>\n",
       "      <td>975900</td>\n",
       "      <td>/m/03vyhn</td>\n",
       "      <td>2001-08-24</td>\n",
       "      <td>Sgt Jericho Butler</td>\n",
       "      <td>1967-09-12</td>\n",
       "      <td>M</td>\n",
       "      <td>1.750</td>\n",
       "      <td>NaN</td>\n",
       "      <td>Jason Statham</td>\n",
       "      <td>33.0</td>\n",
       "      <td>/m/02vchl6</td>\n",
       "      <td>/m/0bgchnq</td>\n",
       "      <td>/m/034hyc</td>\n",
       "    </tr>\n",
       "    <tr>\n",
       "      <th>3</th>\n",
       "      <td>975900</td>\n",
       "      <td>/m/03vyhn</td>\n",
       "      <td>2001-08-24</td>\n",
       "      <td>Bashira Kincaid</td>\n",
       "      <td>1977-09-25</td>\n",
       "      <td>F</td>\n",
       "      <td>1.650</td>\n",
       "      <td>NaN</td>\n",
       "      <td>Clea DuVall</td>\n",
       "      <td>23.0</td>\n",
       "      <td>/m/02vbb3r</td>\n",
       "      <td>/m/0bgchp9</td>\n",
       "      <td>/m/01y9xg</td>\n",
       "    </tr>\n",
       "    <tr>\n",
       "      <th>4</th>\n",
       "      <td>975900</td>\n",
       "      <td>/m/03vyhn</td>\n",
       "      <td>2001-08-24</td>\n",
       "      <td>Commander Helena Braddock</td>\n",
       "      <td>1949-05-26</td>\n",
       "      <td>F</td>\n",
       "      <td>1.727</td>\n",
       "      <td>/m/0x67</td>\n",
       "      <td>Pam Grier</td>\n",
       "      <td>52.0</td>\n",
       "      <td>/m/02vdcfp</td>\n",
       "      <td>/m/0bgchnd</td>\n",
       "      <td>/m/0418ft</td>\n",
       "    </tr>\n",
       "  </tbody>\n",
       "</table>\n",
       "</div>"
      ]
     },
     "execution_count": 3,
     "metadata": {},
     "output_type": "execute_result"
    }
   ],
   "execution_count": 3
  },
  {
   "cell_type": "code",
   "id": "57abe64c7880d8db",
   "metadata": {
    "ExecuteTime": {
     "end_time": "2024-11-14T23:41:38.451374Z",
     "start_time": "2024-11-14T23:41:36.543444Z"
    }
   },
   "source": [
    "# print duplicated rows\n",
    "character_df.clean_raw_data()\n",
    "character_df.clean_df.head()"
   ],
   "outputs": [
    {
     "name": "stdout",
     "output_type": "stream",
     "text": [
      "Character : Cleaning the raw data\n"
     ]
    },
    {
     "data": {
      "text/plain": [
       "   Wikipedia_movie_ID Release_date              Character_name  Actor_DOB  \\\n",
       "0              975900   2001-08-24  LIEUTENANT MELANIE BALLARD 1974-08-15   \n",
       "1              975900   2001-08-24         DESOLATION WILLIAMS 1969-06-15   \n",
       "2              975900   2001-08-24          SGT JERICHO BUTLER 1967-09-12   \n",
       "3              975900   2001-08-24             BASHIRA KINCAID 1977-09-25   \n",
       "4              975900   2001-08-24   COMMANDER HELENA BRADDOCK 1949-05-26   \n",
       "\n",
       "  Actor_gender  Actor_height          Actor_name  Actor_age  \n",
       "0            F         1.780  NATASHA HENSTRIDGE       27.0  \n",
       "1            M         1.727            ICE CUBE       32.0  \n",
       "2            M         1.750       JASON STATHAM       33.0  \n",
       "3            F         1.650         CLEA DUVALL       23.0  \n",
       "4            F         1.727           PAM GRIER       52.0  "
      ],
      "text/html": [
       "<div>\n",
       "<style scoped>\n",
       "    .dataframe tbody tr th:only-of-type {\n",
       "        vertical-align: middle;\n",
       "    }\n",
       "\n",
       "    .dataframe tbody tr th {\n",
       "        vertical-align: top;\n",
       "    }\n",
       "\n",
       "    .dataframe thead th {\n",
       "        text-align: right;\n",
       "    }\n",
       "</style>\n",
       "<table border=\"1\" class=\"dataframe\">\n",
       "  <thead>\n",
       "    <tr style=\"text-align: right;\">\n",
       "      <th></th>\n",
       "      <th>Wikipedia_movie_ID</th>\n",
       "      <th>Release_date</th>\n",
       "      <th>Character_name</th>\n",
       "      <th>Actor_DOB</th>\n",
       "      <th>Actor_gender</th>\n",
       "      <th>Actor_height</th>\n",
       "      <th>Actor_name</th>\n",
       "      <th>Actor_age</th>\n",
       "    </tr>\n",
       "  </thead>\n",
       "  <tbody>\n",
       "    <tr>\n",
       "      <th>0</th>\n",
       "      <td>975900</td>\n",
       "      <td>2001-08-24</td>\n",
       "      <td>LIEUTENANT MELANIE BALLARD</td>\n",
       "      <td>1974-08-15</td>\n",
       "      <td>F</td>\n",
       "      <td>1.780</td>\n",
       "      <td>NATASHA HENSTRIDGE</td>\n",
       "      <td>27.0</td>\n",
       "    </tr>\n",
       "    <tr>\n",
       "      <th>1</th>\n",
       "      <td>975900</td>\n",
       "      <td>2001-08-24</td>\n",
       "      <td>DESOLATION WILLIAMS</td>\n",
       "      <td>1969-06-15</td>\n",
       "      <td>M</td>\n",
       "      <td>1.727</td>\n",
       "      <td>ICE CUBE</td>\n",
       "      <td>32.0</td>\n",
       "    </tr>\n",
       "    <tr>\n",
       "      <th>2</th>\n",
       "      <td>975900</td>\n",
       "      <td>2001-08-24</td>\n",
       "      <td>SGT JERICHO BUTLER</td>\n",
       "      <td>1967-09-12</td>\n",
       "      <td>M</td>\n",
       "      <td>1.750</td>\n",
       "      <td>JASON STATHAM</td>\n",
       "      <td>33.0</td>\n",
       "    </tr>\n",
       "    <tr>\n",
       "      <th>3</th>\n",
       "      <td>975900</td>\n",
       "      <td>2001-08-24</td>\n",
       "      <td>BASHIRA KINCAID</td>\n",
       "      <td>1977-09-25</td>\n",
       "      <td>F</td>\n",
       "      <td>1.650</td>\n",
       "      <td>CLEA DUVALL</td>\n",
       "      <td>23.0</td>\n",
       "    </tr>\n",
       "    <tr>\n",
       "      <th>4</th>\n",
       "      <td>975900</td>\n",
       "      <td>2001-08-24</td>\n",
       "      <td>COMMANDER HELENA BRADDOCK</td>\n",
       "      <td>1949-05-26</td>\n",
       "      <td>F</td>\n",
       "      <td>1.727</td>\n",
       "      <td>PAM GRIER</td>\n",
       "      <td>52.0</td>\n",
       "    </tr>\n",
       "  </tbody>\n",
       "</table>\n",
       "</div>"
      ]
     },
     "execution_count": 4,
     "metadata": {},
     "output_type": "execute_result"
    }
   ],
   "execution_count": 4
  },
  {
   "cell_type": "code",
   "id": "7298820688573702",
   "metadata": {
    "ExecuteTime": {
     "end_time": "2024-11-14T23:41:42.677542Z",
     "start_time": "2024-11-14T23:41:38.530566Z"
    }
   },
   "source": [
    "character_df.pipeline()"
   ],
   "outputs": [
    {
     "name": "stdout",
     "output_type": "stream",
     "text": [
      "Character : loaded 450668 rows !\n",
      "Character : Cleaning the raw data\n",
      "Character : Clean data has been and saved to data/clean/movies_char/character_data_clean.csv! (171826 rows)\n"
     ]
    }
   ],
   "execution_count": 5
  },
  {
   "cell_type": "markdown",
   "id": "7bb600d2",
   "metadata": {},
   "source": [
    "####  Movie dataset"
   ]
  },
  {
   "cell_type": "code",
   "id": "7949e276",
   "metadata": {
    "ExecuteTime": {
     "end_time": "2024-11-14T23:41:43.169758Z",
     "start_time": "2024-11-14T23:41:42.733189Z"
    }
   },
   "source": [
    "movie_df = MovieChar.MovieData(\"Movie\", \"movie.metadata.tsv\", output_name = \"movie_data_clean.csv\")\n",
    "\n",
    "#Display name and file_name\n",
    "print(movie_df.name, movie_df.file_name)\n",
    "\n",
    "movie_df.raw_df.head()"
   ],
   "outputs": [
    {
     "name": "stdout",
     "output_type": "stream",
     "text": [
      "Movie : loaded 81740 rows !\n",
      "Movie movie.metadata.tsv\n"
     ]
    },
    {
     "data": {
      "text/plain": [
       "     975900   /m/03vyhn                                     Ghosts of Mars  \\\n",
       "0   3196793   /m/08yl5d  Getting Away with Murder: The JonBenét Ramsey ...   \n",
       "1  28463795  /m/0crgdbh                                        Brun bitter   \n",
       "2   9363483  /m/0285_cd                                   White Of The Eye   \n",
       "3    261236   /m/01mrr1                                  A Woman in Flames   \n",
       "4  13696889  /m/03cfc81                                      The Gangsters   \n",
       "\n",
       "   2001-08-24  14010832   98.0  \\\n",
       "0  2000-02-16       NaN   95.0   \n",
       "1        1988       NaN   83.0   \n",
       "2        1987       NaN  110.0   \n",
       "3        1983       NaN  106.0   \n",
       "4  1913-05-29       NaN   35.0   \n",
       "\n",
       "                  {\"/m/02h40lc\": \"English Language\"}  \\\n",
       "0                 {\"/m/02h40lc\": \"English Language\"}   \n",
       "1                 {\"/m/05f_3\": \"Norwegian Language\"}   \n",
       "2                 {\"/m/02h40lc\": \"English Language\"}   \n",
       "3                  {\"/m/04306rv\": \"German Language\"}   \n",
       "4  {\"/m/06ppq\": \"Silent film\", \"/m/02h40lc\": \"Eng...   \n",
       "\n",
       "   {\"/m/09c7w0\": \"United States of America\"}  \\\n",
       "0  {\"/m/09c7w0\": \"United States of America\"}   \n",
       "1                     {\"/m/05b4w\": \"Norway\"}   \n",
       "2             {\"/m/07ssc\": \"United Kingdom\"}   \n",
       "3                    {\"/m/0345h\": \"Germany\"}   \n",
       "4  {\"/m/09c7w0\": \"United States of America\"}   \n",
       "\n",
       "  {\"/m/01jfsb\": \"Thriller\", \"/m/06n90\": \"Science Fiction\", \"/m/03npn\": \"Horror\", \"/m/03k9fj\": \"Adventure\", \"/m/0fdjb\": \"Supernatural\", \"/m/02kdv5l\": \"Action\", \"/m/09zvmj\": \"Space western\"}  \n",
       "0  {\"/m/02n4kr\": \"Mystery\", \"/m/03bxz7\": \"Biograp...                                                                                                                                          \n",
       "1  {\"/m/0lsxr\": \"Crime Fiction\", \"/m/07s9rl0\": \"D...                                                                                                                                          \n",
       "2  {\"/m/01jfsb\": \"Thriller\", \"/m/0glj9q\": \"Erotic...                                                                                                                                          \n",
       "3                            {\"/m/07s9rl0\": \"Drama\"}                                                                                                                                          \n",
       "4  {\"/m/02hmvc\": \"Short Film\", \"/m/06ppq\": \"Silen...                                                                                                                                          "
      ],
      "text/html": [
       "<div>\n",
       "<style scoped>\n",
       "    .dataframe tbody tr th:only-of-type {\n",
       "        vertical-align: middle;\n",
       "    }\n",
       "\n",
       "    .dataframe tbody tr th {\n",
       "        vertical-align: top;\n",
       "    }\n",
       "\n",
       "    .dataframe thead th {\n",
       "        text-align: right;\n",
       "    }\n",
       "</style>\n",
       "<table border=\"1\" class=\"dataframe\">\n",
       "  <thead>\n",
       "    <tr style=\"text-align: right;\">\n",
       "      <th></th>\n",
       "      <th>975900</th>\n",
       "      <th>/m/03vyhn</th>\n",
       "      <th>Ghosts of Mars</th>\n",
       "      <th>2001-08-24</th>\n",
       "      <th>14010832</th>\n",
       "      <th>98.0</th>\n",
       "      <th>{\"/m/02h40lc\": \"English Language\"}</th>\n",
       "      <th>{\"/m/09c7w0\": \"United States of America\"}</th>\n",
       "      <th>{\"/m/01jfsb\": \"Thriller\", \"/m/06n90\": \"Science Fiction\", \"/m/03npn\": \"Horror\", \"/m/03k9fj\": \"Adventure\", \"/m/0fdjb\": \"Supernatural\", \"/m/02kdv5l\": \"Action\", \"/m/09zvmj\": \"Space western\"}</th>\n",
       "    </tr>\n",
       "  </thead>\n",
       "  <tbody>\n",
       "    <tr>\n",
       "      <th>0</th>\n",
       "      <td>3196793</td>\n",
       "      <td>/m/08yl5d</td>\n",
       "      <td>Getting Away with Murder: The JonBenét Ramsey ...</td>\n",
       "      <td>2000-02-16</td>\n",
       "      <td>NaN</td>\n",
       "      <td>95.0</td>\n",
       "      <td>{\"/m/02h40lc\": \"English Language\"}</td>\n",
       "      <td>{\"/m/09c7w0\": \"United States of America\"}</td>\n",
       "      <td>{\"/m/02n4kr\": \"Mystery\", \"/m/03bxz7\": \"Biograp...</td>\n",
       "    </tr>\n",
       "    <tr>\n",
       "      <th>1</th>\n",
       "      <td>28463795</td>\n",
       "      <td>/m/0crgdbh</td>\n",
       "      <td>Brun bitter</td>\n",
       "      <td>1988</td>\n",
       "      <td>NaN</td>\n",
       "      <td>83.0</td>\n",
       "      <td>{\"/m/05f_3\": \"Norwegian Language\"}</td>\n",
       "      <td>{\"/m/05b4w\": \"Norway\"}</td>\n",
       "      <td>{\"/m/0lsxr\": \"Crime Fiction\", \"/m/07s9rl0\": \"D...</td>\n",
       "    </tr>\n",
       "    <tr>\n",
       "      <th>2</th>\n",
       "      <td>9363483</td>\n",
       "      <td>/m/0285_cd</td>\n",
       "      <td>White Of The Eye</td>\n",
       "      <td>1987</td>\n",
       "      <td>NaN</td>\n",
       "      <td>110.0</td>\n",
       "      <td>{\"/m/02h40lc\": \"English Language\"}</td>\n",
       "      <td>{\"/m/07ssc\": \"United Kingdom\"}</td>\n",
       "      <td>{\"/m/01jfsb\": \"Thriller\", \"/m/0glj9q\": \"Erotic...</td>\n",
       "    </tr>\n",
       "    <tr>\n",
       "      <th>3</th>\n",
       "      <td>261236</td>\n",
       "      <td>/m/01mrr1</td>\n",
       "      <td>A Woman in Flames</td>\n",
       "      <td>1983</td>\n",
       "      <td>NaN</td>\n",
       "      <td>106.0</td>\n",
       "      <td>{\"/m/04306rv\": \"German Language\"}</td>\n",
       "      <td>{\"/m/0345h\": \"Germany\"}</td>\n",
       "      <td>{\"/m/07s9rl0\": \"Drama\"}</td>\n",
       "    </tr>\n",
       "    <tr>\n",
       "      <th>4</th>\n",
       "      <td>13696889</td>\n",
       "      <td>/m/03cfc81</td>\n",
       "      <td>The Gangsters</td>\n",
       "      <td>1913-05-29</td>\n",
       "      <td>NaN</td>\n",
       "      <td>35.0</td>\n",
       "      <td>{\"/m/06ppq\": \"Silent film\", \"/m/02h40lc\": \"Eng...</td>\n",
       "      <td>{\"/m/09c7w0\": \"United States of America\"}</td>\n",
       "      <td>{\"/m/02hmvc\": \"Short Film\", \"/m/06ppq\": \"Silen...</td>\n",
       "    </tr>\n",
       "  </tbody>\n",
       "</table>\n",
       "</div>"
      ]
     },
     "execution_count": 6,
     "metadata": {},
     "output_type": "execute_result"
    }
   ],
   "execution_count": 6
  },
  {
   "cell_type": "code",
   "id": "995e3120c95d62e",
   "metadata": {
    "ExecuteTime": {
     "end_time": "2024-11-14T23:41:44.471670Z",
     "start_time": "2024-11-14T23:41:43.245632Z"
    }
   },
   "source": [
    "# print duplicated rows\n",
    "movie_df.clean_raw_data()\n",
    "movie_df.clean_df.head()"
   ],
   "outputs": [
    {
     "data": {
      "text/plain": [
       "   Wikipedia_movie_ID                                         Movie_name  \\\n",
       "0             3196793  Getting Away with Murder: The JonBenét Ramsey ...   \n",
       "1            28463795                                        Brun bitter   \n",
       "2             9363483                                   White Of The Eye   \n",
       "3              261236                                  A Woman in Flames   \n",
       "4            13696889                                      The Gangsters   \n",
       "\n",
       "  Release_date  Revenue         Runtime             Languages  \\\n",
       "0   2000-02-16      NaN 0 days 01:35:00               English   \n",
       "1          NaT      NaN 0 days 01:23:00             Norwegian   \n",
       "2          NaT      NaN 0 days 01:50:00               English   \n",
       "3          NaT      NaN 0 days 01:46:00                German   \n",
       "4   1913-05-29      NaN 0 days 00:35:00  Silent film, English   \n",
       "\n",
       "                  Countries                                             Genres  \n",
       "0  United States of America     Mystery, Biographical film, Drama, Crime Drama  \n",
       "1                    Norway                               Crime Fiction, Drama  \n",
       "2            United Kingdom  Thriller, Erotic thriller, Psychological thriller  \n",
       "3                   Germany                                              Drama  \n",
       "4  United States of America  Short Film, Silent film, Indie, Black-and-whit...  "
      ],
      "text/html": [
       "<div>\n",
       "<style scoped>\n",
       "    .dataframe tbody tr th:only-of-type {\n",
       "        vertical-align: middle;\n",
       "    }\n",
       "\n",
       "    .dataframe tbody tr th {\n",
       "        vertical-align: top;\n",
       "    }\n",
       "\n",
       "    .dataframe thead th {\n",
       "        text-align: right;\n",
       "    }\n",
       "</style>\n",
       "<table border=\"1\" class=\"dataframe\">\n",
       "  <thead>\n",
       "    <tr style=\"text-align: right;\">\n",
       "      <th></th>\n",
       "      <th>Wikipedia_movie_ID</th>\n",
       "      <th>Movie_name</th>\n",
       "      <th>Release_date</th>\n",
       "      <th>Revenue</th>\n",
       "      <th>Runtime</th>\n",
       "      <th>Languages</th>\n",
       "      <th>Countries</th>\n",
       "      <th>Genres</th>\n",
       "    </tr>\n",
       "  </thead>\n",
       "  <tbody>\n",
       "    <tr>\n",
       "      <th>0</th>\n",
       "      <td>3196793</td>\n",
       "      <td>Getting Away with Murder: The JonBenét Ramsey ...</td>\n",
       "      <td>2000-02-16</td>\n",
       "      <td>NaN</td>\n",
       "      <td>0 days 01:35:00</td>\n",
       "      <td>English</td>\n",
       "      <td>United States of America</td>\n",
       "      <td>Mystery, Biographical film, Drama, Crime Drama</td>\n",
       "    </tr>\n",
       "    <tr>\n",
       "      <th>1</th>\n",
       "      <td>28463795</td>\n",
       "      <td>Brun bitter</td>\n",
       "      <td>NaT</td>\n",
       "      <td>NaN</td>\n",
       "      <td>0 days 01:23:00</td>\n",
       "      <td>Norwegian</td>\n",
       "      <td>Norway</td>\n",
       "      <td>Crime Fiction, Drama</td>\n",
       "    </tr>\n",
       "    <tr>\n",
       "      <th>2</th>\n",
       "      <td>9363483</td>\n",
       "      <td>White Of The Eye</td>\n",
       "      <td>NaT</td>\n",
       "      <td>NaN</td>\n",
       "      <td>0 days 01:50:00</td>\n",
       "      <td>English</td>\n",
       "      <td>United Kingdom</td>\n",
       "      <td>Thriller, Erotic thriller, Psychological thriller</td>\n",
       "    </tr>\n",
       "    <tr>\n",
       "      <th>3</th>\n",
       "      <td>261236</td>\n",
       "      <td>A Woman in Flames</td>\n",
       "      <td>NaT</td>\n",
       "      <td>NaN</td>\n",
       "      <td>0 days 01:46:00</td>\n",
       "      <td>German</td>\n",
       "      <td>Germany</td>\n",
       "      <td>Drama</td>\n",
       "    </tr>\n",
       "    <tr>\n",
       "      <th>4</th>\n",
       "      <td>13696889</td>\n",
       "      <td>The Gangsters</td>\n",
       "      <td>1913-05-29</td>\n",
       "      <td>NaN</td>\n",
       "      <td>0 days 00:35:00</td>\n",
       "      <td>Silent film, English</td>\n",
       "      <td>United States of America</td>\n",
       "      <td>Short Film, Silent film, Indie, Black-and-whit...</td>\n",
       "    </tr>\n",
       "  </tbody>\n",
       "</table>\n",
       "</div>"
      ]
     },
     "execution_count": 7,
     "metadata": {},
     "output_type": "execute_result"
    }
   ],
   "execution_count": 7
  },
  {
   "cell_type": "code",
   "id": "8878aae6ad2e2178",
   "metadata": {
    "ExecuteTime": {
     "end_time": "2024-11-14T23:41:47.333437Z",
     "start_time": "2024-11-14T23:41:44.558458Z"
    }
   },
   "source": [
    "movie_df.pipeline()"
   ],
   "outputs": [
    {
     "name": "stdout",
     "output_type": "stream",
     "text": [
      "Movie : loaded 81740 rows !\n",
      "Movie : Clean data has been and saved to data/clean/movies_char/movie_data_clean.csv! (81740 rows)\n"
     ]
    }
   ],
   "execution_count": 8
  },
  {
   "cell_type": "markdown",
   "id": "7a6d342e",
   "metadata": {},
   "source": [
    "## Merging Movie and Character into one dataset\n",
    "\n",
    "We merged the 2 dataset following the Wikipedi movie ID."
   ]
  },
  {
   "cell_type": "code",
   "id": "ee1c02c3",
   "metadata": {
    "ExecuteTime": {
     "end_time": "2024-11-14T23:41:48.278446Z",
     "start_time": "2024-11-14T23:41:47.424828Z"
    }
   },
   "source": [
    "from src.utils.movies_utils import *\n",
    "\n",
    "mov_char_data = merge_movies_characters_data(movie_df, character_df)\n",
    "\n",
    "mov_char_data.head() # When we call the data name object, it returns the cleaned data"
   ],
   "outputs": [
    {
     "name": "stdout",
     "output_type": "stream",
     "text": [
      "Duplicates found: 412 duplicates ! removing them...\n"
     ]
    },
    {
     "data": {
      "text/plain": [
       "   Wikipedia_movie_ID                                         Movie_name  \\\n",
       "0             3196793  Getting Away with Murder: The JonBenét Ramsey ...   \n",
       "1             3196793  Getting Away with Murder: The JonBenét Ramsey ...   \n",
       "2             3196793  Getting Away with Murder: The JonBenét Ramsey ...   \n",
       "3             3196793  Getting Away with Murder: The JonBenét Ramsey ...   \n",
       "4             3196793  Getting Away with Murder: The JonBenét Ramsey ...   \n",
       "\n",
       "  Release_date  Revenue         Runtime Languages                 Countries  \\\n",
       "0   2000-02-16      NaN 0 days 01:35:00   English  United States of America   \n",
       "1   2000-02-16      NaN 0 days 01:35:00   English  United States of America   \n",
       "2   2000-02-16      NaN 0 days 01:35:00   English  United States of America   \n",
       "3   2000-02-16      NaN 0 days 01:35:00   English  United States of America   \n",
       "4   2000-02-16      NaN 0 days 01:35:00   English  United States of America   \n",
       "\n",
       "                                           Genres             Character_name  \\\n",
       "0  Mystery, Biographical film, Drama, Crime Drama             POLICE OFFICER   \n",
       "1  Mystery, Biographical film, Drama, Crime Drama                   REPORTER   \n",
       "2  Mystery, Biographical film, Drama, Crime Drama  FBI PROFILER ROBERT HANKS   \n",
       "3  Mystery, Biographical film, Drama, Crime Drama                JOHN RAMSEY   \n",
       "4  Mystery, Biographical film, Drama, Crime Drama               PATSY RAMSEY   \n",
       "\n",
       "   Actor_DOB Actor_gender  Actor_height      Actor_name  Actor_age  \n",
       "0        NaT            M           NaN    ALLEN CUTLER        NaN  \n",
       "1 1956-12-19            F           NaN   ALICE BARRETT       43.0  \n",
       "2 1950-01-05            M           NaN  ROBERT CATRINI       50.0  \n",
       "3 1945-02-12            M          1.85   CLIFF DEYOUNG       55.0  \n",
       "4 1964-07-12            F          1.63      JUDI EVANS       35.0  "
      ],
      "text/html": [
       "<div>\n",
       "<style scoped>\n",
       "    .dataframe tbody tr th:only-of-type {\n",
       "        vertical-align: middle;\n",
       "    }\n",
       "\n",
       "    .dataframe tbody tr th {\n",
       "        vertical-align: top;\n",
       "    }\n",
       "\n",
       "    .dataframe thead th {\n",
       "        text-align: right;\n",
       "    }\n",
       "</style>\n",
       "<table border=\"1\" class=\"dataframe\">\n",
       "  <thead>\n",
       "    <tr style=\"text-align: right;\">\n",
       "      <th></th>\n",
       "      <th>Wikipedia_movie_ID</th>\n",
       "      <th>Movie_name</th>\n",
       "      <th>Release_date</th>\n",
       "      <th>Revenue</th>\n",
       "      <th>Runtime</th>\n",
       "      <th>Languages</th>\n",
       "      <th>Countries</th>\n",
       "      <th>Genres</th>\n",
       "      <th>Character_name</th>\n",
       "      <th>Actor_DOB</th>\n",
       "      <th>Actor_gender</th>\n",
       "      <th>Actor_height</th>\n",
       "      <th>Actor_name</th>\n",
       "      <th>Actor_age</th>\n",
       "    </tr>\n",
       "  </thead>\n",
       "  <tbody>\n",
       "    <tr>\n",
       "      <th>0</th>\n",
       "      <td>3196793</td>\n",
       "      <td>Getting Away with Murder: The JonBenét Ramsey ...</td>\n",
       "      <td>2000-02-16</td>\n",
       "      <td>NaN</td>\n",
       "      <td>0 days 01:35:00</td>\n",
       "      <td>English</td>\n",
       "      <td>United States of America</td>\n",
       "      <td>Mystery, Biographical film, Drama, Crime Drama</td>\n",
       "      <td>POLICE OFFICER</td>\n",
       "      <td>NaT</td>\n",
       "      <td>M</td>\n",
       "      <td>NaN</td>\n",
       "      <td>ALLEN CUTLER</td>\n",
       "      <td>NaN</td>\n",
       "    </tr>\n",
       "    <tr>\n",
       "      <th>1</th>\n",
       "      <td>3196793</td>\n",
       "      <td>Getting Away with Murder: The JonBenét Ramsey ...</td>\n",
       "      <td>2000-02-16</td>\n",
       "      <td>NaN</td>\n",
       "      <td>0 days 01:35:00</td>\n",
       "      <td>English</td>\n",
       "      <td>United States of America</td>\n",
       "      <td>Mystery, Biographical film, Drama, Crime Drama</td>\n",
       "      <td>REPORTER</td>\n",
       "      <td>1956-12-19</td>\n",
       "      <td>F</td>\n",
       "      <td>NaN</td>\n",
       "      <td>ALICE BARRETT</td>\n",
       "      <td>43.0</td>\n",
       "    </tr>\n",
       "    <tr>\n",
       "      <th>2</th>\n",
       "      <td>3196793</td>\n",
       "      <td>Getting Away with Murder: The JonBenét Ramsey ...</td>\n",
       "      <td>2000-02-16</td>\n",
       "      <td>NaN</td>\n",
       "      <td>0 days 01:35:00</td>\n",
       "      <td>English</td>\n",
       "      <td>United States of America</td>\n",
       "      <td>Mystery, Biographical film, Drama, Crime Drama</td>\n",
       "      <td>FBI PROFILER ROBERT HANKS</td>\n",
       "      <td>1950-01-05</td>\n",
       "      <td>M</td>\n",
       "      <td>NaN</td>\n",
       "      <td>ROBERT CATRINI</td>\n",
       "      <td>50.0</td>\n",
       "    </tr>\n",
       "    <tr>\n",
       "      <th>3</th>\n",
       "      <td>3196793</td>\n",
       "      <td>Getting Away with Murder: The JonBenét Ramsey ...</td>\n",
       "      <td>2000-02-16</td>\n",
       "      <td>NaN</td>\n",
       "      <td>0 days 01:35:00</td>\n",
       "      <td>English</td>\n",
       "      <td>United States of America</td>\n",
       "      <td>Mystery, Biographical film, Drama, Crime Drama</td>\n",
       "      <td>JOHN RAMSEY</td>\n",
       "      <td>1945-02-12</td>\n",
       "      <td>M</td>\n",
       "      <td>1.85</td>\n",
       "      <td>CLIFF DEYOUNG</td>\n",
       "      <td>55.0</td>\n",
       "    </tr>\n",
       "    <tr>\n",
       "      <th>4</th>\n",
       "      <td>3196793</td>\n",
       "      <td>Getting Away with Murder: The JonBenét Ramsey ...</td>\n",
       "      <td>2000-02-16</td>\n",
       "      <td>NaN</td>\n",
       "      <td>0 days 01:35:00</td>\n",
       "      <td>English</td>\n",
       "      <td>United States of America</td>\n",
       "      <td>Mystery, Biographical film, Drama, Crime Drama</td>\n",
       "      <td>PATSY RAMSEY</td>\n",
       "      <td>1964-07-12</td>\n",
       "      <td>F</td>\n",
       "      <td>1.63</td>\n",
       "      <td>JUDI EVANS</td>\n",
       "      <td>35.0</td>\n",
       "    </tr>\n",
       "  </tbody>\n",
       "</table>\n",
       "</div>"
      ]
     },
     "execution_count": 9,
     "metadata": {},
     "output_type": "execute_result"
    }
   ],
   "execution_count": 9
  },
  {
   "cell_type": "code",
   "id": "144abe8c5e2174c1",
   "metadata": {
    "ExecuteTime": {
     "end_time": "2024-11-14T23:41:48.362946Z",
     "start_time": "2024-11-14T23:41:48.359328Z"
    }
   },
   "source": [
    "# Print size of the dataset\n",
    "print(mov_char_data.shape)"
   ],
   "outputs": [
    {
     "name": "stdout",
     "output_type": "stream",
     "text": [
      "(171400, 14)\n"
     ]
    }
   ],
   "execution_count": 10
  },
  {
   "cell_type": "code",
   "id": "206998d4",
   "metadata": {
    "ExecuteTime": {
     "end_time": "2024-11-14T23:41:48.475716Z",
     "start_time": "2024-11-14T23:41:48.460509Z"
    }
   },
   "source": [
    "mov_char_data.head(100) # When we call the data name object, it returns the cleaned data\n",
    "      "
   ],
   "outputs": [
    {
     "data": {
      "text/plain": [
       "    Wikipedia_movie_ID                                         Movie_name  \\\n",
       "0              3196793  Getting Away with Murder: The JonBenét Ramsey ...   \n",
       "1              3196793  Getting Away with Murder: The JonBenét Ramsey ...   \n",
       "2              3196793  Getting Away with Murder: The JonBenét Ramsey ...   \n",
       "3              3196793  Getting Away with Murder: The JonBenét Ramsey ...   \n",
       "4              3196793  Getting Away with Murder: The JonBenét Ramsey ...   \n",
       "..                 ...                                                ...   \n",
       "95             1364293                         They Knew What They Wanted   \n",
       "96            29772142                       Karayilekku Oru Kadal Dooram   \n",
       "97            29772142                       Karayilekku Oru Kadal Dooram   \n",
       "98            26878691                                  Mysterious Island   \n",
       "99            26878691                                  Mysterious Island   \n",
       "\n",
       "   Release_date   Revenue         Runtime          Languages  \\\n",
       "0    2000-02-16       NaN 0 days 01:35:00            English   \n",
       "1    2000-02-16       NaN 0 days 01:35:00            English   \n",
       "2    2000-02-16       NaN 0 days 01:35:00            English   \n",
       "3    2000-02-16       NaN 0 days 01:35:00            English   \n",
       "4    2000-02-16       NaN 0 days 01:35:00            English   \n",
       "..          ...       ...             ...                ...   \n",
       "95          NaT  932000.0 0 days 01:36:00            English   \n",
       "96   2010-12-31       NaN 0 days 01:50:00          Malayalam   \n",
       "97   2010-12-31       NaN 0 days 01:50:00          Malayalam   \n",
       "98          NaT       NaN 0 days 01:40:00  Standard Mandarin   \n",
       "99          NaT       NaN 0 days 01:40:00  Standard Mandarin   \n",
       "\n",
       "                   Countries  \\\n",
       "0   United States of America   \n",
       "1   United States of America   \n",
       "2   United States of America   \n",
       "3   United States of America   \n",
       "4   United States of America   \n",
       "..                       ...   \n",
       "95  United States of America   \n",
       "96                     India   \n",
       "97                     India   \n",
       "98                 Hong Kong   \n",
       "99                 Hong Kong   \n",
       "\n",
       "                                               Genres  \\\n",
       "0      Mystery, Biographical film, Drama, Crime Drama   \n",
       "1      Mystery, Biographical film, Drama, Crime Drama   \n",
       "2      Mystery, Biographical film, Drama, Crime Drama   \n",
       "3      Mystery, Biographical film, Drama, Crime Drama   \n",
       "4      Mystery, Biographical film, Drama, Crime Drama   \n",
       "..                                                ...   \n",
       "95  Romance Film, Marriage Drama, Drama, Black-and...   \n",
       "96                                              Drama   \n",
       "97                                              Drama   \n",
       "98  Action/Adventure, Wuxia, Martial Arts Film, Ch...   \n",
       "99  Action/Adventure, Wuxia, Martial Arts Film, Ch...   \n",
       "\n",
       "               Character_name  Actor_DOB Actor_gender  Actor_height  \\\n",
       "0              POLICE OFFICER        NaT            M           NaN   \n",
       "1                    REPORTER 1956-12-19            F           NaN   \n",
       "2   FBI PROFILER ROBERT HANKS 1950-01-05            M           NaN   \n",
       "3                 JOHN RAMSEY 1945-02-12            M          1.85   \n",
       "4                PATSY RAMSEY 1964-07-12            F          1.63   \n",
       "..                        ...        ...          ...           ...   \n",
       "95                 AMY PETERS 1908-10-06            F          1.61   \n",
       "96                      GATHA 1985-11-14            F          1.65   \n",
       "97                SATHYABHAMA 1985-09-17            F           NaN   \n",
       "98                OUYANG FENG        NaT            M           NaN   \n",
       "99               HUANG YAOSHI        NaT          NaN           NaN   \n",
       "\n",
       "              Actor_name  Actor_age  \n",
       "0           ALLEN CUTLER        NaN  \n",
       "1          ALICE BARRETT       43.0  \n",
       "2         ROBERT CATRINI       50.0  \n",
       "3          CLIFF DEYOUNG       55.0  \n",
       "4             JUDI EVANS       35.0  \n",
       "..                   ...        ...  \n",
       "95        CAROLE LOMBARD       31.0  \n",
       "96        MAMTA MOHANDAS       25.0  \n",
       "97  DHANYA MARY VARGHESE       25.0  \n",
       "98              WONG LIK        NaN  \n",
       "99             KWAN FUNG        NaN  \n",
       "\n",
       "[100 rows x 14 columns]"
      ],
      "text/html": [
       "<div>\n",
       "<style scoped>\n",
       "    .dataframe tbody tr th:only-of-type {\n",
       "        vertical-align: middle;\n",
       "    }\n",
       "\n",
       "    .dataframe tbody tr th {\n",
       "        vertical-align: top;\n",
       "    }\n",
       "\n",
       "    .dataframe thead th {\n",
       "        text-align: right;\n",
       "    }\n",
       "</style>\n",
       "<table border=\"1\" class=\"dataframe\">\n",
       "  <thead>\n",
       "    <tr style=\"text-align: right;\">\n",
       "      <th></th>\n",
       "      <th>Wikipedia_movie_ID</th>\n",
       "      <th>Movie_name</th>\n",
       "      <th>Release_date</th>\n",
       "      <th>Revenue</th>\n",
       "      <th>Runtime</th>\n",
       "      <th>Languages</th>\n",
       "      <th>Countries</th>\n",
       "      <th>Genres</th>\n",
       "      <th>Character_name</th>\n",
       "      <th>Actor_DOB</th>\n",
       "      <th>Actor_gender</th>\n",
       "      <th>Actor_height</th>\n",
       "      <th>Actor_name</th>\n",
       "      <th>Actor_age</th>\n",
       "    </tr>\n",
       "  </thead>\n",
       "  <tbody>\n",
       "    <tr>\n",
       "      <th>0</th>\n",
       "      <td>3196793</td>\n",
       "      <td>Getting Away with Murder: The JonBenét Ramsey ...</td>\n",
       "      <td>2000-02-16</td>\n",
       "      <td>NaN</td>\n",
       "      <td>0 days 01:35:00</td>\n",
       "      <td>English</td>\n",
       "      <td>United States of America</td>\n",
       "      <td>Mystery, Biographical film, Drama, Crime Drama</td>\n",
       "      <td>POLICE OFFICER</td>\n",
       "      <td>NaT</td>\n",
       "      <td>M</td>\n",
       "      <td>NaN</td>\n",
       "      <td>ALLEN CUTLER</td>\n",
       "      <td>NaN</td>\n",
       "    </tr>\n",
       "    <tr>\n",
       "      <th>1</th>\n",
       "      <td>3196793</td>\n",
       "      <td>Getting Away with Murder: The JonBenét Ramsey ...</td>\n",
       "      <td>2000-02-16</td>\n",
       "      <td>NaN</td>\n",
       "      <td>0 days 01:35:00</td>\n",
       "      <td>English</td>\n",
       "      <td>United States of America</td>\n",
       "      <td>Mystery, Biographical film, Drama, Crime Drama</td>\n",
       "      <td>REPORTER</td>\n",
       "      <td>1956-12-19</td>\n",
       "      <td>F</td>\n",
       "      <td>NaN</td>\n",
       "      <td>ALICE BARRETT</td>\n",
       "      <td>43.0</td>\n",
       "    </tr>\n",
       "    <tr>\n",
       "      <th>2</th>\n",
       "      <td>3196793</td>\n",
       "      <td>Getting Away with Murder: The JonBenét Ramsey ...</td>\n",
       "      <td>2000-02-16</td>\n",
       "      <td>NaN</td>\n",
       "      <td>0 days 01:35:00</td>\n",
       "      <td>English</td>\n",
       "      <td>United States of America</td>\n",
       "      <td>Mystery, Biographical film, Drama, Crime Drama</td>\n",
       "      <td>FBI PROFILER ROBERT HANKS</td>\n",
       "      <td>1950-01-05</td>\n",
       "      <td>M</td>\n",
       "      <td>NaN</td>\n",
       "      <td>ROBERT CATRINI</td>\n",
       "      <td>50.0</td>\n",
       "    </tr>\n",
       "    <tr>\n",
       "      <th>3</th>\n",
       "      <td>3196793</td>\n",
       "      <td>Getting Away with Murder: The JonBenét Ramsey ...</td>\n",
       "      <td>2000-02-16</td>\n",
       "      <td>NaN</td>\n",
       "      <td>0 days 01:35:00</td>\n",
       "      <td>English</td>\n",
       "      <td>United States of America</td>\n",
       "      <td>Mystery, Biographical film, Drama, Crime Drama</td>\n",
       "      <td>JOHN RAMSEY</td>\n",
       "      <td>1945-02-12</td>\n",
       "      <td>M</td>\n",
       "      <td>1.85</td>\n",
       "      <td>CLIFF DEYOUNG</td>\n",
       "      <td>55.0</td>\n",
       "    </tr>\n",
       "    <tr>\n",
       "      <th>4</th>\n",
       "      <td>3196793</td>\n",
       "      <td>Getting Away with Murder: The JonBenét Ramsey ...</td>\n",
       "      <td>2000-02-16</td>\n",
       "      <td>NaN</td>\n",
       "      <td>0 days 01:35:00</td>\n",
       "      <td>English</td>\n",
       "      <td>United States of America</td>\n",
       "      <td>Mystery, Biographical film, Drama, Crime Drama</td>\n",
       "      <td>PATSY RAMSEY</td>\n",
       "      <td>1964-07-12</td>\n",
       "      <td>F</td>\n",
       "      <td>1.63</td>\n",
       "      <td>JUDI EVANS</td>\n",
       "      <td>35.0</td>\n",
       "    </tr>\n",
       "    <tr>\n",
       "      <th>...</th>\n",
       "      <td>...</td>\n",
       "      <td>...</td>\n",
       "      <td>...</td>\n",
       "      <td>...</td>\n",
       "      <td>...</td>\n",
       "      <td>...</td>\n",
       "      <td>...</td>\n",
       "      <td>...</td>\n",
       "      <td>...</td>\n",
       "      <td>...</td>\n",
       "      <td>...</td>\n",
       "      <td>...</td>\n",
       "      <td>...</td>\n",
       "      <td>...</td>\n",
       "    </tr>\n",
       "    <tr>\n",
       "      <th>95</th>\n",
       "      <td>1364293</td>\n",
       "      <td>They Knew What They Wanted</td>\n",
       "      <td>NaT</td>\n",
       "      <td>932000.0</td>\n",
       "      <td>0 days 01:36:00</td>\n",
       "      <td>English</td>\n",
       "      <td>United States of America</td>\n",
       "      <td>Romance Film, Marriage Drama, Drama, Black-and...</td>\n",
       "      <td>AMY PETERS</td>\n",
       "      <td>1908-10-06</td>\n",
       "      <td>F</td>\n",
       "      <td>1.61</td>\n",
       "      <td>CAROLE LOMBARD</td>\n",
       "      <td>31.0</td>\n",
       "    </tr>\n",
       "    <tr>\n",
       "      <th>96</th>\n",
       "      <td>29772142</td>\n",
       "      <td>Karayilekku Oru Kadal Dooram</td>\n",
       "      <td>2010-12-31</td>\n",
       "      <td>NaN</td>\n",
       "      <td>0 days 01:50:00</td>\n",
       "      <td>Malayalam</td>\n",
       "      <td>India</td>\n",
       "      <td>Drama</td>\n",
       "      <td>GATHA</td>\n",
       "      <td>1985-11-14</td>\n",
       "      <td>F</td>\n",
       "      <td>1.65</td>\n",
       "      <td>MAMTA MOHANDAS</td>\n",
       "      <td>25.0</td>\n",
       "    </tr>\n",
       "    <tr>\n",
       "      <th>97</th>\n",
       "      <td>29772142</td>\n",
       "      <td>Karayilekku Oru Kadal Dooram</td>\n",
       "      <td>2010-12-31</td>\n",
       "      <td>NaN</td>\n",
       "      <td>0 days 01:50:00</td>\n",
       "      <td>Malayalam</td>\n",
       "      <td>India</td>\n",
       "      <td>Drama</td>\n",
       "      <td>SATHYABHAMA</td>\n",
       "      <td>1985-09-17</td>\n",
       "      <td>F</td>\n",
       "      <td>NaN</td>\n",
       "      <td>DHANYA MARY VARGHESE</td>\n",
       "      <td>25.0</td>\n",
       "    </tr>\n",
       "    <tr>\n",
       "      <th>98</th>\n",
       "      <td>26878691</td>\n",
       "      <td>Mysterious Island</td>\n",
       "      <td>NaT</td>\n",
       "      <td>NaN</td>\n",
       "      <td>0 days 01:40:00</td>\n",
       "      <td>Standard Mandarin</td>\n",
       "      <td>Hong Kong</td>\n",
       "      <td>Action/Adventure, Wuxia, Martial Arts Film, Ch...</td>\n",
       "      <td>OUYANG FENG</td>\n",
       "      <td>NaT</td>\n",
       "      <td>M</td>\n",
       "      <td>NaN</td>\n",
       "      <td>WONG LIK</td>\n",
       "      <td>NaN</td>\n",
       "    </tr>\n",
       "    <tr>\n",
       "      <th>99</th>\n",
       "      <td>26878691</td>\n",
       "      <td>Mysterious Island</td>\n",
       "      <td>NaT</td>\n",
       "      <td>NaN</td>\n",
       "      <td>0 days 01:40:00</td>\n",
       "      <td>Standard Mandarin</td>\n",
       "      <td>Hong Kong</td>\n",
       "      <td>Action/Adventure, Wuxia, Martial Arts Film, Ch...</td>\n",
       "      <td>HUANG YAOSHI</td>\n",
       "      <td>NaT</td>\n",
       "      <td>NaN</td>\n",
       "      <td>NaN</td>\n",
       "      <td>KWAN FUNG</td>\n",
       "      <td>NaN</td>\n",
       "    </tr>\n",
       "  </tbody>\n",
       "</table>\n",
       "<p>100 rows × 14 columns</p>\n",
       "</div>"
      ]
     },
     "execution_count": 11,
     "metadata": {},
     "output_type": "execute_result"
    }
   ],
   "execution_count": 11
  },
  {
   "cell_type": "markdown",
   "id": "ef9e07a9",
   "metadata": {},
   "source": [
    "# Names datasets\n",
    "\n",
    "In order to answer our research questions, we needed to find some birth registries from different countries. Those were freely available and we found datasets for the following countries:\n",
    "\n",
    "- France\n",
    "- USA\n",
    "- United Kingdom\n",
    "- AJOUTER AUTRE SI BESOIN\n",
    "\n",
    "Since they all came from different places and didn't follow the same structure, we had to decide what kind of data was necessary for our project and what structure would be the most practical to work with. We ended-up with the following collumns in our dataframes:\n",
    "\n",
    "1. **Year** : An integer value giving the year of the count \n",
    "2. **Name** :  A string representing the name that was counted\n",
    "3. **Sex** : There are two possible characters, 'F' (female) and 'M' (male)\n",
    "4. **Count** : An integer value giving the count of the name during this year\n",
    "\n",
    "## Data homogenization\n",
    "\n",
    "The cleaning task was implement in the *clean_raw_data()* method of our different NamesData classes implementation (by country) and validated using the *check_clean_data()* method, available and shared by all the name datasets (python inheritance).\n",
    "\n",
    "### Column structure\n",
    "This task was not too difficult since it was mostly reordering, renaming the ones needed and dropping the ones that were not useful for our project. We also made sure that the same type was used on the collumns of the different datasets. \n",
    "\n",
    "### Year \n",
    "All of our dataset had the same year format, but some had missing values in this field, which made those row useless and they were therefore discarded.\n",
    "This collumn made it hard to find datasets from more countries, since a lot of them started to count only in the early 2000's, which doesn't give us enough data to detect real changes in the distribution. (The movie data base ends in 2012)\n",
    "\n",
    "### Name\n",
    "This was the hardest column to sanitize and clean since a lot of variation of a same name are possible. We ended by defining a regex expression do define what we would accept as a valid name : ^[A-Z-\\s\\']+$\n",
    "\n",
    "This allows us to limit ourselves to names composed only of capitalized letters, spaces, '-' for composed names and ''' for the some regional variations. This rule is really strict and would have made us lose a considerable proportion of our dataset. This is where the data cleaning process came to help homogenize our data and it mainly consisted of the following operations:\n",
    "\n",
    "- Converting all the name to uppercase\n",
    "- Removing all accents on letter, for example é becomes e.\n",
    "\n",
    "Some names have different spellings, for example you can write JEREMY and JEREMIE, but we decided to count this as two separate entries since grouping \"similar\" is out of the scope of this project and is not an uniformised concept.\n",
    "\n",
    "### Sex\n",
    "The french dataset had some integer values that we converted to the expected format. This field is useful for our research questions, but complicated the dataset research, since a lot of countries did not include this information in their registries.\n",
    "\n",
    "### Validation\n",
    "\n",
    "The python class representing our datasets contains a method *check_clean_data()* that checks multiple conditions to be sure that the data is uniform. \n",
    "\n",
    "- Checks the collumns' name\n",
    "- Checks if some missing values are present\n",
    "- Checks the data type of each collumn\n",
    "- Checks for duplicated rows (same name, same sex and same name)\n",
    "- Checks that the strings respects the defined regex expressions\n",
    "- Checks that the counts and years are coherent numbers \n",
    "\n",
    "## Demo\n",
    "\n",
    "Here, we will import and clean the data base to demonstrate the process.\n"
   ]
  },
  {
   "cell_type": "code",
   "id": "9f34f05a",
   "metadata": {
    "ExecuteTime": {
     "end_time": "2024-11-14T23:41:49.166032Z",
     "start_time": "2024-11-14T23:41:48.628928Z"
    }
   },
   "source": [
    "import src.data.names_data as NamesData\n",
    "ukNames = NamesData.UKNamesData(\"UK\", \"ukbabynames.csv\")\n",
    "\n",
    "# The raw data directly from the file\n",
    "ukNames.raw_df.head()"
   ],
   "outputs": [
    {
     "name": "stdout",
     "output_type": "stream",
     "text": [
      "UK : loaded 565817 rows !\n"
     ]
    },
    {
     "data": {
      "text/plain": [
       "     year sex     name       n  rank           nation\n",
       "0  1996.0   F   SOPHIE  7087.0   1.0  England & Wales\n",
       "1  1996.0   F    CHLOE  6824.0   2.0  England & Wales\n",
       "2  1996.0   F  JESSICA  6711.0   3.0  England & Wales\n",
       "3  1996.0   F    EMILY  6415.0   4.0  England & Wales\n",
       "4  1996.0   F   LAUREN  6299.0   5.0  England & Wales"
      ],
      "text/html": [
       "<div>\n",
       "<style scoped>\n",
       "    .dataframe tbody tr th:only-of-type {\n",
       "        vertical-align: middle;\n",
       "    }\n",
       "\n",
       "    .dataframe tbody tr th {\n",
       "        vertical-align: top;\n",
       "    }\n",
       "\n",
       "    .dataframe thead th {\n",
       "        text-align: right;\n",
       "    }\n",
       "</style>\n",
       "<table border=\"1\" class=\"dataframe\">\n",
       "  <thead>\n",
       "    <tr style=\"text-align: right;\">\n",
       "      <th></th>\n",
       "      <th>year</th>\n",
       "      <th>sex</th>\n",
       "      <th>name</th>\n",
       "      <th>n</th>\n",
       "      <th>rank</th>\n",
       "      <th>nation</th>\n",
       "    </tr>\n",
       "  </thead>\n",
       "  <tbody>\n",
       "    <tr>\n",
       "      <th>0</th>\n",
       "      <td>1996.0</td>\n",
       "      <td>F</td>\n",
       "      <td>SOPHIE</td>\n",
       "      <td>7087.0</td>\n",
       "      <td>1.0</td>\n",
       "      <td>England &amp; Wales</td>\n",
       "    </tr>\n",
       "    <tr>\n",
       "      <th>1</th>\n",
       "      <td>1996.0</td>\n",
       "      <td>F</td>\n",
       "      <td>CHLOE</td>\n",
       "      <td>6824.0</td>\n",
       "      <td>2.0</td>\n",
       "      <td>England &amp; Wales</td>\n",
       "    </tr>\n",
       "    <tr>\n",
       "      <th>2</th>\n",
       "      <td>1996.0</td>\n",
       "      <td>F</td>\n",
       "      <td>JESSICA</td>\n",
       "      <td>6711.0</td>\n",
       "      <td>3.0</td>\n",
       "      <td>England &amp; Wales</td>\n",
       "    </tr>\n",
       "    <tr>\n",
       "      <th>3</th>\n",
       "      <td>1996.0</td>\n",
       "      <td>F</td>\n",
       "      <td>EMILY</td>\n",
       "      <td>6415.0</td>\n",
       "      <td>4.0</td>\n",
       "      <td>England &amp; Wales</td>\n",
       "    </tr>\n",
       "    <tr>\n",
       "      <th>4</th>\n",
       "      <td>1996.0</td>\n",
       "      <td>F</td>\n",
       "      <td>LAUREN</td>\n",
       "      <td>6299.0</td>\n",
       "      <td>5.0</td>\n",
       "      <td>England &amp; Wales</td>\n",
       "    </tr>\n",
       "  </tbody>\n",
       "</table>\n",
       "</div>"
      ]
     },
     "execution_count": 12,
     "metadata": {},
     "output_type": "execute_result"
    }
   ],
   "execution_count": 12
  },
  {
   "cell_type": "code",
   "id": "335bd2a6",
   "metadata": {
    "ExecuteTime": {
     "end_time": "2024-11-14T23:41:51.337754Z",
     "start_time": "2024-11-14T23:41:49.241962Z"
    }
   },
   "source": [
    "# We can call the cleaning method, which will correct the columns' names and ordering, and clean the content\n",
    "ukNames.clean_raw_data()\n",
    "ukNames().head() #  This is the cleaned data"
   ],
   "outputs": [
    {
     "name": "stdout",
     "output_type": "stream",
     "text": [
      "UK : Data is clean and conforms to the expected structure !\n"
     ]
    },
    {
     "data": {
      "text/plain": [
       "   Year    Name Sex  Count\n",
       "0  1974   AALIA   F      1\n",
       "1  1974   AAMIR   M      1\n",
       "2  1974   AARON   M     17\n",
       "3  1974  ABADAH   F      1\n",
       "4  1974   ABBEY   F      1"
      ],
      "text/html": [
       "<div>\n",
       "<style scoped>\n",
       "    .dataframe tbody tr th:only-of-type {\n",
       "        vertical-align: middle;\n",
       "    }\n",
       "\n",
       "    .dataframe tbody tr th {\n",
       "        vertical-align: top;\n",
       "    }\n",
       "\n",
       "    .dataframe thead th {\n",
       "        text-align: right;\n",
       "    }\n",
       "</style>\n",
       "<table border=\"1\" class=\"dataframe\">\n",
       "  <thead>\n",
       "    <tr style=\"text-align: right;\">\n",
       "      <th></th>\n",
       "      <th>Year</th>\n",
       "      <th>Name</th>\n",
       "      <th>Sex</th>\n",
       "      <th>Count</th>\n",
       "    </tr>\n",
       "  </thead>\n",
       "  <tbody>\n",
       "    <tr>\n",
       "      <th>0</th>\n",
       "      <td>1974</td>\n",
       "      <td>AALIA</td>\n",
       "      <td>F</td>\n",
       "      <td>1</td>\n",
       "    </tr>\n",
       "    <tr>\n",
       "      <th>1</th>\n",
       "      <td>1974</td>\n",
       "      <td>AAMIR</td>\n",
       "      <td>M</td>\n",
       "      <td>1</td>\n",
       "    </tr>\n",
       "    <tr>\n",
       "      <th>2</th>\n",
       "      <td>1974</td>\n",
       "      <td>AARON</td>\n",
       "      <td>M</td>\n",
       "      <td>17</td>\n",
       "    </tr>\n",
       "    <tr>\n",
       "      <th>3</th>\n",
       "      <td>1974</td>\n",
       "      <td>ABADAH</td>\n",
       "      <td>F</td>\n",
       "      <td>1</td>\n",
       "    </tr>\n",
       "    <tr>\n",
       "      <th>4</th>\n",
       "      <td>1974</td>\n",
       "      <td>ABBEY</td>\n",
       "      <td>F</td>\n",
       "      <td>1</td>\n",
       "    </tr>\n",
       "  </tbody>\n",
       "</table>\n",
       "</div>"
      ]
     },
     "execution_count": 13,
     "metadata": {},
     "output_type": "execute_result"
    }
   ],
   "execution_count": 13
  },
  {
   "cell_type": "code",
   "id": "b5398679",
   "metadata": {
    "ExecuteTime": {
     "end_time": "2024-11-14T23:41:53.350866Z",
     "start_time": "2024-11-14T23:41:51.446150Z"
    }
   },
   "source": [
    "frenchNames = NamesData.FranceNamesData(\"France\", \"france.csv\", \"https://www.insee.fr/fr/statistiques/8205621?sommaire=8205628#dictionnaire\", \";\")\n",
    "\n",
    "frenchNames.raw_df.head()"
   ],
   "outputs": [
    {
     "name": "stdout",
     "output_type": "stream",
     "text": [
      "France : loaded 3884324 rows !\n"
     ]
    },
    {
     "data": {
      "text/plain": [
       "   sexe  preusuel annais dpt  nombre\n",
       "0     1         A   XXXX  XX      27\n",
       "1     1     AADAM   XXXX  XX      38\n",
       "2     1     AADEL   XXXX  XX      56\n",
       "3     1  AADHIRAN   2023  93       5\n",
       "4     1  AADHIRAN   XXXX  XX      15"
      ],
      "text/html": [
       "<div>\n",
       "<style scoped>\n",
       "    .dataframe tbody tr th:only-of-type {\n",
       "        vertical-align: middle;\n",
       "    }\n",
       "\n",
       "    .dataframe tbody tr th {\n",
       "        vertical-align: top;\n",
       "    }\n",
       "\n",
       "    .dataframe thead th {\n",
       "        text-align: right;\n",
       "    }\n",
       "</style>\n",
       "<table border=\"1\" class=\"dataframe\">\n",
       "  <thead>\n",
       "    <tr style=\"text-align: right;\">\n",
       "      <th></th>\n",
       "      <th>sexe</th>\n",
       "      <th>preusuel</th>\n",
       "      <th>annais</th>\n",
       "      <th>dpt</th>\n",
       "      <th>nombre</th>\n",
       "    </tr>\n",
       "  </thead>\n",
       "  <tbody>\n",
       "    <tr>\n",
       "      <th>0</th>\n",
       "      <td>1</td>\n",
       "      <td>A</td>\n",
       "      <td>XXXX</td>\n",
       "      <td>XX</td>\n",
       "      <td>27</td>\n",
       "    </tr>\n",
       "    <tr>\n",
       "      <th>1</th>\n",
       "      <td>1</td>\n",
       "      <td>AADAM</td>\n",
       "      <td>XXXX</td>\n",
       "      <td>XX</td>\n",
       "      <td>38</td>\n",
       "    </tr>\n",
       "    <tr>\n",
       "      <th>2</th>\n",
       "      <td>1</td>\n",
       "      <td>AADEL</td>\n",
       "      <td>XXXX</td>\n",
       "      <td>XX</td>\n",
       "      <td>56</td>\n",
       "    </tr>\n",
       "    <tr>\n",
       "      <th>3</th>\n",
       "      <td>1</td>\n",
       "      <td>AADHIRAN</td>\n",
       "      <td>2023</td>\n",
       "      <td>93</td>\n",
       "      <td>5</td>\n",
       "    </tr>\n",
       "    <tr>\n",
       "      <th>4</th>\n",
       "      <td>1</td>\n",
       "      <td>AADHIRAN</td>\n",
       "      <td>XXXX</td>\n",
       "      <td>XX</td>\n",
       "      <td>15</td>\n",
       "    </tr>\n",
       "  </tbody>\n",
       "</table>\n",
       "</div>"
      ]
     },
     "execution_count": 14,
     "metadata": {},
     "output_type": "execute_result"
    }
   ],
   "execution_count": 14
  },
  {
   "cell_type": "code",
   "id": "b3e43bd7",
   "metadata": {
    "ExecuteTime": {
     "end_time": "2024-11-14T23:41:58.004962Z",
     "start_time": "2024-11-14T23:41:53.435250Z"
    }
   },
   "source": [
    "frenchNames.clean_raw_data()\n",
    "frenchNames().head()\n"
   ],
   "outputs": [
    {
     "name": "stdout",
     "output_type": "stream",
     "text": [
      "France : Data is clean and conforms to the expected structure !\n"
     ]
    },
    {
     "data": {
      "text/plain": [
       "   Year              Name Sex  Count\n",
       "0  1900              ABEL   M    382\n",
       "1  1900        MARIE-ANNE   F     42\n",
       "2  1900  MARIE-ANTOINETTE   F     61\n",
       "3  1900     MARIE-EUGENIE   F      3\n",
       "4  1900   MARIE-FRANCOISE   F     20"
      ],
      "text/html": [
       "<div>\n",
       "<style scoped>\n",
       "    .dataframe tbody tr th:only-of-type {\n",
       "        vertical-align: middle;\n",
       "    }\n",
       "\n",
       "    .dataframe tbody tr th {\n",
       "        vertical-align: top;\n",
       "    }\n",
       "\n",
       "    .dataframe thead th {\n",
       "        text-align: right;\n",
       "    }\n",
       "</style>\n",
       "<table border=\"1\" class=\"dataframe\">\n",
       "  <thead>\n",
       "    <tr style=\"text-align: right;\">\n",
       "      <th></th>\n",
       "      <th>Year</th>\n",
       "      <th>Name</th>\n",
       "      <th>Sex</th>\n",
       "      <th>Count</th>\n",
       "    </tr>\n",
       "  </thead>\n",
       "  <tbody>\n",
       "    <tr>\n",
       "      <th>0</th>\n",
       "      <td>1900</td>\n",
       "      <td>ABEL</td>\n",
       "      <td>M</td>\n",
       "      <td>382</td>\n",
       "    </tr>\n",
       "    <tr>\n",
       "      <th>1</th>\n",
       "      <td>1900</td>\n",
       "      <td>MARIE-ANNE</td>\n",
       "      <td>F</td>\n",
       "      <td>42</td>\n",
       "    </tr>\n",
       "    <tr>\n",
       "      <th>2</th>\n",
       "      <td>1900</td>\n",
       "      <td>MARIE-ANTOINETTE</td>\n",
       "      <td>F</td>\n",
       "      <td>61</td>\n",
       "    </tr>\n",
       "    <tr>\n",
       "      <th>3</th>\n",
       "      <td>1900</td>\n",
       "      <td>MARIE-EUGENIE</td>\n",
       "      <td>F</td>\n",
       "      <td>3</td>\n",
       "    </tr>\n",
       "    <tr>\n",
       "      <th>4</th>\n",
       "      <td>1900</td>\n",
       "      <td>MARIE-FRANCOISE</td>\n",
       "      <td>F</td>\n",
       "      <td>20</td>\n",
       "    </tr>\n",
       "  </tbody>\n",
       "</table>\n",
       "</div>"
      ]
     },
     "execution_count": 15,
     "metadata": {},
     "output_type": "execute_result"
    }
   ],
   "execution_count": 15
  },
  {
   "cell_type": "code",
   "id": "f31df7ec",
   "metadata": {
    "ExecuteTime": {
     "end_time": "2024-11-14T23:41:59.162959Z",
     "start_time": "2024-11-14T23:41:58.125143Z"
    }
   },
   "source": [
    "USNames = NamesData.USNamesData(\"US\", \"babyNamesUSYOB-full.csv\")\n",
    "USNames.raw_df.head()"
   ],
   "outputs": [
    {
     "name": "stdout",
     "output_type": "stream",
     "text": [
      "US : loaded 1858689 rows !\n"
     ]
    },
    {
     "data": {
      "text/plain": [
       "   YearOfBirth       Name Sex  Number\n",
       "0         1880       Mary   F    7065\n",
       "1         1880       Anna   F    2604\n",
       "2         1880       Emma   F    2003\n",
       "3         1880  Elizabeth   F    1939\n",
       "4         1880     Minnie   F    1746"
      ],
      "text/html": [
       "<div>\n",
       "<style scoped>\n",
       "    .dataframe tbody tr th:only-of-type {\n",
       "        vertical-align: middle;\n",
       "    }\n",
       "\n",
       "    .dataframe tbody tr th {\n",
       "        vertical-align: top;\n",
       "    }\n",
       "\n",
       "    .dataframe thead th {\n",
       "        text-align: right;\n",
       "    }\n",
       "</style>\n",
       "<table border=\"1\" class=\"dataframe\">\n",
       "  <thead>\n",
       "    <tr style=\"text-align: right;\">\n",
       "      <th></th>\n",
       "      <th>YearOfBirth</th>\n",
       "      <th>Name</th>\n",
       "      <th>Sex</th>\n",
       "      <th>Number</th>\n",
       "    </tr>\n",
       "  </thead>\n",
       "  <tbody>\n",
       "    <tr>\n",
       "      <th>0</th>\n",
       "      <td>1880</td>\n",
       "      <td>Mary</td>\n",
       "      <td>F</td>\n",
       "      <td>7065</td>\n",
       "    </tr>\n",
       "    <tr>\n",
       "      <th>1</th>\n",
       "      <td>1880</td>\n",
       "      <td>Anna</td>\n",
       "      <td>F</td>\n",
       "      <td>2604</td>\n",
       "    </tr>\n",
       "    <tr>\n",
       "      <th>2</th>\n",
       "      <td>1880</td>\n",
       "      <td>Emma</td>\n",
       "      <td>F</td>\n",
       "      <td>2003</td>\n",
       "    </tr>\n",
       "    <tr>\n",
       "      <th>3</th>\n",
       "      <td>1880</td>\n",
       "      <td>Elizabeth</td>\n",
       "      <td>F</td>\n",
       "      <td>1939</td>\n",
       "    </tr>\n",
       "    <tr>\n",
       "      <th>4</th>\n",
       "      <td>1880</td>\n",
       "      <td>Minnie</td>\n",
       "      <td>F</td>\n",
       "      <td>1746</td>\n",
       "    </tr>\n",
       "  </tbody>\n",
       "</table>\n",
       "</div>"
      ]
     },
     "execution_count": 16,
     "metadata": {},
     "output_type": "execute_result"
    }
   ],
   "execution_count": 16
  },
  {
   "cell_type": "code",
   "id": "05fa5b62",
   "metadata": {
    "ExecuteTime": {
     "end_time": "2024-11-14T23:42:03.493624Z",
     "start_time": "2024-11-14T23:41:59.245885Z"
    }
   },
   "source": [
    "USNames.clean_raw_data()\n",
    "USNames().head()"
   ],
   "outputs": [
    {
     "name": "stdout",
     "output_type": "stream",
     "text": [
      "US : Data is clean and conforms to the expected structure !\n"
     ]
    },
    {
     "data": {
      "text/plain": [
       "   Year       Name Sex  Count\n",
       "0  1880       MARY   F   7065\n",
       "1  1880       ANNA   F   2604\n",
       "2  1880       EMMA   F   2003\n",
       "3  1880  ELIZABETH   F   1939\n",
       "4  1880     MINNIE   F   1746"
      ],
      "text/html": [
       "<div>\n",
       "<style scoped>\n",
       "    .dataframe tbody tr th:only-of-type {\n",
       "        vertical-align: middle;\n",
       "    }\n",
       "\n",
       "    .dataframe tbody tr th {\n",
       "        vertical-align: top;\n",
       "    }\n",
       "\n",
       "    .dataframe thead th {\n",
       "        text-align: right;\n",
       "    }\n",
       "</style>\n",
       "<table border=\"1\" class=\"dataframe\">\n",
       "  <thead>\n",
       "    <tr style=\"text-align: right;\">\n",
       "      <th></th>\n",
       "      <th>Year</th>\n",
       "      <th>Name</th>\n",
       "      <th>Sex</th>\n",
       "      <th>Count</th>\n",
       "    </tr>\n",
       "  </thead>\n",
       "  <tbody>\n",
       "    <tr>\n",
       "      <th>0</th>\n",
       "      <td>1880</td>\n",
       "      <td>MARY</td>\n",
       "      <td>F</td>\n",
       "      <td>7065</td>\n",
       "    </tr>\n",
       "    <tr>\n",
       "      <th>1</th>\n",
       "      <td>1880</td>\n",
       "      <td>ANNA</td>\n",
       "      <td>F</td>\n",
       "      <td>2604</td>\n",
       "    </tr>\n",
       "    <tr>\n",
       "      <th>2</th>\n",
       "      <td>1880</td>\n",
       "      <td>EMMA</td>\n",
       "      <td>F</td>\n",
       "      <td>2003</td>\n",
       "    </tr>\n",
       "    <tr>\n",
       "      <th>3</th>\n",
       "      <td>1880</td>\n",
       "      <td>ELIZABETH</td>\n",
       "      <td>F</td>\n",
       "      <td>1939</td>\n",
       "    </tr>\n",
       "    <tr>\n",
       "      <th>4</th>\n",
       "      <td>1880</td>\n",
       "      <td>MINNIE</td>\n",
       "      <td>F</td>\n",
       "      <td>1746</td>\n",
       "    </tr>\n",
       "  </tbody>\n",
       "</table>\n",
       "</div>"
      ]
     },
     "execution_count": 17,
     "metadata": {},
     "output_type": "execute_result"
    }
   ],
   "execution_count": 17
  },
  {
   "cell_type": "markdown",
   "id": "4a76753e",
   "metadata": {},
   "source": [
    "### Merging the datasets\n",
    "If we want to answer a question with no regards to the provenance of the names, we can use our function to group all the datasets together"
   ]
  },
  {
   "cell_type": "code",
   "id": "eb777dfb",
   "metadata": {
    "ExecuteTime": {
     "end_time": "2024-11-14T23:42:17.302933Z",
     "start_time": "2024-11-14T23:42:03.618736Z"
    }
   },
   "source": [
    "from src.utils.names_utils import merge_names_data\n",
    "\n",
    "global_names = merge_names_data([ukNames, frenchNames, USNames])\n",
    "global_names().head()\n",
    "print(f\"The merged dataset contains {global_names().shape[0]} rows ! \")"
   ],
   "outputs": [
    {
     "name": "stdout",
     "output_type": "stream",
     "text": [
      "UK : Data is clean and conforms to the expected structure !\n",
      "France : Data is clean and conforms to the expected structure !\n",
      "US : Data is clean and conforms to the expected structure !\n",
      "UK & France & US : Data is clean and conforms to the expected structure !\n",
      "The merged dataset contains 2227359 rows ! \n"
     ]
    }
   ],
   "execution_count": 18
  },
  {
   "cell_type": "markdown",
   "id": "ff56f384",
   "metadata": {},
   "source": [
    "## Feature Visualization\n",
    "\n",
    "Lets visualize the different information from the datasets."
   ]
  },
  {
   "metadata": {
    "ExecuteTime": {
     "end_time": "2024-11-14T23:42:17.386027Z",
     "start_time": "2024-11-14T23:42:17.377035Z"
    }
   },
   "cell_type": "code",
   "source": "from src.utils.data_utils import *",
   "id": "361d5627dff4aa0d",
   "outputs": [],
   "execution_count": 19
  },
  {
   "cell_type": "code",
   "id": "22cb9eaa",
   "metadata": {
    "ExecuteTime": {
     "end_time": "2024-11-14T23:42:17.606378Z",
     "start_time": "2024-11-14T23:42:17.524810Z"
    }
   },
   "source": [
    "# Number of Nan values in the Movies & Character dataset\n",
    "mov_char_data.isna().sum()"
   ],
   "outputs": [
    {
     "data": {
      "text/plain": [
       "Wikipedia_movie_ID         0\n",
       "Movie_name                 0\n",
       "Release_date           40177\n",
       "Revenue               113277\n",
       "Runtime                15220\n",
       "Languages                  0\n",
       "Countries                  0\n",
       "Genres                  5666\n",
       "Character_name             0\n",
       "Actor_DOB              42769\n",
       "Actor_gender            6131\n",
       "Actor_height           93950\n",
       "Actor_name                 0\n",
       "Actor_age              51370\n",
       "dtype: int64"
      ]
     },
     "execution_count": 20,
     "metadata": {},
     "output_type": "execute_result"
    }
   ],
   "execution_count": 20
  },
  {
   "cell_type": "code",
   "id": "c995ee40",
   "metadata": {
    "ExecuteTime": {
     "end_time": "2024-11-14T23:42:17.777048Z",
     "start_time": "2024-11-14T23:42:17.714051Z"
    }
   },
   "source": [
    "# Number of nan in the Movies & Character dataset\n",
    "mov_char_data.isna().sum()"
   ],
   "outputs": [
    {
     "data": {
      "text/plain": [
       "Wikipedia_movie_ID         0\n",
       "Movie_name                 0\n",
       "Release_date           40177\n",
       "Revenue               113277\n",
       "Runtime                15220\n",
       "Languages                  0\n",
       "Countries                  0\n",
       "Genres                  5666\n",
       "Character_name             0\n",
       "Actor_DOB              42769\n",
       "Actor_gender            6131\n",
       "Actor_height           93950\n",
       "Actor_name                 0\n",
       "Actor_age              51370\n",
       "dtype: int64"
      ]
     },
     "execution_count": 21,
     "metadata": {},
     "output_type": "execute_result"
    }
   ],
   "execution_count": 21
  },
  {
   "cell_type": "code",
   "id": "f478355d",
   "metadata": {
    "ExecuteTime": {
     "end_time": "2024-11-14T23:42:18.412218Z",
     "start_time": "2024-11-14T23:42:17.871853Z"
    }
   },
   "source": [
    "# Visualizing the number of missing values per columns\n",
    "nan_percentage = mov_char_data.isnull().mean().sort_values(ascending=False)\n",
    "\n",
    "# Plot the percentage of NaN values per column\n",
    "ax = nan_percentage.plot(kind='bar', figsize=(16, 8), color='skyblue')\n",
    "plt.ylabel('Percentage of NaN values')\n",
    "plt.title('Percentage of NaN values in % per column')\n",
    "for p in ax.patches:\n",
    "    ax.annotate(f'{p.get_height():.2%}', (p.get_x() + p.get_width() / 2., p.get_height()),\n",
    "                ha='center', va='center', xytext=(0, 10), textcoords='offset points')\n",
    "plt.show()"
   ],
   "outputs": [
    {
     "data": {
      "text/plain": [
       "<Figure size 1600x800 with 1 Axes>"
      ],
      "image/png": "[encoded data removed]"
     },
     "metadata": {},
     "output_type": "display_data"
    }
   ],
   "execution_count": 22
  },
  {
   "cell_type": "markdown",
   "id": "0703a894",
   "metadata": {},
   "source": [
    "This graph illustrates the distribution of columns based on the percentage of NaN values present in each. It helps us understand how missing data is spread across different features, highlighting columns with higher or lower levels of incompleteness\n",
    "\n",
    "Top 50 movies revenue \n",
    "This graph displays the top 50 movies based only on the revenue."
   ]
  },
  {
   "cell_type": "code",
   "id": "daf2a309",
   "metadata": {
    "ExecuteTime": {
     "end_time": "2024-11-14T23:42:19.149820Z",
     "start_time": "2024-11-14T23:42:18.490539Z"
    }
   },
   "source": [
    "# Descriptive statistics for each column in dataframe with .head() method\n",
    "mov_char_data.describe(include='all').head()"
   ],
   "outputs": [
    {
     "data": {
      "text/plain": [
       "        Wikipedia_movie_ID            Movie_name  \\\n",
       "count         1.714000e+05                171400   \n",
       "unique                 NaN                 29805   \n",
       "top                    NaN  Hemingway & Gellhorn   \n",
       "freq                   NaN                   101   \n",
       "mean          1.329812e+07                   NaN   \n",
       "\n",
       "                         Release_date       Revenue  \\\n",
       "count                          131223  5.812300e+04   \n",
       "unique                            NaN           NaN   \n",
       "top                               NaN           NaN   \n",
       "freq                              NaN           NaN   \n",
       "mean    1991-12-11 02:33:08.925721984  9.449211e+07   \n",
       "\n",
       "                          Runtime Languages                 Countries  Genres  \\\n",
       "count                      156180    171400                    171400  165734   \n",
       "unique                        NaN      1140                      1240   13912   \n",
       "top                           NaN   English  United States of America   Drama   \n",
       "freq                          NaN     95902                     80157   10412   \n",
       "mean    0 days 01:51:56.190055064       NaN                       NaN     NaN   \n",
       "\n",
       "       Character_name                      Actor_DOB Actor_gender  \\\n",
       "count          171400                         128631       165269   \n",
       "unique         108621                            NaN            2   \n",
       "top            DOCTOR                            NaN            M   \n",
       "freq              186                            NaN       104790   \n",
       "mean              NaN  1951-03-04 10:35:32.443967616          NaN   \n",
       "\n",
       "        Actor_height Actor_name     Actor_age  \n",
       "count   77450.000000     171400  120030.00000  \n",
       "unique           NaN      66936           NaN  \n",
       "top              NaN  MEL BLANC           NaN  \n",
       "freq             NaN        505           NaN  \n",
       "mean        1.780589        NaN      36.96565  "
      ],
      "text/html": [
       "<div>\n",
       "<style scoped>\n",
       "    .dataframe tbody tr th:only-of-type {\n",
       "        vertical-align: middle;\n",
       "    }\n",
       "\n",
       "    .dataframe tbody tr th {\n",
       "        vertical-align: top;\n",
       "    }\n",
       "\n",
       "    .dataframe thead th {\n",
       "        text-align: right;\n",
       "    }\n",
       "</style>\n",
       "<table border=\"1\" class=\"dataframe\">\n",
       "  <thead>\n",
       "    <tr style=\"text-align: right;\">\n",
       "      <th></th>\n",
       "      <th>Wikipedia_movie_ID</th>\n",
       "      <th>Movie_name</th>\n",
       "      <th>Release_date</th>\n",
       "      <th>Revenue</th>\n",
       "      <th>Runtime</th>\n",
       "      <th>Languages</th>\n",
       "      <th>Countries</th>\n",
       "      <th>Genres</th>\n",
       "      <th>Character_name</th>\n",
       "      <th>Actor_DOB</th>\n",
       "      <th>Actor_gender</th>\n",
       "      <th>Actor_height</th>\n",
       "      <th>Actor_name</th>\n",
       "      <th>Actor_age</th>\n",
       "    </tr>\n",
       "  </thead>\n",
       "  <tbody>\n",
       "    <tr>\n",
       "      <th>count</th>\n",
       "      <td>1.714000e+05</td>\n",
       "      <td>171400</td>\n",
       "      <td>131223</td>\n",
       "      <td>5.812300e+04</td>\n",
       "      <td>156180</td>\n",
       "      <td>171400</td>\n",
       "      <td>171400</td>\n",
       "      <td>165734</td>\n",
       "      <td>171400</td>\n",
       "      <td>128631</td>\n",
       "      <td>165269</td>\n",
       "      <td>77450.000000</td>\n",
       "      <td>171400</td>\n",
       "      <td>120030.00000</td>\n",
       "    </tr>\n",
       "    <tr>\n",
       "      <th>unique</th>\n",
       "      <td>NaN</td>\n",
       "      <td>29805</td>\n",
       "      <td>NaN</td>\n",
       "      <td>NaN</td>\n",
       "      <td>NaN</td>\n",
       "      <td>1140</td>\n",
       "      <td>1240</td>\n",
       "      <td>13912</td>\n",
       "      <td>108621</td>\n",
       "      <td>NaN</td>\n",
       "      <td>2</td>\n",
       "      <td>NaN</td>\n",
       "      <td>66936</td>\n",
       "      <td>NaN</td>\n",
       "    </tr>\n",
       "    <tr>\n",
       "      <th>top</th>\n",
       "      <td>NaN</td>\n",
       "      <td>Hemingway &amp; Gellhorn</td>\n",
       "      <td>NaN</td>\n",
       "      <td>NaN</td>\n",
       "      <td>NaN</td>\n",
       "      <td>English</td>\n",
       "      <td>United States of America</td>\n",
       "      <td>Drama</td>\n",
       "      <td>DOCTOR</td>\n",
       "      <td>NaN</td>\n",
       "      <td>M</td>\n",
       "      <td>NaN</td>\n",
       "      <td>MEL BLANC</td>\n",
       "      <td>NaN</td>\n",
       "    </tr>\n",
       "    <tr>\n",
       "      <th>freq</th>\n",
       "      <td>NaN</td>\n",
       "      <td>101</td>\n",
       "      <td>NaN</td>\n",
       "      <td>NaN</td>\n",
       "      <td>NaN</td>\n",
       "      <td>95902</td>\n",
       "      <td>80157</td>\n",
       "      <td>10412</td>\n",
       "      <td>186</td>\n",
       "      <td>NaN</td>\n",
       "      <td>104790</td>\n",
       "      <td>NaN</td>\n",
       "      <td>505</td>\n",
       "      <td>NaN</td>\n",
       "    </tr>\n",
       "    <tr>\n",
       "      <th>mean</th>\n",
       "      <td>1.329812e+07</td>\n",
       "      <td>NaN</td>\n",
       "      <td>1991-12-11 02:33:08.925721984</td>\n",
       "      <td>9.449211e+07</td>\n",
       "      <td>0 days 01:51:56.190055064</td>\n",
       "      <td>NaN</td>\n",
       "      <td>NaN</td>\n",
       "      <td>NaN</td>\n",
       "      <td>NaN</td>\n",
       "      <td>1951-03-04 10:35:32.443967616</td>\n",
       "      <td>NaN</td>\n",
       "      <td>1.780589</td>\n",
       "      <td>NaN</td>\n",
       "      <td>36.96565</td>\n",
       "    </tr>\n",
       "  </tbody>\n",
       "</table>\n",
       "</div>"
      ]
     },
     "execution_count": 23,
     "metadata": {},
     "output_type": "execute_result"
    }
   ],
   "execution_count": 23
  },
  {
   "cell_type": "markdown",
   "id": "89983d94",
   "metadata": {},
   "source": [
    "#### Information about actor age\n",
    "\n",
    "We have here histogram plots showing the distribution of 3 features of the dataset: Actor age at the time of the movie release, Actor height and  Revenue of the movies.\n"
   ]
  },
  {
   "cell_type": "code",
   "id": "c016ebc3",
   "metadata": {
    "ExecuteTime": {
     "end_time": "2024-11-14T23:42:20.277965Z",
     "start_time": "2024-11-14T23:42:19.302009Z"
    }
   },
   "source": [
    "# Distribution of actor age\n",
    "sns.histplot(mov_char_data['Actor_age'], color='skyblue', kde=True, bins=30)\n",
    "plt.xlim(0, mov_char_data['Actor_age'].max())\n",
    "plt.title('Distribution of actor age')\n",
    "plt.xlabel('Age')\n",
    "plt.ylabel('Frequency')\n",
    "\n",
    "plt.show()\n"
   ],
   "outputs": [
    {
     "data": {
      "text/plain": [
       "<Figure size 640x480 with 1 Axes>"
      ],
      "image/png": "[encoded data removed]"
     },
     "metadata": {},
     "output_type": "display_data"
    }
   ],
   "execution_count": 24
  },
  {
   "metadata": {},
   "cell_type": "markdown",
   "source": [
    "Comment: The distribution of Actor age is approximately normal with a peak around the age of 30. This suggests that most actors are around 30 years old at the time of the movie release, with fewer actors being significantly younger or older.\n",
    "\n",
    "Let's check the type of distribution and the skewness of the data."
   ],
   "id": "7d00182e6728355c"
  },
  {
   "metadata": {
    "ExecuteTime": {
     "end_time": "2024-11-14T23:52:20.444236Z",
     "start_time": "2024-11-14T23:52:20.397270Z"
    }
   },
   "cell_type": "code",
   "source": [
    "check_normality(mov_char_data['Actor_age'])\n",
    "check_skewness(mov_char_data['Actor_age'])"
   ],
   "id": "ba91d856d4b1103",
   "outputs": [
    {
     "name": "stdout",
     "output_type": "stream",
     "text": [
      "Anderson-Darling Test Results:\n",
      "  Statistic: 851.546\n",
      "  Critical Values: [0.576 0.656 0.787 0.918 1.092]\n",
      "  Significance Levels: [15.  10.   5.   2.5  1. ]\n",
      "  Conclusion: Data does not look Gaussian (reject H0)\n",
      "The skewness score is: 0.5583759746602152 :\n",
      "the distribution is right skewed\n"
     ]
    }
   ],
   "execution_count": 30
  },
  {
   "metadata": {},
   "cell_type": "markdown",
   "source": "Regarding ",
   "id": "adab9fcb65f5d32d"
  },
  {
   "cell_type": "markdown",
   "id": "366ef47c",
   "metadata": {},
   "source": [
    "#### Information about actor height"
   ]
  },
  {
   "cell_type": "code",
   "id": "7682a8e4",
   "metadata": {},
   "source": [
    "# Distribution of actor height\n",
    "plt.xlim(0, mov_char_data['Actor_height'].max())\n",
    "plt.xlabel('Height')\n",
    "plt.ylabel('Frequency')\n",
    "plt.show()"
   ],
   "outputs": [],
   "execution_count": null
  },
  {
   "metadata": {},
   "cell_type": "code",
   "source": "Description: TO DO ",
   "id": "238c07a8c79bd399",
   "outputs": [],
   "execution_count": null
  },
  {
   "metadata": {
    "ExecuteTime": {
     "end_time": "2024-11-14T23:54:10.769943Z",
     "start_time": "2024-11-14T23:54:10.733157Z"
    }
   },
   "cell_type": "code",
   "source": [
    "check_normality(mov_char_data['Actor_height'])\n",
    "check_skewness(mov_char_data['Actor_height'])"
   ],
   "id": "c3d450bf761f8856",
   "outputs": [
    {
     "name": "stdout",
     "output_type": "stream",
     "text": [
      "Anderson-Darling Test Results:\n",
      "  Statistic: 28081.885\n",
      "  Critical Values: [0.576 0.656 0.787 0.918 1.092]\n",
      "  Significance Levels: [15.  10.   5.   2.5  1. ]\n",
      "  Conclusion: Data does not look Gaussian (reject H0)\n",
      "The skewness score is: 121.82569417203402 :\n",
      "the distribution is right skewed\n"
     ]
    }
   ],
   "execution_count": 31
  },
  {
   "cell_type": "markdown",
   "id": "b6a92ddd",
   "metadata": {},
   "source": [
    "#### Information about the Revenue "
   ]
  },
  {
   "cell_type": "code",
   "id": "914d35ec",
   "metadata": {},
   "source": [
    "# Distribution of Revenue in the dataset\n",
    "plt.figure(figsize=(12, 6))\n",
    "sns.histplot(mov_char_data['Revenue'], bins=30, kde=True, log_scale=True)\n",
    "plt.title(\"Distribution of Revenue\")\n",
    "plt.show()"
   ],
   "outputs": [],
   "execution_count": null
  },
  {
   "metadata": {},
   "cell_type": "markdown",
   "source": "Observation: the distribution of Revenue is right-skewed, meaning that most of the revenue values are concentrated on the lower end, with a long tail extending towards the higher revenue values.",
   "id": "bc255c8f7dd6208d"
  },
  {
   "metadata": {
    "ExecuteTime": {
     "end_time": "2024-11-14T23:44:48.058315Z",
     "start_time": "2024-11-14T23:44:48.026556Z"
    }
   },
   "cell_type": "code",
   "source": [
    "check_normality(mov_char_data['Revenue'])\n",
    "check_skewness(mov_char_data['Revenue'])"
   ],
   "id": "f44fb4159013e263",
   "outputs": [
    {
     "name": "stdout",
     "output_type": "stream",
     "text": [
      "Anderson-Darling Test: Statistic=7877.6305132057605, Critical Values=[0.576 0.656 0.787 0.918 1.092], Significance Levels=[15.  10.   5.   2.5  1. ]\n",
      "Data does not look Gaussian (reject H0)\n",
      "The skewness score is: 4.438157456041921 :\n",
      "the distribution is right skewed\n"
     ]
    }
   ],
   "execution_count": 28
  },
  {
   "cell_type": "markdown",
   "id": "37628a45",
   "metadata": {},
   "source": [
    "####  Visualizing the top 50 movies with biggest Revenue\n"
   ]
  },
  {
   "cell_type": "code",
   "id": "7a540a54",
   "metadata": {},
   "source": [
    "# Group by the Movie name \n",
    "top_50_movies = mov_char_data.groupby('Movie_name')['Revenue'].sum().sort_values(ascending=False).head(50)\n",
    "\n",
    "plt.figure(figsize=(16, 8))\n",
    "sns.barplot(x=top_50_movies.values, y=top_50_movies.index, palette='viridis')\n",
    "plt.xlabel('Revenue')\n",
    "plt.ylabel('Movie Name')\n",
    "plt.title('Top 50 movies with biggest Revenue')\n",
    "plt.show()\n",
    "\n"
   ],
   "outputs": [],
   "execution_count": null
  },
  {
   "cell_type": "markdown",
   "id": "6413d919",
   "metadata": {},
   "source": [
    "#### Information about Release_date"
   ]
  },
  {
   "cell_type": "code",
   "id": "7ba0c30c",
   "metadata": {},
   "source": [
    "# Visualizing the Release_date column information with sns with the number of movies on the top of each bar\n",
    "plt.figure(figsize=(10, 5))\n",
    "sns.histplot(mov_char_data['Release_date'].dt.year.dropna(), bins=range(1900, 2025, 1), kde=False)\n",
    "plt.title('Number of movies released per year')\n",
    "plt.xlabel('Year')\n",
    "plt.ylabel('Number of movies')\n",
    "plt.show()\n"
   ],
   "outputs": [],
   "execution_count": null
  },
  {
   "cell_type": "markdown",
   "id": "a065b0e8",
   "metadata": {},
   "source": [
    "#### Information about countries"
   ]
  },
  {
   "cell_type": "code",
   "id": "bf3bedf2",
   "metadata": {},
   "source": [
    "# grouping the movies by country\n",
    "movies_by_country = mov_char_data['Countries'].str.split(', ', expand=True).stack().reset_index(level=1, drop=True).rename('Country')\n",
    "movies_by_country = movies_by_country[movies_by_country != ''].value_counts()\n",
    "\n",
    "plt.figure(figsize=(20, 10))\n",
    "sns.barplot(x=movies_by_country.head(50), y=movies_by_country.head(50).index)\n",
    "\n",
    "for i, val in enumerate(movies_by_country.head(50)):\n",
    "    plt.text(val, i, val, ha='left', va='center')\n",
    "\n",
    "plt.title('Number of movies by country')\n",
    "plt.xlabel('Number of movies')\n",
    "plt.ylabel('Country')\n",
    "plt.show()\n"
   ],
   "outputs": [],
   "execution_count": null
  },
  {
   "cell_type": "markdown",
   "id": "ac6aa13b",
   "metadata": {},
   "source": [
    "It is obvious that the initial dataset is centered on occidental world, aside from the presence of indian movies. Fortunately it coincides with the fact that it is harder for us to find baby names data from non-occidental countries."
   ]
  },
  {
   "cell_type": "markdown",
   "id": "deed6318",
   "metadata": {},
   "source": [
    "#### Information about language"
   ]
  },
  {
   "cell_type": "code",
   "id": "aae26254",
   "metadata": {},
   "source": [
    "# grouping the movies by language\n",
    "movies_by_language = mov_char_data['Languages'].str.split(', ', expand=True).stack().reset_index(level=1, drop=True).rename('Languages')\n",
    "movies_by_language = movies_by_language[movies_by_language != ''].value_counts()\n",
    "\n",
    "\n",
    "plt.figure(figsize=(20, 10))\n",
    "sns.barplot(x=movies_by_language.head(50), y=movies_by_language.head(50).index)\n",
    "\n",
    "for i, val in enumerate(movies_by_language.head(50)):\n",
    "    plt.text(val, i, val, ha='left', va='center')\n",
    "\n",
    "plt.title('Number of movies by language')\n",
    "plt.xlabel('Number of movies')\n",
    "plt.ylabel('Language')\n",
    "plt.show()\n",
    "\n"
   ],
   "outputs": [],
   "execution_count": null
  },
  {
   "cell_type": "markdown",
   "id": "8151e554",
   "metadata": {},
   "source": [
    "#### Information about movies genre"
   ]
  },
  {
   "cell_type": "code",
   "id": "bfbe15fe",
   "metadata": {},
   "source": [
    "# Visualizing the genres of the movies with a pie chart (under 1% grouped as 'Other')\n",
    "\n",
    "\n",
    "# Grouping the movies by genre and counting the number of movies in each genre\n",
    "movies_by_genre = mov_char_data['Genres'].str.split(', ', expand=True).stack().reset_index(level=1, drop=True).rename('Genre')\n",
    "movies_by_genre = movies_by_genre[movies_by_genre != ''].value_counts()\n",
    "\n",
    "# Grouping the genres with less than 1% of the total number of movies as 'Other'\n",
    "threshold = 0.01\n",
    "total_movies = movies_by_genre.sum()\n",
    "movies_by_genre = movies_by_genre[movies_by_genre / total_movies > threshold]\n",
    "movies_by_genre['Other'] = total_movies - movies_by_genre.sum()\n",
    "\n",
    "\n",
    "\n",
    "# Visualizing the genres of the movies with a pie chart\n",
    "plt.figure(figsize=(10, 10))\n",
    "plt.pie(movies_by_genre, labels=movies_by_genre.index, autopct='%1.1f%%')\n",
    "plt.title('Genres of the movies')\n",
    "plt.show()\n",
    "\n"
   ],
   "outputs": [],
   "execution_count": null
  },
  {
   "cell_type": "markdown",
   "id": "493a9a5d",
   "metadata": {},
   "source": [
    "#### Information about the actor gender"
   ]
  },
  {
   "cell_type": "code",
   "id": "91387b4a",
   "metadata": {},
   "source": [
    "# Isolting the genders columns\n",
    "new_df = mov_char_data[['Actor_gender', 'Actor_name']]\n",
    "new_df.head()\n",
    "\n",
    "\n",
    "gender_counts = new_df['Actor_gender'].value_counts()\n",
    "\n",
    "# Calculate percentages\n",
    "gender_percentages = gender_counts / gender_counts.sum() * 100\n",
    "\n",
    "# Plotting the percentages using a pie chart\n",
    "plt.figure(figsize=(4, 4))\n",
    "plt.pie(gender_percentages, labels=gender_percentages.index, autopct='%1.1f%%', startangle=90)\n",
    "plt.title('Percentage of Actor Genders')\n",
    "plt.show()\n"
   ],
   "outputs": [],
   "execution_count": null
  },
  {
   "cell_type": "markdown",
   "id": "5284fda9",
   "metadata": {},
   "source": [
    "### Correlation matrix "
   ]
  },
  {
   "cell_type": "code",
   "id": "5cbf7485",
   "metadata": {},
   "source": [
    "def encode_categorical_features(df):\n",
    "    # Identify categorical features\n",
    "    categorical_features = df.select_dtypes(include=['object', 'category']).columns\n",
    "    \n",
    "    # Initialize a LabelEncoder\n",
    "    le = LabelEncoder()\n",
    "    \n",
    "    # Apply label encoding to each categorical feature\n",
    "    for feature in categorical_features:\n",
    "        df[feature] = le.fit_transform(df[feature].astype(str))\n",
    "    \n",
    "    return df\n",
    "\n",
    "def plot_correlation_matrix(df):\n",
    "    # Encode categorical features\n",
    "    df_encoded = encode_categorical_features(df.copy())\n",
    "    \n",
    "    # Calculate the correlation matrix, automatically excluding NaN values\n",
    "    corr_matrix = df_encoded.corr()\n",
    "    \n",
    "    # Plot the heatmap\n",
    "    plt.figure(figsize=(12, 10))\n",
    "    sns.heatmap(corr_matrix, annot=True, fmt='.2f', cmap='coolwarm', cbar=True, square=True)\n",
    "    plt.title('Correlation Matrix')\n",
    "    plt.show()"
   ],
   "outputs": [],
   "execution_count": null
  },
  {
   "cell_type": "code",
   "id": "096fdd7c",
   "metadata": {},
   "source": [
    "plot_correlation_matrix(mov_char_data)"
   ],
   "outputs": [],
   "execution_count": null
  },
  {
   "cell_type": "markdown",
   "id": "a62df261",
   "metadata": {},
   "source": [
    "We observe some very slight relationships within the movie and character dataset: a moderate positive correlation between 'Runtime' and 'Revenue' suggests that longer movies tend to generate more revenue. Conversely, a negative correlation between 'Languages' and 'Countries' indicates that films with more languages are produced in fewer countries, highlighting trends in film production and distribution."
   ]
  },
  {
   "cell_type": "markdown",
   "id": "71f6458c",
   "metadata": {},
   "source": [
    "## Trend evaluation\n",
    "To assess what impact a movie had on child naming, we first try a simple model that computes the average count of babies named like a character 5 years before and 5 years after the movie's release, and compute their difference. The higher it is, the higher the trend the year the film was released.\n",
    "\n",
    "Here is a demo of the model printing the top10 trend-inducing character names"
   ]
  },
  {
   "cell_type": "code",
   "id": "183cf556",
   "metadata": {},
   "source": [
    "from src.models.trend_evaluation import trend_eval_ranking\n",
    "\n",
    "ranking = trend_eval_ranking(global_names.clean_df, mov_char_data)\n",
    "print(ranking[[\"Character_name\",\"movie_name\",\"release_year\"]].head(10))\n"
   ],
   "outputs": [],
   "execution_count": null
  },
  {
   "cell_type": "markdown",
   "id": "d8594d30",
   "metadata": {},
   "source": [
    "### Trend visualisation\n",
    "Using the previously computed trend-inducing movies, we can now plot the baby name popularity over time with a red line on the year of the most influential movie for this name.\n",
    "\n",
    "Note that we need to indicate the name in uppercase for compatibility with name datasets and add the gender M/F to avoid confusion for androgenous names."
   ]
  },
  {
   "cell_type": "code",
   "id": "6d189a29",
   "metadata": {},
   "source": [
    "from src.models.trend_evaluation import plot_trend\n",
    "\n",
    "plot_trend(\"LUKE\", \"M\", ranking, global_names.clean_df)"
   ],
   "outputs": [],
   "execution_count": null
  },
  {
   "cell_type": "markdown",
   "id": "7e102211",
   "metadata": {},
   "source": [
    "## Name prediction\n",
    "\n",
    "To answer our research questions, we needed to find a method to determine if after a specific date, the count of name would follow an abnormal evolution.\n",
    "\n",
    "There are multiple ways to do it and for our first tentative, we decided to try interrupted time series.\n",
    "\n",
    "### ITS - Interrupted time series\n",
    "The concept is rather simple: at a specific point in time, we split our measurements in two parts and use the first one to train a model. This model will try to predict what the evolution would have been based on the previous behaviour and once we get it, we can compare it with the second part of the data that we kept. \n",
    "\n",
    "As mentioned in the explanation, we need to chose a model for this and after some researches, we decided to try the two following ones.\n",
    "\n",
    "We are still evaluating how well they are suited for our project, since the training sample is quite limited due to the granularity of the data. (Count is by year)\n",
    "\n",
    "#### SARIMA - Seasonal Autoregressive Integrated Moving Average\n",
    "Well known model for univariate time series forecasting, SARIMA is an extension of the ARIMA model and adds the support for time series with a seasonal behaviour in addition to the trend support of ARIMA. "
   ]
  },
  {
   "cell_type": "code",
   "id": "ec84451a",
   "metadata": {},
   "source": [
    "from src.models.naming_prediction import predict_naming_ARIMA\n",
    "\n",
    "prediction = predict_naming_ARIMA(global_names, \"LUKE\", 1976, 10, True)"
   ],
   "outputs": [],
   "execution_count": null
  },
  {
   "cell_type": "markdown",
   "id": "9f47ba8e",
   "metadata": {},
   "source": [
    "Here we asked our SARIMA model to forecast the counts for the name \"Luke\" from the year after the year 1976, which is when the first Star Wars movie was released. \n",
    "\n",
    "We can see that the the modelled curve has a slower growth than the actual one and this can be used to show an abnormal evolution of the count."
   ]
  },
  {
   "cell_type": "markdown",
   "id": "4f02c2ec",
   "metadata": {},
   "source": [
    "#### Prophet\n",
    "Developped by Facebook, Prophet is a fully automatic procedure made for time series forecasting that is used in various context due it's wide range of features (seasonality, holidy effect, ...)   "
   ]
  },
  {
   "cell_type": "code",
   "id": "499b4a95",
   "metadata": {},
   "source": [
    "from src.models.naming_prediction import predict_naming_prophet\n",
    "\n",
    "prediction = predict_naming_prophet(global_names, \"LUKE\", 1976, 10, True)"
   ],
   "outputs": [],
   "execution_count": null
  },
  {
   "cell_type": "markdown",
   "id": "b059c35b",
   "metadata": {},
   "source": [
    "This time, we use Facebook's Prophet to forecast the counts for the same parameters and we can already see a difference between the two models. Prophet is generally more resistant to outliers and here, this leads to a more important difference between the modelled data and the actual one.\n",
    "\n",
    "For now, those are only observations and we'll be investigated more thoroughly in the following days"
   ]
  },
  {
   "cell_type": "markdown",
   "id": "486f6ad5",
   "metadata": {},
   "source": [
    "#### Model conclusion\n",
    "We still need to compare the two models and see if the ITS approach would be beneficial for our project since other options are available."
   ]
  }
 ],
 "metadata": {
  "kernelspec": {
   "display_name": "ada",
   "language": "python",
   "name": "python3"
  },
  "language_info": {
   "codemirror_mode": {
    "name": "ipython",
    "version": 3
   },
   "file_extension": ".py",
   "mimetype": "text/x-python",
   "name": "python",
   "nbconvert_exporter": "python",
   "pygments_lexer": "ipython3",
   "version": "3.11.9"
  }
 },
 "nbformat": 4,
 "nbformat_minor": 5
}
