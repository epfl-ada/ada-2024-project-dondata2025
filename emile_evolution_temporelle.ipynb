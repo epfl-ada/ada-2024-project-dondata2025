{
 "cells": [
  {
   "cell_type": "code",
   "execution_count": 1,
   "metadata": {},
   "outputs": [
    {
     "name": "stdout",
     "output_type": "stream",
     "text": [
      "Number of influenced names with mean diff:  1585\n"
     ]
    },
    {
     "data": {
      "text/html": [
       "<div>\n",
       "<style scoped>\n",
       "    .dataframe tbody tr th:only-of-type {\n",
       "        vertical-align: middle;\n",
       "    }\n",
       "\n",
       "    .dataframe tbody tr th {\n",
       "        vertical-align: top;\n",
       "    }\n",
       "\n",
       "    .dataframe thead th {\n",
       "        text-align: right;\n",
       "    }\n",
       "</style>\n",
       "<table border=\"1\" class=\"dataframe\">\n",
       "  <thead>\n",
       "    <tr style=\"text-align: right;\">\n",
       "      <th></th>\n",
       "      <th>Wikipedia ID</th>\n",
       "      <th>Movie Name</th>\n",
       "      <th>Year</th>\n",
       "      <th>Character Name</th>\n",
       "      <th>Count</th>\n",
       "      <th>Full name</th>\n",
       "      <th>Normalized_name</th>\n",
       "      <th>Influence</th>\n",
       "    </tr>\n",
       "  </thead>\n",
       "  <tbody>\n",
       "    <tr>\n",
       "      <th>531</th>\n",
       "      <td>30006</td>\n",
       "      <td>the silence of the lambs</td>\n",
       "      <td>1991</td>\n",
       "      <td>Martin</td>\n",
       "      <td>2</td>\n",
       "      <td>Catherine Martin</td>\n",
       "      <td>MARTIN</td>\n",
       "      <td>418.6</td>\n",
       "    </tr>\n",
       "  </tbody>\n",
       "</table>\n",
       "</div>"
      ],
      "text/plain": [
       "     Wikipedia ID                Movie Name  Year Character Name  Count  \\\n",
       "531         30006  the silence of the lambs  1991         Martin      2   \n",
       "\n",
       "            Full name Normalized_name  Influence  \n",
       "531  Catherine Martin          MARTIN      418.6  "
      ]
     },
     "execution_count": 1,
     "metadata": {},
     "output_type": "execute_result"
    }
   ],
   "source": [
    "import pandas as pd\n",
    "\n",
    "mean_diff = pd.read_csv(\"data/clean/influenced_names_means_diff.csv\")\n",
    "influenced_meandiff = mean_diff[mean_diff[\"Influence\"] > 0]\n",
    "# removing common identification mistakes such as \"the\", \"a\" or \"Mr\"\n",
    "influenced_meandiff = influenced_meandiff[~influenced_meandiff[\"Character Name\"].isin([\"the\", \"a\", \"Mr\"])]\n",
    "print(\"Number of influenced names with mean diff: \", len(influenced_meandiff))\n",
    "influenced_meandiff.sample()\n",
    "\n"
   ]
  },
  {
   "cell_type": "code",
   "execution_count": 2,
   "metadata": {},
   "outputs": [
    {
     "name": "stdout",
     "output_type": "stream",
     "text": [
      "Number of influenced names with prophet:  432\n"
     ]
    },
    {
     "data": {
      "text/html": [
       "<div>\n",
       "<style scoped>\n",
       "    .dataframe tbody tr th:only-of-type {\n",
       "        vertical-align: middle;\n",
       "    }\n",
       "\n",
       "    .dataframe tbody tr th {\n",
       "        vertical-align: top;\n",
       "    }\n",
       "\n",
       "    .dataframe thead th {\n",
       "        text-align: right;\n",
       "    }\n",
       "</style>\n",
       "<table border=\"1\" class=\"dataframe\">\n",
       "  <thead>\n",
       "    <tr style=\"text-align: right;\">\n",
       "      <th></th>\n",
       "      <th>Wikipedia ID</th>\n",
       "      <th>Movie Name</th>\n",
       "      <th>Year</th>\n",
       "      <th>Character Name</th>\n",
       "      <th>Count</th>\n",
       "      <th>Full name</th>\n",
       "      <th>Normalized_name</th>\n",
       "      <th>Mean Difference</th>\n",
       "      <th>Influenced</th>\n",
       "    </tr>\n",
       "  </thead>\n",
       "  <tbody>\n",
       "    <tr>\n",
       "      <th>0</th>\n",
       "      <td>451866</td>\n",
       "      <td>mission: impossible ii</td>\n",
       "      <td>2000</td>\n",
       "      <td>Ethan</td>\n",
       "      <td>18</td>\n",
       "      <td>Ethan Hunt</td>\n",
       "      <td>ETHAN</td>\n",
       "      <td>15725.466667</td>\n",
       "      <td>1</td>\n",
       "    </tr>\n",
       "    <tr>\n",
       "      <th>1</th>\n",
       "      <td>633411</td>\n",
       "      <td>the avengers</td>\n",
       "      <td>1998</td>\n",
       "      <td>Emma</td>\n",
       "      <td>15</td>\n",
       "      <td>Emma Peel</td>\n",
       "      <td>EMMA</td>\n",
       "      <td>14985.966667</td>\n",
       "      <td>1</td>\n",
       "    </tr>\n",
       "    <tr>\n",
       "      <th>2</th>\n",
       "      <td>3727473</td>\n",
       "      <td>man on fire</td>\n",
       "      <td>1987</td>\n",
       "      <td>Samantha</td>\n",
       "      <td>4</td>\n",
       "      <td>Samantha \"Sam\" Balletto</td>\n",
       "      <td>SAMANTHA</td>\n",
       "      <td>14453.500000</td>\n",
       "      <td>1</td>\n",
       "    </tr>\n",
       "    <tr>\n",
       "      <th>3</th>\n",
       "      <td>347000</td>\n",
       "      <td>suspiria</td>\n",
       "      <td>1977</td>\n",
       "      <td>Sarah</td>\n",
       "      <td>15</td>\n",
       "      <td>Sarah</td>\n",
       "      <td>SARAH</td>\n",
       "      <td>14372.466667</td>\n",
       "      <td>1</td>\n",
       "    </tr>\n",
       "    <tr>\n",
       "      <th>5</th>\n",
       "      <td>320401</td>\n",
       "      <td>barton fink</td>\n",
       "      <td>1991</td>\n",
       "      <td>Taylor</td>\n",
       "      <td>3</td>\n",
       "      <td>Audrey Taylor</td>\n",
       "      <td>TAYLOR</td>\n",
       "      <td>13892.100000</td>\n",
       "      <td>1</td>\n",
       "    </tr>\n",
       "  </tbody>\n",
       "</table>\n",
       "</div>"
      ],
      "text/plain": [
       "   Wikipedia ID              Movie Name  Year Character Name  Count  \\\n",
       "0        451866  mission: impossible ii  2000          Ethan     18   \n",
       "1        633411            the avengers  1998           Emma     15   \n",
       "2       3727473             man on fire  1987       Samantha      4   \n",
       "3        347000                suspiria  1977          Sarah     15   \n",
       "5        320401             barton fink  1991         Taylor      3   \n",
       "\n",
       "                 Full name Normalized_name  Mean Difference  Influenced  \n",
       "0               Ethan Hunt           ETHAN     15725.466667           1  \n",
       "1                Emma Peel            EMMA     14985.966667           1  \n",
       "2  Samantha \"Sam\" Balletto        SAMANTHA     14453.500000           1  \n",
       "3                    Sarah           SARAH     14372.466667           1  \n",
       "5            Audrey Taylor          TAYLOR     13892.100000           1  "
      ]
     },
     "execution_count": 2,
     "metadata": {},
     "output_type": "execute_result"
    }
   ],
   "source": [
    "prophet = pd.read_csv(\"data/clean/influenced_names_prophet.csv\")\n",
    "influenced_prophet = prophet[prophet[\"Influenced\"] > 0]\n",
    "# removing common identification mistakes such as \"the\", \"a\" or \"Mr\"\n",
    "influenced_prophet = influenced_prophet[~influenced_prophet[\"Character Name\"].isin([\"the\", \"a\", \"Mr\"])]\n",
    "print(\"Number of influenced names with prophet: \", len(influenced_prophet))\n",
    "influenced_prophet.head()"
   ]
  },
  {
   "cell_type": "code",
   "execution_count": 25,
   "metadata": {},
   "outputs": [
    {
     "data": {
      "application/vnd.plotly.v1+json": {
       "config": {
        "plotlyServerURL": "https://plot.ly"
       },
       "data": [
        {
         "line": {
          "color": "blue"
         },
         "mode": "lines",
         "name": "Baby Name Count",
         "type": "scatter",
         "x": [
          1961,
          1962,
          1963,
          1964,
          1965,
          1966,
          1967,
          1968,
          1969,
          1970,
          1971,
          1972,
          1973,
          1974,
          1975,
          1976,
          1977,
          1978,
          1979,
          1980,
          1981,
          1982,
          1983,
          1984,
          1985,
          1986,
          1987,
          1988,
          1989,
          1990,
          1991,
          1992,
          1993,
          1994,
          1995,
          1996,
          1997,
          1998,
          1999,
          2000,
          2001,
          2002,
          2003,
          2004,
          2005,
          2006,
          2007,
          2010
         ],
         "y": [
          6,
          2,
          3,
          2,
          8,
          4,
          10,
          8,
          5,
          3,
          4,
          1,
          5,
          3,
          6,
          4,
          9,
          16,
          12,
          8,
          8,
          7,
          7,
          12,
          9,
          17,
          13,
          10,
          17,
          8,
          17,
          14,
          13,
          12,
          21,
          13,
          16,
          16,
          7,
          11,
          13,
          7,
          10,
          14,
          10,
          6,
          4,
          1
         ]
        }
       ],
       "layout": {
        "legend": {
         "title": {
          "text": "Legend"
         }
        },
        "template": {
         "data": {
          "bar": [
           {
            "error_x": {
             "color": "#2a3f5f"
            },
            "error_y": {
             "color": "#2a3f5f"
            },
            "marker": {
             "line": {
              "color": "white",
              "width": 0.5
             },
             "pattern": {
              "fillmode": "overlay",
              "size": 10,
              "solidity": 0.2
             }
            },
            "type": "bar"
           }
          ],
          "barpolar": [
           {
            "marker": {
             "line": {
              "color": "white",
              "width": 0.5
             },
             "pattern": {
              "fillmode": "overlay",
              "size": 10,
              "solidity": 0.2
             }
            },
            "type": "barpolar"
           }
          ],
          "carpet": [
           {
            "aaxis": {
             "endlinecolor": "#2a3f5f",
             "gridcolor": "#C8D4E3",
             "linecolor": "#C8D4E3",
             "minorgridcolor": "#C8D4E3",
             "startlinecolor": "#2a3f5f"
            },
            "baxis": {
             "endlinecolor": "#2a3f5f",
             "gridcolor": "#C8D4E3",
             "linecolor": "#C8D4E3",
             "minorgridcolor": "#C8D4E3",
             "startlinecolor": "#2a3f5f"
            },
            "type": "carpet"
           }
          ],
          "choropleth": [
           {
            "colorbar": {
             "outlinewidth": 0,
             "ticks": ""
            },
            "type": "choropleth"
           }
          ],
          "contour": [
           {
            "colorbar": {
             "outlinewidth": 0,
             "ticks": ""
            },
            "colorscale": [
             [
              0,
              "#0d0887"
             ],
             [
              0.1111111111111111,
              "#46039f"
             ],
             [
              0.2222222222222222,
              "#7201a8"
             ],
             [
              0.3333333333333333,
              "#9c179e"
             ],
             [
              0.4444444444444444,
              "#bd3786"
             ],
             [
              0.5555555555555556,
              "#d8576b"
             ],
             [
              0.6666666666666666,
              "#ed7953"
             ],
             [
              0.7777777777777778,
              "#fb9f3a"
             ],
             [
              0.8888888888888888,
              "#fdca26"
             ],
             [
              1,
              "#f0f921"
             ]
            ],
            "type": "contour"
           }
          ],
          "contourcarpet": [
           {
            "colorbar": {
             "outlinewidth": 0,
             "ticks": ""
            },
            "type": "contourcarpet"
           }
          ],
          "heatmap": [
           {
            "colorbar": {
             "outlinewidth": 0,
             "ticks": ""
            },
            "colorscale": [
             [
              0,
              "#0d0887"
             ],
             [
              0.1111111111111111,
              "#46039f"
             ],
             [
              0.2222222222222222,
              "#7201a8"
             ],
             [
              0.3333333333333333,
              "#9c179e"
             ],
             [
              0.4444444444444444,
              "#bd3786"
             ],
             [
              0.5555555555555556,
              "#d8576b"
             ],
             [
              0.6666666666666666,
              "#ed7953"
             ],
             [
              0.7777777777777778,
              "#fb9f3a"
             ],
             [
              0.8888888888888888,
              "#fdca26"
             ],
             [
              1,
              "#f0f921"
             ]
            ],
            "type": "heatmap"
           }
          ],
          "heatmapgl": [
           {
            "colorbar": {
             "outlinewidth": 0,
             "ticks": ""
            },
            "colorscale": [
             [
              0,
              "#0d0887"
             ],
             [
              0.1111111111111111,
              "#46039f"
             ],
             [
              0.2222222222222222,
              "#7201a8"
             ],
             [
              0.3333333333333333,
              "#9c179e"
             ],
             [
              0.4444444444444444,
              "#bd3786"
             ],
             [
              0.5555555555555556,
              "#d8576b"
             ],
             [
              0.6666666666666666,
              "#ed7953"
             ],
             [
              0.7777777777777778,
              "#fb9f3a"
             ],
             [
              0.8888888888888888,
              "#fdca26"
             ],
             [
              1,
              "#f0f921"
             ]
            ],
            "type": "heatmapgl"
           }
          ],
          "histogram": [
           {
            "marker": {
             "pattern": {
              "fillmode": "overlay",
              "size": 10,
              "solidity": 0.2
             }
            },
            "type": "histogram"
           }
          ],
          "histogram2d": [
           {
            "colorbar": {
             "outlinewidth": 0,
             "ticks": ""
            },
            "colorscale": [
             [
              0,
              "#0d0887"
             ],
             [
              0.1111111111111111,
              "#46039f"
             ],
             [
              0.2222222222222222,
              "#7201a8"
             ],
             [
              0.3333333333333333,
              "#9c179e"
             ],
             [
              0.4444444444444444,
              "#bd3786"
             ],
             [
              0.5555555555555556,
              "#d8576b"
             ],
             [
              0.6666666666666666,
              "#ed7953"
             ],
             [
              0.7777777777777778,
              "#fb9f3a"
             ],
             [
              0.8888888888888888,
              "#fdca26"
             ],
             [
              1,
              "#f0f921"
             ]
            ],
            "type": "histogram2d"
           }
          ],
          "histogram2dcontour": [
           {
            "colorbar": {
             "outlinewidth": 0,
             "ticks": ""
            },
            "colorscale": [
             [
              0,
              "#0d0887"
             ],
             [
              0.1111111111111111,
              "#46039f"
             ],
             [
              0.2222222222222222,
              "#7201a8"
             ],
             [
              0.3333333333333333,
              "#9c179e"
             ],
             [
              0.4444444444444444,
              "#bd3786"
             ],
             [
              0.5555555555555556,
              "#d8576b"
             ],
             [
              0.6666666666666666,
              "#ed7953"
             ],
             [
              0.7777777777777778,
              "#fb9f3a"
             ],
             [
              0.8888888888888888,
              "#fdca26"
             ],
             [
              1,
              "#f0f921"
             ]
            ],
            "type": "histogram2dcontour"
           }
          ],
          "mesh3d": [
           {
            "colorbar": {
             "outlinewidth": 0,
             "ticks": ""
            },
            "type": "mesh3d"
           }
          ],
          "parcoords": [
           {
            "line": {
             "colorbar": {
              "outlinewidth": 0,
              "ticks": ""
             }
            },
            "type": "parcoords"
           }
          ],
          "pie": [
           {
            "automargin": true,
            "type": "pie"
           }
          ],
          "scatter": [
           {
            "fillpattern": {
             "fillmode": "overlay",
             "size": 10,
             "solidity": 0.2
            },
            "type": "scatter"
           }
          ],
          "scatter3d": [
           {
            "line": {
             "colorbar": {
              "outlinewidth": 0,
              "ticks": ""
             }
            },
            "marker": {
             "colorbar": {
              "outlinewidth": 0,
              "ticks": ""
             }
            },
            "type": "scatter3d"
           }
          ],
          "scattercarpet": [
           {
            "marker": {
             "colorbar": {
              "outlinewidth": 0,
              "ticks": ""
             }
            },
            "type": "scattercarpet"
           }
          ],
          "scattergeo": [
           {
            "marker": {
             "colorbar": {
              "outlinewidth": 0,
              "ticks": ""
             }
            },
            "type": "scattergeo"
           }
          ],
          "scattergl": [
           {
            "marker": {
             "colorbar": {
              "outlinewidth": 0,
              "ticks": ""
             }
            },
            "type": "scattergl"
           }
          ],
          "scattermapbox": [
           {
            "marker": {
             "colorbar": {
              "outlinewidth": 0,
              "ticks": ""
             }
            },
            "type": "scattermapbox"
           }
          ],
          "scatterpolar": [
           {
            "marker": {
             "colorbar": {
              "outlinewidth": 0,
              "ticks": ""
             }
            },
            "type": "scatterpolar"
           }
          ],
          "scatterpolargl": [
           {
            "marker": {
             "colorbar": {
              "outlinewidth": 0,
              "ticks": ""
             }
            },
            "type": "scatterpolargl"
           }
          ],
          "scatterternary": [
           {
            "marker": {
             "colorbar": {
              "outlinewidth": 0,
              "ticks": ""
             }
            },
            "type": "scatterternary"
           }
          ],
          "surface": [
           {
            "colorbar": {
             "outlinewidth": 0,
             "ticks": ""
            },
            "colorscale": [
             [
              0,
              "#0d0887"
             ],
             [
              0.1111111111111111,
              "#46039f"
             ],
             [
              0.2222222222222222,
              "#7201a8"
             ],
             [
              0.3333333333333333,
              "#9c179e"
             ],
             [
              0.4444444444444444,
              "#bd3786"
             ],
             [
              0.5555555555555556,
              "#d8576b"
             ],
             [
              0.6666666666666666,
              "#ed7953"
             ],
             [
              0.7777777777777778,
              "#fb9f3a"
             ],
             [
              0.8888888888888888,
              "#fdca26"
             ],
             [
              1,
              "#f0f921"
             ]
            ],
            "type": "surface"
           }
          ],
          "table": [
           {
            "cells": {
             "fill": {
              "color": "#EBF0F8"
             },
             "line": {
              "color": "white"
             }
            },
            "header": {
             "fill": {
              "color": "#C8D4E3"
             },
             "line": {
              "color": "white"
             }
            },
            "type": "table"
           }
          ]
         },
         "layout": {
          "annotationdefaults": {
           "arrowcolor": "#2a3f5f",
           "arrowhead": 0,
           "arrowwidth": 1
          },
          "autotypenumbers": "strict",
          "coloraxis": {
           "colorbar": {
            "outlinewidth": 0,
            "ticks": ""
           }
          },
          "colorscale": {
           "diverging": [
            [
             0,
             "#8e0152"
            ],
            [
             0.1,
             "#c51b7d"
            ],
            [
             0.2,
             "#de77ae"
            ],
            [
             0.3,
             "#f1b6da"
            ],
            [
             0.4,
             "#fde0ef"
            ],
            [
             0.5,
             "#f7f7f7"
            ],
            [
             0.6,
             "#e6f5d0"
            ],
            [
             0.7,
             "#b8e186"
            ],
            [
             0.8,
             "#7fbc41"
            ],
            [
             0.9,
             "#4d9221"
            ],
            [
             1,
             "#276419"
            ]
           ],
           "sequential": [
            [
             0,
             "#0d0887"
            ],
            [
             0.1111111111111111,
             "#46039f"
            ],
            [
             0.2222222222222222,
             "#7201a8"
            ],
            [
             0.3333333333333333,
             "#9c179e"
            ],
            [
             0.4444444444444444,
             "#bd3786"
            ],
            [
             0.5555555555555556,
             "#d8576b"
            ],
            [
             0.6666666666666666,
             "#ed7953"
            ],
            [
             0.7777777777777778,
             "#fb9f3a"
            ],
            [
             0.8888888888888888,
             "#fdca26"
            ],
            [
             1,
             "#f0f921"
            ]
           ],
           "sequentialminus": [
            [
             0,
             "#0d0887"
            ],
            [
             0.1111111111111111,
             "#46039f"
            ],
            [
             0.2222222222222222,
             "#7201a8"
            ],
            [
             0.3333333333333333,
             "#9c179e"
            ],
            [
             0.4444444444444444,
             "#bd3786"
            ],
            [
             0.5555555555555556,
             "#d8576b"
            ],
            [
             0.6666666666666666,
             "#ed7953"
            ],
            [
             0.7777777777777778,
             "#fb9f3a"
            ],
            [
             0.8888888888888888,
             "#fdca26"
            ],
            [
             1,
             "#f0f921"
            ]
           ]
          },
          "colorway": [
           "#636efa",
           "#EF553B",
           "#00cc96",
           "#ab63fa",
           "#FFA15A",
           "#19d3f3",
           "#FF6692",
           "#B6E880",
           "#FF97FF",
           "#FECB52"
          ],
          "font": {
           "color": "#2a3f5f"
          },
          "geo": {
           "bgcolor": "white",
           "lakecolor": "white",
           "landcolor": "white",
           "showlakes": true,
           "showland": true,
           "subunitcolor": "#C8D4E3"
          },
          "hoverlabel": {
           "align": "left"
          },
          "hovermode": "closest",
          "mapbox": {
           "style": "light"
          },
          "paper_bgcolor": "white",
          "plot_bgcolor": "white",
          "polar": {
           "angularaxis": {
            "gridcolor": "#EBF0F8",
            "linecolor": "#EBF0F8",
            "ticks": ""
           },
           "bgcolor": "white",
           "radialaxis": {
            "gridcolor": "#EBF0F8",
            "linecolor": "#EBF0F8",
            "ticks": ""
           }
          },
          "scene": {
           "xaxis": {
            "backgroundcolor": "white",
            "gridcolor": "#DFE8F3",
            "gridwidth": 2,
            "linecolor": "#EBF0F8",
            "showbackground": true,
            "ticks": "",
            "zerolinecolor": "#EBF0F8"
           },
           "yaxis": {
            "backgroundcolor": "white",
            "gridcolor": "#DFE8F3",
            "gridwidth": 2,
            "linecolor": "#EBF0F8",
            "showbackground": true,
            "ticks": "",
            "zerolinecolor": "#EBF0F8"
           },
           "zaxis": {
            "backgroundcolor": "white",
            "gridcolor": "#DFE8F3",
            "gridwidth": 2,
            "linecolor": "#EBF0F8",
            "showbackground": true,
            "ticks": "",
            "zerolinecolor": "#EBF0F8"
           }
          },
          "shapedefaults": {
           "line": {
            "color": "#2a3f5f"
           }
          },
          "ternary": {
           "aaxis": {
            "gridcolor": "#DFE8F3",
            "linecolor": "#A2B1C6",
            "ticks": ""
           },
           "baxis": {
            "gridcolor": "#DFE8F3",
            "linecolor": "#A2B1C6",
            "ticks": ""
           },
           "bgcolor": "white",
           "caxis": {
            "gridcolor": "#DFE8F3",
            "linecolor": "#A2B1C6",
            "ticks": ""
           }
          },
          "title": {
           "x": 0.05
          },
          "xaxis": {
           "automargin": true,
           "gridcolor": "#EBF0F8",
           "linecolor": "#EBF0F8",
           "ticks": "",
           "title": {
            "standoff": 15
           },
           "zerolinecolor": "#EBF0F8",
           "zerolinewidth": 2
          },
          "yaxis": {
           "automargin": true,
           "gridcolor": "#EBF0F8",
           "linecolor": "#EBF0F8",
           "ticks": "",
           "title": {
            "standoff": 15
           },
           "zerolinecolor": "#EBF0F8",
           "zerolinewidth": 2
          }
         }
        },
        "title": {
         "text": "Number of Names influenced by movies per Year"
        },
        "width": 800,
        "xaxis": {
         "title": {
          "text": "Year"
         }
        },
        "yaxis": {
         "title": {
          "text": "Count"
         }
        }
       }
      }
     },
     "metadata": {},
     "output_type": "display_data"
    }
   ],
   "source": [
    "import plotly.express as px\n",
    "import plotly.graph_objects as go\n",
    "names_per_year = influenced_prophet.groupby(\"Year\").size().reset_index(name=\"Count\")\n",
    "\n",
    "# Create the figure\n",
    "fig = go.Figure()\n",
    "\n",
    "    # Add line for baby name count over time\n",
    "fig.add_trace(\n",
    "    go.Scatter(\n",
    "        x=names_per_year['Year'], \n",
    "        y=names_per_year['Count'], \n",
    "        mode='lines',\n",
    "        name='Baby Name Count',\n",
    "        line=dict(color='blue')\n",
    "    )\n",
    ")\n",
    "\n",
    "fig.update_layout(\n",
    "        title=\"Number of Names influenced by movies per Year\",\n",
    "        xaxis_title='Year',\n",
    "        yaxis_title='Count',\n",
    "        legend_title=\"Legend\",\n",
    "        template=\"plotly_white\",\n",
    "        width=800\n",
    "        )   \n",
    "\n",
    "fig.show()\n",
    "fig.write_html(\"docs/_includes/influenced_names_per_year.html\")\n",
    "\n",
    "\n",
    "\n"
   ]
  },
  {
   "cell_type": "code",
   "execution_count": 16,
   "metadata": {},
   "outputs": [
    {
     "data": {
      "application/vnd.plotly.v1+json": {
       "config": {
        "plotlyServerURL": "https://plot.ly"
       },
       "data": [],
       "frames": [
        {
         "layout": {
          "annotations": [
           {
            "align": "center",
            "font": {
             "size": 16
            },
            "showarrow": false,
            "text": "Influenced Names in 1961:<br>Jorge from viridiana,<br>José from breakfast at tiffany's,<br>Holly from breakfast at tiffany's,<br>Roberto from la notte,<br>Bernardo from west side story,<br>Valentina from la notte",
            "x": 0.5,
            "xref": "paper",
            "y": 0.5,
            "yref": "paper"
           }
          ]
         },
         "name": "1961"
        },
        {
         "layout": {
          "annotations": [
           {
            "align": "center",
            "font": {
             "size": 16
            },
            "showarrow": false,
            "text": "Influenced Names in 1962:<br>Hudson from what ever happened to baby jane?,<br>Ali from lawrence of arabia",
            "x": 0.5,
            "xref": "paper",
            "y": 0.5,
            "yref": "paper"
           }
          ]
         },
         "name": "1962"
        },
        {
         "layout": {
          "annotations": [
           {
            "align": "center",
            "font": {
             "size": 16
            },
            "showarrow": false,
            "text": "Influenced Names in 1963:<br>Johan from the silence,<br>Hill from the haunting,<br>Marcus from it's a mad, mad, mad, mad world",
            "x": 0.5,
            "xref": "paper",
            "y": 0.5,
            "yref": "paper"
           }
          ]
         },
         "name": "1963"
        },
        {
         "layout": {
          "annotations": [
           {
            "align": "center",
            "font": {
             "size": 16
            },
            "showarrow": false,
            "text": "Influenced Names in 1964:<br>Antonio from a fistful of dollars,<br>Alexei from dr. strangelove or: how i learned to stop worrying and love the bomb",
            "x": 0.5,
            "xref": "paper",
            "y": 0.5,
            "yref": "paper"
           }
          ]
         },
         "name": "1964"
        },
        {
         "layout": {
          "annotations": [
           {
            "align": "center",
            "font": {
             "size": 16
            },
            "showarrow": false,
            "text": "Influenced Names in 1965:<br>Yuri from doctor zhivago,<br>Lara from doctor zhivago,<br>Lara from doctor zhivago,<br>Yuri from doctor zhivago,<br>Carlos from the flight of the phoenix,<br>Tonya from doctor zhivago,<br>Tonya from doctor zhivago,<br>Pasha from doctor zhivago",
            "x": 0.5,
            "xref": "paper",
            "y": 0.5,
            "yref": "paper"
           }
          ]
         },
         "name": "1965"
        },
        {
         "layout": {
          "annotations": [
           {
            "align": "center",
            "font": {
             "size": 16
            },
            "showarrow": false,
            "text": "Influenced Names in 1966:<br>Blondie from the good, the bad and the ugly,<br>Simon from how to steal a million,<br>Andrei from andrei rublev,<br>Nicole from how to steal a million",
            "x": 0.5,
            "xref": "paper",
            "y": 0.5,
            "yref": "paper"
           }
          ]
         },
         "name": "1966"
        },
        {
         "layout": {
          "annotations": [
           {
            "align": "center",
            "font": {
             "size": 16
            },
            "showarrow": false,
            "text": "Influenced Names in 1967:<br>Corie from barefoot in the park,<br>Sarah from the fearless vampire killers,<br>Benjamin from the graduate,<br>Lucas from cool hand luke,<br>Hugo from point blank,<br>Buck from bonnie and clyde,<br>Joanna from two for the road,<br>Parker from bonnie and clyde,<br>Walker from point blank,<br>Moss from bonnie and clyde",
            "x": 0.5,
            "xref": "paper",
            "y": 0.5,
            "yref": "paper"
           }
          ]
         },
         "name": "1967"
        },
        {
         "layout": {
          "annotations": [
           {
            "align": "center",
            "font": {
             "size": 16
            },
            "showarrow": false,
            "text": "Influenced Names in 1968:<br>Jeremy from yellow submarine,<br>Noah from oliver!,<br>Jonathan from where eagles dare,<br>Oscar from the odd couple,<br>Jemima from chitty chitty bang bang,<br>Abraham from rosemary's baby,<br>Wyatt from where eagles dare,<br>Cornelius from planet of the apes",
            "x": 0.5,
            "xref": "paper",
            "y": 0.5,
            "yref": "paper"
           }
          ]
         },
         "name": "1968"
        },
        {
         "layout": {
          "annotations": [
           {
            "align": "center",
            "font": {
             "size": 16
            },
            "showarrow": false,
            "text": "Influenced Names in 1969:<br>Jacob from paint your wagon,<br>Reuben from true grit,<br>Deke from the wild bunch,<br>Angel from the wild bunch,<br>Cornelius from hello dolly!",
            "x": 0.5,
            "xref": "paper",
            "y": 0.5,
            "yref": "paper"
           }
          ]
         },
         "name": "1969"
        },
        {
         "layout": {
          "annotations": [
           {
            "align": "center",
            "font": {
             "size": 16
            },
            "showarrow": false,
            "text": "Influenced Names in 1970:<br>Elton from five easy pieces,<br>Colt from kelly's heroes,<br>Abigail from the aristocats",
            "x": 0.5,
            "xref": "paper",
            "y": 0.5,
            "yref": "paper"
           }
          ]
         },
         "name": "1970"
        },
        {
         "layout": {
          "annotations": [
           {
            "align": "center",
            "font": {
             "size": 16
            },
            "showarrow": false,
            "text": "Influenced Names in 1971:<br>Jacy from the last picture show,<br>Armando from escape from the planet of the apes,<br>Cornelius from escape from the planet of the apes,<br>Crawford from the last picture show",
            "x": 0.5,
            "xref": "paper",
            "y": 0.5,
            "yref": "paper"
           }
          ]
         },
         "name": "1971"
        },
        {
         "layout": {
          "annotations": [
           {
            "align": "center",
            "font": {
             "size": 16
            },
            "showarrow": false,
            "text": "Influenced Names in 1972:<br>Manny from the poseidon adventure",
            "x": 0.5,
            "xref": "paper",
            "y": 0.5,
            "yref": "paper"
           }
          ]
         },
         "name": "1972"
        },
        {
         "layout": {
          "annotations": [
           {
            "align": "center",
            "font": {
             "size": 16
            },
            "showarrow": false,
            "text": "Influenced Names in 1973:<br>Neil from the wicker man,<br>Solomon from soylent green,<br>Duncan from high plains drifter,<br>Damien from the exorcist,<br>Regan from the exorcist",
            "x": 0.5,
            "xref": "paper",
            "y": 0.5,
            "yref": "paper"
           }
          ]
         },
         "name": "1973"
        },
        {
         "layout": {
          "annotations": [
           {
            "align": "center",
            "font": {
             "size": 16
            },
            "showarrow": false,
            "text": "Influenced Names in 1974:<br>Duncan from the towering inferno,<br>Clare from black christmas,<br>Elizabeth from young frankenstein",
            "x": 0.5,
            "xref": "paper",
            "y": 0.5,
            "yref": "paper"
           }
          ]
         },
         "name": "1974"
        },
        {
         "layout": {
          "annotations": [
           {
            "align": "center",
            "font": {
             "size": 16
            },
            "showarrow": false,
            "text": "Influenced Names in 1975:<br>Sara from picnic at hanging rock,<br>Marion from picnic at hanging rock,<br>Ben from picnic at hanging rock,<br>Ben from jaws,<br>Miranda from picnic at hanging rock,<br>Rocky from the rocky horror picture show",
            "x": 0.5,
            "xref": "paper",
            "y": 0.5,
            "yref": "paper"
           }
          ]
         },
         "name": "1975"
        },
        {
         "layout": {
          "annotations": [
           {
            "align": "center",
            "font": {
             "size": 16
            },
            "showarrow": false,
            "text": "Influenced Names in 1976:<br>Katherine from the omen,<br>Thomas from marathon man,<br>Logan from logan's run,<br>Josey from the outlaw josey wales",
            "x": 0.5,
            "xref": "paper",
            "y": 0.5,
            "yref": "paper"
           }
          ]
         },
         "name": "1976"
        },
        {
         "layout": {
          "annotations": [
           {
            "align": "center",
            "font": {
             "size": 16
            },
            "showarrow": false,
            "text": "Influenced Names in 1977:<br>Elliott from pete's dragon,<br>Pauline from saturday night fever,<br>Annie from annie hall,<br>Jillian from close encounters of the third kind,<br>Braden from slap shot,<br>Luke from star wars episode iv: a new hope,<br>Sarah from suspiria,<br>Daniel from suspiria,<br>Barry from close encounters of the third kind",
            "x": 0.5,
            "xref": "paper",
            "y": 0.5,
            "yref": "paper"
           }
          ]
         },
         "name": "1977"
        },
        {
         "layout": {
          "annotations": [
           {
            "align": "center",
            "font": {
             "size": 16
            },
            "showarrow": false,
            "text": "Influenced Names in 1978:<br>Annie from halloween,<br>Martin from jaws 2,<br>Philip from the big sleep,<br>Andrews from jaws 2,<br>Elizabeth from invasion of the body snatchers,<br>Andy from i spit on your grave,<br>Rusty from the big sleep,<br>Jonathan from superman,<br>Clark from superman,<br>Max from midnight express,<br>Peterson from jaws 2,<br>Michael from the deer hunter,<br>Michael from halloween,<br>Lindsey from halloween,<br>Abby from days of heaven,<br>Eva from autumn sonata",
            "x": 0.5,
            "xref": "paper",
            "y": 0.5,
            "yref": "paper"
           }
          ]
         },
         "name": "1978"
        },
        {
         "layout": {
          "annotations": [
           {
            "align": "center",
            "font": {
             "size": 16
            },
            "showarrow": false,
            "text": "Influenced Names in 1979:<br>Lucy from dracula,<br>Lee from from here to eternity,<br>Max from mad max,<br>Davis from manhattan,<br>Johnson from apocalypse now,<br>Jessie from mad max,<br>Marie from the jerk,<br>Jonathan from dracula,<br>Johnson from the jerk,<br>Carl from the jerk,<br>Lorene from from here to eternity,<br>Ash from alien",
            "x": 0.5,
            "xref": "paper",
            "y": 0.5,
            "yref": "paper"
           }
          ]
         },
         "name": "1979"
        },
        {
         "layout": {
          "annotations": [
           {
            "align": "center",
            "font": {
             "size": 16
            },
            "showarrow": false,
            "text": "Influenced Names in 1980:<br>Elise from somewhere in time,<br>Blake from dressed to kill,<br>McKenna from somewhere in time,<br>William from somewhere in time,<br>Lacey from caddyshack,<br>Wilson from stir crazy,<br>Alan from cannibal holocaust,<br>Lacey from caddyshack",
            "x": 0.5,
            "xref": "paper",
            "y": 0.5,
            "yref": "paper"
           }
          ]
         },
         "name": "1980"
        },
        {
         "layout": {
          "annotations": [
           {
            "align": "center",
            "font": {
             "size": 16
            },
            "showarrow": false,
            "text": "Influenced Names in 1981:<br>Shankar from rocky,<br>Alice from friday the 13th part 2,<br>Pamela from friday the 13th part 2,<br>Lex from superman ii,<br>Alex from an american werewolf in london,<br>Kent from superman ii,<br>Clark from superman ii,<br>Kevin from time bandits",
            "x": 0.5,
            "xref": "paper",
            "y": 0.5,
            "yref": "paper"
           }
          ]
         },
         "name": "1981"
        },
        {
         "layout": {
          "annotations": [
           {
            "align": "center",
            "font": {
             "size": 16
            },
            "showarrow": false,
            "text": "Influenced Names in 1982:<br>Sebastian from blade runner,<br>Sam from first blood,<br>Zachary from an officer and a gentleman,<br>Tyrell from blade runner,<br>Elliott from e.t. the extra-terrestrial,<br>Alan from tron,<br>Kevin from tron",
            "x": 0.5,
            "xref": "paper",
            "y": 0.5,
            "yref": "paper"
           }
          ]
         },
         "name": "1982"
        },
        {
         "layout": {
          "annotations": [
           {
            "align": "center",
            "font": {
             "size": 16
            },
            "showarrow": false,
            "text": "Influenced Names in 1983:<br>Clark from vacation,<br>Sam from the dead zone,<br>Max from videodrome,<br>Louis from trading places,<br>Parker from independence day,<br>Coleman from trading places,<br>Clark from superman iii",
            "x": 0.5,
            "xref": "paper",
            "y": 0.5,
            "yref": "paper"
           }
          ]
         },
         "name": "1983"
        },
        {
         "layout": {
          "annotations": [
           {
            "align": "center",
            "font": {
             "size": 16
            },
            "showarrow": false,
            "text": "Influenced Names in 1984:<br>Bryce from sixteen candles,<br>Patrick from once upon a time in america,<br>Bailey from once upon a time in america,<br>Hunter from paris, texas,<br>Samantha from sixteen candles,<br>Harris from police academy,<br>Kyle from the terminator,<br>Jake from sixteen candles,<br>Connor from the terminator,<br>Fantasia from the neverending story,<br>Reese from the terminator,<br>Max from once upon a time in america",
            "x": 0.5,
            "xref": "paper",
            "y": 0.5,
            "yref": "paper"
           }
          ]
         },
         "name": "1984"
        },
        {
         "layout": {
          "annotations": [
           {
            "align": "center",
            "font": {
             "size": 16
            },
            "showarrow": false,
            "text": "Influenced Names in 1985:<br>Clark from the breakfast club,<br>Sam from brazil,<br>Max from mad max beyond thunderdome,<br>Max from mad max beyond thunderdome,<br>Avery from the color purple,<br>Nicolai from rocky iv,<br>Ida from brazil,<br>Sam from rambo: first blood part ii,<br>Max from weird science",
            "x": 0.5,
            "xref": "paper",
            "y": 0.5,
            "yref": "paper"
           }
          ]
         },
         "name": "1985"
        },
        {
         "layout": {
          "annotations": [
           {
            "align": "center",
            "font": {
             "size": 16
            },
            "showarrow": false,
            "text": "Influenced Names in 1986:<br>Lo from big trouble in little china,<br>Ramirez from highlander,<br>Ellen from aliens,<br>Jack from big trouble in little china,<br>Tom from top gun,<br>Elias from platoon,<br>Taylor from platoon,<br>Connor from highlander,<br>Hogan from stand by me,<br>Sloane from ferris bueller's day off,<br>Hudson from aliens,<br>Cameron from ferris bueller's day off,<br>Harris from platoon,<br>Ferris from ferris bueller's day off,<br>Mitchell from top gun,<br>Carter from aliens,<br>Charlie from stand by me",
            "x": 0.5,
            "xref": "paper",
            "y": 0.5,
            "yref": "paper"
           }
          ]
         },
         "name": "1986"
        },
        {
         "layout": {
          "annotations": [
           {
            "align": "center",
            "font": {
             "size": 16
            },
            "showarrow": false,
            "text": "Influenced Names in 1987:<br>Baby from dirty dancing,<br>Lewis from robocop,<br>Page from planes, trains and automobiles,<br>Eleanor from man on fire,<br>Killian from the running man,<br>Sam from the lost boys,<br>Max from the lost boys,<br>Taylor from good morning, vietnam,<br>Jake from evil dead ii,<br>Martin from lethal weapon,<br>Samantha from man on fire,<br>Jake from dirty dancing,<br>Alex from robocop",
            "x": 0.5,
            "xref": "paper",
            "y": 0.5,
            "yref": "paper"
           }
          ]
         },
         "name": "1987"
        },
        {
         "layout": {
          "annotations": [
           {
            "align": "center",
            "font": {
             "size": 16
            },
            "showarrow": false,
            "text": "Influenced Names in 1988:<br>Baby from who framed roger rabbit,<br>Elora from willow,<br>Sam from rambo iii,<br>Theo from die hard,<br>Jackson from the naked gun: from the files of police squad!,<br>Eddie from die hard,<br>Eddie from who framed roger rabbit,<br>Alexander from die hard,<br>Spencer from the naked gun: from the files of police squad!,<br>Kristoff from die hard",
            "x": 0.5,
            "xref": "paper",
            "y": 0.5,
            "yref": "paper"
           }
          ]
         },
         "name": "1988"
        },
        {
         "layout": {
          "annotations": [
           {
            "align": "center",
            "font": {
             "size": 16
            },
            "showarrow": false,
            "text": "Influenced Names in 1989:<br>Henry from indiana jones and the last crusade,<br>Ariel from the little mermaid,<br>Ruby from national lampoon's christmas vacation,<br>Nolan from dead poets society,<br>Sebastian from the little mermaid,<br>Jackson from field of dreams,<br>Knox from dead poets society,<br>Oscar from ghostbusters ii,<br>Anderson from dead poets society,<br>Ellen from national lampoon's christmas vacation,<br>Parker from back to the future part ii,<br>Logan from bill & ted's excellent adventure,<br>Louis from ghostbusters ii,<br>Jack from ghostbusters ii,<br>Cameron from dead poets society,<br>Leo from lethal weapon 2,<br>Donovan from indiana jones and the last crusade",
            "x": 0.5,
            "xref": "paper",
            "y": 0.5,
            "yref": "paper"
           }
          ]
         },
         "name": "1989"
        },
        {
         "layout": {
          "annotations": [
           {
            "align": "center",
            "font": {
             "size": 16
            },
            "showarrow": false,
            "text": "Influenced Names in 1990:<br>Marley from home alone,<br>Clara from back to the future part iii,<br>Henry from goodfellas,<br>Sam from ghost,<br>Oda from ghost,<br>Phoebe from kindergarten cop,<br>Valentine from tremors,<br>Jack from the hunt for red october",
            "x": 0.5,
            "xref": "paper",
            "y": 0.5,
            "yref": "paper"
           }
          ]
         },
         "name": "1990"
        },
        {
         "layout": {
          "annotations": [
           {
            "align": "center",
            "font": {
             "size": 16
            },
            "showarrow": false,
            "text": "Influenced Names in 1991:<br>Mike from the last boy scout,<br>Brenda from boyz n the hood,<br>Dean from jfk,<br>Harley from hot shots!,<br>Connor from terminator 2: judgment day,<br>Dyson from terminator 2: judgment day,<br>Scarlett from robin hood: prince of thieves,<br>Quentin from the naked gun 2½: the smell of fear,<br>Jack from the silence of the lambs,<br>Jack from hook,<br>Taylor from barton fink,<br>Robin from robin hood: prince of thieves,<br>Darian from the last boy scout,<br>Ferris from boyz n the hood,<br>Sawyer from thelma & louise,<br>Abigail from the addams family,<br>Connor from terminator 2: judgment day",
            "x": 0.5,
            "xref": "paper",
            "y": 0.5,
            "yref": "paper"
           }
          ]
         },
         "name": "1991"
        },
        {
         "layout": {
          "annotations": [
           {
            "align": "center",
            "font": {
             "size": 16
            },
            "showarrow": false,
            "text": "Influenced Names in 1992:<br>Gus from basic instinct,<br>Cora from the last of the mohicans,<br>Bishop from alien³,<br>Jack from lethal weapon 3,<br>Joe from reservoir dogs,<br>Kane from wayne's world,<br>Duncan from the last of the mohicans,<br>Duncan from home alone 2: lost in new york,<br>Jack from bram stoker's dracula,<br>Jack from the last of the mohicans,<br>Logan from unforgiven,<br>Garner from basic instinct,<br>Queen from alien³,<br>Ranger from scent of a woman",
            "x": 0.5,
            "xref": "paper",
            "y": 0.5,
            "yref": "paper"
           }
          ]
         },
         "name": "1992"
        },
        {
         "layout": {
          "annotations": [
           {
            "align": "center",
            "font": {
             "size": 16
            },
            "showarrow": false,
            "text": "Influenced Names in 1993:<br>Sam from sleepless in seattle,<br>Jack from the nightmare before christmas,<br>Miller from philadelphia,<br>Josephine from tombstone,<br>Wyatt from tombstone,<br>Carlito from carlito's way,<br>Reed from sleepless in seattle,<br>Jonah from sleepless in seattle,<br>Foster from falling down,<br>Davis from dazed and confused,<br>Presley from true romance,<br>Ellie from jurassic park,<br>Oskar from schindler's list",
            "x": 0.5,
            "xref": "paper",
            "y": 0.5,
            "yref": "paper"
           }
          ]
         },
         "name": "1993"
        },
        {
         "layout": {
          "annotations": [
           {
            "align": "center",
            "font": {
             "size": 16
            },
            "showarrow": false,
            "text": "Influenced Names in 1994:<br>Blue from forrest gump,<br>Porter from speed,<br>Jackson from stargate,<br>Tristan from legends of the fall,<br>Owen from natural born killers,<br>Mia from pulp fiction,<br>Hadley from the shawshank redemption,<br>Jack from speed,<br>Mathilda from léon: the professional,<br>Dorian from the mask,<br>Dante from clerks.,<br>Jules from pulp fiction",
            "x": 0.5,
            "xref": "paper",
            "y": 0.5,
            "yref": "paper"
           }
          ]
         },
         "name": "1994"
        },
        {
         "layout": {
          "annotations": [
           {
            "align": "center",
            "font": {
             "size": 16
            },
            "showarrow": false,
            "text": "Influenced Names in 1995:<br>William from braveheart,<br>Dean from the usual suspects,<br>Edie from the usual suspects,<br>Isabella from braveheart,<br>Davis from toy story,<br>Jack from goldeneye,<br>Shepherd from jumanji,<br>Robin from batman forever,<br>Jack from the usual suspects,<br>Tiger from goldeneye,<br>Cyrus from heat,<br>Jack from apollo 13,<br>Chris from heat,<br>Willow from pocahontas,<br>Hanna from heat,<br>Sam from jumanji,<br>Josh from clueless,<br>Sam from casino,<br>Keaton from the usual suspects,<br>McKenna from casino,<br>Frankie from casino",
            "x": 0.5,
            "xref": "paper",
            "y": 0.5,
            "yref": "paper"
           }
          ]
         },
         "name": "1995"
        },
        {
         "layout": {
          "annotations": [
           {
            "align": "center",
            "font": {
             "size": 16
            },
            "showarrow": false,
            "text": "Influenced Names in 1996:<br>Hana from the english patient,<br>Hailey from a time to kill,<br>Romeo from romeo + juliet,<br>Harry from a time to kill,<br>Tiger from the english patient,<br>Max from mission: impossible,<br>Miller from twister,<br>Juliet from romeo + juliet,<br>Tommy from sleepers,<br>Ethan from mission: impossible,<br>Tommy from trainspotting,<br>Chris from twister,<br>Hailey from a time to kill",
            "x": 0.5,
            "xref": "paper",
            "y": 0.5,
            "yref": "paper"
           }
          ]
         },
         "name": "1996"
        },
        {
         "layout": {
          "annotations": [
           {
            "align": "center",
            "font": {
             "size": 16
            },
            "showarrow": false,
            "text": "Influenced Names in 1997:<br>Isla from the lost world: jurassic park,<br>Max from jackie brown,<br>Max from liar liar,<br>Owen from the lost world: jurassic park,<br>Eve from face/off,<br>Korben from the fifth element,<br>Carter from the lost world: jurassic park,<br>Will from good will hunting,<br>Jack from titanic,<br>Anton from gattaca,<br>Dawson from titanic,<br>Archer from face/off,<br>Dawson from titanic,<br>Isla from the lost world: jurassic park,<br>Rose from titanic,<br>Louis from jackie brown",
            "x": 0.5,
            "xref": "paper",
            "y": 0.5,
            "yref": "paper"
           }
          ]
         },
         "name": "1997"
        },
        {
         "layout": {
          "annotations": [
           {
            "align": "center",
            "font": {
             "size": 16
            },
            "showarrow": false,
            "text": "Influenced Names in 1998:<br>Nick from lock, stock and two smoking barrels,<br>Miller from saving private ryan,<br>William from meet joe black,<br>Raoul from fear and loathing in las vegas,<br>Tom from lock, stock and two smoking barrels,<br>George from saving private ryan,<br>Lucy from fear and loathing in las vegas,<br>Harry from lock, stock and two smoking barrels,<br>Deacon from blade,<br>Carter from rush hour,<br>Truman from the truman show,<br>Emma from the avengers,<br>Banks from enemy of the state,<br>Charlie from saving private ryan,<br>Chris from lock, stock and two smoking barrels,<br>Quinn from blade",
            "x": 0.5,
            "xref": "paper",
            "y": 0.5,
            "yref": "paper"
           }
          ]
         },
         "name": "1998"
        },
        {
         "layout": {
          "annotations": [
           {
            "align": "center",
            "font": {
             "size": 16
            },
            "showarrow": false,
            "text": "Influenced Names in 1999:<br>Nick from eyes wide shut,<br>Spike from notting hill,<br>Chris from american pie,<br>Rose from magnolia,<br>Max from notting hill,<br>Charlie from being john malkovich,<br>Andy from toy story 2",
            "x": 0.5,
            "xref": "paper",
            "y": 0.5,
            "yref": "paper"
           }
          ]
         },
         "name": "1999"
        },
        {
         "layout": {
          "annotations": [
           {
            "align": "center",
            "font": {
             "size": 16
            },
            "showarrow": false,
            "text": "Influenced Names in 2000:<br>Bennett from the intern,<br>Elijah from unbreakable,<br>Noah from gladiator,<br>Ethan from mission: impossible ii,<br>Evelyn from american psycho,<br>Campbell from scary movie,<br>Sol from snatch,<br>Maximus from gladiator,<br>Carter from final destination,<br>Vinnie from snatch,<br>Avi from snatch",
            "x": 0.5,
            "xref": "paper",
            "y": 0.5,
            "yref": "paper"
           }
          ]
         },
         "name": "2000"
        },
        {
         "layout": {
          "annotations": [
           {
            "align": "center",
            "font": {
             "size": 16
            },
            "showarrow": false,
            "text": "Influenced Names in 2001:<br>Kitty from donnie darko,<br>Hoyt from training day,<br>Isla from jurassic park iii,<br>Rafe from pearl harbor,<br>Linus from ocean's eleven,<br>Reuben from ocean's eleven,<br>Cooper from jurassic park iii,<br>Leon from the fast and the furious,<br>Evelyn from pearl harbor,<br>Ellie from jurassic park iii,<br>Evelyn from the mummy returns,<br>Sol from a beautiful mind,<br>Mia from the fast and the furious",
            "x": 0.5,
            "xref": "paper",
            "y": 0.5,
            "yref": "paper"
           }
          ]
         },
         "name": "2001"
        },
        {
         "layout": {
          "annotations": [
           {
            "align": "center",
            "font": {
             "size": 16
            },
            "showarrow": false,
            "text": "Influenced Names in 2002:<br>Lucius from harry potter and the chamber of secrets,<br>Hermione from harry potter and the chamber of secrets,<br>Daily from spider-man,<br>Farrell from 28 days later,<br>Iris from minority report,<br>Leo from minority report,<br>Arwen from the lord of the rings: the two towers",
            "x": 0.5,
            "xref": "paper",
            "y": 0.5,
            "yref": "paper"
           }
          ]
         },
         "name": "2002"
        },
        {
         "layout": {
          "annotations": [
           {
            "align": "center",
            "font": {
             "size": 16
            },
            "showarrow": false,
            "text": "Influenced Names in 2003:<br>Roman from 2 fast 2 furious,<br>Arwen from the lord of the rings: the return of the king,<br>Harris from mystic river,<br>Sparrow from pirates of the caribbean: the curse of the black pearl,<br>Mia from love actually,<br>Smith from the matrix reloaded,<br>Nolan from bruce almighty,<br>Mack from love actually,<br>Buddy from elf,<br>Carter from 2 fast 2 furious",
            "x": 0.5,
            "xref": "paper",
            "y": 0.5,
            "yref": "paper"
           }
          ]
         },
         "name": "2003"
        },
        {
         "layout": {
          "annotations": [
           {
            "align": "center",
            "font": {
             "size": 16
            },
            "showarrow": false,
            "text": "Influenced Names in 2004:<br>Noah from the notebook,<br>Sonny from i, robot,<br>Briseis from troy,<br>King from shrek 2,<br>Achilles from troy,<br>Otto from spider-man 2,<br>Abbott from the bourne supremacy,<br>Cruz from the terminal,<br>Viktor from the terminal,<br>Mack from million dollar baby,<br>Frankie from million dollar baby,<br>Jameson from spider-man 2,<br>Amelia from the terminal,<br>Lillian from shrek 2",
            "x": 0.5,
            "xref": "paper",
            "y": 0.5,
            "yref": "paper"
           }
          ]
         },
         "name": "2004"
        },
        {
         "layout": {
          "annotations": [
           {
            "align": "center",
            "font": {
             "size": 16
            },
            "showarrow": false,
            "text": "Influenced Names in 2005:<br>Manny from war of the worlds,<br>Lucifer from constantine,<br>Mace from star wars episode iii: revenge of the sith,<br>Aslan from the chronicles of narnia: the lion, the witch and the wardrobe,<br>Viktor from harry potter and the goblet of fire,<br>Charlie from charlie and the chocolate factory,<br>Darcy from pride & prejudice,<br>Grey from wedding crashers,<br>Smith from mr. & mrs. smith,<br>Constantine from constantine",
            "x": 0.5,
            "xref": "paper",
            "y": 0.5,
            "yref": "paper"
           }
          ]
         },
         "name": "2005"
        },
        {
         "layout": {
          "annotations": [
           {
            "align": "center",
            "font": {
             "size": 16
            },
            "showarrow": false,
            "text": "Influenced Names in 2006:<br>Alfred from the prestige,<br>Faron from children of men,<br>Dwayne from little miss sunshine,<br>Archer from blood diamond,<br>Leonidas from 300,<br>Chris from the pursuit of happyness",
            "x": 0.5,
            "xref": "paper",
            "y": 0.5,
            "yref": "paper"
           }
          ]
         },
         "name": "2006"
        },
        {
         "layout": {
          "annotations": [
           {
            "align": "center",
            "font": {
             "size": 16
            },
            "showarrow": false,
            "text": "Influenced Names in 2007:<br>Daniels from the bourne ultimatum,<br>Jules from superbad,<br>Lennox from transformers,<br>Juno from juno",
            "x": 0.5,
            "xref": "paper",
            "y": 0.5,
            "yref": "paper"
           }
          ]
         },
         "name": "2007"
        },
        {
         "layout": {
          "annotations": [
           {
            "align": "center",
            "font": {
             "size": 16
            },
            "showarrow": false,
            "text": "Influenced Names in 2010:<br>Woody from toy story 3",
            "x": 0.5,
            "xref": "paper",
            "y": 0.5,
            "yref": "paper"
           }
          ]
         },
         "name": "2010"
        }
       ],
       "layout": {
        "annotations": [
         {
          "align": "center",
          "font": {
           "size": 16
          },
          "showarrow": false,
          "text": "Influenced Names in 1961:<br>Jorge from viridiana,<br>José from breakfast at tiffany's,<br>Holly from breakfast at tiffany's,<br>Roberto from la notte,<br>Bernardo from west side story,<br>Valentina from la notte",
          "x": 0.5,
          "xref": "paper",
          "y": 0.5,
          "yref": "paper"
         }
        ],
        "sliders": [
         {
          "active": 0,
          "currentvalue": {
           "prefix": "Year: "
          },
          "pad": {
           "t": 50
          },
          "steps": [
           {
            "args": [
             [
              "1961"
             ],
             {
              "frame": {
               "duration": 0,
               "redraw": true
              },
              "mode": "immediate"
             }
            ],
            "label": "1961",
            "method": "animate"
           },
           {
            "args": [
             [
              "1962"
             ],
             {
              "frame": {
               "duration": 0,
               "redraw": true
              },
              "mode": "immediate"
             }
            ],
            "label": "1962",
            "method": "animate"
           },
           {
            "args": [
             [
              "1963"
             ],
             {
              "frame": {
               "duration": 0,
               "redraw": true
              },
              "mode": "immediate"
             }
            ],
            "label": "1963",
            "method": "animate"
           },
           {
            "args": [
             [
              "1964"
             ],
             {
              "frame": {
               "duration": 0,
               "redraw": true
              },
              "mode": "immediate"
             }
            ],
            "label": "1964",
            "method": "animate"
           },
           {
            "args": [
             [
              "1965"
             ],
             {
              "frame": {
               "duration": 0,
               "redraw": true
              },
              "mode": "immediate"
             }
            ],
            "label": "1965",
            "method": "animate"
           },
           {
            "args": [
             [
              "1966"
             ],
             {
              "frame": {
               "duration": 0,
               "redraw": true
              },
              "mode": "immediate"
             }
            ],
            "label": "1966",
            "method": "animate"
           },
           {
            "args": [
             [
              "1967"
             ],
             {
              "frame": {
               "duration": 0,
               "redraw": true
              },
              "mode": "immediate"
             }
            ],
            "label": "1967",
            "method": "animate"
           },
           {
            "args": [
             [
              "1968"
             ],
             {
              "frame": {
               "duration": 0,
               "redraw": true
              },
              "mode": "immediate"
             }
            ],
            "label": "1968",
            "method": "animate"
           },
           {
            "args": [
             [
              "1969"
             ],
             {
              "frame": {
               "duration": 0,
               "redraw": true
              },
              "mode": "immediate"
             }
            ],
            "label": "1969",
            "method": "animate"
           },
           {
            "args": [
             [
              "1970"
             ],
             {
              "frame": {
               "duration": 0,
               "redraw": true
              },
              "mode": "immediate"
             }
            ],
            "label": "1970",
            "method": "animate"
           },
           {
            "args": [
             [
              "1971"
             ],
             {
              "frame": {
               "duration": 0,
               "redraw": true
              },
              "mode": "immediate"
             }
            ],
            "label": "1971",
            "method": "animate"
           },
           {
            "args": [
             [
              "1972"
             ],
             {
              "frame": {
               "duration": 0,
               "redraw": true
              },
              "mode": "immediate"
             }
            ],
            "label": "1972",
            "method": "animate"
           },
           {
            "args": [
             [
              "1973"
             ],
             {
              "frame": {
               "duration": 0,
               "redraw": true
              },
              "mode": "immediate"
             }
            ],
            "label": "1973",
            "method": "animate"
           },
           {
            "args": [
             [
              "1974"
             ],
             {
              "frame": {
               "duration": 0,
               "redraw": true
              },
              "mode": "immediate"
             }
            ],
            "label": "1974",
            "method": "animate"
           },
           {
            "args": [
             [
              "1975"
             ],
             {
              "frame": {
               "duration": 0,
               "redraw": true
              },
              "mode": "immediate"
             }
            ],
            "label": "1975",
            "method": "animate"
           },
           {
            "args": [
             [
              "1976"
             ],
             {
              "frame": {
               "duration": 0,
               "redraw": true
              },
              "mode": "immediate"
             }
            ],
            "label": "1976",
            "method": "animate"
           },
           {
            "args": [
             [
              "1977"
             ],
             {
              "frame": {
               "duration": 0,
               "redraw": true
              },
              "mode": "immediate"
             }
            ],
            "label": "1977",
            "method": "animate"
           },
           {
            "args": [
             [
              "1978"
             ],
             {
              "frame": {
               "duration": 0,
               "redraw": true
              },
              "mode": "immediate"
             }
            ],
            "label": "1978",
            "method": "animate"
           },
           {
            "args": [
             [
              "1979"
             ],
             {
              "frame": {
               "duration": 0,
               "redraw": true
              },
              "mode": "immediate"
             }
            ],
            "label": "1979",
            "method": "animate"
           },
           {
            "args": [
             [
              "1980"
             ],
             {
              "frame": {
               "duration": 0,
               "redraw": true
              },
              "mode": "immediate"
             }
            ],
            "label": "1980",
            "method": "animate"
           },
           {
            "args": [
             [
              "1981"
             ],
             {
              "frame": {
               "duration": 0,
               "redraw": true
              },
              "mode": "immediate"
             }
            ],
            "label": "1981",
            "method": "animate"
           },
           {
            "args": [
             [
              "1982"
             ],
             {
              "frame": {
               "duration": 0,
               "redraw": true
              },
              "mode": "immediate"
             }
            ],
            "label": "1982",
            "method": "animate"
           },
           {
            "args": [
             [
              "1983"
             ],
             {
              "frame": {
               "duration": 0,
               "redraw": true
              },
              "mode": "immediate"
             }
            ],
            "label": "1983",
            "method": "animate"
           },
           {
            "args": [
             [
              "1984"
             ],
             {
              "frame": {
               "duration": 0,
               "redraw": true
              },
              "mode": "immediate"
             }
            ],
            "label": "1984",
            "method": "animate"
           },
           {
            "args": [
             [
              "1985"
             ],
             {
              "frame": {
               "duration": 0,
               "redraw": true
              },
              "mode": "immediate"
             }
            ],
            "label": "1985",
            "method": "animate"
           },
           {
            "args": [
             [
              "1986"
             ],
             {
              "frame": {
               "duration": 0,
               "redraw": true
              },
              "mode": "immediate"
             }
            ],
            "label": "1986",
            "method": "animate"
           },
           {
            "args": [
             [
              "1987"
             ],
             {
              "frame": {
               "duration": 0,
               "redraw": true
              },
              "mode": "immediate"
             }
            ],
            "label": "1987",
            "method": "animate"
           },
           {
            "args": [
             [
              "1988"
             ],
             {
              "frame": {
               "duration": 0,
               "redraw": true
              },
              "mode": "immediate"
             }
            ],
            "label": "1988",
            "method": "animate"
           },
           {
            "args": [
             [
              "1989"
             ],
             {
              "frame": {
               "duration": 0,
               "redraw": true
              },
              "mode": "immediate"
             }
            ],
            "label": "1989",
            "method": "animate"
           },
           {
            "args": [
             [
              "1990"
             ],
             {
              "frame": {
               "duration": 0,
               "redraw": true
              },
              "mode": "immediate"
             }
            ],
            "label": "1990",
            "method": "animate"
           },
           {
            "args": [
             [
              "1991"
             ],
             {
              "frame": {
               "duration": 0,
               "redraw": true
              },
              "mode": "immediate"
             }
            ],
            "label": "1991",
            "method": "animate"
           },
           {
            "args": [
             [
              "1992"
             ],
             {
              "frame": {
               "duration": 0,
               "redraw": true
              },
              "mode": "immediate"
             }
            ],
            "label": "1992",
            "method": "animate"
           },
           {
            "args": [
             [
              "1993"
             ],
             {
              "frame": {
               "duration": 0,
               "redraw": true
              },
              "mode": "immediate"
             }
            ],
            "label": "1993",
            "method": "animate"
           },
           {
            "args": [
             [
              "1994"
             ],
             {
              "frame": {
               "duration": 0,
               "redraw": true
              },
              "mode": "immediate"
             }
            ],
            "label": "1994",
            "method": "animate"
           },
           {
            "args": [
             [
              "1995"
             ],
             {
              "frame": {
               "duration": 0,
               "redraw": true
              },
              "mode": "immediate"
             }
            ],
            "label": "1995",
            "method": "animate"
           },
           {
            "args": [
             [
              "1996"
             ],
             {
              "frame": {
               "duration": 0,
               "redraw": true
              },
              "mode": "immediate"
             }
            ],
            "label": "1996",
            "method": "animate"
           },
           {
            "args": [
             [
              "1997"
             ],
             {
              "frame": {
               "duration": 0,
               "redraw": true
              },
              "mode": "immediate"
             }
            ],
            "label": "1997",
            "method": "animate"
           },
           {
            "args": [
             [
              "1998"
             ],
             {
              "frame": {
               "duration": 0,
               "redraw": true
              },
              "mode": "immediate"
             }
            ],
            "label": "1998",
            "method": "animate"
           },
           {
            "args": [
             [
              "1999"
             ],
             {
              "frame": {
               "duration": 0,
               "redraw": true
              },
              "mode": "immediate"
             }
            ],
            "label": "1999",
            "method": "animate"
           },
           {
            "args": [
             [
              "2000"
             ],
             {
              "frame": {
               "duration": 0,
               "redraw": true
              },
              "mode": "immediate"
             }
            ],
            "label": "2000",
            "method": "animate"
           },
           {
            "args": [
             [
              "2001"
             ],
             {
              "frame": {
               "duration": 0,
               "redraw": true
              },
              "mode": "immediate"
             }
            ],
            "label": "2001",
            "method": "animate"
           },
           {
            "args": [
             [
              "2002"
             ],
             {
              "frame": {
               "duration": 0,
               "redraw": true
              },
              "mode": "immediate"
             }
            ],
            "label": "2002",
            "method": "animate"
           },
           {
            "args": [
             [
              "2003"
             ],
             {
              "frame": {
               "duration": 0,
               "redraw": true
              },
              "mode": "immediate"
             }
            ],
            "label": "2003",
            "method": "animate"
           },
           {
            "args": [
             [
              "2004"
             ],
             {
              "frame": {
               "duration": 0,
               "redraw": true
              },
              "mode": "immediate"
             }
            ],
            "label": "2004",
            "method": "animate"
           },
           {
            "args": [
             [
              "2005"
             ],
             {
              "frame": {
               "duration": 0,
               "redraw": true
              },
              "mode": "immediate"
             }
            ],
            "label": "2005",
            "method": "animate"
           },
           {
            "args": [
             [
              "2006"
             ],
             {
              "frame": {
               "duration": 0,
               "redraw": true
              },
              "mode": "immediate"
             }
            ],
            "label": "2006",
            "method": "animate"
           },
           {
            "args": [
             [
              "2007"
             ],
             {
              "frame": {
               "duration": 0,
               "redraw": true
              },
              "mode": "immediate"
             }
            ],
            "label": "2007",
            "method": "animate"
           },
           {
            "args": [
             [
              "2010"
             ],
             {
              "frame": {
               "duration": 0,
               "redraw": true
              },
              "mode": "immediate"
             }
            ],
            "label": "2010",
            "method": "animate"
           }
          ]
         }
        ],
        "template": {
         "data": {
          "bar": [
           {
            "error_x": {
             "color": "#2a3f5f"
            },
            "error_y": {
             "color": "#2a3f5f"
            },
            "marker": {
             "line": {
              "color": "#E5ECF6",
              "width": 0.5
             },
             "pattern": {
              "fillmode": "overlay",
              "size": 10,
              "solidity": 0.2
             }
            },
            "type": "bar"
           }
          ],
          "barpolar": [
           {
            "marker": {
             "line": {
              "color": "#E5ECF6",
              "width": 0.5
             },
             "pattern": {
              "fillmode": "overlay",
              "size": 10,
              "solidity": 0.2
             }
            },
            "type": "barpolar"
           }
          ],
          "carpet": [
           {
            "aaxis": {
             "endlinecolor": "#2a3f5f",
             "gridcolor": "white",
             "linecolor": "white",
             "minorgridcolor": "white",
             "startlinecolor": "#2a3f5f"
            },
            "baxis": {
             "endlinecolor": "#2a3f5f",
             "gridcolor": "white",
             "linecolor": "white",
             "minorgridcolor": "white",
             "startlinecolor": "#2a3f5f"
            },
            "type": "carpet"
           }
          ],
          "choropleth": [
           {
            "colorbar": {
             "outlinewidth": 0,
             "ticks": ""
            },
            "type": "choropleth"
           }
          ],
          "contour": [
           {
            "colorbar": {
             "outlinewidth": 0,
             "ticks": ""
            },
            "colorscale": [
             [
              0,
              "#0d0887"
             ],
             [
              0.1111111111111111,
              "#46039f"
             ],
             [
              0.2222222222222222,
              "#7201a8"
             ],
             [
              0.3333333333333333,
              "#9c179e"
             ],
             [
              0.4444444444444444,
              "#bd3786"
             ],
             [
              0.5555555555555556,
              "#d8576b"
             ],
             [
              0.6666666666666666,
              "#ed7953"
             ],
             [
              0.7777777777777778,
              "#fb9f3a"
             ],
             [
              0.8888888888888888,
              "#fdca26"
             ],
             [
              1,
              "#f0f921"
             ]
            ],
            "type": "contour"
           }
          ],
          "contourcarpet": [
           {
            "colorbar": {
             "outlinewidth": 0,
             "ticks": ""
            },
            "type": "contourcarpet"
           }
          ],
          "heatmap": [
           {
            "colorbar": {
             "outlinewidth": 0,
             "ticks": ""
            },
            "colorscale": [
             [
              0,
              "#0d0887"
             ],
             [
              0.1111111111111111,
              "#46039f"
             ],
             [
              0.2222222222222222,
              "#7201a8"
             ],
             [
              0.3333333333333333,
              "#9c179e"
             ],
             [
              0.4444444444444444,
              "#bd3786"
             ],
             [
              0.5555555555555556,
              "#d8576b"
             ],
             [
              0.6666666666666666,
              "#ed7953"
             ],
             [
              0.7777777777777778,
              "#fb9f3a"
             ],
             [
              0.8888888888888888,
              "#fdca26"
             ],
             [
              1,
              "#f0f921"
             ]
            ],
            "type": "heatmap"
           }
          ],
          "heatmapgl": [
           {
            "colorbar": {
             "outlinewidth": 0,
             "ticks": ""
            },
            "colorscale": [
             [
              0,
              "#0d0887"
             ],
             [
              0.1111111111111111,
              "#46039f"
             ],
             [
              0.2222222222222222,
              "#7201a8"
             ],
             [
              0.3333333333333333,
              "#9c179e"
             ],
             [
              0.4444444444444444,
              "#bd3786"
             ],
             [
              0.5555555555555556,
              "#d8576b"
             ],
             [
              0.6666666666666666,
              "#ed7953"
             ],
             [
              0.7777777777777778,
              "#fb9f3a"
             ],
             [
              0.8888888888888888,
              "#fdca26"
             ],
             [
              1,
              "#f0f921"
             ]
            ],
            "type": "heatmapgl"
           }
          ],
          "histogram": [
           {
            "marker": {
             "pattern": {
              "fillmode": "overlay",
              "size": 10,
              "solidity": 0.2
             }
            },
            "type": "histogram"
           }
          ],
          "histogram2d": [
           {
            "colorbar": {
             "outlinewidth": 0,
             "ticks": ""
            },
            "colorscale": [
             [
              0,
              "#0d0887"
             ],
             [
              0.1111111111111111,
              "#46039f"
             ],
             [
              0.2222222222222222,
              "#7201a8"
             ],
             [
              0.3333333333333333,
              "#9c179e"
             ],
             [
              0.4444444444444444,
              "#bd3786"
             ],
             [
              0.5555555555555556,
              "#d8576b"
             ],
             [
              0.6666666666666666,
              "#ed7953"
             ],
             [
              0.7777777777777778,
              "#fb9f3a"
             ],
             [
              0.8888888888888888,
              "#fdca26"
             ],
             [
              1,
              "#f0f921"
             ]
            ],
            "type": "histogram2d"
           }
          ],
          "histogram2dcontour": [
           {
            "colorbar": {
             "outlinewidth": 0,
             "ticks": ""
            },
            "colorscale": [
             [
              0,
              "#0d0887"
             ],
             [
              0.1111111111111111,
              "#46039f"
             ],
             [
              0.2222222222222222,
              "#7201a8"
             ],
             [
              0.3333333333333333,
              "#9c179e"
             ],
             [
              0.4444444444444444,
              "#bd3786"
             ],
             [
              0.5555555555555556,
              "#d8576b"
             ],
             [
              0.6666666666666666,
              "#ed7953"
             ],
             [
              0.7777777777777778,
              "#fb9f3a"
             ],
             [
              0.8888888888888888,
              "#fdca26"
             ],
             [
              1,
              "#f0f921"
             ]
            ],
            "type": "histogram2dcontour"
           }
          ],
          "mesh3d": [
           {
            "colorbar": {
             "outlinewidth": 0,
             "ticks": ""
            },
            "type": "mesh3d"
           }
          ],
          "parcoords": [
           {
            "line": {
             "colorbar": {
              "outlinewidth": 0,
              "ticks": ""
             }
            },
            "type": "parcoords"
           }
          ],
          "pie": [
           {
            "automargin": true,
            "type": "pie"
           }
          ],
          "scatter": [
           {
            "fillpattern": {
             "fillmode": "overlay",
             "size": 10,
             "solidity": 0.2
            },
            "type": "scatter"
           }
          ],
          "scatter3d": [
           {
            "line": {
             "colorbar": {
              "outlinewidth": 0,
              "ticks": ""
             }
            },
            "marker": {
             "colorbar": {
              "outlinewidth": 0,
              "ticks": ""
             }
            },
            "type": "scatter3d"
           }
          ],
          "scattercarpet": [
           {
            "marker": {
             "colorbar": {
              "outlinewidth": 0,
              "ticks": ""
             }
            },
            "type": "scattercarpet"
           }
          ],
          "scattergeo": [
           {
            "marker": {
             "colorbar": {
              "outlinewidth": 0,
              "ticks": ""
             }
            },
            "type": "scattergeo"
           }
          ],
          "scattergl": [
           {
            "marker": {
             "colorbar": {
              "outlinewidth": 0,
              "ticks": ""
             }
            },
            "type": "scattergl"
           }
          ],
          "scattermapbox": [
           {
            "marker": {
             "colorbar": {
              "outlinewidth": 0,
              "ticks": ""
             }
            },
            "type": "scattermapbox"
           }
          ],
          "scatterpolar": [
           {
            "marker": {
             "colorbar": {
              "outlinewidth": 0,
              "ticks": ""
             }
            },
            "type": "scatterpolar"
           }
          ],
          "scatterpolargl": [
           {
            "marker": {
             "colorbar": {
              "outlinewidth": 0,
              "ticks": ""
             }
            },
            "type": "scatterpolargl"
           }
          ],
          "scatterternary": [
           {
            "marker": {
             "colorbar": {
              "outlinewidth": 0,
              "ticks": ""
             }
            },
            "type": "scatterternary"
           }
          ],
          "surface": [
           {
            "colorbar": {
             "outlinewidth": 0,
             "ticks": ""
            },
            "colorscale": [
             [
              0,
              "#0d0887"
             ],
             [
              0.1111111111111111,
              "#46039f"
             ],
             [
              0.2222222222222222,
              "#7201a8"
             ],
             [
              0.3333333333333333,
              "#9c179e"
             ],
             [
              0.4444444444444444,
              "#bd3786"
             ],
             [
              0.5555555555555556,
              "#d8576b"
             ],
             [
              0.6666666666666666,
              "#ed7953"
             ],
             [
              0.7777777777777778,
              "#fb9f3a"
             ],
             [
              0.8888888888888888,
              "#fdca26"
             ],
             [
              1,
              "#f0f921"
             ]
            ],
            "type": "surface"
           }
          ],
          "table": [
           {
            "cells": {
             "fill": {
              "color": "#EBF0F8"
             },
             "line": {
              "color": "white"
             }
            },
            "header": {
             "fill": {
              "color": "#C8D4E3"
             },
             "line": {
              "color": "white"
             }
            },
            "type": "table"
           }
          ]
         },
         "layout": {
          "annotationdefaults": {
           "arrowcolor": "#2a3f5f",
           "arrowhead": 0,
           "arrowwidth": 1
          },
          "autotypenumbers": "strict",
          "coloraxis": {
           "colorbar": {
            "outlinewidth": 0,
            "ticks": ""
           }
          },
          "colorscale": {
           "diverging": [
            [
             0,
             "#8e0152"
            ],
            [
             0.1,
             "#c51b7d"
            ],
            [
             0.2,
             "#de77ae"
            ],
            [
             0.3,
             "#f1b6da"
            ],
            [
             0.4,
             "#fde0ef"
            ],
            [
             0.5,
             "#f7f7f7"
            ],
            [
             0.6,
             "#e6f5d0"
            ],
            [
             0.7,
             "#b8e186"
            ],
            [
             0.8,
             "#7fbc41"
            ],
            [
             0.9,
             "#4d9221"
            ],
            [
             1,
             "#276419"
            ]
           ],
           "sequential": [
            [
             0,
             "#0d0887"
            ],
            [
             0.1111111111111111,
             "#46039f"
            ],
            [
             0.2222222222222222,
             "#7201a8"
            ],
            [
             0.3333333333333333,
             "#9c179e"
            ],
            [
             0.4444444444444444,
             "#bd3786"
            ],
            [
             0.5555555555555556,
             "#d8576b"
            ],
            [
             0.6666666666666666,
             "#ed7953"
            ],
            [
             0.7777777777777778,
             "#fb9f3a"
            ],
            [
             0.8888888888888888,
             "#fdca26"
            ],
            [
             1,
             "#f0f921"
            ]
           ],
           "sequentialminus": [
            [
             0,
             "#0d0887"
            ],
            [
             0.1111111111111111,
             "#46039f"
            ],
            [
             0.2222222222222222,
             "#7201a8"
            ],
            [
             0.3333333333333333,
             "#9c179e"
            ],
            [
             0.4444444444444444,
             "#bd3786"
            ],
            [
             0.5555555555555556,
             "#d8576b"
            ],
            [
             0.6666666666666666,
             "#ed7953"
            ],
            [
             0.7777777777777778,
             "#fb9f3a"
            ],
            [
             0.8888888888888888,
             "#fdca26"
            ],
            [
             1,
             "#f0f921"
            ]
           ]
          },
          "colorway": [
           "#636efa",
           "#EF553B",
           "#00cc96",
           "#ab63fa",
           "#FFA15A",
           "#19d3f3",
           "#FF6692",
           "#B6E880",
           "#FF97FF",
           "#FECB52"
          ],
          "font": {
           "color": "#2a3f5f"
          },
          "geo": {
           "bgcolor": "white",
           "lakecolor": "white",
           "landcolor": "#E5ECF6",
           "showlakes": true,
           "showland": true,
           "subunitcolor": "white"
          },
          "hoverlabel": {
           "align": "left"
          },
          "hovermode": "closest",
          "mapbox": {
           "style": "light"
          },
          "paper_bgcolor": "white",
          "plot_bgcolor": "#E5ECF6",
          "polar": {
           "angularaxis": {
            "gridcolor": "white",
            "linecolor": "white",
            "ticks": ""
           },
           "bgcolor": "#E5ECF6",
           "radialaxis": {
            "gridcolor": "white",
            "linecolor": "white",
            "ticks": ""
           }
          },
          "scene": {
           "xaxis": {
            "backgroundcolor": "#E5ECF6",
            "gridcolor": "white",
            "gridwidth": 2,
            "linecolor": "white",
            "showbackground": true,
            "ticks": "",
            "zerolinecolor": "white"
           },
           "yaxis": {
            "backgroundcolor": "#E5ECF6",
            "gridcolor": "white",
            "gridwidth": 2,
            "linecolor": "white",
            "showbackground": true,
            "ticks": "",
            "zerolinecolor": "white"
           },
           "zaxis": {
            "backgroundcolor": "#E5ECF6",
            "gridcolor": "white",
            "gridwidth": 2,
            "linecolor": "white",
            "showbackground": true,
            "ticks": "",
            "zerolinecolor": "white"
           }
          },
          "shapedefaults": {
           "line": {
            "color": "#2a3f5f"
           }
          },
          "ternary": {
           "aaxis": {
            "gridcolor": "white",
            "linecolor": "white",
            "ticks": ""
           },
           "baxis": {
            "gridcolor": "white",
            "linecolor": "white",
            "ticks": ""
           },
           "bgcolor": "#E5ECF6",
           "caxis": {
            "gridcolor": "white",
            "linecolor": "white",
            "ticks": ""
           }
          },
          "title": {
           "x": 0.05
          },
          "xaxis": {
           "automargin": true,
           "gridcolor": "white",
           "linecolor": "white",
           "ticks": "",
           "title": {
            "standoff": 15
           },
           "zerolinecolor": "white",
           "zerolinewidth": 2
          },
          "yaxis": {
           "automargin": true,
           "gridcolor": "white",
           "linecolor": "white",
           "ticks": "",
           "title": {
            "standoff": 15
           },
           "zerolinecolor": "white",
           "zerolinewidth": 2
          }
         }
        }
       }
      }
     },
     "metadata": {},
     "output_type": "display_data"
    }
   ],
   "source": [
    "import plotly.express as px\n",
    "import plotly.graph_objects as go\n",
    "\n",
    "sort_significant = influenced_prophet.sort_values(by='Year')\n",
    "\n",
    "\n",
    "sort_significant['Label'] = sort_significant['Character Name'] + \" from \" + sort_significant['Movie Name']\n",
    "\n",
    "# 2. Prepare list of names for each year\n",
    "names_by_year = (\n",
    "    sort_significant.groupby('Year')['Label']\n",
    "    .apply(list)\n",
    "    .to_dict()\n",
    ")\n",
    "\n",
    "# 3. Create a list of frames for each year\n",
    "frames = []\n",
    "for year, names in names_by_year.items():\n",
    "    text = f\"Influenced Names in {year}:<br>\" + \",<br>\".join(names)\n",
    "    frame = go.Frame(\n",
    "        data=[],\n",
    "        name=str(year),\n",
    "        layout=go.Layout(\n",
    "            annotations=[\n",
    "                dict(\n",
    "                    text=text,\n",
    "                    x=0.5, y=0.5,\n",
    "                    xref=\"paper\", yref=\"paper\",\n",
    "                    showarrow=False,\n",
    "                    font=dict(size=16),\n",
    "                    align=\"center\",\n",
    "                )\n",
    "            ]\n",
    "        )\n",
    "    )\n",
    "    frames.append(frame)\n",
    "\n",
    "# 4. Create the initial figure\n",
    "initial_year = min(names_by_year.keys())\n",
    "initial_text = f\"Influenced Names in {initial_year}:<br>\" + \",<br>\".join(names_by_year[initial_year])\n",
    "\n",
    "fig = go.Figure(\n",
    "    data=[],\n",
    "    layout=go.Layout(\n",
    "        annotations=[\n",
    "            dict(\n",
    "                text=initial_text,\n",
    "                x=0.5, y=0.5,\n",
    "                xref=\"paper\", yref=\"paper\",\n",
    "                showarrow=False,\n",
    "                font=dict(size=16),\n",
    "                align=\"center\",\n",
    "            )\n",
    "        ],\n",
    "        sliders=[dict(\n",
    "            active=0,\n",
    "            currentvalue={\"prefix\": \"Year: \"},\n",
    "            pad={\"t\": 50},\n",
    "            steps=[\n",
    "                dict(\n",
    "                    method=\"animate\",\n",
    "                    args=[\n",
    "                        [str(year)],  # Name of the frame\n",
    "                        {\"mode\": \"immediate\", \"frame\": {\"duration\": 0, \"redraw\": True}},\n",
    "                    ],\n",
    "                    label=str(year),\n",
    "                )\n",
    "                for year in names_by_year.keys()\n",
    "            ],\n",
    "        )],\n",
    "    ),\n",
    "    frames=frames\n",
    ")\n",
    "\n",
    "# 5. Show the figure\n",
    "fig.show()\n",
    "\n"
   ]
  },
  {
   "cell_type": "code",
   "execution_count": null,
   "metadata": {},
   "outputs": [],
   "source": []
  }
 ],
 "metadata": {
  "kernelspec": {
   "display_name": "Python 3",
   "language": "python",
   "name": "python3"
  },
  "language_info": {
   "codemirror_mode": {
    "name": "ipython",
    "version": 3
   },
   "file_extension": ".py",
   "mimetype": "text/x-python",
   "name": "python",
   "nbconvert_exporter": "python",
   "pygments_lexer": "ipython3",
   "version": "3.11.3"
  }
 },
 "nbformat": 4,
 "nbformat_minor": 2
}
