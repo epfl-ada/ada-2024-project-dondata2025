{
 "cells": [
  {
   "cell_type": "code",
   "execution_count": 1,
   "metadata": {},
   "outputs": [],
   "source": [
    "import pandas as pd"
   ]
  },
  {
   "cell_type": "code",
   "execution_count": 9,
   "metadata": {},
   "outputs": [
    {
     "data": {
      "text/html": [
       "<div>\n",
       "<style scoped>\n",
       "    .dataframe tbody tr th:only-of-type {\n",
       "        vertical-align: middle;\n",
       "    }\n",
       "\n",
       "    .dataframe tbody tr th {\n",
       "        vertical-align: top;\n",
       "    }\n",
       "\n",
       "    .dataframe thead th {\n",
       "        text-align: right;\n",
       "    }\n",
       "</style>\n",
       "<table border=\"1\" class=\"dataframe\">\n",
       "  <thead>\n",
       "    <tr style=\"text-align: right;\">\n",
       "      <th></th>\n",
       "      <th>Year</th>\n",
       "      <th>Name</th>\n",
       "      <th>Sex</th>\n",
       "      <th>Count</th>\n",
       "    </tr>\n",
       "  </thead>\n",
       "  <tbody>\n",
       "    <tr>\n",
       "      <th>0</th>\n",
       "      <td>1960</td>\n",
       "      <td>AAGE</td>\n",
       "      <td>M</td>\n",
       "      <td>23</td>\n",
       "    </tr>\n",
       "    <tr>\n",
       "      <th>1</th>\n",
       "      <td>1960</td>\n",
       "      <td>AASE</td>\n",
       "      <td>F</td>\n",
       "      <td>41</td>\n",
       "    </tr>\n",
       "    <tr>\n",
       "      <th>2</th>\n",
       "      <td>1960</td>\n",
       "      <td>AASHILD</td>\n",
       "      <td>F</td>\n",
       "      <td>5</td>\n",
       "    </tr>\n",
       "    <tr>\n",
       "      <th>3</th>\n",
       "      <td>1960</td>\n",
       "      <td>AASMUND</td>\n",
       "      <td>M</td>\n",
       "      <td>8</td>\n",
       "    </tr>\n",
       "    <tr>\n",
       "      <th>4</th>\n",
       "      <td>1960</td>\n",
       "      <td>ABBAS</td>\n",
       "      <td>M</td>\n",
       "      <td>5</td>\n",
       "    </tr>\n",
       "  </tbody>\n",
       "</table>\n",
       "</div>"
      ],
      "text/plain": [
       "   Year     Name Sex  Count\n",
       "0  1960     AAGE   M     23\n",
       "1  1960     AASE   F     41\n",
       "2  1960  AASHILD   F      5\n",
       "3  1960  AASMUND   M      8\n",
       "4  1960    ABBAS   M      5"
      ]
     },
     "execution_count": 9,
     "metadata": {},
     "output_type": "execute_result"
    }
   ],
   "source": [
    "danish_df = pd.read_csv('data/clean/names/norway_merged.csv')\n",
    "danish_df.head(5)"
   ]
  },
  {
   "cell_type": "code",
   "execution_count": 53,
   "metadata": {},
   "outputs": [
    {
     "data": {
      "application/vnd.plotly.v1+json": {
       "config": {
        "plotlyServerURL": "https://plot.ly"
       },
       "data": [
        {
         "line": {
          "width": 2
         },
         "mode": "lines",
         "name": "ANNE",
         "showlegend": false,
         "type": "scatter",
         "x": [
          1960,
          1961,
          1962,
          1963,
          1964,
          1965,
          1966,
          1967,
          1968,
          1969
         ],
         "y": [
          1760,
          1734,
          1718,
          1763,
          1682,
          1757,
          1634,
          1559,
          1453,
          1333
         ]
        },
        {
         "line": {
          "width": 2
         },
         "mode": "lines",
         "name": "JAN",
         "showlegend": false,
         "type": "scatter",
         "x": [
          1960,
          1961,
          1962,
          1963,
          1964,
          1965,
          1966,
          1967,
          1968,
          1969
         ],
         "y": [
          1337,
          1395,
          1342,
          1361,
          1256,
          1357,
          1327,
          1269,
          1259,
          1141
         ]
        },
        {
         "line": {
          "width": 2
         },
         "mode": "lines",
         "name": "BJORN",
         "showlegend": false,
         "type": "scatter",
         "x": [
          1960,
          1961,
          1962,
          1963,
          1964,
          1965,
          1966,
          1967,
          1968,
          1969
         ],
         "y": [
          952,
          927,
          960,
          968,
          1055,
          1070,
          1070,
          1043,
          1025,
          874
         ]
        },
        {
         "line": {
          "width": 2
         },
         "mode": "lines",
         "name": "GEIR",
         "showlegend": false,
         "type": "scatter",
         "x": [
          1960,
          1961,
          1962,
          1963,
          1964,
          1965,
          1966,
          1967,
          1968,
          1969
         ],
         "y": [
          885,
          908,
          882,
          969,
          912,
          970,
          965,
          957,
          988,
          881
         ]
        },
        {
         "line": {
          "width": 2
         },
         "mode": "lines",
         "name": "PER",
         "showlegend": false,
         "type": "scatter",
         "x": [
          1960,
          1961,
          1962,
          1963,
          1964,
          1965,
          1966,
          1967,
          1968,
          1969
         ],
         "y": [
          935,
          987,
          971,
          958,
          1045,
          982,
          914,
          860,
          833,
          745
         ]
        },
        {
         "line": {
          "width": 2
         },
         "mode": "lines",
         "name": "RUNE",
         "showlegend": false,
         "type": "scatter",
         "x": [
          1960,
          1961,
          1962,
          1963,
          1964,
          1965,
          1966,
          1967,
          1968,
          1969
         ],
         "y": [
          579,
          635,
          601,
          675,
          713,
          687,
          746,
          755,
          824,
          873
         ]
        },
        {
         "line": {
          "width": 2
         },
         "mode": "lines",
         "name": "HILDE",
         "showlegend": false,
         "type": "scatter",
         "x": [
          1960,
          1961,
          1962,
          1963,
          1964,
          1965,
          1966,
          1967,
          1968,
          1969
         ],
         "y": [
          520,
          560,
          618,
          663,
          661,
          680,
          775,
          783,
          765,
          776
         ]
        },
        {
         "line": {
          "width": 2
         },
         "mode": "lines",
         "name": "TERJE",
         "showlegend": false,
         "type": "scatter",
         "x": [
          1960,
          1961,
          1962,
          1963,
          1964,
          1965,
          1966,
          1967,
          1968,
          1969
         ],
         "y": [
          647,
          608,
          622,
          620,
          644,
          724,
          636,
          641,
          605,
          611
         ]
        },
        {
         "line": {
          "width": 2
         },
         "mode": "lines",
         "name": "NINA",
         "showlegend": false,
         "type": "scatter",
         "x": [
          1960,
          1961,
          1962,
          1963,
          1964,
          1965,
          1966,
          1967,
          1968,
          1969
         ],
         "y": [
          483,
          538,
          556,
          580,
          646,
          664,
          766,
          729,
          673,
          721
         ]
        },
        {
         "line": {
          "width": 2
         },
         "mode": "lines",
         "name": "BENTE",
         "showlegend": false,
         "type": "scatter",
         "x": [
          1960,
          1961,
          1962,
          1963,
          1964,
          1965,
          1966,
          1967,
          1968,
          1969
         ],
         "y": [
          714,
          651,
          635,
          562,
          632,
          645,
          622,
          630,
          626,
          490
         ]
        }
       ],
       "frames": [
        {
         "data": [
          {
           "line": {
            "width": 2
           },
           "mode": "lines",
           "name": "ANNE",
           "showlegend": false,
           "type": "scatter",
           "x": [
            1960,
            1961,
            1962,
            1963,
            1964,
            1965,
            1966,
            1967,
            1968,
            1969
           ],
           "y": [
            1760,
            1734,
            1718,
            1763,
            1682,
            1757,
            1634,
            1559,
            1453,
            1333
           ]
          },
          {
           "line": {
            "width": 2
           },
           "mode": "lines",
           "name": "JAN",
           "showlegend": false,
           "type": "scatter",
           "x": [
            1960,
            1961,
            1962,
            1963,
            1964,
            1965,
            1966,
            1967,
            1968,
            1969
           ],
           "y": [
            1337,
            1395,
            1342,
            1361,
            1256,
            1357,
            1327,
            1269,
            1259,
            1141
           ]
          },
          {
           "line": {
            "width": 2
           },
           "mode": "lines",
           "name": "BJORN",
           "showlegend": false,
           "type": "scatter",
           "x": [
            1960,
            1961,
            1962,
            1963,
            1964,
            1965,
            1966,
            1967,
            1968,
            1969
           ],
           "y": [
            952,
            927,
            960,
            968,
            1055,
            1070,
            1070,
            1043,
            1025,
            874
           ]
          },
          {
           "line": {
            "width": 2
           },
           "mode": "lines",
           "name": "GEIR",
           "showlegend": false,
           "type": "scatter",
           "x": [
            1960,
            1961,
            1962,
            1963,
            1964,
            1965,
            1966,
            1967,
            1968,
            1969
           ],
           "y": [
            885,
            908,
            882,
            969,
            912,
            970,
            965,
            957,
            988,
            881
           ]
          },
          {
           "line": {
            "width": 2
           },
           "mode": "lines",
           "name": "PER",
           "showlegend": false,
           "type": "scatter",
           "x": [
            1960,
            1961,
            1962,
            1963,
            1964,
            1965,
            1966,
            1967,
            1968,
            1969
           ],
           "y": [
            935,
            987,
            971,
            958,
            1045,
            982,
            914,
            860,
            833,
            745
           ]
          },
          {
           "line": {
            "width": 2
           },
           "mode": "lines",
           "name": "RUNE",
           "showlegend": false,
           "type": "scatter",
           "x": [
            1960,
            1961,
            1962,
            1963,
            1964,
            1965,
            1966,
            1967,
            1968,
            1969
           ],
           "y": [
            579,
            635,
            601,
            675,
            713,
            687,
            746,
            755,
            824,
            873
           ]
          },
          {
           "line": {
            "width": 2
           },
           "mode": "lines",
           "name": "HILDE",
           "showlegend": false,
           "type": "scatter",
           "x": [
            1960,
            1961,
            1962,
            1963,
            1964,
            1965,
            1966,
            1967,
            1968,
            1969
           ],
           "y": [
            520,
            560,
            618,
            663,
            661,
            680,
            775,
            783,
            765,
            776
           ]
          },
          {
           "line": {
            "width": 2
           },
           "mode": "lines",
           "name": "TERJE",
           "showlegend": false,
           "type": "scatter",
           "x": [
            1960,
            1961,
            1962,
            1963,
            1964,
            1965,
            1966,
            1967,
            1968,
            1969
           ],
           "y": [
            647,
            608,
            622,
            620,
            644,
            724,
            636,
            641,
            605,
            611
           ]
          },
          {
           "line": {
            "width": 2
           },
           "mode": "lines",
           "name": "NINA",
           "showlegend": false,
           "type": "scatter",
           "x": [
            1960,
            1961,
            1962,
            1963,
            1964,
            1965,
            1966,
            1967,
            1968,
            1969
           ],
           "y": [
            483,
            538,
            556,
            580,
            646,
            664,
            766,
            729,
            673,
            721
           ]
          },
          {
           "line": {
            "width": 2
           },
           "mode": "lines",
           "name": "BENTE",
           "showlegend": false,
           "type": "scatter",
           "x": [
            1960,
            1961,
            1962,
            1963,
            1964,
            1965,
            1966,
            1967,
            1968,
            1969
           ],
           "y": [
            714,
            651,
            635,
            562,
            632,
            645,
            622,
            630,
            626,
            490
           ]
          }
         ],
         "layout": {
          "annotations": [
           {
            "align": "center",
            "font": {
             "size": 14
            },
            "showarrow": false,
            "text": "Top 10 Names in 1960s: ANNE, JAN, BJORN, GEIR, PER, RUNE, HILDE, TERJE, NINA, BENTE",
            "x": 0.5,
            "xref": "paper",
            "y": -0.2,
            "yref": "paper"
           }
          ]
         },
         "name": "1960"
        },
        {
         "data": [
          {
           "line": {
            "width": 2
           },
           "mode": "lines",
           "name": "ANNE",
           "showlegend": false,
           "type": "scatter",
           "x": [
            1970,
            1971,
            1972,
            1973,
            1974,
            1975,
            1976,
            1977,
            1978,
            1979
           ],
           "y": [
            1130,
            1030,
            920,
            858,
            780,
            677,
            650,
            558,
            612,
            593
           ]
          },
          {
           "line": {
            "width": 2
           },
           "mode": "lines",
           "name": "JAN",
           "showlegend": false,
           "type": "scatter",
           "x": [
            1970,
            1971,
            1972,
            1973,
            1974,
            1975,
            1976,
            1977,
            1978,
            1979
           ],
           "y": [
            1113,
            1030,
            875,
            832,
            733,
            650,
            558,
            547,
            572,
            519
           ]
          },
          {
           "line": {
            "width": 2
           },
           "mode": "lines",
           "name": "THOMAS",
           "showlegend": false,
           "type": "scatter",
           "x": [
            1970,
            1971,
            1972,
            1973,
            1974,
            1975,
            1976,
            1977,
            1978,
            1979
           ],
           "y": [
            378,
            542,
            639,
            695,
            769,
            832,
            738,
            679,
            605,
            680
           ]
          },
          {
           "line": {
            "width": 2
           },
           "mode": "lines",
           "name": "LINDA",
           "showlegend": false,
           "type": "scatter",
           "x": [
            1970,
            1971,
            1972,
            1973,
            1974,
            1975,
            1976,
            1977,
            1978,
            1979
           ],
           "y": [
            536,
            553,
            624,
            659,
            713,
            729,
            574,
            623,
            629,
            549
           ]
          },
          {
           "line": {
            "width": 2
           },
           "mode": "lines",
           "name": "HEGE",
           "showlegend": false,
           "type": "scatter",
           "x": [
            1970,
            1971,
            1972,
            1973,
            1974,
            1975,
            1976,
            1977,
            1978,
            1979
           ],
           "y": [
            785,
            845,
            845,
            838,
            687,
            570,
            417,
            366,
            329,
            343
           ]
          },
          {
           "line": {
            "width": 2
           },
           "mode": "lines",
           "name": "LARS",
           "showlegend": false,
           "type": "scatter",
           "x": [
            1970,
            1971,
            1972,
            1973,
            1974,
            1975,
            1976,
            1977,
            1978,
            1979
           ],
           "y": [
            638,
            675,
            584,
            588,
            597,
            627,
            576,
            596,
            596,
            548
           ]
          },
          {
           "line": {
            "width": 2
           },
           "mode": "lines",
           "name": "RUNE",
           "showlegend": false,
           "type": "scatter",
           "x": [
            1970,
            1971,
            1972,
            1973,
            1974,
            1975,
            1976,
            1977,
            1978,
            1979
           ],
           "y": [
            841,
            802,
            728,
            752,
            597,
            536,
            484,
            409,
            434,
            345
           ]
          },
          {
           "line": {
            "width": 2
           },
           "mode": "lines",
           "name": "MONICA",
           "showlegend": false,
           "type": "scatter",
           "x": [
            1970,
            1971,
            1972,
            1973,
            1974,
            1975,
            1976,
            1977,
            1978,
            1979
           ],
           "y": [
            642,
            745,
            838,
            673,
            619,
            619,
            527,
            460,
            399,
            377
           ]
          },
          {
           "line": {
            "width": 2
           },
           "mode": "lines",
           "name": "BJORN",
           "showlegend": false,
           "type": "scatter",
           "x": [
            1970,
            1971,
            1972,
            1973,
            1974,
            1975,
            1976,
            1977,
            1978,
            1979
           ],
           "y": [
            794,
            736,
            693,
            587,
            542,
            517,
            454,
            461,
            463,
            423
           ]
          },
          {
           "line": {
            "width": 2
           },
           "mode": "lines",
           "name": "MORTEN",
           "showlegend": false,
           "type": "scatter",
           "x": [
            1970,
            1971,
            1972,
            1973,
            1974,
            1975,
            1976,
            1977,
            1978,
            1979
           ],
           "y": [
            614,
            606,
            661,
            734,
            614,
            522,
            476,
            478,
            457,
            423
           ]
          }
         ],
         "layout": {
          "annotations": [
           {
            "align": "center",
            "font": {
             "size": 14
            },
            "showarrow": false,
            "text": "Top 10 Names in 1970s: ANNE, JAN, THOMAS, LINDA, HEGE, LARS, RUNE, MONICA, BJORN, MORTEN",
            "x": 0.5,
            "xref": "paper",
            "y": -0.2,
            "yref": "paper"
           }
          ]
         },
         "name": "1970"
        },
        {
         "data": [
          {
           "line": {
            "width": 2
           },
           "mode": "lines",
           "name": "THOMAS",
           "showlegend": false,
           "type": "scatter",
           "x": [
            1980,
            1981,
            1982,
            1983,
            1984,
            1985,
            1986,
            1987,
            1988,
            1989
           ],
           "y": [
            698,
            652,
            667,
            649,
            698,
            671,
            727,
            781,
            736,
            781
           ]
          },
          {
           "line": {
            "width": 2
           },
           "mode": "lines",
           "name": "STIAN",
           "showlegend": false,
           "type": "scatter",
           "x": [
            1980,
            1981,
            1982,
            1983,
            1984,
            1985,
            1986,
            1987,
            1988,
            1989
           ],
           "y": [
            525,
            504,
            522,
            588,
            585,
            588,
            593,
            638,
            664,
            593
           ]
          },
          {
           "line": {
            "width": 2
           },
           "mode": "lines",
           "name": "SILJE",
           "showlegend": false,
           "type": "scatter",
           "x": [
            1980,
            1981,
            1982,
            1983,
            1984,
            1985,
            1986,
            1987,
            1988,
            1989
           ],
           "y": [
            389,
            436,
            487,
            516,
            598,
            712,
            684,
            601,
            594,
            627
           ]
          },
          {
           "line": {
            "width": 2
           },
           "mode": "lines",
           "name": "LARS",
           "showlegend": false,
           "type": "scatter",
           "x": [
            1980,
            1981,
            1982,
            1983,
            1984,
            1985,
            1986,
            1987,
            1988,
            1989
           ],
           "y": [
            566,
            576,
            544,
            524,
            514,
            533,
            542,
            506,
            495,
            507
           ]
          },
          {
           "line": {
            "width": 2
           },
           "mode": "lines",
           "name": "ANDERS",
           "showlegend": false,
           "type": "scatter",
           "x": [
            1980,
            1981,
            1982,
            1983,
            1984,
            1985,
            1986,
            1987,
            1988,
            1989
           ],
           "y": [
            501,
            521,
            517,
            499,
            523,
            553,
            497,
            480,
            547,
            528
           ]
          },
          {
           "line": {
            "width": 2
           },
           "mode": "lines",
           "name": "ANDREAS",
           "showlegend": false,
           "type": "scatter",
           "x": [
            1980,
            1981,
            1982,
            1983,
            1984,
            1985,
            1986,
            1987,
            1988,
            1989
           ],
           "y": [
            356,
            361,
            378,
            403,
            479,
            492,
            515,
            606,
            665,
            654
           ]
          },
          {
           "line": {
            "width": 2
           },
           "mode": "lines",
           "name": "MARIUS",
           "showlegend": false,
           "type": "scatter",
           "x": [
            1980,
            1981,
            1982,
            1983,
            1984,
            1985,
            1986,
            1987,
            1988,
            1989
           ],
           "y": [
            319,
            447,
            383,
            429,
            446,
            463,
            506,
            471,
            605,
            608
           ]
          },
          {
           "line": {
            "width": 2
           },
           "mode": "lines",
           "name": "DANIEL",
           "showlegend": false,
           "type": "scatter",
           "x": [
            1980,
            1981,
            1982,
            1983,
            1984,
            1985,
            1986,
            1987,
            1988,
            1989
           ],
           "y": [
            300,
            268,
            315,
            388,
            441,
            432,
            447,
            570,
            659,
            653
           ]
          },
          {
           "line": {
            "width": 2
           },
           "mode": "lines",
           "name": "CAMILLA",
           "showlegend": false,
           "type": "scatter",
           "x": [
            1980,
            1981,
            1982,
            1983,
            1984,
            1985,
            1986,
            1987,
            1988,
            1989
           ],
           "y": [
            489,
            414,
            394,
            391,
            389,
            399,
            415,
            450,
            526,
            569
           ]
          },
          {
           "line": {
            "width": 2
           },
           "mode": "lines",
           "name": "MORTEN",
           "showlegend": false,
           "type": "scatter",
           "x": [
            1980,
            1981,
            1982,
            1983,
            1984,
            1985,
            1986,
            1987,
            1988,
            1989
           ],
           "y": [
            468,
            425,
            453,
            408,
            426,
            381,
            518,
            482,
            449,
            418
           ]
          }
         ],
         "layout": {
          "annotations": [
           {
            "align": "center",
            "font": {
             "size": 14
            },
            "showarrow": false,
            "text": "Top 10 Names in 1980s: THOMAS, STIAN, SILJE, LARS, ANDERS, ANDREAS, MARIUS, DANIEL, CAMILLA, MORTEN",
            "x": 0.5,
            "xref": "paper",
            "y": -0.2,
            "yref": "paper"
           }
          ]
         },
         "name": "1980"
        },
        {
         "data": [
          {
           "line": {
            "width": 2
           },
           "mode": "lines",
           "name": "MARTIN",
           "showlegend": false,
           "type": "scatter",
           "x": [
            1990,
            1991,
            1992,
            1993,
            1994,
            1995,
            1996,
            1997,
            1998,
            1999
           ],
           "y": [
            606,
            683,
            799,
            987,
            797,
            777,
            719,
            652,
            635,
            655
           ]
          },
          {
           "line": {
            "width": 2
           },
           "mode": "lines",
           "name": "ANDREAS",
           "showlegend": false,
           "type": "scatter",
           "x": [
            1990,
            1991,
            1992,
            1993,
            1994,
            1995,
            1996,
            1997,
            1998,
            1999
           ],
           "y": [
            689,
            733,
            741,
            667,
            625,
            755,
            698,
            692,
            603,
            630
           ]
          },
          {
           "line": {
            "width": 2
           },
           "mode": "lines",
           "name": "IDA",
           "showlegend": false,
           "type": "scatter",
           "x": [
            1990,
            1991,
            1992,
            1993,
            1994,
            1995,
            1996,
            1997,
            1998,
            1999
           ],
           "y": [
            732,
            678,
            650,
            682,
            561,
            555,
            562,
            563,
            529,
            496
           ]
          },
          {
           "line": {
            "width": 2
           },
           "mode": "lines",
           "name": "DANIEL",
           "showlegend": false,
           "type": "scatter",
           "x": [
            1990,
            1991,
            1992,
            1993,
            1994,
            1995,
            1996,
            1997,
            1998,
            1999
           ],
           "y": [
            656,
            653,
            696,
            601,
            606,
            577,
            570,
            532,
            563,
            522
           ]
          },
          {
           "line": {
            "width": 2
           },
           "mode": "lines",
           "name": "THOMAS",
           "showlegend": false,
           "type": "scatter",
           "x": [
            1990,
            1991,
            1992,
            1993,
            1994,
            1995,
            1996,
            1997,
            1998,
            1999
           ],
           "y": [
            782,
            628,
            623,
            573,
            562,
            528,
            448,
            506,
            437,
            482
           ]
          },
          {
           "line": {
            "width": 2
           },
           "mode": "lines",
           "name": "SILJE",
           "showlegend": false,
           "type": "scatter",
           "x": [
            1990,
            1991,
            1992,
            1993,
            1994,
            1995,
            1996,
            1997,
            1998,
            1999
           ],
           "y": [
            636,
            686,
            597,
            590,
            579,
            534,
            464,
            440,
            493,
            375
           ]
          },
          {
           "line": {
            "width": 2
           },
           "mode": "lines",
           "name": "MARIUS",
           "showlegend": false,
           "type": "scatter",
           "x": [
            1990,
            1991,
            1992,
            1993,
            1994,
            1995,
            1996,
            1997,
            1998,
            1999
           ],
           "y": [
            590,
            608,
            581,
            534,
            518,
            537,
            479,
            482,
            431,
            425
           ]
          },
          {
           "line": {
            "width": 2
           },
           "mode": "lines",
           "name": "FREDRIK",
           "showlegend": false,
           "type": "scatter",
           "x": [
            1990,
            1991,
            1992,
            1993,
            1994,
            1995,
            1996,
            1997,
            1998,
            1999
           ],
           "y": [
            525,
            552,
            519,
            484,
            474,
            475,
            495,
            470,
            417,
            400
           ]
          },
          {
           "line": {
            "width": 2
           },
           "mode": "lines",
           "name": "OLE",
           "showlegend": false,
           "type": "scatter",
           "x": [
            1990,
            1991,
            1992,
            1993,
            1994,
            1995,
            1996,
            1997,
            1998,
            1999
           ],
           "y": [
            519,
            513,
            526,
            477,
            482,
            450,
            480,
            431,
            440,
            407
           ]
          },
          {
           "line": {
            "width": 2
           },
           "mode": "lines",
           "name": "MARIA",
           "showlegend": false,
           "type": "scatter",
           "x": [
            1990,
            1991,
            1992,
            1993,
            1994,
            1995,
            1996,
            1997,
            1998,
            1999
           ],
           "y": [
            493,
            517,
            505,
            487,
            435,
            459,
            439,
            430,
            413,
            398
           ]
          }
         ],
         "layout": {
          "annotations": [
           {
            "align": "center",
            "font": {
             "size": 14
            },
            "showarrow": false,
            "text": "Top 10 Names in 1990s: MARTIN, ANDREAS, IDA, DANIEL, THOMAS, SILJE, MARIUS, FREDRIK, OLE, MARIA",
            "x": 0.5,
            "xref": "paper",
            "y": -0.2,
            "yref": "paper"
           }
          ]
         },
         "name": "1990"
        },
        {
         "data": [
          {
           "line": {
            "width": 2
           },
           "mode": "lines",
           "name": "EMMA",
           "showlegend": false,
           "type": "scatter",
           "x": [
            2000,
            2001,
            2002,
            2003,
            2004,
            2005,
            2006,
            2007,
            2008,
            2009
           ],
           "y": [
            382,
            389,
            446,
            795,
            738,
            513,
            486,
            476,
            594,
            599
           ]
          },
          {
           "line": {
            "width": 2
           },
           "mode": "lines",
           "name": "JONAS",
           "showlegend": false,
           "type": "scatter",
           "x": [
            2000,
            2001,
            2002,
            2003,
            2004,
            2005,
            2006,
            2007,
            2008,
            2009
           ],
           "y": [
            507,
            478,
            484,
            512,
            490,
            474,
            562,
            464,
            445,
            457
           ]
          },
          {
           "line": {
            "width": 2
           },
           "mode": "lines",
           "name": "MATHIAS",
           "showlegend": false,
           "type": "scatter",
           "x": [
            2000,
            2001,
            2002,
            2003,
            2004,
            2005,
            2006,
            2007,
            2008,
            2009
           ],
           "y": [
            499,
            445,
            469,
            499,
            504,
            446,
            487,
            446,
            453,
            429
           ]
          },
          {
           "line": {
            "width": 2
           },
           "mode": "lines",
           "name": "ANDREAS",
           "showlegend": false,
           "type": "scatter",
           "x": [
            2000,
            2001,
            2002,
            2003,
            2004,
            2005,
            2006,
            2007,
            2008,
            2009
           ],
           "y": [
            550,
            552,
            508,
            512,
            495,
            443,
            457,
            379,
            406,
            368
           ]
          },
          {
           "line": {
            "width": 2
           },
           "mode": "lines",
           "name": "IDA",
           "showlegend": false,
           "type": "scatter",
           "x": [
            2000,
            2001,
            2002,
            2003,
            2004,
            2005,
            2006,
            2007,
            2008,
            2009
           ],
           "y": [
            546,
            513,
            512,
            500,
            461,
            457,
            420,
            398,
            417,
            423
           ]
          },
          {
           "line": {
            "width": 2
           },
           "mode": "lines",
           "name": "MARTIN",
           "showlegend": false,
           "type": "scatter",
           "x": [
            2000,
            2001,
            2002,
            2003,
            2004,
            2005,
            2006,
            2007,
            2008,
            2009
           ],
           "y": [
            597,
            547,
            534,
            501,
            513,
            416,
            399,
            394,
            363,
            339
           ]
          },
          {
           "line": {
            "width": 2
           },
           "mode": "lines",
           "name": "THEA",
           "showlegend": false,
           "type": "scatter",
           "x": [
            2000,
            2001,
            2002,
            2003,
            2004,
            2005,
            2006,
            2007,
            2008,
            2009
           ],
           "y": [
            451,
            402,
            482,
            493,
            440,
            493,
            489,
            491,
            404,
            423
           ]
          },
          {
           "line": {
            "width": 2
           },
           "mode": "lines",
           "name": "SANDER",
           "showlegend": false,
           "type": "scatter",
           "x": [
            2000,
            2001,
            2002,
            2003,
            2004,
            2005,
            2006,
            2007,
            2008,
            2009
           ],
           "y": [
            585,
            523,
            501,
            471,
            433,
            402,
            422,
            389,
            339,
            424
           ]
          },
          {
           "line": {
            "width": 2
           },
           "mode": "lines",
           "name": "DANIEL",
           "showlegend": false,
           "type": "scatter",
           "x": [
            2000,
            2001,
            2002,
            2003,
            2004,
            2005,
            2006,
            2007,
            2008,
            2009
           ],
           "y": [
            485,
            492,
            470,
            468,
            457,
            444,
            405,
            403,
            418,
            420
           ]
          },
          {
           "line": {
            "width": 2
           },
           "mode": "lines",
           "name": "JULIE",
           "showlegend": false,
           "type": "scatter",
           "x": [
            2000,
            2001,
            2002,
            2003,
            2004,
            2005,
            2006,
            2007,
            2008,
            2009
           ],
           "y": [
            463,
            531,
            472,
            495,
            447,
            428,
            452,
            421,
            359,
            377
           ]
          }
         ],
         "layout": {
          "annotations": [
           {
            "align": "center",
            "font": {
             "size": 14
            },
            "showarrow": false,
            "text": "Top 10 Names in 2000s: EMMA, JONAS, MATHIAS, ANDREAS, IDA, MARTIN, THEA, SANDER, DANIEL, JULIE",
            "x": 0.5,
            "xref": "paper",
            "y": -0.2,
            "yref": "paper"
           }
          ]
         },
         "name": "2000"
        },
        {
         "data": [
          {
           "line": {
            "width": 2
           },
           "mode": "lines",
           "name": "EMMA",
           "showlegend": false,
           "type": "scatter",
           "x": [
            2010,
            2011,
            2012,
            2013,
            2014,
            2015,
            2016,
            2017,
            2018,
            2019
           ],
           "y": [
            513,
            471,
            440,
            423,
            428,
            451,
            407,
            399,
            436,
            418
           ]
          },
          {
           "line": {
            "width": 2
           },
           "mode": "lines",
           "name": "WILLIAM",
           "showlegend": false,
           "type": "scatter",
           "x": [
            2010,
            2011,
            2012,
            2013,
            2014,
            2015,
            2016,
            2017,
            2018,
            2019
           ],
           "y": [
            460,
            391,
            413,
            432,
            445,
            484,
            523,
            365,
            295,
            363
           ]
          },
          {
           "line": {
            "width": 2
           },
           "mode": "lines",
           "name": "NORA",
           "showlegend": false,
           "type": "scatter",
           "x": [
            2010,
            2011,
            2012,
            2013,
            2014,
            2015,
            2016,
            2017,
            2018,
            2019
           ],
           "y": [
            404,
            419,
            420,
            313,
            434,
            428,
            516,
            391,
            342,
            393
           ]
          },
          {
           "line": {
            "width": 2
           },
           "mode": "lines",
           "name": "EMIL",
           "showlegend": false,
           "type": "scatter",
           "x": [
            2010,
            2011,
            2012,
            2013,
            2014,
            2015,
            2016,
            2017,
            2018,
            2019
           ],
           "y": [
            534,
            486,
            407,
            320,
            417,
            355,
            377,
            409,
            363,
            374
           ]
          },
          {
           "line": {
            "width": 2
           },
           "mode": "lines",
           "name": "OLIVER",
           "showlegend": false,
           "type": "scatter",
           "x": [
            2010,
            2011,
            2012,
            2013,
            2014,
            2015,
            2016,
            2017,
            2018,
            2019
           ],
           "y": [
            402,
            385,
            372,
            383,
            334,
            422,
            397,
            401,
            410,
            352
           ]
          },
          {
           "line": {
            "width": 2
           },
           "mode": "lines",
           "name": "MAGNUS",
           "showlegend": false,
           "type": "scatter",
           "x": [
            2010,
            2011,
            2012,
            2013,
            2014,
            2015,
            2016,
            2017,
            2018,
            2019
           ],
           "y": [
            437,
            395,
            383,
            353,
            372,
            321,
            313,
            300,
            267,
            297
           ]
          },
          {
           "line": {
            "width": 2
           },
           "mode": "lines",
           "name": "MATHIAS",
           "showlegend": false,
           "type": "scatter",
           "x": [
            2010,
            2011,
            2012,
            2013,
            2014,
            2015,
            2016,
            2017,
            2018,
            2019
           ],
           "y": [
            450,
            407,
            369,
            344,
            347,
            370,
            363,
            265,
            252,
            218
           ]
          },
          {
           "line": {
            "width": 2
           },
           "mode": "lines",
           "name": "NOAH",
           "showlegend": false,
           "type": "scatter",
           "x": [
            2010,
            2011,
            2012,
            2013,
            2014,
            2015,
            2016,
            2017,
            2018,
            2019
           ],
           "y": [
            368,
            363,
            318,
            300,
            330,
            290,
            362,
            372,
            319,
            329
           ]
          },
          {
           "line": {
            "width": 2
           },
           "mode": "lines",
           "name": "SOFIE",
           "showlegend": false,
           "type": "scatter",
           "x": [
            2010,
            2011,
            2012,
            2013,
            2014,
            2015,
            2016,
            2017,
            2018,
            2019
           ],
           "y": [
            387,
            371,
            373,
            346,
            322,
            320,
            322,
            349,
            261,
            295
           ]
          },
          {
           "line": {
            "width": 2
           },
           "mode": "lines",
           "name": "HENRIK",
           "showlegend": false,
           "type": "scatter",
           "x": [
            2010,
            2011,
            2012,
            2013,
            2014,
            2015,
            2016,
            2017,
            2018,
            2019
           ],
           "y": [
            321,
            333,
            347,
            301,
            350,
            327,
            341,
            326,
            337,
            359
           ]
          }
         ],
         "layout": {
          "annotations": [
           {
            "align": "center",
            "font": {
             "size": 14
            },
            "showarrow": false,
            "text": "Top 10 Names in 2010s: EMMA, WILLIAM, NORA, EMIL, OLIVER, MAGNUS, MATHIAS, NOAH, SOFIE, HENRIK",
            "x": 0.5,
            "xref": "paper",
            "y": -0.2,
            "yref": "paper"
           }
          ]
         },
         "name": "2010"
        },
        {
         "data": [
          {
           "line": {
            "width": 2
           },
           "mode": "lines",
           "name": "NOAH",
           "showlegend": false,
           "type": "scatter",
           "x": [
            2020,
            2021,
            2022,
            2023,
            2024,
            2025,
            2026,
            2027,
            2028,
            2029
           ],
           "y": [
            333,
            383,
            400,
            391,
            0,
            0,
            0,
            0,
            0,
            0
           ]
          },
          {
           "line": {
            "width": 2
           },
           "mode": "lines",
           "name": "OLIVER",
           "showlegend": false,
           "type": "scatter",
           "x": [
            2020,
            2021,
            2022,
            2023,
            2024,
            2025,
            2026,
            2027,
            2028,
            2029
           ],
           "y": [
            354,
            367,
            382,
            366,
            0,
            0,
            0,
            0,
            0,
            0
           ]
          },
          {
           "line": {
            "width": 2
           },
           "mode": "lines",
           "name": "EMIL",
           "showlegend": false,
           "type": "scatter",
           "x": [
            2020,
            2021,
            2022,
            2023,
            2024,
            2025,
            2026,
            2027,
            2028,
            2029
           ],
           "y": [
            369,
            346,
            405,
            345,
            0,
            0,
            0,
            0,
            0,
            0
           ]
          },
          {
           "line": {
            "width": 2
           },
           "mode": "lines",
           "name": "NORA",
           "showlegend": false,
           "type": "scatter",
           "x": [
            2020,
            2021,
            2022,
            2023,
            2024,
            2025,
            2026,
            2027,
            2028,
            2029
           ],
           "y": [
            398,
            397,
            338,
            304,
            0,
            0,
            0,
            0,
            0,
            0
           ]
          },
          {
           "line": {
            "width": 2
           },
           "mode": "lines",
           "name": "EMMA",
           "showlegend": false,
           "type": "scatter",
           "x": [
            2020,
            2021,
            2022,
            2023,
            2024,
            2025,
            2026,
            2027,
            2028,
            2029
           ],
           "y": [
            362,
            369,
            337,
            360,
            0,
            0,
            0,
            0,
            0,
            0
           ]
          },
          {
           "line": {
            "width": 2
           },
           "mode": "lines",
           "name": "OLIVIA",
           "showlegend": false,
           "type": "scatter",
           "x": [
            2020,
            2021,
            2022,
            2023,
            2024,
            2025,
            2026,
            2027,
            2028,
            2029
           ],
           "y": [
            315,
            311,
            331,
            355,
            0,
            0,
            0,
            0,
            0,
            0
           ]
          },
          {
           "line": {
            "width": 2
           },
           "mode": "lines",
           "name": "ELLA",
           "showlegend": false,
           "type": "scatter",
           "x": [
            2020,
            2021,
            2022,
            2023,
            2024,
            2025,
            2026,
            2027,
            2028,
            2029
           ],
           "y": [
            337,
            302,
            326,
            341,
            0,
            0,
            0,
            0,
            0,
            0
           ]
          },
          {
           "line": {
            "width": 2
           },
           "mode": "lines",
           "name": "WILLIAM",
           "showlegend": false,
           "type": "scatter",
           "x": [
            2020,
            2021,
            2022,
            2023,
            2024,
            2025,
            2026,
            2027,
            2028,
            2029
           ],
           "y": [
            293,
            313,
            348,
            328,
            0,
            0,
            0,
            0,
            0,
            0
           ]
          },
          {
           "line": {
            "width": 2
           },
           "mode": "lines",
           "name": "ISAK",
           "showlegend": false,
           "type": "scatter",
           "x": [
            2020,
            2021,
            2022,
            2023,
            2024,
            2025,
            2026,
            2027,
            2028,
            2029
           ],
           "y": [
            222,
            315,
            348,
            327,
            0,
            0,
            0,
            0,
            0,
            0
           ]
          },
          {
           "line": {
            "width": 2
           },
           "mode": "lines",
           "name": "ELIAS",
           "showlegend": false,
           "type": "scatter",
           "x": [
            2020,
            2021,
            2022,
            2023,
            2024,
            2025,
            2026,
            2027,
            2028,
            2029
           ],
           "y": [
            249,
            283,
            277,
            345,
            0,
            0,
            0,
            0,
            0,
            0
           ]
          }
         ],
         "layout": {
          "annotations": [
           {
            "align": "center",
            "font": {
             "size": 14
            },
            "showarrow": false,
            "text": "Top 10 Names in 2020s: NOAH, OLIVER, EMIL, NORA, EMMA, OLIVIA, ELLA, WILLIAM, ISAK, ELIAS",
            "x": 0.5,
            "xref": "paper",
            "y": -0.2,
            "yref": "paper"
           }
          ]
         },
         "name": "2020"
        }
       ],
       "layout": {
        "annotations": [
         {
          "align": "center",
          "font": {
           "size": 16
          },
          "showarrow": false,
          "text": "Top 10 Danish Names in 1960s:<br>ANNE,<br>JAN,<br>BJORN,<br>GEIR,<br>PER,<br>RUNE,<br>HILDE,<br>TERJE,<br>NINA,<br>BENTE",
          "x": -0.3,
          "xref": "paper",
          "y": 0.95,
          "yref": "paper"
         }
        ],
        "sliders": [
         {
          "active": 0,
          "currentvalue": {
           "prefix": "Period: "
          },
          "pad": {
           "t": 50
          },
          "steps": [
           {
            "args": [
             [
              "1960"
             ],
             {
              "frame": {
               "duration": 500,
               "redraw": true
              },
              "mode": "immediate"
             }
            ],
            "label": "1960s",
            "method": "animate"
           },
           {
            "args": [
             [
              "1970"
             ],
             {
              "frame": {
               "duration": 500,
               "redraw": true
              },
              "mode": "immediate"
             }
            ],
            "label": "1970s",
            "method": "animate"
           },
           {
            "args": [
             [
              "1980"
             ],
             {
              "frame": {
               "duration": 500,
               "redraw": true
              },
              "mode": "immediate"
             }
            ],
            "label": "1980s",
            "method": "animate"
           },
           {
            "args": [
             [
              "1990"
             ],
             {
              "frame": {
               "duration": 500,
               "redraw": true
              },
              "mode": "immediate"
             }
            ],
            "label": "1990s",
            "method": "animate"
           },
           {
            "args": [
             [
              "2000"
             ],
             {
              "frame": {
               "duration": 500,
               "redraw": true
              },
              "mode": "immediate"
             }
            ],
            "label": "2000s",
            "method": "animate"
           },
           {
            "args": [
             [
              "2010"
             ],
             {
              "frame": {
               "duration": 500,
               "redraw": true
              },
              "mode": "immediate"
             }
            ],
            "label": "2010s",
            "method": "animate"
           },
           {
            "args": [
             [
              "2020"
             ],
             {
              "frame": {
               "duration": 500,
               "redraw": true
              },
              "mode": "immediate"
             }
            ],
            "label": "2020s",
            "method": "animate"
           }
          ]
         }
        ],
        "template": {
         "data": {
          "bar": [
           {
            "error_x": {
             "color": "#2a3f5f"
            },
            "error_y": {
             "color": "#2a3f5f"
            },
            "marker": {
             "line": {
              "color": "#E5ECF6",
              "width": 0.5
             },
             "pattern": {
              "fillmode": "overlay",
              "size": 10,
              "solidity": 0.2
             }
            },
            "type": "bar"
           }
          ],
          "barpolar": [
           {
            "marker": {
             "line": {
              "color": "#E5ECF6",
              "width": 0.5
             },
             "pattern": {
              "fillmode": "overlay",
              "size": 10,
              "solidity": 0.2
             }
            },
            "type": "barpolar"
           }
          ],
          "carpet": [
           {
            "aaxis": {
             "endlinecolor": "#2a3f5f",
             "gridcolor": "white",
             "linecolor": "white",
             "minorgridcolor": "white",
             "startlinecolor": "#2a3f5f"
            },
            "baxis": {
             "endlinecolor": "#2a3f5f",
             "gridcolor": "white",
             "linecolor": "white",
             "minorgridcolor": "white",
             "startlinecolor": "#2a3f5f"
            },
            "type": "carpet"
           }
          ],
          "choropleth": [
           {
            "colorbar": {
             "outlinewidth": 0,
             "ticks": ""
            },
            "type": "choropleth"
           }
          ],
          "contour": [
           {
            "colorbar": {
             "outlinewidth": 0,
             "ticks": ""
            },
            "colorscale": [
             [
              0,
              "#0d0887"
             ],
             [
              0.1111111111111111,
              "#46039f"
             ],
             [
              0.2222222222222222,
              "#7201a8"
             ],
             [
              0.3333333333333333,
              "#9c179e"
             ],
             [
              0.4444444444444444,
              "#bd3786"
             ],
             [
              0.5555555555555556,
              "#d8576b"
             ],
             [
              0.6666666666666666,
              "#ed7953"
             ],
             [
              0.7777777777777778,
              "#fb9f3a"
             ],
             [
              0.8888888888888888,
              "#fdca26"
             ],
             [
              1,
              "#f0f921"
             ]
            ],
            "type": "contour"
           }
          ],
          "contourcarpet": [
           {
            "colorbar": {
             "outlinewidth": 0,
             "ticks": ""
            },
            "type": "contourcarpet"
           }
          ],
          "heatmap": [
           {
            "colorbar": {
             "outlinewidth": 0,
             "ticks": ""
            },
            "colorscale": [
             [
              0,
              "#0d0887"
             ],
             [
              0.1111111111111111,
              "#46039f"
             ],
             [
              0.2222222222222222,
              "#7201a8"
             ],
             [
              0.3333333333333333,
              "#9c179e"
             ],
             [
              0.4444444444444444,
              "#bd3786"
             ],
             [
              0.5555555555555556,
              "#d8576b"
             ],
             [
              0.6666666666666666,
              "#ed7953"
             ],
             [
              0.7777777777777778,
              "#fb9f3a"
             ],
             [
              0.8888888888888888,
              "#fdca26"
             ],
             [
              1,
              "#f0f921"
             ]
            ],
            "type": "heatmap"
           }
          ],
          "heatmapgl": [
           {
            "colorbar": {
             "outlinewidth": 0,
             "ticks": ""
            },
            "colorscale": [
             [
              0,
              "#0d0887"
             ],
             [
              0.1111111111111111,
              "#46039f"
             ],
             [
              0.2222222222222222,
              "#7201a8"
             ],
             [
              0.3333333333333333,
              "#9c179e"
             ],
             [
              0.4444444444444444,
              "#bd3786"
             ],
             [
              0.5555555555555556,
              "#d8576b"
             ],
             [
              0.6666666666666666,
              "#ed7953"
             ],
             [
              0.7777777777777778,
              "#fb9f3a"
             ],
             [
              0.8888888888888888,
              "#fdca26"
             ],
             [
              1,
              "#f0f921"
             ]
            ],
            "type": "heatmapgl"
           }
          ],
          "histogram": [
           {
            "marker": {
             "pattern": {
              "fillmode": "overlay",
              "size": 10,
              "solidity": 0.2
             }
            },
            "type": "histogram"
           }
          ],
          "histogram2d": [
           {
            "colorbar": {
             "outlinewidth": 0,
             "ticks": ""
            },
            "colorscale": [
             [
              0,
              "#0d0887"
             ],
             [
              0.1111111111111111,
              "#46039f"
             ],
             [
              0.2222222222222222,
              "#7201a8"
             ],
             [
              0.3333333333333333,
              "#9c179e"
             ],
             [
              0.4444444444444444,
              "#bd3786"
             ],
             [
              0.5555555555555556,
              "#d8576b"
             ],
             [
              0.6666666666666666,
              "#ed7953"
             ],
             [
              0.7777777777777778,
              "#fb9f3a"
             ],
             [
              0.8888888888888888,
              "#fdca26"
             ],
             [
              1,
              "#f0f921"
             ]
            ],
            "type": "histogram2d"
           }
          ],
          "histogram2dcontour": [
           {
            "colorbar": {
             "outlinewidth": 0,
             "ticks": ""
            },
            "colorscale": [
             [
              0,
              "#0d0887"
             ],
             [
              0.1111111111111111,
              "#46039f"
             ],
             [
              0.2222222222222222,
              "#7201a8"
             ],
             [
              0.3333333333333333,
              "#9c179e"
             ],
             [
              0.4444444444444444,
              "#bd3786"
             ],
             [
              0.5555555555555556,
              "#d8576b"
             ],
             [
              0.6666666666666666,
              "#ed7953"
             ],
             [
              0.7777777777777778,
              "#fb9f3a"
             ],
             [
              0.8888888888888888,
              "#fdca26"
             ],
             [
              1,
              "#f0f921"
             ]
            ],
            "type": "histogram2dcontour"
           }
          ],
          "mesh3d": [
           {
            "colorbar": {
             "outlinewidth": 0,
             "ticks": ""
            },
            "type": "mesh3d"
           }
          ],
          "parcoords": [
           {
            "line": {
             "colorbar": {
              "outlinewidth": 0,
              "ticks": ""
             }
            },
            "type": "parcoords"
           }
          ],
          "pie": [
           {
            "automargin": true,
            "type": "pie"
           }
          ],
          "scatter": [
           {
            "fillpattern": {
             "fillmode": "overlay",
             "size": 10,
             "solidity": 0.2
            },
            "type": "scatter"
           }
          ],
          "scatter3d": [
           {
            "line": {
             "colorbar": {
              "outlinewidth": 0,
              "ticks": ""
             }
            },
            "marker": {
             "colorbar": {
              "outlinewidth": 0,
              "ticks": ""
             }
            },
            "type": "scatter3d"
           }
          ],
          "scattercarpet": [
           {
            "marker": {
             "colorbar": {
              "outlinewidth": 0,
              "ticks": ""
             }
            },
            "type": "scattercarpet"
           }
          ],
          "scattergeo": [
           {
            "marker": {
             "colorbar": {
              "outlinewidth": 0,
              "ticks": ""
             }
            },
            "type": "scattergeo"
           }
          ],
          "scattergl": [
           {
            "marker": {
             "colorbar": {
              "outlinewidth": 0,
              "ticks": ""
             }
            },
            "type": "scattergl"
           }
          ],
          "scattermapbox": [
           {
            "marker": {
             "colorbar": {
              "outlinewidth": 0,
              "ticks": ""
             }
            },
            "type": "scattermapbox"
           }
          ],
          "scatterpolar": [
           {
            "marker": {
             "colorbar": {
              "outlinewidth": 0,
              "ticks": ""
             }
            },
            "type": "scatterpolar"
           }
          ],
          "scatterpolargl": [
           {
            "marker": {
             "colorbar": {
              "outlinewidth": 0,
              "ticks": ""
             }
            },
            "type": "scatterpolargl"
           }
          ],
          "scatterternary": [
           {
            "marker": {
             "colorbar": {
              "outlinewidth": 0,
              "ticks": ""
             }
            },
            "type": "scatterternary"
           }
          ],
          "surface": [
           {
            "colorbar": {
             "outlinewidth": 0,
             "ticks": ""
            },
            "colorscale": [
             [
              0,
              "#0d0887"
             ],
             [
              0.1111111111111111,
              "#46039f"
             ],
             [
              0.2222222222222222,
              "#7201a8"
             ],
             [
              0.3333333333333333,
              "#9c179e"
             ],
             [
              0.4444444444444444,
              "#bd3786"
             ],
             [
              0.5555555555555556,
              "#d8576b"
             ],
             [
              0.6666666666666666,
              "#ed7953"
             ],
             [
              0.7777777777777778,
              "#fb9f3a"
             ],
             [
              0.8888888888888888,
              "#fdca26"
             ],
             [
              1,
              "#f0f921"
             ]
            ],
            "type": "surface"
           }
          ],
          "table": [
           {
            "cells": {
             "fill": {
              "color": "#EBF0F8"
             },
             "line": {
              "color": "white"
             }
            },
            "header": {
             "fill": {
              "color": "#C8D4E3"
             },
             "line": {
              "color": "white"
             }
            },
            "type": "table"
           }
          ]
         },
         "layout": {
          "annotationdefaults": {
           "arrowcolor": "#2a3f5f",
           "arrowhead": 0,
           "arrowwidth": 1
          },
          "autotypenumbers": "strict",
          "coloraxis": {
           "colorbar": {
            "outlinewidth": 0,
            "ticks": ""
           }
          },
          "colorscale": {
           "diverging": [
            [
             0,
             "#8e0152"
            ],
            [
             0.1,
             "#c51b7d"
            ],
            [
             0.2,
             "#de77ae"
            ],
            [
             0.3,
             "#f1b6da"
            ],
            [
             0.4,
             "#fde0ef"
            ],
            [
             0.5,
             "#f7f7f7"
            ],
            [
             0.6,
             "#e6f5d0"
            ],
            [
             0.7,
             "#b8e186"
            ],
            [
             0.8,
             "#7fbc41"
            ],
            [
             0.9,
             "#4d9221"
            ],
            [
             1,
             "#276419"
            ]
           ],
           "sequential": [
            [
             0,
             "#0d0887"
            ],
            [
             0.1111111111111111,
             "#46039f"
            ],
            [
             0.2222222222222222,
             "#7201a8"
            ],
            [
             0.3333333333333333,
             "#9c179e"
            ],
            [
             0.4444444444444444,
             "#bd3786"
            ],
            [
             0.5555555555555556,
             "#d8576b"
            ],
            [
             0.6666666666666666,
             "#ed7953"
            ],
            [
             0.7777777777777778,
             "#fb9f3a"
            ],
            [
             0.8888888888888888,
             "#fdca26"
            ],
            [
             1,
             "#f0f921"
            ]
           ],
           "sequentialminus": [
            [
             0,
             "#0d0887"
            ],
            [
             0.1111111111111111,
             "#46039f"
            ],
            [
             0.2222222222222222,
             "#7201a8"
            ],
            [
             0.3333333333333333,
             "#9c179e"
            ],
            [
             0.4444444444444444,
             "#bd3786"
            ],
            [
             0.5555555555555556,
             "#d8576b"
            ],
            [
             0.6666666666666666,
             "#ed7953"
            ],
            [
             0.7777777777777778,
             "#fb9f3a"
            ],
            [
             0.8888888888888888,
             "#fdca26"
            ],
            [
             1,
             "#f0f921"
            ]
           ]
          },
          "colorway": [
           "#636efa",
           "#EF553B",
           "#00cc96",
           "#ab63fa",
           "#FFA15A",
           "#19d3f3",
           "#FF6692",
           "#B6E880",
           "#FF97FF",
           "#FECB52"
          ],
          "font": {
           "color": "#2a3f5f"
          },
          "geo": {
           "bgcolor": "white",
           "lakecolor": "white",
           "landcolor": "#E5ECF6",
           "showlakes": true,
           "showland": true,
           "subunitcolor": "white"
          },
          "hoverlabel": {
           "align": "left"
          },
          "hovermode": "closest",
          "mapbox": {
           "style": "light"
          },
          "paper_bgcolor": "white",
          "plot_bgcolor": "#E5ECF6",
          "polar": {
           "angularaxis": {
            "gridcolor": "white",
            "linecolor": "white",
            "ticks": ""
           },
           "bgcolor": "#E5ECF6",
           "radialaxis": {
            "gridcolor": "white",
            "linecolor": "white",
            "ticks": ""
           }
          },
          "scene": {
           "xaxis": {
            "backgroundcolor": "#E5ECF6",
            "gridcolor": "white",
            "gridwidth": 2,
            "linecolor": "white",
            "showbackground": true,
            "ticks": "",
            "zerolinecolor": "white"
           },
           "yaxis": {
            "backgroundcolor": "#E5ECF6",
            "gridcolor": "white",
            "gridwidth": 2,
            "linecolor": "white",
            "showbackground": true,
            "ticks": "",
            "zerolinecolor": "white"
           },
           "zaxis": {
            "backgroundcolor": "#E5ECF6",
            "gridcolor": "white",
            "gridwidth": 2,
            "linecolor": "white",
            "showbackground": true,
            "ticks": "",
            "zerolinecolor": "white"
           }
          },
          "shapedefaults": {
           "line": {
            "color": "#2a3f5f"
           }
          },
          "ternary": {
           "aaxis": {
            "gridcolor": "white",
            "linecolor": "white",
            "ticks": ""
           },
           "baxis": {
            "gridcolor": "white",
            "linecolor": "white",
            "ticks": ""
           },
           "bgcolor": "#E5ECF6",
           "caxis": {
            "gridcolor": "white",
            "linecolor": "white",
            "ticks": ""
           }
          },
          "title": {
           "x": 0.05
          },
          "xaxis": {
           "automargin": true,
           "gridcolor": "white",
           "linecolor": "white",
           "ticks": "",
           "title": {
            "standoff": 15
           },
           "zerolinecolor": "white",
           "zerolinewidth": 2
          },
          "yaxis": {
           "automargin": true,
           "gridcolor": "white",
           "linecolor": "white",
           "ticks": "",
           "title": {
            "standoff": 15
           },
           "zerolinecolor": "white",
           "zerolinewidth": 2
          }
         }
        }
       }
      }
     },
     "metadata": {},
     "output_type": "display_data"
    }
   ],
   "source": [
    "import pandas as pd\n",
    "import plotly.graph_objects as go\n",
    "\n",
    "# Step 1: Create a new column for 10-year periods\n",
    "danish_df['Period'] = (danish_df['Year'] // 10) * 10  # Group by decades (e.g., 1960-1969 becomes 1960)\n",
    "\n",
    "# Step 2: Aggregate by Period, Name, and Year\n",
    "aggregated_data = (\n",
    "    danish_df.groupby(['Period', 'Name', 'Year'], as_index=False)['Count']\n",
    "    .sum()  # Sum counts for the same name within the same period and year\n",
    ")\n",
    "\n",
    "# Step 3: Get top 10 names per period\n",
    "top_names_by_period = (\n",
    "    aggregated_data.groupby(['Period', 'Name'], as_index=False)['Count']\n",
    "    .sum()  # Sum total counts for the entire period\n",
    "    .sort_values(['Period', 'Count'], ascending=[True, False])  # Sort within each period\n",
    "    .groupby('Period', as_index=False)\n",
    "    .head(10)  # Keep only the top 10 names per period\n",
    ")\n",
    "\n",
    "# Step 4: Prepare the frames for each period\n",
    "frames = []\n",
    "for period in top_names_by_period['Period'].unique():\n",
    "    # Get the top 10 names for the current period\n",
    "    top_names = top_names_by_period[top_names_by_period['Period'] == period]['Name'].tolist()\n",
    "    \n",
    "    # Filter data for the top 10 names in this period\n",
    "    filtered_data = aggregated_data[(aggregated_data['Period'] == period) & (aggregated_data['Name'].isin(top_names))]\n",
    "    \n",
    "    # Ensure all years in the period are covered for each name\n",
    "    all_years = list(range(period, period + 10))\n",
    "    filled_data = []\n",
    "    for name in top_names:\n",
    "        name_data = filtered_data[filtered_data['Name'] == name]\n",
    "        # Fill missing years with 0 counts\n",
    "        name_data = name_data.set_index('Year').reindex(all_years, fill_value=0).reset_index()\n",
    "        name_data['Name'] = name  # Ensure the name column is preserved\n",
    "        filled_data.append(name_data)\n",
    "    \n",
    "    # Combine all filled data into one DataFrame\n",
    "    combined_data = pd.concat(filled_data)\n",
    "    \n",
    "    # Add line traces for the evolution of each name\n",
    "    line_traces = []\n",
    "    for name in top_names:\n",
    "        name_data = combined_data[combined_data['Name'] == name]\n",
    "        line_traces.append(go.Scatter(\n",
    "            x=name_data['Year'],\n",
    "            y=name_data['Count'],\n",
    "            mode='lines',\n",
    "            name=name,\n",
    "            line=dict(width=2),\n",
    "            showlegend=False,  # Hide legend for simplicity\n",
    "        ))\n",
    "\n",
    "        # Add text annotation for the top names below the plot\n",
    "    text = f\"Top 10 Names in {period}s: \" + \", \".join(top_names)\n",
    "    frame = go.Frame(\n",
    "        data=line_traces,\n",
    "        name=str(period),\n",
    "        layout=go.Layout(\n",
    "            annotations=[\n",
    "                dict(\n",
    "                    text=text,\n",
    "                    x=0.5,  # Center horizontally\n",
    "                    y=-0.2,  # Position below the plot\n",
    "                    xref=\"paper\", yref=\"paper\",\n",
    "                    showarrow=False,\n",
    "                    font=dict(size=14),\n",
    "                    align=\"center\",  # Align text to the center\n",
    "                )\n",
    "            ]\n",
    "        )\n",
    "    )\n",
    "    frames.append(frame)\n",
    "\n",
    "# Step 5: Create the initial figure\n",
    "initial_period = min(top_names_by_period['Period'].unique())\n",
    "initial_top_names = top_names_by_period[top_names_by_period['Period'] == initial_period]['Name'].tolist()\n",
    "initial_filtered_data = aggregated_data[(aggregated_data['Period'] == initial_period) & (aggregated_data['Name'].isin(initial_top_names))]\n",
    "\n",
    "# Ensure all years are filled for the initial period\n",
    "all_years = list(range(initial_period, initial_period + 10))\n",
    "filled_initial_data = []\n",
    "for name in initial_top_names:\n",
    "    name_data = initial_filtered_data[initial_filtered_data['Name'] == name]\n",
    "    name_data = name_data.set_index('Year').reindex(all_years, fill_value=0).reset_index()\n",
    "    name_data['Name'] = name\n",
    "    filled_initial_data.append(name_data)\n",
    "\n",
    "combined_initial_data = pd.concat(filled_initial_data)\n",
    "\n",
    "initial_data = []\n",
    "for name in initial_top_names:\n",
    "    name_data = combined_initial_data[combined_initial_data['Name'] == name]\n",
    "    initial_data.append(go.Scatter(\n",
    "        x=name_data['Year'],\n",
    "        y=name_data['Count'],\n",
    "        mode='lines',\n",
    "        name=name,\n",
    "        line=dict(width=2),\n",
    "        showlegend=False,\n",
    "    ))\n",
    "\n",
    "initial_text = f\"Top 10 Danish Names in {initial_period}s:<br>\" + \",<br>\".join(initial_top_names)\n",
    "\n",
    "fig = go.Figure(\n",
    "    data=initial_data,\n",
    "    layout=go.Layout(\n",
    "        annotations=[\n",
    "            dict(\n",
    "                text=initial_text,\n",
    "                x=-0.3, y=0.95,\n",
    "                xref=\"paper\", yref=\"paper\",\n",
    "                showarrow=False,\n",
    "                font=dict(size=16),\n",
    "                align=\"center\",\n",
    "            )\n",
    "        ],\n",
    "        sliders=[dict(\n",
    "            active=0,\n",
    "            currentvalue={\"prefix\": \"Period: \"},\n",
    "            pad={\"t\": 50},\n",
    "            steps=[\n",
    "                dict(\n",
    "                    method=\"animate\",\n",
    "                    args=[\n",
    "                        [str(period)],  # Name of the frame\n",
    "                        {\"mode\": \"immediate\", \"frame\": {\"duration\": 500, \"redraw\": True}}  # Animation settings\n",
    "                    ],\n",
    "                    label=f\"{period}s\",\n",
    "                )\n",
    "                for period in top_names_by_period['Period'].unique()\n",
    "            ],\n",
    "        )],\n",
    "    ),\n",
    "    frames=frames\n",
    ")\n",
    "\n",
    "# Step 6: Show the figure\n",
    "fig.show()\n"
   ]
  },
  {
   "cell_type": "code",
   "execution_count": 13,
   "metadata": {},
   "outputs": [
    {
     "name": "stdout",
     "output_type": "stream",
     "text": [
      "size of influenced_names:  (1447, 5)\n"
     ]
    },
    {
     "data": {
      "text/html": [
       "<div>\n",
       "<style scoped>\n",
       "    .dataframe tbody tr th:only-of-type {\n",
       "        vertical-align: middle;\n",
       "    }\n",
       "\n",
       "    .dataframe tbody tr th {\n",
       "        vertical-align: top;\n",
       "    }\n",
       "\n",
       "    .dataframe thead th {\n",
       "        text-align: right;\n",
       "    }\n",
       "</style>\n",
       "<table border=\"1\" class=\"dataframe\">\n",
       "  <thead>\n",
       "    <tr style=\"text-align: right;\">\n",
       "      <th></th>\n",
       "      <th>Movie Name</th>\n",
       "      <th>Year</th>\n",
       "      <th>Full name</th>\n",
       "      <th>Normalized_name</th>\n",
       "      <th>Mean Difference</th>\n",
       "    </tr>\n",
       "  </thead>\n",
       "  <tbody>\n",
       "    <tr>\n",
       "      <th>0</th>\n",
       "      <td>mission: impossible ii</td>\n",
       "      <td>2000</td>\n",
       "      <td>Ethan Hunt</td>\n",
       "      <td>ETHAN</td>\n",
       "      <td>15725.466667</td>\n",
       "    </tr>\n",
       "    <tr>\n",
       "      <th>1</th>\n",
       "      <td>the avengers</td>\n",
       "      <td>1998</td>\n",
       "      <td>Emma Peel</td>\n",
       "      <td>EMMA</td>\n",
       "      <td>14985.966667</td>\n",
       "    </tr>\n",
       "    <tr>\n",
       "      <th>2</th>\n",
       "      <td>man on fire</td>\n",
       "      <td>1987</td>\n",
       "      <td>Samantha \"Sam\" Balletto</td>\n",
       "      <td>SAMANTHA</td>\n",
       "      <td>14453.500000</td>\n",
       "    </tr>\n",
       "    <tr>\n",
       "      <th>3</th>\n",
       "      <td>suspiria</td>\n",
       "      <td>1977</td>\n",
       "      <td>Sarah</td>\n",
       "      <td>SARAH</td>\n",
       "      <td>14372.466667</td>\n",
       "    </tr>\n",
       "    <tr>\n",
       "      <th>4</th>\n",
       "      <td>point break</td>\n",
       "      <td>1991</td>\n",
       "      <td>Tyler Endicott</td>\n",
       "      <td>TYLER</td>\n",
       "      <td>14176.666667</td>\n",
       "    </tr>\n",
       "    <tr>\n",
       "      <th>5</th>\n",
       "      <td>barton fink</td>\n",
       "      <td>1991</td>\n",
       "      <td>Audrey Taylor</td>\n",
       "      <td>TAYLOR</td>\n",
       "      <td>13892.100000</td>\n",
       "    </tr>\n",
       "    <tr>\n",
       "      <th>6</th>\n",
       "      <td>dracula</td>\n",
       "      <td>1979</td>\n",
       "      <td>Jonathan Harker</td>\n",
       "      <td>JONATHAN</td>\n",
       "      <td>13219.566667</td>\n",
       "    </tr>\n",
       "    <tr>\n",
       "      <th>7</th>\n",
       "      <td>i spit on your grave</td>\n",
       "      <td>1978</td>\n",
       "      <td>Matthew hides</td>\n",
       "      <td>MATTHEW</td>\n",
       "      <td>12837.433333</td>\n",
       "    </tr>\n",
       "    <tr>\n",
       "      <th>8</th>\n",
       "      <td>invasion of the body snatchers</td>\n",
       "      <td>1978</td>\n",
       "      <td>Matthew Bennell</td>\n",
       "      <td>MATTHEW</td>\n",
       "      <td>12837.433333</td>\n",
       "    </tr>\n",
       "    <tr>\n",
       "      <th>9</th>\n",
       "      <td>apollo 13</td>\n",
       "      <td>1995</td>\n",
       "      <td>Jack Swigert</td>\n",
       "      <td>JACK</td>\n",
       "      <td>12508.133333</td>\n",
       "    </tr>\n",
       "  </tbody>\n",
       "</table>\n",
       "</div>"
      ],
      "text/plain": [
       "                       Movie Name  Year                Full name  \\\n",
       "0          mission: impossible ii  2000               Ethan Hunt   \n",
       "1                    the avengers  1998                Emma Peel   \n",
       "2                     man on fire  1987  Samantha \"Sam\" Balletto   \n",
       "3                        suspiria  1977                    Sarah   \n",
       "4                     point break  1991           Tyler Endicott   \n",
       "5                     barton fink  1991            Audrey Taylor   \n",
       "6                         dracula  1979          Jonathan Harker   \n",
       "7            i spit on your grave  1978            Matthew hides   \n",
       "8  invasion of the body snatchers  1978          Matthew Bennell   \n",
       "9                       apollo 13  1995             Jack Swigert   \n",
       "\n",
       "  Normalized_name  Mean Difference  \n",
       "0           ETHAN     15725.466667  \n",
       "1            EMMA     14985.966667  \n",
       "2        SAMANTHA     14453.500000  \n",
       "3           SARAH     14372.466667  \n",
       "4           TYLER     14176.666667  \n",
       "5          TAYLOR     13892.100000  \n",
       "6        JONATHAN     13219.566667  \n",
       "7         MATTHEW     12837.433333  \n",
       "8         MATTHEW     12837.433333  \n",
       "9            JACK     12508.133333  "
      ]
     },
     "execution_count": 13,
     "metadata": {},
     "output_type": "execute_result"
    }
   ],
   "source": [
    "influenced_names = pd.read_csv('data\\clean\\influenced_names_prophet.csv')\n",
    "influenced_names.head(10)\n",
    "\n",
    "# keep only Movie Name, Year, Full name, Normalized_name, Mean Difference\n",
    "influenced_names = influenced_names[['Movie Name', 'Year', 'Full name', 'Normalized_name', 'Mean Difference']]\n",
    "print(\"size of influenced_names: \", influenced_names.shape)\n",
    "influenced_names.head(10)\n"
   ]
  },
  {
   "cell_type": "code",
   "execution_count": 55,
   "metadata": {},
   "outputs": [
    {
     "name": "stdout",
     "output_type": "stream",
     "text": [
      "size of influenced_names:  (495, 5)\n"
     ]
    },
    {
     "data": {
      "text/html": [
       "<div>\n",
       "<style scoped>\n",
       "    .dataframe tbody tr th:only-of-type {\n",
       "        vertical-align: middle;\n",
       "    }\n",
       "\n",
       "    .dataframe tbody tr th {\n",
       "        vertical-align: top;\n",
       "    }\n",
       "\n",
       "    .dataframe thead th {\n",
       "        text-align: right;\n",
       "    }\n",
       "</style>\n",
       "<table border=\"1\" class=\"dataframe\">\n",
       "  <thead>\n",
       "    <tr style=\"text-align: right;\">\n",
       "      <th></th>\n",
       "      <th>Movie Name</th>\n",
       "      <th>Year</th>\n",
       "      <th>Full name</th>\n",
       "      <th>Normalized_name</th>\n",
       "      <th>Mean Difference</th>\n",
       "    </tr>\n",
       "  </thead>\n",
       "  <tbody>\n",
       "    <tr>\n",
       "      <th>1</th>\n",
       "      <td>the avengers</td>\n",
       "      <td>1998</td>\n",
       "      <td>Emma Peel</td>\n",
       "      <td>EMMA</td>\n",
       "      <td>14985.966667</td>\n",
       "    </tr>\n",
       "    <tr>\n",
       "      <th>2</th>\n",
       "      <td>man on fire</td>\n",
       "      <td>1987</td>\n",
       "      <td>Samantha \"Sam\" Balletto</td>\n",
       "      <td>SAMANTHA</td>\n",
       "      <td>14453.500000</td>\n",
       "    </tr>\n",
       "    <tr>\n",
       "      <th>3</th>\n",
       "      <td>suspiria</td>\n",
       "      <td>1977</td>\n",
       "      <td>Sarah</td>\n",
       "      <td>SARAH</td>\n",
       "      <td>14372.466667</td>\n",
       "    </tr>\n",
       "    <tr>\n",
       "      <th>6</th>\n",
       "      <td>dracula</td>\n",
       "      <td>1979</td>\n",
       "      <td>Jonathan Harker</td>\n",
       "      <td>JONATHAN</td>\n",
       "      <td>13219.566667</td>\n",
       "    </tr>\n",
       "    <tr>\n",
       "      <th>7</th>\n",
       "      <td>i spit on your grave</td>\n",
       "      <td>1978</td>\n",
       "      <td>Matthew hides</td>\n",
       "      <td>MATTHEW</td>\n",
       "      <td>12837.433333</td>\n",
       "    </tr>\n",
       "    <tr>\n",
       "      <th>8</th>\n",
       "      <td>invasion of the body snatchers</td>\n",
       "      <td>1978</td>\n",
       "      <td>Matthew Bennell</td>\n",
       "      <td>MATTHEW</td>\n",
       "      <td>12837.433333</td>\n",
       "    </tr>\n",
       "    <tr>\n",
       "      <th>9</th>\n",
       "      <td>apollo 13</td>\n",
       "      <td>1995</td>\n",
       "      <td>Jack Swigert</td>\n",
       "      <td>JACK</td>\n",
       "      <td>12508.133333</td>\n",
       "    </tr>\n",
       "    <tr>\n",
       "      <th>10</th>\n",
       "      <td>goldeneye</td>\n",
       "      <td>1995</td>\n",
       "      <td>Jack Wade</td>\n",
       "      <td>JACK</td>\n",
       "      <td>12508.133333</td>\n",
       "    </tr>\n",
       "    <tr>\n",
       "      <th>11</th>\n",
       "      <td>the usual suspects</td>\n",
       "      <td>1995</td>\n",
       "      <td>Jack Baer</td>\n",
       "      <td>JACK</td>\n",
       "      <td>12508.133333</td>\n",
       "    </tr>\n",
       "    <tr>\n",
       "      <th>12</th>\n",
       "      <td>titanic</td>\n",
       "      <td>1997</td>\n",
       "      <td>Jack Dawson</td>\n",
       "      <td>JACK</td>\n",
       "      <td>12348.266667</td>\n",
       "    </tr>\n",
       "  </tbody>\n",
       "</table>\n",
       "</div>"
      ],
      "text/plain": [
       "                        Movie Name  Year                Full name  \\\n",
       "1                     the avengers  1998                Emma Peel   \n",
       "2                      man on fire  1987  Samantha \"Sam\" Balletto   \n",
       "3                         suspiria  1977                    Sarah   \n",
       "6                          dracula  1979          Jonathan Harker   \n",
       "7             i spit on your grave  1978            Matthew hides   \n",
       "8   invasion of the body snatchers  1978          Matthew Bennell   \n",
       "9                        apollo 13  1995             Jack Swigert   \n",
       "10                       goldeneye  1995                Jack Wade   \n",
       "11              the usual suspects  1995                Jack Baer   \n",
       "12                         titanic  1997              Jack Dawson   \n",
       "\n",
       "   Normalized_name  Mean Difference  \n",
       "1             EMMA     14985.966667  \n",
       "2         SAMANTHA     14453.500000  \n",
       "3            SARAH     14372.466667  \n",
       "6         JONATHAN     13219.566667  \n",
       "7          MATTHEW     12837.433333  \n",
       "8          MATTHEW     12837.433333  \n",
       "9             JACK     12508.133333  \n",
       "10            JACK     12508.133333  \n",
       "11            JACK     12508.133333  \n",
       "12            JACK     12348.266667  "
      ]
     },
     "execution_count": 55,
     "metadata": {},
     "output_type": "execute_result"
    }
   ],
   "source": [
    "# create a dataframe from influenced_names witht only the rows that have a Normalized name found in danish_df\n",
    "influenced_names = influenced_names[influenced_names['Normalized_name'].isin(danish_df['Name'])]\n",
    "print(\"size of influenced_names: \", influenced_names.shape)\n",
    "influenced_names.head(10)\n"
   ]
  },
  {
   "cell_type": "code",
   "execution_count": null,
   "metadata": {},
   "outputs": [],
   "source": [
    "import pandas as pd\n",
    "import plotly.graph_objects as go\n",
    "\n",
    "# Step 1: Create a new column for 10-year periods\n",
    "influenced_names['Period'] = (influenced_names['Year'] // 10) * 10  # Group by decades (e.g., 1960-1969 becomes 1960)\n",
    "\n",
    "# Step 2: Aggregate by Period, Name, and Year\n",
    "aggregated_data = (\n",
    "    influenced_names.groupby(['Period', 'Normalized Name', 'Year'], as_index=False)['Count']\n",
    "    .sum()  # Sum counts for the same name within the same period and year\n",
    ")\n",
    "\n",
    "# Step 3: Get top 10 names per period\n",
    "top_names_by_period = (\n",
    "    aggregated_data.groupby(['Period', 'Normalized'], as_index=False)['Count']\n",
    "    .sum()  # Sum total counts for the entire period\n",
    "    .sort_values(['Period', 'Count'], ascending=[True, False])  # Sort within each period\n",
    "    .groupby('Period', as_index=False)\n",
    "    .head(10)  # Keep only the top 10 names per period\n",
    ")\n",
    "\n",
    "# Step 4: Prepare the frames for each period\n",
    "frames = []\n",
    "for period in top_names_by_period['Period'].unique():\n",
    "    # Get the top 10 names for the current period\n",
    "    top_names = top_names_by_period[top_names_by_period['Period'] == period]['Name'].tolist()\n",
    "    \n",
    "    # Filter data for the top 10 names in this period\n",
    "    filtered_data = aggregated_data[(aggregated_data['Period'] == period) & (aggregated_data['Name'].isin(top_names))]\n",
    "    \n",
    "    # Ensure all years in the period are covered for each name\n",
    "    all_years = list(range(period, period + 10))\n",
    "    filled_data = []\n",
    "    for name in top_names:\n",
    "        name_data = filtered_data[filtered_data['Name'] == name]\n",
    "        # Fill missing years with 0 counts\n",
    "        name_data = name_data.set_index('Year').reindex(all_years, fill_value=0).reset_index()\n",
    "        name_data['Name'] = name  # Ensure the name column is preserved\n",
    "        filled_data.append(name_data)\n",
    "    \n",
    "    # Combine all filled data into one DataFrame\n",
    "    combined_data = pd.concat(filled_data)\n",
    "    \n",
    "    # Add line traces for the evolution of each name\n",
    "    line_traces = []\n",
    "    for name in top_names:\n",
    "        name_data = combined_data[combined_data['Name'] == name]\n",
    "        line_traces.append(go.Scatter(\n",
    "            x=name_data['Year'],\n",
    "            y=name_data['Count'],\n",
    "            mode='lines',\n",
    "            name=name,\n",
    "            line=dict(width=2),\n",
    "            showlegend=False,  # Hide legend for simplicity\n",
    "        ))\n",
    "\n",
    "        # Add text annotation for the top names below the plot\n",
    "    text = f\"Top 10 Names in {period}s: \" + \", \".join(top_names)\n",
    "    frame = go.Frame(\n",
    "        data=line_traces,\n",
    "        name=str(period),\n",
    "        layout=go.Layout(\n",
    "            annotations=[\n",
    "                dict(\n",
    "                    text=text,\n",
    "                    x=0.5,  # Center horizontally\n",
    "                    y=-0.2,  # Position below the plot\n",
    "                    xref=\"paper\", yref=\"paper\",\n",
    "                    showarrow=False,\n",
    "                    font=dict(size=14),\n",
    "                    align=\"center\",  # Align text to the center\n",
    "                )\n",
    "            ]\n",
    "        )\n",
    "    )\n",
    "    frames.append(frame)\n",
    "\n",
    "# Step 5: Create the initial figure\n",
    "initial_period = min(top_names_by_period['Period'].unique())\n",
    "initial_top_names = top_names_by_period[top_names_by_period['Period'] == initial_period]['Name'].tolist()\n",
    "initial_filtered_data = aggregated_data[(aggregated_data['Period'] == initial_period) & (aggregated_data['Name'].isin(initial_top_names))]\n",
    "\n",
    "# Ensure all years are filled for the initial period\n",
    "all_years = list(range(initial_period, initial_period + 10))\n",
    "filled_initial_data = []\n",
    "for name in initial_top_names:\n",
    "    name_data = initial_filtered_data[initial_filtered_data['Name'] == name]\n",
    "    name_data = name_data.set_index('Year').reindex(all_years, fill_value=0).reset_index()\n",
    "    name_data['Name'] = name\n",
    "    filled_initial_data.append(name_data)\n",
    "\n",
    "combined_initial_data = pd.concat(filled_initial_data)\n",
    "\n",
    "initial_data = []\n",
    "for name in initial_top_names:\n",
    "    name_data = combined_initial_data[combined_initial_data['Name'] == name]\n",
    "    initial_data.append(go.Scatter(\n",
    "        x=name_data['Year'],\n",
    "        y=name_data['Count'],\n",
    "        mode='lines',\n",
    "        name=name,\n",
    "        line=dict(width=2),\n",
    "        showlegend=False,\n",
    "    ))\n",
    "\n",
    "initial_text = f\"Top 10 Danish Names in {initial_period}s:<br>\" + \",<br>\".join(initial_top_names)\n",
    "\n",
    "fig = go.Figure(\n",
    "    data=initial_data,\n",
    "    layout=go.Layout(\n",
    "        annotations=[\n",
    "            dict(\n",
    "                text=initial_text,\n",
    "                x=-0.3, y=0.95,\n",
    "                xref=\"paper\", yref=\"paper\",\n",
    "                showarrow=False,\n",
    "                font=dict(size=16),\n",
    "                align=\"center\",\n",
    "            )\n",
    "        ],\n",
    "        sliders=[dict(\n",
    "            active=0,\n",
    "            currentvalue={\"prefix\": \"Period: \"},\n",
    "            pad={\"t\": 50},\n",
    "            steps=[\n",
    "                dict(\n",
    "                    method=\"animate\",\n",
    "                    args=[\n",
    "                        [str(period)],  # Name of the frame\n",
    "                        {\"mode\": \"immediate\", \"frame\": {\"duration\": 500, \"redraw\": True}}  # Animation settings\n",
    "                    ],\n",
    "                    label=f\"{period}s\",\n",
    "                )\n",
    "                for period in top_names_by_period['Period'].unique()\n",
    "            ],\n",
    "        )],\n",
    "    ),\n",
    "    frames=frames\n",
    ")\n",
    "\n",
    "# Step 6: Show the figure\n",
    "fig.show()\n"
   ]
  }
 ],
 "metadata": {
  "kernelspec": {
   "display_name": "ada",
   "language": "python",
   "name": "python3"
  },
  "language_info": {
   "codemirror_mode": {
    "name": "ipython",
    "version": 3
   },
   "file_extension": ".py",
   "mimetype": "text/x-python",
   "name": "python",
   "nbconvert_exporter": "python",
   "pygments_lexer": "ipython3",
   "version": "3.11.9"
  }
 },
 "nbformat": 4,
 "nbformat_minor": 2
}
