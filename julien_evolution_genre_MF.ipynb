{
 "cells": [
  {
   "metadata": {
    "ExecuteTime": {
     "end_time": "2024-12-20T18:10:58.233833Z",
     "start_time": "2024-12-20T18:10:58.230143Z"
    }
   },
   "cell_type": "code",
   "source": [
    "import pandas as pd\n",
    "from pyparsing.diagram import template\n",
    "from wasabi import color\n",
    "\n",
    "import src.utils.pipelines as pip\n",
    "import plotly.express as px\n",
    "import numpy as np\n"
   ],
   "id": "98994656d5dd9436",
   "outputs": [],
   "execution_count": 2
  },
  {
   "metadata": {
    "ExecuteTime": {
     "end_time": "2024-12-20T18:12:54.768448Z",
     "start_time": "2024-12-20T18:12:54.727278Z"
    }
   },
   "cell_type": "code",
   "source": [
    "# tous les prénoms influencés\n",
    "#prophet = pd.read_csv(\"data/clean/influenced_names_prophet.csv\")\n",
    "prophet = pd.read_csv(\"data/clean/influenced_prophet_with_genres.csv\")\n",
    "influenced_prophet = prophet[prophet[\"Influenced\"] > 0]\n",
    "# removing common identification mistakes such as \"the\", \"a\" or \"Mr\"\n",
    "influenced_prophet = influenced_prophet[~influenced_prophet[\"Character Name\"].isin([\"the\", \"a\", \"Mr\"])]\n",
    "print(\"Number of influenced names with prophet: \", len(influenced_prophet))\n",
    "print(influenced_prophet.shape)\n",
    "\n",
    "influenced_prophet.drop(columns=[\"Count\",'Mean Difference'], inplace=True)"
   ],
   "id": "534ecf67c5286892",
   "outputs": [
    {
     "name": "stdout",
     "output_type": "stream",
     "text": [
      "Number of influenced names with prophet:  432\n",
      "(432, 11)\n"
     ]
    },
    {
     "data": {
      "text/plain": [
       "   Wikipedia ID              Movie Name  Year Character Name  \\\n",
       "0        451866  mission: impossible ii  2000          Ethan   \n",
       "1        633411            the avengers  1998           Emma   \n",
       "2       3727473             man on fire  1987       Samantha   \n",
       "3        347000                suspiria  1977          Sarah   \n",
       "4        320401             barton fink  1991         Taylor   \n",
       "\n",
       "                 Full name Normalized_name  Influenced  Wikipedia_movie_ID  \\\n",
       "0               Ethan Hunt           ETHAN           1            451866.0   \n",
       "1                Emma Peel            EMMA           1            633411.0   \n",
       "2  Samantha \"Sam\" Balletto        SAMANTHA           1           3727473.0   \n",
       "3                    Sarah           SARAH           1            347000.0   \n",
       "4            Audrey Taylor          TAYLOR           1            320401.0   \n",
       "\n",
       "                                              Genres  \n",
       "0  Thriller, Action Thrillers, Action/Adventure, ...  \n",
       "1  Thriller, Adventure, Action/Adventure, Comedy,...  \n",
       "2                     Thriller, Action, Drama, Indie  \n",
       "3  Horror, World cinema, Supernatural, Gothic Fil...  \n",
       "4  Thriller, Indie, Comedy-drama, Mystery, Period...  "
      ],
      "text/html": [
       "<div>\n",
       "<style scoped>\n",
       "    .dataframe tbody tr th:only-of-type {\n",
       "        vertical-align: middle;\n",
       "    }\n",
       "\n",
       "    .dataframe tbody tr th {\n",
       "        vertical-align: top;\n",
       "    }\n",
       "\n",
       "    .dataframe thead th {\n",
       "        text-align: right;\n",
       "    }\n",
       "</style>\n",
       "<table border=\"1\" class=\"dataframe\">\n",
       "  <thead>\n",
       "    <tr style=\"text-align: right;\">\n",
       "      <th></th>\n",
       "      <th>Wikipedia ID</th>\n",
       "      <th>Movie Name</th>\n",
       "      <th>Year</th>\n",
       "      <th>Character Name</th>\n",
       "      <th>Full name</th>\n",
       "      <th>Normalized_name</th>\n",
       "      <th>Influenced</th>\n",
       "      <th>Wikipedia_movie_ID</th>\n",
       "      <th>Genres</th>\n",
       "    </tr>\n",
       "  </thead>\n",
       "  <tbody>\n",
       "    <tr>\n",
       "      <th>0</th>\n",
       "      <td>451866</td>\n",
       "      <td>mission: impossible ii</td>\n",
       "      <td>2000</td>\n",
       "      <td>Ethan</td>\n",
       "      <td>Ethan Hunt</td>\n",
       "      <td>ETHAN</td>\n",
       "      <td>1</td>\n",
       "      <td>451866.0</td>\n",
       "      <td>Thriller, Action Thrillers, Action/Adventure, ...</td>\n",
       "    </tr>\n",
       "    <tr>\n",
       "      <th>1</th>\n",
       "      <td>633411</td>\n",
       "      <td>the avengers</td>\n",
       "      <td>1998</td>\n",
       "      <td>Emma</td>\n",
       "      <td>Emma Peel</td>\n",
       "      <td>EMMA</td>\n",
       "      <td>1</td>\n",
       "      <td>633411.0</td>\n",
       "      <td>Thriller, Adventure, Action/Adventure, Comedy,...</td>\n",
       "    </tr>\n",
       "    <tr>\n",
       "      <th>2</th>\n",
       "      <td>3727473</td>\n",
       "      <td>man on fire</td>\n",
       "      <td>1987</td>\n",
       "      <td>Samantha</td>\n",
       "      <td>Samantha \"Sam\" Balletto</td>\n",
       "      <td>SAMANTHA</td>\n",
       "      <td>1</td>\n",
       "      <td>3727473.0</td>\n",
       "      <td>Thriller, Action, Drama, Indie</td>\n",
       "    </tr>\n",
       "    <tr>\n",
       "      <th>3</th>\n",
       "      <td>347000</td>\n",
       "      <td>suspiria</td>\n",
       "      <td>1977</td>\n",
       "      <td>Sarah</td>\n",
       "      <td>Sarah</td>\n",
       "      <td>SARAH</td>\n",
       "      <td>1</td>\n",
       "      <td>347000.0</td>\n",
       "      <td>Horror, World cinema, Supernatural, Gothic Fil...</td>\n",
       "    </tr>\n",
       "    <tr>\n",
       "      <th>4</th>\n",
       "      <td>320401</td>\n",
       "      <td>barton fink</td>\n",
       "      <td>1991</td>\n",
       "      <td>Taylor</td>\n",
       "      <td>Audrey Taylor</td>\n",
       "      <td>TAYLOR</td>\n",
       "      <td>1</td>\n",
       "      <td>320401.0</td>\n",
       "      <td>Thriller, Indie, Comedy-drama, Mystery, Period...</td>\n",
       "    </tr>\n",
       "  </tbody>\n",
       "</table>\n",
       "</div>"
      ]
     },
     "execution_count": 3,
     "metadata": {},
     "output_type": "execute_result"
    }
   ],
   "execution_count": 3
  },
  {
   "metadata": {
    "ExecuteTime": {
     "end_time": "2024-12-20T18:12:59.769964Z",
     "start_time": "2024-12-20T18:12:57.414927Z"
    }
   },
   "cell_type": "code",
   "source": "global_names, _, _, _, _ = pip.read_all_names_data()",
   "id": "543aa91054100bfd",
   "outputs": [
    {
     "name": "stdout",
     "output_type": "stream",
     "text": [
      "UK : Loading clean data from data/clean/names/ukbabynames.csv\n",
      "France : Loading clean data from data/clean/names/france.csv\n",
      "US : Loading clean data from data/clean/names/babyNamesUSYOB-full.csv\n",
      "Norway : Loading clean data from data/clean/names/norway_merged.csv\n",
      "UK & France & US & Norway : Loading clean data from data/clean/names/UK_France_US_Norway.csv\n"
     ]
    }
   ],
   "execution_count": 4
  },
  {
   "metadata": {
    "ExecuteTime": {
     "end_time": "2024-12-20T18:13:03.672844Z",
     "start_time": "2024-12-20T18:13:03.660733Z"
    }
   },
   "cell_type": "code",
   "source": [
    "\n",
    "df_character = global_names()\n",
    "#Keep only Name and Sex columns of df_character\n",
    "\n",
    "df_character.rename(columns={'Sex': 'Gender'}, inplace=True)"
   ],
   "id": "6dd00b0c84f6ca01",
   "outputs": [
    {
     "data": {
      "text/plain": [
       "         Year     Name Gender  Count\n",
       "0        1960     AAGE      M     23\n",
       "1        1960    AARON      M   1774\n",
       "2        1960     AASE      F     41\n",
       "3        1960  AASHILD      F      5\n",
       "4        1960  AASMUND      M      8\n",
       "...       ...      ...    ...    ...\n",
       "1517204  2023     ZURI      F      3\n",
       "1517205  2023  ZUZANNA      F     11\n",
       "1517206  2023     ZYAD      M     23\n",
       "1517207  2023     ZYAN      M      8\n",
       "1517208  2023     ZYED      M     10\n",
       "\n",
       "[1517183 rows x 4 columns]"
      ],
      "text/html": [
       "<div>\n",
       "<style scoped>\n",
       "    .dataframe tbody tr th:only-of-type {\n",
       "        vertical-align: middle;\n",
       "    }\n",
       "\n",
       "    .dataframe tbody tr th {\n",
       "        vertical-align: top;\n",
       "    }\n",
       "\n",
       "    .dataframe thead th {\n",
       "        text-align: right;\n",
       "    }\n",
       "</style>\n",
       "<table border=\"1\" class=\"dataframe\">\n",
       "  <thead>\n",
       "    <tr style=\"text-align: right;\">\n",
       "      <th></th>\n",
       "      <th>Year</th>\n",
       "      <th>Name</th>\n",
       "      <th>Gender</th>\n",
       "      <th>Count</th>\n",
       "    </tr>\n",
       "  </thead>\n",
       "  <tbody>\n",
       "    <tr>\n",
       "      <th>0</th>\n",
       "      <td>1960</td>\n",
       "      <td>AAGE</td>\n",
       "      <td>M</td>\n",
       "      <td>23</td>\n",
       "    </tr>\n",
       "    <tr>\n",
       "      <th>1</th>\n",
       "      <td>1960</td>\n",
       "      <td>AARON</td>\n",
       "      <td>M</td>\n",
       "      <td>1774</td>\n",
       "    </tr>\n",
       "    <tr>\n",
       "      <th>2</th>\n",
       "      <td>1960</td>\n",
       "      <td>AASE</td>\n",
       "      <td>F</td>\n",
       "      <td>41</td>\n",
       "    </tr>\n",
       "    <tr>\n",
       "      <th>3</th>\n",
       "      <td>1960</td>\n",
       "      <td>AASHILD</td>\n",
       "      <td>F</td>\n",
       "      <td>5</td>\n",
       "    </tr>\n",
       "    <tr>\n",
       "      <th>4</th>\n",
       "      <td>1960</td>\n",
       "      <td>AASMUND</td>\n",
       "      <td>M</td>\n",
       "      <td>8</td>\n",
       "    </tr>\n",
       "    <tr>\n",
       "      <th>...</th>\n",
       "      <td>...</td>\n",
       "      <td>...</td>\n",
       "      <td>...</td>\n",
       "      <td>...</td>\n",
       "    </tr>\n",
       "    <tr>\n",
       "      <th>1517204</th>\n",
       "      <td>2023</td>\n",
       "      <td>ZURI</td>\n",
       "      <td>F</td>\n",
       "      <td>3</td>\n",
       "    </tr>\n",
       "    <tr>\n",
       "      <th>1517205</th>\n",
       "      <td>2023</td>\n",
       "      <td>ZUZANNA</td>\n",
       "      <td>F</td>\n",
       "      <td>11</td>\n",
       "    </tr>\n",
       "    <tr>\n",
       "      <th>1517206</th>\n",
       "      <td>2023</td>\n",
       "      <td>ZYAD</td>\n",
       "      <td>M</td>\n",
       "      <td>23</td>\n",
       "    </tr>\n",
       "    <tr>\n",
       "      <th>1517207</th>\n",
       "      <td>2023</td>\n",
       "      <td>ZYAN</td>\n",
       "      <td>M</td>\n",
       "      <td>8</td>\n",
       "    </tr>\n",
       "    <tr>\n",
       "      <th>1517208</th>\n",
       "      <td>2023</td>\n",
       "      <td>ZYED</td>\n",
       "      <td>M</td>\n",
       "      <td>10</td>\n",
       "    </tr>\n",
       "  </tbody>\n",
       "</table>\n",
       "<p>1517183 rows × 4 columns</p>\n",
       "</div>"
      ]
     },
     "execution_count": 5,
     "metadata": {},
     "output_type": "execute_result"
    }
   ],
   "execution_count": 5
  },
  {
   "metadata": {
    "ExecuteTime": {
     "end_time": "2024-12-20T18:13:08.102025Z",
     "start_time": "2024-12-20T18:13:07.446707Z"
    }
   },
   "cell_type": "code",
   "source": [
    "# Perform a merge based on 'Normalized_name' == 'Name' and 'Year'\n",
    "merged_df = influenced_prophet.merge(\n",
    "    df_character[['Name', 'Gender', 'Year', 'Count']],  # Select only the relevant columns\n",
    "    how='left',  # Use a left join to keep all rows in influenced_prophet\n",
    "    left_on=['Normalized_name', 'Year'],  # Match these columns from influenced_prophet\n",
    "    right_on=['Name', 'Year']  # With these columns from df_character\n",
    ")\n",
    "\n",
    "# Drop the extra 'Name' column if needed (optional)\n",
    "merged_df.drop(columns='Name', inplace=True)\n",
    "\n",
    "merged_df"
   ],
   "id": "ebd9be29fea0ce54",
   "outputs": [
    {
     "data": {
      "text/plain": [
       "     Wikipedia ID                        Movie Name  Year Character Name  \\\n",
       "0          451866            mission: impossible ii  2000          Ethan   \n",
       "1          633411                      the avengers  1998           Emma   \n",
       "2         3727473                       man on fire  1987       Samantha   \n",
       "3          347000                          suspiria  1977          Sarah   \n",
       "4          320401                       barton fink  1991         Taylor   \n",
       "..            ...                               ...   ...            ...   \n",
       "427        155997                   boyz n the hood  1991         Ferris   \n",
       "428       4440277                        highlander  1986        Ramirez   \n",
       "429       1917925  what ever happened to baby jane?  1962         Hudson   \n",
       "430         31557    the good, the bad and the ugly  1966        Blondie   \n",
       "431       1059280                       superman ii  1981            Lex   \n",
       "\n",
       "                   Full name Normalized_name  Influenced  Wikipedia_movie_ID  \\\n",
       "0                 Ethan Hunt           ETHAN           1            451866.0   \n",
       "1                  Emma Peel            EMMA           1            633411.0   \n",
       "2    Samantha \"Sam\" Balletto        SAMANTHA           1           3727473.0   \n",
       "3                      Sarah           SARAH           1            347000.0   \n",
       "4              Audrey Taylor          TAYLOR           1            320401.0   \n",
       "..                       ...             ...         ...                 ...   \n",
       "427                   Ferris          FERRIS           1            155997.0   \n",
       "428            Lobos Ramirez         RAMIREZ           1           4440277.0   \n",
       "429         Baby Jane Hudson          HUDSON           1           1917925.0   \n",
       "430                  Blondie         BLONDIE           1             31557.0   \n",
       "431               Lex Luthor             LEX           1           1059280.0   \n",
       "\n",
       "                                                Genres Gender    Count  \n",
       "0    Thriller, Action Thrillers, Action/Adventure, ...      M  18059.0  \n",
       "1    Thriller, Adventure, Action/Adventure, Comedy,...      F  19870.0  \n",
       "2                       Thriller, Action, Drama, Indie      F  18864.0  \n",
       "3    Horror, World cinema, Supernatural, Gothic Fil...      F  19777.0  \n",
       "4    Thriller, Indie, Comedy-drama, Mystery, Period...      F  10255.0  \n",
       "..                                                 ...    ...      ...  \n",
       "427          Crime Fiction, Drama, Coming of age, Teen      M     14.0  \n",
       "428  Cult, Action/Adventure, Science Fiction, Fanta...      M      6.0  \n",
       "429    Thriller, Drama, Horror, Psychological thriller      M      6.0  \n",
       "430  World cinema, Epic Western, Spaghetti Western,...    NaN      NaN  \n",
       "431  Science Fiction, Adventure, Superhero movie, S...      M     14.0  \n",
       "\n",
       "[432 rows x 11 columns]"
      ],
      "text/html": [
       "<div>\n",
       "<style scoped>\n",
       "    .dataframe tbody tr th:only-of-type {\n",
       "        vertical-align: middle;\n",
       "    }\n",
       "\n",
       "    .dataframe tbody tr th {\n",
       "        vertical-align: top;\n",
       "    }\n",
       "\n",
       "    .dataframe thead th {\n",
       "        text-align: right;\n",
       "    }\n",
       "</style>\n",
       "<table border=\"1\" class=\"dataframe\">\n",
       "  <thead>\n",
       "    <tr style=\"text-align: right;\">\n",
       "      <th></th>\n",
       "      <th>Wikipedia ID</th>\n",
       "      <th>Movie Name</th>\n",
       "      <th>Year</th>\n",
       "      <th>Character Name</th>\n",
       "      <th>Full name</th>\n",
       "      <th>Normalized_name</th>\n",
       "      <th>Influenced</th>\n",
       "      <th>Wikipedia_movie_ID</th>\n",
       "      <th>Genres</th>\n",
       "      <th>Gender</th>\n",
       "      <th>Count</th>\n",
       "    </tr>\n",
       "  </thead>\n",
       "  <tbody>\n",
       "    <tr>\n",
       "      <th>0</th>\n",
       "      <td>451866</td>\n",
       "      <td>mission: impossible ii</td>\n",
       "      <td>2000</td>\n",
       "      <td>Ethan</td>\n",
       "      <td>Ethan Hunt</td>\n",
       "      <td>ETHAN</td>\n",
       "      <td>1</td>\n",
       "      <td>451866.0</td>\n",
       "      <td>Thriller, Action Thrillers, Action/Adventure, ...</td>\n",
       "      <td>M</td>\n",
       "      <td>18059.0</td>\n",
       "    </tr>\n",
       "    <tr>\n",
       "      <th>1</th>\n",
       "      <td>633411</td>\n",
       "      <td>the avengers</td>\n",
       "      <td>1998</td>\n",
       "      <td>Emma</td>\n",
       "      <td>Emma Peel</td>\n",
       "      <td>EMMA</td>\n",
       "      <td>1</td>\n",
       "      <td>633411.0</td>\n",
       "      <td>Thriller, Adventure, Action/Adventure, Comedy,...</td>\n",
       "      <td>F</td>\n",
       "      <td>19870.0</td>\n",
       "    </tr>\n",
       "    <tr>\n",
       "      <th>2</th>\n",
       "      <td>3727473</td>\n",
       "      <td>man on fire</td>\n",
       "      <td>1987</td>\n",
       "      <td>Samantha</td>\n",
       "      <td>Samantha \"Sam\" Balletto</td>\n",
       "      <td>SAMANTHA</td>\n",
       "      <td>1</td>\n",
       "      <td>3727473.0</td>\n",
       "      <td>Thriller, Action, Drama, Indie</td>\n",
       "      <td>F</td>\n",
       "      <td>18864.0</td>\n",
       "    </tr>\n",
       "    <tr>\n",
       "      <th>3</th>\n",
       "      <td>347000</td>\n",
       "      <td>suspiria</td>\n",
       "      <td>1977</td>\n",
       "      <td>Sarah</td>\n",
       "      <td>Sarah</td>\n",
       "      <td>SARAH</td>\n",
       "      <td>1</td>\n",
       "      <td>347000.0</td>\n",
       "      <td>Horror, World cinema, Supernatural, Gothic Fil...</td>\n",
       "      <td>F</td>\n",
       "      <td>19777.0</td>\n",
       "    </tr>\n",
       "    <tr>\n",
       "      <th>4</th>\n",
       "      <td>320401</td>\n",
       "      <td>barton fink</td>\n",
       "      <td>1991</td>\n",
       "      <td>Taylor</td>\n",
       "      <td>Audrey Taylor</td>\n",
       "      <td>TAYLOR</td>\n",
       "      <td>1</td>\n",
       "      <td>320401.0</td>\n",
       "      <td>Thriller, Indie, Comedy-drama, Mystery, Period...</td>\n",
       "      <td>F</td>\n",
       "      <td>10255.0</td>\n",
       "    </tr>\n",
       "    <tr>\n",
       "      <th>...</th>\n",
       "      <td>...</td>\n",
       "      <td>...</td>\n",
       "      <td>...</td>\n",
       "      <td>...</td>\n",
       "      <td>...</td>\n",
       "      <td>...</td>\n",
       "      <td>...</td>\n",
       "      <td>...</td>\n",
       "      <td>...</td>\n",
       "      <td>...</td>\n",
       "      <td>...</td>\n",
       "    </tr>\n",
       "    <tr>\n",
       "      <th>427</th>\n",
       "      <td>155997</td>\n",
       "      <td>boyz n the hood</td>\n",
       "      <td>1991</td>\n",
       "      <td>Ferris</td>\n",
       "      <td>Ferris</td>\n",
       "      <td>FERRIS</td>\n",
       "      <td>1</td>\n",
       "      <td>155997.0</td>\n",
       "      <td>Crime Fiction, Drama, Coming of age, Teen</td>\n",
       "      <td>M</td>\n",
       "      <td>14.0</td>\n",
       "    </tr>\n",
       "    <tr>\n",
       "      <th>428</th>\n",
       "      <td>4440277</td>\n",
       "      <td>highlander</td>\n",
       "      <td>1986</td>\n",
       "      <td>Ramirez</td>\n",
       "      <td>Lobos Ramirez</td>\n",
       "      <td>RAMIREZ</td>\n",
       "      <td>1</td>\n",
       "      <td>4440277.0</td>\n",
       "      <td>Cult, Action/Adventure, Science Fiction, Fanta...</td>\n",
       "      <td>M</td>\n",
       "      <td>6.0</td>\n",
       "    </tr>\n",
       "    <tr>\n",
       "      <th>429</th>\n",
       "      <td>1917925</td>\n",
       "      <td>what ever happened to baby jane?</td>\n",
       "      <td>1962</td>\n",
       "      <td>Hudson</td>\n",
       "      <td>Baby Jane Hudson</td>\n",
       "      <td>HUDSON</td>\n",
       "      <td>1</td>\n",
       "      <td>1917925.0</td>\n",
       "      <td>Thriller, Drama, Horror, Psychological thriller</td>\n",
       "      <td>M</td>\n",
       "      <td>6.0</td>\n",
       "    </tr>\n",
       "    <tr>\n",
       "      <th>430</th>\n",
       "      <td>31557</td>\n",
       "      <td>the good, the bad and the ugly</td>\n",
       "      <td>1966</td>\n",
       "      <td>Blondie</td>\n",
       "      <td>Blondie</td>\n",
       "      <td>BLONDIE</td>\n",
       "      <td>1</td>\n",
       "      <td>31557.0</td>\n",
       "      <td>World cinema, Epic Western, Spaghetti Western,...</td>\n",
       "      <td>NaN</td>\n",
       "      <td>NaN</td>\n",
       "    </tr>\n",
       "    <tr>\n",
       "      <th>431</th>\n",
       "      <td>1059280</td>\n",
       "      <td>superman ii</td>\n",
       "      <td>1981</td>\n",
       "      <td>Lex</td>\n",
       "      <td>Lex Luthor</td>\n",
       "      <td>LEX</td>\n",
       "      <td>1</td>\n",
       "      <td>1059280.0</td>\n",
       "      <td>Science Fiction, Adventure, Superhero movie, S...</td>\n",
       "      <td>M</td>\n",
       "      <td>14.0</td>\n",
       "    </tr>\n",
       "  </tbody>\n",
       "</table>\n",
       "<p>432 rows × 11 columns</p>\n",
       "</div>"
      ]
     },
     "execution_count": 6,
     "metadata": {},
     "output_type": "execute_result"
    }
   ],
   "execution_count": 6
  },
  {
   "metadata": {
    "ExecuteTime": {
     "end_time": "2024-12-20T18:13:13.558766Z",
     "start_time": "2024-12-20T18:13:13.527773Z"
    }
   },
   "cell_type": "code",
   "source": [
    "# Data to use for filling missing values\n",
    "data = {\n",
    "    'Wikipedia ID': [323715, 920296, 11077335, 97758, 97646, 146947, 8695, 10645970, 23487440, 321496, \n",
    "                     97758, 68245, 133648, 1210303, 950929, 697113, 3917873, 31557],\n",
    "    'Movie Name': ['troy', 'somewhere in time', 'doctor zhivago', 'doctor zhivago', 'die hard', 'spider-man', \n",
    "                   'dr. strangelove or: how i learned to stop worrying and love the bomb', 'rocky', 'alien', \n",
    "                   'pirates of the caribbean: the curse of the black pearl', 'doctor zhivago', 'bonnie and clyde', \n",
    "                   'scent of a woman', 'constantine', 'the haunting', 'big trouble in little china', \n",
    "                   'chitty chitty bang bang', 'the good, the bad and the ugly'],\n",
    "    'Year': [2004, 1980, 1965, 1965, 1988, 2002, 1964, 1981, 1979, 2003, 1965, 1967, 1992, 2005, 1963, \n",
    "             1986, 1968, 1966],\n",
    "    'Character Name': ['Briseis', 'McKenna', 'Yuri', 'Yuri', 'Kristoff', 'Daily', 'Alexei', 'Shankar', 'Ash', \n",
    "                       'Sparrow', 'Pasha', 'Moss', 'Ranger', 'Lucifer', 'Hill', 'Lo', 'Jemima', 'Blondie'],\n",
    "    'Gender': ['F', 'F', 'M', 'M', 'M', np.nan, 'M', 'M', 'M', 'M', 'M', \n",
    "            'M', 'M', 'M', 'M', 'M', 'F', 'F']\n",
    "}\n",
    "df_reference = pd.DataFrame(data)\n",
    "\n",
    "# Example merged_df (already existing)\n",
    "# merged_df should have columns: Wikipedia ID, Movie Name, Year, Character Name, and Gender (with NaN values)\n",
    "# merged_df = <your existing DataFrame>\n",
    "\n",
    "# Merge to bring in Gender information from df_reference\n",
    "merged_df = merged_df.merge(\n",
    "    df_reference[['Wikipedia ID', 'Movie Name', 'Year', 'Character Name', 'Gender']],\n",
    "    on=['Wikipedia ID', 'Movie Name', 'Year', 'Character Name'],\n",
    "    how='left',\n",
    "    suffixes=('', '_reference')\n",
    ")\n",
    "\n",
    "# Fill NaN values in 'Gender' using 'Gender_reference' from df_reference\n",
    "merged_df['Gender'] = merged_df['Gender'].fillna(merged_df['Gender_reference'])\n",
    "\n",
    "# Drop the temporary 'Gender_reference' column\n",
    "merged_df.drop(columns=['Gender_reference'], inplace=True)\n",
    "\n",
    "# Drop rows with 'Character Name' as 'Daily', 'Hill', or 'Lo'\n",
    "merged_df = merged_df[~merged_df['Character Name'].isin(['Daily', 'Hill', 'Lo'])]\n",
    "\n",
    "merged_df\n"
   ],
   "id": "1670403e1d7ac942",
   "outputs": [
    {
     "data": {
      "text/plain": [
       "     Wikipedia ID                        Movie Name  Year Character Name  \\\n",
       "0          451866            mission: impossible ii  2000          Ethan   \n",
       "1          633411                      the avengers  1998           Emma   \n",
       "2         3727473                       man on fire  1987       Samantha   \n",
       "3          347000                          suspiria  1977          Sarah   \n",
       "4          320401                       barton fink  1991         Taylor   \n",
       "..            ...                               ...   ...            ...   \n",
       "427        155997                   boyz n the hood  1991         Ferris   \n",
       "428       4440277                        highlander  1986        Ramirez   \n",
       "429       1917925  what ever happened to baby jane?  1962         Hudson   \n",
       "430         31557    the good, the bad and the ugly  1966        Blondie   \n",
       "431       1059280                       superman ii  1981            Lex   \n",
       "\n",
       "                   Full name Normalized_name  Influenced  Wikipedia_movie_ID  \\\n",
       "0                 Ethan Hunt           ETHAN           1            451866.0   \n",
       "1                  Emma Peel            EMMA           1            633411.0   \n",
       "2    Samantha \"Sam\" Balletto        SAMANTHA           1           3727473.0   \n",
       "3                      Sarah           SARAH           1            347000.0   \n",
       "4              Audrey Taylor          TAYLOR           1            320401.0   \n",
       "..                       ...             ...         ...                 ...   \n",
       "427                   Ferris          FERRIS           1            155997.0   \n",
       "428            Lobos Ramirez         RAMIREZ           1           4440277.0   \n",
       "429         Baby Jane Hudson          HUDSON           1           1917925.0   \n",
       "430                  Blondie         BLONDIE           1             31557.0   \n",
       "431               Lex Luthor             LEX           1           1059280.0   \n",
       "\n",
       "                                                Genres Gender    Count  \n",
       "0    Thriller, Action Thrillers, Action/Adventure, ...      M  18059.0  \n",
       "1    Thriller, Adventure, Action/Adventure, Comedy,...      F  19870.0  \n",
       "2                       Thriller, Action, Drama, Indie      F  18864.0  \n",
       "3    Horror, World cinema, Supernatural, Gothic Fil...      F  19777.0  \n",
       "4    Thriller, Indie, Comedy-drama, Mystery, Period...      F  10255.0  \n",
       "..                                                 ...    ...      ...  \n",
       "427          Crime Fiction, Drama, Coming of age, Teen      M     14.0  \n",
       "428  Cult, Action/Adventure, Science Fiction, Fanta...      M      6.0  \n",
       "429    Thriller, Drama, Horror, Psychological thriller      M      6.0  \n",
       "430  World cinema, Epic Western, Spaghetti Western,...      F      NaN  \n",
       "431  Science Fiction, Adventure, Superhero movie, S...      M     14.0  \n",
       "\n",
       "[429 rows x 11 columns]"
      ],
      "text/html": [
       "<div>\n",
       "<style scoped>\n",
       "    .dataframe tbody tr th:only-of-type {\n",
       "        vertical-align: middle;\n",
       "    }\n",
       "\n",
       "    .dataframe tbody tr th {\n",
       "        vertical-align: top;\n",
       "    }\n",
       "\n",
       "    .dataframe thead th {\n",
       "        text-align: right;\n",
       "    }\n",
       "</style>\n",
       "<table border=\"1\" class=\"dataframe\">\n",
       "  <thead>\n",
       "    <tr style=\"text-align: right;\">\n",
       "      <th></th>\n",
       "      <th>Wikipedia ID</th>\n",
       "      <th>Movie Name</th>\n",
       "      <th>Year</th>\n",
       "      <th>Character Name</th>\n",
       "      <th>Full name</th>\n",
       "      <th>Normalized_name</th>\n",
       "      <th>Influenced</th>\n",
       "      <th>Wikipedia_movie_ID</th>\n",
       "      <th>Genres</th>\n",
       "      <th>Gender</th>\n",
       "      <th>Count</th>\n",
       "    </tr>\n",
       "  </thead>\n",
       "  <tbody>\n",
       "    <tr>\n",
       "      <th>0</th>\n",
       "      <td>451866</td>\n",
       "      <td>mission: impossible ii</td>\n",
       "      <td>2000</td>\n",
       "      <td>Ethan</td>\n",
       "      <td>Ethan Hunt</td>\n",
       "      <td>ETHAN</td>\n",
       "      <td>1</td>\n",
       "      <td>451866.0</td>\n",
       "      <td>Thriller, Action Thrillers, Action/Adventure, ...</td>\n",
       "      <td>M</td>\n",
       "      <td>18059.0</td>\n",
       "    </tr>\n",
       "    <tr>\n",
       "      <th>1</th>\n",
       "      <td>633411</td>\n",
       "      <td>the avengers</td>\n",
       "      <td>1998</td>\n",
       "      <td>Emma</td>\n",
       "      <td>Emma Peel</td>\n",
       "      <td>EMMA</td>\n",
       "      <td>1</td>\n",
       "      <td>633411.0</td>\n",
       "      <td>Thriller, Adventure, Action/Adventure, Comedy,...</td>\n",
       "      <td>F</td>\n",
       "      <td>19870.0</td>\n",
       "    </tr>\n",
       "    <tr>\n",
       "      <th>2</th>\n",
       "      <td>3727473</td>\n",
       "      <td>man on fire</td>\n",
       "      <td>1987</td>\n",
       "      <td>Samantha</td>\n",
       "      <td>Samantha \"Sam\" Balletto</td>\n",
       "      <td>SAMANTHA</td>\n",
       "      <td>1</td>\n",
       "      <td>3727473.0</td>\n",
       "      <td>Thriller, Action, Drama, Indie</td>\n",
       "      <td>F</td>\n",
       "      <td>18864.0</td>\n",
       "    </tr>\n",
       "    <tr>\n",
       "      <th>3</th>\n",
       "      <td>347000</td>\n",
       "      <td>suspiria</td>\n",
       "      <td>1977</td>\n",
       "      <td>Sarah</td>\n",
       "      <td>Sarah</td>\n",
       "      <td>SARAH</td>\n",
       "      <td>1</td>\n",
       "      <td>347000.0</td>\n",
       "      <td>Horror, World cinema, Supernatural, Gothic Fil...</td>\n",
       "      <td>F</td>\n",
       "      <td>19777.0</td>\n",
       "    </tr>\n",
       "    <tr>\n",
       "      <th>4</th>\n",
       "      <td>320401</td>\n",
       "      <td>barton fink</td>\n",
       "      <td>1991</td>\n",
       "      <td>Taylor</td>\n",
       "      <td>Audrey Taylor</td>\n",
       "      <td>TAYLOR</td>\n",
       "      <td>1</td>\n",
       "      <td>320401.0</td>\n",
       "      <td>Thriller, Indie, Comedy-drama, Mystery, Period...</td>\n",
       "      <td>F</td>\n",
       "      <td>10255.0</td>\n",
       "    </tr>\n",
       "    <tr>\n",
       "      <th>...</th>\n",
       "      <td>...</td>\n",
       "      <td>...</td>\n",
       "      <td>...</td>\n",
       "      <td>...</td>\n",
       "      <td>...</td>\n",
       "      <td>...</td>\n",
       "      <td>...</td>\n",
       "      <td>...</td>\n",
       "      <td>...</td>\n",
       "      <td>...</td>\n",
       "      <td>...</td>\n",
       "    </tr>\n",
       "    <tr>\n",
       "      <th>427</th>\n",
       "      <td>155997</td>\n",
       "      <td>boyz n the hood</td>\n",
       "      <td>1991</td>\n",
       "      <td>Ferris</td>\n",
       "      <td>Ferris</td>\n",
       "      <td>FERRIS</td>\n",
       "      <td>1</td>\n",
       "      <td>155997.0</td>\n",
       "      <td>Crime Fiction, Drama, Coming of age, Teen</td>\n",
       "      <td>M</td>\n",
       "      <td>14.0</td>\n",
       "    </tr>\n",
       "    <tr>\n",
       "      <th>428</th>\n",
       "      <td>4440277</td>\n",
       "      <td>highlander</td>\n",
       "      <td>1986</td>\n",
       "      <td>Ramirez</td>\n",
       "      <td>Lobos Ramirez</td>\n",
       "      <td>RAMIREZ</td>\n",
       "      <td>1</td>\n",
       "      <td>4440277.0</td>\n",
       "      <td>Cult, Action/Adventure, Science Fiction, Fanta...</td>\n",
       "      <td>M</td>\n",
       "      <td>6.0</td>\n",
       "    </tr>\n",
       "    <tr>\n",
       "      <th>429</th>\n",
       "      <td>1917925</td>\n",
       "      <td>what ever happened to baby jane?</td>\n",
       "      <td>1962</td>\n",
       "      <td>Hudson</td>\n",
       "      <td>Baby Jane Hudson</td>\n",
       "      <td>HUDSON</td>\n",
       "      <td>1</td>\n",
       "      <td>1917925.0</td>\n",
       "      <td>Thriller, Drama, Horror, Psychological thriller</td>\n",
       "      <td>M</td>\n",
       "      <td>6.0</td>\n",
       "    </tr>\n",
       "    <tr>\n",
       "      <th>430</th>\n",
       "      <td>31557</td>\n",
       "      <td>the good, the bad and the ugly</td>\n",
       "      <td>1966</td>\n",
       "      <td>Blondie</td>\n",
       "      <td>Blondie</td>\n",
       "      <td>BLONDIE</td>\n",
       "      <td>1</td>\n",
       "      <td>31557.0</td>\n",
       "      <td>World cinema, Epic Western, Spaghetti Western,...</td>\n",
       "      <td>F</td>\n",
       "      <td>NaN</td>\n",
       "    </tr>\n",
       "    <tr>\n",
       "      <th>431</th>\n",
       "      <td>1059280</td>\n",
       "      <td>superman ii</td>\n",
       "      <td>1981</td>\n",
       "      <td>Lex</td>\n",
       "      <td>Lex Luthor</td>\n",
       "      <td>LEX</td>\n",
       "      <td>1</td>\n",
       "      <td>1059280.0</td>\n",
       "      <td>Science Fiction, Adventure, Superhero movie, S...</td>\n",
       "      <td>M</td>\n",
       "      <td>14.0</td>\n",
       "    </tr>\n",
       "  </tbody>\n",
       "</table>\n",
       "<p>429 rows × 11 columns</p>\n",
       "</div>"
      ]
     },
     "execution_count": 7,
     "metadata": {},
     "output_type": "execute_result"
    }
   ],
   "execution_count": 7
  },
  {
   "metadata": {
    "ExecuteTime": {
     "end_time": "2024-12-20T18:13:23.154324Z",
     "start_time": "2024-12-20T18:13:23.127635Z"
    }
   },
   "cell_type": "code",
   "source": [
    "# Print each Nan row\n",
    "merged_df[merged_df.isna().any(axis=1)]\n"
   ],
   "id": "bab076fd5a84c437",
   "outputs": [
    {
     "data": {
      "text/plain": [
       "     Wikipedia ID                                         Movie Name  Year  \\\n",
       "16         403227                     the nightmare before christmas  1993   \n",
       "51         443972                                               hook  1991   \n",
       "56        1277918                  charlie and the chocolate factory  2005   \n",
       "57         525314                                            shrek 2  2004   \n",
       "109       3700174                                            jumanji  1995   \n",
       "164        335298                                        toy story 2  1999   \n",
       "195        294998                     home alone 2: lost in new york  1992   \n",
       "207         53085                                          toy story  1995   \n",
       "212        343408                                     the aristocats  1970   \n",
       "220        525314                                            shrek 2  2004   \n",
       "226         73441                         e.t. the extra-terrestrial  1982   \n",
       "228        399433                                         pocahontas  1995   \n",
       "246        667368            harry potter and the chamber of secrets  2002   \n",
       "271        358367                                      pete's dragon  1977   \n",
       "279        667372                harry potter and the goblet of fire  2005   \n",
       "287        216072                                         home alone  1990   \n",
       "289        323715                                               troy  2004   \n",
       "295        667368            harry potter and the chamber of secrets  2002   \n",
       "339        920296                                  somewhere in time  1980   \n",
       "347       1213838                                        toy story 3  2010   \n",
       "351       1880660  the chronicles of narnia: the lion, the witch ...  2005   \n",
       "376       2829485                              the neverending story  1984   \n",
       "381      11077335                                     doctor zhivago  1965   \n",
       "382         97758                                     doctor zhivago  1965   \n",
       "391         97646                                           die hard  1988   \n",
       "396        448735                                                elf  2003   \n",
       "400          8695  dr. strangelove or: how i learned to stop worr...  1964   \n",
       "404      10645970                                              rocky  1981   \n",
       "409       3700174                                            jumanji  1995   \n",
       "414      23487440                                              alien  1979   \n",
       "415        321496  pirates of the caribbean: the curse of the bla...  2003   \n",
       "417         97758                                     doctor zhivago  1965   \n",
       "418         68245                                   bonnie and clyde  1967   \n",
       "420        133648                                   scent of a woman  1992   \n",
       "421       1210303                                        constantine  2005   \n",
       "426       3917873                            chitty chitty bang bang  1968   \n",
       "430         31557                     the good, the bad and the ugly  1966   \n",
       "\n",
       "    Character Name                                   Full name  \\\n",
       "16            Jack                           Jack assigns Lock   \n",
       "51            Jack                                        Jack   \n",
       "56         Charlie                              Charlie Bucket   \n",
       "57         Lillian                               Queen Lillian   \n",
       "109            Sam                                         Sam   \n",
       "164           Andy                                        Andy   \n",
       "195         Duncan                                      Duncan   \n",
       "207          Davis                                  Andy Davis   \n",
       "212        Abigail                              Abigail Gabble   \n",
       "220           King                                 King Harold   \n",
       "226        Elliott                              Elliott feigns   \n",
       "228         Willow                          Grandmother Willow   \n",
       "246       Hermione                     Harry, Ron and Hermione   \n",
       "271        Elliott                                     Elliott   \n",
       "279         Viktor                                 Viktor Krum   \n",
       "287         Marley                                      Marley   \n",
       "289        Briseis                                     Briseis   \n",
       "295         Lucius                               Lucius Malfoy   \n",
       "339        McKenna                               Elise McKenna   \n",
       "347          Woody                                       Woody   \n",
       "351          Aslan                                       Aslan   \n",
       "376       Fantasia                                    Fantasia   \n",
       "381           Yuri                                Yuri Zhivago   \n",
       "382           Yuri                    Yuri Andreyevich Zhivago   \n",
       "391       Kristoff                             knocks Kristoff   \n",
       "396          Buddy                                       Buddy   \n",
       "400         Alexei                           Alexei de Sadeski   \n",
       "404        Shankar                                     Shankar   \n",
       "409       Shepherd                              Peter Shepherd   \n",
       "414            Ash                                         Ash   \n",
       "415        Sparrow                                Jack Sparrow   \n",
       "417          Pasha                               Pasha Antipov   \n",
       "418           Moss                                   C.W. Moss   \n",
       "420         Ranger  Army Ranger Lieutenant Colonel Frank Slade   \n",
       "421        Lucifer                                     Lucifer   \n",
       "426         Jemima                                Jemima Potts   \n",
       "430        Blondie                                     Blondie   \n",
       "\n",
       "    Normalized_name  Influenced  Wikipedia_movie_ID  \\\n",
       "16             JACK           1            403227.0   \n",
       "51             JACK           1            443972.0   \n",
       "56          CHARLIE           1           1277918.0   \n",
       "57          LILLIAN           1            525314.0   \n",
       "109             SAM           1           3700174.0   \n",
       "164            ANDY           1            335298.0   \n",
       "195          DUNCAN           1            294998.0   \n",
       "207           DAVIS           1             53085.0   \n",
       "212         ABIGAIL           1            343408.0   \n",
       "220            KING           1            525314.0   \n",
       "226         ELLIOTT           1             73441.0   \n",
       "228          WILLOW           1            399433.0   \n",
       "246        HERMIONE           1            667368.0   \n",
       "271         ELLIOTT           1            358367.0   \n",
       "279          VIKTOR           1            667372.0   \n",
       "287          MARLEY           1            216072.0   \n",
       "289         BRISEIS           1            323715.0   \n",
       "295          LUCIUS           1            667368.0   \n",
       "339         MCKENNA           1            920296.0   \n",
       "347           WOODY           1           1213838.0   \n",
       "351           ASLAN           1           1880660.0   \n",
       "376        FANTASIA           1           2829485.0   \n",
       "381            YURI           1          11077335.0   \n",
       "382            YURI           1             97758.0   \n",
       "391        KRISTOFF           1             97646.0   \n",
       "396           BUDDY           1            448735.0   \n",
       "400          ALEXEI           1              8695.0   \n",
       "404         SHANKAR           1          10645970.0   \n",
       "409        SHEPHERD           1           3700174.0   \n",
       "414             ASH           1          23487440.0   \n",
       "415         SPARROW           1            321496.0   \n",
       "417           PASHA           1             97758.0   \n",
       "418            MOSS           1             68245.0   \n",
       "420          RANGER           1            133648.0   \n",
       "421         LUCIFER           1           1210303.0   \n",
       "426          JEMIMA           1           3917873.0   \n",
       "430         BLONDIE           1             31557.0   \n",
       "\n",
       "                                                Genres Gender   Count  \n",
       "16                                                 NaN      M  2763.0  \n",
       "51                                                 NaN      M  2099.0  \n",
       "56                                                 NaN      M  5282.0  \n",
       "57                                                 NaN      F  4839.0  \n",
       "109                                                NaN      M   729.0  \n",
       "164                                                NaN      M  1940.0  \n",
       "195                                                NaN      M   365.0  \n",
       "207                                                NaN      M   563.0  \n",
       "212                                                NaN      F   362.0  \n",
       "220                                                NaN      M    89.0  \n",
       "226                                                NaN      M   471.0  \n",
       "228                                                NaN      F    93.0  \n",
       "246                                                NaN      F   102.0  \n",
       "271                                                NaN      M   273.0  \n",
       "279                                                NaN      M   175.0  \n",
       "287                                                NaN      F    85.0  \n",
       "289  Sword and Sandal, Adventure, Costume drama, Hi...      F     NaN  \n",
       "295                                                NaN      M    60.0  \n",
       "339  Science Fiction, Indie, Tragedy, Romantic fant...      F     NaN  \n",
       "347                                                NaN      M    87.0  \n",
       "351                                                NaN      M    18.0  \n",
       "376                                                NaN      F     8.0  \n",
       "381                                      Costume drama      M     NaN  \n",
       "382  Roadshow theatrical release, Epic, Period piec...      M     NaN  \n",
       "391  Crime Fiction, Thriller, Action, Action/Adventure      M     NaN  \n",
       "396                                                NaN      M    50.0  \n",
       "400                                      Drama, Comedy      M     NaN  \n",
       "404  World cinema, Musical, Drama, Romantic drama, ...      M     NaN  \n",
       "409                                                NaN      M    10.0  \n",
       "414  Science Fiction, Horror, Adventure, Sci-Fi Hor...      M     NaN  \n",
       "415  Swashbuckler films, Fantasy Adventure, Adventu...      M     NaN  \n",
       "417  Roadshow theatrical release, Epic, Period piec...      M     NaN  \n",
       "418  Crime Fiction, Heist, Gangster Film, Crime Dra...      M     NaN  \n",
       "420                               Drama, Coming of age      M     NaN  \n",
       "421            Fantasy, Horror, Action, Drama, Mystery      M     NaN  \n",
       "426  Musical, Family Film, Fantasy, Comedy, Family-...      F     NaN  \n",
       "430  World cinema, Epic Western, Spaghetti Western,...      F     NaN  "
      ],
      "text/html": [
       "<div>\n",
       "<style scoped>\n",
       "    .dataframe tbody tr th:only-of-type {\n",
       "        vertical-align: middle;\n",
       "    }\n",
       "\n",
       "    .dataframe tbody tr th {\n",
       "        vertical-align: top;\n",
       "    }\n",
       "\n",
       "    .dataframe thead th {\n",
       "        text-align: right;\n",
       "    }\n",
       "</style>\n",
       "<table border=\"1\" class=\"dataframe\">\n",
       "  <thead>\n",
       "    <tr style=\"text-align: right;\">\n",
       "      <th></th>\n",
       "      <th>Wikipedia ID</th>\n",
       "      <th>Movie Name</th>\n",
       "      <th>Year</th>\n",
       "      <th>Character Name</th>\n",
       "      <th>Full name</th>\n",
       "      <th>Normalized_name</th>\n",
       "      <th>Influenced</th>\n",
       "      <th>Wikipedia_movie_ID</th>\n",
       "      <th>Genres</th>\n",
       "      <th>Gender</th>\n",
       "      <th>Count</th>\n",
       "    </tr>\n",
       "  </thead>\n",
       "  <tbody>\n",
       "    <tr>\n",
       "      <th>16</th>\n",
       "      <td>403227</td>\n",
       "      <td>the nightmare before christmas</td>\n",
       "      <td>1993</td>\n",
       "      <td>Jack</td>\n",
       "      <td>Jack assigns Lock</td>\n",
       "      <td>JACK</td>\n",
       "      <td>1</td>\n",
       "      <td>403227.0</td>\n",
       "      <td>NaN</td>\n",
       "      <td>M</td>\n",
       "      <td>2763.0</td>\n",
       "    </tr>\n",
       "    <tr>\n",
       "      <th>51</th>\n",
       "      <td>443972</td>\n",
       "      <td>hook</td>\n",
       "      <td>1991</td>\n",
       "      <td>Jack</td>\n",
       "      <td>Jack</td>\n",
       "      <td>JACK</td>\n",
       "      <td>1</td>\n",
       "      <td>443972.0</td>\n",
       "      <td>NaN</td>\n",
       "      <td>M</td>\n",
       "      <td>2099.0</td>\n",
       "    </tr>\n",
       "    <tr>\n",
       "      <th>56</th>\n",
       "      <td>1277918</td>\n",
       "      <td>charlie and the chocolate factory</td>\n",
       "      <td>2005</td>\n",
       "      <td>Charlie</td>\n",
       "      <td>Charlie Bucket</td>\n",
       "      <td>CHARLIE</td>\n",
       "      <td>1</td>\n",
       "      <td>1277918.0</td>\n",
       "      <td>NaN</td>\n",
       "      <td>M</td>\n",
       "      <td>5282.0</td>\n",
       "    </tr>\n",
       "    <tr>\n",
       "      <th>57</th>\n",
       "      <td>525314</td>\n",
       "      <td>shrek 2</td>\n",
       "      <td>2004</td>\n",
       "      <td>Lillian</td>\n",
       "      <td>Queen Lillian</td>\n",
       "      <td>LILLIAN</td>\n",
       "      <td>1</td>\n",
       "      <td>525314.0</td>\n",
       "      <td>NaN</td>\n",
       "      <td>F</td>\n",
       "      <td>4839.0</td>\n",
       "    </tr>\n",
       "    <tr>\n",
       "      <th>109</th>\n",
       "      <td>3700174</td>\n",
       "      <td>jumanji</td>\n",
       "      <td>1995</td>\n",
       "      <td>Sam</td>\n",
       "      <td>Sam</td>\n",
       "      <td>SAM</td>\n",
       "      <td>1</td>\n",
       "      <td>3700174.0</td>\n",
       "      <td>NaN</td>\n",
       "      <td>M</td>\n",
       "      <td>729.0</td>\n",
       "    </tr>\n",
       "    <tr>\n",
       "      <th>164</th>\n",
       "      <td>335298</td>\n",
       "      <td>toy story 2</td>\n",
       "      <td>1999</td>\n",
       "      <td>Andy</td>\n",
       "      <td>Andy</td>\n",
       "      <td>ANDY</td>\n",
       "      <td>1</td>\n",
       "      <td>335298.0</td>\n",
       "      <td>NaN</td>\n",
       "      <td>M</td>\n",
       "      <td>1940.0</td>\n",
       "    </tr>\n",
       "    <tr>\n",
       "      <th>195</th>\n",
       "      <td>294998</td>\n",
       "      <td>home alone 2: lost in new york</td>\n",
       "      <td>1992</td>\n",
       "      <td>Duncan</td>\n",
       "      <td>Duncan</td>\n",
       "      <td>DUNCAN</td>\n",
       "      <td>1</td>\n",
       "      <td>294998.0</td>\n",
       "      <td>NaN</td>\n",
       "      <td>M</td>\n",
       "      <td>365.0</td>\n",
       "    </tr>\n",
       "    <tr>\n",
       "      <th>207</th>\n",
       "      <td>53085</td>\n",
       "      <td>toy story</td>\n",
       "      <td>1995</td>\n",
       "      <td>Davis</td>\n",
       "      <td>Andy Davis</td>\n",
       "      <td>DAVIS</td>\n",
       "      <td>1</td>\n",
       "      <td>53085.0</td>\n",
       "      <td>NaN</td>\n",
       "      <td>M</td>\n",
       "      <td>563.0</td>\n",
       "    </tr>\n",
       "    <tr>\n",
       "      <th>212</th>\n",
       "      <td>343408</td>\n",
       "      <td>the aristocats</td>\n",
       "      <td>1970</td>\n",
       "      <td>Abigail</td>\n",
       "      <td>Abigail Gabble</td>\n",
       "      <td>ABIGAIL</td>\n",
       "      <td>1</td>\n",
       "      <td>343408.0</td>\n",
       "      <td>NaN</td>\n",
       "      <td>F</td>\n",
       "      <td>362.0</td>\n",
       "    </tr>\n",
       "    <tr>\n",
       "      <th>220</th>\n",
       "      <td>525314</td>\n",
       "      <td>shrek 2</td>\n",
       "      <td>2004</td>\n",
       "      <td>King</td>\n",
       "      <td>King Harold</td>\n",
       "      <td>KING</td>\n",
       "      <td>1</td>\n",
       "      <td>525314.0</td>\n",
       "      <td>NaN</td>\n",
       "      <td>M</td>\n",
       "      <td>89.0</td>\n",
       "    </tr>\n",
       "    <tr>\n",
       "      <th>226</th>\n",
       "      <td>73441</td>\n",
       "      <td>e.t. the extra-terrestrial</td>\n",
       "      <td>1982</td>\n",
       "      <td>Elliott</td>\n",
       "      <td>Elliott feigns</td>\n",
       "      <td>ELLIOTT</td>\n",
       "      <td>1</td>\n",
       "      <td>73441.0</td>\n",
       "      <td>NaN</td>\n",
       "      <td>M</td>\n",
       "      <td>471.0</td>\n",
       "    </tr>\n",
       "    <tr>\n",
       "      <th>228</th>\n",
       "      <td>399433</td>\n",
       "      <td>pocahontas</td>\n",
       "      <td>1995</td>\n",
       "      <td>Willow</td>\n",
       "      <td>Grandmother Willow</td>\n",
       "      <td>WILLOW</td>\n",
       "      <td>1</td>\n",
       "      <td>399433.0</td>\n",
       "      <td>NaN</td>\n",
       "      <td>F</td>\n",
       "      <td>93.0</td>\n",
       "    </tr>\n",
       "    <tr>\n",
       "      <th>246</th>\n",
       "      <td>667368</td>\n",
       "      <td>harry potter and the chamber of secrets</td>\n",
       "      <td>2002</td>\n",
       "      <td>Hermione</td>\n",
       "      <td>Harry, Ron and Hermione</td>\n",
       "      <td>HERMIONE</td>\n",
       "      <td>1</td>\n",
       "      <td>667368.0</td>\n",
       "      <td>NaN</td>\n",
       "      <td>F</td>\n",
       "      <td>102.0</td>\n",
       "    </tr>\n",
       "    <tr>\n",
       "      <th>271</th>\n",
       "      <td>358367</td>\n",
       "      <td>pete's dragon</td>\n",
       "      <td>1977</td>\n",
       "      <td>Elliott</td>\n",
       "      <td>Elliott</td>\n",
       "      <td>ELLIOTT</td>\n",
       "      <td>1</td>\n",
       "      <td>358367.0</td>\n",
       "      <td>NaN</td>\n",
       "      <td>M</td>\n",
       "      <td>273.0</td>\n",
       "    </tr>\n",
       "    <tr>\n",
       "      <th>279</th>\n",
       "      <td>667372</td>\n",
       "      <td>harry potter and the goblet of fire</td>\n",
       "      <td>2005</td>\n",
       "      <td>Viktor</td>\n",
       "      <td>Viktor Krum</td>\n",
       "      <td>VIKTOR</td>\n",
       "      <td>1</td>\n",
       "      <td>667372.0</td>\n",
       "      <td>NaN</td>\n",
       "      <td>M</td>\n",
       "      <td>175.0</td>\n",
       "    </tr>\n",
       "    <tr>\n",
       "      <th>287</th>\n",
       "      <td>216072</td>\n",
       "      <td>home alone</td>\n",
       "      <td>1990</td>\n",
       "      <td>Marley</td>\n",
       "      <td>Marley</td>\n",
       "      <td>MARLEY</td>\n",
       "      <td>1</td>\n",
       "      <td>216072.0</td>\n",
       "      <td>NaN</td>\n",
       "      <td>F</td>\n",
       "      <td>85.0</td>\n",
       "    </tr>\n",
       "    <tr>\n",
       "      <th>289</th>\n",
       "      <td>323715</td>\n",
       "      <td>troy</td>\n",
       "      <td>2004</td>\n",
       "      <td>Briseis</td>\n",
       "      <td>Briseis</td>\n",
       "      <td>BRISEIS</td>\n",
       "      <td>1</td>\n",
       "      <td>323715.0</td>\n",
       "      <td>Sword and Sandal, Adventure, Costume drama, Hi...</td>\n",
       "      <td>F</td>\n",
       "      <td>NaN</td>\n",
       "    </tr>\n",
       "    <tr>\n",
       "      <th>295</th>\n",
       "      <td>667368</td>\n",
       "      <td>harry potter and the chamber of secrets</td>\n",
       "      <td>2002</td>\n",
       "      <td>Lucius</td>\n",
       "      <td>Lucius Malfoy</td>\n",
       "      <td>LUCIUS</td>\n",
       "      <td>1</td>\n",
       "      <td>667368.0</td>\n",
       "      <td>NaN</td>\n",
       "      <td>M</td>\n",
       "      <td>60.0</td>\n",
       "    </tr>\n",
       "    <tr>\n",
       "      <th>339</th>\n",
       "      <td>920296</td>\n",
       "      <td>somewhere in time</td>\n",
       "      <td>1980</td>\n",
       "      <td>McKenna</td>\n",
       "      <td>Elise McKenna</td>\n",
       "      <td>MCKENNA</td>\n",
       "      <td>1</td>\n",
       "      <td>920296.0</td>\n",
       "      <td>Science Fiction, Indie, Tragedy, Romantic fant...</td>\n",
       "      <td>F</td>\n",
       "      <td>NaN</td>\n",
       "    </tr>\n",
       "    <tr>\n",
       "      <th>347</th>\n",
       "      <td>1213838</td>\n",
       "      <td>toy story 3</td>\n",
       "      <td>2010</td>\n",
       "      <td>Woody</td>\n",
       "      <td>Woody</td>\n",
       "      <td>WOODY</td>\n",
       "      <td>1</td>\n",
       "      <td>1213838.0</td>\n",
       "      <td>NaN</td>\n",
       "      <td>M</td>\n",
       "      <td>87.0</td>\n",
       "    </tr>\n",
       "    <tr>\n",
       "      <th>351</th>\n",
       "      <td>1880660</td>\n",
       "      <td>the chronicles of narnia: the lion, the witch ...</td>\n",
       "      <td>2005</td>\n",
       "      <td>Aslan</td>\n",
       "      <td>Aslan</td>\n",
       "      <td>ASLAN</td>\n",
       "      <td>1</td>\n",
       "      <td>1880660.0</td>\n",
       "      <td>NaN</td>\n",
       "      <td>M</td>\n",
       "      <td>18.0</td>\n",
       "    </tr>\n",
       "    <tr>\n",
       "      <th>376</th>\n",
       "      <td>2829485</td>\n",
       "      <td>the neverending story</td>\n",
       "      <td>1984</td>\n",
       "      <td>Fantasia</td>\n",
       "      <td>Fantasia</td>\n",
       "      <td>FANTASIA</td>\n",
       "      <td>1</td>\n",
       "      <td>2829485.0</td>\n",
       "      <td>NaN</td>\n",
       "      <td>F</td>\n",
       "      <td>8.0</td>\n",
       "    </tr>\n",
       "    <tr>\n",
       "      <th>381</th>\n",
       "      <td>11077335</td>\n",
       "      <td>doctor zhivago</td>\n",
       "      <td>1965</td>\n",
       "      <td>Yuri</td>\n",
       "      <td>Yuri Zhivago</td>\n",
       "      <td>YURI</td>\n",
       "      <td>1</td>\n",
       "      <td>11077335.0</td>\n",
       "      <td>Costume drama</td>\n",
       "      <td>M</td>\n",
       "      <td>NaN</td>\n",
       "    </tr>\n",
       "    <tr>\n",
       "      <th>382</th>\n",
       "      <td>97758</td>\n",
       "      <td>doctor zhivago</td>\n",
       "      <td>1965</td>\n",
       "      <td>Yuri</td>\n",
       "      <td>Yuri Andreyevich Zhivago</td>\n",
       "      <td>YURI</td>\n",
       "      <td>1</td>\n",
       "      <td>97758.0</td>\n",
       "      <td>Roadshow theatrical release, Epic, Period piec...</td>\n",
       "      <td>M</td>\n",
       "      <td>NaN</td>\n",
       "    </tr>\n",
       "    <tr>\n",
       "      <th>391</th>\n",
       "      <td>97646</td>\n",
       "      <td>die hard</td>\n",
       "      <td>1988</td>\n",
       "      <td>Kristoff</td>\n",
       "      <td>knocks Kristoff</td>\n",
       "      <td>KRISTOFF</td>\n",
       "      <td>1</td>\n",
       "      <td>97646.0</td>\n",
       "      <td>Crime Fiction, Thriller, Action, Action/Adventure</td>\n",
       "      <td>M</td>\n",
       "      <td>NaN</td>\n",
       "    </tr>\n",
       "    <tr>\n",
       "      <th>396</th>\n",
       "      <td>448735</td>\n",
       "      <td>elf</td>\n",
       "      <td>2003</td>\n",
       "      <td>Buddy</td>\n",
       "      <td>Buddy</td>\n",
       "      <td>BUDDY</td>\n",
       "      <td>1</td>\n",
       "      <td>448735.0</td>\n",
       "      <td>NaN</td>\n",
       "      <td>M</td>\n",
       "      <td>50.0</td>\n",
       "    </tr>\n",
       "    <tr>\n",
       "      <th>400</th>\n",
       "      <td>8695</td>\n",
       "      <td>dr. strangelove or: how i learned to stop worr...</td>\n",
       "      <td>1964</td>\n",
       "      <td>Alexei</td>\n",
       "      <td>Alexei de Sadeski</td>\n",
       "      <td>ALEXEI</td>\n",
       "      <td>1</td>\n",
       "      <td>8695.0</td>\n",
       "      <td>Drama, Comedy</td>\n",
       "      <td>M</td>\n",
       "      <td>NaN</td>\n",
       "    </tr>\n",
       "    <tr>\n",
       "      <th>404</th>\n",
       "      <td>10645970</td>\n",
       "      <td>rocky</td>\n",
       "      <td>1981</td>\n",
       "      <td>Shankar</td>\n",
       "      <td>Shankar</td>\n",
       "      <td>SHANKAR</td>\n",
       "      <td>1</td>\n",
       "      <td>10645970.0</td>\n",
       "      <td>World cinema, Musical, Drama, Romantic drama, ...</td>\n",
       "      <td>M</td>\n",
       "      <td>NaN</td>\n",
       "    </tr>\n",
       "    <tr>\n",
       "      <th>409</th>\n",
       "      <td>3700174</td>\n",
       "      <td>jumanji</td>\n",
       "      <td>1995</td>\n",
       "      <td>Shepherd</td>\n",
       "      <td>Peter Shepherd</td>\n",
       "      <td>SHEPHERD</td>\n",
       "      <td>1</td>\n",
       "      <td>3700174.0</td>\n",
       "      <td>NaN</td>\n",
       "      <td>M</td>\n",
       "      <td>10.0</td>\n",
       "    </tr>\n",
       "    <tr>\n",
       "      <th>414</th>\n",
       "      <td>23487440</td>\n",
       "      <td>alien</td>\n",
       "      <td>1979</td>\n",
       "      <td>Ash</td>\n",
       "      <td>Ash</td>\n",
       "      <td>ASH</td>\n",
       "      <td>1</td>\n",
       "      <td>23487440.0</td>\n",
       "      <td>Science Fiction, Horror, Adventure, Sci-Fi Hor...</td>\n",
       "      <td>M</td>\n",
       "      <td>NaN</td>\n",
       "    </tr>\n",
       "    <tr>\n",
       "      <th>415</th>\n",
       "      <td>321496</td>\n",
       "      <td>pirates of the caribbean: the curse of the bla...</td>\n",
       "      <td>2003</td>\n",
       "      <td>Sparrow</td>\n",
       "      <td>Jack Sparrow</td>\n",
       "      <td>SPARROW</td>\n",
       "      <td>1</td>\n",
       "      <td>321496.0</td>\n",
       "      <td>Swashbuckler films, Fantasy Adventure, Adventu...</td>\n",
       "      <td>M</td>\n",
       "      <td>NaN</td>\n",
       "    </tr>\n",
       "    <tr>\n",
       "      <th>417</th>\n",
       "      <td>97758</td>\n",
       "      <td>doctor zhivago</td>\n",
       "      <td>1965</td>\n",
       "      <td>Pasha</td>\n",
       "      <td>Pasha Antipov</td>\n",
       "      <td>PASHA</td>\n",
       "      <td>1</td>\n",
       "      <td>97758.0</td>\n",
       "      <td>Roadshow theatrical release, Epic, Period piec...</td>\n",
       "      <td>M</td>\n",
       "      <td>NaN</td>\n",
       "    </tr>\n",
       "    <tr>\n",
       "      <th>418</th>\n",
       "      <td>68245</td>\n",
       "      <td>bonnie and clyde</td>\n",
       "      <td>1967</td>\n",
       "      <td>Moss</td>\n",
       "      <td>C.W. Moss</td>\n",
       "      <td>MOSS</td>\n",
       "      <td>1</td>\n",
       "      <td>68245.0</td>\n",
       "      <td>Crime Fiction, Heist, Gangster Film, Crime Dra...</td>\n",
       "      <td>M</td>\n",
       "      <td>NaN</td>\n",
       "    </tr>\n",
       "    <tr>\n",
       "      <th>420</th>\n",
       "      <td>133648</td>\n",
       "      <td>scent of a woman</td>\n",
       "      <td>1992</td>\n",
       "      <td>Ranger</td>\n",
       "      <td>Army Ranger Lieutenant Colonel Frank Slade</td>\n",
       "      <td>RANGER</td>\n",
       "      <td>1</td>\n",
       "      <td>133648.0</td>\n",
       "      <td>Drama, Coming of age</td>\n",
       "      <td>M</td>\n",
       "      <td>NaN</td>\n",
       "    </tr>\n",
       "    <tr>\n",
       "      <th>421</th>\n",
       "      <td>1210303</td>\n",
       "      <td>constantine</td>\n",
       "      <td>2005</td>\n",
       "      <td>Lucifer</td>\n",
       "      <td>Lucifer</td>\n",
       "      <td>LUCIFER</td>\n",
       "      <td>1</td>\n",
       "      <td>1210303.0</td>\n",
       "      <td>Fantasy, Horror, Action, Drama, Mystery</td>\n",
       "      <td>M</td>\n",
       "      <td>NaN</td>\n",
       "    </tr>\n",
       "    <tr>\n",
       "      <th>426</th>\n",
       "      <td>3917873</td>\n",
       "      <td>chitty chitty bang bang</td>\n",
       "      <td>1968</td>\n",
       "      <td>Jemima</td>\n",
       "      <td>Jemima Potts</td>\n",
       "      <td>JEMIMA</td>\n",
       "      <td>1</td>\n",
       "      <td>3917873.0</td>\n",
       "      <td>Musical, Family Film, Fantasy, Comedy, Family-...</td>\n",
       "      <td>F</td>\n",
       "      <td>NaN</td>\n",
       "    </tr>\n",
       "    <tr>\n",
       "      <th>430</th>\n",
       "      <td>31557</td>\n",
       "      <td>the good, the bad and the ugly</td>\n",
       "      <td>1966</td>\n",
       "      <td>Blondie</td>\n",
       "      <td>Blondie</td>\n",
       "      <td>BLONDIE</td>\n",
       "      <td>1</td>\n",
       "      <td>31557.0</td>\n",
       "      <td>World cinema, Epic Western, Spaghetti Western,...</td>\n",
       "      <td>F</td>\n",
       "      <td>NaN</td>\n",
       "    </tr>\n",
       "  </tbody>\n",
       "</table>\n",
       "</div>"
      ]
     },
     "execution_count": 8,
     "metadata": {},
     "output_type": "execute_result"
    }
   ],
   "execution_count": 8
  },
  {
   "metadata": {},
   "cell_type": "markdown",
   "source": "# Do movies shape names differently for men and women ?",
   "id": "9101d28e42a056fb"
  },
  {
   "metadata": {},
   "cell_type": "markdown",
   "source": [
    "You could start by breaking down how often female versus male names appear with a positive influence (the boolean “influenced” indicator) and then comparing their average influence scores. Here are a few angles to consider:\n",
    "\n",
    "### Overall comparison by gender:\n",
    "Look at the proportion of female names influenced versus male names influenced."
   ],
   "id": "6c20d31be511e182"
  },
  {
   "metadata": {
    "ExecuteTime": {
     "end_time": "2024-12-20T19:28:55.951083Z",
     "start_time": "2024-12-20T19:28:55.656396Z"
    }
   },
   "cell_type": "code",
   "source": [
    "# Calculate the proportion of male vs female names influenced\n",
    "gender_counts = merged_df['Gender'].value_counts()\n",
    "\n",
    "# Create a pie chart\n",
    "fig = px.pie(\n",
    "    gender_counts,\n",
    "    values=gender_counts.values,\n",
    "    names=gender_counts.index,\n",
    "    title='Proportion of Male vs Female names influenced'\n",
    ")\n",
    "\n",
    "# Set transparent background and update font styles\n",
    "fig.update_layout(\n",
    "    template='plotly_white',  # White background with gridlines\n",
    "    font=dict(size=14, color='black'),  # Adjust font size and color for labels\n",
    ")\n",
    "\n",
    "fig.show()\n",
    "fig.write_html(\"docs/_includes/pie_chart_gender.html\")"
   ],
   "id": "dbd2ffc2b98f6331",
   "outputs": [
    {
     "data": {
      "application/vnd.plotly.v1+json": {
       "data": [
        {
         "domain": {
          "x": [
           0.0,
           1.0
          ],
          "y": [
           0.0,
           1.0
          ]
         },
         "hovertemplate": "Gender=%{label}<br>value=%{value}<extra></extra>",
         "labels": [
          "M",
          "F"
         ],
         "legendgroup": "",
         "name": "",
         "showlegend": true,
         "values": [
          326,
          103
         ],
         "type": "pie"
        }
       ],
       "layout": {
        "template": {
         "data": {
          "barpolar": [
           {
            "marker": {
             "line": {
              "color": "white",
              "width": 0.5
             },
             "pattern": {
              "fillmode": "overlay",
              "size": 10,
              "solidity": 0.2
             }
            },
            "type": "barpolar"
           }
          ],
          "bar": [
           {
            "error_x": {
             "color": "#2a3f5f"
            },
            "error_y": {
             "color": "#2a3f5f"
            },
            "marker": {
             "line": {
              "color": "white",
              "width": 0.5
             },
             "pattern": {
              "fillmode": "overlay",
              "size": 10,
              "solidity": 0.2
             }
            },
            "type": "bar"
           }
          ],
          "carpet": [
           {
            "aaxis": {
             "endlinecolor": "#2a3f5f",
             "gridcolor": "#C8D4E3",
             "linecolor": "#C8D4E3",
             "minorgridcolor": "#C8D4E3",
             "startlinecolor": "#2a3f5f"
            },
            "baxis": {
             "endlinecolor": "#2a3f5f",
             "gridcolor": "#C8D4E3",
             "linecolor": "#C8D4E3",
             "minorgridcolor": "#C8D4E3",
             "startlinecolor": "#2a3f5f"
            },
            "type": "carpet"
           }
          ],
          "choropleth": [
           {
            "colorbar": {
             "outlinewidth": 0,
             "ticks": ""
            },
            "type": "choropleth"
           }
          ],
          "contourcarpet": [
           {
            "colorbar": {
             "outlinewidth": 0,
             "ticks": ""
            },
            "type": "contourcarpet"
           }
          ],
          "contour": [
           {
            "colorbar": {
             "outlinewidth": 0,
             "ticks": ""
            },
            "colorscale": [
             [
              0.0,
              "#0d0887"
             ],
             [
              0.1111111111111111,
              "#46039f"
             ],
             [
              0.2222222222222222,
              "#7201a8"
             ],
             [
              0.3333333333333333,
              "#9c179e"
             ],
             [
              0.4444444444444444,
              "#bd3786"
             ],
             [
              0.5555555555555556,
              "#d8576b"
             ],
             [
              0.6666666666666666,
              "#ed7953"
             ],
             [
              0.7777777777777778,
              "#fb9f3a"
             ],
             [
              0.8888888888888888,
              "#fdca26"
             ],
             [
              1.0,
              "#f0f921"
             ]
            ],
            "type": "contour"
           }
          ],
          "heatmapgl": [
           {
            "colorbar": {
             "outlinewidth": 0,
             "ticks": ""
            },
            "colorscale": [
             [
              0.0,
              "#0d0887"
             ],
             [
              0.1111111111111111,
              "#46039f"
             ],
             [
              0.2222222222222222,
              "#7201a8"
             ],
             [
              0.3333333333333333,
              "#9c179e"
             ],
             [
              0.4444444444444444,
              "#bd3786"
             ],
             [
              0.5555555555555556,
              "#d8576b"
             ],
             [
              0.6666666666666666,
              "#ed7953"
             ],
             [
              0.7777777777777778,
              "#fb9f3a"
             ],
             [
              0.8888888888888888,
              "#fdca26"
             ],
             [
              1.0,
              "#f0f921"
             ]
            ],
            "type": "heatmapgl"
           }
          ],
          "heatmap": [
           {
            "colorbar": {
             "outlinewidth": 0,
             "ticks": ""
            },
            "colorscale": [
             [
              0.0,
              "#0d0887"
             ],
             [
              0.1111111111111111,
              "#46039f"
             ],
             [
              0.2222222222222222,
              "#7201a8"
             ],
             [
              0.3333333333333333,
              "#9c179e"
             ],
             [
              0.4444444444444444,
              "#bd3786"
             ],
             [
              0.5555555555555556,
              "#d8576b"
             ],
             [
              0.6666666666666666,
              "#ed7953"
             ],
             [
              0.7777777777777778,
              "#fb9f3a"
             ],
             [
              0.8888888888888888,
              "#fdca26"
             ],
             [
              1.0,
              "#f0f921"
             ]
            ],
            "type": "heatmap"
           }
          ],
          "histogram2dcontour": [
           {
            "colorbar": {
             "outlinewidth": 0,
             "ticks": ""
            },
            "colorscale": [
             [
              0.0,
              "#0d0887"
             ],
             [
              0.1111111111111111,
              "#46039f"
             ],
             [
              0.2222222222222222,
              "#7201a8"
             ],
             [
              0.3333333333333333,
              "#9c179e"
             ],
             [
              0.4444444444444444,
              "#bd3786"
             ],
             [
              0.5555555555555556,
              "#d8576b"
             ],
             [
              0.6666666666666666,
              "#ed7953"
             ],
             [
              0.7777777777777778,
              "#fb9f3a"
             ],
             [
              0.8888888888888888,
              "#fdca26"
             ],
             [
              1.0,
              "#f0f921"
             ]
            ],
            "type": "histogram2dcontour"
           }
          ],
          "histogram2d": [
           {
            "colorbar": {
             "outlinewidth": 0,
             "ticks": ""
            },
            "colorscale": [
             [
              0.0,
              "#0d0887"
             ],
             [
              0.1111111111111111,
              "#46039f"
             ],
             [
              0.2222222222222222,
              "#7201a8"
             ],
             [
              0.3333333333333333,
              "#9c179e"
             ],
             [
              0.4444444444444444,
              "#bd3786"
             ],
             [
              0.5555555555555556,
              "#d8576b"
             ],
             [
              0.6666666666666666,
              "#ed7953"
             ],
             [
              0.7777777777777778,
              "#fb9f3a"
             ],
             [
              0.8888888888888888,
              "#fdca26"
             ],
             [
              1.0,
              "#f0f921"
             ]
            ],
            "type": "histogram2d"
           }
          ],
          "histogram": [
           {
            "marker": {
             "pattern": {
              "fillmode": "overlay",
              "size": 10,
              "solidity": 0.2
             }
            },
            "type": "histogram"
           }
          ],
          "mesh3d": [
           {
            "colorbar": {
             "outlinewidth": 0,
             "ticks": ""
            },
            "type": "mesh3d"
           }
          ],
          "parcoords": [
           {
            "line": {
             "colorbar": {
              "outlinewidth": 0,
              "ticks": ""
             }
            },
            "type": "parcoords"
           }
          ],
          "pie": [
           {
            "automargin": true,
            "type": "pie"
           }
          ],
          "scatter3d": [
           {
            "line": {
             "colorbar": {
              "outlinewidth": 0,
              "ticks": ""
             }
            },
            "marker": {
             "colorbar": {
              "outlinewidth": 0,
              "ticks": ""
             }
            },
            "type": "scatter3d"
           }
          ],
          "scattercarpet": [
           {
            "marker": {
             "colorbar": {
              "outlinewidth": 0,
              "ticks": ""
             }
            },
            "type": "scattercarpet"
           }
          ],
          "scattergeo": [
           {
            "marker": {
             "colorbar": {
              "outlinewidth": 0,
              "ticks": ""
             }
            },
            "type": "scattergeo"
           }
          ],
          "scattergl": [
           {
            "marker": {
             "colorbar": {
              "outlinewidth": 0,
              "ticks": ""
             }
            },
            "type": "scattergl"
           }
          ],
          "scattermapbox": [
           {
            "marker": {
             "colorbar": {
              "outlinewidth": 0,
              "ticks": ""
             }
            },
            "type": "scattermapbox"
           }
          ],
          "scatterpolargl": [
           {
            "marker": {
             "colorbar": {
              "outlinewidth": 0,
              "ticks": ""
             }
            },
            "type": "scatterpolargl"
           }
          ],
          "scatterpolar": [
           {
            "marker": {
             "colorbar": {
              "outlinewidth": 0,
              "ticks": ""
             }
            },
            "type": "scatterpolar"
           }
          ],
          "scatter": [
           {
            "fillpattern": {
             "fillmode": "overlay",
             "size": 10,
             "solidity": 0.2
            },
            "type": "scatter"
           }
          ],
          "scatterternary": [
           {
            "marker": {
             "colorbar": {
              "outlinewidth": 0,
              "ticks": ""
             }
            },
            "type": "scatterternary"
           }
          ],
          "surface": [
           {
            "colorbar": {
             "outlinewidth": 0,
             "ticks": ""
            },
            "colorscale": [
             [
              0.0,
              "#0d0887"
             ],
             [
              0.1111111111111111,
              "#46039f"
             ],
             [
              0.2222222222222222,
              "#7201a8"
             ],
             [
              0.3333333333333333,
              "#9c179e"
             ],
             [
              0.4444444444444444,
              "#bd3786"
             ],
             [
              0.5555555555555556,
              "#d8576b"
             ],
             [
              0.6666666666666666,
              "#ed7953"
             ],
             [
              0.7777777777777778,
              "#fb9f3a"
             ],
             [
              0.8888888888888888,
              "#fdca26"
             ],
             [
              1.0,
              "#f0f921"
             ]
            ],
            "type": "surface"
           }
          ],
          "table": [
           {
            "cells": {
             "fill": {
              "color": "#EBF0F8"
             },
             "line": {
              "color": "white"
             }
            },
            "header": {
             "fill": {
              "color": "#C8D4E3"
             },
             "line": {
              "color": "white"
             }
            },
            "type": "table"
           }
          ]
         },
         "layout": {
          "annotationdefaults": {
           "arrowcolor": "#2a3f5f",
           "arrowhead": 0,
           "arrowwidth": 1
          },
          "autotypenumbers": "strict",
          "coloraxis": {
           "colorbar": {
            "outlinewidth": 0,
            "ticks": ""
           }
          },
          "colorscale": {
           "diverging": [
            [
             0,
             "#8e0152"
            ],
            [
             0.1,
             "#c51b7d"
            ],
            [
             0.2,
             "#de77ae"
            ],
            [
             0.3,
             "#f1b6da"
            ],
            [
             0.4,
             "#fde0ef"
            ],
            [
             0.5,
             "#f7f7f7"
            ],
            [
             0.6,
             "#e6f5d0"
            ],
            [
             0.7,
             "#b8e186"
            ],
            [
             0.8,
             "#7fbc41"
            ],
            [
             0.9,
             "#4d9221"
            ],
            [
             1,
             "#276419"
            ]
           ],
           "sequential": [
            [
             0.0,
             "#0d0887"
            ],
            [
             0.1111111111111111,
             "#46039f"
            ],
            [
             0.2222222222222222,
             "#7201a8"
            ],
            [
             0.3333333333333333,
             "#9c179e"
            ],
            [
             0.4444444444444444,
             "#bd3786"
            ],
            [
             0.5555555555555556,
             "#d8576b"
            ],
            [
             0.6666666666666666,
             "#ed7953"
            ],
            [
             0.7777777777777778,
             "#fb9f3a"
            ],
            [
             0.8888888888888888,
             "#fdca26"
            ],
            [
             1.0,
             "#f0f921"
            ]
           ],
           "sequentialminus": [
            [
             0.0,
             "#0d0887"
            ],
            [
             0.1111111111111111,
             "#46039f"
            ],
            [
             0.2222222222222222,
             "#7201a8"
            ],
            [
             0.3333333333333333,
             "#9c179e"
            ],
            [
             0.4444444444444444,
             "#bd3786"
            ],
            [
             0.5555555555555556,
             "#d8576b"
            ],
            [
             0.6666666666666666,
             "#ed7953"
            ],
            [
             0.7777777777777778,
             "#fb9f3a"
            ],
            [
             0.8888888888888888,
             "#fdca26"
            ],
            [
             1.0,
             "#f0f921"
            ]
           ]
          },
          "colorway": [
           "#636efa",
           "#EF553B",
           "#00cc96",
           "#ab63fa",
           "#FFA15A",
           "#19d3f3",
           "#FF6692",
           "#B6E880",
           "#FF97FF",
           "#FECB52"
          ],
          "font": {
           "color": "#2a3f5f"
          },
          "geo": {
           "bgcolor": "white",
           "lakecolor": "white",
           "landcolor": "white",
           "showlakes": true,
           "showland": true,
           "subunitcolor": "#C8D4E3"
          },
          "hoverlabel": {
           "align": "left"
          },
          "hovermode": "closest",
          "mapbox": {
           "style": "light"
          },
          "paper_bgcolor": "white",
          "plot_bgcolor": "white",
          "polar": {
           "angularaxis": {
            "gridcolor": "#EBF0F8",
            "linecolor": "#EBF0F8",
            "ticks": ""
           },
           "bgcolor": "white",
           "radialaxis": {
            "gridcolor": "#EBF0F8",
            "linecolor": "#EBF0F8",
            "ticks": ""
           }
          },
          "scene": {
           "xaxis": {
            "backgroundcolor": "white",
            "gridcolor": "#DFE8F3",
            "gridwidth": 2,
            "linecolor": "#EBF0F8",
            "showbackground": true,
            "ticks": "",
            "zerolinecolor": "#EBF0F8"
           },
           "yaxis": {
            "backgroundcolor": "white",
            "gridcolor": "#DFE8F3",
            "gridwidth": 2,
            "linecolor": "#EBF0F8",
            "showbackground": true,
            "ticks": "",
            "zerolinecolor": "#EBF0F8"
           },
           "zaxis": {
            "backgroundcolor": "white",
            "gridcolor": "#DFE8F3",
            "gridwidth": 2,
            "linecolor": "#EBF0F8",
            "showbackground": true,
            "ticks": "",
            "zerolinecolor": "#EBF0F8"
           }
          },
          "shapedefaults": {
           "line": {
            "color": "#2a3f5f"
           }
          },
          "ternary": {
           "aaxis": {
            "gridcolor": "#DFE8F3",
            "linecolor": "#A2B1C6",
            "ticks": ""
           },
           "baxis": {
            "gridcolor": "#DFE8F3",
            "linecolor": "#A2B1C6",
            "ticks": ""
           },
           "bgcolor": "white",
           "caxis": {
            "gridcolor": "#DFE8F3",
            "linecolor": "#A2B1C6",
            "ticks": ""
           }
          },
          "title": {
           "x": 0.05
          },
          "xaxis": {
           "automargin": true,
           "gridcolor": "#EBF0F8",
           "linecolor": "#EBF0F8",
           "ticks": "",
           "title": {
            "standoff": 15
           },
           "zerolinecolor": "#EBF0F8",
           "zerolinewidth": 2
          },
          "yaxis": {
           "automargin": true,
           "gridcolor": "#EBF0F8",
           "linecolor": "#EBF0F8",
           "ticks": "",
           "title": {
            "standoff": 15
           },
           "zerolinecolor": "#EBF0F8",
           "zerolinewidth": 2
          }
         }
        },
        "legend": {
         "tracegroupgap": 0
        },
        "title": {
         "text": "Proportion of Male vs Female names influenced"
        },
        "font": {
         "size": 14,
         "color": "black"
        }
       },
       "config": {
        "plotlyServerURL": "https://plot.ly"
       }
      },
      "text/html": [
       "<div>                            <div id=\"42314111-69b8-4a24-af39-44f008a602d0\" class=\"plotly-graph-div\" style=\"height:525px; width:100%;\"></div>            <script type=\"text/javascript\">                require([\"plotly\"], function(Plotly) {                    window.PLOTLYENV=window.PLOTLYENV || {};                                    if (document.getElementById(\"42314111-69b8-4a24-af39-44f008a602d0\")) {                    Plotly.newPlot(                        \"42314111-69b8-4a24-af39-44f008a602d0\",                        [{\"domain\":{\"x\":[0.0,1.0],\"y\":[0.0,1.0]},\"hovertemplate\":\"Gender=%{label}\\u003cbr\\u003evalue=%{value}\\u003cextra\\u003e\\u003c\\u002fextra\\u003e\",\"labels\":[\"M\",\"F\"],\"legendgroup\":\"\",\"name\":\"\",\"showlegend\":true,\"values\":[326,103],\"type\":\"pie\"}],                        {\"template\":{\"data\":{\"barpolar\":[{\"marker\":{\"line\":{\"color\":\"white\",\"width\":0.5},\"pattern\":{\"fillmode\":\"overlay\",\"size\":10,\"solidity\":0.2}},\"type\":\"barpolar\"}],\"bar\":[{\"error_x\":{\"color\":\"#2a3f5f\"},\"error_y\":{\"color\":\"#2a3f5f\"},\"marker\":{\"line\":{\"color\":\"white\",\"width\":0.5},\"pattern\":{\"fillmode\":\"overlay\",\"size\":10,\"solidity\":0.2}},\"type\":\"bar\"}],\"carpet\":[{\"aaxis\":{\"endlinecolor\":\"#2a3f5f\",\"gridcolor\":\"#C8D4E3\",\"linecolor\":\"#C8D4E3\",\"minorgridcolor\":\"#C8D4E3\",\"startlinecolor\":\"#2a3f5f\"},\"baxis\":{\"endlinecolor\":\"#2a3f5f\",\"gridcolor\":\"#C8D4E3\",\"linecolor\":\"#C8D4E3\",\"minorgridcolor\":\"#C8D4E3\",\"startlinecolor\":\"#2a3f5f\"},\"type\":\"carpet\"}],\"choropleth\":[{\"colorbar\":{\"outlinewidth\":0,\"ticks\":\"\"},\"type\":\"choropleth\"}],\"contourcarpet\":[{\"colorbar\":{\"outlinewidth\":0,\"ticks\":\"\"},\"type\":\"contourcarpet\"}],\"contour\":[{\"colorbar\":{\"outlinewidth\":0,\"ticks\":\"\"},\"colorscale\":[[0.0,\"#0d0887\"],[0.1111111111111111,\"#46039f\"],[0.2222222222222222,\"#7201a8\"],[0.3333333333333333,\"#9c179e\"],[0.4444444444444444,\"#bd3786\"],[0.5555555555555556,\"#d8576b\"],[0.6666666666666666,\"#ed7953\"],[0.7777777777777778,\"#fb9f3a\"],[0.8888888888888888,\"#fdca26\"],[1.0,\"#f0f921\"]],\"type\":\"contour\"}],\"heatmapgl\":[{\"colorbar\":{\"outlinewidth\":0,\"ticks\":\"\"},\"colorscale\":[[0.0,\"#0d0887\"],[0.1111111111111111,\"#46039f\"],[0.2222222222222222,\"#7201a8\"],[0.3333333333333333,\"#9c179e\"],[0.4444444444444444,\"#bd3786\"],[0.5555555555555556,\"#d8576b\"],[0.6666666666666666,\"#ed7953\"],[0.7777777777777778,\"#fb9f3a\"],[0.8888888888888888,\"#fdca26\"],[1.0,\"#f0f921\"]],\"type\":\"heatmapgl\"}],\"heatmap\":[{\"colorbar\":{\"outlinewidth\":0,\"ticks\":\"\"},\"colorscale\":[[0.0,\"#0d0887\"],[0.1111111111111111,\"#46039f\"],[0.2222222222222222,\"#7201a8\"],[0.3333333333333333,\"#9c179e\"],[0.4444444444444444,\"#bd3786\"],[0.5555555555555556,\"#d8576b\"],[0.6666666666666666,\"#ed7953\"],[0.7777777777777778,\"#fb9f3a\"],[0.8888888888888888,\"#fdca26\"],[1.0,\"#f0f921\"]],\"type\":\"heatmap\"}],\"histogram2dcontour\":[{\"colorbar\":{\"outlinewidth\":0,\"ticks\":\"\"},\"colorscale\":[[0.0,\"#0d0887\"],[0.1111111111111111,\"#46039f\"],[0.2222222222222222,\"#7201a8\"],[0.3333333333333333,\"#9c179e\"],[0.4444444444444444,\"#bd3786\"],[0.5555555555555556,\"#d8576b\"],[0.6666666666666666,\"#ed7953\"],[0.7777777777777778,\"#fb9f3a\"],[0.8888888888888888,\"#fdca26\"],[1.0,\"#f0f921\"]],\"type\":\"histogram2dcontour\"}],\"histogram2d\":[{\"colorbar\":{\"outlinewidth\":0,\"ticks\":\"\"},\"colorscale\":[[0.0,\"#0d0887\"],[0.1111111111111111,\"#46039f\"],[0.2222222222222222,\"#7201a8\"],[0.3333333333333333,\"#9c179e\"],[0.4444444444444444,\"#bd3786\"],[0.5555555555555556,\"#d8576b\"],[0.6666666666666666,\"#ed7953\"],[0.7777777777777778,\"#fb9f3a\"],[0.8888888888888888,\"#fdca26\"],[1.0,\"#f0f921\"]],\"type\":\"histogram2d\"}],\"histogram\":[{\"marker\":{\"pattern\":{\"fillmode\":\"overlay\",\"size\":10,\"solidity\":0.2}},\"type\":\"histogram\"}],\"mesh3d\":[{\"colorbar\":{\"outlinewidth\":0,\"ticks\":\"\"},\"type\":\"mesh3d\"}],\"parcoords\":[{\"line\":{\"colorbar\":{\"outlinewidth\":0,\"ticks\":\"\"}},\"type\":\"parcoords\"}],\"pie\":[{\"automargin\":true,\"type\":\"pie\"}],\"scatter3d\":[{\"line\":{\"colorbar\":{\"outlinewidth\":0,\"ticks\":\"\"}},\"marker\":{\"colorbar\":{\"outlinewidth\":0,\"ticks\":\"\"}},\"type\":\"scatter3d\"}],\"scattercarpet\":[{\"marker\":{\"colorbar\":{\"outlinewidth\":0,\"ticks\":\"\"}},\"type\":\"scattercarpet\"}],\"scattergeo\":[{\"marker\":{\"colorbar\":{\"outlinewidth\":0,\"ticks\":\"\"}},\"type\":\"scattergeo\"}],\"scattergl\":[{\"marker\":{\"colorbar\":{\"outlinewidth\":0,\"ticks\":\"\"}},\"type\":\"scattergl\"}],\"scattermapbox\":[{\"marker\":{\"colorbar\":{\"outlinewidth\":0,\"ticks\":\"\"}},\"type\":\"scattermapbox\"}],\"scatterpolargl\":[{\"marker\":{\"colorbar\":{\"outlinewidth\":0,\"ticks\":\"\"}},\"type\":\"scatterpolargl\"}],\"scatterpolar\":[{\"marker\":{\"colorbar\":{\"outlinewidth\":0,\"ticks\":\"\"}},\"type\":\"scatterpolar\"}],\"scatter\":[{\"fillpattern\":{\"fillmode\":\"overlay\",\"size\":10,\"solidity\":0.2},\"type\":\"scatter\"}],\"scatterternary\":[{\"marker\":{\"colorbar\":{\"outlinewidth\":0,\"ticks\":\"\"}},\"type\":\"scatterternary\"}],\"surface\":[{\"colorbar\":{\"outlinewidth\":0,\"ticks\":\"\"},\"colorscale\":[[0.0,\"#0d0887\"],[0.1111111111111111,\"#46039f\"],[0.2222222222222222,\"#7201a8\"],[0.3333333333333333,\"#9c179e\"],[0.4444444444444444,\"#bd3786\"],[0.5555555555555556,\"#d8576b\"],[0.6666666666666666,\"#ed7953\"],[0.7777777777777778,\"#fb9f3a\"],[0.8888888888888888,\"#fdca26\"],[1.0,\"#f0f921\"]],\"type\":\"surface\"}],\"table\":[{\"cells\":{\"fill\":{\"color\":\"#EBF0F8\"},\"line\":{\"color\":\"white\"}},\"header\":{\"fill\":{\"color\":\"#C8D4E3\"},\"line\":{\"color\":\"white\"}},\"type\":\"table\"}]},\"layout\":{\"annotationdefaults\":{\"arrowcolor\":\"#2a3f5f\",\"arrowhead\":0,\"arrowwidth\":1},\"autotypenumbers\":\"strict\",\"coloraxis\":{\"colorbar\":{\"outlinewidth\":0,\"ticks\":\"\"}},\"colorscale\":{\"diverging\":[[0,\"#8e0152\"],[0.1,\"#c51b7d\"],[0.2,\"#de77ae\"],[0.3,\"#f1b6da\"],[0.4,\"#fde0ef\"],[0.5,\"#f7f7f7\"],[0.6,\"#e6f5d0\"],[0.7,\"#b8e186\"],[0.8,\"#7fbc41\"],[0.9,\"#4d9221\"],[1,\"#276419\"]],\"sequential\":[[0.0,\"#0d0887\"],[0.1111111111111111,\"#46039f\"],[0.2222222222222222,\"#7201a8\"],[0.3333333333333333,\"#9c179e\"],[0.4444444444444444,\"#bd3786\"],[0.5555555555555556,\"#d8576b\"],[0.6666666666666666,\"#ed7953\"],[0.7777777777777778,\"#fb9f3a\"],[0.8888888888888888,\"#fdca26\"],[1.0,\"#f0f921\"]],\"sequentialminus\":[[0.0,\"#0d0887\"],[0.1111111111111111,\"#46039f\"],[0.2222222222222222,\"#7201a8\"],[0.3333333333333333,\"#9c179e\"],[0.4444444444444444,\"#bd3786\"],[0.5555555555555556,\"#d8576b\"],[0.6666666666666666,\"#ed7953\"],[0.7777777777777778,\"#fb9f3a\"],[0.8888888888888888,\"#fdca26\"],[1.0,\"#f0f921\"]]},\"colorway\":[\"#636efa\",\"#EF553B\",\"#00cc96\",\"#ab63fa\",\"#FFA15A\",\"#19d3f3\",\"#FF6692\",\"#B6E880\",\"#FF97FF\",\"#FECB52\"],\"font\":{\"color\":\"#2a3f5f\"},\"geo\":{\"bgcolor\":\"white\",\"lakecolor\":\"white\",\"landcolor\":\"white\",\"showlakes\":true,\"showland\":true,\"subunitcolor\":\"#C8D4E3\"},\"hoverlabel\":{\"align\":\"left\"},\"hovermode\":\"closest\",\"mapbox\":{\"style\":\"light\"},\"paper_bgcolor\":\"white\",\"plot_bgcolor\":\"white\",\"polar\":{\"angularaxis\":{\"gridcolor\":\"#EBF0F8\",\"linecolor\":\"#EBF0F8\",\"ticks\":\"\"},\"bgcolor\":\"white\",\"radialaxis\":{\"gridcolor\":\"#EBF0F8\",\"linecolor\":\"#EBF0F8\",\"ticks\":\"\"}},\"scene\":{\"xaxis\":{\"backgroundcolor\":\"white\",\"gridcolor\":\"#DFE8F3\",\"gridwidth\":2,\"linecolor\":\"#EBF0F8\",\"showbackground\":true,\"ticks\":\"\",\"zerolinecolor\":\"#EBF0F8\"},\"yaxis\":{\"backgroundcolor\":\"white\",\"gridcolor\":\"#DFE8F3\",\"gridwidth\":2,\"linecolor\":\"#EBF0F8\",\"showbackground\":true,\"ticks\":\"\",\"zerolinecolor\":\"#EBF0F8\"},\"zaxis\":{\"backgroundcolor\":\"white\",\"gridcolor\":\"#DFE8F3\",\"gridwidth\":2,\"linecolor\":\"#EBF0F8\",\"showbackground\":true,\"ticks\":\"\",\"zerolinecolor\":\"#EBF0F8\"}},\"shapedefaults\":{\"line\":{\"color\":\"#2a3f5f\"}},\"ternary\":{\"aaxis\":{\"gridcolor\":\"#DFE8F3\",\"linecolor\":\"#A2B1C6\",\"ticks\":\"\"},\"baxis\":{\"gridcolor\":\"#DFE8F3\",\"linecolor\":\"#A2B1C6\",\"ticks\":\"\"},\"bgcolor\":\"white\",\"caxis\":{\"gridcolor\":\"#DFE8F3\",\"linecolor\":\"#A2B1C6\",\"ticks\":\"\"}},\"title\":{\"x\":0.05},\"xaxis\":{\"automargin\":true,\"gridcolor\":\"#EBF0F8\",\"linecolor\":\"#EBF0F8\",\"ticks\":\"\",\"title\":{\"standoff\":15},\"zerolinecolor\":\"#EBF0F8\",\"zerolinewidth\":2},\"yaxis\":{\"automargin\":true,\"gridcolor\":\"#EBF0F8\",\"linecolor\":\"#EBF0F8\",\"ticks\":\"\",\"title\":{\"standoff\":15},\"zerolinecolor\":\"#EBF0F8\",\"zerolinewidth\":2}}},\"legend\":{\"tracegroupgap\":0},\"title\":{\"text\":\"Proportion of Male vs Female names influenced\"},\"font\":{\"size\":14,\"color\":\"black\"}},                        {\"responsive\": true}                    ).then(function(){\n",
       "                            \n",
       "var gd = document.getElementById('42314111-69b8-4a24-af39-44f008a602d0');\n",
       "var x = new MutationObserver(function (mutations, observer) {{\n",
       "        var display = window.getComputedStyle(gd).display;\n",
       "        if (!display || display === 'none') {{\n",
       "            console.log([gd, 'removed!']);\n",
       "            Plotly.purge(gd);\n",
       "            observer.disconnect();\n",
       "        }}\n",
       "}});\n",
       "\n",
       "// Listen for the removal of the full notebook cells\n",
       "var notebookContainer = gd.closest('#notebook-container');\n",
       "if (notebookContainer) {{\n",
       "    x.observe(notebookContainer, {childList: true});\n",
       "}}\n",
       "\n",
       "// Listen for the clearing of the current output cell\n",
       "var outputEl = gd.closest('.output');\n",
       "if (outputEl) {{\n",
       "    x.observe(outputEl, {childList: true});\n",
       "}}\n",
       "\n",
       "                        })                };                });            </script>        </div>"
      ]
     },
     "metadata": {},
     "output_type": "display_data"
    }
   ],
   "execution_count": 30
  },
  {
   "metadata": {
    "ExecuteTime": {
     "end_time": "2024-12-20T18:13:33.704125Z",
     "start_time": "2024-12-20T18:13:33.358266Z"
    }
   },
   "cell_type": "code",
   "source": [
    "# Step 1: Aggregate counts and concatenate movie names for hover information\n",
    "merged_df_aggregated = (\n",
    "    merged_df.groupby(['Normalized_name', 'Year', 'Gender'], as_index=False)\n",
    "    .agg({\n",
    "        'Count': 'sum',\n",
    "        'Movie Name': lambda x: ', '.join(x.unique())  # Concatenate unique movie names\n",
    "    })\n",
    ")\n",
    "\n",
    "# Step 2: Sort the aggregated DataFrame by 'Count' in descending order\n",
    "merged_df_sorted = merged_df_aggregated.sort_values(by='Count', ascending=False)\n",
    "\n",
    "# Step 3: Filter top 5 male first names\n",
    "top_5_male = merged_df_sorted[merged_df_sorted['Gender'] == 'M'].head(10)\n",
    "\n",
    "# Step 4: Filter top 5 female first names\n",
    "top_5_female = merged_df_sorted[merged_df_sorted['Gender'] == 'F'].head(10)\n",
    "\n",
    "# Step 5: Plot top 5 male first names with custom color\n",
    "fig_male = px.bar(\n",
    "    top_5_male,\n",
    "    x='Normalized_name',\n",
    "    y='Count',\n",
    "    title='Top 5 Male First Names and Their Count',\n",
    "    labels={'Normalized_name': 'Male First Name', 'Count': 'Count'},\n",
    "    hover_data={'Movie Name': True, 'Year': True}  # Exclude 'Color' from hover data\n",
    ")\n",
    "\n",
    "# Manually set bar colors for male names\n",
    "fig_male.update_traces(marker_color='#002fa7')  # Lighter blue for male\n",
    "fig_male.show()\n",
    "fig.write_html(\"docs/_includes/top5_count_male.html\")\n",
    "\n",
    "# Step 6: Plot top 5 female first names with custom color\n",
    "fig_female = px.bar(\n",
    "    top_5_female,\n",
    "    x='Normalized_name',\n",
    "    y='Count',\n",
    "    title='Top 5 Female First Names and Their Count',\n",
    "    labels={'Normalized_name': 'Female First Name', 'Count': 'Count'},\n",
    "    hover_data={'Movie Name': True, 'Year': True}  # Exclude 'Color' from hover data\n",
    ")\n",
    "\n",
    "# Manually set bar colors for female names\n",
    "fig_female.update_traces(marker_color='#0077cc')  # Darker blue for female\n",
    "fig_female.show()\n",
    "fig.write_html(\"docs/_includes/top5_count_female.html\")\n"
   ],
   "id": "45911a6560c5c203",
   "outputs": [
    {
     "data": {
      "application/vnd.plotly.v1+json": {
       "data": [
        {
         "alignmentgroup": "True",
         "customdata": [
          [
           "the deer hunter, halloween",
           1978
          ],
          [
           "meet joe black",
           1998
          ],
          [
           "suspiria",
           1977
          ],
          [
           "somewhere in time",
           1980
          ],
          [
           "braveheart",
           1995
          ],
          [
           "tron",
           1982
          ],
          [
           "marathon man",
           1976
          ],
          [
           "time bandits",
           1981
          ],
          [
           "mission: impossible ii",
           2000
          ],
          [
           "dracula",
           1979
          ]
         ],
         "hovertemplate": "Male First Name=%{x}<br>Count=%{y}<br>Movie Name=%{customdata[0]}<br>Year=%{customdata[1]}<extra></extra>",
         "legendgroup": "",
         "marker": {
          "color": "#002fa7",
          "pattern": {
           "shape": ""
          }
         },
         "name": "",
         "offsetgroup": "",
         "orientation": "v",
         "showlegend": false,
         "textposition": "auto",
         "x": [
          "MICHAEL",
          "WILLIAM",
          "DANIEL",
          "WILLIAM",
          "WILLIAM",
          "KEVIN",
          "THOMAS",
          "KEVIN",
          "ETHAN",
          "JONATHAN"
         ],
         "xaxis": "x",
         "y": [
          144778.0,
          27732.0,
          27661.0,
          27187.0,
          21615.0,
          20276.0,
          19798.0,
          19744.0,
          18059.0,
          16495.0
         ],
         "yaxis": "y",
         "type": "bar"
        }
       ],
       "layout": {
        "template": {
         "data": {
          "histogram2dcontour": [
           {
            "type": "histogram2dcontour",
            "colorbar": {
             "outlinewidth": 0,
             "ticks": ""
            },
            "colorscale": [
             [
              0.0,
              "#0d0887"
             ],
             [
              0.1111111111111111,
              "#46039f"
             ],
             [
              0.2222222222222222,
              "#7201a8"
             ],
             [
              0.3333333333333333,
              "#9c179e"
             ],
             [
              0.4444444444444444,
              "#bd3786"
             ],
             [
              0.5555555555555556,
              "#d8576b"
             ],
             [
              0.6666666666666666,
              "#ed7953"
             ],
             [
              0.7777777777777778,
              "#fb9f3a"
             ],
             [
              0.8888888888888888,
              "#fdca26"
             ],
             [
              1.0,
              "#f0f921"
             ]
            ]
           }
          ],
          "choropleth": [
           {
            "type": "choropleth",
            "colorbar": {
             "outlinewidth": 0,
             "ticks": ""
            }
           }
          ],
          "histogram2d": [
           {
            "type": "histogram2d",
            "colorbar": {
             "outlinewidth": 0,
             "ticks": ""
            },
            "colorscale": [
             [
              0.0,
              "#0d0887"
             ],
             [
              0.1111111111111111,
              "#46039f"
             ],
             [
              0.2222222222222222,
              "#7201a8"
             ],
             [
              0.3333333333333333,
              "#9c179e"
             ],
             [
              0.4444444444444444,
              "#bd3786"
             ],
             [
              0.5555555555555556,
              "#d8576b"
             ],
             [
              0.6666666666666666,
              "#ed7953"
             ],
             [
              0.7777777777777778,
              "#fb9f3a"
             ],
             [
              0.8888888888888888,
              "#fdca26"
             ],
             [
              1.0,
              "#f0f921"
             ]
            ]
           }
          ],
          "heatmap": [
           {
            "type": "heatmap",
            "colorbar": {
             "outlinewidth": 0,
             "ticks": ""
            },
            "colorscale": [
             [
              0.0,
              "#0d0887"
             ],
             [
              0.1111111111111111,
              "#46039f"
             ],
             [
              0.2222222222222222,
              "#7201a8"
             ],
             [
              0.3333333333333333,
              "#9c179e"
             ],
             [
              0.4444444444444444,
              "#bd3786"
             ],
             [
              0.5555555555555556,
              "#d8576b"
             ],
             [
              0.6666666666666666,
              "#ed7953"
             ],
             [
              0.7777777777777778,
              "#fb9f3a"
             ],
             [
              0.8888888888888888,
              "#fdca26"
             ],
             [
              1.0,
              "#f0f921"
             ]
            ]
           }
          ],
          "heatmapgl": [
           {
            "type": "heatmapgl",
            "colorbar": {
             "outlinewidth": 0,
             "ticks": ""
            },
            "colorscale": [
             [
              0.0,
              "#0d0887"
             ],
             [
              0.1111111111111111,
              "#46039f"
             ],
             [
              0.2222222222222222,
              "#7201a8"
             ],
             [
              0.3333333333333333,
              "#9c179e"
             ],
             [
              0.4444444444444444,
              "#bd3786"
             ],
             [
              0.5555555555555556,
              "#d8576b"
             ],
             [
              0.6666666666666666,
              "#ed7953"
             ],
             [
              0.7777777777777778,
              "#fb9f3a"
             ],
             [
              0.8888888888888888,
              "#fdca26"
             ],
             [
              1.0,
              "#f0f921"
             ]
            ]
           }
          ],
          "contourcarpet": [
           {
            "type": "contourcarpet",
            "colorbar": {
             "outlinewidth": 0,
             "ticks": ""
            }
           }
          ],
          "contour": [
           {
            "type": "contour",
            "colorbar": {
             "outlinewidth": 0,
             "ticks": ""
            },
            "colorscale": [
             [
              0.0,
              "#0d0887"
             ],
             [
              0.1111111111111111,
              "#46039f"
             ],
             [
              0.2222222222222222,
              "#7201a8"
             ],
             [
              0.3333333333333333,
              "#9c179e"
             ],
             [
              0.4444444444444444,
              "#bd3786"
             ],
             [
              0.5555555555555556,
              "#d8576b"
             ],
             [
              0.6666666666666666,
              "#ed7953"
             ],
             [
              0.7777777777777778,
              "#fb9f3a"
             ],
             [
              0.8888888888888888,
              "#fdca26"
             ],
             [
              1.0,
              "#f0f921"
             ]
            ]
           }
          ],
          "surface": [
           {
            "type": "surface",
            "colorbar": {
             "outlinewidth": 0,
             "ticks": ""
            },
            "colorscale": [
             [
              0.0,
              "#0d0887"
             ],
             [
              0.1111111111111111,
              "#46039f"
             ],
             [
              0.2222222222222222,
              "#7201a8"
             ],
             [
              0.3333333333333333,
              "#9c179e"
             ],
             [
              0.4444444444444444,
              "#bd3786"
             ],
             [
              0.5555555555555556,
              "#d8576b"
             ],
             [
              0.6666666666666666,
              "#ed7953"
             ],
             [
              0.7777777777777778,
              "#fb9f3a"
             ],
             [
              0.8888888888888888,
              "#fdca26"
             ],
             [
              1.0,
              "#f0f921"
             ]
            ]
           }
          ],
          "mesh3d": [
           {
            "type": "mesh3d",
            "colorbar": {
             "outlinewidth": 0,
             "ticks": ""
            }
           }
          ],
          "scatter": [
           {
            "marker": {
             "line": {
              "color": "#283442"
             }
            },
            "type": "scatter"
           }
          ],
          "parcoords": [
           {
            "type": "parcoords",
            "line": {
             "colorbar": {
              "outlinewidth": 0,
              "ticks": ""
             }
            }
           }
          ],
          "scatterpolargl": [
           {
            "type": "scatterpolargl",
            "marker": {
             "colorbar": {
              "outlinewidth": 0,
              "ticks": ""
             }
            }
           }
          ],
          "bar": [
           {
            "error_x": {
             "color": "#f2f5fa"
            },
            "error_y": {
             "color": "#f2f5fa"
            },
            "marker": {
             "line": {
              "color": "rgb(17,17,17)",
              "width": 0.5
             },
             "pattern": {
              "fillmode": "overlay",
              "size": 10,
              "solidity": 0.2
             }
            },
            "type": "bar"
           }
          ],
          "scattergeo": [
           {
            "type": "scattergeo",
            "marker": {
             "colorbar": {
              "outlinewidth": 0,
              "ticks": ""
             }
            }
           }
          ],
          "scatterpolar": [
           {
            "type": "scatterpolar",
            "marker": {
             "colorbar": {
              "outlinewidth": 0,
              "ticks": ""
             }
            }
           }
          ],
          "histogram": [
           {
            "marker": {
             "pattern": {
              "fillmode": "overlay",
              "size": 10,
              "solidity": 0.2
             }
            },
            "type": "histogram"
           }
          ],
          "scattergl": [
           {
            "marker": {
             "line": {
              "color": "#283442"
             }
            },
            "type": "scattergl"
           }
          ],
          "scatter3d": [
           {
            "type": "scatter3d",
            "line": {
             "colorbar": {
              "outlinewidth": 0,
              "ticks": ""
             }
            },
            "marker": {
             "colorbar": {
              "outlinewidth": 0,
              "ticks": ""
             }
            }
           }
          ],
          "scattermapbox": [
           {
            "type": "scattermapbox",
            "marker": {
             "colorbar": {
              "outlinewidth": 0,
              "ticks": ""
             }
            }
           }
          ],
          "scatterternary": [
           {
            "type": "scatterternary",
            "marker": {
             "colorbar": {
              "outlinewidth": 0,
              "ticks": ""
             }
            }
           }
          ],
          "scattercarpet": [
           {
            "type": "scattercarpet",
            "marker": {
             "colorbar": {
              "outlinewidth": 0,
              "ticks": ""
             }
            }
           }
          ],
          "carpet": [
           {
            "aaxis": {
             "endlinecolor": "#A2B1C6",
             "gridcolor": "#506784",
             "linecolor": "#506784",
             "minorgridcolor": "#506784",
             "startlinecolor": "#A2B1C6"
            },
            "baxis": {
             "endlinecolor": "#A2B1C6",
             "gridcolor": "#506784",
             "linecolor": "#506784",
             "minorgridcolor": "#506784",
             "startlinecolor": "#A2B1C6"
            },
            "type": "carpet"
           }
          ],
          "table": [
           {
            "cells": {
             "fill": {
              "color": "#506784"
             },
             "line": {
              "color": "rgb(17,17,17)"
             }
            },
            "header": {
             "fill": {
              "color": "#2a3f5f"
             },
             "line": {
              "color": "rgb(17,17,17)"
             }
            },
            "type": "table"
           }
          ],
          "barpolar": [
           {
            "marker": {
             "line": {
              "color": "rgb(17,17,17)",
              "width": 0.5
             },
             "pattern": {
              "fillmode": "overlay",
              "size": 10,
              "solidity": 0.2
             }
            },
            "type": "barpolar"
           }
          ],
          "pie": [
           {
            "automargin": true,
            "type": "pie"
           }
          ]
         },
         "layout": {
          "autotypenumbers": "strict",
          "colorway": [
           "#636efa",
           "#EF553B",
           "#00cc96",
           "#ab63fa",
           "#FFA15A",
           "#19d3f3",
           "#FF6692",
           "#B6E880",
           "#FF97FF",
           "#FECB52"
          ],
          "font": {
           "color": "#f2f5fa"
          },
          "hovermode": "closest",
          "hoverlabel": {
           "align": "left"
          },
          "paper_bgcolor": "rgb(17,17,17)",
          "plot_bgcolor": "rgb(17,17,17)",
          "polar": {
           "bgcolor": "rgb(17,17,17)",
           "angularaxis": {
            "gridcolor": "#506784",
            "linecolor": "#506784",
            "ticks": ""
           },
           "radialaxis": {
            "gridcolor": "#506784",
            "linecolor": "#506784",
            "ticks": ""
           }
          },
          "ternary": {
           "bgcolor": "rgb(17,17,17)",
           "aaxis": {
            "gridcolor": "#506784",
            "linecolor": "#506784",
            "ticks": ""
           },
           "baxis": {
            "gridcolor": "#506784",
            "linecolor": "#506784",
            "ticks": ""
           },
           "caxis": {
            "gridcolor": "#506784",
            "linecolor": "#506784",
            "ticks": ""
           }
          },
          "coloraxis": {
           "colorbar": {
            "outlinewidth": 0,
            "ticks": ""
           }
          },
          "colorscale": {
           "sequential": [
            [
             0.0,
             "#0d0887"
            ],
            [
             0.1111111111111111,
             "#46039f"
            ],
            [
             0.2222222222222222,
             "#7201a8"
            ],
            [
             0.3333333333333333,
             "#9c179e"
            ],
            [
             0.4444444444444444,
             "#bd3786"
            ],
            [
             0.5555555555555556,
             "#d8576b"
            ],
            [
             0.6666666666666666,
             "#ed7953"
            ],
            [
             0.7777777777777778,
             "#fb9f3a"
            ],
            [
             0.8888888888888888,
             "#fdca26"
            ],
            [
             1.0,
             "#f0f921"
            ]
           ],
           "sequentialminus": [
            [
             0.0,
             "#0d0887"
            ],
            [
             0.1111111111111111,
             "#46039f"
            ],
            [
             0.2222222222222222,
             "#7201a8"
            ],
            [
             0.3333333333333333,
             "#9c179e"
            ],
            [
             0.4444444444444444,
             "#bd3786"
            ],
            [
             0.5555555555555556,
             "#d8576b"
            ],
            [
             0.6666666666666666,
             "#ed7953"
            ],
            [
             0.7777777777777778,
             "#fb9f3a"
            ],
            [
             0.8888888888888888,
             "#fdca26"
            ],
            [
             1.0,
             "#f0f921"
            ]
           ],
           "diverging": [
            [
             0,
             "#8e0152"
            ],
            [
             0.1,
             "#c51b7d"
            ],
            [
             0.2,
             "#de77ae"
            ],
            [
             0.3,
             "#f1b6da"
            ],
            [
             0.4,
             "#fde0ef"
            ],
            [
             0.5,
             "#f7f7f7"
            ],
            [
             0.6,
             "#e6f5d0"
            ],
            [
             0.7,
             "#b8e186"
            ],
            [
             0.8,
             "#7fbc41"
            ],
            [
             0.9,
             "#4d9221"
            ],
            [
             1,
             "#276419"
            ]
           ]
          },
          "xaxis": {
           "gridcolor": "#283442",
           "linecolor": "#506784",
           "ticks": "",
           "title": {
            "standoff": 15
           },
           "zerolinecolor": "#283442",
           "automargin": true,
           "zerolinewidth": 2
          },
          "yaxis": {
           "gridcolor": "#283442",
           "linecolor": "#506784",
           "ticks": "",
           "title": {
            "standoff": 15
           },
           "zerolinecolor": "#283442",
           "automargin": true,
           "zerolinewidth": 2
          },
          "scene": {
           "xaxis": {
            "backgroundcolor": "rgb(17,17,17)",
            "gridcolor": "#506784",
            "linecolor": "#506784",
            "showbackground": true,
            "ticks": "",
            "zerolinecolor": "#C8D4E3",
            "gridwidth": 2
           },
           "yaxis": {
            "backgroundcolor": "rgb(17,17,17)",
            "gridcolor": "#506784",
            "linecolor": "#506784",
            "showbackground": true,
            "ticks": "",
            "zerolinecolor": "#C8D4E3",
            "gridwidth": 2
           },
           "zaxis": {
            "backgroundcolor": "rgb(17,17,17)",
            "gridcolor": "#506784",
            "linecolor": "#506784",
            "showbackground": true,
            "ticks": "",
            "zerolinecolor": "#C8D4E3",
            "gridwidth": 2
           }
          },
          "shapedefaults": {
           "line": {
            "color": "#f2f5fa"
           }
          },
          "annotationdefaults": {
           "arrowcolor": "#f2f5fa",
           "arrowhead": 0,
           "arrowwidth": 1
          },
          "geo": {
           "bgcolor": "rgb(17,17,17)",
           "landcolor": "rgb(17,17,17)",
           "subunitcolor": "#506784",
           "showland": true,
           "showlakes": true,
           "lakecolor": "rgb(17,17,17)"
          },
          "title": {
           "x": 0.05
          },
          "updatemenudefaults": {
           "bgcolor": "#506784",
           "borderwidth": 0
          },
          "sliderdefaults": {
           "bgcolor": "#C8D4E3",
           "borderwidth": 1,
           "bordercolor": "rgb(17,17,17)",
           "tickwidth": 0
          },
          "mapbox": {
           "style": "dark"
          }
         }
        },
        "xaxis": {
         "anchor": "y",
         "domain": [
          0.0,
          1.0
         ],
         "title": {
          "text": "Male First Name"
         }
        },
        "yaxis": {
         "anchor": "x",
         "domain": [
          0.0,
          1.0
         ],
         "title": {
          "text": "Count"
         }
        },
        "legend": {
         "tracegroupgap": 0
        },
        "title": {
         "text": "Top 5 Male First Names and Their Count"
        },
        "barmode": "relative"
       },
       "config": {
        "plotlyServerURL": "https://plot.ly"
       }
      },
      "text/html": [
       "<div>                            <div id=\"efe188cb-b6ca-4b21-baa9-4a39b71838ff\" class=\"plotly-graph-div\" style=\"height:525px; width:100%;\"></div>            <script type=\"text/javascript\">                require([\"plotly\"], function(Plotly) {                    window.PLOTLYENV=window.PLOTLYENV || {};                                    if (document.getElementById(\"efe188cb-b6ca-4b21-baa9-4a39b71838ff\")) {                    Plotly.newPlot(                        \"efe188cb-b6ca-4b21-baa9-4a39b71838ff\",                        [{\"alignmentgroup\":\"True\",\"customdata\":[[\"the deer hunter, halloween\",1978],[\"meet joe black\",1998],[\"suspiria\",1977],[\"somewhere in time\",1980],[\"braveheart\",1995],[\"tron\",1982],[\"marathon man\",1976],[\"time bandits\",1981],[\"mission: impossible ii\",2000],[\"dracula\",1979]],\"hovertemplate\":\"Male First Name=%{x}\\u003cbr\\u003eCount=%{y}\\u003cbr\\u003eMovie Name=%{customdata[0]}\\u003cbr\\u003eYear=%{customdata[1]}\\u003cextra\\u003e\\u003c\\u002fextra\\u003e\",\"legendgroup\":\"\",\"marker\":{\"color\":\"#002fa7\",\"pattern\":{\"shape\":\"\"}},\"name\":\"\",\"offsetgroup\":\"\",\"orientation\":\"v\",\"showlegend\":false,\"textposition\":\"auto\",\"x\":[\"MICHAEL\",\"WILLIAM\",\"DANIEL\",\"WILLIAM\",\"WILLIAM\",\"KEVIN\",\"THOMAS\",\"KEVIN\",\"ETHAN\",\"JONATHAN\"],\"xaxis\":\"x\",\"y\":[144778.0,27732.0,27661.0,27187.0,21615.0,20276.0,19798.0,19744.0,18059.0,16495.0],\"yaxis\":\"y\",\"type\":\"bar\"}],                        {\"template\":{\"data\":{\"histogram2dcontour\":[{\"type\":\"histogram2dcontour\",\"colorbar\":{\"outlinewidth\":0,\"ticks\":\"\"},\"colorscale\":[[0.0,\"#0d0887\"],[0.1111111111111111,\"#46039f\"],[0.2222222222222222,\"#7201a8\"],[0.3333333333333333,\"#9c179e\"],[0.4444444444444444,\"#bd3786\"],[0.5555555555555556,\"#d8576b\"],[0.6666666666666666,\"#ed7953\"],[0.7777777777777778,\"#fb9f3a\"],[0.8888888888888888,\"#fdca26\"],[1.0,\"#f0f921\"]]}],\"choropleth\":[{\"type\":\"choropleth\",\"colorbar\":{\"outlinewidth\":0,\"ticks\":\"\"}}],\"histogram2d\":[{\"type\":\"histogram2d\",\"colorbar\":{\"outlinewidth\":0,\"ticks\":\"\"},\"colorscale\":[[0.0,\"#0d0887\"],[0.1111111111111111,\"#46039f\"],[0.2222222222222222,\"#7201a8\"],[0.3333333333333333,\"#9c179e\"],[0.4444444444444444,\"#bd3786\"],[0.5555555555555556,\"#d8576b\"],[0.6666666666666666,\"#ed7953\"],[0.7777777777777778,\"#fb9f3a\"],[0.8888888888888888,\"#fdca26\"],[1.0,\"#f0f921\"]]}],\"heatmap\":[{\"type\":\"heatmap\",\"colorbar\":{\"outlinewidth\":0,\"ticks\":\"\"},\"colorscale\":[[0.0,\"#0d0887\"],[0.1111111111111111,\"#46039f\"],[0.2222222222222222,\"#7201a8\"],[0.3333333333333333,\"#9c179e\"],[0.4444444444444444,\"#bd3786\"],[0.5555555555555556,\"#d8576b\"],[0.6666666666666666,\"#ed7953\"],[0.7777777777777778,\"#fb9f3a\"],[0.8888888888888888,\"#fdca26\"],[1.0,\"#f0f921\"]]}],\"heatmapgl\":[{\"type\":\"heatmapgl\",\"colorbar\":{\"outlinewidth\":0,\"ticks\":\"\"},\"colorscale\":[[0.0,\"#0d0887\"],[0.1111111111111111,\"#46039f\"],[0.2222222222222222,\"#7201a8\"],[0.3333333333333333,\"#9c179e\"],[0.4444444444444444,\"#bd3786\"],[0.5555555555555556,\"#d8576b\"],[0.6666666666666666,\"#ed7953\"],[0.7777777777777778,\"#fb9f3a\"],[0.8888888888888888,\"#fdca26\"],[1.0,\"#f0f921\"]]}],\"contourcarpet\":[{\"type\":\"contourcarpet\",\"colorbar\":{\"outlinewidth\":0,\"ticks\":\"\"}}],\"contour\":[{\"type\":\"contour\",\"colorbar\":{\"outlinewidth\":0,\"ticks\":\"\"},\"colorscale\":[[0.0,\"#0d0887\"],[0.1111111111111111,\"#46039f\"],[0.2222222222222222,\"#7201a8\"],[0.3333333333333333,\"#9c179e\"],[0.4444444444444444,\"#bd3786\"],[0.5555555555555556,\"#d8576b\"],[0.6666666666666666,\"#ed7953\"],[0.7777777777777778,\"#fb9f3a\"],[0.8888888888888888,\"#fdca26\"],[1.0,\"#f0f921\"]]}],\"surface\":[{\"type\":\"surface\",\"colorbar\":{\"outlinewidth\":0,\"ticks\":\"\"},\"colorscale\":[[0.0,\"#0d0887\"],[0.1111111111111111,\"#46039f\"],[0.2222222222222222,\"#7201a8\"],[0.3333333333333333,\"#9c179e\"],[0.4444444444444444,\"#bd3786\"],[0.5555555555555556,\"#d8576b\"],[0.6666666666666666,\"#ed7953\"],[0.7777777777777778,\"#fb9f3a\"],[0.8888888888888888,\"#fdca26\"],[1.0,\"#f0f921\"]]}],\"mesh3d\":[{\"type\":\"mesh3d\",\"colorbar\":{\"outlinewidth\":0,\"ticks\":\"\"}}],\"scatter\":[{\"marker\":{\"line\":{\"color\":\"#283442\"}},\"type\":\"scatter\"}],\"parcoords\":[{\"type\":\"parcoords\",\"line\":{\"colorbar\":{\"outlinewidth\":0,\"ticks\":\"\"}}}],\"scatterpolargl\":[{\"type\":\"scatterpolargl\",\"marker\":{\"colorbar\":{\"outlinewidth\":0,\"ticks\":\"\"}}}],\"bar\":[{\"error_x\":{\"color\":\"#f2f5fa\"},\"error_y\":{\"color\":\"#f2f5fa\"},\"marker\":{\"line\":{\"color\":\"rgb(17,17,17)\",\"width\":0.5},\"pattern\":{\"fillmode\":\"overlay\",\"size\":10,\"solidity\":0.2}},\"type\":\"bar\"}],\"scattergeo\":[{\"type\":\"scattergeo\",\"marker\":{\"colorbar\":{\"outlinewidth\":0,\"ticks\":\"\"}}}],\"scatterpolar\":[{\"type\":\"scatterpolar\",\"marker\":{\"colorbar\":{\"outlinewidth\":0,\"ticks\":\"\"}}}],\"histogram\":[{\"marker\":{\"pattern\":{\"fillmode\":\"overlay\",\"size\":10,\"solidity\":0.2}},\"type\":\"histogram\"}],\"scattergl\":[{\"marker\":{\"line\":{\"color\":\"#283442\"}},\"type\":\"scattergl\"}],\"scatter3d\":[{\"type\":\"scatter3d\",\"line\":{\"colorbar\":{\"outlinewidth\":0,\"ticks\":\"\"}},\"marker\":{\"colorbar\":{\"outlinewidth\":0,\"ticks\":\"\"}}}],\"scattermapbox\":[{\"type\":\"scattermapbox\",\"marker\":{\"colorbar\":{\"outlinewidth\":0,\"ticks\":\"\"}}}],\"scatterternary\":[{\"type\":\"scatterternary\",\"marker\":{\"colorbar\":{\"outlinewidth\":0,\"ticks\":\"\"}}}],\"scattercarpet\":[{\"type\":\"scattercarpet\",\"marker\":{\"colorbar\":{\"outlinewidth\":0,\"ticks\":\"\"}}}],\"carpet\":[{\"aaxis\":{\"endlinecolor\":\"#A2B1C6\",\"gridcolor\":\"#506784\",\"linecolor\":\"#506784\",\"minorgridcolor\":\"#506784\",\"startlinecolor\":\"#A2B1C6\"},\"baxis\":{\"endlinecolor\":\"#A2B1C6\",\"gridcolor\":\"#506784\",\"linecolor\":\"#506784\",\"minorgridcolor\":\"#506784\",\"startlinecolor\":\"#A2B1C6\"},\"type\":\"carpet\"}],\"table\":[{\"cells\":{\"fill\":{\"color\":\"#506784\"},\"line\":{\"color\":\"rgb(17,17,17)\"}},\"header\":{\"fill\":{\"color\":\"#2a3f5f\"},\"line\":{\"color\":\"rgb(17,17,17)\"}},\"type\":\"table\"}],\"barpolar\":[{\"marker\":{\"line\":{\"color\":\"rgb(17,17,17)\",\"width\":0.5},\"pattern\":{\"fillmode\":\"overlay\",\"size\":10,\"solidity\":0.2}},\"type\":\"barpolar\"}],\"pie\":[{\"automargin\":true,\"type\":\"pie\"}]},\"layout\":{\"autotypenumbers\":\"strict\",\"colorway\":[\"#636efa\",\"#EF553B\",\"#00cc96\",\"#ab63fa\",\"#FFA15A\",\"#19d3f3\",\"#FF6692\",\"#B6E880\",\"#FF97FF\",\"#FECB52\"],\"font\":{\"color\":\"#f2f5fa\"},\"hovermode\":\"closest\",\"hoverlabel\":{\"align\":\"left\"},\"paper_bgcolor\":\"rgb(17,17,17)\",\"plot_bgcolor\":\"rgb(17,17,17)\",\"polar\":{\"bgcolor\":\"rgb(17,17,17)\",\"angularaxis\":{\"gridcolor\":\"#506784\",\"linecolor\":\"#506784\",\"ticks\":\"\"},\"radialaxis\":{\"gridcolor\":\"#506784\",\"linecolor\":\"#506784\",\"ticks\":\"\"}},\"ternary\":{\"bgcolor\":\"rgb(17,17,17)\",\"aaxis\":{\"gridcolor\":\"#506784\",\"linecolor\":\"#506784\",\"ticks\":\"\"},\"baxis\":{\"gridcolor\":\"#506784\",\"linecolor\":\"#506784\",\"ticks\":\"\"},\"caxis\":{\"gridcolor\":\"#506784\",\"linecolor\":\"#506784\",\"ticks\":\"\"}},\"coloraxis\":{\"colorbar\":{\"outlinewidth\":0,\"ticks\":\"\"}},\"colorscale\":{\"sequential\":[[0.0,\"#0d0887\"],[0.1111111111111111,\"#46039f\"],[0.2222222222222222,\"#7201a8\"],[0.3333333333333333,\"#9c179e\"],[0.4444444444444444,\"#bd3786\"],[0.5555555555555556,\"#d8576b\"],[0.6666666666666666,\"#ed7953\"],[0.7777777777777778,\"#fb9f3a\"],[0.8888888888888888,\"#fdca26\"],[1.0,\"#f0f921\"]],\"sequentialminus\":[[0.0,\"#0d0887\"],[0.1111111111111111,\"#46039f\"],[0.2222222222222222,\"#7201a8\"],[0.3333333333333333,\"#9c179e\"],[0.4444444444444444,\"#bd3786\"],[0.5555555555555556,\"#d8576b\"],[0.6666666666666666,\"#ed7953\"],[0.7777777777777778,\"#fb9f3a\"],[0.8888888888888888,\"#fdca26\"],[1.0,\"#f0f921\"]],\"diverging\":[[0,\"#8e0152\"],[0.1,\"#c51b7d\"],[0.2,\"#de77ae\"],[0.3,\"#f1b6da\"],[0.4,\"#fde0ef\"],[0.5,\"#f7f7f7\"],[0.6,\"#e6f5d0\"],[0.7,\"#b8e186\"],[0.8,\"#7fbc41\"],[0.9,\"#4d9221\"],[1,\"#276419\"]]},\"xaxis\":{\"gridcolor\":\"#283442\",\"linecolor\":\"#506784\",\"ticks\":\"\",\"title\":{\"standoff\":15},\"zerolinecolor\":\"#283442\",\"automargin\":true,\"zerolinewidth\":2},\"yaxis\":{\"gridcolor\":\"#283442\",\"linecolor\":\"#506784\",\"ticks\":\"\",\"title\":{\"standoff\":15},\"zerolinecolor\":\"#283442\",\"automargin\":true,\"zerolinewidth\":2},\"scene\":{\"xaxis\":{\"backgroundcolor\":\"rgb(17,17,17)\",\"gridcolor\":\"#506784\",\"linecolor\":\"#506784\",\"showbackground\":true,\"ticks\":\"\",\"zerolinecolor\":\"#C8D4E3\",\"gridwidth\":2},\"yaxis\":{\"backgroundcolor\":\"rgb(17,17,17)\",\"gridcolor\":\"#506784\",\"linecolor\":\"#506784\",\"showbackground\":true,\"ticks\":\"\",\"zerolinecolor\":\"#C8D4E3\",\"gridwidth\":2},\"zaxis\":{\"backgroundcolor\":\"rgb(17,17,17)\",\"gridcolor\":\"#506784\",\"linecolor\":\"#506784\",\"showbackground\":true,\"ticks\":\"\",\"zerolinecolor\":\"#C8D4E3\",\"gridwidth\":2}},\"shapedefaults\":{\"line\":{\"color\":\"#f2f5fa\"}},\"annotationdefaults\":{\"arrowcolor\":\"#f2f5fa\",\"arrowhead\":0,\"arrowwidth\":1},\"geo\":{\"bgcolor\":\"rgb(17,17,17)\",\"landcolor\":\"rgb(17,17,17)\",\"subunitcolor\":\"#506784\",\"showland\":true,\"showlakes\":true,\"lakecolor\":\"rgb(17,17,17)\"},\"title\":{\"x\":0.05},\"updatemenudefaults\":{\"bgcolor\":\"#506784\",\"borderwidth\":0},\"sliderdefaults\":{\"bgcolor\":\"#C8D4E3\",\"borderwidth\":1,\"bordercolor\":\"rgb(17,17,17)\",\"tickwidth\":0},\"mapbox\":{\"style\":\"dark\"}}},\"xaxis\":{\"anchor\":\"y\",\"domain\":[0.0,1.0],\"title\":{\"text\":\"Male First Name\"}},\"yaxis\":{\"anchor\":\"x\",\"domain\":[0.0,1.0],\"title\":{\"text\":\"Count\"}},\"legend\":{\"tracegroupgap\":0},\"title\":{\"text\":\"Top 5 Male First Names and Their Count\"},\"barmode\":\"relative\"},                        {\"responsive\": true}                    ).then(function(){\n",
       "                            \n",
       "var gd = document.getElementById('efe188cb-b6ca-4b21-baa9-4a39b71838ff');\n",
       "var x = new MutationObserver(function (mutations, observer) {{\n",
       "        var display = window.getComputedStyle(gd).display;\n",
       "        if (!display || display === 'none') {{\n",
       "            console.log([gd, 'removed!']);\n",
       "            Plotly.purge(gd);\n",
       "            observer.disconnect();\n",
       "        }}\n",
       "}});\n",
       "\n",
       "// Listen for the removal of the full notebook cells\n",
       "var notebookContainer = gd.closest('#notebook-container');\n",
       "if (notebookContainer) {{\n",
       "    x.observe(notebookContainer, {childList: true});\n",
       "}}\n",
       "\n",
       "// Listen for the clearing of the current output cell\n",
       "var outputEl = gd.closest('.output');\n",
       "if (outputEl) {{\n",
       "    x.observe(outputEl, {childList: true});\n",
       "}}\n",
       "\n",
       "                        })                };                });            </script>        </div>"
      ]
     },
     "metadata": {},
     "output_type": "display_data"
    },
    {
     "data": {
      "application/vnd.plotly.v1+json": {
       "data": [
        {
         "alignmentgroup": "True",
         "customdata": [
          [
           "the avengers",
           1998
          ],
          [
           "suspiria",
           1977
          ],
          [
           "man on fire",
           1987
          ],
          [
           "invasion of the body snatchers",
           1978
          ],
          [
           "young frankenstein",
           1974
          ],
          [
           "love actually",
           2003
          ],
          [
           "barton fink",
           1991
          ],
          [
           "the jerk",
           1979
          ],
          [
           "sixteen candles",
           1984
          ],
          [
           "a time to kill",
           1996
          ]
         ],
         "hovertemplate": "Female First Name=%{x}<br>Count=%{y}<br>Movie Name=%{customdata[0]}<br>Year=%{customdata[1]}<extra></extra>",
         "legendgroup": "",
         "marker": {
          "color": "#0077cc",
          "pattern": {
           "shape": ""
          }
         },
         "name": "",
         "offsetgroup": "",
         "orientation": "v",
         "showlegend": false,
         "textposition": "auto",
         "x": [
          "EMMA",
          "SARAH",
          "SAMANTHA",
          "ELIZABETH",
          "ELIZABETH",
          "MIA",
          "TAYLOR",
          "MARIE",
          "SAMANTHA",
          "HAILEY"
         ],
         "xaxis": "x",
         "y": [
          19870.0,
          19777.0,
          18864.0,
          17131.0,
          12670.0,
          10802.0,
          10255.0,
          8721.0,
          8506.0,
          7562.0
         ],
         "yaxis": "y",
         "type": "bar"
        }
       ],
       "layout": {
        "template": {
         "data": {
          "histogram2dcontour": [
           {
            "type": "histogram2dcontour",
            "colorbar": {
             "outlinewidth": 0,
             "ticks": ""
            },
            "colorscale": [
             [
              0.0,
              "#0d0887"
             ],
             [
              0.1111111111111111,
              "#46039f"
             ],
             [
              0.2222222222222222,
              "#7201a8"
             ],
             [
              0.3333333333333333,
              "#9c179e"
             ],
             [
              0.4444444444444444,
              "#bd3786"
             ],
             [
              0.5555555555555556,
              "#d8576b"
             ],
             [
              0.6666666666666666,
              "#ed7953"
             ],
             [
              0.7777777777777778,
              "#fb9f3a"
             ],
             [
              0.8888888888888888,
              "#fdca26"
             ],
             [
              1.0,
              "#f0f921"
             ]
            ]
           }
          ],
          "choropleth": [
           {
            "type": "choropleth",
            "colorbar": {
             "outlinewidth": 0,
             "ticks": ""
            }
           }
          ],
          "histogram2d": [
           {
            "type": "histogram2d",
            "colorbar": {
             "outlinewidth": 0,
             "ticks": ""
            },
            "colorscale": [
             [
              0.0,
              "#0d0887"
             ],
             [
              0.1111111111111111,
              "#46039f"
             ],
             [
              0.2222222222222222,
              "#7201a8"
             ],
             [
              0.3333333333333333,
              "#9c179e"
             ],
             [
              0.4444444444444444,
              "#bd3786"
             ],
             [
              0.5555555555555556,
              "#d8576b"
             ],
             [
              0.6666666666666666,
              "#ed7953"
             ],
             [
              0.7777777777777778,
              "#fb9f3a"
             ],
             [
              0.8888888888888888,
              "#fdca26"
             ],
             [
              1.0,
              "#f0f921"
             ]
            ]
           }
          ],
          "heatmap": [
           {
            "type": "heatmap",
            "colorbar": {
             "outlinewidth": 0,
             "ticks": ""
            },
            "colorscale": [
             [
              0.0,
              "#0d0887"
             ],
             [
              0.1111111111111111,
              "#46039f"
             ],
             [
              0.2222222222222222,
              "#7201a8"
             ],
             [
              0.3333333333333333,
              "#9c179e"
             ],
             [
              0.4444444444444444,
              "#bd3786"
             ],
             [
              0.5555555555555556,
              "#d8576b"
             ],
             [
              0.6666666666666666,
              "#ed7953"
             ],
             [
              0.7777777777777778,
              "#fb9f3a"
             ],
             [
              0.8888888888888888,
              "#fdca26"
             ],
             [
              1.0,
              "#f0f921"
             ]
            ]
           }
          ],
          "heatmapgl": [
           {
            "type": "heatmapgl",
            "colorbar": {
             "outlinewidth": 0,
             "ticks": ""
            },
            "colorscale": [
             [
              0.0,
              "#0d0887"
             ],
             [
              0.1111111111111111,
              "#46039f"
             ],
             [
              0.2222222222222222,
              "#7201a8"
             ],
             [
              0.3333333333333333,
              "#9c179e"
             ],
             [
              0.4444444444444444,
              "#bd3786"
             ],
             [
              0.5555555555555556,
              "#d8576b"
             ],
             [
              0.6666666666666666,
              "#ed7953"
             ],
             [
              0.7777777777777778,
              "#fb9f3a"
             ],
             [
              0.8888888888888888,
              "#fdca26"
             ],
             [
              1.0,
              "#f0f921"
             ]
            ]
           }
          ],
          "contourcarpet": [
           {
            "type": "contourcarpet",
            "colorbar": {
             "outlinewidth": 0,
             "ticks": ""
            }
           }
          ],
          "contour": [
           {
            "type": "contour",
            "colorbar": {
             "outlinewidth": 0,
             "ticks": ""
            },
            "colorscale": [
             [
              0.0,
              "#0d0887"
             ],
             [
              0.1111111111111111,
              "#46039f"
             ],
             [
              0.2222222222222222,
              "#7201a8"
             ],
             [
              0.3333333333333333,
              "#9c179e"
             ],
             [
              0.4444444444444444,
              "#bd3786"
             ],
             [
              0.5555555555555556,
              "#d8576b"
             ],
             [
              0.6666666666666666,
              "#ed7953"
             ],
             [
              0.7777777777777778,
              "#fb9f3a"
             ],
             [
              0.8888888888888888,
              "#fdca26"
             ],
             [
              1.0,
              "#f0f921"
             ]
            ]
           }
          ],
          "surface": [
           {
            "type": "surface",
            "colorbar": {
             "outlinewidth": 0,
             "ticks": ""
            },
            "colorscale": [
             [
              0.0,
              "#0d0887"
             ],
             [
              0.1111111111111111,
              "#46039f"
             ],
             [
              0.2222222222222222,
              "#7201a8"
             ],
             [
              0.3333333333333333,
              "#9c179e"
             ],
             [
              0.4444444444444444,
              "#bd3786"
             ],
             [
              0.5555555555555556,
              "#d8576b"
             ],
             [
              0.6666666666666666,
              "#ed7953"
             ],
             [
              0.7777777777777778,
              "#fb9f3a"
             ],
             [
              0.8888888888888888,
              "#fdca26"
             ],
             [
              1.0,
              "#f0f921"
             ]
            ]
           }
          ],
          "mesh3d": [
           {
            "type": "mesh3d",
            "colorbar": {
             "outlinewidth": 0,
             "ticks": ""
            }
           }
          ],
          "scatter": [
           {
            "marker": {
             "line": {
              "color": "#283442"
             }
            },
            "type": "scatter"
           }
          ],
          "parcoords": [
           {
            "type": "parcoords",
            "line": {
             "colorbar": {
              "outlinewidth": 0,
              "ticks": ""
             }
            }
           }
          ],
          "scatterpolargl": [
           {
            "type": "scatterpolargl",
            "marker": {
             "colorbar": {
              "outlinewidth": 0,
              "ticks": ""
             }
            }
           }
          ],
          "bar": [
           {
            "error_x": {
             "color": "#f2f5fa"
            },
            "error_y": {
             "color": "#f2f5fa"
            },
            "marker": {
             "line": {
              "color": "rgb(17,17,17)",
              "width": 0.5
             },
             "pattern": {
              "fillmode": "overlay",
              "size": 10,
              "solidity": 0.2
             }
            },
            "type": "bar"
           }
          ],
          "scattergeo": [
           {
            "type": "scattergeo",
            "marker": {
             "colorbar": {
              "outlinewidth": 0,
              "ticks": ""
             }
            }
           }
          ],
          "scatterpolar": [
           {
            "type": "scatterpolar",
            "marker": {
             "colorbar": {
              "outlinewidth": 0,
              "ticks": ""
             }
            }
           }
          ],
          "histogram": [
           {
            "marker": {
             "pattern": {
              "fillmode": "overlay",
              "size": 10,
              "solidity": 0.2
             }
            },
            "type": "histogram"
           }
          ],
          "scattergl": [
           {
            "marker": {
             "line": {
              "color": "#283442"
             }
            },
            "type": "scattergl"
           }
          ],
          "scatter3d": [
           {
            "type": "scatter3d",
            "line": {
             "colorbar": {
              "outlinewidth": 0,
              "ticks": ""
             }
            },
            "marker": {
             "colorbar": {
              "outlinewidth": 0,
              "ticks": ""
             }
            }
           }
          ],
          "scattermapbox": [
           {
            "type": "scattermapbox",
            "marker": {
             "colorbar": {
              "outlinewidth": 0,
              "ticks": ""
             }
            }
           }
          ],
          "scatterternary": [
           {
            "type": "scatterternary",
            "marker": {
             "colorbar": {
              "outlinewidth": 0,
              "ticks": ""
             }
            }
           }
          ],
          "scattercarpet": [
           {
            "type": "scattercarpet",
            "marker": {
             "colorbar": {
              "outlinewidth": 0,
              "ticks": ""
             }
            }
           }
          ],
          "carpet": [
           {
            "aaxis": {
             "endlinecolor": "#A2B1C6",
             "gridcolor": "#506784",
             "linecolor": "#506784",
             "minorgridcolor": "#506784",
             "startlinecolor": "#A2B1C6"
            },
            "baxis": {
             "endlinecolor": "#A2B1C6",
             "gridcolor": "#506784",
             "linecolor": "#506784",
             "minorgridcolor": "#506784",
             "startlinecolor": "#A2B1C6"
            },
            "type": "carpet"
           }
          ],
          "table": [
           {
            "cells": {
             "fill": {
              "color": "#506784"
             },
             "line": {
              "color": "rgb(17,17,17)"
             }
            },
            "header": {
             "fill": {
              "color": "#2a3f5f"
             },
             "line": {
              "color": "rgb(17,17,17)"
             }
            },
            "type": "table"
           }
          ],
          "barpolar": [
           {
            "marker": {
             "line": {
              "color": "rgb(17,17,17)",
              "width": 0.5
             },
             "pattern": {
              "fillmode": "overlay",
              "size": 10,
              "solidity": 0.2
             }
            },
            "type": "barpolar"
           }
          ],
          "pie": [
           {
            "automargin": true,
            "type": "pie"
           }
          ]
         },
         "layout": {
          "autotypenumbers": "strict",
          "colorway": [
           "#636efa",
           "#EF553B",
           "#00cc96",
           "#ab63fa",
           "#FFA15A",
           "#19d3f3",
           "#FF6692",
           "#B6E880",
           "#FF97FF",
           "#FECB52"
          ],
          "font": {
           "color": "#f2f5fa"
          },
          "hovermode": "closest",
          "hoverlabel": {
           "align": "left"
          },
          "paper_bgcolor": "rgb(17,17,17)",
          "plot_bgcolor": "rgb(17,17,17)",
          "polar": {
           "bgcolor": "rgb(17,17,17)",
           "angularaxis": {
            "gridcolor": "#506784",
            "linecolor": "#506784",
            "ticks": ""
           },
           "radialaxis": {
            "gridcolor": "#506784",
            "linecolor": "#506784",
            "ticks": ""
           }
          },
          "ternary": {
           "bgcolor": "rgb(17,17,17)",
           "aaxis": {
            "gridcolor": "#506784",
            "linecolor": "#506784",
            "ticks": ""
           },
           "baxis": {
            "gridcolor": "#506784",
            "linecolor": "#506784",
            "ticks": ""
           },
           "caxis": {
            "gridcolor": "#506784",
            "linecolor": "#506784",
            "ticks": ""
           }
          },
          "coloraxis": {
           "colorbar": {
            "outlinewidth": 0,
            "ticks": ""
           }
          },
          "colorscale": {
           "sequential": [
            [
             0.0,
             "#0d0887"
            ],
            [
             0.1111111111111111,
             "#46039f"
            ],
            [
             0.2222222222222222,
             "#7201a8"
            ],
            [
             0.3333333333333333,
             "#9c179e"
            ],
            [
             0.4444444444444444,
             "#bd3786"
            ],
            [
             0.5555555555555556,
             "#d8576b"
            ],
            [
             0.6666666666666666,
             "#ed7953"
            ],
            [
             0.7777777777777778,
             "#fb9f3a"
            ],
            [
             0.8888888888888888,
             "#fdca26"
            ],
            [
             1.0,
             "#f0f921"
            ]
           ],
           "sequentialminus": [
            [
             0.0,
             "#0d0887"
            ],
            [
             0.1111111111111111,
             "#46039f"
            ],
            [
             0.2222222222222222,
             "#7201a8"
            ],
            [
             0.3333333333333333,
             "#9c179e"
            ],
            [
             0.4444444444444444,
             "#bd3786"
            ],
            [
             0.5555555555555556,
             "#d8576b"
            ],
            [
             0.6666666666666666,
             "#ed7953"
            ],
            [
             0.7777777777777778,
             "#fb9f3a"
            ],
            [
             0.8888888888888888,
             "#fdca26"
            ],
            [
             1.0,
             "#f0f921"
            ]
           ],
           "diverging": [
            [
             0,
             "#8e0152"
            ],
            [
             0.1,
             "#c51b7d"
            ],
            [
             0.2,
             "#de77ae"
            ],
            [
             0.3,
             "#f1b6da"
            ],
            [
             0.4,
             "#fde0ef"
            ],
            [
             0.5,
             "#f7f7f7"
            ],
            [
             0.6,
             "#e6f5d0"
            ],
            [
             0.7,
             "#b8e186"
            ],
            [
             0.8,
             "#7fbc41"
            ],
            [
             0.9,
             "#4d9221"
            ],
            [
             1,
             "#276419"
            ]
           ]
          },
          "xaxis": {
           "gridcolor": "#283442",
           "linecolor": "#506784",
           "ticks": "",
           "title": {
            "standoff": 15
           },
           "zerolinecolor": "#283442",
           "automargin": true,
           "zerolinewidth": 2
          },
          "yaxis": {
           "gridcolor": "#283442",
           "linecolor": "#506784",
           "ticks": "",
           "title": {
            "standoff": 15
           },
           "zerolinecolor": "#283442",
           "automargin": true,
           "zerolinewidth": 2
          },
          "scene": {
           "xaxis": {
            "backgroundcolor": "rgb(17,17,17)",
            "gridcolor": "#506784",
            "linecolor": "#506784",
            "showbackground": true,
            "ticks": "",
            "zerolinecolor": "#C8D4E3",
            "gridwidth": 2
           },
           "yaxis": {
            "backgroundcolor": "rgb(17,17,17)",
            "gridcolor": "#506784",
            "linecolor": "#506784",
            "showbackground": true,
            "ticks": "",
            "zerolinecolor": "#C8D4E3",
            "gridwidth": 2
           },
           "zaxis": {
            "backgroundcolor": "rgb(17,17,17)",
            "gridcolor": "#506784",
            "linecolor": "#506784",
            "showbackground": true,
            "ticks": "",
            "zerolinecolor": "#C8D4E3",
            "gridwidth": 2
           }
          },
          "shapedefaults": {
           "line": {
            "color": "#f2f5fa"
           }
          },
          "annotationdefaults": {
           "arrowcolor": "#f2f5fa",
           "arrowhead": 0,
           "arrowwidth": 1
          },
          "geo": {
           "bgcolor": "rgb(17,17,17)",
           "landcolor": "rgb(17,17,17)",
           "subunitcolor": "#506784",
           "showland": true,
           "showlakes": true,
           "lakecolor": "rgb(17,17,17)"
          },
          "title": {
           "x": 0.05
          },
          "updatemenudefaults": {
           "bgcolor": "#506784",
           "borderwidth": 0
          },
          "sliderdefaults": {
           "bgcolor": "#C8D4E3",
           "borderwidth": 1,
           "bordercolor": "rgb(17,17,17)",
           "tickwidth": 0
          },
          "mapbox": {
           "style": "dark"
          }
         }
        },
        "xaxis": {
         "anchor": "y",
         "domain": [
          0.0,
          1.0
         ],
         "title": {
          "text": "Female First Name"
         }
        },
        "yaxis": {
         "anchor": "x",
         "domain": [
          0.0,
          1.0
         ],
         "title": {
          "text": "Count"
         }
        },
        "legend": {
         "tracegroupgap": 0
        },
        "title": {
         "text": "Top 5 Female First Names and Their Count"
        },
        "barmode": "relative"
       },
       "config": {
        "plotlyServerURL": "https://plot.ly"
       }
      },
      "text/html": [
       "<div>                            <div id=\"8f51bcd7-c921-4515-8878-8f9e40f9d25d\" class=\"plotly-graph-div\" style=\"height:525px; width:100%;\"></div>            <script type=\"text/javascript\">                require([\"plotly\"], function(Plotly) {                    window.PLOTLYENV=window.PLOTLYENV || {};                                    if (document.getElementById(\"8f51bcd7-c921-4515-8878-8f9e40f9d25d\")) {                    Plotly.newPlot(                        \"8f51bcd7-c921-4515-8878-8f9e40f9d25d\",                        [{\"alignmentgroup\":\"True\",\"customdata\":[[\"the avengers\",1998],[\"suspiria\",1977],[\"man on fire\",1987],[\"invasion of the body snatchers\",1978],[\"young frankenstein\",1974],[\"love actually\",2003],[\"barton fink\",1991],[\"the jerk\",1979],[\"sixteen candles\",1984],[\"a time to kill\",1996]],\"hovertemplate\":\"Female First Name=%{x}\\u003cbr\\u003eCount=%{y}\\u003cbr\\u003eMovie Name=%{customdata[0]}\\u003cbr\\u003eYear=%{customdata[1]}\\u003cextra\\u003e\\u003c\\u002fextra\\u003e\",\"legendgroup\":\"\",\"marker\":{\"color\":\"#0077cc\",\"pattern\":{\"shape\":\"\"}},\"name\":\"\",\"offsetgroup\":\"\",\"orientation\":\"v\",\"showlegend\":false,\"textposition\":\"auto\",\"x\":[\"EMMA\",\"SARAH\",\"SAMANTHA\",\"ELIZABETH\",\"ELIZABETH\",\"MIA\",\"TAYLOR\",\"MARIE\",\"SAMANTHA\",\"HAILEY\"],\"xaxis\":\"x\",\"y\":[19870.0,19777.0,18864.0,17131.0,12670.0,10802.0,10255.0,8721.0,8506.0,7562.0],\"yaxis\":\"y\",\"type\":\"bar\"}],                        {\"template\":{\"data\":{\"histogram2dcontour\":[{\"type\":\"histogram2dcontour\",\"colorbar\":{\"outlinewidth\":0,\"ticks\":\"\"},\"colorscale\":[[0.0,\"#0d0887\"],[0.1111111111111111,\"#46039f\"],[0.2222222222222222,\"#7201a8\"],[0.3333333333333333,\"#9c179e\"],[0.4444444444444444,\"#bd3786\"],[0.5555555555555556,\"#d8576b\"],[0.6666666666666666,\"#ed7953\"],[0.7777777777777778,\"#fb9f3a\"],[0.8888888888888888,\"#fdca26\"],[1.0,\"#f0f921\"]]}],\"choropleth\":[{\"type\":\"choropleth\",\"colorbar\":{\"outlinewidth\":0,\"ticks\":\"\"}}],\"histogram2d\":[{\"type\":\"histogram2d\",\"colorbar\":{\"outlinewidth\":0,\"ticks\":\"\"},\"colorscale\":[[0.0,\"#0d0887\"],[0.1111111111111111,\"#46039f\"],[0.2222222222222222,\"#7201a8\"],[0.3333333333333333,\"#9c179e\"],[0.4444444444444444,\"#bd3786\"],[0.5555555555555556,\"#d8576b\"],[0.6666666666666666,\"#ed7953\"],[0.7777777777777778,\"#fb9f3a\"],[0.8888888888888888,\"#fdca26\"],[1.0,\"#f0f921\"]]}],\"heatmap\":[{\"type\":\"heatmap\",\"colorbar\":{\"outlinewidth\":0,\"ticks\":\"\"},\"colorscale\":[[0.0,\"#0d0887\"],[0.1111111111111111,\"#46039f\"],[0.2222222222222222,\"#7201a8\"],[0.3333333333333333,\"#9c179e\"],[0.4444444444444444,\"#bd3786\"],[0.5555555555555556,\"#d8576b\"],[0.6666666666666666,\"#ed7953\"],[0.7777777777777778,\"#fb9f3a\"],[0.8888888888888888,\"#fdca26\"],[1.0,\"#f0f921\"]]}],\"heatmapgl\":[{\"type\":\"heatmapgl\",\"colorbar\":{\"outlinewidth\":0,\"ticks\":\"\"},\"colorscale\":[[0.0,\"#0d0887\"],[0.1111111111111111,\"#46039f\"],[0.2222222222222222,\"#7201a8\"],[0.3333333333333333,\"#9c179e\"],[0.4444444444444444,\"#bd3786\"],[0.5555555555555556,\"#d8576b\"],[0.6666666666666666,\"#ed7953\"],[0.7777777777777778,\"#fb9f3a\"],[0.8888888888888888,\"#fdca26\"],[1.0,\"#f0f921\"]]}],\"contourcarpet\":[{\"type\":\"contourcarpet\",\"colorbar\":{\"outlinewidth\":0,\"ticks\":\"\"}}],\"contour\":[{\"type\":\"contour\",\"colorbar\":{\"outlinewidth\":0,\"ticks\":\"\"},\"colorscale\":[[0.0,\"#0d0887\"],[0.1111111111111111,\"#46039f\"],[0.2222222222222222,\"#7201a8\"],[0.3333333333333333,\"#9c179e\"],[0.4444444444444444,\"#bd3786\"],[0.5555555555555556,\"#d8576b\"],[0.6666666666666666,\"#ed7953\"],[0.7777777777777778,\"#fb9f3a\"],[0.8888888888888888,\"#fdca26\"],[1.0,\"#f0f921\"]]}],\"surface\":[{\"type\":\"surface\",\"colorbar\":{\"outlinewidth\":0,\"ticks\":\"\"},\"colorscale\":[[0.0,\"#0d0887\"],[0.1111111111111111,\"#46039f\"],[0.2222222222222222,\"#7201a8\"],[0.3333333333333333,\"#9c179e\"],[0.4444444444444444,\"#bd3786\"],[0.5555555555555556,\"#d8576b\"],[0.6666666666666666,\"#ed7953\"],[0.7777777777777778,\"#fb9f3a\"],[0.8888888888888888,\"#fdca26\"],[1.0,\"#f0f921\"]]}],\"mesh3d\":[{\"type\":\"mesh3d\",\"colorbar\":{\"outlinewidth\":0,\"ticks\":\"\"}}],\"scatter\":[{\"marker\":{\"line\":{\"color\":\"#283442\"}},\"type\":\"scatter\"}],\"parcoords\":[{\"type\":\"parcoords\",\"line\":{\"colorbar\":{\"outlinewidth\":0,\"ticks\":\"\"}}}],\"scatterpolargl\":[{\"type\":\"scatterpolargl\",\"marker\":{\"colorbar\":{\"outlinewidth\":0,\"ticks\":\"\"}}}],\"bar\":[{\"error_x\":{\"color\":\"#f2f5fa\"},\"error_y\":{\"color\":\"#f2f5fa\"},\"marker\":{\"line\":{\"color\":\"rgb(17,17,17)\",\"width\":0.5},\"pattern\":{\"fillmode\":\"overlay\",\"size\":10,\"solidity\":0.2}},\"type\":\"bar\"}],\"scattergeo\":[{\"type\":\"scattergeo\",\"marker\":{\"colorbar\":{\"outlinewidth\":0,\"ticks\":\"\"}}}],\"scatterpolar\":[{\"type\":\"scatterpolar\",\"marker\":{\"colorbar\":{\"outlinewidth\":0,\"ticks\":\"\"}}}],\"histogram\":[{\"marker\":{\"pattern\":{\"fillmode\":\"overlay\",\"size\":10,\"solidity\":0.2}},\"type\":\"histogram\"}],\"scattergl\":[{\"marker\":{\"line\":{\"color\":\"#283442\"}},\"type\":\"scattergl\"}],\"scatter3d\":[{\"type\":\"scatter3d\",\"line\":{\"colorbar\":{\"outlinewidth\":0,\"ticks\":\"\"}},\"marker\":{\"colorbar\":{\"outlinewidth\":0,\"ticks\":\"\"}}}],\"scattermapbox\":[{\"type\":\"scattermapbox\",\"marker\":{\"colorbar\":{\"outlinewidth\":0,\"ticks\":\"\"}}}],\"scatterternary\":[{\"type\":\"scatterternary\",\"marker\":{\"colorbar\":{\"outlinewidth\":0,\"ticks\":\"\"}}}],\"scattercarpet\":[{\"type\":\"scattercarpet\",\"marker\":{\"colorbar\":{\"outlinewidth\":0,\"ticks\":\"\"}}}],\"carpet\":[{\"aaxis\":{\"endlinecolor\":\"#A2B1C6\",\"gridcolor\":\"#506784\",\"linecolor\":\"#506784\",\"minorgridcolor\":\"#506784\",\"startlinecolor\":\"#A2B1C6\"},\"baxis\":{\"endlinecolor\":\"#A2B1C6\",\"gridcolor\":\"#506784\",\"linecolor\":\"#506784\",\"minorgridcolor\":\"#506784\",\"startlinecolor\":\"#A2B1C6\"},\"type\":\"carpet\"}],\"table\":[{\"cells\":{\"fill\":{\"color\":\"#506784\"},\"line\":{\"color\":\"rgb(17,17,17)\"}},\"header\":{\"fill\":{\"color\":\"#2a3f5f\"},\"line\":{\"color\":\"rgb(17,17,17)\"}},\"type\":\"table\"}],\"barpolar\":[{\"marker\":{\"line\":{\"color\":\"rgb(17,17,17)\",\"width\":0.5},\"pattern\":{\"fillmode\":\"overlay\",\"size\":10,\"solidity\":0.2}},\"type\":\"barpolar\"}],\"pie\":[{\"automargin\":true,\"type\":\"pie\"}]},\"layout\":{\"autotypenumbers\":\"strict\",\"colorway\":[\"#636efa\",\"#EF553B\",\"#00cc96\",\"#ab63fa\",\"#FFA15A\",\"#19d3f3\",\"#FF6692\",\"#B6E880\",\"#FF97FF\",\"#FECB52\"],\"font\":{\"color\":\"#f2f5fa\"},\"hovermode\":\"closest\",\"hoverlabel\":{\"align\":\"left\"},\"paper_bgcolor\":\"rgb(17,17,17)\",\"plot_bgcolor\":\"rgb(17,17,17)\",\"polar\":{\"bgcolor\":\"rgb(17,17,17)\",\"angularaxis\":{\"gridcolor\":\"#506784\",\"linecolor\":\"#506784\",\"ticks\":\"\"},\"radialaxis\":{\"gridcolor\":\"#506784\",\"linecolor\":\"#506784\",\"ticks\":\"\"}},\"ternary\":{\"bgcolor\":\"rgb(17,17,17)\",\"aaxis\":{\"gridcolor\":\"#506784\",\"linecolor\":\"#506784\",\"ticks\":\"\"},\"baxis\":{\"gridcolor\":\"#506784\",\"linecolor\":\"#506784\",\"ticks\":\"\"},\"caxis\":{\"gridcolor\":\"#506784\",\"linecolor\":\"#506784\",\"ticks\":\"\"}},\"coloraxis\":{\"colorbar\":{\"outlinewidth\":0,\"ticks\":\"\"}},\"colorscale\":{\"sequential\":[[0.0,\"#0d0887\"],[0.1111111111111111,\"#46039f\"],[0.2222222222222222,\"#7201a8\"],[0.3333333333333333,\"#9c179e\"],[0.4444444444444444,\"#bd3786\"],[0.5555555555555556,\"#d8576b\"],[0.6666666666666666,\"#ed7953\"],[0.7777777777777778,\"#fb9f3a\"],[0.8888888888888888,\"#fdca26\"],[1.0,\"#f0f921\"]],\"sequentialminus\":[[0.0,\"#0d0887\"],[0.1111111111111111,\"#46039f\"],[0.2222222222222222,\"#7201a8\"],[0.3333333333333333,\"#9c179e\"],[0.4444444444444444,\"#bd3786\"],[0.5555555555555556,\"#d8576b\"],[0.6666666666666666,\"#ed7953\"],[0.7777777777777778,\"#fb9f3a\"],[0.8888888888888888,\"#fdca26\"],[1.0,\"#f0f921\"]],\"diverging\":[[0,\"#8e0152\"],[0.1,\"#c51b7d\"],[0.2,\"#de77ae\"],[0.3,\"#f1b6da\"],[0.4,\"#fde0ef\"],[0.5,\"#f7f7f7\"],[0.6,\"#e6f5d0\"],[0.7,\"#b8e186\"],[0.8,\"#7fbc41\"],[0.9,\"#4d9221\"],[1,\"#276419\"]]},\"xaxis\":{\"gridcolor\":\"#283442\",\"linecolor\":\"#506784\",\"ticks\":\"\",\"title\":{\"standoff\":15},\"zerolinecolor\":\"#283442\",\"automargin\":true,\"zerolinewidth\":2},\"yaxis\":{\"gridcolor\":\"#283442\",\"linecolor\":\"#506784\",\"ticks\":\"\",\"title\":{\"standoff\":15},\"zerolinecolor\":\"#283442\",\"automargin\":true,\"zerolinewidth\":2},\"scene\":{\"xaxis\":{\"backgroundcolor\":\"rgb(17,17,17)\",\"gridcolor\":\"#506784\",\"linecolor\":\"#506784\",\"showbackground\":true,\"ticks\":\"\",\"zerolinecolor\":\"#C8D4E3\",\"gridwidth\":2},\"yaxis\":{\"backgroundcolor\":\"rgb(17,17,17)\",\"gridcolor\":\"#506784\",\"linecolor\":\"#506784\",\"showbackground\":true,\"ticks\":\"\",\"zerolinecolor\":\"#C8D4E3\",\"gridwidth\":2},\"zaxis\":{\"backgroundcolor\":\"rgb(17,17,17)\",\"gridcolor\":\"#506784\",\"linecolor\":\"#506784\",\"showbackground\":true,\"ticks\":\"\",\"zerolinecolor\":\"#C8D4E3\",\"gridwidth\":2}},\"shapedefaults\":{\"line\":{\"color\":\"#f2f5fa\"}},\"annotationdefaults\":{\"arrowcolor\":\"#f2f5fa\",\"arrowhead\":0,\"arrowwidth\":1},\"geo\":{\"bgcolor\":\"rgb(17,17,17)\",\"landcolor\":\"rgb(17,17,17)\",\"subunitcolor\":\"#506784\",\"showland\":true,\"showlakes\":true,\"lakecolor\":\"rgb(17,17,17)\"},\"title\":{\"x\":0.05},\"updatemenudefaults\":{\"bgcolor\":\"#506784\",\"borderwidth\":0},\"sliderdefaults\":{\"bgcolor\":\"#C8D4E3\",\"borderwidth\":1,\"bordercolor\":\"rgb(17,17,17)\",\"tickwidth\":0},\"mapbox\":{\"style\":\"dark\"}}},\"xaxis\":{\"anchor\":\"y\",\"domain\":[0.0,1.0],\"title\":{\"text\":\"Female First Name\"}},\"yaxis\":{\"anchor\":\"x\",\"domain\":[0.0,1.0],\"title\":{\"text\":\"Count\"}},\"legend\":{\"tracegroupgap\":0},\"title\":{\"text\":\"Top 5 Female First Names and Their Count\"},\"barmode\":\"relative\"},                        {\"responsive\": true}                    ).then(function(){\n",
       "                            \n",
       "var gd = document.getElementById('8f51bcd7-c921-4515-8878-8f9e40f9d25d');\n",
       "var x = new MutationObserver(function (mutations, observer) {{\n",
       "        var display = window.getComputedStyle(gd).display;\n",
       "        if (!display || display === 'none') {{\n",
       "            console.log([gd, 'removed!']);\n",
       "            Plotly.purge(gd);\n",
       "            observer.disconnect();\n",
       "        }}\n",
       "}});\n",
       "\n",
       "// Listen for the removal of the full notebook cells\n",
       "var notebookContainer = gd.closest('#notebook-container');\n",
       "if (notebookContainer) {{\n",
       "    x.observe(notebookContainer, {childList: true});\n",
       "}}\n",
       "\n",
       "// Listen for the clearing of the current output cell\n",
       "var outputEl = gd.closest('.output');\n",
       "if (outputEl) {{\n",
       "    x.observe(outputEl, {childList: true});\n",
       "}}\n",
       "\n",
       "                        })                };                });            </script>        </div>"
      ]
     },
     "metadata": {},
     "output_type": "display_data"
    }
   ],
   "execution_count": 10
  },
  {
   "metadata": {},
   "cell_type": "code",
   "source": "top_5_male",
   "id": "4e8c84782640c780",
   "outputs": [],
   "execution_count": null
  },
  {
   "metadata": {},
   "cell_type": "markdown",
   "source": [
    "### Shifts in modern cinema\n",
    "Difference between bdfore and after modern cinema"
   ],
   "id": "b51a148aa5d71868"
  },
  {
   "metadata": {},
   "cell_type": "code",
   "source": [
    "import matplotlib.pyplot as plt\n",
    "import seaborn as sns\n",
    "\n",
    "# Set plot styles for better aesthetics\n",
    "sns.set(style=\"whitegrid\")\n",
    "plt.rcParams.update({'figure.figsize': (12, 8), 'font.size': 14})\n",
    "\n",
    "# 1. Load the Dataset\n",
    "# Replace 'your_dataset.csv' with the path to your dataset\n",
    "df = merged_df\n",
    "\n",
    "# Group by Year and Gender, then sum the counts\n",
    "gender_trend = df.groupby(['Year', 'Gender'])['Count'].sum().reset_index()\n",
    "\n",
    "# Pivot the table for easier plotting\n",
    "gender_trend_pivot = gender_trend.pivot(index='Year', columns='Gender', values='Count').fillna(0)\n",
    "\n",
    "# Calculate percentages to observe shifts over time\n",
    "gender_trend_pivot['Total'] = gender_trend_pivot.sum(axis=1)\n",
    "gender_trend_pivot['Male_Percent'] = (gender_trend_pivot['M'] / gender_trend_pivot['Total']) * 100\n",
    "gender_trend_pivot['Female_Percent'] = (gender_trend_pivot['F'] / gender_trend_pivot['Total']) * 100\n",
    "\n",
    "# Visualize the Trends Over Time\n",
    "\n",
    "plt.figure(figsize=(14, 7))\n",
    "sns.lineplot(data=gender_trend_pivot, x=gender_trend_pivot.index, y='Male_Percent', label='Male Names', color='blue')\n",
    "sns.lineplot(data=gender_trend_pivot, x=gender_trend_pivot.index, y='Female_Percent', label='Female Names', color='pink')\n",
    "plt.title('Trend of Influenced Baby Names by Gender Over Time')\n",
    "plt.xlabel('Year')\n",
    "plt.ylabel('Percentage of Influenced Names')\n",
    "plt.legend()\n",
    "plt.show()"
   ],
   "id": "dcfc1f055f89f18c",
   "outputs": [],
   "execution_count": null
  },
  {
   "metadata": {},
   "cell_type": "code",
   "source": [
    "#Set plot styles for better aesthetics\n",
    "sns.set(style=\"whitegrid\")\n",
    "plt.rcParams.update({'figure.figsize': (16, 10), 'font.size': 14})\n",
    "\n",
    "# 1. Load and Prepare the Data\n",
    "# Replace 'your_dataset.csv' with the actual path to your dataset\n",
    "df = merged_df\n",
    "\n",
    "# Inspect the first few rows to understand the data structure\n",
    "print(\"First few rows of the dataset:\")\n",
    "print(df.head())\n",
    "\n",
    "# Ensure the 'Year' column is of integer type\n",
    "df['Year'] = df['Year'].astype(int)\n",
    "\n",
    "# Verify the unique values in the 'Gender' column\n",
    "print(\"\\nUnique genders in the dataset:\")\n",
    "print(df['Gender'].unique())\n",
    "\n",
    "# Handle potential inconsistencies in the 'Gender' column\n",
    "# For example, standardize 'M'/'F' to 'Male'/'Female' if necessary\n",
    "# Uncomment and modify the following lines if needed:\n",
    "# df['Gender'] = df['Gender'].replace({'M': 'Male', 'F': 'Female'})\n",
    "\n",
    "# 2. Aggregate Influenced Names by Gender and Year\n",
    "# Group by 'Year' and 'Gender' and sum the 'Count' of influenced names\n",
    "gender_trend = df.groupby(['Year', 'Gender'])['Count'].sum().reset_index()\n",
    "\n",
    "# Inspect the aggregated data\n",
    "print(\"\\nAggregated gender trend data:\")\n",
    "print(gender_trend.head())\n",
    "\n",
    "# 3. Split the Data into Pre-2000 and Post-2000\n",
    "# Define the cutoff year\n",
    "cutoff_year = 2000\n",
    "\n",
    "# Create separate DataFrames for each period\n",
    "pre_2000 = gender_trend[gender_trend['Year'] < cutoff_year]\n",
    "post_2000 = gender_trend[gender_trend['Year'] >= cutoff_year]\n",
    "\n",
    "# Verify the splits\n",
    "print(\"\\nPre-2000 Data:\")\n",
    "print(pre_2000.head())\n",
    "\n",
    "print(\"\\nPost-2000 Data:\")\n",
    "print(post_2000.head())\n",
    "\n",
    "# 4. Calculate Percentage of Influenced Names by Gender\n",
    "def calculate_percentage(data):\n",
    "    \"\"\"\n",
    "    Calculates the percentage of male and female influenced names per year.\n",
    "    \n",
    "    Parameters:\n",
    "    - data (DataFrame): Aggregated data with 'Year', 'Gender', and 'Count'.\n",
    "    \n",
    "    Returns:\n",
    "    - pivot (DataFrame): Pivoted table with percentage columns.\n",
    "    \"\"\"\n",
    "    # Pivot the table to have genders as columns\n",
    "    pivot = data.pivot(index='Year', columns='Gender', values='Count').fillna(0)\n",
    "    \n",
    "    # Calculate total influenced names per year\n",
    "    pivot['Total'] = pivot.sum(axis=1)\n",
    "    \n",
    "    # Calculate percentage for each gender\n",
    "    pivot['Male_Percent'] = (pivot.get('M', 0) / pivot['Total']) * 100\n",
    "    pivot['Female_Percent'] = (pivot.get('F', 0) / pivot['Total']) * 100\n",
    "    \n",
    "    return pivot\n",
    "\n",
    "# Calculate percentages for both periods\n",
    "pre_2000_pivot = calculate_percentage(pre_2000)\n",
    "post_2000_pivot = calculate_percentage(post_2000)\n",
    "\n",
    "# Inspect the pivot tables\n",
    "print(\"\\nPre-2000 Percentages:\")\n",
    "print(pre_2000_pivot.head())\n",
    "\n",
    "print(\"\\nPost-2000 Percentages:\")\n",
    "print(post_2000_pivot.head())\n",
    "\n",
    "# 5. Visualize the Trends\n",
    "\n",
    "# Create subplots: one for Pre-2000 and one for Post-2000\n",
    "fig, axes = plt.subplots(2, 1, figsize=(18, 12), sharex=False)\n",
    "\n",
    "# Plot for Pre-2000\n",
    "sns.lineplot(ax=axes[0], data=pre_2000_pivot, x=pre_2000_pivot.index, y='Male_Percent', label='Male Names', color='blue')\n",
    "sns.lineplot(ax=axes[0], data=pre_2000_pivot, x=pre_2000_pivot.index, y='Female_Percent', label='Female Names', color='pink')\n",
    "axes[0].set_title('Trend of Influenced Baby Names by Gender (Before 2000)')\n",
    "axes[0].set_xlabel('Year')\n",
    "axes[0].set_ylabel('Percentage of Influenced Names')\n",
    "axes[0].legend()\n",
    "axes[0].grid(True)\n",
    "\n",
    "# Plot for Post-2000\n",
    "sns.lineplot(ax=axes[1], data=post_2000_pivot, x=post_2000_pivot.index, y='Male_Percent', label='Male Names', color='blue')\n",
    "sns.lineplot(ax=axes[1], data=post_2000_pivot, x=post_2000_pivot.index, y='Female_Percent', label='Female Names', color='pink')\n",
    "axes[1].set_title('Trend of Influenced Baby Names by Gender (2000 and After)')\n",
    "axes[1].set_xlabel('Year')\n",
    "axes[1].set_ylabel('Percentage of Influenced Names')\n",
    "axes[1].legend()\n",
    "axes[1].grid(True)\n",
    "\n",
    "# Adjust layout for better spacing\n",
    "plt.tight_layout()\n",
    "\n",
    "# Display the plots\n",
    "plt.show()\n",
    "\n",
    "# Optional: Save the plots to files\n",
    "# fig.savefig('gender_trend_pre_post_2000.png')"
   ],
   "id": "8fc9595f732b99de",
   "outputs": [],
   "execution_count": null
  },
  {
   "metadata": {},
   "cell_type": "markdown",
   "source": "",
   "id": "1e6e79e01acb38e0"
  },
  {
   "metadata": {},
   "cell_type": "markdown",
   "source": [
    "### By genre\n",
    "\n"
   ],
   "id": "e35f2ddfd5f23651"
  },
  {
   "metadata": {},
   "cell_type": "code",
   "source": [
    "# 1. Load the Dataset\n",
    "# If genre information is not in the main dataset, ensure you have a separate dataset linking movies to genres\n",
    "# For this example, we'll assume 'Genre' is a column in your main dataset\n",
    "\n",
    "df = merged_df.copy()\n",
    "\n",
    "# If a movie can belong to multiple genres, split them\n",
    "# Assuming genres are separated by commas\n",
    "df['Genres'] = df['Genres'].str.split(',')\n",
    "\n",
    "# Explode the genres so each genre has its own row\n",
    "df_exploded = df.explode('Genres')\n",
    "\n",
    "# Clean whitespace in genres\n",
    "df_exploded['Genres'] = df_exploded['Genres'].str.strip()\n",
    "\n",
    "# 2. Aggregate Influenced Names by Genre and Gender\n",
    "genre_gender_trend = df_exploded.groupby(['Genres', 'Gender'])['Count'].sum().reset_index()\n",
    "\n",
    "# 3. Identify Top Influential Genres\n",
    "# Let's focus on genres with the highest total influence\n",
    "top_genres = genre_gender_trend.groupby('Genres')['Count'].sum().reset_index()\n",
    "top_genres = top_genres.sort_values(by='Count', ascending=False).head(10)  # Top 10 genres\n",
    "\n",
    "# Filter the original genre_gender_trend for top genres\n",
    "genre_gender_trend_top = genre_gender_trend[genre_gender_trend['Genres'].isin(top_genres['Genres'])]\n",
    "\n",
    "# 4. Visualize the Influence by Genre and Gender\n",
    "\n",
    "plt.figure(figsize=(16, 10))\n",
    "sns.barplot(data=genre_gender_trend_top, x='Count', y='Genres', hue='Gender')\n",
    "plt.title('Influence of Movie Genres on Baby Names by Gender')\n",
    "plt.xlabel('Number of Influenced Names')\n",
    "plt.ylabel('Genre')\n",
    "plt.legend(title='Gender')\n",
    "plt.show()"
   ],
   "id": "9cf0d72086b759fb",
   "outputs": [],
   "execution_count": null
  },
  {
   "metadata": {},
   "cell_type": "code",
   "source": [
    "\n",
    "# Plot styles\n",
    "sns.set(style=\"whitegrid\")\n",
    "plt.rcParams.update({'figure.figsize': (16, 10), 'font.size': 14})\n",
    "\n",
    "df = merged_df.copy()\n",
    "\n",
    "# Check for NaN values in 'Genres' column\n",
    "nan_genres = df['Genres'].isna().sum()\n",
    "print(f\"\\nNumber of NaN values in 'Genres' before handling: {nan_genres}\")\n",
    "\n",
    "# Drop rows where 'Genres' is NaN\n",
    "df = df.dropna(subset=['Genres'])\n",
    "\n",
    "# If a movie can belong to multiple genres, split them\n",
    "df['Genres'] = df['Genres'].str.split(',')\n",
    "\n",
    "# Explode the genres so each genre has its own row\n",
    "df_exploded = df.explode('Genres')\n",
    "\n",
    "# Clean whitespace in genres\n",
    "df_exploded['Genres'] = df_exploded['Genres'].str.strip()\n",
    "\n",
    "# Group by 'Genres' and 'Gender' and sum the 'Count'\n",
    "genre_gender_trend = df_exploded.groupby(['Genres', 'Gender'])['Count'].sum().reset_index()\n",
    "\n",
    "# Calculate total influence per genre\n",
    "top_genres_total = genre_gender_trend.groupby('Genres')['Count'].sum().reset_index()\n",
    "\n",
    "# Sort genres by total influence in descending order and select top 10\n",
    "top_genres = top_genres_total.sort_values(by='Count', ascending=False).head(10)\n",
    "\n",
    "# Filter the original genre_gender_trend for top genres\n",
    "genre_gender_trend_top = genre_gender_trend[genre_gender_trend['Genres'].isin(top_genres['Genres'])]\n",
    "\n",
    "# Pivot the table to have genders as separate columns\n",
    "genre_pivot = genre_gender_trend_top.pivot(index='Genres', columns='Gender', values='Count').fillna(0)\n",
    "\n",
    "# Calculate total influenced names per genre\n",
    "genre_pivot['Total'] = genre_pivot.sum(axis=1)\n",
    "\n",
    "# Calculate percentage for each gender within genres\n",
    "genre_pivot['M_Percent'] = (genre_pivot['M'] / genre_pivot['Total']) * 100\n",
    "genre_pivot['F_Percent'] = (genre_pivot['F'] / genre_pivot['Total']) * 100\n",
    "\n",
    "# Reset index to turn 'Genres' back into a column\n",
    "genre_pivot = genre_pivot.reset_index()\n",
    "\n",
    "# Melt the pivot table to long format for easier plotting with seaborn\n",
    "genre_percentage_melted = genre_pivot.melt(id_vars='Genres', value_vars=['M_Percent', 'F_Percent'], var_name='Gender', value_name='Percentage')\n",
    "\n",
    "# Replace 'M_Percent'/'F_Percent' with 'M'/'F' for clarity in the plot\n",
    "genre_percentage_melted['Gender'] = genre_percentage_melted['Gender'].str.replace('_Percent', '')\n",
    "\n",
    "# Create a horizontal bar plot to display percentage distribution within each genre\n",
    "plt.figure(figsize=(18, 10))\n",
    "sns.barplot(data=genre_percentage_melted, \n",
    "            x='Percentage', \n",
    "            y='Genres', \n",
    "            hue='Gender', \n",
    "            palette={'M': 'blue', 'F': 'pink'})\n",
    "\n",
    "plt.title('Percentage of influenced baby names by gender across top genres')\n",
    "plt.xlabel('Percentage of influenced names')\n",
    "plt.ylabel('Genre')\n",
    "plt.legend(title='Gender', labels=['Male', 'Female'])\n",
    "plt.xlim(0, 100)  # Since percentages range from 0 to 100\n",
    "plt.grid(True, axis='x', linestyle='--', alpha=0.7)\n",
    "\n",
    "plt.show()"
   ],
   "id": "b0d39923e53e943f",
   "outputs": [],
   "execution_count": null
  },
  {
   "metadata": {
    "ExecuteTime": {
     "end_time": "2024-12-20T19:29:01.127509Z",
     "start_time": "2024-12-20T19:29:01.108837Z"
    }
   },
   "cell_type": "code",
   "source": [
    "def plot_genre_gender_influence(df):\n",
    "    \"\"\"\n",
    "    Plots the percentage distribution of influenced baby names\n",
    "    \n",
    "    Parameters:\n",
    "    - df (DataFrame): The dataset containing influenced baby names and genres.\n",
    "    \n",
    "    Returns:\n",
    "    - None: Displays the plot.\n",
    "    \"\"\"\n",
    "\n",
    "    # Drop rows where 'Genres' is NaN\n",
    "    df = df.dropna(subset=['Genres'])\n",
    "\n",
    "    # If a movie can belong to multiple genres, split them\n",
    "    df['Genres'] = df['Genres'].str.split(',')\n",
    "\n",
    "    # Explode the genres so each genre has its own row\n",
    "    df_exploded = df.explode('Genres')\n",
    "\n",
    "    # Clean whitespace in genres\n",
    "    df_exploded['Genres'] = df_exploded['Genres'].str.strip()\n",
    "\n",
    "    # Group by 'Genres' and 'Gender' and sum the 'Count'\n",
    "    genre_gender_trend = df_exploded.groupby(['Genres', 'Gender'])['Count'].sum().reset_index()\n",
    "\n",
    "    # Calculate total influence per genre\n",
    "    top_genres_total = genre_gender_trend.groupby('Genres')['Count'].sum().reset_index()\n",
    "\n",
    "    # Sort genres by total influence in descending order and select top 10\n",
    "    top_genres = top_genres_total.sort_values(by='Count', ascending=False).head(10)\n",
    "\n",
    "    # Filter the original genre_gender_trend for top genres\n",
    "    genre_gender_trend_top = genre_gender_trend[genre_gender_trend['Genres'].isin(top_genres['Genres'])]\n",
    "\n",
    "    # Pivot the table to have genders as separate columns\n",
    "    genre_pivot = genre_gender_trend_top.pivot(index='Genres', columns='Gender', values='Count').fillna(0)\n",
    "\n",
    "    # Calculate total influenced names per genre\n",
    "    genre_pivot['Total'] = genre_pivot.sum(axis=1)\n",
    "\n",
    "    # Calculate percentage for each gender within genres\n",
    "    genre_pivot['M_Percent'] = (genre_pivot['M'] / genre_pivot['Total']) * 100\n",
    "    genre_pivot['F_Percent'] = (genre_pivot['F'] / genre_pivot['Total']) * 100\n",
    "\n",
    "    # Reset index to turn 'Genres' back into a column\n",
    "    genre_pivot = genre_pivot.reset_index()\n",
    "\n",
    "    # Melt the pivot table to long format for easier plotting with seaborn\n",
    "    genre_percentage_melted = genre_pivot.melt(id_vars='Genres', value_vars=['M_Percent', 'F_Percent'], var_name='Gender', value_name='Percentage')\n",
    "\n",
    "    # Replace 'M_Percent'/'F_Percent' with 'M'/'F' for clarity in the plot\n",
    "    genre_percentage_melted['Gender'] = genre_percentage_melted['Gender'].str.replace('_Percent', '')\n",
    "\n",
    "    # Create a horizontal bar plot to display percentage distribution within each genre\n",
    "    fig = px.bar(\n",
    "        genre_percentage_melted,\n",
    "        x='Percentage',\n",
    "        y='Genres',\n",
    "        color='Gender',\n",
    "        color_discrete_map={'M': 'blue', 'F': 'pink'},\n",
    "        title='Percentage of influenced baby names by gender across top genres',\n",
    "        labels={'Percentage': 'Percentage of influenced names', 'Genre': 'Genre', 'Gender': 'Gender'},\n",
    "        orientation='h'  # Horizontal bars\n",
    "    )\n",
    "\n",
    "    fig.update_layout(\n",
    "        xaxis=dict(range=[0, 100]),  # Since percentages range from 0 to 100\n",
    "        barmode='stack',  # Stack the bars for gender comparison\n",
    "        template='plotly_white'  # White background with gridlines\n",
    "    )\n",
    "\n",
    "    fig.show()\n",
    "    fig.write_html(\"docs/_includes/plot_genre_gender_influence.html\")\n"
   ],
   "id": "fb2fa6730fd929af",
   "outputs": [],
   "execution_count": 31
  },
  {
   "metadata": {
    "ExecuteTime": {
     "end_time": "2024-12-20T19:29:04.199518Z",
     "start_time": "2024-12-20T19:29:04.008036Z"
    }
   },
   "cell_type": "code",
   "source": "plot_genre_gender_influence(merged_df)",
   "id": "b721ae382ce6c7fc",
   "outputs": [
    {
     "name": "stderr",
     "output_type": "stream",
     "text": [
      "/var/folders/tf/qf52qbk97_j455ycph6p51j80000gn/T/ipykernel_1889/2790018074.py:16: SettingWithCopyWarning:\n",
      "\n",
      "\n",
      "A value is trying to be set on a copy of a slice from a DataFrame.\n",
      "Try using .loc[row_indexer,col_indexer] = value instead\n",
      "\n",
      "See the caveats in the documentation: https://pandas.pydata.org/pandas-docs/stable/user_guide/indexing.html#returning-a-view-versus-a-copy\n",
      "\n"
     ]
    },
    {
     "data": {
      "application/vnd.plotly.v1+json": {
       "data": [
        {
         "alignmentgroup": "True",
         "hovertemplate": "Gender=M<br>Percentage of influenced names=%{x}<br>Genres=%{y}<extra></extra>",
         "legendgroup": "M",
         "marker": {
          "color": "blue",
          "pattern": {
           "shape": ""
          }
         },
         "name": "M",
         "offsetgroup": "M",
         "orientation": "h",
         "showlegend": true,
         "textposition": "auto",
         "x": [
          79.70782912052827,
          81.4859883039063,
          52.561348008523915,
          83.52392481544332,
          78.34996889516924,
          67.10873871890821,
          81.40716863423093,
          74.0746387306842,
          78.12503126782266,
          73.5340911598079
         ],
         "xaxis": "x",
         "y": [
          "Action",
          "Action/Adventure",
          "Comedy",
          "Crime Fiction",
          "Drama",
          "Horror",
          "Indie",
          "Romance Film",
          "Science Fiction",
          "Thriller"
         ],
         "yaxis": "y",
         "type": "bar"
        },
        {
         "alignmentgroup": "True",
         "hovertemplate": "Gender=F<br>Percentage of influenced names=%{x}<br>Genres=%{y}<extra></extra>",
         "legendgroup": "F",
         "marker": {
          "color": "pink",
          "pattern": {
           "shape": ""
          }
         },
         "name": "F",
         "offsetgroup": "F",
         "orientation": "h",
         "showlegend": true,
         "textposition": "auto",
         "x": [
          20.292170879471723,
          18.514011696093696,
          47.438651991476085,
          16.476075184556684,
          21.65003110483076,
          32.891261281091786,
          18.59283136576907,
          25.925361269315793,
          21.87496873217734,
          26.4659088401921
         ],
         "xaxis": "x",
         "y": [
          "Action",
          "Action/Adventure",
          "Comedy",
          "Crime Fiction",
          "Drama",
          "Horror",
          "Indie",
          "Romance Film",
          "Science Fiction",
          "Thriller"
         ],
         "yaxis": "y",
         "type": "bar"
        }
       ],
       "layout": {
        "template": {
         "data": {
          "barpolar": [
           {
            "marker": {
             "line": {
              "color": "white",
              "width": 0.5
             },
             "pattern": {
              "fillmode": "overlay",
              "size": 10,
              "solidity": 0.2
             }
            },
            "type": "barpolar"
           }
          ],
          "bar": [
           {
            "error_x": {
             "color": "#2a3f5f"
            },
            "error_y": {
             "color": "#2a3f5f"
            },
            "marker": {
             "line": {
              "color": "white",
              "width": 0.5
             },
             "pattern": {
              "fillmode": "overlay",
              "size": 10,
              "solidity": 0.2
             }
            },
            "type": "bar"
           }
          ],
          "carpet": [
           {
            "aaxis": {
             "endlinecolor": "#2a3f5f",
             "gridcolor": "#C8D4E3",
             "linecolor": "#C8D4E3",
             "minorgridcolor": "#C8D4E3",
             "startlinecolor": "#2a3f5f"
            },
            "baxis": {
             "endlinecolor": "#2a3f5f",
             "gridcolor": "#C8D4E3",
             "linecolor": "#C8D4E3",
             "minorgridcolor": "#C8D4E3",
             "startlinecolor": "#2a3f5f"
            },
            "type": "carpet"
           }
          ],
          "choropleth": [
           {
            "colorbar": {
             "outlinewidth": 0,
             "ticks": ""
            },
            "type": "choropleth"
           }
          ],
          "contourcarpet": [
           {
            "colorbar": {
             "outlinewidth": 0,
             "ticks": ""
            },
            "type": "contourcarpet"
           }
          ],
          "contour": [
           {
            "colorbar": {
             "outlinewidth": 0,
             "ticks": ""
            },
            "colorscale": [
             [
              0.0,
              "#0d0887"
             ],
             [
              0.1111111111111111,
              "#46039f"
             ],
             [
              0.2222222222222222,
              "#7201a8"
             ],
             [
              0.3333333333333333,
              "#9c179e"
             ],
             [
              0.4444444444444444,
              "#bd3786"
             ],
             [
              0.5555555555555556,
              "#d8576b"
             ],
             [
              0.6666666666666666,
              "#ed7953"
             ],
             [
              0.7777777777777778,
              "#fb9f3a"
             ],
             [
              0.8888888888888888,
              "#fdca26"
             ],
             [
              1.0,
              "#f0f921"
             ]
            ],
            "type": "contour"
           }
          ],
          "heatmapgl": [
           {
            "colorbar": {
             "outlinewidth": 0,
             "ticks": ""
            },
            "colorscale": [
             [
              0.0,
              "#0d0887"
             ],
             [
              0.1111111111111111,
              "#46039f"
             ],
             [
              0.2222222222222222,
              "#7201a8"
             ],
             [
              0.3333333333333333,
              "#9c179e"
             ],
             [
              0.4444444444444444,
              "#bd3786"
             ],
             [
              0.5555555555555556,
              "#d8576b"
             ],
             [
              0.6666666666666666,
              "#ed7953"
             ],
             [
              0.7777777777777778,
              "#fb9f3a"
             ],
             [
              0.8888888888888888,
              "#fdca26"
             ],
             [
              1.0,
              "#f0f921"
             ]
            ],
            "type": "heatmapgl"
           }
          ],
          "heatmap": [
           {
            "colorbar": {
             "outlinewidth": 0,
             "ticks": ""
            },
            "colorscale": [
             [
              0.0,
              "#0d0887"
             ],
             [
              0.1111111111111111,
              "#46039f"
             ],
             [
              0.2222222222222222,
              "#7201a8"
             ],
             [
              0.3333333333333333,
              "#9c179e"
             ],
             [
              0.4444444444444444,
              "#bd3786"
             ],
             [
              0.5555555555555556,
              "#d8576b"
             ],
             [
              0.6666666666666666,
              "#ed7953"
             ],
             [
              0.7777777777777778,
              "#fb9f3a"
             ],
             [
              0.8888888888888888,
              "#fdca26"
             ],
             [
              1.0,
              "#f0f921"
             ]
            ],
            "type": "heatmap"
           }
          ],
          "histogram2dcontour": [
           {
            "colorbar": {
             "outlinewidth": 0,
             "ticks": ""
            },
            "colorscale": [
             [
              0.0,
              "#0d0887"
             ],
             [
              0.1111111111111111,
              "#46039f"
             ],
             [
              0.2222222222222222,
              "#7201a8"
             ],
             [
              0.3333333333333333,
              "#9c179e"
             ],
             [
              0.4444444444444444,
              "#bd3786"
             ],
             [
              0.5555555555555556,
              "#d8576b"
             ],
             [
              0.6666666666666666,
              "#ed7953"
             ],
             [
              0.7777777777777778,
              "#fb9f3a"
             ],
             [
              0.8888888888888888,
              "#fdca26"
             ],
             [
              1.0,
              "#f0f921"
             ]
            ],
            "type": "histogram2dcontour"
           }
          ],
          "histogram2d": [
           {
            "colorbar": {
             "outlinewidth": 0,
             "ticks": ""
            },
            "colorscale": [
             [
              0.0,
              "#0d0887"
             ],
             [
              0.1111111111111111,
              "#46039f"
             ],
             [
              0.2222222222222222,
              "#7201a8"
             ],
             [
              0.3333333333333333,
              "#9c179e"
             ],
             [
              0.4444444444444444,
              "#bd3786"
             ],
             [
              0.5555555555555556,
              "#d8576b"
             ],
             [
              0.6666666666666666,
              "#ed7953"
             ],
             [
              0.7777777777777778,
              "#fb9f3a"
             ],
             [
              0.8888888888888888,
              "#fdca26"
             ],
             [
              1.0,
              "#f0f921"
             ]
            ],
            "type": "histogram2d"
           }
          ],
          "histogram": [
           {
            "marker": {
             "pattern": {
              "fillmode": "overlay",
              "size": 10,
              "solidity": 0.2
             }
            },
            "type": "histogram"
           }
          ],
          "mesh3d": [
           {
            "colorbar": {
             "outlinewidth": 0,
             "ticks": ""
            },
            "type": "mesh3d"
           }
          ],
          "parcoords": [
           {
            "line": {
             "colorbar": {
              "outlinewidth": 0,
              "ticks": ""
             }
            },
            "type": "parcoords"
           }
          ],
          "pie": [
           {
            "automargin": true,
            "type": "pie"
           }
          ],
          "scatter3d": [
           {
            "line": {
             "colorbar": {
              "outlinewidth": 0,
              "ticks": ""
             }
            },
            "marker": {
             "colorbar": {
              "outlinewidth": 0,
              "ticks": ""
             }
            },
            "type": "scatter3d"
           }
          ],
          "scattercarpet": [
           {
            "marker": {
             "colorbar": {
              "outlinewidth": 0,
              "ticks": ""
             }
            },
            "type": "scattercarpet"
           }
          ],
          "scattergeo": [
           {
            "marker": {
             "colorbar": {
              "outlinewidth": 0,
              "ticks": ""
             }
            },
            "type": "scattergeo"
           }
          ],
          "scattergl": [
           {
            "marker": {
             "colorbar": {
              "outlinewidth": 0,
              "ticks": ""
             }
            },
            "type": "scattergl"
           }
          ],
          "scattermapbox": [
           {
            "marker": {
             "colorbar": {
              "outlinewidth": 0,
              "ticks": ""
             }
            },
            "type": "scattermapbox"
           }
          ],
          "scatterpolargl": [
           {
            "marker": {
             "colorbar": {
              "outlinewidth": 0,
              "ticks": ""
             }
            },
            "type": "scatterpolargl"
           }
          ],
          "scatterpolar": [
           {
            "marker": {
             "colorbar": {
              "outlinewidth": 0,
              "ticks": ""
             }
            },
            "type": "scatterpolar"
           }
          ],
          "scatter": [
           {
            "fillpattern": {
             "fillmode": "overlay",
             "size": 10,
             "solidity": 0.2
            },
            "type": "scatter"
           }
          ],
          "scatterternary": [
           {
            "marker": {
             "colorbar": {
              "outlinewidth": 0,
              "ticks": ""
             }
            },
            "type": "scatterternary"
           }
          ],
          "surface": [
           {
            "colorbar": {
             "outlinewidth": 0,
             "ticks": ""
            },
            "colorscale": [
             [
              0.0,
              "#0d0887"
             ],
             [
              0.1111111111111111,
              "#46039f"
             ],
             [
              0.2222222222222222,
              "#7201a8"
             ],
             [
              0.3333333333333333,
              "#9c179e"
             ],
             [
              0.4444444444444444,
              "#bd3786"
             ],
             [
              0.5555555555555556,
              "#d8576b"
             ],
             [
              0.6666666666666666,
              "#ed7953"
             ],
             [
              0.7777777777777778,
              "#fb9f3a"
             ],
             [
              0.8888888888888888,
              "#fdca26"
             ],
             [
              1.0,
              "#f0f921"
             ]
            ],
            "type": "surface"
           }
          ],
          "table": [
           {
            "cells": {
             "fill": {
              "color": "#EBF0F8"
             },
             "line": {
              "color": "white"
             }
            },
            "header": {
             "fill": {
              "color": "#C8D4E3"
             },
             "line": {
              "color": "white"
             }
            },
            "type": "table"
           }
          ]
         },
         "layout": {
          "annotationdefaults": {
           "arrowcolor": "#2a3f5f",
           "arrowhead": 0,
           "arrowwidth": 1
          },
          "autotypenumbers": "strict",
          "coloraxis": {
           "colorbar": {
            "outlinewidth": 0,
            "ticks": ""
           }
          },
          "colorscale": {
           "diverging": [
            [
             0,
             "#8e0152"
            ],
            [
             0.1,
             "#c51b7d"
            ],
            [
             0.2,
             "#de77ae"
            ],
            [
             0.3,
             "#f1b6da"
            ],
            [
             0.4,
             "#fde0ef"
            ],
            [
             0.5,
             "#f7f7f7"
            ],
            [
             0.6,
             "#e6f5d0"
            ],
            [
             0.7,
             "#b8e186"
            ],
            [
             0.8,
             "#7fbc41"
            ],
            [
             0.9,
             "#4d9221"
            ],
            [
             1,
             "#276419"
            ]
           ],
           "sequential": [
            [
             0.0,
             "#0d0887"
            ],
            [
             0.1111111111111111,
             "#46039f"
            ],
            [
             0.2222222222222222,
             "#7201a8"
            ],
            [
             0.3333333333333333,
             "#9c179e"
            ],
            [
             0.4444444444444444,
             "#bd3786"
            ],
            [
             0.5555555555555556,
             "#d8576b"
            ],
            [
             0.6666666666666666,
             "#ed7953"
            ],
            [
             0.7777777777777778,
             "#fb9f3a"
            ],
            [
             0.8888888888888888,
             "#fdca26"
            ],
            [
             1.0,
             "#f0f921"
            ]
           ],
           "sequentialminus": [
            [
             0.0,
             "#0d0887"
            ],
            [
             0.1111111111111111,
             "#46039f"
            ],
            [
             0.2222222222222222,
             "#7201a8"
            ],
            [
             0.3333333333333333,
             "#9c179e"
            ],
            [
             0.4444444444444444,
             "#bd3786"
            ],
            [
             0.5555555555555556,
             "#d8576b"
            ],
            [
             0.6666666666666666,
             "#ed7953"
            ],
            [
             0.7777777777777778,
             "#fb9f3a"
            ],
            [
             0.8888888888888888,
             "#fdca26"
            ],
            [
             1.0,
             "#f0f921"
            ]
           ]
          },
          "colorway": [
           "#636efa",
           "#EF553B",
           "#00cc96",
           "#ab63fa",
           "#FFA15A",
           "#19d3f3",
           "#FF6692",
           "#B6E880",
           "#FF97FF",
           "#FECB52"
          ],
          "font": {
           "color": "#2a3f5f"
          },
          "geo": {
           "bgcolor": "white",
           "lakecolor": "white",
           "landcolor": "white",
           "showlakes": true,
           "showland": true,
           "subunitcolor": "#C8D4E3"
          },
          "hoverlabel": {
           "align": "left"
          },
          "hovermode": "closest",
          "mapbox": {
           "style": "light"
          },
          "paper_bgcolor": "white",
          "plot_bgcolor": "white",
          "polar": {
           "angularaxis": {
            "gridcolor": "#EBF0F8",
            "linecolor": "#EBF0F8",
            "ticks": ""
           },
           "bgcolor": "white",
           "radialaxis": {
            "gridcolor": "#EBF0F8",
            "linecolor": "#EBF0F8",
            "ticks": ""
           }
          },
          "scene": {
           "xaxis": {
            "backgroundcolor": "white",
            "gridcolor": "#DFE8F3",
            "gridwidth": 2,
            "linecolor": "#EBF0F8",
            "showbackground": true,
            "ticks": "",
            "zerolinecolor": "#EBF0F8"
           },
           "yaxis": {
            "backgroundcolor": "white",
            "gridcolor": "#DFE8F3",
            "gridwidth": 2,
            "linecolor": "#EBF0F8",
            "showbackground": true,
            "ticks": "",
            "zerolinecolor": "#EBF0F8"
           },
           "zaxis": {
            "backgroundcolor": "white",
            "gridcolor": "#DFE8F3",
            "gridwidth": 2,
            "linecolor": "#EBF0F8",
            "showbackground": true,
            "ticks": "",
            "zerolinecolor": "#EBF0F8"
           }
          },
          "shapedefaults": {
           "line": {
            "color": "#2a3f5f"
           }
          },
          "ternary": {
           "aaxis": {
            "gridcolor": "#DFE8F3",
            "linecolor": "#A2B1C6",
            "ticks": ""
           },
           "baxis": {
            "gridcolor": "#DFE8F3",
            "linecolor": "#A2B1C6",
            "ticks": ""
           },
           "bgcolor": "white",
           "caxis": {
            "gridcolor": "#DFE8F3",
            "linecolor": "#A2B1C6",
            "ticks": ""
           }
          },
          "title": {
           "x": 0.05
          },
          "xaxis": {
           "automargin": true,
           "gridcolor": "#EBF0F8",
           "linecolor": "#EBF0F8",
           "ticks": "",
           "title": {
            "standoff": 15
           },
           "zerolinecolor": "#EBF0F8",
           "zerolinewidth": 2
          },
          "yaxis": {
           "automargin": true,
           "gridcolor": "#EBF0F8",
           "linecolor": "#EBF0F8",
           "ticks": "",
           "title": {
            "standoff": 15
           },
           "zerolinecolor": "#EBF0F8",
           "zerolinewidth": 2
          }
         }
        },
        "xaxis": {
         "anchor": "y",
         "domain": [
          0.0,
          1.0
         ],
         "title": {
          "text": "Percentage of influenced names"
         },
         "range": [
          0,
          100
         ]
        },
        "yaxis": {
         "anchor": "x",
         "domain": [
          0.0,
          1.0
         ],
         "title": {
          "text": "Genres"
         }
        },
        "legend": {
         "title": {
          "text": "Gender"
         },
         "tracegroupgap": 0
        },
        "title": {
         "text": "Percentage of influenced baby names by gender across top genres"
        },
        "barmode": "stack"
       },
       "config": {
        "plotlyServerURL": "https://plot.ly"
       }
      },
      "text/html": [
       "<div>                            <div id=\"821d8578-d642-429a-be92-1411da249c03\" class=\"plotly-graph-div\" style=\"height:525px; width:100%;\"></div>            <script type=\"text/javascript\">                require([\"plotly\"], function(Plotly) {                    window.PLOTLYENV=window.PLOTLYENV || {};                                    if (document.getElementById(\"821d8578-d642-429a-be92-1411da249c03\")) {                    Plotly.newPlot(                        \"821d8578-d642-429a-be92-1411da249c03\",                        [{\"alignmentgroup\":\"True\",\"hovertemplate\":\"Gender=M\\u003cbr\\u003ePercentage of influenced names=%{x}\\u003cbr\\u003eGenres=%{y}\\u003cextra\\u003e\\u003c\\u002fextra\\u003e\",\"legendgroup\":\"M\",\"marker\":{\"color\":\"blue\",\"pattern\":{\"shape\":\"\"}},\"name\":\"M\",\"offsetgroup\":\"M\",\"orientation\":\"h\",\"showlegend\":true,\"textposition\":\"auto\",\"x\":[79.70782912052827,81.4859883039063,52.561348008523915,83.52392481544332,78.34996889516924,67.10873871890821,81.40716863423093,74.0746387306842,78.12503126782266,73.5340911598079],\"xaxis\":\"x\",\"y\":[\"Action\",\"Action\\u002fAdventure\",\"Comedy\",\"Crime Fiction\",\"Drama\",\"Horror\",\"Indie\",\"Romance Film\",\"Science Fiction\",\"Thriller\"],\"yaxis\":\"y\",\"type\":\"bar\"},{\"alignmentgroup\":\"True\",\"hovertemplate\":\"Gender=F\\u003cbr\\u003ePercentage of influenced names=%{x}\\u003cbr\\u003eGenres=%{y}\\u003cextra\\u003e\\u003c\\u002fextra\\u003e\",\"legendgroup\":\"F\",\"marker\":{\"color\":\"pink\",\"pattern\":{\"shape\":\"\"}},\"name\":\"F\",\"offsetgroup\":\"F\",\"orientation\":\"h\",\"showlegend\":true,\"textposition\":\"auto\",\"x\":[20.292170879471723,18.514011696093696,47.438651991476085,16.476075184556684,21.65003110483076,32.891261281091786,18.59283136576907,25.925361269315793,21.87496873217734,26.4659088401921],\"xaxis\":\"x\",\"y\":[\"Action\",\"Action\\u002fAdventure\",\"Comedy\",\"Crime Fiction\",\"Drama\",\"Horror\",\"Indie\",\"Romance Film\",\"Science Fiction\",\"Thriller\"],\"yaxis\":\"y\",\"type\":\"bar\"}],                        {\"template\":{\"data\":{\"barpolar\":[{\"marker\":{\"line\":{\"color\":\"white\",\"width\":0.5},\"pattern\":{\"fillmode\":\"overlay\",\"size\":10,\"solidity\":0.2}},\"type\":\"barpolar\"}],\"bar\":[{\"error_x\":{\"color\":\"#2a3f5f\"},\"error_y\":{\"color\":\"#2a3f5f\"},\"marker\":{\"line\":{\"color\":\"white\",\"width\":0.5},\"pattern\":{\"fillmode\":\"overlay\",\"size\":10,\"solidity\":0.2}},\"type\":\"bar\"}],\"carpet\":[{\"aaxis\":{\"endlinecolor\":\"#2a3f5f\",\"gridcolor\":\"#C8D4E3\",\"linecolor\":\"#C8D4E3\",\"minorgridcolor\":\"#C8D4E3\",\"startlinecolor\":\"#2a3f5f\"},\"baxis\":{\"endlinecolor\":\"#2a3f5f\",\"gridcolor\":\"#C8D4E3\",\"linecolor\":\"#C8D4E3\",\"minorgridcolor\":\"#C8D4E3\",\"startlinecolor\":\"#2a3f5f\"},\"type\":\"carpet\"}],\"choropleth\":[{\"colorbar\":{\"outlinewidth\":0,\"ticks\":\"\"},\"type\":\"choropleth\"}],\"contourcarpet\":[{\"colorbar\":{\"outlinewidth\":0,\"ticks\":\"\"},\"type\":\"contourcarpet\"}],\"contour\":[{\"colorbar\":{\"outlinewidth\":0,\"ticks\":\"\"},\"colorscale\":[[0.0,\"#0d0887\"],[0.1111111111111111,\"#46039f\"],[0.2222222222222222,\"#7201a8\"],[0.3333333333333333,\"#9c179e\"],[0.4444444444444444,\"#bd3786\"],[0.5555555555555556,\"#d8576b\"],[0.6666666666666666,\"#ed7953\"],[0.7777777777777778,\"#fb9f3a\"],[0.8888888888888888,\"#fdca26\"],[1.0,\"#f0f921\"]],\"type\":\"contour\"}],\"heatmapgl\":[{\"colorbar\":{\"outlinewidth\":0,\"ticks\":\"\"},\"colorscale\":[[0.0,\"#0d0887\"],[0.1111111111111111,\"#46039f\"],[0.2222222222222222,\"#7201a8\"],[0.3333333333333333,\"#9c179e\"],[0.4444444444444444,\"#bd3786\"],[0.5555555555555556,\"#d8576b\"],[0.6666666666666666,\"#ed7953\"],[0.7777777777777778,\"#fb9f3a\"],[0.8888888888888888,\"#fdca26\"],[1.0,\"#f0f921\"]],\"type\":\"heatmapgl\"}],\"heatmap\":[{\"colorbar\":{\"outlinewidth\":0,\"ticks\":\"\"},\"colorscale\":[[0.0,\"#0d0887\"],[0.1111111111111111,\"#46039f\"],[0.2222222222222222,\"#7201a8\"],[0.3333333333333333,\"#9c179e\"],[0.4444444444444444,\"#bd3786\"],[0.5555555555555556,\"#d8576b\"],[0.6666666666666666,\"#ed7953\"],[0.7777777777777778,\"#fb9f3a\"],[0.8888888888888888,\"#fdca26\"],[1.0,\"#f0f921\"]],\"type\":\"heatmap\"}],\"histogram2dcontour\":[{\"colorbar\":{\"outlinewidth\":0,\"ticks\":\"\"},\"colorscale\":[[0.0,\"#0d0887\"],[0.1111111111111111,\"#46039f\"],[0.2222222222222222,\"#7201a8\"],[0.3333333333333333,\"#9c179e\"],[0.4444444444444444,\"#bd3786\"],[0.5555555555555556,\"#d8576b\"],[0.6666666666666666,\"#ed7953\"],[0.7777777777777778,\"#fb9f3a\"],[0.8888888888888888,\"#fdca26\"],[1.0,\"#f0f921\"]],\"type\":\"histogram2dcontour\"}],\"histogram2d\":[{\"colorbar\":{\"outlinewidth\":0,\"ticks\":\"\"},\"colorscale\":[[0.0,\"#0d0887\"],[0.1111111111111111,\"#46039f\"],[0.2222222222222222,\"#7201a8\"],[0.3333333333333333,\"#9c179e\"],[0.4444444444444444,\"#bd3786\"],[0.5555555555555556,\"#d8576b\"],[0.6666666666666666,\"#ed7953\"],[0.7777777777777778,\"#fb9f3a\"],[0.8888888888888888,\"#fdca26\"],[1.0,\"#f0f921\"]],\"type\":\"histogram2d\"}],\"histogram\":[{\"marker\":{\"pattern\":{\"fillmode\":\"overlay\",\"size\":10,\"solidity\":0.2}},\"type\":\"histogram\"}],\"mesh3d\":[{\"colorbar\":{\"outlinewidth\":0,\"ticks\":\"\"},\"type\":\"mesh3d\"}],\"parcoords\":[{\"line\":{\"colorbar\":{\"outlinewidth\":0,\"ticks\":\"\"}},\"type\":\"parcoords\"}],\"pie\":[{\"automargin\":true,\"type\":\"pie\"}],\"scatter3d\":[{\"line\":{\"colorbar\":{\"outlinewidth\":0,\"ticks\":\"\"}},\"marker\":{\"colorbar\":{\"outlinewidth\":0,\"ticks\":\"\"}},\"type\":\"scatter3d\"}],\"scattercarpet\":[{\"marker\":{\"colorbar\":{\"outlinewidth\":0,\"ticks\":\"\"}},\"type\":\"scattercarpet\"}],\"scattergeo\":[{\"marker\":{\"colorbar\":{\"outlinewidth\":0,\"ticks\":\"\"}},\"type\":\"scattergeo\"}],\"scattergl\":[{\"marker\":{\"colorbar\":{\"outlinewidth\":0,\"ticks\":\"\"}},\"type\":\"scattergl\"}],\"scattermapbox\":[{\"marker\":{\"colorbar\":{\"outlinewidth\":0,\"ticks\":\"\"}},\"type\":\"scattermapbox\"}],\"scatterpolargl\":[{\"marker\":{\"colorbar\":{\"outlinewidth\":0,\"ticks\":\"\"}},\"type\":\"scatterpolargl\"}],\"scatterpolar\":[{\"marker\":{\"colorbar\":{\"outlinewidth\":0,\"ticks\":\"\"}},\"type\":\"scatterpolar\"}],\"scatter\":[{\"fillpattern\":{\"fillmode\":\"overlay\",\"size\":10,\"solidity\":0.2},\"type\":\"scatter\"}],\"scatterternary\":[{\"marker\":{\"colorbar\":{\"outlinewidth\":0,\"ticks\":\"\"}},\"type\":\"scatterternary\"}],\"surface\":[{\"colorbar\":{\"outlinewidth\":0,\"ticks\":\"\"},\"colorscale\":[[0.0,\"#0d0887\"],[0.1111111111111111,\"#46039f\"],[0.2222222222222222,\"#7201a8\"],[0.3333333333333333,\"#9c179e\"],[0.4444444444444444,\"#bd3786\"],[0.5555555555555556,\"#d8576b\"],[0.6666666666666666,\"#ed7953\"],[0.7777777777777778,\"#fb9f3a\"],[0.8888888888888888,\"#fdca26\"],[1.0,\"#f0f921\"]],\"type\":\"surface\"}],\"table\":[{\"cells\":{\"fill\":{\"color\":\"#EBF0F8\"},\"line\":{\"color\":\"white\"}},\"header\":{\"fill\":{\"color\":\"#C8D4E3\"},\"line\":{\"color\":\"white\"}},\"type\":\"table\"}]},\"layout\":{\"annotationdefaults\":{\"arrowcolor\":\"#2a3f5f\",\"arrowhead\":0,\"arrowwidth\":1},\"autotypenumbers\":\"strict\",\"coloraxis\":{\"colorbar\":{\"outlinewidth\":0,\"ticks\":\"\"}},\"colorscale\":{\"diverging\":[[0,\"#8e0152\"],[0.1,\"#c51b7d\"],[0.2,\"#de77ae\"],[0.3,\"#f1b6da\"],[0.4,\"#fde0ef\"],[0.5,\"#f7f7f7\"],[0.6,\"#e6f5d0\"],[0.7,\"#b8e186\"],[0.8,\"#7fbc41\"],[0.9,\"#4d9221\"],[1,\"#276419\"]],\"sequential\":[[0.0,\"#0d0887\"],[0.1111111111111111,\"#46039f\"],[0.2222222222222222,\"#7201a8\"],[0.3333333333333333,\"#9c179e\"],[0.4444444444444444,\"#bd3786\"],[0.5555555555555556,\"#d8576b\"],[0.6666666666666666,\"#ed7953\"],[0.7777777777777778,\"#fb9f3a\"],[0.8888888888888888,\"#fdca26\"],[1.0,\"#f0f921\"]],\"sequentialminus\":[[0.0,\"#0d0887\"],[0.1111111111111111,\"#46039f\"],[0.2222222222222222,\"#7201a8\"],[0.3333333333333333,\"#9c179e\"],[0.4444444444444444,\"#bd3786\"],[0.5555555555555556,\"#d8576b\"],[0.6666666666666666,\"#ed7953\"],[0.7777777777777778,\"#fb9f3a\"],[0.8888888888888888,\"#fdca26\"],[1.0,\"#f0f921\"]]},\"colorway\":[\"#636efa\",\"#EF553B\",\"#00cc96\",\"#ab63fa\",\"#FFA15A\",\"#19d3f3\",\"#FF6692\",\"#B6E880\",\"#FF97FF\",\"#FECB52\"],\"font\":{\"color\":\"#2a3f5f\"},\"geo\":{\"bgcolor\":\"white\",\"lakecolor\":\"white\",\"landcolor\":\"white\",\"showlakes\":true,\"showland\":true,\"subunitcolor\":\"#C8D4E3\"},\"hoverlabel\":{\"align\":\"left\"},\"hovermode\":\"closest\",\"mapbox\":{\"style\":\"light\"},\"paper_bgcolor\":\"white\",\"plot_bgcolor\":\"white\",\"polar\":{\"angularaxis\":{\"gridcolor\":\"#EBF0F8\",\"linecolor\":\"#EBF0F8\",\"ticks\":\"\"},\"bgcolor\":\"white\",\"radialaxis\":{\"gridcolor\":\"#EBF0F8\",\"linecolor\":\"#EBF0F8\",\"ticks\":\"\"}},\"scene\":{\"xaxis\":{\"backgroundcolor\":\"white\",\"gridcolor\":\"#DFE8F3\",\"gridwidth\":2,\"linecolor\":\"#EBF0F8\",\"showbackground\":true,\"ticks\":\"\",\"zerolinecolor\":\"#EBF0F8\"},\"yaxis\":{\"backgroundcolor\":\"white\",\"gridcolor\":\"#DFE8F3\",\"gridwidth\":2,\"linecolor\":\"#EBF0F8\",\"showbackground\":true,\"ticks\":\"\",\"zerolinecolor\":\"#EBF0F8\"},\"zaxis\":{\"backgroundcolor\":\"white\",\"gridcolor\":\"#DFE8F3\",\"gridwidth\":2,\"linecolor\":\"#EBF0F8\",\"showbackground\":true,\"ticks\":\"\",\"zerolinecolor\":\"#EBF0F8\"}},\"shapedefaults\":{\"line\":{\"color\":\"#2a3f5f\"}},\"ternary\":{\"aaxis\":{\"gridcolor\":\"#DFE8F3\",\"linecolor\":\"#A2B1C6\",\"ticks\":\"\"},\"baxis\":{\"gridcolor\":\"#DFE8F3\",\"linecolor\":\"#A2B1C6\",\"ticks\":\"\"},\"bgcolor\":\"white\",\"caxis\":{\"gridcolor\":\"#DFE8F3\",\"linecolor\":\"#A2B1C6\",\"ticks\":\"\"}},\"title\":{\"x\":0.05},\"xaxis\":{\"automargin\":true,\"gridcolor\":\"#EBF0F8\",\"linecolor\":\"#EBF0F8\",\"ticks\":\"\",\"title\":{\"standoff\":15},\"zerolinecolor\":\"#EBF0F8\",\"zerolinewidth\":2},\"yaxis\":{\"automargin\":true,\"gridcolor\":\"#EBF0F8\",\"linecolor\":\"#EBF0F8\",\"ticks\":\"\",\"title\":{\"standoff\":15},\"zerolinecolor\":\"#EBF0F8\",\"zerolinewidth\":2}}},\"xaxis\":{\"anchor\":\"y\",\"domain\":[0.0,1.0],\"title\":{\"text\":\"Percentage of influenced names\"},\"range\":[0,100]},\"yaxis\":{\"anchor\":\"x\",\"domain\":[0.0,1.0],\"title\":{\"text\":\"Genres\"}},\"legend\":{\"title\":{\"text\":\"Gender\"},\"tracegroupgap\":0},\"title\":{\"text\":\"Percentage of influenced baby names by gender across top genres\"},\"barmode\":\"stack\"},                        {\"responsive\": true}                    ).then(function(){\n",
       "                            \n",
       "var gd = document.getElementById('821d8578-d642-429a-be92-1411da249c03');\n",
       "var x = new MutationObserver(function (mutations, observer) {{\n",
       "        var display = window.getComputedStyle(gd).display;\n",
       "        if (!display || display === 'none') {{\n",
       "            console.log([gd, 'removed!']);\n",
       "            Plotly.purge(gd);\n",
       "            observer.disconnect();\n",
       "        }}\n",
       "}});\n",
       "\n",
       "// Listen for the removal of the full notebook cells\n",
       "var notebookContainer = gd.closest('#notebook-container');\n",
       "if (notebookContainer) {{\n",
       "    x.observe(notebookContainer, {childList: true});\n",
       "}}\n",
       "\n",
       "// Listen for the clearing of the current output cell\n",
       "var outputEl = gd.closest('.output');\n",
       "if (outputEl) {{\n",
       "    x.observe(outputEl, {childList: true});\n",
       "}}\n",
       "\n",
       "                        })                };                });            </script>        </div>"
      ]
     },
     "metadata": {},
     "output_type": "display_data"
    }
   ],
   "execution_count": 32
  },
  {
   "metadata": {},
   "cell_type": "markdown",
   "source": [
    "### Statistical significance:\n",
    "Perform statistical tests (like a t-test or nonparametric equivalent) to see if differences in influence scores or proportions are significant. This could help you say with confidence whether the effect on one gender’s names is truly different from the other’s, rather than a random fluctuation."
   ],
   "id": "9e207066d7add6b3"
  },
  {
   "metadata": {},
   "cell_type": "markdown",
   "source": "By combining these approaches—exploring proportions, mean influence levels, changes over time, and differences by genre—you can paint a richer picture of how gender interacts with cinematic influence on baby names.",
   "id": "6e2cf4afad2c0413"
  }
 ],
 "metadata": {
  "kernelspec": {
   "display_name": "Python 3",
   "language": "python",
   "name": "python3"
  },
  "language_info": {
   "codemirror_mode": {
    "name": "ipython",
    "version": 2
   },
   "file_extension": ".py",
   "mimetype": "text/x-python",
   "name": "python",
   "nbconvert_exporter": "python",
   "pygments_lexer": "ipython2",
   "version": "2.7.6"
  }
 },
 "nbformat": 4,
 "nbformat_minor": 5
}
