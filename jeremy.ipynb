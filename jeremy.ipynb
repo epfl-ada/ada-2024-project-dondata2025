{
 "cells": [
  {
   "cell_type": "markdown",
   "metadata": {},
   "source": [
    "# Pipeline\n",
    "The aim is to determine what path / logic we can follow in order to create some stories.\n",
    "\n",
    "During the zoom call of November 7th. we determined that it would be more enjoyable to follow the following path:\n",
    "\n",
    "## From movies to statistics !\n",
    "We first have to define an \"entry point\", which could have been a name, a set of names, a movie or a set of movies.\n",
    "Having a starting set of movies with computed in advance results seemed more enjoyable and a better story, since not all names would have reflected results (i.e putting a textbox for the user to enter his name would have lead to a lot of negative results -> not enjoyable)\n",
    "\n",
    "So, the main idea is:\n",
    "- Find a fix number of movies were we can clearly show an impact on some names (In order to make it as much interactive as possible, it would be nice to have at least 20-40 of them)\n",
    "- Clicking on a movie would show information on the name, the country, etc... (time line with the bump clearly shown)\n",
    "\n",
    "(This is for the interactive part, for the more static part were we just compute resutls, we can answer lots of question in addition to that)\n",
    "\n",
    "## How do we find that ?\n",
    "\n",
    "- Trying to test all the ~40000 entries would take way too much time -> we could try to keep only the top 50 by year according to the revenue.\n",
    "- Once we have some movies, we have to find which of them has actually and impact -> extract the name of the characters of those movies\n",
    "- For each extracted name, we can start the computation that are described in next section\n",
    "- Once we have the data, we need to fine a way to determine if the result is good enough (TODO)\n",
    "- Present those movies nicely and get some interactive features \n",
    "\n",
    "## Name distribution analysis\n",
    "The names are distributed on a time-range and want we basically want to now is if the \"trend\" has changed around a specific date.\n",
    "I found 2 main methods to do so:\n",
    "### 1. Interrupted time series (ITS)\n",
    "You define a date of interest, and only keep the data that happened before this point of time.\n",
    "Then, you use a machine learning model that predicts how the distribution should have evolved in the following years.\n",
    "Since you have the data, you can compare what was estimed by the model and what actually happend and thus see an impact or not of the point in time.\n",
    "\n",
    "TODO: Find a way to measure how well this works -> quantify if the difference is big enough to make it valid\n",
    "\n",
    "### 2. Slope analysis\n",
    "This might need more research, but it's a more analystical approach where we study the slope change of the distribution and check wheter the movie is at a local minimum.\n"
   ]
  },
  {
   "cell_type": "markdown",
   "metadata": {},
   "source": [
    "# Showcase of the names dataset cleaning\n",
    "## US"
   ]
  },
  {
   "cell_type": "code",
   "execution_count": 1,
   "metadata": {
    "jupyter": {
     "is_executing": true
    }
   },
   "outputs": [
    {
     "name": "stdout",
     "output_type": "stream",
     "text": [
      "US : loaded 1858689 rows !\n",
      "US : Data is clean and conforms to the expected structure !\n",
      "US : Data is clean and conforms to the expected structure !\n",
      "US : Clean data has been and saved to data/clean/names/babyNamesUSYOB-full.csv! (1858689 rows)\n"
     ]
    }
   ],
   "source": [
    "# imports my code from the file src/data/names_data.py\n",
    "import src.data.names_data as NamesData\n",
    "\n",
    "usNames = NamesData.USNamesData(\"US\", \"babyNamesUSYOB-full.csv\")\n",
    "usNames.clean_raw_data()\n",
    "usNames.clean_df.head()\n",
    "usNames.write_clean_data()"
   ]
  },
  {
   "cell_type": "markdown",
   "metadata": {},
   "source": [
    "## UK"
   ]
  },
  {
   "cell_type": "code",
   "execution_count": 2,
   "metadata": {},
   "outputs": [
    {
     "name": "stdout",
     "output_type": "stream",
     "text": [
      "UK : loaded 565817 rows !\n"
     ]
    },
    {
     "data": {
      "text/html": [
       "<div>\n",
       "<style scoped>\n",
       "    .dataframe tbody tr th:only-of-type {\n",
       "        vertical-align: middle;\n",
       "    }\n",
       "\n",
       "    .dataframe tbody tr th {\n",
       "        vertical-align: top;\n",
       "    }\n",
       "\n",
       "    .dataframe thead th {\n",
       "        text-align: right;\n",
       "    }\n",
       "</style>\n",
       "<table border=\"1\" class=\"dataframe\">\n",
       "  <thead>\n",
       "    <tr style=\"text-align: right;\">\n",
       "      <th></th>\n",
       "      <th>year</th>\n",
       "      <th>sex</th>\n",
       "      <th>name</th>\n",
       "      <th>n</th>\n",
       "      <th>rank</th>\n",
       "      <th>nation</th>\n",
       "    </tr>\n",
       "  </thead>\n",
       "  <tbody>\n",
       "    <tr>\n",
       "      <th>0</th>\n",
       "      <td>1996.0</td>\n",
       "      <td>F</td>\n",
       "      <td>SOPHIE</td>\n",
       "      <td>7087.0</td>\n",
       "      <td>1.0</td>\n",
       "      <td>England &amp; Wales</td>\n",
       "    </tr>\n",
       "    <tr>\n",
       "      <th>1</th>\n",
       "      <td>1996.0</td>\n",
       "      <td>F</td>\n",
       "      <td>CHLOE</td>\n",
       "      <td>6824.0</td>\n",
       "      <td>2.0</td>\n",
       "      <td>England &amp; Wales</td>\n",
       "    </tr>\n",
       "    <tr>\n",
       "      <th>2</th>\n",
       "      <td>1996.0</td>\n",
       "      <td>F</td>\n",
       "      <td>JESSICA</td>\n",
       "      <td>6711.0</td>\n",
       "      <td>3.0</td>\n",
       "      <td>England &amp; Wales</td>\n",
       "    </tr>\n",
       "    <tr>\n",
       "      <th>3</th>\n",
       "      <td>1996.0</td>\n",
       "      <td>F</td>\n",
       "      <td>EMILY</td>\n",
       "      <td>6415.0</td>\n",
       "      <td>4.0</td>\n",
       "      <td>England &amp; Wales</td>\n",
       "    </tr>\n",
       "    <tr>\n",
       "      <th>4</th>\n",
       "      <td>1996.0</td>\n",
       "      <td>F</td>\n",
       "      <td>LAUREN</td>\n",
       "      <td>6299.0</td>\n",
       "      <td>5.0</td>\n",
       "      <td>England &amp; Wales</td>\n",
       "    </tr>\n",
       "  </tbody>\n",
       "</table>\n",
       "</div>"
      ],
      "text/plain": [
       "     year sex     name       n  rank           nation\n",
       "0  1996.0   F   SOPHIE  7087.0   1.0  England & Wales\n",
       "1  1996.0   F    CHLOE  6824.0   2.0  England & Wales\n",
       "2  1996.0   F  JESSICA  6711.0   3.0  England & Wales\n",
       "3  1996.0   F    EMILY  6415.0   4.0  England & Wales\n",
       "4  1996.0   F   LAUREN  6299.0   5.0  England & Wales"
      ]
     },
     "execution_count": 2,
     "metadata": {},
     "output_type": "execute_result"
    }
   ],
   "source": [
    "ukNames = NamesData.UKNamesData(\"UK\", \"ukbabynames_datasets/ukbabynames.csv\")\n",
    "ukNames.raw_df.head()"
   ]
  },
  {
   "cell_type": "code",
   "execution_count": 3,
   "metadata": {},
   "outputs": [
    {
     "name": "stdout",
     "output_type": "stream",
     "text": [
      "UK : Data is clean and conforms to the expected structure !\n"
     ]
    },
    {
     "data": {
      "text/html": [
       "<div>\n",
       "<style scoped>\n",
       "    .dataframe tbody tr th:only-of-type {\n",
       "        vertical-align: middle;\n",
       "    }\n",
       "\n",
       "    .dataframe tbody tr th {\n",
       "        vertical-align: top;\n",
       "    }\n",
       "\n",
       "    .dataframe thead th {\n",
       "        text-align: right;\n",
       "    }\n",
       "</style>\n",
       "<table border=\"1\" class=\"dataframe\">\n",
       "  <thead>\n",
       "    <tr style=\"text-align: right;\">\n",
       "      <th></th>\n",
       "      <th>Year</th>\n",
       "      <th>Name</th>\n",
       "      <th>Sex</th>\n",
       "      <th>Count</th>\n",
       "    </tr>\n",
       "  </thead>\n",
       "  <tbody>\n",
       "    <tr>\n",
       "      <th>0</th>\n",
       "      <td>1974</td>\n",
       "      <td>AALIA</td>\n",
       "      <td>F</td>\n",
       "      <td>1</td>\n",
       "    </tr>\n",
       "    <tr>\n",
       "      <th>1</th>\n",
       "      <td>1974</td>\n",
       "      <td>AAMIR</td>\n",
       "      <td>M</td>\n",
       "      <td>1</td>\n",
       "    </tr>\n",
       "    <tr>\n",
       "      <th>2</th>\n",
       "      <td>1974</td>\n",
       "      <td>AARON</td>\n",
       "      <td>M</td>\n",
       "      <td>17</td>\n",
       "    </tr>\n",
       "    <tr>\n",
       "      <th>3</th>\n",
       "      <td>1974</td>\n",
       "      <td>ABADAH</td>\n",
       "      <td>F</td>\n",
       "      <td>1</td>\n",
       "    </tr>\n",
       "    <tr>\n",
       "      <th>4</th>\n",
       "      <td>1974</td>\n",
       "      <td>ABBEY</td>\n",
       "      <td>F</td>\n",
       "      <td>1</td>\n",
       "    </tr>\n",
       "  </tbody>\n",
       "</table>\n",
       "</div>"
      ],
      "text/plain": [
       "   Year    Name Sex  Count\n",
       "0  1974   AALIA   F      1\n",
       "1  1974   AAMIR   M      1\n",
       "2  1974   AARON   M     17\n",
       "3  1974  ABADAH   F      1\n",
       "4  1974   ABBEY   F      1"
      ]
     },
     "execution_count": 3,
     "metadata": {},
     "output_type": "execute_result"
    }
   ],
   "source": [
    "# print duplicated rows\n",
    "ukNames.clean_raw_data()\n",
    "ukNames.clean_df.head()"
   ]
  },
  {
   "cell_type": "code",
   "execution_count": 4,
   "metadata": {},
   "outputs": [
    {
     "name": "stdout",
     "output_type": "stream",
     "text": [
      "UK : loaded 565817 rows !\n",
      "UK : Data is clean and conforms to the expected structure !\n",
      "UK : Data is clean and conforms to the expected structure !\n",
      "UK : File name has been changed to ukbabynames.csv (we don't want directories in the clean folder)\n",
      "UK : Clean data has been and saved to data/clean/names/ukbabynames.csv! (446642 rows)\n"
     ]
    }
   ],
   "source": [
    "ukNames.pipeline()"
   ]
  },
  {
   "cell_type": "code",
   "execution_count": 5,
   "metadata": {},
   "outputs": [
    {
     "name": "stdout",
     "output_type": "stream",
     "text": [
      "France : loaded 3884324 rows !\n"
     ]
    },
    {
     "data": {
      "text/html": [
       "<div>\n",
       "<style scoped>\n",
       "    .dataframe tbody tr th:only-of-type {\n",
       "        vertical-align: middle;\n",
       "    }\n",
       "\n",
       "    .dataframe tbody tr th {\n",
       "        vertical-align: top;\n",
       "    }\n",
       "\n",
       "    .dataframe thead th {\n",
       "        text-align: right;\n",
       "    }\n",
       "</style>\n",
       "<table border=\"1\" class=\"dataframe\">\n",
       "  <thead>\n",
       "    <tr style=\"text-align: right;\">\n",
       "      <th></th>\n",
       "      <th>sexe</th>\n",
       "      <th>preusuel</th>\n",
       "      <th>annais</th>\n",
       "      <th>dpt</th>\n",
       "      <th>nombre</th>\n",
       "    </tr>\n",
       "  </thead>\n",
       "  <tbody>\n",
       "    <tr>\n",
       "      <th>0</th>\n",
       "      <td>1</td>\n",
       "      <td>A</td>\n",
       "      <td>XXXX</td>\n",
       "      <td>XX</td>\n",
       "      <td>27</td>\n",
       "    </tr>\n",
       "    <tr>\n",
       "      <th>1</th>\n",
       "      <td>1</td>\n",
       "      <td>AADAM</td>\n",
       "      <td>XXXX</td>\n",
       "      <td>XX</td>\n",
       "      <td>38</td>\n",
       "    </tr>\n",
       "    <tr>\n",
       "      <th>2</th>\n",
       "      <td>1</td>\n",
       "      <td>AADEL</td>\n",
       "      <td>XXXX</td>\n",
       "      <td>XX</td>\n",
       "      <td>56</td>\n",
       "    </tr>\n",
       "    <tr>\n",
       "      <th>3</th>\n",
       "      <td>1</td>\n",
       "      <td>AADHIRAN</td>\n",
       "      <td>2023</td>\n",
       "      <td>93</td>\n",
       "      <td>5</td>\n",
       "    </tr>\n",
       "    <tr>\n",
       "      <th>4</th>\n",
       "      <td>1</td>\n",
       "      <td>AADHIRAN</td>\n",
       "      <td>XXXX</td>\n",
       "      <td>XX</td>\n",
       "      <td>15</td>\n",
       "    </tr>\n",
       "  </tbody>\n",
       "</table>\n",
       "</div>"
      ],
      "text/plain": [
       "   sexe  preusuel annais dpt  nombre\n",
       "0     1         A   XXXX  XX      27\n",
       "1     1     AADAM   XXXX  XX      38\n",
       "2     1     AADEL   XXXX  XX      56\n",
       "3     1  AADHIRAN   2023  93       5\n",
       "4     1  AADHIRAN   XXXX  XX      15"
      ]
     },
     "execution_count": 5,
     "metadata": {},
     "output_type": "execute_result"
    }
   ],
   "source": [
    "frenchNames = NamesData.FranceNamesData(\"France\", \"france.csv\", \"https://www.insee.fr/fr/statistiques/8205621?sommaire=8205628#dictionnaire\", \";\")\n",
    "frenchNames.raw_df.head()"
   ]
  },
  {
   "cell_type": "code",
   "execution_count": 6,
   "metadata": {},
   "outputs": [
    {
     "name": "stdout",
     "output_type": "stream",
     "text": [
      "France : Data is clean and conforms to the expected structure !\n"
     ]
    },
    {
     "data": {
      "text/html": [
       "<div>\n",
       "<style scoped>\n",
       "    .dataframe tbody tr th:only-of-type {\n",
       "        vertical-align: middle;\n",
       "    }\n",
       "\n",
       "    .dataframe tbody tr th {\n",
       "        vertical-align: top;\n",
       "    }\n",
       "\n",
       "    .dataframe thead th {\n",
       "        text-align: right;\n",
       "    }\n",
       "</style>\n",
       "<table border=\"1\" class=\"dataframe\">\n",
       "  <thead>\n",
       "    <tr style=\"text-align: right;\">\n",
       "      <th></th>\n",
       "      <th>Year</th>\n",
       "      <th>Name</th>\n",
       "      <th>Sex</th>\n",
       "      <th>Count</th>\n",
       "    </tr>\n",
       "  </thead>\n",
       "  <tbody>\n",
       "    <tr>\n",
       "      <th>0</th>\n",
       "      <td>1900</td>\n",
       "      <td>ABEL</td>\n",
       "      <td>M</td>\n",
       "      <td>382</td>\n",
       "    </tr>\n",
       "    <tr>\n",
       "      <th>1</th>\n",
       "      <td>1900</td>\n",
       "      <td>MARIE-ANNE</td>\n",
       "      <td>F</td>\n",
       "      <td>42</td>\n",
       "    </tr>\n",
       "    <tr>\n",
       "      <th>2</th>\n",
       "      <td>1900</td>\n",
       "      <td>MARIE-ANTOINETTE</td>\n",
       "      <td>F</td>\n",
       "      <td>61</td>\n",
       "    </tr>\n",
       "    <tr>\n",
       "      <th>3</th>\n",
       "      <td>1900</td>\n",
       "      <td>MARIE-EUGENIE</td>\n",
       "      <td>F</td>\n",
       "      <td>3</td>\n",
       "    </tr>\n",
       "    <tr>\n",
       "      <th>4</th>\n",
       "      <td>1900</td>\n",
       "      <td>MARIE-FRANCOISE</td>\n",
       "      <td>F</td>\n",
       "      <td>20</td>\n",
       "    </tr>\n",
       "  </tbody>\n",
       "</table>\n",
       "</div>"
      ],
      "text/plain": [
       "   Year              Name Sex  Count\n",
       "0  1900              ABEL   M    382\n",
       "1  1900        MARIE-ANNE   F     42\n",
       "2  1900  MARIE-ANTOINETTE   F     61\n",
       "3  1900     MARIE-EUGENIE   F      3\n",
       "4  1900   MARIE-FRANCOISE   F     20"
      ]
     },
     "execution_count": 6,
     "metadata": {},
     "output_type": "execute_result"
    }
   ],
   "source": [
    "frenchNames.clean_raw_data()\n",
    "frenchNames.clean_df.head()"
   ]
  },
  {
   "cell_type": "code",
   "execution_count": 7,
   "metadata": {},
   "outputs": [
    {
     "name": "stdout",
     "output_type": "stream",
     "text": [
      "France : loaded 3884324 rows !\n",
      "France : Data is clean and conforms to the expected structure !\n",
      "France : Data is clean and conforms to the expected structure !\n",
      "France : Clean data has been and saved to data/clean/names/france.csv! (265468 rows)\n"
     ]
    }
   ],
   "source": [
    "frenchNames.pipeline()"
   ]
  },
  {
   "cell_type": "markdown",
   "metadata": {},
   "source": [
    "## Merging two ore more data classes "
   ]
  },
  {
   "cell_type": "code",
   "execution_count": 8,
   "metadata": {},
   "outputs": [
    {
     "name": "stdout",
     "output_type": "stream",
     "text": [
      "US : Data is clean and conforms to the expected structure !\n",
      "UK : Data is clean and conforms to the expected structure !\n",
      "France : Data is clean and conforms to the expected structure !\n",
      "US & UK & France : Data is clean and conforms to the expected structure !\n"
     ]
    },
    {
     "data": {
      "text/html": [
       "<div>\n",
       "<style scoped>\n",
       "    .dataframe tbody tr th:only-of-type {\n",
       "        vertical-align: middle;\n",
       "    }\n",
       "\n",
       "    .dataframe tbody tr th {\n",
       "        vertical-align: top;\n",
       "    }\n",
       "\n",
       "    .dataframe thead th {\n",
       "        text-align: right;\n",
       "    }\n",
       "</style>\n",
       "<table border=\"1\" class=\"dataframe\">\n",
       "  <thead>\n",
       "    <tr style=\"text-align: right;\">\n",
       "      <th></th>\n",
       "      <th>Year</th>\n",
       "      <th>Name</th>\n",
       "      <th>Sex</th>\n",
       "      <th>Count</th>\n",
       "    </tr>\n",
       "  </thead>\n",
       "  <tbody>\n",
       "    <tr>\n",
       "      <th>0</th>\n",
       "      <td>1880</td>\n",
       "      <td>AARON</td>\n",
       "      <td>M</td>\n",
       "      <td>102</td>\n",
       "    </tr>\n",
       "    <tr>\n",
       "      <th>1</th>\n",
       "      <td>1880</td>\n",
       "      <td>AB</td>\n",
       "      <td>M</td>\n",
       "      <td>5</td>\n",
       "    </tr>\n",
       "    <tr>\n",
       "      <th>2</th>\n",
       "      <td>1880</td>\n",
       "      <td>ABBIE</td>\n",
       "      <td>F</td>\n",
       "      <td>71</td>\n",
       "    </tr>\n",
       "    <tr>\n",
       "      <th>3</th>\n",
       "      <td>1880</td>\n",
       "      <td>ABBOTT</td>\n",
       "      <td>M</td>\n",
       "      <td>5</td>\n",
       "    </tr>\n",
       "    <tr>\n",
       "      <th>4</th>\n",
       "      <td>1880</td>\n",
       "      <td>ABBY</td>\n",
       "      <td>F</td>\n",
       "      <td>6</td>\n",
       "    </tr>\n",
       "  </tbody>\n",
       "</table>\n",
       "</div>"
      ],
      "text/plain": [
       "   Year    Name Sex  Count\n",
       "0  1880   AARON   M    102\n",
       "1  1880      AB   M      5\n",
       "2  1880   ABBIE   F     71\n",
       "3  1880  ABBOTT   M      5\n",
       "4  1880    ABBY   F      6"
      ]
     },
     "execution_count": 8,
     "metadata": {},
     "output_type": "execute_result"
    }
   ],
   "source": [
    "from src.utils.names_utils import *\n",
    "data = [usNames, ukNames, frenchNames]\n",
    "merged = merge_names_data(data)\n",
    "\n",
    "merged().head() # When we call the data name object, it returns the cleaned data"
   ]
  },
  {
   "cell_type": "code",
   "execution_count": 9,
   "metadata": {},
   "outputs": [
    {
     "name": "stdout",
     "output_type": "stream",
     "text": [
      "US & UK & France : Data is clean and conforms to the expected structure !\n",
      "US & UK & France : Clean data has been and saved to data/clean/names/US_UK_France.csv! (2227359 rows)\n",
      "The combined data contains  2227359  rows\n"
     ]
    }
   ],
   "source": [
    "merged.write_clean_data()\n",
    "print(\"The combined data contains \", len(merged.clean_df), \" rows\")"
   ]
  },
  {
   "cell_type": "code",
   "execution_count": 10,
   "metadata": {},
   "outputs": [
    {
     "name": "stderr",
     "output_type": "stream",
     "text": [
      "/home/jeremy/miniconda3/envs/ada/lib/python3.11/site-packages/tqdm/auto.py:21: TqdmWarning: IProgress not found. Please update jupyter and ipywidgets. See https://ipywidgets.readthedocs.io/en/stable/user_install.html\n",
      "  from .autonotebook import tqdm as notebook_tqdm\n",
      "Importing plotly failed. Interactive plots will not work.\n"
     ]
    },
    {
     "name": "stdout",
     "output_type": "stream",
     "text": [
      "US : Data is clean and conforms to the expected structure !\n"
     ]
    },
    {
     "data": {
      "image/png": "[encoded data removed]",
      "text/plain": [
       "<Figure size 640x480 with 1 Axes>"
      ]
     },
     "metadata": {},
     "output_type": "display_data"
    },
    {
     "data": {
      "text/html": [
       "<div>\n",
       "<style scoped>\n",
       "    .dataframe tbody tr th:only-of-type {\n",
       "        vertical-align: middle;\n",
       "    }\n",
       "\n",
       "    .dataframe tbody tr th {\n",
       "        vertical-align: top;\n",
       "    }\n",
       "\n",
       "    .dataframe thead th {\n",
       "        text-align: right;\n",
       "    }\n",
       "</style>\n",
       "<table border=\"1\" class=\"dataframe\">\n",
       "  <thead>\n",
       "    <tr style=\"text-align: right;\">\n",
       "      <th></th>\n",
       "      <th>Year</th>\n",
       "      <th>Predicted Count</th>\n",
       "      <th>True Count</th>\n",
       "    </tr>\n",
       "  </thead>\n",
       "  <tbody>\n",
       "    <tr>\n",
       "      <th>0</th>\n",
       "      <td>1961</td>\n",
       "      <td>2652.218215</td>\n",
       "      <td>2506</td>\n",
       "    </tr>\n",
       "    <tr>\n",
       "      <th>1</th>\n",
       "      <td>1962</td>\n",
       "      <td>2611.197051</td>\n",
       "      <td>2171</td>\n",
       "    </tr>\n",
       "    <tr>\n",
       "      <th>2</th>\n",
       "      <td>1963</td>\n",
       "      <td>2586.371267</td>\n",
       "      <td>1852</td>\n",
       "    </tr>\n",
       "    <tr>\n",
       "      <th>3</th>\n",
       "      <td>1964</td>\n",
       "      <td>2571.346840</td>\n",
       "      <td>1433</td>\n",
       "    </tr>\n",
       "    <tr>\n",
       "      <th>4</th>\n",
       "      <td>1965</td>\n",
       "      <td>2562.254138</td>\n",
       "      <td>1000</td>\n",
       "    </tr>\n",
       "  </tbody>\n",
       "</table>\n",
       "</div>"
      ],
      "text/plain": [
       "   Year  Predicted Count  True Count\n",
       "0  1961      2652.218215        2506\n",
       "1  1962      2611.197051        2171\n",
       "2  1963      2586.371267        1852\n",
       "3  1964      2571.346840        1433\n",
       "4  1965      2562.254138        1000"
      ]
     },
     "execution_count": 10,
     "metadata": {},
     "output_type": "execute_result"
    }
   ],
   "source": [
    "from src.models.naming_prediction import predict_naming_ARIMA, predict_naming_prophet\n",
    "\n",
    "predict_naming_ARIMA(usNames, \"BOB\", 1960, 5, True)\n"
   ]
  },
  {
   "cell_type": "code",
   "execution_count": 11,
   "metadata": {},
   "outputs": [
    {
     "name": "stdout",
     "output_type": "stream",
     "text": [
      "US : Data is clean and conforms to the expected structure !\n"
     ]
    },
    {
     "name": "stderr",
     "output_type": "stream",
     "text": [
      "10:46:52 - cmdstanpy - INFO - Chain [1] start processing\n",
      "10:46:52 - cmdstanpy - INFO - Chain [1] done processing\n"
     ]
    },
    {
     "data": {
      "image/png": "[encoded data removed]",
      "text/plain": [
       "<Figure size 640x480 with 1 Axes>"
      ]
     },
     "metadata": {},
     "output_type": "display_data"
    },
    {
     "data": {
      "text/html": [
       "<div>\n",
       "<style scoped>\n",
       "    .dataframe tbody tr th:only-of-type {\n",
       "        vertical-align: middle;\n",
       "    }\n",
       "\n",
       "    .dataframe tbody tr th {\n",
       "        vertical-align: top;\n",
       "    }\n",
       "\n",
       "    .dataframe thead th {\n",
       "        text-align: right;\n",
       "    }\n",
       "</style>\n",
       "<table border=\"1\" class=\"dataframe\">\n",
       "  <thead>\n",
       "    <tr style=\"text-align: right;\">\n",
       "      <th></th>\n",
       "      <th>Year</th>\n",
       "      <th>Predicted Count</th>\n",
       "      <th>yhat_lower</th>\n",
       "      <th>yhat_upper</th>\n",
       "    </tr>\n",
       "  </thead>\n",
       "  <tbody>\n",
       "    <tr>\n",
       "      <th>99</th>\n",
       "      <td>1978-12-31</td>\n",
       "      <td>763.855135</td>\n",
       "      <td>676.484249</td>\n",
       "      <td>852.361925</td>\n",
       "    </tr>\n",
       "    <tr>\n",
       "      <th>100</th>\n",
       "      <td>1979-12-31</td>\n",
       "      <td>781.656335</td>\n",
       "      <td>693.334577</td>\n",
       "      <td>880.523082</td>\n",
       "    </tr>\n",
       "    <tr>\n",
       "      <th>101</th>\n",
       "      <td>1980-12-31</td>\n",
       "      <td>812.556283</td>\n",
       "      <td>719.935307</td>\n",
       "      <td>899.968281</td>\n",
       "    </tr>\n",
       "    <tr>\n",
       "      <th>102</th>\n",
       "      <td>1981-12-31</td>\n",
       "      <td>831.056899</td>\n",
       "      <td>741.692392</td>\n",
       "      <td>919.481889</td>\n",
       "    </tr>\n",
       "    <tr>\n",
       "      <th>103</th>\n",
       "      <td>1982-12-31</td>\n",
       "      <td>849.197489</td>\n",
       "      <td>753.267842</td>\n",
       "      <td>950.607081</td>\n",
       "    </tr>\n",
       "    <tr>\n",
       "      <th>104</th>\n",
       "      <td>1983-12-31</td>\n",
       "      <td>866.998689</td>\n",
       "      <td>777.089000</td>\n",
       "      <td>959.191016</td>\n",
       "    </tr>\n",
       "    <tr>\n",
       "      <th>105</th>\n",
       "      <td>1984-12-31</td>\n",
       "      <td>897.898637</td>\n",
       "      <td>806.162220</td>\n",
       "      <td>987.206143</td>\n",
       "    </tr>\n",
       "    <tr>\n",
       "      <th>106</th>\n",
       "      <td>1985-12-31</td>\n",
       "      <td>916.399253</td>\n",
       "      <td>826.515211</td>\n",
       "      <td>1006.983128</td>\n",
       "    </tr>\n",
       "    <tr>\n",
       "      <th>107</th>\n",
       "      <td>1986-12-31</td>\n",
       "      <td>934.539843</td>\n",
       "      <td>843.986228</td>\n",
       "      <td>1026.099385</td>\n",
       "    </tr>\n",
       "  </tbody>\n",
       "</table>\n",
       "</div>"
      ],
      "text/plain": [
       "          Year  Predicted Count  yhat_lower   yhat_upper\n",
       "99  1978-12-31       763.855135  676.484249   852.361925\n",
       "100 1979-12-31       781.656335  693.334577   880.523082\n",
       "101 1980-12-31       812.556283  719.935307   899.968281\n",
       "102 1981-12-31       831.056899  741.692392   919.481889\n",
       "103 1982-12-31       849.197489  753.267842   950.607081\n",
       "104 1983-12-31       866.998689  777.089000   959.191016\n",
       "105 1984-12-31       897.898637  806.162220   987.206143\n",
       "106 1985-12-31       916.399253  826.515211  1006.983128\n",
       "107 1986-12-31       934.539843  843.986228  1026.099385"
      ]
     },
     "execution_count": 11,
     "metadata": {},
     "output_type": "execute_result"
    }
   ],
   "source": [
    "predict_naming_prophet(usNames, \"LUKE\", 1977, 10, True)"
   ]
  }
 ],
 "metadata": {
  "kernelspec": {
   "display_name": "ada",
   "language": "python",
   "name": "python3"
  },
  "language_info": {
   "codemirror_mode": {
    "name": "ipython",
    "version": 3
   },
   "file_extension": ".py",
   "mimetype": "text/x-python",
   "name": "python",
   "nbconvert_exporter": "python",
   "pygments_lexer": "ipython3",
   "version": "3.11.10"
  }
 },
 "nbformat": 4,
 "nbformat_minor": 2
}
