{
 "cells": [
  {
   "cell_type": "code",
   "execution_count": 2,
   "metadata": {},
   "outputs": [
    {
     "name": "stdout",
     "output_type": "stream",
     "text": [
      "Number of influenced names with mean diff:  1585\n"
     ]
    },
    {
     "data": {
      "text/html": [
       "<div>\n",
       "<style scoped>\n",
       "    .dataframe tbody tr th:only-of-type {\n",
       "        vertical-align: middle;\n",
       "    }\n",
       "\n",
       "    .dataframe tbody tr th {\n",
       "        vertical-align: top;\n",
       "    }\n",
       "\n",
       "    .dataframe thead th {\n",
       "        text-align: right;\n",
       "    }\n",
       "</style>\n",
       "<table border=\"1\" class=\"dataframe\">\n",
       "  <thead>\n",
       "    <tr style=\"text-align: right;\">\n",
       "      <th></th>\n",
       "      <th>Wikipedia ID</th>\n",
       "      <th>Movie Name</th>\n",
       "      <th>Year</th>\n",
       "      <th>Character Name</th>\n",
       "      <th>Count</th>\n",
       "      <th>Full name</th>\n",
       "      <th>Normalized_name</th>\n",
       "      <th>Influence</th>\n",
       "    </tr>\n",
       "  </thead>\n",
       "  <tbody>\n",
       "    <tr>\n",
       "      <th>0</th>\n",
       "      <td>31186339</td>\n",
       "      <td>the hunger games</td>\n",
       "      <td>2012</td>\n",
       "      <td>Katniss</td>\n",
       "      <td>4</td>\n",
       "      <td>Katniss</td>\n",
       "      <td>KATNISS</td>\n",
       "      <td>inf</td>\n",
       "    </tr>\n",
       "    <tr>\n",
       "      <th>1</th>\n",
       "      <td>22144721</td>\n",
       "      <td>iron man 2</td>\n",
       "      <td>2010</td>\n",
       "      <td>Stark</td>\n",
       "      <td>3</td>\n",
       "      <td>Howard Stark</td>\n",
       "      <td>STARK</td>\n",
       "      <td>inf</td>\n",
       "    </tr>\n",
       "    <tr>\n",
       "      <th>2</th>\n",
       "      <td>146947</td>\n",
       "      <td>spider-man</td>\n",
       "      <td>2002</td>\n",
       "      <td>Osborn</td>\n",
       "      <td>6</td>\n",
       "      <td>Harry Osborn</td>\n",
       "      <td>OSBORN</td>\n",
       "      <td>inf</td>\n",
       "    </tr>\n",
       "    <tr>\n",
       "      <th>4</th>\n",
       "      <td>443972</td>\n",
       "      <td>hook</td>\n",
       "      <td>1991</td>\n",
       "      <td>Banning</td>\n",
       "      <td>16</td>\n",
       "      <td>Peter Banning</td>\n",
       "      <td>BANNING</td>\n",
       "      <td>inf</td>\n",
       "    </tr>\n",
       "    <tr>\n",
       "      <th>5</th>\n",
       "      <td>537416</td>\n",
       "      <td>ace ventura: when nature calls</td>\n",
       "      <td>1995</td>\n",
       "      <td>Abbot</td>\n",
       "      <td>2</td>\n",
       "      <td>Grand Abbot</td>\n",
       "      <td>ABBOT</td>\n",
       "      <td>inf</td>\n",
       "    </tr>\n",
       "  </tbody>\n",
       "</table>\n",
       "</div>"
      ],
      "text/plain": [
       "   Wikipedia ID                      Movie Name  Year Character Name  Count  \\\n",
       "0      31186339                the hunger games  2012        Katniss      4   \n",
       "1      22144721                      iron man 2  2010          Stark      3   \n",
       "2        146947                      spider-man  2002         Osborn      6   \n",
       "4        443972                            hook  1991        Banning     16   \n",
       "5        537416  ace ventura: when nature calls  1995          Abbot      2   \n",
       "\n",
       "       Full name Normalized_name  Influence  \n",
       "0        Katniss         KATNISS        inf  \n",
       "1   Howard Stark           STARK        inf  \n",
       "2   Harry Osborn          OSBORN        inf  \n",
       "4  Peter Banning         BANNING        inf  \n",
       "5    Grand Abbot           ABBOT        inf  "
      ]
     },
     "execution_count": 2,
     "metadata": {},
     "output_type": "execute_result"
    }
   ],
   "source": [
    "import pandas as pd\n",
    "\n",
    "# prenoms inventés\n",
    "mean_diff = pd.read_csv(\"data/clean/influenced_names_means_diff.csv\")\n",
    "influenced_meandiff = mean_diff[mean_diff[\"Influence\"] > 0]\n",
    "# removing common identification mistakes such as \"the\", \"a\" or \"Mr\"\n",
    "influenced_meandiff = influenced_meandiff[~influenced_meandiff[\"Character Name\"].isin([\"the\", \"a\", \"Mr\"])]\n",
    "print(\"Number of influenced names with mean diff: \", len(influenced_meandiff))\n",
    "influenced_meandiff.head()\n",
    "\n"
   ]
  },
  {
   "cell_type": "code",
   "execution_count": 3,
   "metadata": {},
   "outputs": [
    {
     "name": "stdout",
     "output_type": "stream",
     "text": [
      "Number of influenced names with mean diff:  432\n"
     ]
    },
    {
     "data": {
      "text/html": [
       "<div>\n",
       "<style scoped>\n",
       "    .dataframe tbody tr th:only-of-type {\n",
       "        vertical-align: middle;\n",
       "    }\n",
       "\n",
       "    .dataframe tbody tr th {\n",
       "        vertical-align: top;\n",
       "    }\n",
       "\n",
       "    .dataframe thead th {\n",
       "        text-align: right;\n",
       "    }\n",
       "</style>\n",
       "<table border=\"1\" class=\"dataframe\">\n",
       "  <thead>\n",
       "    <tr style=\"text-align: right;\">\n",
       "      <th></th>\n",
       "      <th>Wikipedia ID</th>\n",
       "      <th>Movie Name</th>\n",
       "      <th>Year</th>\n",
       "      <th>Character Name</th>\n",
       "      <th>Count</th>\n",
       "      <th>Full name</th>\n",
       "      <th>Normalized_name</th>\n",
       "      <th>Mean Difference</th>\n",
       "      <th>Influenced</th>\n",
       "    </tr>\n",
       "  </thead>\n",
       "  <tbody>\n",
       "    <tr>\n",
       "      <th>0</th>\n",
       "      <td>451866</td>\n",
       "      <td>mission: impossible ii</td>\n",
       "      <td>2000</td>\n",
       "      <td>Ethan</td>\n",
       "      <td>18</td>\n",
       "      <td>Ethan Hunt</td>\n",
       "      <td>ETHAN</td>\n",
       "      <td>15725.466667</td>\n",
       "      <td>1</td>\n",
       "    </tr>\n",
       "    <tr>\n",
       "      <th>1</th>\n",
       "      <td>633411</td>\n",
       "      <td>the avengers</td>\n",
       "      <td>1998</td>\n",
       "      <td>Emma</td>\n",
       "      <td>15</td>\n",
       "      <td>Emma Peel</td>\n",
       "      <td>EMMA</td>\n",
       "      <td>14985.966667</td>\n",
       "      <td>1</td>\n",
       "    </tr>\n",
       "    <tr>\n",
       "      <th>2</th>\n",
       "      <td>3727473</td>\n",
       "      <td>man on fire</td>\n",
       "      <td>1987</td>\n",
       "      <td>Samantha</td>\n",
       "      <td>4</td>\n",
       "      <td>Samantha \"Sam\" Balletto</td>\n",
       "      <td>SAMANTHA</td>\n",
       "      <td>14453.500000</td>\n",
       "      <td>1</td>\n",
       "    </tr>\n",
       "    <tr>\n",
       "      <th>3</th>\n",
       "      <td>347000</td>\n",
       "      <td>suspiria</td>\n",
       "      <td>1977</td>\n",
       "      <td>Sarah</td>\n",
       "      <td>15</td>\n",
       "      <td>Sarah</td>\n",
       "      <td>SARAH</td>\n",
       "      <td>14372.466667</td>\n",
       "      <td>1</td>\n",
       "    </tr>\n",
       "    <tr>\n",
       "      <th>5</th>\n",
       "      <td>320401</td>\n",
       "      <td>barton fink</td>\n",
       "      <td>1991</td>\n",
       "      <td>Taylor</td>\n",
       "      <td>3</td>\n",
       "      <td>Audrey Taylor</td>\n",
       "      <td>TAYLOR</td>\n",
       "      <td>13892.100000</td>\n",
       "      <td>1</td>\n",
       "    </tr>\n",
       "  </tbody>\n",
       "</table>\n",
       "</div>"
      ],
      "text/plain": [
       "   Wikipedia ID              Movie Name  Year Character Name  Count  \\\n",
       "0        451866  mission: impossible ii  2000          Ethan     18   \n",
       "1        633411            the avengers  1998           Emma     15   \n",
       "2       3727473             man on fire  1987       Samantha      4   \n",
       "3        347000                suspiria  1977          Sarah     15   \n",
       "5        320401             barton fink  1991         Taylor      3   \n",
       "\n",
       "                 Full name Normalized_name  Mean Difference  Influenced  \n",
       "0               Ethan Hunt           ETHAN     15725.466667           1  \n",
       "1                Emma Peel            EMMA     14985.966667           1  \n",
       "2  Samantha \"Sam\" Balletto        SAMANTHA     14453.500000           1  \n",
       "3                    Sarah           SARAH     14372.466667           1  \n",
       "5            Audrey Taylor          TAYLOR     13892.100000           1  "
      ]
     },
     "execution_count": 3,
     "metadata": {},
     "output_type": "execute_result"
    }
   ],
   "source": [
    "# tous les prénoms influencés\n",
    "prophet = pd.read_csv(\"data/clean/influenced_names_prophet.csv\")\n",
    "influenced_prophet = prophet[prophet[\"Influenced\"] > 0]\n",
    "# removing common identification mistakes such as \"the\", \"a\" or \"Mr\"\n",
    "influenced_prophet = influenced_prophet[~influenced_prophet[\"Character Name\"].isin([\"the\", \"a\", \"Mr\"])]\n",
    "print(\"Number of influenced names with mean diff: \", len(influenced_prophet))\n",
    "influenced_prophet.head()"
   ]
  },
  {
   "cell_type": "code",
   "execution_count": 4,
   "metadata": {},
   "outputs": [
    {
     "name": "stdout",
     "output_type": "stream",
     "text": [
      "Number of significant names: 371\n"
     ]
    },
    {
     "data": {
      "text/html": [
       "<div>\n",
       "<style scoped>\n",
       "    .dataframe tbody tr th:only-of-type {\n",
       "        vertical-align: middle;\n",
       "    }\n",
       "\n",
       "    .dataframe tbody tr th {\n",
       "        vertical-align: top;\n",
       "    }\n",
       "\n",
       "    .dataframe thead th {\n",
       "        text-align: right;\n",
       "    }\n",
       "</style>\n",
       "<table border=\"1\" class=\"dataframe\">\n",
       "  <thead>\n",
       "    <tr style=\"text-align: right;\">\n",
       "      <th></th>\n",
       "      <th>Wikipedia ID</th>\n",
       "      <th>Movie Name</th>\n",
       "      <th>Year</th>\n",
       "      <th>Character Name</th>\n",
       "      <th>Count</th>\n",
       "      <th>Full name</th>\n",
       "      <th>Normalized_name</th>\n",
       "      <th>Influence</th>\n",
       "    </tr>\n",
       "  </thead>\n",
       "  <tbody>\n",
       "    <tr>\n",
       "      <th>151</th>\n",
       "      <td>451866</td>\n",
       "      <td>mission: impossible ii</td>\n",
       "      <td>2000</td>\n",
       "      <td>Ethan</td>\n",
       "      <td>18</td>\n",
       "      <td>Ethan Hunt</td>\n",
       "      <td>ETHAN</td>\n",
       "      <td>15725.466667</td>\n",
       "    </tr>\n",
       "    <tr>\n",
       "      <th>152</th>\n",
       "      <td>633411</td>\n",
       "      <td>the avengers</td>\n",
       "      <td>1998</td>\n",
       "      <td>Emma</td>\n",
       "      <td>15</td>\n",
       "      <td>Emma Peel</td>\n",
       "      <td>EMMA</td>\n",
       "      <td>14985.966667</td>\n",
       "    </tr>\n",
       "    <tr>\n",
       "      <th>153</th>\n",
       "      <td>3727473</td>\n",
       "      <td>man on fire</td>\n",
       "      <td>1987</td>\n",
       "      <td>Samantha</td>\n",
       "      <td>4</td>\n",
       "      <td>Samantha \"Sam\" Balletto</td>\n",
       "      <td>SAMANTHA</td>\n",
       "      <td>14453.500000</td>\n",
       "    </tr>\n",
       "    <tr>\n",
       "      <th>154</th>\n",
       "      <td>347000</td>\n",
       "      <td>suspiria</td>\n",
       "      <td>1977</td>\n",
       "      <td>Sarah</td>\n",
       "      <td>15</td>\n",
       "      <td>Sarah</td>\n",
       "      <td>SARAH</td>\n",
       "      <td>14372.466667</td>\n",
       "    </tr>\n",
       "    <tr>\n",
       "      <th>155</th>\n",
       "      <td>483274</td>\n",
       "      <td>point break</td>\n",
       "      <td>1991</td>\n",
       "      <td>Tyler</td>\n",
       "      <td>3</td>\n",
       "      <td>Tyler Endicott</td>\n",
       "      <td>TYLER</td>\n",
       "      <td>14176.666667</td>\n",
       "    </tr>\n",
       "  </tbody>\n",
       "</table>\n",
       "</div>"
      ],
      "text/plain": [
       "     Wikipedia ID              Movie Name  Year Character Name  Count  \\\n",
       "151        451866  mission: impossible ii  2000          Ethan     18   \n",
       "152        633411            the avengers  1998           Emma     15   \n",
       "153       3727473             man on fire  1987       Samantha      4   \n",
       "154        347000                suspiria  1977          Sarah     15   \n",
       "155        483274             point break  1991          Tyler      3   \n",
       "\n",
       "                   Full name Normalized_name     Influence  \n",
       "151               Ethan Hunt           ETHAN  15725.466667  \n",
       "152                Emma Peel            EMMA  14985.966667  \n",
       "153  Samantha \"Sam\" Balletto        SAMANTHA  14453.500000  \n",
       "154                    Sarah           SARAH  14372.466667  \n",
       "155           Tyler Endicott           TYLER  14176.666667  "
      ]
     },
     "execution_count": 4,
     "metadata": {},
     "output_type": "execute_result"
    }
   ],
   "source": [
    "#remove every non numeric value in mean diff\n",
    "mean_diff = mean_diff[mean_diff[\"Influence\"].apply(lambda x: str(x).replace(\".\", \"\").isdigit())]\n",
    "threshold = mean_diff['Influence'].quantile(0.75)\n",
    "\n",
    "significant_names = mean_diff[mean_diff['Influence'] > threshold]\n",
    "print(\"Number of significant names:\", len(significant_names))\n",
    "significant_names.head()"
   ]
  },
  {
   "cell_type": "code",
   "execution_count": 5,
   "metadata": {},
   "outputs": [
    {
     "data": {
      "text/html": [
       "<div>\n",
       "<style scoped>\n",
       "    .dataframe tbody tr th:only-of-type {\n",
       "        vertical-align: middle;\n",
       "    }\n",
       "\n",
       "    .dataframe tbody tr th {\n",
       "        vertical-align: top;\n",
       "    }\n",
       "\n",
       "    .dataframe thead th {\n",
       "        text-align: right;\n",
       "    }\n",
       "</style>\n",
       "<table border=\"1\" class=\"dataframe\">\n",
       "  <thead>\n",
       "    <tr style=\"text-align: right;\">\n",
       "      <th></th>\n",
       "      <th>Wikipedia_movie_ID</th>\n",
       "      <th>Movie_name</th>\n",
       "      <th>Release_date</th>\n",
       "      <th>Revenue</th>\n",
       "      <th>Runtime</th>\n",
       "      <th>Languages</th>\n",
       "      <th>Countries</th>\n",
       "      <th>Genres</th>\n",
       "      <th>weightedAverageRating</th>\n",
       "      <th>totalVotes</th>\n",
       "      <th>is_blockbuster</th>\n",
       "    </tr>\n",
       "  </thead>\n",
       "  <tbody>\n",
       "    <tr>\n",
       "      <th>0</th>\n",
       "      <td>29988427.0</td>\n",
       "      <td>!women art revolution</td>\n",
       "      <td>2010-01-01</td>\n",
       "      <td>NaN</td>\n",
       "      <td>0 days 01:23:00</td>\n",
       "      <td>English</td>\n",
       "      <td>United States of America, Canada</td>\n",
       "      <td>LGBT, History, Documentary</td>\n",
       "      <td>6.9</td>\n",
       "      <td>262.0</td>\n",
       "      <td>False</td>\n",
       "    </tr>\n",
       "  </tbody>\n",
       "</table>\n",
       "</div>"
      ],
      "text/plain": [
       "   Wikipedia_movie_ID             Movie_name Release_date  Revenue  \\\n",
       "0          29988427.0  !women art revolution   2010-01-01      NaN   \n",
       "\n",
       "           Runtime Languages                         Countries  \\\n",
       "0  0 days 01:23:00   English  United States of America, Canada   \n",
       "\n",
       "                       Genres  weightedAverageRating  totalVotes  \\\n",
       "0  LGBT, History, Documentary                    6.9       262.0   \n",
       "\n",
       "   is_blockbuster  \n",
       "0           False  "
      ]
     },
     "execution_count": 5,
     "metadata": {},
     "output_type": "execute_result"
    }
   ],
   "source": [
    "cmu_imdb_merged = pd.read_csv(\"data/clean/cmu_imdb_merged.csv\")\n",
    "cmu_imdb_merged.head(1)"
   ]
  },
  {
   "cell_type": "code",
   "execution_count": 6,
   "metadata": {},
   "outputs": [
    {
     "name": "stdout",
     "output_type": "stream",
     "text": [
      "Merged Dataset:\n"
     ]
    },
    {
     "data": {
      "text/html": [
       "<div>\n",
       "<style scoped>\n",
       "    .dataframe tbody tr th:only-of-type {\n",
       "        vertical-align: middle;\n",
       "    }\n",
       "\n",
       "    .dataframe tbody tr th {\n",
       "        vertical-align: top;\n",
       "    }\n",
       "\n",
       "    .dataframe thead th {\n",
       "        text-align: right;\n",
       "    }\n",
       "</style>\n",
       "<table border=\"1\" class=\"dataframe\">\n",
       "  <thead>\n",
       "    <tr style=\"text-align: right;\">\n",
       "      <th></th>\n",
       "      <th>Wikipedia ID</th>\n",
       "      <th>Movie Name</th>\n",
       "      <th>Year</th>\n",
       "      <th>Character Name</th>\n",
       "      <th>Count</th>\n",
       "      <th>Full name</th>\n",
       "      <th>Normalized_name</th>\n",
       "      <th>Mean Difference</th>\n",
       "      <th>Influenced</th>\n",
       "      <th>Wikipedia_movie_ID</th>\n",
       "      <th>Genres</th>\n",
       "    </tr>\n",
       "  </thead>\n",
       "  <tbody>\n",
       "    <tr>\n",
       "      <th>0</th>\n",
       "      <td>451866</td>\n",
       "      <td>mission: impossible ii</td>\n",
       "      <td>2000</td>\n",
       "      <td>Ethan</td>\n",
       "      <td>18</td>\n",
       "      <td>Ethan Hunt</td>\n",
       "      <td>ETHAN</td>\n",
       "      <td>15725.466667</td>\n",
       "      <td>1</td>\n",
       "      <td>451866.0</td>\n",
       "      <td>Thriller, Action Thrillers, Action/Adventure, ...</td>\n",
       "    </tr>\n",
       "  </tbody>\n",
       "</table>\n",
       "</div>"
      ],
      "text/plain": [
       "   Wikipedia ID              Movie Name  Year Character Name  Count  \\\n",
       "0        451866  mission: impossible ii  2000          Ethan     18   \n",
       "\n",
       "    Full name Normalized_name  Mean Difference  Influenced  \\\n",
       "0  Ethan Hunt           ETHAN     15725.466667           1   \n",
       "\n",
       "   Wikipedia_movie_ID                                             Genres  \n",
       "0            451866.0  Thriller, Action Thrillers, Action/Adventure, ...  "
      ]
     },
     "metadata": {},
     "output_type": "display_data"
    }
   ],
   "source": [
    "# Perform a merge based on 'Wikipedia ID' (from influenced_prophet) and 'Wikipedia_movie_ID' (from cmu_imdb_merged)\n",
    "merged_df = influenced_prophet.merge(\n",
    "    cmu_imdb_merged[['Wikipedia_movie_ID', 'Genres']],  # Keep only relevant columns\n",
    "    left_on=\"Wikipedia ID\", \n",
    "    right_on=\"Wikipedia_movie_ID\", \n",
    "    how=\"left\"\n",
    ")\n",
    "# Drop redundant column after the merge\n",
    "#merged_df.drop(columns=['Wikipedia_movie_ID'], inplace=True)\n",
    "\n",
    "# Display the result\n",
    "print(\"Merged Dataset:\")\n",
    "display(merged_df.head(1))\n",
    "\n",
    "# Save the new dataset with Genres\n",
    "#merged_df.to_csv(\"data/clean/influenced_prophet_with_genres.csv\", index=False)\n",
    "#print(\"Dataset saved successfully with Genres added!\")\n"
   ]
  },
  {
   "cell_type": "code",
   "execution_count": 7,
   "metadata": {},
   "outputs": [
    {
     "data": {
      "text/html": [
       "<div>\n",
       "<style scoped>\n",
       "    .dataframe tbody tr th:only-of-type {\n",
       "        vertical-align: middle;\n",
       "    }\n",
       "\n",
       "    .dataframe tbody tr th {\n",
       "        vertical-align: top;\n",
       "    }\n",
       "\n",
       "    .dataframe thead th {\n",
       "        text-align: right;\n",
       "    }\n",
       "</style>\n",
       "<table border=\"1\" class=\"dataframe\">\n",
       "  <thead>\n",
       "    <tr style=\"text-align: right;\">\n",
       "      <th></th>\n",
       "      <th>Wikipedia ID</th>\n",
       "      <th>Movie Name</th>\n",
       "      <th>Year</th>\n",
       "      <th>Character Name</th>\n",
       "      <th>Count</th>\n",
       "      <th>Full name</th>\n",
       "      <th>Normalized_name</th>\n",
       "      <th>Mean Difference</th>\n",
       "      <th>Influenced</th>\n",
       "      <th>Wikipedia_movie_ID</th>\n",
       "      <th>Genres</th>\n",
       "    </tr>\n",
       "  </thead>\n",
       "  <tbody>\n",
       "    <tr>\n",
       "      <th>0</th>\n",
       "      <td>451866</td>\n",
       "      <td>mission: impossible ii</td>\n",
       "      <td>2000</td>\n",
       "      <td>Ethan</td>\n",
       "      <td>18</td>\n",
       "      <td>Ethan Hunt</td>\n",
       "      <td>ETHAN</td>\n",
       "      <td>15725.466667</td>\n",
       "      <td>1</td>\n",
       "      <td>451866.0</td>\n",
       "      <td>[Thriller, Action Thrillers, Action/Adventure,...</td>\n",
       "    </tr>\n",
       "  </tbody>\n",
       "</table>\n",
       "</div>"
      ],
      "text/plain": [
       "   Wikipedia ID              Movie Name  Year Character Name  Count  \\\n",
       "0        451866  mission: impossible ii  2000          Ethan     18   \n",
       "\n",
       "    Full name Normalized_name  Mean Difference  Influenced  \\\n",
       "0  Ethan Hunt           ETHAN     15725.466667           1   \n",
       "\n",
       "   Wikipedia_movie_ID                                             Genres  \n",
       "0            451866.0  [Thriller, Action Thrillers, Action/Adventure,...  "
      ]
     },
     "execution_count": 7,
     "metadata": {},
     "output_type": "execute_result"
    }
   ],
   "source": [
    "merged_df['Genres'] = merged_df['Genres'].str.split(', ')\n",
    "merged_df.head(1)\n"
   ]
  },
  {
   "cell_type": "markdown",
   "metadata": {},
   "source": [
    "## Study of movie genre influence on names\n"
   ]
  },
  {
   "cell_type": "code",
   "execution_count": 8,
   "metadata": {},
   "outputs": [],
   "source": [
    "from src.models.trend_by_genres import *"
   ]
  },
  {
   "cell_type": "markdown",
   "metadata": {},
   "source": [
    "### Amplitude of influence"
   ]
  },
  {
   "cell_type": "code",
   "execution_count": 9,
   "metadata": {},
   "outputs": [
    {
     "data": {
      "text/html": [
       "<div>\n",
       "<style scoped>\n",
       "    .dataframe tbody tr th:only-of-type {\n",
       "        vertical-align: middle;\n",
       "    }\n",
       "\n",
       "    .dataframe tbody tr th {\n",
       "        vertical-align: top;\n",
       "    }\n",
       "\n",
       "    .dataframe thead th {\n",
       "        text-align: right;\n",
       "    }\n",
       "</style>\n",
       "<table border=\"1\" class=\"dataframe\">\n",
       "  <thead>\n",
       "    <tr style=\"text-align: right;\">\n",
       "      <th></th>\n",
       "      <th>Wikipedia ID</th>\n",
       "      <th>Movie_name</th>\n",
       "      <th>Year</th>\n",
       "      <th>Count</th>\n",
       "      <th>Full name</th>\n",
       "      <th>Normalized_name</th>\n",
       "      <th>Mean Difference</th>\n",
       "      <th>Genres</th>\n",
       "    </tr>\n",
       "  </thead>\n",
       "  <tbody>\n",
       "    <tr>\n",
       "      <th>0</th>\n",
       "      <td>451866</td>\n",
       "      <td>mission: impossible ii</td>\n",
       "      <td>2000</td>\n",
       "      <td>18</td>\n",
       "      <td>Ethan Hunt</td>\n",
       "      <td>ETHAN</td>\n",
       "      <td>15725.466667</td>\n",
       "      <td>Thriller</td>\n",
       "    </tr>\n",
       "    <tr>\n",
       "      <th>0</th>\n",
       "      <td>451866</td>\n",
       "      <td>mission: impossible ii</td>\n",
       "      <td>2000</td>\n",
       "      <td>18</td>\n",
       "      <td>Ethan Hunt</td>\n",
       "      <td>ETHAN</td>\n",
       "      <td>15725.466667</td>\n",
       "      <td>Action Thrillers</td>\n",
       "    </tr>\n",
       "    <tr>\n",
       "      <th>0</th>\n",
       "      <td>451866</td>\n",
       "      <td>mission: impossible ii</td>\n",
       "      <td>2000</td>\n",
       "      <td>18</td>\n",
       "      <td>Ethan Hunt</td>\n",
       "      <td>ETHAN</td>\n",
       "      <td>15725.466667</td>\n",
       "      <td>Action/Adventure</td>\n",
       "    </tr>\n",
       "    <tr>\n",
       "      <th>0</th>\n",
       "      <td>451866</td>\n",
       "      <td>mission: impossible ii</td>\n",
       "      <td>2000</td>\n",
       "      <td>18</td>\n",
       "      <td>Ethan Hunt</td>\n",
       "      <td>ETHAN</td>\n",
       "      <td>15725.466667</td>\n",
       "      <td>Glamorized Spy Film</td>\n",
       "    </tr>\n",
       "    <tr>\n",
       "      <th>0</th>\n",
       "      <td>451866</td>\n",
       "      <td>mission: impossible ii</td>\n",
       "      <td>2000</td>\n",
       "      <td>18</td>\n",
       "      <td>Ethan Hunt</td>\n",
       "      <td>ETHAN</td>\n",
       "      <td>15725.466667</td>\n",
       "      <td>Action</td>\n",
       "    </tr>\n",
       "  </tbody>\n",
       "</table>\n",
       "</div>"
      ],
      "text/plain": [
       "   Wikipedia ID              Movie_name  Year  Count   Full name  \\\n",
       "0        451866  mission: impossible ii  2000     18  Ethan Hunt   \n",
       "0        451866  mission: impossible ii  2000     18  Ethan Hunt   \n",
       "0        451866  mission: impossible ii  2000     18  Ethan Hunt   \n",
       "0        451866  mission: impossible ii  2000     18  Ethan Hunt   \n",
       "0        451866  mission: impossible ii  2000     18  Ethan Hunt   \n",
       "\n",
       "  Normalized_name  Mean Difference               Genres  \n",
       "0           ETHAN     15725.466667             Thriller  \n",
       "0           ETHAN     15725.466667     Action Thrillers  \n",
       "0           ETHAN     15725.466667     Action/Adventure  \n",
       "0           ETHAN     15725.466667  Glamorized Spy Film  \n",
       "0           ETHAN     15725.466667               Action  "
      ]
     },
     "execution_count": 9,
     "metadata": {},
     "output_type": "execute_result"
    }
   ],
   "source": [
    "exploded_df = load(\"data/clean/influenced_prophet_with_genres.csv\")\n",
    "exploded_df.head()"
   ]
  },
  {
   "cell_type": "code",
   "execution_count": 10,
   "metadata": {},
   "outputs": [
    {
     "data": {
      "text/html": [
       "<div>\n",
       "<style scoped>\n",
       "    .dataframe tbody tr th:only-of-type {\n",
       "        vertical-align: middle;\n",
       "    }\n",
       "\n",
       "    .dataframe tbody tr th {\n",
       "        vertical-align: top;\n",
       "    }\n",
       "\n",
       "    .dataframe thead th {\n",
       "        text-align: right;\n",
       "    }\n",
       "</style>\n",
       "<table border=\"1\" class=\"dataframe\">\n",
       "  <thead>\n",
       "    <tr style=\"text-align: right;\">\n",
       "      <th></th>\n",
       "      <th>Genres</th>\n",
       "      <th>Mean Difference</th>\n",
       "    </tr>\n",
       "  </thead>\n",
       "  <tbody>\n",
       "    <tr>\n",
       "      <th>176</th>\n",
       "      <td>Thriller</td>\n",
       "      <td>264148.016667</td>\n",
       "    </tr>\n",
       "    <tr>\n",
       "      <th>64</th>\n",
       "      <td>Drama</td>\n",
       "      <td>221542.266667</td>\n",
       "    </tr>\n",
       "    <tr>\n",
       "      <th>1</th>\n",
       "      <td>Action</td>\n",
       "      <td>220826.433333</td>\n",
       "    </tr>\n",
       "    <tr>\n",
       "      <th>39</th>\n",
       "      <td>Comedy</td>\n",
       "      <td>143556.933333</td>\n",
       "    </tr>\n",
       "    <tr>\n",
       "      <th>54</th>\n",
       "      <td>Crime Fiction</td>\n",
       "      <td>122131.833333</td>\n",
       "    </tr>\n",
       "    <tr>\n",
       "      <th>5</th>\n",
       "      <td>Adventure</td>\n",
       "      <td>112813.800000</td>\n",
       "    </tr>\n",
       "    <tr>\n",
       "      <th>144</th>\n",
       "      <td>Romance Film</td>\n",
       "      <td>108416.916667</td>\n",
       "    </tr>\n",
       "    <tr>\n",
       "      <th>152</th>\n",
       "      <td>Science Fiction</td>\n",
       "      <td>92833.933333</td>\n",
       "    </tr>\n",
       "    <tr>\n",
       "      <th>130</th>\n",
       "      <td>Period piece</td>\n",
       "      <td>83911.616667</td>\n",
       "    </tr>\n",
       "    <tr>\n",
       "      <th>102</th>\n",
       "      <td>Horror</td>\n",
       "      <td>83729.683333</td>\n",
       "    </tr>\n",
       "  </tbody>\n",
       "</table>\n",
       "</div>"
      ],
      "text/plain": [
       "              Genres  Mean Difference\n",
       "176         Thriller    264148.016667\n",
       "64             Drama    221542.266667\n",
       "1             Action    220826.433333\n",
       "39            Comedy    143556.933333\n",
       "54     Crime Fiction    122131.833333\n",
       "5          Adventure    112813.800000\n",
       "144     Romance Film    108416.916667\n",
       "152  Science Fiction     92833.933333\n",
       "130     Period piece     83911.616667\n",
       "102           Horror     83729.683333"
      ]
     },
     "execution_count": 10,
     "metadata": {},
     "output_type": "execute_result"
    }
   ],
   "source": [
    "genre_influence = get_top_genre_influence(exploded_df, top_n=10)\n",
    "genre_influence.head(10)"
   ]
  },
  {
   "cell_type": "code",
   "execution_count": 11,
   "metadata": {},
   "outputs": [
    {
     "data": {
      "application/vnd.plotly.v1+json": {
       "config": {
        "plotlyServerURL": "https://plot.ly"
       },
       "data": [
        {
         "alignmentgroup": "True",
         "hovertemplate": "Genres=%{x}<br>Total Influence Score=%{y}<extra></extra>",
         "legendgroup": "",
         "marker": {
          "color": "#636efa",
          "pattern": {
           "shape": ""
          }
         },
         "name": "",
         "offsetgroup": "",
         "orientation": "v",
         "showlegend": false,
         "textposition": "auto",
         "type": "bar",
         "x": [
          "Thriller",
          "Drama",
          "Action",
          "Comedy",
          "Crime Fiction",
          "Adventure",
          "Romance Film",
          "Science Fiction",
          "Period piece",
          "Horror"
         ],
         "xaxis": "x",
         "y": [
          264148.01666666666,
          221542.26666666666,
          220826.43333333335,
          143556.93333333332,
          122131.83333333333,
          112813.80000000002,
          108416.91666666667,
          92833.93333333333,
          83911.61666666667,
          83729.68333333333
         ],
         "yaxis": "y"
        }
       ],
       "layout": {
        "barmode": "relative",
        "legend": {
         "tracegroupgap": 0
        },
        "template": {
         "data": {
          "bar": [
           {
            "error_x": {
             "color": "#2a3f5f"
            },
            "error_y": {
             "color": "#2a3f5f"
            },
            "marker": {
             "line": {
              "color": "white",
              "width": 0.5
             },
             "pattern": {
              "fillmode": "overlay",
              "size": 10,
              "solidity": 0.2
             }
            },
            "type": "bar"
           }
          ],
          "barpolar": [
           {
            "marker": {
             "line": {
              "color": "white",
              "width": 0.5
             },
             "pattern": {
              "fillmode": "overlay",
              "size": 10,
              "solidity": 0.2
             }
            },
            "type": "barpolar"
           }
          ],
          "carpet": [
           {
            "aaxis": {
             "endlinecolor": "#2a3f5f",
             "gridcolor": "#C8D4E3",
             "linecolor": "#C8D4E3",
             "minorgridcolor": "#C8D4E3",
             "startlinecolor": "#2a3f5f"
            },
            "baxis": {
             "endlinecolor": "#2a3f5f",
             "gridcolor": "#C8D4E3",
             "linecolor": "#C8D4E3",
             "minorgridcolor": "#C8D4E3",
             "startlinecolor": "#2a3f5f"
            },
            "type": "carpet"
           }
          ],
          "choropleth": [
           {
            "colorbar": {
             "outlinewidth": 0,
             "ticks": ""
            },
            "type": "choropleth"
           }
          ],
          "contour": [
           {
            "colorbar": {
             "outlinewidth": 0,
             "ticks": ""
            },
            "colorscale": [
             [
              0,
              "#0d0887"
             ],
             [
              0.1111111111111111,
              "#46039f"
             ],
             [
              0.2222222222222222,
              "#7201a8"
             ],
             [
              0.3333333333333333,
              "#9c179e"
             ],
             [
              0.4444444444444444,
              "#bd3786"
             ],
             [
              0.5555555555555556,
              "#d8576b"
             ],
             [
              0.6666666666666666,
              "#ed7953"
             ],
             [
              0.7777777777777778,
              "#fb9f3a"
             ],
             [
              0.8888888888888888,
              "#fdca26"
             ],
             [
              1,
              "#f0f921"
             ]
            ],
            "type": "contour"
           }
          ],
          "contourcarpet": [
           {
            "colorbar": {
             "outlinewidth": 0,
             "ticks": ""
            },
            "type": "contourcarpet"
           }
          ],
          "heatmap": [
           {
            "colorbar": {
             "outlinewidth": 0,
             "ticks": ""
            },
            "colorscale": [
             [
              0,
              "#0d0887"
             ],
             [
              0.1111111111111111,
              "#46039f"
             ],
             [
              0.2222222222222222,
              "#7201a8"
             ],
             [
              0.3333333333333333,
              "#9c179e"
             ],
             [
              0.4444444444444444,
              "#bd3786"
             ],
             [
              0.5555555555555556,
              "#d8576b"
             ],
             [
              0.6666666666666666,
              "#ed7953"
             ],
             [
              0.7777777777777778,
              "#fb9f3a"
             ],
             [
              0.8888888888888888,
              "#fdca26"
             ],
             [
              1,
              "#f0f921"
             ]
            ],
            "type": "heatmap"
           }
          ],
          "heatmapgl": [
           {
            "colorbar": {
             "outlinewidth": 0,
             "ticks": ""
            },
            "colorscale": [
             [
              0,
              "#0d0887"
             ],
             [
              0.1111111111111111,
              "#46039f"
             ],
             [
              0.2222222222222222,
              "#7201a8"
             ],
             [
              0.3333333333333333,
              "#9c179e"
             ],
             [
              0.4444444444444444,
              "#bd3786"
             ],
             [
              0.5555555555555556,
              "#d8576b"
             ],
             [
              0.6666666666666666,
              "#ed7953"
             ],
             [
              0.7777777777777778,
              "#fb9f3a"
             ],
             [
              0.8888888888888888,
              "#fdca26"
             ],
             [
              1,
              "#f0f921"
             ]
            ],
            "type": "heatmapgl"
           }
          ],
          "histogram": [
           {
            "marker": {
             "pattern": {
              "fillmode": "overlay",
              "size": 10,
              "solidity": 0.2
             }
            },
            "type": "histogram"
           }
          ],
          "histogram2d": [
           {
            "colorbar": {
             "outlinewidth": 0,
             "ticks": ""
            },
            "colorscale": [
             [
              0,
              "#0d0887"
             ],
             [
              0.1111111111111111,
              "#46039f"
             ],
             [
              0.2222222222222222,
              "#7201a8"
             ],
             [
              0.3333333333333333,
              "#9c179e"
             ],
             [
              0.4444444444444444,
              "#bd3786"
             ],
             [
              0.5555555555555556,
              "#d8576b"
             ],
             [
              0.6666666666666666,
              "#ed7953"
             ],
             [
              0.7777777777777778,
              "#fb9f3a"
             ],
             [
              0.8888888888888888,
              "#fdca26"
             ],
             [
              1,
              "#f0f921"
             ]
            ],
            "type": "histogram2d"
           }
          ],
          "histogram2dcontour": [
           {
            "colorbar": {
             "outlinewidth": 0,
             "ticks": ""
            },
            "colorscale": [
             [
              0,
              "#0d0887"
             ],
             [
              0.1111111111111111,
              "#46039f"
             ],
             [
              0.2222222222222222,
              "#7201a8"
             ],
             [
              0.3333333333333333,
              "#9c179e"
             ],
             [
              0.4444444444444444,
              "#bd3786"
             ],
             [
              0.5555555555555556,
              "#d8576b"
             ],
             [
              0.6666666666666666,
              "#ed7953"
             ],
             [
              0.7777777777777778,
              "#fb9f3a"
             ],
             [
              0.8888888888888888,
              "#fdca26"
             ],
             [
              1,
              "#f0f921"
             ]
            ],
            "type": "histogram2dcontour"
           }
          ],
          "mesh3d": [
           {
            "colorbar": {
             "outlinewidth": 0,
             "ticks": ""
            },
            "type": "mesh3d"
           }
          ],
          "parcoords": [
           {
            "line": {
             "colorbar": {
              "outlinewidth": 0,
              "ticks": ""
             }
            },
            "type": "parcoords"
           }
          ],
          "pie": [
           {
            "automargin": true,
            "type": "pie"
           }
          ],
          "scatter": [
           {
            "fillpattern": {
             "fillmode": "overlay",
             "size": 10,
             "solidity": 0.2
            },
            "type": "scatter"
           }
          ],
          "scatter3d": [
           {
            "line": {
             "colorbar": {
              "outlinewidth": 0,
              "ticks": ""
             }
            },
            "marker": {
             "colorbar": {
              "outlinewidth": 0,
              "ticks": ""
             }
            },
            "type": "scatter3d"
           }
          ],
          "scattercarpet": [
           {
            "marker": {
             "colorbar": {
              "outlinewidth": 0,
              "ticks": ""
             }
            },
            "type": "scattercarpet"
           }
          ],
          "scattergeo": [
           {
            "marker": {
             "colorbar": {
              "outlinewidth": 0,
              "ticks": ""
             }
            },
            "type": "scattergeo"
           }
          ],
          "scattergl": [
           {
            "marker": {
             "colorbar": {
              "outlinewidth": 0,
              "ticks": ""
             }
            },
            "type": "scattergl"
           }
          ],
          "scattermapbox": [
           {
            "marker": {
             "colorbar": {
              "outlinewidth": 0,
              "ticks": ""
             }
            },
            "type": "scattermapbox"
           }
          ],
          "scatterpolar": [
           {
            "marker": {
             "colorbar": {
              "outlinewidth": 0,
              "ticks": ""
             }
            },
            "type": "scatterpolar"
           }
          ],
          "scatterpolargl": [
           {
            "marker": {
             "colorbar": {
              "outlinewidth": 0,
              "ticks": ""
             }
            },
            "type": "scatterpolargl"
           }
          ],
          "scatterternary": [
           {
            "marker": {
             "colorbar": {
              "outlinewidth": 0,
              "ticks": ""
             }
            },
            "type": "scatterternary"
           }
          ],
          "surface": [
           {
            "colorbar": {
             "outlinewidth": 0,
             "ticks": ""
            },
            "colorscale": [
             [
              0,
              "#0d0887"
             ],
             [
              0.1111111111111111,
              "#46039f"
             ],
             [
              0.2222222222222222,
              "#7201a8"
             ],
             [
              0.3333333333333333,
              "#9c179e"
             ],
             [
              0.4444444444444444,
              "#bd3786"
             ],
             [
              0.5555555555555556,
              "#d8576b"
             ],
             [
              0.6666666666666666,
              "#ed7953"
             ],
             [
              0.7777777777777778,
              "#fb9f3a"
             ],
             [
              0.8888888888888888,
              "#fdca26"
             ],
             [
              1,
              "#f0f921"
             ]
            ],
            "type": "surface"
           }
          ],
          "table": [
           {
            "cells": {
             "fill": {
              "color": "#EBF0F8"
             },
             "line": {
              "color": "white"
             }
            },
            "header": {
             "fill": {
              "color": "#C8D4E3"
             },
             "line": {
              "color": "white"
             }
            },
            "type": "table"
           }
          ]
         },
         "layout": {
          "annotationdefaults": {
           "arrowcolor": "#2a3f5f",
           "arrowhead": 0,
           "arrowwidth": 1
          },
          "autotypenumbers": "strict",
          "coloraxis": {
           "colorbar": {
            "outlinewidth": 0,
            "ticks": ""
           }
          },
          "colorscale": {
           "diverging": [
            [
             0,
             "#8e0152"
            ],
            [
             0.1,
             "#c51b7d"
            ],
            [
             0.2,
             "#de77ae"
            ],
            [
             0.3,
             "#f1b6da"
            ],
            [
             0.4,
             "#fde0ef"
            ],
            [
             0.5,
             "#f7f7f7"
            ],
            [
             0.6,
             "#e6f5d0"
            ],
            [
             0.7,
             "#b8e186"
            ],
            [
             0.8,
             "#7fbc41"
            ],
            [
             0.9,
             "#4d9221"
            ],
            [
             1,
             "#276419"
            ]
           ],
           "sequential": [
            [
             0,
             "#0d0887"
            ],
            [
             0.1111111111111111,
             "#46039f"
            ],
            [
             0.2222222222222222,
             "#7201a8"
            ],
            [
             0.3333333333333333,
             "#9c179e"
            ],
            [
             0.4444444444444444,
             "#bd3786"
            ],
            [
             0.5555555555555556,
             "#d8576b"
            ],
            [
             0.6666666666666666,
             "#ed7953"
            ],
            [
             0.7777777777777778,
             "#fb9f3a"
            ],
            [
             0.8888888888888888,
             "#fdca26"
            ],
            [
             1,
             "#f0f921"
            ]
           ],
           "sequentialminus": [
            [
             0,
             "#0d0887"
            ],
            [
             0.1111111111111111,
             "#46039f"
            ],
            [
             0.2222222222222222,
             "#7201a8"
            ],
            [
             0.3333333333333333,
             "#9c179e"
            ],
            [
             0.4444444444444444,
             "#bd3786"
            ],
            [
             0.5555555555555556,
             "#d8576b"
            ],
            [
             0.6666666666666666,
             "#ed7953"
            ],
            [
             0.7777777777777778,
             "#fb9f3a"
            ],
            [
             0.8888888888888888,
             "#fdca26"
            ],
            [
             1,
             "#f0f921"
            ]
           ]
          },
          "colorway": [
           "#636efa",
           "#EF553B",
           "#00cc96",
           "#ab63fa",
           "#FFA15A",
           "#19d3f3",
           "#FF6692",
           "#B6E880",
           "#FF97FF",
           "#FECB52"
          ],
          "font": {
           "color": "#2a3f5f"
          },
          "geo": {
           "bgcolor": "white",
           "lakecolor": "white",
           "landcolor": "white",
           "showlakes": true,
           "showland": true,
           "subunitcolor": "#C8D4E3"
          },
          "hoverlabel": {
           "align": "left"
          },
          "hovermode": "closest",
          "mapbox": {
           "style": "light"
          },
          "paper_bgcolor": "white",
          "plot_bgcolor": "white",
          "polar": {
           "angularaxis": {
            "gridcolor": "#EBF0F8",
            "linecolor": "#EBF0F8",
            "ticks": ""
           },
           "bgcolor": "white",
           "radialaxis": {
            "gridcolor": "#EBF0F8",
            "linecolor": "#EBF0F8",
            "ticks": ""
           }
          },
          "scene": {
           "xaxis": {
            "backgroundcolor": "white",
            "gridcolor": "#DFE8F3",
            "gridwidth": 2,
            "linecolor": "#EBF0F8",
            "showbackground": true,
            "ticks": "",
            "zerolinecolor": "#EBF0F8"
           },
           "yaxis": {
            "backgroundcolor": "white",
            "gridcolor": "#DFE8F3",
            "gridwidth": 2,
            "linecolor": "#EBF0F8",
            "showbackground": true,
            "ticks": "",
            "zerolinecolor": "#EBF0F8"
           },
           "zaxis": {
            "backgroundcolor": "white",
            "gridcolor": "#DFE8F3",
            "gridwidth": 2,
            "linecolor": "#EBF0F8",
            "showbackground": true,
            "ticks": "",
            "zerolinecolor": "#EBF0F8"
           }
          },
          "shapedefaults": {
           "line": {
            "color": "#2a3f5f"
           }
          },
          "ternary": {
           "aaxis": {
            "gridcolor": "#DFE8F3",
            "linecolor": "#A2B1C6",
            "ticks": ""
           },
           "baxis": {
            "gridcolor": "#DFE8F3",
            "linecolor": "#A2B1C6",
            "ticks": ""
           },
           "bgcolor": "white",
           "caxis": {
            "gridcolor": "#DFE8F3",
            "linecolor": "#A2B1C6",
            "ticks": ""
           }
          },
          "title": {
           "x": 0.05
          },
          "xaxis": {
           "automargin": true,
           "gridcolor": "#EBF0F8",
           "linecolor": "#EBF0F8",
           "ticks": "",
           "title": {
            "standoff": 15
           },
           "zerolinecolor": "#EBF0F8",
           "zerolinewidth": 2
          },
          "yaxis": {
           "automargin": true,
           "gridcolor": "#EBF0F8",
           "linecolor": "#EBF0F8",
           "ticks": "",
           "title": {
            "standoff": 15
           },
           "zerolinecolor": "#EBF0F8",
           "zerolinewidth": 2
          }
         }
        },
        "title": {
         "text": "Top 10 Most Influential Movie Genres on Names"
        },
        "xaxis": {
         "anchor": "y",
         "domain": [
          0,
          1
         ],
         "title": {
          "text": "Genres"
         }
        },
        "yaxis": {
         "anchor": "x",
         "domain": [
          0,
          1
         ],
         "title": {
          "text": "Total Influence Score"
         }
        }
       }
      }
     },
     "metadata": {},
     "output_type": "display_data"
    }
   ],
   "source": [
    "plot_top_genres(genre_influence)"
   ]
  },
  {
   "cell_type": "code",
   "execution_count": 12,
   "metadata": {},
   "outputs": [
    {
     "data": {
      "text/html": [
       "<div>\n",
       "<style scoped>\n",
       "    .dataframe tbody tr th:only-of-type {\n",
       "        vertical-align: middle;\n",
       "    }\n",
       "\n",
       "    .dataframe tbody tr th {\n",
       "        vertical-align: top;\n",
       "    }\n",
       "\n",
       "    .dataframe thead th {\n",
       "        text-align: right;\n",
       "    }\n",
       "</style>\n",
       "<table border=\"1\" class=\"dataframe\">\n",
       "  <thead>\n",
       "    <tr style=\"text-align: right;\">\n",
       "      <th></th>\n",
       "      <th>Wikipedia ID</th>\n",
       "      <th>Movie_name</th>\n",
       "      <th>Year</th>\n",
       "      <th>Count</th>\n",
       "      <th>Full name</th>\n",
       "      <th>Normalized_name</th>\n",
       "      <th>Mean Difference</th>\n",
       "      <th>Genres</th>\n",
       "    </tr>\n",
       "  </thead>\n",
       "  <tbody>\n",
       "    <tr>\n",
       "      <th>0</th>\n",
       "      <td>451866</td>\n",
       "      <td>mission: impossible ii</td>\n",
       "      <td>2000</td>\n",
       "      <td>18</td>\n",
       "      <td>Ethan Hunt</td>\n",
       "      <td>ETHAN</td>\n",
       "      <td>15725.466667</td>\n",
       "      <td>Action</td>\n",
       "    </tr>\n",
       "    <tr>\n",
       "      <th>1</th>\n",
       "      <td>633411</td>\n",
       "      <td>the avengers</td>\n",
       "      <td>1998</td>\n",
       "      <td>15</td>\n",
       "      <td>Emma Peel</td>\n",
       "      <td>EMMA</td>\n",
       "      <td>14985.966667</td>\n",
       "      <td>Action</td>\n",
       "    </tr>\n",
       "    <tr>\n",
       "      <th>2</th>\n",
       "      <td>3727473</td>\n",
       "      <td>man on fire</td>\n",
       "      <td>1987</td>\n",
       "      <td>4</td>\n",
       "      <td>Samantha \"Sam\" Balletto</td>\n",
       "      <td>SAMANTHA</td>\n",
       "      <td>14453.500000</td>\n",
       "      <td>Action</td>\n",
       "    </tr>\n",
       "    <tr>\n",
       "      <th>1</th>\n",
       "      <td>633411</td>\n",
       "      <td>the avengers</td>\n",
       "      <td>1998</td>\n",
       "      <td>15</td>\n",
       "      <td>Emma Peel</td>\n",
       "      <td>EMMA</td>\n",
       "      <td>14985.966667</td>\n",
       "      <td>Adventure</td>\n",
       "    </tr>\n",
       "    <tr>\n",
       "      <th>6</th>\n",
       "      <td>142417</td>\n",
       "      <td>apollo 13</td>\n",
       "      <td>1995</td>\n",
       "      <td>8</td>\n",
       "      <td>Jack Swigert</td>\n",
       "      <td>JACK</td>\n",
       "      <td>12508.133333</td>\n",
       "      <td>Adventure</td>\n",
       "    </tr>\n",
       "    <tr>\n",
       "      <th>7</th>\n",
       "      <td>268833</td>\n",
       "      <td>goldeneye</td>\n",
       "      <td>1995</td>\n",
       "      <td>4</td>\n",
       "      <td>Jack Wade</td>\n",
       "      <td>JACK</td>\n",
       "      <td>12508.133333</td>\n",
       "      <td>Adventure</td>\n",
       "    </tr>\n",
       "    <tr>\n",
       "      <th>1</th>\n",
       "      <td>633411</td>\n",
       "      <td>the avengers</td>\n",
       "      <td>1998</td>\n",
       "      <td>15</td>\n",
       "      <td>Emma Peel</td>\n",
       "      <td>EMMA</td>\n",
       "      <td>14985.966667</td>\n",
       "      <td>Comedy</td>\n",
       "    </tr>\n",
       "    <tr>\n",
       "      <th>4</th>\n",
       "      <td>320401</td>\n",
       "      <td>barton fink</td>\n",
       "      <td>1991</td>\n",
       "      <td>3</td>\n",
       "      <td>Audrey Taylor</td>\n",
       "      <td>TAYLOR</td>\n",
       "      <td>13892.100000</td>\n",
       "      <td>Comedy</td>\n",
       "    </tr>\n",
       "    <tr>\n",
       "      <th>11</th>\n",
       "      <td>685977</td>\n",
       "      <td>sixteen candles</td>\n",
       "      <td>1984</td>\n",
       "      <td>14</td>\n",
       "      <td>Samantha \"Sam\" Baker</td>\n",
       "      <td>SAMANTHA</td>\n",
       "      <td>10643.533333</td>\n",
       "      <td>Comedy</td>\n",
       "    </tr>\n",
       "    <tr>\n",
       "      <th>8</th>\n",
       "      <td>167857</td>\n",
       "      <td>the usual suspects</td>\n",
       "      <td>1995</td>\n",
       "      <td>3</td>\n",
       "      <td>Jack Baer</td>\n",
       "      <td>JACK</td>\n",
       "      <td>12508.133333</td>\n",
       "      <td>Crime Fiction</td>\n",
       "    </tr>\n",
       "  </tbody>\n",
       "</table>\n",
       "</div>"
      ],
      "text/plain": [
       "    Wikipedia ID              Movie_name  Year  Count  \\\n",
       "0         451866  mission: impossible ii  2000     18   \n",
       "1         633411            the avengers  1998     15   \n",
       "2        3727473             man on fire  1987      4   \n",
       "1         633411            the avengers  1998     15   \n",
       "6         142417               apollo 13  1995      8   \n",
       "7         268833               goldeneye  1995      4   \n",
       "1         633411            the avengers  1998     15   \n",
       "4         320401             barton fink  1991      3   \n",
       "11        685977         sixteen candles  1984     14   \n",
       "8         167857      the usual suspects  1995      3   \n",
       "\n",
       "                  Full name Normalized_name  Mean Difference         Genres  \n",
       "0                Ethan Hunt           ETHAN     15725.466667         Action  \n",
       "1                 Emma Peel            EMMA     14985.966667         Action  \n",
       "2   Samantha \"Sam\" Balletto        SAMANTHA     14453.500000         Action  \n",
       "1                 Emma Peel            EMMA     14985.966667      Adventure  \n",
       "6              Jack Swigert            JACK     12508.133333      Adventure  \n",
       "7                 Jack Wade            JACK     12508.133333      Adventure  \n",
       "1                 Emma Peel            EMMA     14985.966667         Comedy  \n",
       "4             Audrey Taylor          TAYLOR     13892.100000         Comedy  \n",
       "11     Samantha \"Sam\" Baker        SAMANTHA     10643.533333         Comedy  \n",
       "8                 Jack Baer            JACK     12508.133333  Crime Fiction  "
      ]
     },
     "execution_count": 12,
     "metadata": {},
     "output_type": "execute_result"
    }
   ],
   "source": [
    "top_names_by_genre = get_top_names_by_genre(exploded_df)\n",
    "# remove the genre \n",
    "\n",
    "top_names_by_genre.head(10)"
   ]
  },
  {
   "cell_type": "code",
   "execution_count": 13,
   "metadata": {},
   "outputs": [
    {
     "data": {
      "application/vnd.plotly.v1+json": {
       "config": {
        "plotlyServerURL": "https://plot.ly"
       },
       "data": [
        {
         "branchvalues": "total",
         "customdata": [
          [
           "Die Hard",
           "Crime Fiction"
          ],
          [
           "Terminator 2: Judgment Day",
           "Science Fiction"
          ],
          [
           "The Avengers",
           "Action"
          ],
          [
           "The Avengers",
           "Adventure"
          ],
          [
           "The Avengers",
           "Comedy"
          ],
          [
           "The Avengers",
           "Thriller"
          ],
          [
           "Mission: Impossible Ii",
           "Action"
          ],
          [
           "Mission: Impossible Ii",
           "Thriller"
          ],
          [
           "(?)",
           "Adventure"
          ],
          [
           "(?)",
           "Crime Fiction"
          ],
          [
           "Apollo 13",
           "Drama"
          ],
          [
           "Bram Stoker'S Dracula",
           "Horror"
          ],
          [
           "Titanic",
           "Romance Film"
          ],
          [
           "Dracula",
           "Horror"
          ],
          [
           "Titanic",
           "Period piece"
          ],
          [
           "Superman",
           "Science Fiction"
          ],
          [
           "The Terminator",
           "Science Fiction"
          ],
          [
           "Love Actually",
           "Romance Film"
          ],
          [
           "The Notebook",
           "Period piece"
          ],
          [
           "Man On Fire",
           "Action"
          ],
          [
           "Sixteen Candles",
           "Comedy"
          ],
          [
           "Man On Fire",
           "Drama"
          ],
          [
           "Sixteen Candles",
           "Romance Film"
          ],
          [
           "Man On Fire",
           "Thriller"
          ],
          [
           "Suspiria",
           "Horror"
          ],
          [
           "Barton Fink",
           "Comedy"
          ],
          [
           "Barton Fink",
           "Drama"
          ],
          [
           "(?)",
           "Action"
          ],
          [
           "Barton Fink",
           "Period piece"
          ],
          [
           "(?)",
           "Adventure"
          ],
          [
           "(?)",
           "Comedy"
          ],
          [
           "(?)",
           "Crime Fiction"
          ],
          [
           "(?)",
           "Drama"
          ],
          [
           "(?)",
           "Horror"
          ],
          [
           "(?)",
           "Period piece"
          ],
          [
           "(?)",
           "Romance Film"
          ],
          [
           "(?)",
           "Science Fiction"
          ],
          [
           "(?)",
           "Thriller"
          ]
         ],
         "domain": {
          "x": [
           0,
           1
          ],
          "y": [
           0,
           1
          ]
         },
         "hovertemplate": "<b>%{label}</b><br>%{customdata[0]}<extra></extra>",
         "ids": [
          "Crime Fiction/ALEXANDER",
          "Science Fiction/CONNOR",
          "Action/EMMA",
          "Adventure/EMMA",
          "Comedy/EMMA",
          "Thriller/EMMA",
          "Action/ETHAN",
          "Thriller/ETHAN",
          "Adventure/JACK",
          "Crime Fiction/JACK",
          "Drama/JACK",
          "Horror/JACK",
          "Romance Film/JACK",
          "Horror/JONATHAN",
          "Period piece/JACK",
          "Science Fiction/JONATHAN",
          "Science Fiction/KYLE",
          "Romance Film/MIA",
          "Period piece/NOAH",
          "Action/SAMANTHA",
          "Comedy/SAMANTHA",
          "Drama/SAMANTHA",
          "Romance Film/SAMANTHA",
          "Thriller/SAMANTHA",
          "Horror/SARAH",
          "Comedy/TAYLOR",
          "Drama/TAYLOR",
          "Action",
          "Period piece/TAYLOR",
          "Adventure",
          "Comedy",
          "Crime Fiction",
          "Drama",
          "Horror",
          "Period piece",
          "Romance Film",
          "Science Fiction",
          "Thriller"
         ],
         "labels": [
          "ALEXANDER",
          "CONNOR",
          "EMMA",
          "EMMA",
          "EMMA",
          "EMMA",
          "ETHAN",
          "ETHAN",
          "JACK",
          "JACK",
          "JACK",
          "JACK",
          "JACK",
          "JONATHAN",
          "JACK",
          "JONATHAN",
          "KYLE",
          "MIA",
          "NOAH",
          "SAMANTHA",
          "SAMANTHA",
          "SAMANTHA",
          "SAMANTHA",
          "SAMANTHA",
          "SARAH",
          "TAYLOR",
          "TAYLOR",
          "Action",
          "TAYLOR",
          "Adventure",
          "Comedy",
          "Crime Fiction",
          "Drama",
          "Horror",
          "Period piece",
          "Romance Film",
          "Science Fiction",
          "Thriller"
         ],
         "marker": {
          "colors": [
           "#636efa",
           "#EF553B",
           "#00cc96",
           "#ab63fa",
           "#FFA15A",
           "#19d3f3",
           "#00cc96",
           "#19d3f3",
           "#ab63fa",
           "#636efa",
           "#FF6692",
           "#B6E880",
           "#FF97FF",
           "#B6E880",
           "#FECB52",
           "#EF553B",
           "#EF553B",
           "#FF97FF",
           "#FECB52",
           "#00cc96",
           "#FFA15A",
           "#FF6692",
           "#FF97FF",
           "#19d3f3",
           "#B6E880",
           "#FFA15A",
           "#FF6692",
           "#00cc96",
           "#FECB52",
           "#ab63fa",
           "#FFA15A",
           "#636efa",
           "#FF6692",
           "#B6E880",
           "#FECB52",
           "#FF97FF",
           "#EF553B",
           "#19d3f3"
          ]
         },
         "name": "",
         "parents": [
          "Crime Fiction",
          "Science Fiction",
          "Action",
          "Adventure",
          "Comedy",
          "Thriller",
          "Action",
          "Thriller",
          "Adventure",
          "Crime Fiction",
          "Drama",
          "Horror",
          "Romance Film",
          "Horror",
          "Period piece",
          "Science Fiction",
          "Science Fiction",
          "Romance Film",
          "Period piece",
          "Action",
          "Comedy",
          "Drama",
          "Romance Film",
          "Thriller",
          "Horror",
          "Comedy",
          "Drama",
          "",
          "Period piece",
          "",
          "",
          "",
          "",
          "",
          "",
          "",
          "",
          ""
         ],
         "type": "treemap",
         "values": [
          8733.633333333331,
          6015.1,
          14985.966666666667,
          14985.966666666667,
          14985.966666666667,
          14985.966666666667,
          15725.466666666667,
          15725.466666666667,
          25016.266666666674,
          22796.333333333336,
          12508.133333333337,
          5517.866666666667,
          12348.266666666668,
          13219.566666666668,
          12348.266666666668,
          10878.166666666668,
          10607.133333333331,
          7789.1,
          6105.4,
          14453.5,
          10643.533333333333,
          14453.5,
          10643.533333333333,
          14453.5,
          14372.466666666667,
          13892.1,
          13892.1,
          45164.933333333334,
          13892.1,
          40002.23333333334,
          39521.6,
          31529.966666666667,
          40853.73333333334,
          33109.9,
          32345.76666666667,
          30780.9,
          27500.4,
          45164.933333333334
         ]
        }
       ],
       "layout": {
        "legend": {
         "tracegroupgap": 0
        },
        "template": {
         "data": {
          "bar": [
           {
            "error_x": {
             "color": "#2a3f5f"
            },
            "error_y": {
             "color": "#2a3f5f"
            },
            "marker": {
             "line": {
              "color": "white",
              "width": 0.5
             },
             "pattern": {
              "fillmode": "overlay",
              "size": 10,
              "solidity": 0.2
             }
            },
            "type": "bar"
           }
          ],
          "barpolar": [
           {
            "marker": {
             "line": {
              "color": "white",
              "width": 0.5
             },
             "pattern": {
              "fillmode": "overlay",
              "size": 10,
              "solidity": 0.2
             }
            },
            "type": "barpolar"
           }
          ],
          "carpet": [
           {
            "aaxis": {
             "endlinecolor": "#2a3f5f",
             "gridcolor": "#C8D4E3",
             "linecolor": "#C8D4E3",
             "minorgridcolor": "#C8D4E3",
             "startlinecolor": "#2a3f5f"
            },
            "baxis": {
             "endlinecolor": "#2a3f5f",
             "gridcolor": "#C8D4E3",
             "linecolor": "#C8D4E3",
             "minorgridcolor": "#C8D4E3",
             "startlinecolor": "#2a3f5f"
            },
            "type": "carpet"
           }
          ],
          "choropleth": [
           {
            "colorbar": {
             "outlinewidth": 0,
             "ticks": ""
            },
            "type": "choropleth"
           }
          ],
          "contour": [
           {
            "colorbar": {
             "outlinewidth": 0,
             "ticks": ""
            },
            "colorscale": [
             [
              0,
              "#0d0887"
             ],
             [
              0.1111111111111111,
              "#46039f"
             ],
             [
              0.2222222222222222,
              "#7201a8"
             ],
             [
              0.3333333333333333,
              "#9c179e"
             ],
             [
              0.4444444444444444,
              "#bd3786"
             ],
             [
              0.5555555555555556,
              "#d8576b"
             ],
             [
              0.6666666666666666,
              "#ed7953"
             ],
             [
              0.7777777777777778,
              "#fb9f3a"
             ],
             [
              0.8888888888888888,
              "#fdca26"
             ],
             [
              1,
              "#f0f921"
             ]
            ],
            "type": "contour"
           }
          ],
          "contourcarpet": [
           {
            "colorbar": {
             "outlinewidth": 0,
             "ticks": ""
            },
            "type": "contourcarpet"
           }
          ],
          "heatmap": [
           {
            "colorbar": {
             "outlinewidth": 0,
             "ticks": ""
            },
            "colorscale": [
             [
              0,
              "#0d0887"
             ],
             [
              0.1111111111111111,
              "#46039f"
             ],
             [
              0.2222222222222222,
              "#7201a8"
             ],
             [
              0.3333333333333333,
              "#9c179e"
             ],
             [
              0.4444444444444444,
              "#bd3786"
             ],
             [
              0.5555555555555556,
              "#d8576b"
             ],
             [
              0.6666666666666666,
              "#ed7953"
             ],
             [
              0.7777777777777778,
              "#fb9f3a"
             ],
             [
              0.8888888888888888,
              "#fdca26"
             ],
             [
              1,
              "#f0f921"
             ]
            ],
            "type": "heatmap"
           }
          ],
          "heatmapgl": [
           {
            "colorbar": {
             "outlinewidth": 0,
             "ticks": ""
            },
            "colorscale": [
             [
              0,
              "#0d0887"
             ],
             [
              0.1111111111111111,
              "#46039f"
             ],
             [
              0.2222222222222222,
              "#7201a8"
             ],
             [
              0.3333333333333333,
              "#9c179e"
             ],
             [
              0.4444444444444444,
              "#bd3786"
             ],
             [
              0.5555555555555556,
              "#d8576b"
             ],
             [
              0.6666666666666666,
              "#ed7953"
             ],
             [
              0.7777777777777778,
              "#fb9f3a"
             ],
             [
              0.8888888888888888,
              "#fdca26"
             ],
             [
              1,
              "#f0f921"
             ]
            ],
            "type": "heatmapgl"
           }
          ],
          "histogram": [
           {
            "marker": {
             "pattern": {
              "fillmode": "overlay",
              "size": 10,
              "solidity": 0.2
             }
            },
            "type": "histogram"
           }
          ],
          "histogram2d": [
           {
            "colorbar": {
             "outlinewidth": 0,
             "ticks": ""
            },
            "colorscale": [
             [
              0,
              "#0d0887"
             ],
             [
              0.1111111111111111,
              "#46039f"
             ],
             [
              0.2222222222222222,
              "#7201a8"
             ],
             [
              0.3333333333333333,
              "#9c179e"
             ],
             [
              0.4444444444444444,
              "#bd3786"
             ],
             [
              0.5555555555555556,
              "#d8576b"
             ],
             [
              0.6666666666666666,
              "#ed7953"
             ],
             [
              0.7777777777777778,
              "#fb9f3a"
             ],
             [
              0.8888888888888888,
              "#fdca26"
             ],
             [
              1,
              "#f0f921"
             ]
            ],
            "type": "histogram2d"
           }
          ],
          "histogram2dcontour": [
           {
            "colorbar": {
             "outlinewidth": 0,
             "ticks": ""
            },
            "colorscale": [
             [
              0,
              "#0d0887"
             ],
             [
              0.1111111111111111,
              "#46039f"
             ],
             [
              0.2222222222222222,
              "#7201a8"
             ],
             [
              0.3333333333333333,
              "#9c179e"
             ],
             [
              0.4444444444444444,
              "#bd3786"
             ],
             [
              0.5555555555555556,
              "#d8576b"
             ],
             [
              0.6666666666666666,
              "#ed7953"
             ],
             [
              0.7777777777777778,
              "#fb9f3a"
             ],
             [
              0.8888888888888888,
              "#fdca26"
             ],
             [
              1,
              "#f0f921"
             ]
            ],
            "type": "histogram2dcontour"
           }
          ],
          "mesh3d": [
           {
            "colorbar": {
             "outlinewidth": 0,
             "ticks": ""
            },
            "type": "mesh3d"
           }
          ],
          "parcoords": [
           {
            "line": {
             "colorbar": {
              "outlinewidth": 0,
              "ticks": ""
             }
            },
            "type": "parcoords"
           }
          ],
          "pie": [
           {
            "automargin": true,
            "type": "pie"
           }
          ],
          "scatter": [
           {
            "fillpattern": {
             "fillmode": "overlay",
             "size": 10,
             "solidity": 0.2
            },
            "type": "scatter"
           }
          ],
          "scatter3d": [
           {
            "line": {
             "colorbar": {
              "outlinewidth": 0,
              "ticks": ""
             }
            },
            "marker": {
             "colorbar": {
              "outlinewidth": 0,
              "ticks": ""
             }
            },
            "type": "scatter3d"
           }
          ],
          "scattercarpet": [
           {
            "marker": {
             "colorbar": {
              "outlinewidth": 0,
              "ticks": ""
             }
            },
            "type": "scattercarpet"
           }
          ],
          "scattergeo": [
           {
            "marker": {
             "colorbar": {
              "outlinewidth": 0,
              "ticks": ""
             }
            },
            "type": "scattergeo"
           }
          ],
          "scattergl": [
           {
            "marker": {
             "colorbar": {
              "outlinewidth": 0,
              "ticks": ""
             }
            },
            "type": "scattergl"
           }
          ],
          "scattermapbox": [
           {
            "marker": {
             "colorbar": {
              "outlinewidth": 0,
              "ticks": ""
             }
            },
            "type": "scattermapbox"
           }
          ],
          "scatterpolar": [
           {
            "marker": {
             "colorbar": {
              "outlinewidth": 0,
              "ticks": ""
             }
            },
            "type": "scatterpolar"
           }
          ],
          "scatterpolargl": [
           {
            "marker": {
             "colorbar": {
              "outlinewidth": 0,
              "ticks": ""
             }
            },
            "type": "scatterpolargl"
           }
          ],
          "scatterternary": [
           {
            "marker": {
             "colorbar": {
              "outlinewidth": 0,
              "ticks": ""
             }
            },
            "type": "scatterternary"
           }
          ],
          "surface": [
           {
            "colorbar": {
             "outlinewidth": 0,
             "ticks": ""
            },
            "colorscale": [
             [
              0,
              "#0d0887"
             ],
             [
              0.1111111111111111,
              "#46039f"
             ],
             [
              0.2222222222222222,
              "#7201a8"
             ],
             [
              0.3333333333333333,
              "#9c179e"
             ],
             [
              0.4444444444444444,
              "#bd3786"
             ],
             [
              0.5555555555555556,
              "#d8576b"
             ],
             [
              0.6666666666666666,
              "#ed7953"
             ],
             [
              0.7777777777777778,
              "#fb9f3a"
             ],
             [
              0.8888888888888888,
              "#fdca26"
             ],
             [
              1,
              "#f0f921"
             ]
            ],
            "type": "surface"
           }
          ],
          "table": [
           {
            "cells": {
             "fill": {
              "color": "#EBF0F8"
             },
             "line": {
              "color": "white"
             }
            },
            "header": {
             "fill": {
              "color": "#C8D4E3"
             },
             "line": {
              "color": "white"
             }
            },
            "type": "table"
           }
          ]
         },
         "layout": {
          "annotationdefaults": {
           "arrowcolor": "#2a3f5f",
           "arrowhead": 0,
           "arrowwidth": 1
          },
          "autotypenumbers": "strict",
          "coloraxis": {
           "colorbar": {
            "outlinewidth": 0,
            "ticks": ""
           }
          },
          "colorscale": {
           "diverging": [
            [
             0,
             "#8e0152"
            ],
            [
             0.1,
             "#c51b7d"
            ],
            [
             0.2,
             "#de77ae"
            ],
            [
             0.3,
             "#f1b6da"
            ],
            [
             0.4,
             "#fde0ef"
            ],
            [
             0.5,
             "#f7f7f7"
            ],
            [
             0.6,
             "#e6f5d0"
            ],
            [
             0.7,
             "#b8e186"
            ],
            [
             0.8,
             "#7fbc41"
            ],
            [
             0.9,
             "#4d9221"
            ],
            [
             1,
             "#276419"
            ]
           ],
           "sequential": [
            [
             0,
             "#0d0887"
            ],
            [
             0.1111111111111111,
             "#46039f"
            ],
            [
             0.2222222222222222,
             "#7201a8"
            ],
            [
             0.3333333333333333,
             "#9c179e"
            ],
            [
             0.4444444444444444,
             "#bd3786"
            ],
            [
             0.5555555555555556,
             "#d8576b"
            ],
            [
             0.6666666666666666,
             "#ed7953"
            ],
            [
             0.7777777777777778,
             "#fb9f3a"
            ],
            [
             0.8888888888888888,
             "#fdca26"
            ],
            [
             1,
             "#f0f921"
            ]
           ],
           "sequentialminus": [
            [
             0,
             "#0d0887"
            ],
            [
             0.1111111111111111,
             "#46039f"
            ],
            [
             0.2222222222222222,
             "#7201a8"
            ],
            [
             0.3333333333333333,
             "#9c179e"
            ],
            [
             0.4444444444444444,
             "#bd3786"
            ],
            [
             0.5555555555555556,
             "#d8576b"
            ],
            [
             0.6666666666666666,
             "#ed7953"
            ],
            [
             0.7777777777777778,
             "#fb9f3a"
            ],
            [
             0.8888888888888888,
             "#fdca26"
            ],
            [
             1,
             "#f0f921"
            ]
           ]
          },
          "colorway": [
           "#636efa",
           "#EF553B",
           "#00cc96",
           "#ab63fa",
           "#FFA15A",
           "#19d3f3",
           "#FF6692",
           "#B6E880",
           "#FF97FF",
           "#FECB52"
          ],
          "font": {
           "color": "#2a3f5f"
          },
          "geo": {
           "bgcolor": "white",
           "lakecolor": "white",
           "landcolor": "white",
           "showlakes": true,
           "showland": true,
           "subunitcolor": "#C8D4E3"
          },
          "hoverlabel": {
           "align": "left"
          },
          "hovermode": "closest",
          "mapbox": {
           "style": "light"
          },
          "paper_bgcolor": "white",
          "plot_bgcolor": "white",
          "polar": {
           "angularaxis": {
            "gridcolor": "#EBF0F8",
            "linecolor": "#EBF0F8",
            "ticks": ""
           },
           "bgcolor": "white",
           "radialaxis": {
            "gridcolor": "#EBF0F8",
            "linecolor": "#EBF0F8",
            "ticks": ""
           }
          },
          "scene": {
           "xaxis": {
            "backgroundcolor": "white",
            "gridcolor": "#DFE8F3",
            "gridwidth": 2,
            "linecolor": "#EBF0F8",
            "showbackground": true,
            "ticks": "",
            "zerolinecolor": "#EBF0F8"
           },
           "yaxis": {
            "backgroundcolor": "white",
            "gridcolor": "#DFE8F3",
            "gridwidth": 2,
            "linecolor": "#EBF0F8",
            "showbackground": true,
            "ticks": "",
            "zerolinecolor": "#EBF0F8"
           },
           "zaxis": {
            "backgroundcolor": "white",
            "gridcolor": "#DFE8F3",
            "gridwidth": 2,
            "linecolor": "#EBF0F8",
            "showbackground": true,
            "ticks": "",
            "zerolinecolor": "#EBF0F8"
           }
          },
          "shapedefaults": {
           "line": {
            "color": "#2a3f5f"
           }
          },
          "ternary": {
           "aaxis": {
            "gridcolor": "#DFE8F3",
            "linecolor": "#A2B1C6",
            "ticks": ""
           },
           "baxis": {
            "gridcolor": "#DFE8F3",
            "linecolor": "#A2B1C6",
            "ticks": ""
           },
           "bgcolor": "white",
           "caxis": {
            "gridcolor": "#DFE8F3",
            "linecolor": "#A2B1C6",
            "ticks": ""
           }
          },
          "title": {
           "x": 0.05
          },
          "xaxis": {
           "automargin": true,
           "gridcolor": "#EBF0F8",
           "linecolor": "#EBF0F8",
           "ticks": "",
           "title": {
            "standoff": 15
           },
           "zerolinecolor": "#EBF0F8",
           "zerolinewidth": 2
          },
          "yaxis": {
           "automargin": true,
           "gridcolor": "#EBF0F8",
           "linecolor": "#EBF0F8",
           "ticks": "",
           "title": {
            "standoff": 15
           },
           "zerolinecolor": "#EBF0F8",
           "zerolinewidth": 2
          }
         }
        },
        "title": {
         "text": "Top 3 Influential Names per Genre"
        }
       }
      }
     },
     "metadata": {},
     "output_type": "display_data"
    }
   ],
   "source": [
    "plot_treemap(top_names_by_genre)\n"
   ]
  },
  {
   "cell_type": "markdown",
   "metadata": {},
   "source": [
    "### Proportion of influence"
   ]
  },
  {
   "cell_type": "code",
   "execution_count": 71,
   "metadata": {},
   "outputs": [],
   "source": [
    "def load(filepath):\n",
    "    \"\"\"\n",
    "    Load the dataset, clean it, and explode the Genres column.\n",
    "    \"\"\"\n",
    "    # Load the data\n",
    "    df = pd.read_csv(filepath)\n",
    "    \n",
    "    # Rename the column and drop unnecessary ones\n",
    "    df = df.drop(columns=['Influenced', 'Wikipedia_movie_ID'])\n",
    "    # Make a capital letter for the title of the movie name\n",
    "    df['Movie Name'] = df['Movie Name'].str.title()\n",
    "    df['Label'] = df['Character Name'] + \" from \" + df['Movie Name']\n",
    "\n",
    "\n",
    "    \n",
    "    # Explode Genres\n",
    "    df['Genres'] = df['Genres'].str.split(', ')\n",
    "    exploded_df = df.explode('Genres')\n",
    "\n",
    "    # remove the genre 'Action/Adventure'  \n",
    "    exploded_df = exploded_df[exploded_df['Genres'] != 'Action/Adventure']\n",
    "\n",
    "    \n",
    "    return exploded_df\n",
    "\n"
   ]
  },
  {
   "cell_type": "code",
   "execution_count": 72,
   "metadata": {},
   "outputs": [
    {
     "data": {
      "text/html": [
       "<div>\n",
       "<style scoped>\n",
       "    .dataframe tbody tr th:only-of-type {\n",
       "        vertical-align: middle;\n",
       "    }\n",
       "\n",
       "    .dataframe tbody tr th {\n",
       "        vertical-align: top;\n",
       "    }\n",
       "\n",
       "    .dataframe thead th {\n",
       "        text-align: right;\n",
       "    }\n",
       "</style>\n",
       "<table border=\"1\" class=\"dataframe\">\n",
       "  <thead>\n",
       "    <tr style=\"text-align: right;\">\n",
       "      <th></th>\n",
       "      <th>Wikipedia ID</th>\n",
       "      <th>Movie Name</th>\n",
       "      <th>Year</th>\n",
       "      <th>Character Name</th>\n",
       "      <th>Count</th>\n",
       "      <th>Full name</th>\n",
       "      <th>Normalized_name</th>\n",
       "      <th>Mean Difference</th>\n",
       "      <th>Genres</th>\n",
       "      <th>Label</th>\n",
       "    </tr>\n",
       "  </thead>\n",
       "  <tbody>\n",
       "    <tr>\n",
       "      <th>0</th>\n",
       "      <td>451866</td>\n",
       "      <td>Mission: Impossible Ii</td>\n",
       "      <td>2000</td>\n",
       "      <td>Ethan</td>\n",
       "      <td>18</td>\n",
       "      <td>Ethan Hunt</td>\n",
       "      <td>ETHAN</td>\n",
       "      <td>15725.466667</td>\n",
       "      <td>Thriller</td>\n",
       "      <td>Ethan from Mission: Impossible Ii</td>\n",
       "    </tr>\n",
       "    <tr>\n",
       "      <th>0</th>\n",
       "      <td>451866</td>\n",
       "      <td>Mission: Impossible Ii</td>\n",
       "      <td>2000</td>\n",
       "      <td>Ethan</td>\n",
       "      <td>18</td>\n",
       "      <td>Ethan Hunt</td>\n",
       "      <td>ETHAN</td>\n",
       "      <td>15725.466667</td>\n",
       "      <td>Action Thrillers</td>\n",
       "      <td>Ethan from Mission: Impossible Ii</td>\n",
       "    </tr>\n",
       "    <tr>\n",
       "      <th>0</th>\n",
       "      <td>451866</td>\n",
       "      <td>Mission: Impossible Ii</td>\n",
       "      <td>2000</td>\n",
       "      <td>Ethan</td>\n",
       "      <td>18</td>\n",
       "      <td>Ethan Hunt</td>\n",
       "      <td>ETHAN</td>\n",
       "      <td>15725.466667</td>\n",
       "      <td>Glamorized Spy Film</td>\n",
       "      <td>Ethan from Mission: Impossible Ii</td>\n",
       "    </tr>\n",
       "    <tr>\n",
       "      <th>0</th>\n",
       "      <td>451866</td>\n",
       "      <td>Mission: Impossible Ii</td>\n",
       "      <td>2000</td>\n",
       "      <td>Ethan</td>\n",
       "      <td>18</td>\n",
       "      <td>Ethan Hunt</td>\n",
       "      <td>ETHAN</td>\n",
       "      <td>15725.466667</td>\n",
       "      <td>Action</td>\n",
       "      <td>Ethan from Mission: Impossible Ii</td>\n",
       "    </tr>\n",
       "    <tr>\n",
       "      <th>0</th>\n",
       "      <td>451866</td>\n",
       "      <td>Mission: Impossible Ii</td>\n",
       "      <td>2000</td>\n",
       "      <td>Ethan</td>\n",
       "      <td>18</td>\n",
       "      <td>Ethan Hunt</td>\n",
       "      <td>ETHAN</td>\n",
       "      <td>15725.466667</td>\n",
       "      <td>Spy</td>\n",
       "      <td>Ethan from Mission: Impossible Ii</td>\n",
       "    </tr>\n",
       "  </tbody>\n",
       "</table>\n",
       "</div>"
      ],
      "text/plain": [
       "   Wikipedia ID              Movie Name  Year Character Name  Count  \\\n",
       "0        451866  Mission: Impossible Ii  2000          Ethan     18   \n",
       "0        451866  Mission: Impossible Ii  2000          Ethan     18   \n",
       "0        451866  Mission: Impossible Ii  2000          Ethan     18   \n",
       "0        451866  Mission: Impossible Ii  2000          Ethan     18   \n",
       "0        451866  Mission: Impossible Ii  2000          Ethan     18   \n",
       "\n",
       "    Full name Normalized_name  Mean Difference               Genres  \\\n",
       "0  Ethan Hunt           ETHAN     15725.466667             Thriller   \n",
       "0  Ethan Hunt           ETHAN     15725.466667     Action Thrillers   \n",
       "0  Ethan Hunt           ETHAN     15725.466667  Glamorized Spy Film   \n",
       "0  Ethan Hunt           ETHAN     15725.466667               Action   \n",
       "0  Ethan Hunt           ETHAN     15725.466667                  Spy   \n",
       "\n",
       "                               Label  \n",
       "0  Ethan from Mission: Impossible Ii  \n",
       "0  Ethan from Mission: Impossible Ii  \n",
       "0  Ethan from Mission: Impossible Ii  \n",
       "0  Ethan from Mission: Impossible Ii  \n",
       "0  Ethan from Mission: Impossible Ii  "
      ]
     },
     "execution_count": 72,
     "metadata": {},
     "output_type": "execute_result"
    }
   ],
   "source": [
    "names_influenced = load(\"data/clean/influenced_prophet_with_genres.csv\")\n",
    "names_influenced.head()"
   ]
  },
  {
   "cell_type": "code",
   "execution_count": 73,
   "metadata": {},
   "outputs": [
    {
     "name": "stdout",
     "output_type": "stream",
     "text": [
      "Top Genres:\n"
     ]
    },
    {
     "data": {
      "text/html": [
       "<div>\n",
       "<style scoped>\n",
       "    .dataframe tbody tr th:only-of-type {\n",
       "        vertical-align: middle;\n",
       "    }\n",
       "\n",
       "    .dataframe tbody tr th {\n",
       "        vertical-align: top;\n",
       "    }\n",
       "\n",
       "    .dataframe thead th {\n",
       "        text-align: right;\n",
       "    }\n",
       "</style>\n",
       "<table border=\"1\" class=\"dataframe\">\n",
       "  <thead>\n",
       "    <tr style=\"text-align: right;\">\n",
       "      <th></th>\n",
       "      <th>Genres</th>\n",
       "      <th>Count</th>\n",
       "    </tr>\n",
       "  </thead>\n",
       "  <tbody>\n",
       "    <tr>\n",
       "      <th>0</th>\n",
       "      <td>Drama</td>\n",
       "      <td>210</td>\n",
       "    </tr>\n",
       "    <tr>\n",
       "      <th>1</th>\n",
       "      <td>Thriller</td>\n",
       "      <td>159</td>\n",
       "    </tr>\n",
       "    <tr>\n",
       "      <th>2</th>\n",
       "      <td>Action</td>\n",
       "      <td>159</td>\n",
       "    </tr>\n",
       "    <tr>\n",
       "      <th>3</th>\n",
       "      <td>Comedy</td>\n",
       "      <td>121</td>\n",
       "    </tr>\n",
       "    <tr>\n",
       "      <th>4</th>\n",
       "      <td>Crime Fiction</td>\n",
       "      <td>100</td>\n",
       "    </tr>\n",
       "  </tbody>\n",
       "</table>\n",
       "</div>"
      ],
      "text/plain": [
       "          Genres  Count\n",
       "0          Drama    210\n",
       "1       Thriller    159\n",
       "2         Action    159\n",
       "3         Comedy    121\n",
       "4  Crime Fiction    100"
      ]
     },
     "execution_count": 73,
     "metadata": {},
     "output_type": "execute_result"
    }
   ],
   "source": [
    "def count_top_genres(df, top_n=10):\n",
    "    \"\"\"\n",
    "   Determine the top N genres by count\n",
    "    \"\"\"\n",
    "   # Count occurrences of each genre\n",
    "    genre_counts = df['Genres'].value_counts()\n",
    "    \n",
    "    # Get the top N genres\n",
    "    top_genres = genre_counts.head(top_n)\n",
    "    \n",
    "    # Convert to a DataFrame for output\n",
    "    top_genres_df = top_genres.reset_index()\n",
    "    top_genres_df.columns = ['Genres', 'Count']  # Rename columns for clarity\n",
    "    \n",
    "    return top_genres_df\n",
    "        \n",
    "\n",
    "# Example usage\n",
    "top_genres = count_top_genres(names_influenced, top_n=10)\n",
    "print(\"Top Genres:\")\n",
    "top_genres.head()\n",
    "\n"
   ]
  },
  {
   "cell_type": "code",
   "execution_count": 74,
   "metadata": {},
   "outputs": [
    {
     "data": {
      "application/vnd.plotly.v1+json": {
       "config": {
        "plotlyServerURL": "https://plot.ly"
       },
       "data": [
        {
         "alignmentgroup": "True",
         "hovertemplate": "Genres=%{x}<br>Count=%{y}<extra></extra>",
         "legendgroup": "",
         "marker": {
          "color": "#636efa",
          "pattern": {
           "shape": ""
          }
         },
         "name": "",
         "offsetgroup": "",
         "orientation": "v",
         "showlegend": false,
         "textposition": "auto",
         "type": "bar",
         "x": [
          "Drama",
          "Thriller",
          "Action",
          "Comedy",
          "Crime Fiction",
          "Romance Film",
          "Adventure",
          "Science Fiction",
          "Horror",
          "Period piece"
         ],
         "xaxis": "x",
         "y": [
          210,
          159,
          159,
          121,
          100,
          93,
          88,
          86,
          58,
          54
         ],
         "yaxis": "y"
        }
       ],
       "layout": {
        "barmode": "relative",
        "legend": {
         "tracegroupgap": 0
        },
        "template": {
         "data": {
          "bar": [
           {
            "error_x": {
             "color": "#2a3f5f"
            },
            "error_y": {
             "color": "#2a3f5f"
            },
            "marker": {
             "line": {
              "color": "white",
              "width": 0.5
             },
             "pattern": {
              "fillmode": "overlay",
              "size": 10,
              "solidity": 0.2
             }
            },
            "type": "bar"
           }
          ],
          "barpolar": [
           {
            "marker": {
             "line": {
              "color": "white",
              "width": 0.5
             },
             "pattern": {
              "fillmode": "overlay",
              "size": 10,
              "solidity": 0.2
             }
            },
            "type": "barpolar"
           }
          ],
          "carpet": [
           {
            "aaxis": {
             "endlinecolor": "#2a3f5f",
             "gridcolor": "#C8D4E3",
             "linecolor": "#C8D4E3",
             "minorgridcolor": "#C8D4E3",
             "startlinecolor": "#2a3f5f"
            },
            "baxis": {
             "endlinecolor": "#2a3f5f",
             "gridcolor": "#C8D4E3",
             "linecolor": "#C8D4E3",
             "minorgridcolor": "#C8D4E3",
             "startlinecolor": "#2a3f5f"
            },
            "type": "carpet"
           }
          ],
          "choropleth": [
           {
            "colorbar": {
             "outlinewidth": 0,
             "ticks": ""
            },
            "type": "choropleth"
           }
          ],
          "contour": [
           {
            "colorbar": {
             "outlinewidth": 0,
             "ticks": ""
            },
            "colorscale": [
             [
              0,
              "#0d0887"
             ],
             [
              0.1111111111111111,
              "#46039f"
             ],
             [
              0.2222222222222222,
              "#7201a8"
             ],
             [
              0.3333333333333333,
              "#9c179e"
             ],
             [
              0.4444444444444444,
              "#bd3786"
             ],
             [
              0.5555555555555556,
              "#d8576b"
             ],
             [
              0.6666666666666666,
              "#ed7953"
             ],
             [
              0.7777777777777778,
              "#fb9f3a"
             ],
             [
              0.8888888888888888,
              "#fdca26"
             ],
             [
              1,
              "#f0f921"
             ]
            ],
            "type": "contour"
           }
          ],
          "contourcarpet": [
           {
            "colorbar": {
             "outlinewidth": 0,
             "ticks": ""
            },
            "type": "contourcarpet"
           }
          ],
          "heatmap": [
           {
            "colorbar": {
             "outlinewidth": 0,
             "ticks": ""
            },
            "colorscale": [
             [
              0,
              "#0d0887"
             ],
             [
              0.1111111111111111,
              "#46039f"
             ],
             [
              0.2222222222222222,
              "#7201a8"
             ],
             [
              0.3333333333333333,
              "#9c179e"
             ],
             [
              0.4444444444444444,
              "#bd3786"
             ],
             [
              0.5555555555555556,
              "#d8576b"
             ],
             [
              0.6666666666666666,
              "#ed7953"
             ],
             [
              0.7777777777777778,
              "#fb9f3a"
             ],
             [
              0.8888888888888888,
              "#fdca26"
             ],
             [
              1,
              "#f0f921"
             ]
            ],
            "type": "heatmap"
           }
          ],
          "heatmapgl": [
           {
            "colorbar": {
             "outlinewidth": 0,
             "ticks": ""
            },
            "colorscale": [
             [
              0,
              "#0d0887"
             ],
             [
              0.1111111111111111,
              "#46039f"
             ],
             [
              0.2222222222222222,
              "#7201a8"
             ],
             [
              0.3333333333333333,
              "#9c179e"
             ],
             [
              0.4444444444444444,
              "#bd3786"
             ],
             [
              0.5555555555555556,
              "#d8576b"
             ],
             [
              0.6666666666666666,
              "#ed7953"
             ],
             [
              0.7777777777777778,
              "#fb9f3a"
             ],
             [
              0.8888888888888888,
              "#fdca26"
             ],
             [
              1,
              "#f0f921"
             ]
            ],
            "type": "heatmapgl"
           }
          ],
          "histogram": [
           {
            "marker": {
             "pattern": {
              "fillmode": "overlay",
              "size": 10,
              "solidity": 0.2
             }
            },
            "type": "histogram"
           }
          ],
          "histogram2d": [
           {
            "colorbar": {
             "outlinewidth": 0,
             "ticks": ""
            },
            "colorscale": [
             [
              0,
              "#0d0887"
             ],
             [
              0.1111111111111111,
              "#46039f"
             ],
             [
              0.2222222222222222,
              "#7201a8"
             ],
             [
              0.3333333333333333,
              "#9c179e"
             ],
             [
              0.4444444444444444,
              "#bd3786"
             ],
             [
              0.5555555555555556,
              "#d8576b"
             ],
             [
              0.6666666666666666,
              "#ed7953"
             ],
             [
              0.7777777777777778,
              "#fb9f3a"
             ],
             [
              0.8888888888888888,
              "#fdca26"
             ],
             [
              1,
              "#f0f921"
             ]
            ],
            "type": "histogram2d"
           }
          ],
          "histogram2dcontour": [
           {
            "colorbar": {
             "outlinewidth": 0,
             "ticks": ""
            },
            "colorscale": [
             [
              0,
              "#0d0887"
             ],
             [
              0.1111111111111111,
              "#46039f"
             ],
             [
              0.2222222222222222,
              "#7201a8"
             ],
             [
              0.3333333333333333,
              "#9c179e"
             ],
             [
              0.4444444444444444,
              "#bd3786"
             ],
             [
              0.5555555555555556,
              "#d8576b"
             ],
             [
              0.6666666666666666,
              "#ed7953"
             ],
             [
              0.7777777777777778,
              "#fb9f3a"
             ],
             [
              0.8888888888888888,
              "#fdca26"
             ],
             [
              1,
              "#f0f921"
             ]
            ],
            "type": "histogram2dcontour"
           }
          ],
          "mesh3d": [
           {
            "colorbar": {
             "outlinewidth": 0,
             "ticks": ""
            },
            "type": "mesh3d"
           }
          ],
          "parcoords": [
           {
            "line": {
             "colorbar": {
              "outlinewidth": 0,
              "ticks": ""
             }
            },
            "type": "parcoords"
           }
          ],
          "pie": [
           {
            "automargin": true,
            "type": "pie"
           }
          ],
          "scatter": [
           {
            "fillpattern": {
             "fillmode": "overlay",
             "size": 10,
             "solidity": 0.2
            },
            "type": "scatter"
           }
          ],
          "scatter3d": [
           {
            "line": {
             "colorbar": {
              "outlinewidth": 0,
              "ticks": ""
             }
            },
            "marker": {
             "colorbar": {
              "outlinewidth": 0,
              "ticks": ""
             }
            },
            "type": "scatter3d"
           }
          ],
          "scattercarpet": [
           {
            "marker": {
             "colorbar": {
              "outlinewidth": 0,
              "ticks": ""
             }
            },
            "type": "scattercarpet"
           }
          ],
          "scattergeo": [
           {
            "marker": {
             "colorbar": {
              "outlinewidth": 0,
              "ticks": ""
             }
            },
            "type": "scattergeo"
           }
          ],
          "scattergl": [
           {
            "marker": {
             "colorbar": {
              "outlinewidth": 0,
              "ticks": ""
             }
            },
            "type": "scattergl"
           }
          ],
          "scattermapbox": [
           {
            "marker": {
             "colorbar": {
              "outlinewidth": 0,
              "ticks": ""
             }
            },
            "type": "scattermapbox"
           }
          ],
          "scatterpolar": [
           {
            "marker": {
             "colorbar": {
              "outlinewidth": 0,
              "ticks": ""
             }
            },
            "type": "scatterpolar"
           }
          ],
          "scatterpolargl": [
           {
            "marker": {
             "colorbar": {
              "outlinewidth": 0,
              "ticks": ""
             }
            },
            "type": "scatterpolargl"
           }
          ],
          "scatterternary": [
           {
            "marker": {
             "colorbar": {
              "outlinewidth": 0,
              "ticks": ""
             }
            },
            "type": "scatterternary"
           }
          ],
          "surface": [
           {
            "colorbar": {
             "outlinewidth": 0,
             "ticks": ""
            },
            "colorscale": [
             [
              0,
              "#0d0887"
             ],
             [
              0.1111111111111111,
              "#46039f"
             ],
             [
              0.2222222222222222,
              "#7201a8"
             ],
             [
              0.3333333333333333,
              "#9c179e"
             ],
             [
              0.4444444444444444,
              "#bd3786"
             ],
             [
              0.5555555555555556,
              "#d8576b"
             ],
             [
              0.6666666666666666,
              "#ed7953"
             ],
             [
              0.7777777777777778,
              "#fb9f3a"
             ],
             [
              0.8888888888888888,
              "#fdca26"
             ],
             [
              1,
              "#f0f921"
             ]
            ],
            "type": "surface"
           }
          ],
          "table": [
           {
            "cells": {
             "fill": {
              "color": "#EBF0F8"
             },
             "line": {
              "color": "white"
             }
            },
            "header": {
             "fill": {
              "color": "#C8D4E3"
             },
             "line": {
              "color": "white"
             }
            },
            "type": "table"
           }
          ]
         },
         "layout": {
          "annotationdefaults": {
           "arrowcolor": "#2a3f5f",
           "arrowhead": 0,
           "arrowwidth": 1
          },
          "autotypenumbers": "strict",
          "coloraxis": {
           "colorbar": {
            "outlinewidth": 0,
            "ticks": ""
           }
          },
          "colorscale": {
           "diverging": [
            [
             0,
             "#8e0152"
            ],
            [
             0.1,
             "#c51b7d"
            ],
            [
             0.2,
             "#de77ae"
            ],
            [
             0.3,
             "#f1b6da"
            ],
            [
             0.4,
             "#fde0ef"
            ],
            [
             0.5,
             "#f7f7f7"
            ],
            [
             0.6,
             "#e6f5d0"
            ],
            [
             0.7,
             "#b8e186"
            ],
            [
             0.8,
             "#7fbc41"
            ],
            [
             0.9,
             "#4d9221"
            ],
            [
             1,
             "#276419"
            ]
           ],
           "sequential": [
            [
             0,
             "#0d0887"
            ],
            [
             0.1111111111111111,
             "#46039f"
            ],
            [
             0.2222222222222222,
             "#7201a8"
            ],
            [
             0.3333333333333333,
             "#9c179e"
            ],
            [
             0.4444444444444444,
             "#bd3786"
            ],
            [
             0.5555555555555556,
             "#d8576b"
            ],
            [
             0.6666666666666666,
             "#ed7953"
            ],
            [
             0.7777777777777778,
             "#fb9f3a"
            ],
            [
             0.8888888888888888,
             "#fdca26"
            ],
            [
             1,
             "#f0f921"
            ]
           ],
           "sequentialminus": [
            [
             0,
             "#0d0887"
            ],
            [
             0.1111111111111111,
             "#46039f"
            ],
            [
             0.2222222222222222,
             "#7201a8"
            ],
            [
             0.3333333333333333,
             "#9c179e"
            ],
            [
             0.4444444444444444,
             "#bd3786"
            ],
            [
             0.5555555555555556,
             "#d8576b"
            ],
            [
             0.6666666666666666,
             "#ed7953"
            ],
            [
             0.7777777777777778,
             "#fb9f3a"
            ],
            [
             0.8888888888888888,
             "#fdca26"
            ],
            [
             1,
             "#f0f921"
            ]
           ]
          },
          "colorway": [
           "#636efa",
           "#EF553B",
           "#00cc96",
           "#ab63fa",
           "#FFA15A",
           "#19d3f3",
           "#FF6692",
           "#B6E880",
           "#FF97FF",
           "#FECB52"
          ],
          "font": {
           "color": "#2a3f5f"
          },
          "geo": {
           "bgcolor": "white",
           "lakecolor": "white",
           "landcolor": "white",
           "showlakes": true,
           "showland": true,
           "subunitcolor": "#C8D4E3"
          },
          "hoverlabel": {
           "align": "left"
          },
          "hovermode": "closest",
          "mapbox": {
           "style": "light"
          },
          "paper_bgcolor": "white",
          "plot_bgcolor": "white",
          "polar": {
           "angularaxis": {
            "gridcolor": "#EBF0F8",
            "linecolor": "#EBF0F8",
            "ticks": ""
           },
           "bgcolor": "white",
           "radialaxis": {
            "gridcolor": "#EBF0F8",
            "linecolor": "#EBF0F8",
            "ticks": ""
           }
          },
          "scene": {
           "xaxis": {
            "backgroundcolor": "white",
            "gridcolor": "#DFE8F3",
            "gridwidth": 2,
            "linecolor": "#EBF0F8",
            "showbackground": true,
            "ticks": "",
            "zerolinecolor": "#EBF0F8"
           },
           "yaxis": {
            "backgroundcolor": "white",
            "gridcolor": "#DFE8F3",
            "gridwidth": 2,
            "linecolor": "#EBF0F8",
            "showbackground": true,
            "ticks": "",
            "zerolinecolor": "#EBF0F8"
           },
           "zaxis": {
            "backgroundcolor": "white",
            "gridcolor": "#DFE8F3",
            "gridwidth": 2,
            "linecolor": "#EBF0F8",
            "showbackground": true,
            "ticks": "",
            "zerolinecolor": "#EBF0F8"
           }
          },
          "shapedefaults": {
           "line": {
            "color": "#2a3f5f"
           }
          },
          "ternary": {
           "aaxis": {
            "gridcolor": "#DFE8F3",
            "linecolor": "#A2B1C6",
            "ticks": ""
           },
           "baxis": {
            "gridcolor": "#DFE8F3",
            "linecolor": "#A2B1C6",
            "ticks": ""
           },
           "bgcolor": "white",
           "caxis": {
            "gridcolor": "#DFE8F3",
            "linecolor": "#A2B1C6",
            "ticks": ""
           }
          },
          "title": {
           "x": 0.05
          },
          "xaxis": {
           "automargin": true,
           "gridcolor": "#EBF0F8",
           "linecolor": "#EBF0F8",
           "ticks": "",
           "title": {
            "standoff": 15
           },
           "zerolinecolor": "#EBF0F8",
           "zerolinewidth": 2
          },
          "yaxis": {
           "automargin": true,
           "gridcolor": "#EBF0F8",
           "linecolor": "#EBF0F8",
           "ticks": "",
           "title": {
            "standoff": 15
           },
           "zerolinecolor": "#EBF0F8",
           "zerolinewidth": 2
          }
         }
        },
        "title": {
         "text": "Top 10 Most Influential Movie Genres on Names"
        },
        "xaxis": {
         "anchor": "y",
         "domain": [
          0,
          1
         ],
         "title": {
          "text": "Genres"
         }
        },
        "yaxis": {
         "anchor": "x",
         "domain": [
          0,
          1
         ],
         "title": {
          "text": "Count"
         }
        }
       }
      }
     },
     "metadata": {},
     "output_type": "display_data"
    }
   ],
   "source": [
    "# viauslization \n",
    "def plot_top_genres(genre_influence, metric):\n",
    "    \"\"\"\n",
    "    Create a bar chart for the top N genres and save it as an HTML file.\n",
    "    \"\"\"\n",
    "    fig = px.bar(\n",
    "        genre_influence,\n",
    "        x='Genres',\n",
    "        y=metric,\n",
    "        title='Top 10 Most Influential Movie Genres on Names',\n",
    "        labels={'Mean Difference': 'Total Influence Score'},\n",
    "        template='plotly_white'\n",
    "    )\n",
    "\n",
    "    fig.show()\n",
    "plot_top_genres(top_genres, metric = 'Count')"
   ]
  },
  {
   "cell_type": "code",
   "execution_count": 75,
   "metadata": {},
   "outputs": [
    {
     "name": "stdout",
     "output_type": "stream",
     "text": [
      "Genres\n",
      "Drama              210\n",
      "Thriller           159\n",
      "Action             159\n",
      "Comedy             121\n",
      "Crime Fiction      100\n",
      "Romance Film        93\n",
      "Adventure           88\n",
      "Science Fiction     86\n",
      "Horror              58\n",
      "Period piece        54\n",
      "Fantasy             53\n",
      "Film adaptation     49\n",
      "Cult                46\n",
      "Indie               43\n",
      "Coming of age       42\n",
      "War film            42\n",
      "Mystery             42\n",
      "Romantic drama      40\n",
      "Crime Thriller      37\n",
      "Teen                35\n",
      "Name: count, dtype: int64\n",
      "2578\n",
      "Top Genres by Proportion:\n"
     ]
    },
    {
     "data": {
      "text/html": [
       "<div>\n",
       "<style scoped>\n",
       "    .dataframe tbody tr th:only-of-type {\n",
       "        vertical-align: middle;\n",
       "    }\n",
       "\n",
       "    .dataframe tbody tr th {\n",
       "        vertical-align: top;\n",
       "    }\n",
       "\n",
       "    .dataframe thead th {\n",
       "        text-align: right;\n",
       "    }\n",
       "</style>\n",
       "<table border=\"1\" class=\"dataframe\">\n",
       "  <thead>\n",
       "    <tr style=\"text-align: right;\">\n",
       "      <th></th>\n",
       "      <th>Genres</th>\n",
       "      <th>Proportion (%)</th>\n",
       "    </tr>\n",
       "  </thead>\n",
       "  <tbody>\n",
       "    <tr>\n",
       "      <th>0</th>\n",
       "      <td>Drama</td>\n",
       "      <td>8.145849</td>\n",
       "    </tr>\n",
       "    <tr>\n",
       "      <th>1</th>\n",
       "      <td>Thriller</td>\n",
       "      <td>6.167572</td>\n",
       "    </tr>\n",
       "    <tr>\n",
       "      <th>2</th>\n",
       "      <td>Action</td>\n",
       "      <td>6.167572</td>\n",
       "    </tr>\n",
       "    <tr>\n",
       "      <th>3</th>\n",
       "      <td>Comedy</td>\n",
       "      <td>4.693561</td>\n",
       "    </tr>\n",
       "    <tr>\n",
       "      <th>4</th>\n",
       "      <td>Crime Fiction</td>\n",
       "      <td>3.878976</td>\n",
       "    </tr>\n",
       "  </tbody>\n",
       "</table>\n",
       "</div>"
      ],
      "text/plain": [
       "          Genres  Proportion (%)\n",
       "0          Drama        8.145849\n",
       "1       Thriller        6.167572\n",
       "2         Action        6.167572\n",
       "3         Comedy        4.693561\n",
       "4  Crime Fiction        3.878976"
      ]
     },
     "execution_count": 75,
     "metadata": {},
     "output_type": "execute_result"
    }
   ],
   "source": [
    "# Percentage\n",
    "def proportion_of_influence(df, top_n=10):\n",
    "    \"\"\"\n",
    "    Determine the proportion of influence for the top N genres\n",
    "    \"\"\"\n",
    "    # Count occurrences of each genre\n",
    "    genre_counts = df['Genres'].value_counts()\n",
    "    \n",
    "    # Get the top N genres\n",
    "    top_genres = genre_counts.head(top_n)\n",
    "    print(top_genres)\n",
    "\n",
    "    # Calculate the total number of names\n",
    "    total_names = len(df)\n",
    "    print(total_names)\n",
    "\n",
    "    # Calculate the proportion of influence for each genre in percentage\n",
    "    top_genres_proportion = top_genres / total_names * 100\n",
    "    \n",
    "    # Convert to a DataFrame for output\n",
    "    top_genres_proportion_df = top_genres_proportion.reset_index()\n",
    "    top_genres_proportion_df.columns = ['Genres', 'Proportion (%)']  # Rename columns for clarity\n",
    "\n",
    "    return top_genres_proportion_df\n",
    "\n",
    "# Example usage\n",
    "top_genres_proportion = proportion_of_influence(names_influenced, top_n=20)\n",
    "print(\"Top Genres by Proportion:\")\n",
    "top_genres_proportion.head()\n"
   ]
  },
  {
   "cell_type": "code",
   "execution_count": 76,
   "metadata": {},
   "outputs": [
    {
     "data": {
      "application/vnd.plotly.v1+json": {
       "config": {
        "plotlyServerURL": "https://plot.ly"
       },
       "data": [
        {
         "alignmentgroup": "True",
         "hovertemplate": "Genres=%{x}<br>Proportion (%)=%{y}<extra></extra>",
         "legendgroup": "",
         "marker": {
          "color": "#636efa",
          "pattern": {
           "shape": ""
          }
         },
         "name": "",
         "offsetgroup": "",
         "orientation": "v",
         "showlegend": false,
         "textposition": "auto",
         "type": "bar",
         "x": [
          "Drama",
          "Thriller",
          "Action",
          "Comedy",
          "Crime Fiction",
          "Romance Film",
          "Adventure",
          "Science Fiction",
          "Horror",
          "Period piece",
          "Fantasy",
          "Film adaptation",
          "Cult",
          "Indie",
          "Coming of age",
          "War film",
          "Mystery",
          "Romantic drama",
          "Crime Thriller",
          "Teen"
         ],
         "xaxis": "x",
         "y": [
          8.145849495733126,
          6.167571761055082,
          6.167571761055082,
          4.693560899922421,
          3.8789759503491075,
          3.60744763382467,
          3.4134988363072147,
          3.335919317300233,
          2.2498060512024827,
          2.094647013188518,
          2.0558572536850273,
          1.900698215671063,
          1.7843289371605897,
          1.6679596586501164,
          1.6291698991466252,
          1.6291698991466252,
          1.6291698991466252,
          1.5515903801396431,
          1.4352211016291698,
          1.3576415826221877
         ],
         "yaxis": "y"
        }
       ],
       "layout": {
        "barmode": "relative",
        "legend": {
         "tracegroupgap": 0
        },
        "template": {
         "data": {
          "bar": [
           {
            "error_x": {
             "color": "#2a3f5f"
            },
            "error_y": {
             "color": "#2a3f5f"
            },
            "marker": {
             "line": {
              "color": "white",
              "width": 0.5
             },
             "pattern": {
              "fillmode": "overlay",
              "size": 10,
              "solidity": 0.2
             }
            },
            "type": "bar"
           }
          ],
          "barpolar": [
           {
            "marker": {
             "line": {
              "color": "white",
              "width": 0.5
             },
             "pattern": {
              "fillmode": "overlay",
              "size": 10,
              "solidity": 0.2
             }
            },
            "type": "barpolar"
           }
          ],
          "carpet": [
           {
            "aaxis": {
             "endlinecolor": "#2a3f5f",
             "gridcolor": "#C8D4E3",
             "linecolor": "#C8D4E3",
             "minorgridcolor": "#C8D4E3",
             "startlinecolor": "#2a3f5f"
            },
            "baxis": {
             "endlinecolor": "#2a3f5f",
             "gridcolor": "#C8D4E3",
             "linecolor": "#C8D4E3",
             "minorgridcolor": "#C8D4E3",
             "startlinecolor": "#2a3f5f"
            },
            "type": "carpet"
           }
          ],
          "choropleth": [
           {
            "colorbar": {
             "outlinewidth": 0,
             "ticks": ""
            },
            "type": "choropleth"
           }
          ],
          "contour": [
           {
            "colorbar": {
             "outlinewidth": 0,
             "ticks": ""
            },
            "colorscale": [
             [
              0,
              "#0d0887"
             ],
             [
              0.1111111111111111,
              "#46039f"
             ],
             [
              0.2222222222222222,
              "#7201a8"
             ],
             [
              0.3333333333333333,
              "#9c179e"
             ],
             [
              0.4444444444444444,
              "#bd3786"
             ],
             [
              0.5555555555555556,
              "#d8576b"
             ],
             [
              0.6666666666666666,
              "#ed7953"
             ],
             [
              0.7777777777777778,
              "#fb9f3a"
             ],
             [
              0.8888888888888888,
              "#fdca26"
             ],
             [
              1,
              "#f0f921"
             ]
            ],
            "type": "contour"
           }
          ],
          "contourcarpet": [
           {
            "colorbar": {
             "outlinewidth": 0,
             "ticks": ""
            },
            "type": "contourcarpet"
           }
          ],
          "heatmap": [
           {
            "colorbar": {
             "outlinewidth": 0,
             "ticks": ""
            },
            "colorscale": [
             [
              0,
              "#0d0887"
             ],
             [
              0.1111111111111111,
              "#46039f"
             ],
             [
              0.2222222222222222,
              "#7201a8"
             ],
             [
              0.3333333333333333,
              "#9c179e"
             ],
             [
              0.4444444444444444,
              "#bd3786"
             ],
             [
              0.5555555555555556,
              "#d8576b"
             ],
             [
              0.6666666666666666,
              "#ed7953"
             ],
             [
              0.7777777777777778,
              "#fb9f3a"
             ],
             [
              0.8888888888888888,
              "#fdca26"
             ],
             [
              1,
              "#f0f921"
             ]
            ],
            "type": "heatmap"
           }
          ],
          "heatmapgl": [
           {
            "colorbar": {
             "outlinewidth": 0,
             "ticks": ""
            },
            "colorscale": [
             [
              0,
              "#0d0887"
             ],
             [
              0.1111111111111111,
              "#46039f"
             ],
             [
              0.2222222222222222,
              "#7201a8"
             ],
             [
              0.3333333333333333,
              "#9c179e"
             ],
             [
              0.4444444444444444,
              "#bd3786"
             ],
             [
              0.5555555555555556,
              "#d8576b"
             ],
             [
              0.6666666666666666,
              "#ed7953"
             ],
             [
              0.7777777777777778,
              "#fb9f3a"
             ],
             [
              0.8888888888888888,
              "#fdca26"
             ],
             [
              1,
              "#f0f921"
             ]
            ],
            "type": "heatmapgl"
           }
          ],
          "histogram": [
           {
            "marker": {
             "pattern": {
              "fillmode": "overlay",
              "size": 10,
              "solidity": 0.2
             }
            },
            "type": "histogram"
           }
          ],
          "histogram2d": [
           {
            "colorbar": {
             "outlinewidth": 0,
             "ticks": ""
            },
            "colorscale": [
             [
              0,
              "#0d0887"
             ],
             [
              0.1111111111111111,
              "#46039f"
             ],
             [
              0.2222222222222222,
              "#7201a8"
             ],
             [
              0.3333333333333333,
              "#9c179e"
             ],
             [
              0.4444444444444444,
              "#bd3786"
             ],
             [
              0.5555555555555556,
              "#d8576b"
             ],
             [
              0.6666666666666666,
              "#ed7953"
             ],
             [
              0.7777777777777778,
              "#fb9f3a"
             ],
             [
              0.8888888888888888,
              "#fdca26"
             ],
             [
              1,
              "#f0f921"
             ]
            ],
            "type": "histogram2d"
           }
          ],
          "histogram2dcontour": [
           {
            "colorbar": {
             "outlinewidth": 0,
             "ticks": ""
            },
            "colorscale": [
             [
              0,
              "#0d0887"
             ],
             [
              0.1111111111111111,
              "#46039f"
             ],
             [
              0.2222222222222222,
              "#7201a8"
             ],
             [
              0.3333333333333333,
              "#9c179e"
             ],
             [
              0.4444444444444444,
              "#bd3786"
             ],
             [
              0.5555555555555556,
              "#d8576b"
             ],
             [
              0.6666666666666666,
              "#ed7953"
             ],
             [
              0.7777777777777778,
              "#fb9f3a"
             ],
             [
              0.8888888888888888,
              "#fdca26"
             ],
             [
              1,
              "#f0f921"
             ]
            ],
            "type": "histogram2dcontour"
           }
          ],
          "mesh3d": [
           {
            "colorbar": {
             "outlinewidth": 0,
             "ticks": ""
            },
            "type": "mesh3d"
           }
          ],
          "parcoords": [
           {
            "line": {
             "colorbar": {
              "outlinewidth": 0,
              "ticks": ""
             }
            },
            "type": "parcoords"
           }
          ],
          "pie": [
           {
            "automargin": true,
            "type": "pie"
           }
          ],
          "scatter": [
           {
            "fillpattern": {
             "fillmode": "overlay",
             "size": 10,
             "solidity": 0.2
            },
            "type": "scatter"
           }
          ],
          "scatter3d": [
           {
            "line": {
             "colorbar": {
              "outlinewidth": 0,
              "ticks": ""
             }
            },
            "marker": {
             "colorbar": {
              "outlinewidth": 0,
              "ticks": ""
             }
            },
            "type": "scatter3d"
           }
          ],
          "scattercarpet": [
           {
            "marker": {
             "colorbar": {
              "outlinewidth": 0,
              "ticks": ""
             }
            },
            "type": "scattercarpet"
           }
          ],
          "scattergeo": [
           {
            "marker": {
             "colorbar": {
              "outlinewidth": 0,
              "ticks": ""
             }
            },
            "type": "scattergeo"
           }
          ],
          "scattergl": [
           {
            "marker": {
             "colorbar": {
              "outlinewidth": 0,
              "ticks": ""
             }
            },
            "type": "scattergl"
           }
          ],
          "scattermapbox": [
           {
            "marker": {
             "colorbar": {
              "outlinewidth": 0,
              "ticks": ""
             }
            },
            "type": "scattermapbox"
           }
          ],
          "scatterpolar": [
           {
            "marker": {
             "colorbar": {
              "outlinewidth": 0,
              "ticks": ""
             }
            },
            "type": "scatterpolar"
           }
          ],
          "scatterpolargl": [
           {
            "marker": {
             "colorbar": {
              "outlinewidth": 0,
              "ticks": ""
             }
            },
            "type": "scatterpolargl"
           }
          ],
          "scatterternary": [
           {
            "marker": {
             "colorbar": {
              "outlinewidth": 0,
              "ticks": ""
             }
            },
            "type": "scatterternary"
           }
          ],
          "surface": [
           {
            "colorbar": {
             "outlinewidth": 0,
             "ticks": ""
            },
            "colorscale": [
             [
              0,
              "#0d0887"
             ],
             [
              0.1111111111111111,
              "#46039f"
             ],
             [
              0.2222222222222222,
              "#7201a8"
             ],
             [
              0.3333333333333333,
              "#9c179e"
             ],
             [
              0.4444444444444444,
              "#bd3786"
             ],
             [
              0.5555555555555556,
              "#d8576b"
             ],
             [
              0.6666666666666666,
              "#ed7953"
             ],
             [
              0.7777777777777778,
              "#fb9f3a"
             ],
             [
              0.8888888888888888,
              "#fdca26"
             ],
             [
              1,
              "#f0f921"
             ]
            ],
            "type": "surface"
           }
          ],
          "table": [
           {
            "cells": {
             "fill": {
              "color": "#EBF0F8"
             },
             "line": {
              "color": "white"
             }
            },
            "header": {
             "fill": {
              "color": "#C8D4E3"
             },
             "line": {
              "color": "white"
             }
            },
            "type": "table"
           }
          ]
         },
         "layout": {
          "annotationdefaults": {
           "arrowcolor": "#2a3f5f",
           "arrowhead": 0,
           "arrowwidth": 1
          },
          "autotypenumbers": "strict",
          "coloraxis": {
           "colorbar": {
            "outlinewidth": 0,
            "ticks": ""
           }
          },
          "colorscale": {
           "diverging": [
            [
             0,
             "#8e0152"
            ],
            [
             0.1,
             "#c51b7d"
            ],
            [
             0.2,
             "#de77ae"
            ],
            [
             0.3,
             "#f1b6da"
            ],
            [
             0.4,
             "#fde0ef"
            ],
            [
             0.5,
             "#f7f7f7"
            ],
            [
             0.6,
             "#e6f5d0"
            ],
            [
             0.7,
             "#b8e186"
            ],
            [
             0.8,
             "#7fbc41"
            ],
            [
             0.9,
             "#4d9221"
            ],
            [
             1,
             "#276419"
            ]
           ],
           "sequential": [
            [
             0,
             "#0d0887"
            ],
            [
             0.1111111111111111,
             "#46039f"
            ],
            [
             0.2222222222222222,
             "#7201a8"
            ],
            [
             0.3333333333333333,
             "#9c179e"
            ],
            [
             0.4444444444444444,
             "#bd3786"
            ],
            [
             0.5555555555555556,
             "#d8576b"
            ],
            [
             0.6666666666666666,
             "#ed7953"
            ],
            [
             0.7777777777777778,
             "#fb9f3a"
            ],
            [
             0.8888888888888888,
             "#fdca26"
            ],
            [
             1,
             "#f0f921"
            ]
           ],
           "sequentialminus": [
            [
             0,
             "#0d0887"
            ],
            [
             0.1111111111111111,
             "#46039f"
            ],
            [
             0.2222222222222222,
             "#7201a8"
            ],
            [
             0.3333333333333333,
             "#9c179e"
            ],
            [
             0.4444444444444444,
             "#bd3786"
            ],
            [
             0.5555555555555556,
             "#d8576b"
            ],
            [
             0.6666666666666666,
             "#ed7953"
            ],
            [
             0.7777777777777778,
             "#fb9f3a"
            ],
            [
             0.8888888888888888,
             "#fdca26"
            ],
            [
             1,
             "#f0f921"
            ]
           ]
          },
          "colorway": [
           "#636efa",
           "#EF553B",
           "#00cc96",
           "#ab63fa",
           "#FFA15A",
           "#19d3f3",
           "#FF6692",
           "#B6E880",
           "#FF97FF",
           "#FECB52"
          ],
          "font": {
           "color": "#2a3f5f"
          },
          "geo": {
           "bgcolor": "white",
           "lakecolor": "white",
           "landcolor": "white",
           "showlakes": true,
           "showland": true,
           "subunitcolor": "#C8D4E3"
          },
          "hoverlabel": {
           "align": "left"
          },
          "hovermode": "closest",
          "mapbox": {
           "style": "light"
          },
          "paper_bgcolor": "white",
          "plot_bgcolor": "white",
          "polar": {
           "angularaxis": {
            "gridcolor": "#EBF0F8",
            "linecolor": "#EBF0F8",
            "ticks": ""
           },
           "bgcolor": "white",
           "radialaxis": {
            "gridcolor": "#EBF0F8",
            "linecolor": "#EBF0F8",
            "ticks": ""
           }
          },
          "scene": {
           "xaxis": {
            "backgroundcolor": "white",
            "gridcolor": "#DFE8F3",
            "gridwidth": 2,
            "linecolor": "#EBF0F8",
            "showbackground": true,
            "ticks": "",
            "zerolinecolor": "#EBF0F8"
           },
           "yaxis": {
            "backgroundcolor": "white",
            "gridcolor": "#DFE8F3",
            "gridwidth": 2,
            "linecolor": "#EBF0F8",
            "showbackground": true,
            "ticks": "",
            "zerolinecolor": "#EBF0F8"
           },
           "zaxis": {
            "backgroundcolor": "white",
            "gridcolor": "#DFE8F3",
            "gridwidth": 2,
            "linecolor": "#EBF0F8",
            "showbackground": true,
            "ticks": "",
            "zerolinecolor": "#EBF0F8"
           }
          },
          "shapedefaults": {
           "line": {
            "color": "#2a3f5f"
           }
          },
          "ternary": {
           "aaxis": {
            "gridcolor": "#DFE8F3",
            "linecolor": "#A2B1C6",
            "ticks": ""
           },
           "baxis": {
            "gridcolor": "#DFE8F3",
            "linecolor": "#A2B1C6",
            "ticks": ""
           },
           "bgcolor": "white",
           "caxis": {
            "gridcolor": "#DFE8F3",
            "linecolor": "#A2B1C6",
            "ticks": ""
           }
          },
          "title": {
           "x": 0.05
          },
          "xaxis": {
           "automargin": true,
           "gridcolor": "#EBF0F8",
           "linecolor": "#EBF0F8",
           "ticks": "",
           "title": {
            "standoff": 15
           },
           "zerolinecolor": "#EBF0F8",
           "zerolinewidth": 2
          },
          "yaxis": {
           "automargin": true,
           "gridcolor": "#EBF0F8",
           "linecolor": "#EBF0F8",
           "ticks": "",
           "title": {
            "standoff": 15
           },
           "zerolinecolor": "#EBF0F8",
           "zerolinewidth": 2
          }
         }
        },
        "title": {
         "text": "Top 10 Most Influential Movie Genres on Names"
        },
        "xaxis": {
         "anchor": "y",
         "domain": [
          0,
          1
         ],
         "title": {
          "text": "Genres"
         }
        },
        "yaxis": {
         "anchor": "x",
         "domain": [
          0,
          1
         ],
         "title": {
          "text": "Proportion (%)"
         }
        }
       }
      }
     },
     "metadata": {},
     "output_type": "display_data"
    }
   ],
   "source": [
    "# visusalisation\n",
    "\n",
    "# viauslization \n",
    "def plot_top_genres(genre_influence, metric):\n",
    "    \"\"\"\n",
    "    Create a bar chart for the top N genres and save it as an HTML file.\n",
    "    \"\"\"\n",
    "    fig = px.bar(\n",
    "        genre_influence,\n",
    "        x='Genres',\n",
    "        y=metric,\n",
    "        title='Top 10 Most Influential Movie Genres on Names',\n",
    "        labels={'Mean Difference': 'Total Influence Score'},\n",
    "        template='plotly_white'\n",
    "    )\n",
    "\n",
    "    fig.show()\n",
    "\n",
    "    \n",
    "plot_top_genres(top_genres_proportion, metric = 'Proportion (%)')   "
   ]
  },
  {
   "cell_type": "code",
   "execution_count": 89,
   "metadata": {},
   "outputs": [
    {
     "name": "stdout",
     "output_type": "stream",
     "text": [
      "Top Names for Top Genres:\n"
     ]
    },
    {
     "name": "stderr",
     "output_type": "stream",
     "text": [
      "C:\\Users\\Pauline\\AppData\\Local\\Temp\\ipykernel_2080\\1390438601.py:26: DeprecationWarning:\n",
      "\n",
      "DataFrameGroupBy.apply operated on the grouping columns. This behavior is deprecated, and in a future version of pandas the grouping columns will be excluded from the operation. Either pass `include_groups=False` to exclude the groupings or explicitly select the grouping columns after groupby to silence this warning.\n",
      "\n"
     ]
    },
    {
     "data": {
      "text/html": [
       "<div>\n",
       "<style scoped>\n",
       "    .dataframe tbody tr th:only-of-type {\n",
       "        vertical-align: middle;\n",
       "    }\n",
       "\n",
       "    .dataframe tbody tr th {\n",
       "        vertical-align: top;\n",
       "    }\n",
       "\n",
       "    .dataframe thead th {\n",
       "        text-align: right;\n",
       "    }\n",
       "</style>\n",
       "<table border=\"1\" class=\"dataframe\">\n",
       "  <thead>\n",
       "    <tr style=\"text-align: right;\">\n",
       "      <th></th>\n",
       "      <th>Genres</th>\n",
       "      <th>Normalized_name</th>\n",
       "      <th>Count</th>\n",
       "    </tr>\n",
       "  </thead>\n",
       "  <tbody>\n",
       "    <tr>\n",
       "      <th>0</th>\n",
       "      <td>Action</td>\n",
       "      <td>JACK</td>\n",
       "      <td>6</td>\n",
       "    </tr>\n",
       "    <tr>\n",
       "      <th>1</th>\n",
       "      <td>Action</td>\n",
       "      <td>MAX</td>\n",
       "      <td>5</td>\n",
       "    </tr>\n",
       "    <tr>\n",
       "      <th>2</th>\n",
       "      <td>Action</td>\n",
       "      <td>CARTER</td>\n",
       "      <td>4</td>\n",
       "    </tr>\n",
       "    <tr>\n",
       "      <th>3</th>\n",
       "      <td>Adventure</td>\n",
       "      <td>CLARK</td>\n",
       "      <td>4</td>\n",
       "    </tr>\n",
       "    <tr>\n",
       "      <th>4</th>\n",
       "      <td>Adventure</td>\n",
       "      <td>JACK</td>\n",
       "      <td>4</td>\n",
       "    </tr>\n",
       "    <tr>\n",
       "      <th>5</th>\n",
       "      <td>Adventure</td>\n",
       "      <td>ISLA</td>\n",
       "      <td>3</td>\n",
       "    </tr>\n",
       "    <tr>\n",
       "      <th>6</th>\n",
       "      <td>Comedy</td>\n",
       "      <td>MAX</td>\n",
       "      <td>5</td>\n",
       "    </tr>\n",
       "    <tr>\n",
       "      <th>7</th>\n",
       "      <td>Comedy</td>\n",
       "      <td>SAM</td>\n",
       "      <td>4</td>\n",
       "    </tr>\n",
       "    <tr>\n",
       "      <th>8</th>\n",
       "      <td>Comedy</td>\n",
       "      <td>CLARK</td>\n",
       "      <td>3</td>\n",
       "    </tr>\n",
       "    <tr>\n",
       "      <th>9</th>\n",
       "      <td>Crime Fiction</td>\n",
       "      <td>JACK</td>\n",
       "      <td>4</td>\n",
       "    </tr>\n",
       "    <tr>\n",
       "      <th>10</th>\n",
       "      <td>Crime Fiction</td>\n",
       "      <td>MAX</td>\n",
       "      <td>3</td>\n",
       "    </tr>\n",
       "    <tr>\n",
       "      <th>11</th>\n",
       "      <td>Crime Fiction</td>\n",
       "      <td>ARCHER</td>\n",
       "      <td>2</td>\n",
       "    </tr>\n",
       "    <tr>\n",
       "      <th>12</th>\n",
       "      <td>Drama</td>\n",
       "      <td>JACK</td>\n",
       "      <td>6</td>\n",
       "    </tr>\n",
       "    <tr>\n",
       "      <th>13</th>\n",
       "      <td>Drama</td>\n",
       "      <td>SAM</td>\n",
       "      <td>5</td>\n",
       "    </tr>\n",
       "    <tr>\n",
       "      <th>14</th>\n",
       "      <td>Drama</td>\n",
       "      <td>CHARLIE</td>\n",
       "      <td>3</td>\n",
       "    </tr>\n",
       "    <tr>\n",
       "      <th>15</th>\n",
       "      <td>Horror</td>\n",
       "      <td>CARTER</td>\n",
       "      <td>2</td>\n",
       "    </tr>\n",
       "    <tr>\n",
       "      <th>16</th>\n",
       "      <td>Horror</td>\n",
       "      <td>ELLIE</td>\n",
       "      <td>2</td>\n",
       "    </tr>\n",
       "    <tr>\n",
       "      <th>17</th>\n",
       "      <td>Horror</td>\n",
       "      <td>EVELYN</td>\n",
       "      <td>2</td>\n",
       "    </tr>\n",
       "    <tr>\n",
       "      <th>18</th>\n",
       "      <td>Period piece</td>\n",
       "      <td>JACK</td>\n",
       "      <td>3</td>\n",
       "    </tr>\n",
       "    <tr>\n",
       "      <th>19</th>\n",
       "      <td>Period piece</td>\n",
       "      <td>DAWSON</td>\n",
       "      <td>2</td>\n",
       "    </tr>\n",
       "    <tr>\n",
       "      <th>20</th>\n",
       "      <td>Period piece</td>\n",
       "      <td>EVELYN</td>\n",
       "      <td>2</td>\n",
       "    </tr>\n",
       "    <tr>\n",
       "      <th>21</th>\n",
       "      <td>Romance Film</td>\n",
       "      <td>JACK</td>\n",
       "      <td>4</td>\n",
       "    </tr>\n",
       "    <tr>\n",
       "      <th>22</th>\n",
       "      <td>Romance Film</td>\n",
       "      <td>DAWSON</td>\n",
       "      <td>2</td>\n",
       "    </tr>\n",
       "    <tr>\n",
       "      <th>23</th>\n",
       "      <td>Romance Film</td>\n",
       "      <td>JAKE</td>\n",
       "      <td>2</td>\n",
       "    </tr>\n",
       "    <tr>\n",
       "      <th>24</th>\n",
       "      <td>Science Fiction</td>\n",
       "      <td>MAX</td>\n",
       "      <td>5</td>\n",
       "    </tr>\n",
       "    <tr>\n",
       "      <th>25</th>\n",
       "      <td>Science Fiction</td>\n",
       "      <td>CONNOR</td>\n",
       "      <td>4</td>\n",
       "    </tr>\n",
       "    <tr>\n",
       "      <th>26</th>\n",
       "      <td>Science Fiction</td>\n",
       "      <td>CLARK</td>\n",
       "      <td>3</td>\n",
       "    </tr>\n",
       "    <tr>\n",
       "      <th>27</th>\n",
       "      <td>Thriller</td>\n",
       "      <td>JACK</td>\n",
       "      <td>7</td>\n",
       "    </tr>\n",
       "    <tr>\n",
       "      <th>28</th>\n",
       "      <td>Thriller</td>\n",
       "      <td>CARTER</td>\n",
       "      <td>5</td>\n",
       "    </tr>\n",
       "    <tr>\n",
       "      <th>29</th>\n",
       "      <td>Thriller</td>\n",
       "      <td>MAX</td>\n",
       "      <td>5</td>\n",
       "    </tr>\n",
       "  </tbody>\n",
       "</table>\n",
       "</div>"
      ],
      "text/plain": [
       "             Genres Normalized_name  Count\n",
       "0            Action            JACK      6\n",
       "1            Action             MAX      5\n",
       "2            Action          CARTER      4\n",
       "3         Adventure           CLARK      4\n",
       "4         Adventure            JACK      4\n",
       "5         Adventure            ISLA      3\n",
       "6            Comedy             MAX      5\n",
       "7            Comedy             SAM      4\n",
       "8            Comedy           CLARK      3\n",
       "9     Crime Fiction            JACK      4\n",
       "10    Crime Fiction             MAX      3\n",
       "11    Crime Fiction          ARCHER      2\n",
       "12            Drama            JACK      6\n",
       "13            Drama             SAM      5\n",
       "14            Drama         CHARLIE      3\n",
       "15           Horror          CARTER      2\n",
       "16           Horror           ELLIE      2\n",
       "17           Horror          EVELYN      2\n",
       "18     Period piece            JACK      3\n",
       "19     Period piece          DAWSON      2\n",
       "20     Period piece          EVELYN      2\n",
       "21     Romance Film            JACK      4\n",
       "22     Romance Film          DAWSON      2\n",
       "23     Romance Film            JAKE      2\n",
       "24  Science Fiction             MAX      5\n",
       "25  Science Fiction          CONNOR      4\n",
       "26  Science Fiction           CLARK      3\n",
       "27         Thriller            JACK      7\n",
       "28         Thriller          CARTER      5\n",
       "29         Thriller             MAX      5"
      ]
     },
     "metadata": {},
     "output_type": "display_data"
    }
   ],
   "source": [
    "def find_top_names_for_top_genres(df, top_genres, top_n_names=3):\n",
    "    \"\"\"\n",
    "    Determine the top N normalized names for each of the top genres.\n",
    "\n",
    "    Parameters:\n",
    "        df (DataFrame): The dataset with 'Genres' and 'Normalized_name'.\n",
    "        top_genres (DataFrame): The DataFrame containing top genres with their counts.\n",
    "        top_n_names (int): Number of top names to retrieve per genre.\n",
    "\n",
    "    Returns:\n",
    "        DataFrame: Top N names for each genre.\n",
    "    \"\"\"\n",
    "    # Filter the dataset to include only rows with the top genres\n",
    "    filtered_df = df[df['Genres'].isin(top_genres['Genres'])]\n",
    "\n",
    "    # Group by genre and name, and count occurrences\n",
    "    name_counts = (\n",
    "        filtered_df.groupby(['Genres', 'Normalized_name'])\n",
    "        .size()\n",
    "        .reset_index(name='Count')\n",
    "    )\n",
    "\n",
    "    # Find the top N names for each genre\n",
    "    top_names = (\n",
    "        name_counts.groupby('Genres')\n",
    "        .apply(lambda x: x.nlargest(top_n_names, 'Count'))\n",
    "        .reset_index(drop=True)\n",
    "    )\n",
    "\n",
    "    return top_names\n",
    "\n",
    "# Example usage\n",
    "top_names = find_top_names_for_top_genres(names_influenced, top_genres, top_n_names=3)\n",
    "print(\"Top Names for Top Genres:\")\n",
    "display(top_names)\n"
   ]
  },
  {
   "cell_type": "code",
   "execution_count": 90,
   "metadata": {},
   "outputs": [
    {
     "name": "stdout",
     "output_type": "stream",
     "text": [
      "Top Names with Associated Movies:\n"
     ]
    },
    {
     "name": "stderr",
     "output_type": "stream",
     "text": [
      "C:\\Users\\Pauline\\AppData\\Local\\Temp\\ipykernel_2080\\4168232870.py:29: DeprecationWarning:\n",
      "\n",
      "DataFrameGroupBy.apply operated on the grouping columns. This behavior is deprecated, and in a future version of pandas the grouping columns will be excluded from the operation. Either pass `include_groups=False` to exclude the groupings or explicitly select the grouping columns after groupby to silence this warning.\n",
      "\n"
     ]
    },
    {
     "data": {
      "text/html": [
       "<div>\n",
       "<style scoped>\n",
       "    .dataframe tbody tr th:only-of-type {\n",
       "        vertical-align: middle;\n",
       "    }\n",
       "\n",
       "    .dataframe tbody tr th {\n",
       "        vertical-align: top;\n",
       "    }\n",
       "\n",
       "    .dataframe thead th {\n",
       "        text-align: right;\n",
       "    }\n",
       "</style>\n",
       "<table border=\"1\" class=\"dataframe\">\n",
       "  <thead>\n",
       "    <tr style=\"text-align: right;\">\n",
       "      <th></th>\n",
       "      <th>Genres</th>\n",
       "      <th>Normalized_name</th>\n",
       "      <th>Count</th>\n",
       "      <th>Movie_Names</th>\n",
       "    </tr>\n",
       "  </thead>\n",
       "  <tbody>\n",
       "    <tr>\n",
       "      <th>0</th>\n",
       "      <td>Action</td>\n",
       "      <td>JACK</td>\n",
       "      <td>6</td>\n",
       "      <td>[Goldeneye, Speed, Lethal Weapon 3, The Hunt F...</td>\n",
       "    </tr>\n",
       "    <tr>\n",
       "      <th>1</th>\n",
       "      <td>Action</td>\n",
       "      <td>MAX</td>\n",
       "      <td>5</td>\n",
       "      <td>[Jackie Brown, Mission: Impossible, Mad Max Be...</td>\n",
       "    </tr>\n",
       "    <tr>\n",
       "      <th>2</th>\n",
       "      <td>Action</td>\n",
       "      <td>CARTER</td>\n",
       "      <td>4</td>\n",
       "      <td>[2 Fast 2 Furious, Rush Hour, The Lost World: ...</td>\n",
       "    </tr>\n",
       "    <tr>\n",
       "      <th>3</th>\n",
       "      <td>Adventure</td>\n",
       "      <td>CLARK</td>\n",
       "      <td>4</td>\n",
       "      <td>[Superman Ii, Superman Iii, Vacation, Superman]</td>\n",
       "    </tr>\n",
       "    <tr>\n",
       "      <th>4</th>\n",
       "      <td>Adventure</td>\n",
       "      <td>JACK</td>\n",
       "      <td>4</td>\n",
       "      <td>[Apollo 13, Goldeneye, Speed, Big Trouble In L...</td>\n",
       "    </tr>\n",
       "    <tr>\n",
       "      <th>5</th>\n",
       "      <td>Adventure</td>\n",
       "      <td>ISLA</td>\n",
       "      <td>3</td>\n",
       "      <td>[Jurassic Park Iii, The Lost World: Jurassic P...</td>\n",
       "    </tr>\n",
       "    <tr>\n",
       "      <th>6</th>\n",
       "      <td>Comedy</td>\n",
       "      <td>MAX</td>\n",
       "      <td>5</td>\n",
       "      <td>[Jackie Brown, Liar Liar, Notting Hill, The Lo...</td>\n",
       "    </tr>\n",
       "    <tr>\n",
       "      <th>7</th>\n",
       "      <td>Comedy</td>\n",
       "      <td>SAM</td>\n",
       "      <td>4</td>\n",
       "      <td>[Sleepless In Seattle, The Lost Boys, Ghost, B...</td>\n",
       "    </tr>\n",
       "    <tr>\n",
       "      <th>8</th>\n",
       "      <td>Comedy</td>\n",
       "      <td>CLARK</td>\n",
       "      <td>3</td>\n",
       "      <td>[Superman Iii, Vacation, The Breakfast Club]</td>\n",
       "    </tr>\n",
       "    <tr>\n",
       "      <th>9</th>\n",
       "      <td>Crime Fiction</td>\n",
       "      <td>JACK</td>\n",
       "      <td>4</td>\n",
       "      <td>[The Usual Suspects, Speed, Lethal Weapon 3, T...</td>\n",
       "    </tr>\n",
       "    <tr>\n",
       "      <th>10</th>\n",
       "      <td>Crime Fiction</td>\n",
       "      <td>MAX</td>\n",
       "      <td>3</td>\n",
       "      <td>[Jackie Brown, Once Upon A Time In America, Mi...</td>\n",
       "    </tr>\n",
       "    <tr>\n",
       "      <th>11</th>\n",
       "      <td>Crime Fiction</td>\n",
       "      <td>ARCHER</td>\n",
       "      <td>2</td>\n",
       "      <td>[Blood Diamond, Face/Off]</td>\n",
       "    </tr>\n",
       "    <tr>\n",
       "      <th>12</th>\n",
       "      <td>Drama</td>\n",
       "      <td>JACK</td>\n",
       "      <td>6</td>\n",
       "      <td>[Apollo 13, Titanic, The Last Of The Mohicans,...</td>\n",
       "    </tr>\n",
       "    <tr>\n",
       "      <th>13</th>\n",
       "      <td>Drama</td>\n",
       "      <td>SAM</td>\n",
       "      <td>5</td>\n",
       "      <td>[Casino, Sleepless In Seattle, Ghost, Brazil, ...</td>\n",
       "    </tr>\n",
       "    <tr>\n",
       "      <th>14</th>\n",
       "      <td>Drama</td>\n",
       "      <td>CHARLIE</td>\n",
       "      <td>3</td>\n",
       "      <td>[Saving Private Ryan, Being John Malkovich, St...</td>\n",
       "    </tr>\n",
       "    <tr>\n",
       "      <th>15</th>\n",
       "      <td>Horror</td>\n",
       "      <td>CARTER</td>\n",
       "      <td>2</td>\n",
       "      <td>[Final Destination, Aliens]</td>\n",
       "    </tr>\n",
       "    <tr>\n",
       "      <th>16</th>\n",
       "      <td>Horror</td>\n",
       "      <td>ELLIE</td>\n",
       "      <td>2</td>\n",
       "      <td>[Jurassic Park Iii, Jurassic Park]</td>\n",
       "    </tr>\n",
       "    <tr>\n",
       "      <th>17</th>\n",
       "      <td>Horror</td>\n",
       "      <td>EVELYN</td>\n",
       "      <td>2</td>\n",
       "      <td>[The Mummy Returns, American Psycho]</td>\n",
       "    </tr>\n",
       "    <tr>\n",
       "      <th>18</th>\n",
       "      <td>Period piece</td>\n",
       "      <td>JACK</td>\n",
       "      <td>3</td>\n",
       "      <td>[Titanic, The Last Of The Mohicans, Bram Stoke...</td>\n",
       "    </tr>\n",
       "    <tr>\n",
       "      <th>19</th>\n",
       "      <td>Period piece</td>\n",
       "      <td>DAWSON</td>\n",
       "      <td>2</td>\n",
       "      <td>[Titanic]</td>\n",
       "    </tr>\n",
       "    <tr>\n",
       "      <th>20</th>\n",
       "      <td>Period piece</td>\n",
       "      <td>EVELYN</td>\n",
       "      <td>2</td>\n",
       "      <td>[Pearl Harbor, American Psycho]</td>\n",
       "    </tr>\n",
       "    <tr>\n",
       "      <th>21</th>\n",
       "      <td>Romance Film</td>\n",
       "      <td>JACK</td>\n",
       "      <td>4</td>\n",
       "      <td>[Titanic, The Last Of The Mohicans, Bram Stoke...</td>\n",
       "    </tr>\n",
       "    <tr>\n",
       "      <th>22</th>\n",
       "      <td>Romance Film</td>\n",
       "      <td>DAWSON</td>\n",
       "      <td>2</td>\n",
       "      <td>[Titanic]</td>\n",
       "    </tr>\n",
       "    <tr>\n",
       "      <th>23</th>\n",
       "      <td>Romance Film</td>\n",
       "      <td>JAKE</td>\n",
       "      <td>2</td>\n",
       "      <td>[Dirty Dancing, Sixteen Candles]</td>\n",
       "    </tr>\n",
       "    <tr>\n",
       "      <th>24</th>\n",
       "      <td>Science Fiction</td>\n",
       "      <td>MAX</td>\n",
       "      <td>5</td>\n",
       "      <td>[Mad Max Beyond Thunderdome, Weird Science, Vi...</td>\n",
       "    </tr>\n",
       "    <tr>\n",
       "      <th>25</th>\n",
       "      <td>Science Fiction</td>\n",
       "      <td>CONNOR</td>\n",
       "      <td>4</td>\n",
       "      <td>[Terminator 2: Judgment Day, Highlander, The T...</td>\n",
       "    </tr>\n",
       "    <tr>\n",
       "      <th>26</th>\n",
       "      <td>Science Fiction</td>\n",
       "      <td>CLARK</td>\n",
       "      <td>3</td>\n",
       "      <td>[Superman Ii, Superman Iii, Superman]</td>\n",
       "    </tr>\n",
       "    <tr>\n",
       "      <th>27</th>\n",
       "      <td>Thriller</td>\n",
       "      <td>JACK</td>\n",
       "      <td>7</td>\n",
       "      <td>[Goldeneye, The Usual Suspects, Speed, Bram St...</td>\n",
       "    </tr>\n",
       "    <tr>\n",
       "      <th>28</th>\n",
       "      <td>Thriller</td>\n",
       "      <td>CARTER</td>\n",
       "      <td>5</td>\n",
       "      <td>[2 Fast 2 Furious, Final Destination, Rush Hou...</td>\n",
       "    </tr>\n",
       "    <tr>\n",
       "      <th>29</th>\n",
       "      <td>Thriller</td>\n",
       "      <td>MAX</td>\n",
       "      <td>5</td>\n",
       "      <td>[Jackie Brown, Mission: Impossible, Videodrome...</td>\n",
       "    </tr>\n",
       "  </tbody>\n",
       "</table>\n",
       "</div>"
      ],
      "text/plain": [
       "             Genres Normalized_name  Count  \\\n",
       "0            Action            JACK      6   \n",
       "1            Action             MAX      5   \n",
       "2            Action          CARTER      4   \n",
       "3         Adventure           CLARK      4   \n",
       "4         Adventure            JACK      4   \n",
       "5         Adventure            ISLA      3   \n",
       "6            Comedy             MAX      5   \n",
       "7            Comedy             SAM      4   \n",
       "8            Comedy           CLARK      3   \n",
       "9     Crime Fiction            JACK      4   \n",
       "10    Crime Fiction             MAX      3   \n",
       "11    Crime Fiction          ARCHER      2   \n",
       "12            Drama            JACK      6   \n",
       "13            Drama             SAM      5   \n",
       "14            Drama         CHARLIE      3   \n",
       "15           Horror          CARTER      2   \n",
       "16           Horror           ELLIE      2   \n",
       "17           Horror          EVELYN      2   \n",
       "18     Period piece            JACK      3   \n",
       "19     Period piece          DAWSON      2   \n",
       "20     Period piece          EVELYN      2   \n",
       "21     Romance Film            JACK      4   \n",
       "22     Romance Film          DAWSON      2   \n",
       "23     Romance Film            JAKE      2   \n",
       "24  Science Fiction             MAX      5   \n",
       "25  Science Fiction          CONNOR      4   \n",
       "26  Science Fiction           CLARK      3   \n",
       "27         Thriller            JACK      7   \n",
       "28         Thriller          CARTER      5   \n",
       "29         Thriller             MAX      5   \n",
       "\n",
       "                                          Movie_Names  \n",
       "0   [Goldeneye, Speed, Lethal Weapon 3, The Hunt F...  \n",
       "1   [Jackie Brown, Mission: Impossible, Mad Max Be...  \n",
       "2   [2 Fast 2 Furious, Rush Hour, The Lost World: ...  \n",
       "3     [Superman Ii, Superman Iii, Vacation, Superman]  \n",
       "4   [Apollo 13, Goldeneye, Speed, Big Trouble In L...  \n",
       "5   [Jurassic Park Iii, The Lost World: Jurassic P...  \n",
       "6   [Jackie Brown, Liar Liar, Notting Hill, The Lo...  \n",
       "7   [Sleepless In Seattle, The Lost Boys, Ghost, B...  \n",
       "8        [Superman Iii, Vacation, The Breakfast Club]  \n",
       "9   [The Usual Suspects, Speed, Lethal Weapon 3, T...  \n",
       "10  [Jackie Brown, Once Upon A Time In America, Mi...  \n",
       "11                          [Blood Diamond, Face/Off]  \n",
       "12  [Apollo 13, Titanic, The Last Of The Mohicans,...  \n",
       "13  [Casino, Sleepless In Seattle, Ghost, Brazil, ...  \n",
       "14  [Saving Private Ryan, Being John Malkovich, St...  \n",
       "15                        [Final Destination, Aliens]  \n",
       "16                 [Jurassic Park Iii, Jurassic Park]  \n",
       "17               [The Mummy Returns, American Psycho]  \n",
       "18  [Titanic, The Last Of The Mohicans, Bram Stoke...  \n",
       "19                                          [Titanic]  \n",
       "20                    [Pearl Harbor, American Psycho]  \n",
       "21  [Titanic, The Last Of The Mohicans, Bram Stoke...  \n",
       "22                                          [Titanic]  \n",
       "23                   [Dirty Dancing, Sixteen Candles]  \n",
       "24  [Mad Max Beyond Thunderdome, Weird Science, Vi...  \n",
       "25  [Terminator 2: Judgment Day, Highlander, The T...  \n",
       "26              [Superman Ii, Superman Iii, Superman]  \n",
       "27  [Goldeneye, The Usual Suspects, Speed, Bram St...  \n",
       "28  [2 Fast 2 Furious, Final Destination, Rush Hou...  \n",
       "29  [Jackie Brown, Mission: Impossible, Videodrome...  "
      ]
     },
     "metadata": {},
     "output_type": "display_data"
    }
   ],
   "source": [
    "def find_top_names_with_movies(df, top_genres, top_n_names=3):\n",
    "    \"\"\"\n",
    "    Determine the top N normalized names for each genre, with a list of movie names.\n",
    "\n",
    "    Parameters:\n",
    "        df (DataFrame): The dataset with 'Genres', 'Normalized_name', and 'Movie Name'.\n",
    "        top_genres (DataFrame): The DataFrame containing top genres with their counts.\n",
    "        top_n_names (int): Number of top names to retrieve per genre.\n",
    "\n",
    "    Returns:\n",
    "        DataFrame: Top N names for each genre with a list of associated movie names.\n",
    "    \"\"\"\n",
    "    # Filter the dataset to include only rows with the top genres\n",
    "    filtered_df = df[df['Genres'].isin(top_genres['Genres'])]\n",
    "\n",
    "    # Group by genre and normalized name, aggregating movie names into a list\n",
    "    grouped = (\n",
    "        filtered_df.groupby(['Genres', 'Normalized_name'])\n",
    "        .agg(\n",
    "            Count=('Normalized_name', 'size'),\n",
    "            Movie_Names=('Movie Name', lambda x: list(x.unique()))\n",
    "        )\n",
    "        .reset_index()\n",
    "    )\n",
    "\n",
    "    # Find the top N names for each genre\n",
    "    top_names = (\n",
    "        grouped.groupby('Genres')\n",
    "        .apply(lambda x: x.nlargest(top_n_names, 'Count'))\n",
    "        .reset_index(drop=True)\n",
    "    )\n",
    "\n",
    "    return top_names\n",
    "\n",
    "# Example usage\n",
    "top_names_with_movies = find_top_names_with_movies(names_influenced, top_genres, top_n_names=3)\n",
    "print(\"Top Names with Associated Movies:\")\n",
    "display(top_names_with_movies)\n"
   ]
  },
  {
   "cell_type": "code",
   "execution_count": 93,
   "metadata": {},
   "outputs": [
    {
     "data": {
      "application/vnd.plotly.v1+json": {
       "config": {
        "plotlyServerURL": "https://plot.ly"
       },
       "data": [
        {
         "branchvalues": "total",
         "customdata": [
          [
           "Blood Diamond, Face/Off",
           "Crime Fiction"
          ],
          [
           "2 Fast 2 Furious, Rush Hour, The Lost World: Jurassic Park, Aliens",
           "Action"
          ],
          [
           "Final Destination, Aliens",
           "Horror"
          ],
          [
           "2 Fast 2 Furious, Final Destination, Rush Hour, The Lost World: Jurassic Park, Aliens",
           "Thriller"
          ],
          [
           "Saving Private Ryan, Being John Malkovich, Stand By Me",
           "Drama"
          ],
          [
           "Superman Ii, Superman Iii, Vacation, Superman",
           "Adventure"
          ],
          [
           "Superman Iii, Vacation, The Breakfast Club",
           "Comedy"
          ],
          [
           "Superman Ii, Superman Iii, Superman",
           "Science Fiction"
          ],
          [
           "Terminator 2: Judgment Day, Highlander, The Terminator",
           "Science Fiction"
          ],
          [
           "Titanic",
           "Period piece"
          ],
          [
           "Titanic",
           "Romance Film"
          ],
          [
           "Jurassic Park Iii, Jurassic Park",
           "Horror"
          ],
          [
           "Pearl Harbor, American Psycho",
           "Period piece"
          ],
          [
           "Jurassic Park Iii, The Lost World: Jurassic Park",
           "Adventure"
          ],
          [
           "The Mummy Returns, American Psycho",
           "Horror"
          ],
          [
           "Goldeneye, Speed, Lethal Weapon 3, The Hunt For Red October, Ghostbusters Ii, Big Trouble In Little China",
           "Action"
          ],
          [
           "Apollo 13, Goldeneye, Speed, Big Trouble In Little China",
           "Adventure"
          ],
          [
           "The Usual Suspects, Speed, Lethal Weapon 3, The Silence Of The Lambs",
           "Crime Fiction"
          ],
          [
           "Apollo 13, Titanic, The Last Of The Mohicans, Bram Stoker'S Dracula, The Silence Of The Lambs, The Hunt For Red October",
           "Drama"
          ],
          [
           "Titanic, The Last Of The Mohicans, Bram Stoker'S Dracula",
           "Period piece"
          ],
          [
           "Titanic, The Last Of The Mohicans, Bram Stoker'S Dracula, Big Trouble In Little China",
           "Romance Film"
          ],
          [
           "Goldeneye, The Usual Suspects, Speed, Bram Stoker'S Dracula, Lethal Weapon 3, The Silence Of The Lambs, The Hunt For Red October",
           "Thriller"
          ],
          [
           "Dirty Dancing, Sixteen Candles",
           "Romance Film"
          ],
          [
           "Jackie Brown, Mission: Impossible, Mad Max Beyond Thunderdome, Mad Max",
           "Action"
          ],
          [
           "Jackie Brown, Liar Liar, Notting Hill, The Lost Boys, Weird Science",
           "Comedy"
          ],
          [
           "Jackie Brown, Once Upon A Time In America, Midnight Express",
           "Crime Fiction"
          ],
          [
           "Mad Max Beyond Thunderdome, Weird Science, Videodrome, Mad Max",
           "Science Fiction"
          ],
          [
           "Sleepless In Seattle, The Lost Boys, Ghost, Brazil",
           "Comedy"
          ],
          [
           "Jackie Brown, Mission: Impossible, Videodrome, Mad Max, Midnight Express",
           "Thriller"
          ],
          [
           "Casino, Sleepless In Seattle, Ghost, Brazil, First Blood",
           "Drama"
          ],
          [
           "(?)",
           "Action"
          ],
          [
           "(?)",
           "Adventure"
          ],
          [
           "(?)",
           "Comedy"
          ],
          [
           "(?)",
           "Crime Fiction"
          ],
          [
           "(?)",
           "Drama"
          ],
          [
           "(?)",
           "Horror"
          ],
          [
           "(?)",
           "Period piece"
          ],
          [
           "(?)",
           "Romance Film"
          ],
          [
           "(?)",
           "Science Fiction"
          ],
          [
           "(?)",
           "Thriller"
          ]
         ],
         "domain": {
          "x": [
           0,
           1
          ],
          "y": [
           0,
           1
          ]
         },
         "hovertemplate": "<b>%{label}</b><br>Movies: %{customdata[0]}<extra></extra>",
         "ids": [
          "Crime Fiction/ARCHER",
          "Action/CARTER",
          "Horror/CARTER",
          "Thriller/CARTER",
          "Drama/CHARLIE",
          "Adventure/CLARK",
          "Comedy/CLARK",
          "Science Fiction/CLARK",
          "Science Fiction/CONNOR",
          "Period piece/DAWSON",
          "Romance Film/DAWSON",
          "Horror/ELLIE",
          "Period piece/EVELYN",
          "Adventure/ISLA",
          "Horror/EVELYN",
          "Action/JACK",
          "Adventure/JACK",
          "Crime Fiction/JACK",
          "Drama/JACK",
          "Period piece/JACK",
          "Romance Film/JACK",
          "Thriller/JACK",
          "Romance Film/JAKE",
          "Action/MAX",
          "Comedy/MAX",
          "Crime Fiction/MAX",
          "Science Fiction/MAX",
          "Comedy/SAM",
          "Thriller/MAX",
          "Drama/SAM",
          "Action",
          "Adventure",
          "Comedy",
          "Crime Fiction",
          "Drama",
          "Horror",
          "Period piece",
          "Romance Film",
          "Science Fiction",
          "Thriller"
         ],
         "labels": [
          "ARCHER",
          "CARTER",
          "CARTER",
          "CARTER",
          "CHARLIE",
          "CLARK",
          "CLARK",
          "CLARK",
          "CONNOR",
          "DAWSON",
          "DAWSON",
          "ELLIE",
          "EVELYN",
          "ISLA",
          "EVELYN",
          "JACK",
          "JACK",
          "JACK",
          "JACK",
          "JACK",
          "JACK",
          "JACK",
          "JAKE",
          "MAX",
          "MAX",
          "MAX",
          "MAX",
          "SAM",
          "MAX",
          "SAM",
          "Action",
          "Adventure",
          "Comedy",
          "Crime Fiction",
          "Drama",
          "Horror",
          "Period piece",
          "Romance Film",
          "Science Fiction",
          "Thriller"
         ],
         "marker": {
          "colors": [
           "#636efa",
           "#EF553B",
           "#00cc96",
           "#ab63fa",
           "#FFA15A",
           "#19d3f3",
           "#FF6692",
           "#B6E880",
           "#B6E880",
           "#FF97FF",
           "#FECB52",
           "#00cc96",
           "#FF97FF",
           "#19d3f3",
           "#00cc96",
           "#EF553B",
           "#19d3f3",
           "#636efa",
           "#FFA15A",
           "#FF97FF",
           "#FECB52",
           "#ab63fa",
           "#FECB52",
           "#EF553B",
           "#FF6692",
           "#636efa",
           "#B6E880",
           "#FF6692",
           "#ab63fa",
           "#FFA15A",
           "#EF553B",
           "#19d3f3",
           "#FF6692",
           "#636efa",
           "#FFA15A",
           "#00cc96",
           "#FF97FF",
           "#FECB52",
           "#B6E880",
           "#ab63fa"
          ]
         },
         "name": "",
         "parents": [
          "Crime Fiction",
          "Action",
          "Horror",
          "Thriller",
          "Drama",
          "Adventure",
          "Comedy",
          "Science Fiction",
          "Science Fiction",
          "Period piece",
          "Romance Film",
          "Horror",
          "Period piece",
          "Adventure",
          "Horror",
          "Action",
          "Adventure",
          "Crime Fiction",
          "Drama",
          "Period piece",
          "Romance Film",
          "Thriller",
          "Romance Film",
          "Action",
          "Comedy",
          "Crime Fiction",
          "Science Fiction",
          "Comedy",
          "Thriller",
          "Drama",
          "",
          "",
          "",
          "",
          "",
          "",
          "",
          "",
          "",
          ""
         ],
         "type": "treemap",
         "values": [
          2,
          4,
          2,
          5,
          3,
          4,
          3,
          3,
          4,
          2,
          2,
          2,
          2,
          3,
          2,
          6,
          4,
          4,
          6,
          3,
          4,
          7,
          2,
          5,
          5,
          3,
          5,
          4,
          5,
          5,
          15,
          11,
          12,
          9,
          14,
          6,
          7,
          8,
          12,
          17
         ]
        }
       ],
       "layout": {
        "legend": {
         "tracegroupgap": 0
        },
        "template": {
         "data": {
          "bar": [
           {
            "error_x": {
             "color": "#2a3f5f"
            },
            "error_y": {
             "color": "#2a3f5f"
            },
            "marker": {
             "line": {
              "color": "white",
              "width": 0.5
             },
             "pattern": {
              "fillmode": "overlay",
              "size": 10,
              "solidity": 0.2
             }
            },
            "type": "bar"
           }
          ],
          "barpolar": [
           {
            "marker": {
             "line": {
              "color": "white",
              "width": 0.5
             },
             "pattern": {
              "fillmode": "overlay",
              "size": 10,
              "solidity": 0.2
             }
            },
            "type": "barpolar"
           }
          ],
          "carpet": [
           {
            "aaxis": {
             "endlinecolor": "#2a3f5f",
             "gridcolor": "#C8D4E3",
             "linecolor": "#C8D4E3",
             "minorgridcolor": "#C8D4E3",
             "startlinecolor": "#2a3f5f"
            },
            "baxis": {
             "endlinecolor": "#2a3f5f",
             "gridcolor": "#C8D4E3",
             "linecolor": "#C8D4E3",
             "minorgridcolor": "#C8D4E3",
             "startlinecolor": "#2a3f5f"
            },
            "type": "carpet"
           }
          ],
          "choropleth": [
           {
            "colorbar": {
             "outlinewidth": 0,
             "ticks": ""
            },
            "type": "choropleth"
           }
          ],
          "contour": [
           {
            "colorbar": {
             "outlinewidth": 0,
             "ticks": ""
            },
            "colorscale": [
             [
              0,
              "#0d0887"
             ],
             [
              0.1111111111111111,
              "#46039f"
             ],
             [
              0.2222222222222222,
              "#7201a8"
             ],
             [
              0.3333333333333333,
              "#9c179e"
             ],
             [
              0.4444444444444444,
              "#bd3786"
             ],
             [
              0.5555555555555556,
              "#d8576b"
             ],
             [
              0.6666666666666666,
              "#ed7953"
             ],
             [
              0.7777777777777778,
              "#fb9f3a"
             ],
             [
              0.8888888888888888,
              "#fdca26"
             ],
             [
              1,
              "#f0f921"
             ]
            ],
            "type": "contour"
           }
          ],
          "contourcarpet": [
           {
            "colorbar": {
             "outlinewidth": 0,
             "ticks": ""
            },
            "type": "contourcarpet"
           }
          ],
          "heatmap": [
           {
            "colorbar": {
             "outlinewidth": 0,
             "ticks": ""
            },
            "colorscale": [
             [
              0,
              "#0d0887"
             ],
             [
              0.1111111111111111,
              "#46039f"
             ],
             [
              0.2222222222222222,
              "#7201a8"
             ],
             [
              0.3333333333333333,
              "#9c179e"
             ],
             [
              0.4444444444444444,
              "#bd3786"
             ],
             [
              0.5555555555555556,
              "#d8576b"
             ],
             [
              0.6666666666666666,
              "#ed7953"
             ],
             [
              0.7777777777777778,
              "#fb9f3a"
             ],
             [
              0.8888888888888888,
              "#fdca26"
             ],
             [
              1,
              "#f0f921"
             ]
            ],
            "type": "heatmap"
           }
          ],
          "heatmapgl": [
           {
            "colorbar": {
             "outlinewidth": 0,
             "ticks": ""
            },
            "colorscale": [
             [
              0,
              "#0d0887"
             ],
             [
              0.1111111111111111,
              "#46039f"
             ],
             [
              0.2222222222222222,
              "#7201a8"
             ],
             [
              0.3333333333333333,
              "#9c179e"
             ],
             [
              0.4444444444444444,
              "#bd3786"
             ],
             [
              0.5555555555555556,
              "#d8576b"
             ],
             [
              0.6666666666666666,
              "#ed7953"
             ],
             [
              0.7777777777777778,
              "#fb9f3a"
             ],
             [
              0.8888888888888888,
              "#fdca26"
             ],
             [
              1,
              "#f0f921"
             ]
            ],
            "type": "heatmapgl"
           }
          ],
          "histogram": [
           {
            "marker": {
             "pattern": {
              "fillmode": "overlay",
              "size": 10,
              "solidity": 0.2
             }
            },
            "type": "histogram"
           }
          ],
          "histogram2d": [
           {
            "colorbar": {
             "outlinewidth": 0,
             "ticks": ""
            },
            "colorscale": [
             [
              0,
              "#0d0887"
             ],
             [
              0.1111111111111111,
              "#46039f"
             ],
             [
              0.2222222222222222,
              "#7201a8"
             ],
             [
              0.3333333333333333,
              "#9c179e"
             ],
             [
              0.4444444444444444,
              "#bd3786"
             ],
             [
              0.5555555555555556,
              "#d8576b"
             ],
             [
              0.6666666666666666,
              "#ed7953"
             ],
             [
              0.7777777777777778,
              "#fb9f3a"
             ],
             [
              0.8888888888888888,
              "#fdca26"
             ],
             [
              1,
              "#f0f921"
             ]
            ],
            "type": "histogram2d"
           }
          ],
          "histogram2dcontour": [
           {
            "colorbar": {
             "outlinewidth": 0,
             "ticks": ""
            },
            "colorscale": [
             [
              0,
              "#0d0887"
             ],
             [
              0.1111111111111111,
              "#46039f"
             ],
             [
              0.2222222222222222,
              "#7201a8"
             ],
             [
              0.3333333333333333,
              "#9c179e"
             ],
             [
              0.4444444444444444,
              "#bd3786"
             ],
             [
              0.5555555555555556,
              "#d8576b"
             ],
             [
              0.6666666666666666,
              "#ed7953"
             ],
             [
              0.7777777777777778,
              "#fb9f3a"
             ],
             [
              0.8888888888888888,
              "#fdca26"
             ],
             [
              1,
              "#f0f921"
             ]
            ],
            "type": "histogram2dcontour"
           }
          ],
          "mesh3d": [
           {
            "colorbar": {
             "outlinewidth": 0,
             "ticks": ""
            },
            "type": "mesh3d"
           }
          ],
          "parcoords": [
           {
            "line": {
             "colorbar": {
              "outlinewidth": 0,
              "ticks": ""
             }
            },
            "type": "parcoords"
           }
          ],
          "pie": [
           {
            "automargin": true,
            "type": "pie"
           }
          ],
          "scatter": [
           {
            "fillpattern": {
             "fillmode": "overlay",
             "size": 10,
             "solidity": 0.2
            },
            "type": "scatter"
           }
          ],
          "scatter3d": [
           {
            "line": {
             "colorbar": {
              "outlinewidth": 0,
              "ticks": ""
             }
            },
            "marker": {
             "colorbar": {
              "outlinewidth": 0,
              "ticks": ""
             }
            },
            "type": "scatter3d"
           }
          ],
          "scattercarpet": [
           {
            "marker": {
             "colorbar": {
              "outlinewidth": 0,
              "ticks": ""
             }
            },
            "type": "scattercarpet"
           }
          ],
          "scattergeo": [
           {
            "marker": {
             "colorbar": {
              "outlinewidth": 0,
              "ticks": ""
             }
            },
            "type": "scattergeo"
           }
          ],
          "scattergl": [
           {
            "marker": {
             "colorbar": {
              "outlinewidth": 0,
              "ticks": ""
             }
            },
            "type": "scattergl"
           }
          ],
          "scattermapbox": [
           {
            "marker": {
             "colorbar": {
              "outlinewidth": 0,
              "ticks": ""
             }
            },
            "type": "scattermapbox"
           }
          ],
          "scatterpolar": [
           {
            "marker": {
             "colorbar": {
              "outlinewidth": 0,
              "ticks": ""
             }
            },
            "type": "scatterpolar"
           }
          ],
          "scatterpolargl": [
           {
            "marker": {
             "colorbar": {
              "outlinewidth": 0,
              "ticks": ""
             }
            },
            "type": "scatterpolargl"
           }
          ],
          "scatterternary": [
           {
            "marker": {
             "colorbar": {
              "outlinewidth": 0,
              "ticks": ""
             }
            },
            "type": "scatterternary"
           }
          ],
          "surface": [
           {
            "colorbar": {
             "outlinewidth": 0,
             "ticks": ""
            },
            "colorscale": [
             [
              0,
              "#0d0887"
             ],
             [
              0.1111111111111111,
              "#46039f"
             ],
             [
              0.2222222222222222,
              "#7201a8"
             ],
             [
              0.3333333333333333,
              "#9c179e"
             ],
             [
              0.4444444444444444,
              "#bd3786"
             ],
             [
              0.5555555555555556,
              "#d8576b"
             ],
             [
              0.6666666666666666,
              "#ed7953"
             ],
             [
              0.7777777777777778,
              "#fb9f3a"
             ],
             [
              0.8888888888888888,
              "#fdca26"
             ],
             [
              1,
              "#f0f921"
             ]
            ],
            "type": "surface"
           }
          ],
          "table": [
           {
            "cells": {
             "fill": {
              "color": "#EBF0F8"
             },
             "line": {
              "color": "white"
             }
            },
            "header": {
             "fill": {
              "color": "#C8D4E3"
             },
             "line": {
              "color": "white"
             }
            },
            "type": "table"
           }
          ]
         },
         "layout": {
          "annotationdefaults": {
           "arrowcolor": "#2a3f5f",
           "arrowhead": 0,
           "arrowwidth": 1
          },
          "autotypenumbers": "strict",
          "coloraxis": {
           "colorbar": {
            "outlinewidth": 0,
            "ticks": ""
           }
          },
          "colorscale": {
           "diverging": [
            [
             0,
             "#8e0152"
            ],
            [
             0.1,
             "#c51b7d"
            ],
            [
             0.2,
             "#de77ae"
            ],
            [
             0.3,
             "#f1b6da"
            ],
            [
             0.4,
             "#fde0ef"
            ],
            [
             0.5,
             "#f7f7f7"
            ],
            [
             0.6,
             "#e6f5d0"
            ],
            [
             0.7,
             "#b8e186"
            ],
            [
             0.8,
             "#7fbc41"
            ],
            [
             0.9,
             "#4d9221"
            ],
            [
             1,
             "#276419"
            ]
           ],
           "sequential": [
            [
             0,
             "#0d0887"
            ],
            [
             0.1111111111111111,
             "#46039f"
            ],
            [
             0.2222222222222222,
             "#7201a8"
            ],
            [
             0.3333333333333333,
             "#9c179e"
            ],
            [
             0.4444444444444444,
             "#bd3786"
            ],
            [
             0.5555555555555556,
             "#d8576b"
            ],
            [
             0.6666666666666666,
             "#ed7953"
            ],
            [
             0.7777777777777778,
             "#fb9f3a"
            ],
            [
             0.8888888888888888,
             "#fdca26"
            ],
            [
             1,
             "#f0f921"
            ]
           ],
           "sequentialminus": [
            [
             0,
             "#0d0887"
            ],
            [
             0.1111111111111111,
             "#46039f"
            ],
            [
             0.2222222222222222,
             "#7201a8"
            ],
            [
             0.3333333333333333,
             "#9c179e"
            ],
            [
             0.4444444444444444,
             "#bd3786"
            ],
            [
             0.5555555555555556,
             "#d8576b"
            ],
            [
             0.6666666666666666,
             "#ed7953"
            ],
            [
             0.7777777777777778,
             "#fb9f3a"
            ],
            [
             0.8888888888888888,
             "#fdca26"
            ],
            [
             1,
             "#f0f921"
            ]
           ]
          },
          "colorway": [
           "#636efa",
           "#EF553B",
           "#00cc96",
           "#ab63fa",
           "#FFA15A",
           "#19d3f3",
           "#FF6692",
           "#B6E880",
           "#FF97FF",
           "#FECB52"
          ],
          "font": {
           "color": "#2a3f5f"
          },
          "geo": {
           "bgcolor": "white",
           "lakecolor": "white",
           "landcolor": "white",
           "showlakes": true,
           "showland": true,
           "subunitcolor": "#C8D4E3"
          },
          "hoverlabel": {
           "align": "left"
          },
          "hovermode": "closest",
          "mapbox": {
           "style": "light"
          },
          "paper_bgcolor": "white",
          "plot_bgcolor": "white",
          "polar": {
           "angularaxis": {
            "gridcolor": "#EBF0F8",
            "linecolor": "#EBF0F8",
            "ticks": ""
           },
           "bgcolor": "white",
           "radialaxis": {
            "gridcolor": "#EBF0F8",
            "linecolor": "#EBF0F8",
            "ticks": ""
           }
          },
          "scene": {
           "xaxis": {
            "backgroundcolor": "white",
            "gridcolor": "#DFE8F3",
            "gridwidth": 2,
            "linecolor": "#EBF0F8",
            "showbackground": true,
            "ticks": "",
            "zerolinecolor": "#EBF0F8"
           },
           "yaxis": {
            "backgroundcolor": "white",
            "gridcolor": "#DFE8F3",
            "gridwidth": 2,
            "linecolor": "#EBF0F8",
            "showbackground": true,
            "ticks": "",
            "zerolinecolor": "#EBF0F8"
           },
           "zaxis": {
            "backgroundcolor": "white",
            "gridcolor": "#DFE8F3",
            "gridwidth": 2,
            "linecolor": "#EBF0F8",
            "showbackground": true,
            "ticks": "",
            "zerolinecolor": "#EBF0F8"
           }
          },
          "shapedefaults": {
           "line": {
            "color": "#2a3f5f"
           }
          },
          "ternary": {
           "aaxis": {
            "gridcolor": "#DFE8F3",
            "linecolor": "#A2B1C6",
            "ticks": ""
           },
           "baxis": {
            "gridcolor": "#DFE8F3",
            "linecolor": "#A2B1C6",
            "ticks": ""
           },
           "bgcolor": "white",
           "caxis": {
            "gridcolor": "#DFE8F3",
            "linecolor": "#A2B1C6",
            "ticks": ""
           }
          },
          "title": {
           "x": 0.05
          },
          "xaxis": {
           "automargin": true,
           "gridcolor": "#EBF0F8",
           "linecolor": "#EBF0F8",
           "ticks": "",
           "title": {
            "standoff": 15
           },
           "zerolinecolor": "#EBF0F8",
           "zerolinewidth": 2
          },
          "yaxis": {
           "automargin": true,
           "gridcolor": "#EBF0F8",
           "linecolor": "#EBF0F8",
           "ticks": "",
           "title": {
            "standoff": 15
           },
           "zerolinecolor": "#EBF0F8",
           "zerolinewidth": 2
          }
         }
        },
        "title": {
         "text": "Top 3 Influential Names per Genre"
        }
       }
      }
     },
     "metadata": {},
     "output_type": "display_data"
    }
   ],
   "source": [
    "import plotly.express as px\n",
    "\n",
    "def plot_treemap_with_movies(top_names_by_genre):\n",
    "    \"\"\"\n",
    "    Plot a treemap of the top 3 influential names per genre with movie names displayed on hover.\n",
    "    \"\"\"\n",
    "    # Ensure the movie names are in a single string for hover display\n",
    "    top_names_by_genre['Movies'] = top_names_by_genre['Movie_Names'].apply(lambda x: \", \".join(x))\n",
    "\n",
    "    # Create the treemap\n",
    "    fig = px.treemap(\n",
    "        top_names_by_genre,\n",
    "        path=['Genres', 'Normalized_name'],\n",
    "        values='Count',  # Use the count of names as the value\n",
    "        title=\"Top 3 Influential Names per Genre\",\n",
    "        template=\"plotly_white\",\n",
    "        color='Genres',\n",
    "        custom_data=['Movies']  # Include aggregated movie names for hover\n",
    "    )\n",
    "    \n",
    "    # Update hover template to display the movie list\n",
    "    fig.update_traces(\n",
    "        hovertemplate=\"<b>%{label}</b><br>Movies: %{customdata[0]}<extra></extra>\"\n",
    "    )\n",
    "    \n",
    "    # Show and save the figure\n",
    "    fig.show()\n",
    "    fig.write_html(\"docs/_includes/treemap_top3_by_genre_by count.html\")\n",
    "\n",
    "\n",
    "# Plot the treemap\n",
    "plot_treemap_with_movies(top_names_with_movies)\n"
   ]
  }
 ],
 "metadata": {
  "kernelspec": {
   "display_name": "ada",
   "language": "python",
   "name": "python3"
  },
  "language_info": {
   "codemirror_mode": {
    "name": "ipython",
    "version": 3
   },
   "file_extension": ".py",
   "mimetype": "text/x-python",
   "name": "python",
   "nbconvert_exporter": "python",
   "pygments_lexer": "ipython3",
   "version": "3.11.9"
  }
 },
 "nbformat": 4,
 "nbformat_minor": 2
}
