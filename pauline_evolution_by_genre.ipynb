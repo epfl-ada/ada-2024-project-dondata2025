{
 "cells": [
  {
   "cell_type": "code",
   "execution_count": 2,
   "metadata": {},
   "outputs": [
    {
     "name": "stdout",
     "output_type": "stream",
     "text": [
      "Number of influenced names with mean diff:  1585\n"
     ]
    },
    {
     "data": {
      "text/html": [
       "<div>\n",
       "<style scoped>\n",
       "    .dataframe tbody tr th:only-of-type {\n",
       "        vertical-align: middle;\n",
       "    }\n",
       "\n",
       "    .dataframe tbody tr th {\n",
       "        vertical-align: top;\n",
       "    }\n",
       "\n",
       "    .dataframe thead th {\n",
       "        text-align: right;\n",
       "    }\n",
       "</style>\n",
       "<table border=\"1\" class=\"dataframe\">\n",
       "  <thead>\n",
       "    <tr style=\"text-align: right;\">\n",
       "      <th></th>\n",
       "      <th>Wikipedia ID</th>\n",
       "      <th>Movie Name</th>\n",
       "      <th>Year</th>\n",
       "      <th>Character Name</th>\n",
       "      <th>Count</th>\n",
       "      <th>Full name</th>\n",
       "      <th>Normalized_name</th>\n",
       "      <th>Influence</th>\n",
       "    </tr>\n",
       "  </thead>\n",
       "  <tbody>\n",
       "    <tr>\n",
       "      <th>0</th>\n",
       "      <td>31186339</td>\n",
       "      <td>the hunger games</td>\n",
       "      <td>2012</td>\n",
       "      <td>Katniss</td>\n",
       "      <td>4</td>\n",
       "      <td>Katniss</td>\n",
       "      <td>KATNISS</td>\n",
       "      <td>inf</td>\n",
       "    </tr>\n",
       "    <tr>\n",
       "      <th>1</th>\n",
       "      <td>22144721</td>\n",
       "      <td>iron man 2</td>\n",
       "      <td>2010</td>\n",
       "      <td>Stark</td>\n",
       "      <td>3</td>\n",
       "      <td>Howard Stark</td>\n",
       "      <td>STARK</td>\n",
       "      <td>inf</td>\n",
       "    </tr>\n",
       "    <tr>\n",
       "      <th>2</th>\n",
       "      <td>146947</td>\n",
       "      <td>spider-man</td>\n",
       "      <td>2002</td>\n",
       "      <td>Osborn</td>\n",
       "      <td>6</td>\n",
       "      <td>Harry Osborn</td>\n",
       "      <td>OSBORN</td>\n",
       "      <td>inf</td>\n",
       "    </tr>\n",
       "    <tr>\n",
       "      <th>4</th>\n",
       "      <td>443972</td>\n",
       "      <td>hook</td>\n",
       "      <td>1991</td>\n",
       "      <td>Banning</td>\n",
       "      <td>16</td>\n",
       "      <td>Peter Banning</td>\n",
       "      <td>BANNING</td>\n",
       "      <td>inf</td>\n",
       "    </tr>\n",
       "    <tr>\n",
       "      <th>5</th>\n",
       "      <td>537416</td>\n",
       "      <td>ace ventura: when nature calls</td>\n",
       "      <td>1995</td>\n",
       "      <td>Abbot</td>\n",
       "      <td>2</td>\n",
       "      <td>Grand Abbot</td>\n",
       "      <td>ABBOT</td>\n",
       "      <td>inf</td>\n",
       "    </tr>\n",
       "  </tbody>\n",
       "</table>\n",
       "</div>"
      ],
      "text/plain": [
       "   Wikipedia ID                      Movie Name  Year Character Name  Count  \\\n",
       "0      31186339                the hunger games  2012        Katniss      4   \n",
       "1      22144721                      iron man 2  2010          Stark      3   \n",
       "2        146947                      spider-man  2002         Osborn      6   \n",
       "4        443972                            hook  1991        Banning     16   \n",
       "5        537416  ace ventura: when nature calls  1995          Abbot      2   \n",
       "\n",
       "       Full name Normalized_name  Influence  \n",
       "0        Katniss         KATNISS        inf  \n",
       "1   Howard Stark           STARK        inf  \n",
       "2   Harry Osborn          OSBORN        inf  \n",
       "4  Peter Banning         BANNING        inf  \n",
       "5    Grand Abbot           ABBOT        inf  "
      ]
     },
     "execution_count": 2,
     "metadata": {},
     "output_type": "execute_result"
    }
   ],
   "source": [
    "import pandas as pd\n",
    "\n",
    "# prenoms inventés\n",
    "mean_diff = pd.read_csv(\"data/clean/influenced_names_means_diff.csv\")\n",
    "influenced_meandiff = mean_diff[mean_diff[\"Influence\"] > 0]\n",
    "# removing common identification mistakes such as \"the\", \"a\" or \"Mr\"\n",
    "influenced_meandiff = influenced_meandiff[~influenced_meandiff[\"Character Name\"].isin([\"the\", \"a\", \"Mr\"])]\n",
    "print(\"Number of influenced names with mean diff: \", len(influenced_meandiff))\n",
    "influenced_meandiff.head()\n",
    "\n"
   ]
  },
  {
   "cell_type": "code",
   "execution_count": 3,
   "metadata": {},
   "outputs": [
    {
     "name": "stdout",
     "output_type": "stream",
     "text": [
      "Number of influenced names with mean diff:  432\n"
     ]
    },
    {
     "data": {
      "text/html": [
       "<div>\n",
       "<style scoped>\n",
       "    .dataframe tbody tr th:only-of-type {\n",
       "        vertical-align: middle;\n",
       "    }\n",
       "\n",
       "    .dataframe tbody tr th {\n",
       "        vertical-align: top;\n",
       "    }\n",
       "\n",
       "    .dataframe thead th {\n",
       "        text-align: right;\n",
       "    }\n",
       "</style>\n",
       "<table border=\"1\" class=\"dataframe\">\n",
       "  <thead>\n",
       "    <tr style=\"text-align: right;\">\n",
       "      <th></th>\n",
       "      <th>Wikipedia ID</th>\n",
       "      <th>Movie Name</th>\n",
       "      <th>Year</th>\n",
       "      <th>Character Name</th>\n",
       "      <th>Count</th>\n",
       "      <th>Full name</th>\n",
       "      <th>Normalized_name</th>\n",
       "      <th>Mean Difference</th>\n",
       "      <th>Influenced</th>\n",
       "    </tr>\n",
       "  </thead>\n",
       "  <tbody>\n",
       "    <tr>\n",
       "      <th>0</th>\n",
       "      <td>451866</td>\n",
       "      <td>mission: impossible ii</td>\n",
       "      <td>2000</td>\n",
       "      <td>Ethan</td>\n",
       "      <td>18</td>\n",
       "      <td>Ethan Hunt</td>\n",
       "      <td>ETHAN</td>\n",
       "      <td>15725.466667</td>\n",
       "      <td>1</td>\n",
       "    </tr>\n",
       "    <tr>\n",
       "      <th>1</th>\n",
       "      <td>633411</td>\n",
       "      <td>the avengers</td>\n",
       "      <td>1998</td>\n",
       "      <td>Emma</td>\n",
       "      <td>15</td>\n",
       "      <td>Emma Peel</td>\n",
       "      <td>EMMA</td>\n",
       "      <td>14985.966667</td>\n",
       "      <td>1</td>\n",
       "    </tr>\n",
       "    <tr>\n",
       "      <th>2</th>\n",
       "      <td>3727473</td>\n",
       "      <td>man on fire</td>\n",
       "      <td>1987</td>\n",
       "      <td>Samantha</td>\n",
       "      <td>4</td>\n",
       "      <td>Samantha \"Sam\" Balletto</td>\n",
       "      <td>SAMANTHA</td>\n",
       "      <td>14453.500000</td>\n",
       "      <td>1</td>\n",
       "    </tr>\n",
       "    <tr>\n",
       "      <th>3</th>\n",
       "      <td>347000</td>\n",
       "      <td>suspiria</td>\n",
       "      <td>1977</td>\n",
       "      <td>Sarah</td>\n",
       "      <td>15</td>\n",
       "      <td>Sarah</td>\n",
       "      <td>SARAH</td>\n",
       "      <td>14372.466667</td>\n",
       "      <td>1</td>\n",
       "    </tr>\n",
       "    <tr>\n",
       "      <th>5</th>\n",
       "      <td>320401</td>\n",
       "      <td>barton fink</td>\n",
       "      <td>1991</td>\n",
       "      <td>Taylor</td>\n",
       "      <td>3</td>\n",
       "      <td>Audrey Taylor</td>\n",
       "      <td>TAYLOR</td>\n",
       "      <td>13892.100000</td>\n",
       "      <td>1</td>\n",
       "    </tr>\n",
       "  </tbody>\n",
       "</table>\n",
       "</div>"
      ],
      "text/plain": [
       "   Wikipedia ID              Movie Name  Year Character Name  Count  \\\n",
       "0        451866  mission: impossible ii  2000          Ethan     18   \n",
       "1        633411            the avengers  1998           Emma     15   \n",
       "2       3727473             man on fire  1987       Samantha      4   \n",
       "3        347000                suspiria  1977          Sarah     15   \n",
       "5        320401             barton fink  1991         Taylor      3   \n",
       "\n",
       "                 Full name Normalized_name  Mean Difference  Influenced  \n",
       "0               Ethan Hunt           ETHAN     15725.466667           1  \n",
       "1                Emma Peel            EMMA     14985.966667           1  \n",
       "2  Samantha \"Sam\" Balletto        SAMANTHA     14453.500000           1  \n",
       "3                    Sarah           SARAH     14372.466667           1  \n",
       "5            Audrey Taylor          TAYLOR     13892.100000           1  "
      ]
     },
     "execution_count": 3,
     "metadata": {},
     "output_type": "execute_result"
    }
   ],
   "source": [
    "# tous les prénoms influencés\n",
    "prophet = pd.read_csv(\"data/clean/influenced_names_prophet.csv\")\n",
    "influenced_prophet = prophet[prophet[\"Influenced\"] > 0]\n",
    "# removing common identification mistakes such as \"the\", \"a\" or \"Mr\"\n",
    "influenced_prophet = influenced_prophet[~influenced_prophet[\"Character Name\"].isin([\"the\", \"a\", \"Mr\"])]\n",
    "print(\"Number of influenced names with mean diff: \", len(influenced_prophet))\n",
    "influenced_prophet.head()"
   ]
  },
  {
   "cell_type": "code",
   "execution_count": 4,
   "metadata": {},
   "outputs": [
    {
     "name": "stdout",
     "output_type": "stream",
     "text": [
      "Number of significant names: 371\n"
     ]
    },
    {
     "data": {
      "text/html": [
       "<div>\n",
       "<style scoped>\n",
       "    .dataframe tbody tr th:only-of-type {\n",
       "        vertical-align: middle;\n",
       "    }\n",
       "\n",
       "    .dataframe tbody tr th {\n",
       "        vertical-align: top;\n",
       "    }\n",
       "\n",
       "    .dataframe thead th {\n",
       "        text-align: right;\n",
       "    }\n",
       "</style>\n",
       "<table border=\"1\" class=\"dataframe\">\n",
       "  <thead>\n",
       "    <tr style=\"text-align: right;\">\n",
       "      <th></th>\n",
       "      <th>Wikipedia ID</th>\n",
       "      <th>Movie Name</th>\n",
       "      <th>Year</th>\n",
       "      <th>Character Name</th>\n",
       "      <th>Count</th>\n",
       "      <th>Full name</th>\n",
       "      <th>Normalized_name</th>\n",
       "      <th>Influence</th>\n",
       "    </tr>\n",
       "  </thead>\n",
       "  <tbody>\n",
       "    <tr>\n",
       "      <th>151</th>\n",
       "      <td>451866</td>\n",
       "      <td>mission: impossible ii</td>\n",
       "      <td>2000</td>\n",
       "      <td>Ethan</td>\n",
       "      <td>18</td>\n",
       "      <td>Ethan Hunt</td>\n",
       "      <td>ETHAN</td>\n",
       "      <td>15725.466667</td>\n",
       "    </tr>\n",
       "    <tr>\n",
       "      <th>152</th>\n",
       "      <td>633411</td>\n",
       "      <td>the avengers</td>\n",
       "      <td>1998</td>\n",
       "      <td>Emma</td>\n",
       "      <td>15</td>\n",
       "      <td>Emma Peel</td>\n",
       "      <td>EMMA</td>\n",
       "      <td>14985.966667</td>\n",
       "    </tr>\n",
       "    <tr>\n",
       "      <th>153</th>\n",
       "      <td>3727473</td>\n",
       "      <td>man on fire</td>\n",
       "      <td>1987</td>\n",
       "      <td>Samantha</td>\n",
       "      <td>4</td>\n",
       "      <td>Samantha \"Sam\" Balletto</td>\n",
       "      <td>SAMANTHA</td>\n",
       "      <td>14453.500000</td>\n",
       "    </tr>\n",
       "    <tr>\n",
       "      <th>154</th>\n",
       "      <td>347000</td>\n",
       "      <td>suspiria</td>\n",
       "      <td>1977</td>\n",
       "      <td>Sarah</td>\n",
       "      <td>15</td>\n",
       "      <td>Sarah</td>\n",
       "      <td>SARAH</td>\n",
       "      <td>14372.466667</td>\n",
       "    </tr>\n",
       "    <tr>\n",
       "      <th>155</th>\n",
       "      <td>483274</td>\n",
       "      <td>point break</td>\n",
       "      <td>1991</td>\n",
       "      <td>Tyler</td>\n",
       "      <td>3</td>\n",
       "      <td>Tyler Endicott</td>\n",
       "      <td>TYLER</td>\n",
       "      <td>14176.666667</td>\n",
       "    </tr>\n",
       "  </tbody>\n",
       "</table>\n",
       "</div>"
      ],
      "text/plain": [
       "     Wikipedia ID              Movie Name  Year Character Name  Count  \\\n",
       "151        451866  mission: impossible ii  2000          Ethan     18   \n",
       "152        633411            the avengers  1998           Emma     15   \n",
       "153       3727473             man on fire  1987       Samantha      4   \n",
       "154        347000                suspiria  1977          Sarah     15   \n",
       "155        483274             point break  1991          Tyler      3   \n",
       "\n",
       "                   Full name Normalized_name     Influence  \n",
       "151               Ethan Hunt           ETHAN  15725.466667  \n",
       "152                Emma Peel            EMMA  14985.966667  \n",
       "153  Samantha \"Sam\" Balletto        SAMANTHA  14453.500000  \n",
       "154                    Sarah           SARAH  14372.466667  \n",
       "155           Tyler Endicott           TYLER  14176.666667  "
      ]
     },
     "execution_count": 4,
     "metadata": {},
     "output_type": "execute_result"
    }
   ],
   "source": [
    "#remove every non numeric value in mean diff\n",
    "mean_diff = mean_diff[mean_diff[\"Influence\"].apply(lambda x: str(x).replace(\".\", \"\").isdigit())]\n",
    "threshold = mean_diff['Influence'].quantile(0.75)\n",
    "\n",
    "significant_names = mean_diff[mean_diff['Influence'] > threshold]\n",
    "print(\"Number of significant names:\", len(significant_names))\n",
    "significant_names.head()"
   ]
  },
  {
   "cell_type": "code",
   "execution_count": 7,
   "metadata": {},
   "outputs": [
    {
     "data": {
      "text/html": [
       "<div>\n",
       "<style scoped>\n",
       "    .dataframe tbody tr th:only-of-type {\n",
       "        vertical-align: middle;\n",
       "    }\n",
       "\n",
       "    .dataframe tbody tr th {\n",
       "        vertical-align: top;\n",
       "    }\n",
       "\n",
       "    .dataframe thead th {\n",
       "        text-align: right;\n",
       "    }\n",
       "</style>\n",
       "<table border=\"1\" class=\"dataframe\">\n",
       "  <thead>\n",
       "    <tr style=\"text-align: right;\">\n",
       "      <th></th>\n",
       "      <th>Wikipedia_movie_ID</th>\n",
       "      <th>Movie_name</th>\n",
       "      <th>Release_date</th>\n",
       "      <th>Revenue</th>\n",
       "      <th>Runtime</th>\n",
       "      <th>Languages</th>\n",
       "      <th>Countries</th>\n",
       "      <th>Genres</th>\n",
       "      <th>weightedAverageRating</th>\n",
       "      <th>totalVotes</th>\n",
       "      <th>is_blockbuster</th>\n",
       "    </tr>\n",
       "  </thead>\n",
       "  <tbody>\n",
       "    <tr>\n",
       "      <th>0</th>\n",
       "      <td>29988427.0</td>\n",
       "      <td>!women art revolution</td>\n",
       "      <td>2010-01-01</td>\n",
       "      <td>NaN</td>\n",
       "      <td>0 days 01:23:00</td>\n",
       "      <td>English</td>\n",
       "      <td>United States of America, Canada</td>\n",
       "      <td>LGBT, History, Documentary</td>\n",
       "      <td>6.9</td>\n",
       "      <td>262.0</td>\n",
       "      <td>False</td>\n",
       "    </tr>\n",
       "  </tbody>\n",
       "</table>\n",
       "</div>"
      ],
      "text/plain": [
       "   Wikipedia_movie_ID             Movie_name Release_date  Revenue  \\\n",
       "0          29988427.0  !women art revolution   2010-01-01      NaN   \n",
       "\n",
       "           Runtime Languages                         Countries  \\\n",
       "0  0 days 01:23:00   English  United States of America, Canada   \n",
       "\n",
       "                       Genres  weightedAverageRating  totalVotes  \\\n",
       "0  LGBT, History, Documentary                    6.9       262.0   \n",
       "\n",
       "   is_blockbuster  \n",
       "0           False  "
      ]
     },
     "execution_count": 7,
     "metadata": {},
     "output_type": "execute_result"
    }
   ],
   "source": [
    "cmu_imdb_merged = pd.read_csv(\"data/clean/cmu_imdb_merged.csv\")\n",
    "cmu_imdb_merged.head(1)"
   ]
  },
  {
   "cell_type": "code",
   "execution_count": 54,
   "metadata": {},
   "outputs": [
    {
     "name": "stdout",
     "output_type": "stream",
     "text": [
      "Merged Dataset:\n"
     ]
    },
    {
     "data": {
      "text/html": [
       "<div>\n",
       "<style scoped>\n",
       "    .dataframe tbody tr th:only-of-type {\n",
       "        vertical-align: middle;\n",
       "    }\n",
       "\n",
       "    .dataframe tbody tr th {\n",
       "        vertical-align: top;\n",
       "    }\n",
       "\n",
       "    .dataframe thead th {\n",
       "        text-align: right;\n",
       "    }\n",
       "</style>\n",
       "<table border=\"1\" class=\"dataframe\">\n",
       "  <thead>\n",
       "    <tr style=\"text-align: right;\">\n",
       "      <th></th>\n",
       "      <th>Wikipedia ID</th>\n",
       "      <th>Movie Name</th>\n",
       "      <th>Year</th>\n",
       "      <th>Character Name</th>\n",
       "      <th>Count</th>\n",
       "      <th>Full name</th>\n",
       "      <th>Normalized_name</th>\n",
       "      <th>Mean Difference</th>\n",
       "      <th>Influenced</th>\n",
       "      <th>Wikipedia_movie_ID</th>\n",
       "      <th>Genres</th>\n",
       "    </tr>\n",
       "  </thead>\n",
       "  <tbody>\n",
       "    <tr>\n",
       "      <th>0</th>\n",
       "      <td>451866</td>\n",
       "      <td>mission: impossible ii</td>\n",
       "      <td>2000</td>\n",
       "      <td>Ethan</td>\n",
       "      <td>18</td>\n",
       "      <td>Ethan Hunt</td>\n",
       "      <td>ETHAN</td>\n",
       "      <td>15725.466667</td>\n",
       "      <td>1</td>\n",
       "      <td>451866.0</td>\n",
       "      <td>Thriller, Action Thrillers, Action/Adventure, ...</td>\n",
       "    </tr>\n",
       "  </tbody>\n",
       "</table>\n",
       "</div>"
      ],
      "text/plain": [
       "   Wikipedia ID              Movie Name  Year Character Name  Count  \\\n",
       "0        451866  mission: impossible ii  2000          Ethan     18   \n",
       "\n",
       "    Full name Normalized_name  Mean Difference  Influenced  \\\n",
       "0  Ethan Hunt           ETHAN     15725.466667           1   \n",
       "\n",
       "   Wikipedia_movie_ID                                             Genres  \n",
       "0            451866.0  Thriller, Action Thrillers, Action/Adventure, ...  "
      ]
     },
     "metadata": {},
     "output_type": "display_data"
    }
   ],
   "source": [
    "# Perform a merge based on 'Wikipedia ID' (from influenced_prophet) and 'Wikipedia_movie_ID' (from cmu_imdb_merged)\n",
    "merged_df = influenced_prophet.merge(\n",
    "    cmu_imdb_merged[['Wikipedia_movie_ID', 'Genres']],  # Keep only relevant columns\n",
    "    left_on=\"Wikipedia ID\", \n",
    "    right_on=\"Wikipedia_movie_ID\", \n",
    "    how=\"left\"\n",
    ")\n",
    "# Drop redundant column after the merge\n",
    "#merged_df.drop(columns=['Wikipedia_movie_ID'], inplace=True)\n",
    "\n",
    "# Display the result\n",
    "print(\"Merged Dataset:\")\n",
    "display(merged_df.head(1))\n",
    "\n",
    "# Save the new dataset with Genres\n",
    "#merged_df.to_csv(\"data/clean/influenced_prophet_with_genres.csv\", index=False)\n",
    "#print(\"Dataset saved successfully with Genres added!\")\n"
   ]
  },
  {
   "cell_type": "code",
   "execution_count": 95,
   "metadata": {},
   "outputs": [
    {
     "data": {
      "text/html": [
       "<div>\n",
       "<style scoped>\n",
       "    .dataframe tbody tr th:only-of-type {\n",
       "        vertical-align: middle;\n",
       "    }\n",
       "\n",
       "    .dataframe tbody tr th {\n",
       "        vertical-align: top;\n",
       "    }\n",
       "\n",
       "    .dataframe thead th {\n",
       "        text-align: right;\n",
       "    }\n",
       "</style>\n",
       "<table border=\"1\" class=\"dataframe\">\n",
       "  <thead>\n",
       "    <tr style=\"text-align: right;\">\n",
       "      <th></th>\n",
       "      <th>Wikipedia ID</th>\n",
       "      <th>Movie Name</th>\n",
       "      <th>Year</th>\n",
       "      <th>Character Name</th>\n",
       "      <th>Count</th>\n",
       "      <th>Full name</th>\n",
       "      <th>Normalized_name</th>\n",
       "      <th>Mean Difference</th>\n",
       "      <th>Influenced</th>\n",
       "      <th>Wikipedia_movie_ID</th>\n",
       "      <th>Genres</th>\n",
       "    </tr>\n",
       "  </thead>\n",
       "  <tbody>\n",
       "    <tr>\n",
       "      <th>0</th>\n",
       "      <td>451866</td>\n",
       "      <td>mission: impossible ii</td>\n",
       "      <td>2000</td>\n",
       "      <td>Ethan</td>\n",
       "      <td>18</td>\n",
       "      <td>Ethan Hunt</td>\n",
       "      <td>ETHAN</td>\n",
       "      <td>15725.466667</td>\n",
       "      <td>1</td>\n",
       "      <td>451866.0</td>\n",
       "      <td>NaN</td>\n",
       "    </tr>\n",
       "  </tbody>\n",
       "</table>\n",
       "</div>"
      ],
      "text/plain": [
       "   Wikipedia ID              Movie Name  Year Character Name  Count  \\\n",
       "0        451866  mission: impossible ii  2000          Ethan     18   \n",
       "\n",
       "    Full name Normalized_name  Mean Difference  Influenced  \\\n",
       "0  Ethan Hunt           ETHAN     15725.466667           1   \n",
       "\n",
       "   Wikipedia_movie_ID  Genres  \n",
       "0            451866.0     NaN  "
      ]
     },
     "execution_count": 95,
     "metadata": {},
     "output_type": "execute_result"
    }
   ],
   "source": [
    "merged_df['Genres'] = merged_df['Genres'].str.split(', ')\n",
    "merged_df.head(1)\n"
   ]
  },
  {
   "cell_type": "code",
   "execution_count": 43,
   "metadata": {},
   "outputs": [],
   "source": [
    "exploded_df = merged_df.explode('Genres')\n"
   ]
  },
  {
   "cell_type": "code",
   "execution_count": 94,
   "metadata": {},
   "outputs": [],
   "source": [
    "genre_counts = exploded_df['Genres'].value_counts()\n"
   ]
  },
  {
   "cell_type": "code",
   "execution_count": 45,
   "metadata": {},
   "outputs": [],
   "source": [
    "genre_mean_influence = exploded_df.groupby('Genres')['Mean Difference'].mean().sort_values(ascending=False)\n"
   ]
  },
  {
   "cell_type": "code",
   "execution_count": 46,
   "metadata": {},
   "outputs": [
    {
     "name": "stdout",
     "output_type": "stream",
     "text": [
      "Nombre de prénoms influencés par genre :\n"
     ]
    },
    {
     "data": {
      "text/plain": [
       "Genres\n",
       "Drama               210\n",
       "Thriller            159\n",
       "Action              159\n",
       "Action/Adventure    128\n",
       "Comedy              121\n",
       "Crime Fiction       100\n",
       "Romance Film         93\n",
       "Adventure            88\n",
       "Science Fiction      86\n",
       "Horror               58\n",
       "Name: count, dtype: int64"
      ]
     },
     "metadata": {},
     "output_type": "display_data"
    },
    {
     "name": "stdout",
     "output_type": "stream",
     "text": [
      "\n",
      "Influence moyenne par genre :\n"
     ]
    },
    {
     "data": {
      "text/plain": [
       "Genres\n",
       "Glamorized Spy Film          9425.227778\n",
       "Gothic Film                  8296.677778\n",
       "Spy                          6740.085417\n",
       "Costume Horror               5517.866667\n",
       "Auto racing                  4056.733333\n",
       "Heaven-Can-Wait Fantasies    2943.966667\n",
       "Blaxploitation               2534.433333\n",
       "Buddy cop                    2504.611111\n",
       "Action Thrillers             2435.469608\n",
       "Supernatural                 2401.844444\n",
       "Name: Mean Difference, dtype: float64"
      ]
     },
     "metadata": {},
     "output_type": "display_data"
    }
   ],
   "source": [
    "# 5. Afficher les résultats\n",
    "print(\"Nombre de prénoms influencés par genre :\")\n",
    "display(genre_counts.head(10))  # Top 10 genres\n",
    "\n",
    "print(\"\\nInfluence moyenne par genre :\")\n",
    "display(genre_mean_influence.head(10))  # Top 10 genres par influence moyenne\n",
    "\n"
   ]
  },
  {
   "cell_type": "markdown",
   "metadata": {},
   "source": [
    "## Problème de la facon de faire précéddente : count et pas valeur de la mean"
   ]
  },
  {
   "cell_type": "code",
   "execution_count": null,
   "metadata": {},
   "outputs": [],
   "source": [
    "import pandas as pd\n",
    "\n",
    "\n",
    "# Step 1: Explode 'Genres' to separate multiple genres per row\n",
    "exploded_df = sorted_df.copy()\n",
    "exploded_df['Genres'] = exploded_df['Genres'].str.split(', ')\n",
    "exploded_df = exploded_df.explode('Genres')\n",
    "\n",
    "# Step 2: Group by Genres and calculate the total Mean Difference\n",
    "genre_influence = (\n",
    "    exploded_df.groupby('Genres')['Mean Difference']\n",
    "    .sum()\n",
    "    .reset_index()\n",
    "    .sort_values(by='Mean Difference', ascending=False)\n",
    ")\n",
    "\n",
    "# Step 3: Display the top 10 most influential genres\n",
    "print(genre_influence.head(10))\n",
    "\n",
    "# Optional: Save results to CSV\n",
    "genre_influence.to_csv(\"top_influential_genres.csv\", index=False)\n",
    "\n",
    "# Visualization (optional): Plot a bar chart for the top 10 genres\n",
    "import plotly.express as px\n",
    "\n",
    "fig = px.bar(\n",
    "    genre_influence.head(10),\n",
    "    x='Genres',\n",
    "    y='Mean Difference',\n",
    "    title='Top 10 Most Influential Movie Genres on Names',\n",
    "    labels={'Mean Difference': 'Total Influence Score'},\n",
    "    template='plotly_white'\n",
    ")\n",
    "fig.show()\n"
   ]
  },
  {
   "cell_type": "markdown",
   "metadata": {},
   "source": [
    "### new trial"
   ]
  },
  {
   "cell_type": "code",
   "execution_count": 83,
   "metadata": {},
   "outputs": [
    {
     "data": {
      "application/vnd.plotly.v1+json": {
       "config": {
        "plotlyServerURL": "https://plot.ly"
       },
       "data": [
        {
         "name": "Action",
         "type": "bar",
         "x": [
          "JACK",
          "ETHAN",
          "EMMA"
         ],
         "y": [
          30395.566666666673,
          24403.066666666666,
          14985.966666666667
         ]
        }
       ],
       "layout": {
        "sliders": [
         {
          "active": 0,
          "currentvalue": {
           "prefix": "Genre: "
          },
          "pad": {
           "t": 50
          },
          "steps": [
           {
            "args": [
             {
              "type": "bar",
              "x": [
               [
                "JACK",
                "ETHAN",
                "EMMA"
               ]
              ],
              "y": [
               [
                30395.566666666673,
                24403.066666666666,
                14985.966666666667
               ]
              ]
             },
             {
              "title": "Top 3 prénoms influencés par le genre 'Action'"
             }
            ],
            "label": "Action",
            "method": "update"
           },
           {
            "args": [
             {
              "type": "bar",
              "x": [
               [
                "JACK",
                "ETHAN",
                "CARTER"
               ]
              ],
              "y": [
               [
                19100.233333333337,
                15725.466666666667,
                3235.966666666667
               ]
              ]
             },
             {
              "title": "Top 3 prénoms influencés par le genre 'Action Thrillers'"
             }
            ],
            "label": "Action Thrillers",
            "method": "update"
           },
           {
            "args": [
             {
              "type": "bar",
              "x": [
               [
                "JACK",
                "ETHAN",
                "EMMA"
               ]
              ],
              "y": [
               [
                42502.06666666667,
                24403.066666666666,
                14985.966666666667
               ]
              ]
             },
             {
              "title": "Top 3 prénoms influencés par le genre 'Action/Adventure'"
             }
            ],
            "label": "Action/Adventure",
            "method": "update"
           },
           {
            "args": [
             {
              "type": "bar",
              "x": [
               [
                "JACK",
                "EMMA",
                "JONATHAN"
               ]
              ],
              "y": [
               [
                35546.233333333344,
                14985.966666666667,
                14434.066666666668
               ]
              ]
             },
             {
              "title": "Top 3 prénoms influencés par le genre 'Adventure'"
             }
            ],
            "label": "Adventure",
            "method": "update"
           },
           {
            "args": [
             {
              "type": "bar",
              "x": [
               [
                "TAYLOR",
                "EMMA",
                "SAMANTHA"
               ]
              ],
              "y": [
               [
                19654.8,
                14985.966666666667,
                10643.533333333333
               ]
              ]
             },
             {
              "title": "Top 3 prénoms influencés par le genre 'Comedy'"
             }
            ],
            "label": "Comedy",
            "method": "update"
           },
           {
            "args": [
             {
              "type": "bar",
              "x": [
               [
                "TAYLOR",
                "MIA",
                "AMELIA"
               ]
              ],
              "y": [
               [
                19654.8,
                7789.1,
                3591.133333333333
               ]
              ]
             },
             {
              "title": "Top 3 prénoms influencés par le genre 'Comedy-drama'"
             }
            ],
            "label": "Comedy-drama",
            "method": "update"
           },
           {
            "args": [
             {
              "type": "bar",
              "x": [
               [
                "SARAH",
                "SAMANTHA",
                "CAMERON"
               ]
              ],
              "y": [
               [
                14372.466666666667,
                10643.533333333333,
                7474.5
               ]
              ]
             },
             {
              "title": "Top 3 prénoms influencés par le genre 'Coming of age'"
             }
            ],
            "label": "Coming of age",
            "method": "update"
           },
           {
            "args": [
             {
              "type": "bar",
              "x": [
               [
                "JACK",
                "ISABELLA",
                "DAWSON"
               ]
              ],
              "y": [
               [
                23384,
                3563.166666666667,
                3558.7333333333336
               ]
              ]
             },
             {
              "title": "Top 3 prénoms influencés par le genre 'Costume drama'"
             }
            ],
            "label": "Costume drama",
            "method": "update"
           },
           {
            "args": [
             {
              "type": "bar",
              "x": [
               [
                "JACK",
                "MIA",
                "ALEXANDER"
               ]
              ],
              "y": [
               [
                31595.433333333338,
                9230.566666666668,
                8733.633333333331
               ]
              ]
             },
             {
              "title": "Top 3 prénoms influencés par le genre 'Crime Fiction'"
             }
            ],
            "label": "Crime Fiction",
            "method": "update"
           },
           {
            "args": [
             {
              "type": "bar",
              "x": [
               [
                "SARAH",
                "SAMANTHA",
                "JACK"
               ]
              ],
              "y": [
               [
                15816.1,
                10643.533333333333,
                5517.866666666667
               ]
              ]
             },
             {
              "title": "Top 3 prénoms influencés par le genre 'Cult'"
             }
            ],
            "label": "Cult",
            "method": "update"
           },
           {
            "args": [
             {
              "type": "bar",
              "x": [
               [
                "JACK",
                "TAYLOR",
                "SAMANTHA"
               ]
              ],
              "y": [
               [
                40247.600000000006,
                17749.266666666666,
                14453.5
               ]
              ]
             },
             {
              "title": "Top 3 prénoms influencés par le genre 'Drama'"
             }
            ],
            "label": "Drama",
            "method": "update"
           },
           {
            "args": [
             {
              "type": "bar",
              "x": [
               [
                "JACK",
                "JEREMY",
                "ABIGAIL"
               ]
              ],
              "y": [
               [
                6525,
                4999.266666666667,
                3876.333333333333
               ]
              ]
             },
             {
              "title": "Top 3 prénoms influencés par le genre 'Fantasy'"
             }
            ],
            "label": "Fantasy",
            "method": "update"
           },
           {
            "args": [
             {
              "type": "bar",
              "x": [
               [
                "JACK",
                "NOAH",
                "OWEN"
               ]
              ],
              "y": [
               [
                11035.733333333334,
                6105.4,
                3865.2
               ]
              ]
             },
             {
              "title": "Top 3 prénoms influencés par le genre 'Film adaptation'"
             }
            ],
            "label": "Film adaptation",
            "method": "update"
           },
           {
            "args": [
             {
              "type": "bar",
              "x": [
               [
                "SARAH",
                "JONATHAN",
                "JACK"
               ]
              ],
              "y": [
               [
                15816.1,
                13219.566666666668,
                8799.1
               ]
              ]
             },
             {
              "title": "Top 3 prénoms influencés par le genre 'Horror'"
             }
            ],
            "label": "Horror",
            "method": "update"
           },
           {
            "args": [
             {
              "type": "bar",
              "x": [
               [
                "TAYLOR",
                "SAMANTHA",
                "KYLE"
               ]
              ],
              "y": [
               [
                17749.266666666666,
                14453.5,
                10607.133333333331
               ]
              ]
             },
             {
              "title": "Top 3 prénoms influencés par le genre 'Indie'"
             }
            ],
            "label": "Indie",
            "method": "update"
           },
           {
            "args": [
             {
              "type": "bar",
              "x": [
               [
                "TAYLOR",
                "JACK",
                "SARA"
               ]
              ],
              "y": [
               [
                13892.1,
                12508.133333333337,
                5032.966666666666
               ]
              ]
             },
             {
              "title": "Top 3 prénoms influencés par le genre 'Mystery'"
             }
            ],
            "label": "Mystery",
            "method": "update"
           },
           {
            "args": [
             {
              "type": "bar",
              "x": [
               [
                "JACK",
                "TAYLOR",
                "NOAH"
               ]
              ],
              "y": [
               [
                23384,
                13892.1,
                6105.4
               ]
              ]
             },
             {
              "title": "Top 3 prénoms influencés par le genre 'Period piece'"
             }
            ],
            "label": "Period piece",
            "method": "update"
           },
           {
            "args": [
             {
              "type": "bar",
              "x": [
               [
                "JACK",
                "SAMANTHA",
                "MIA"
               ]
              ],
              "y": [
               [
                23625.76666666667,
                10643.533333333333,
                7789.1
               ]
              ]
             },
             {
              "title": "Top 3 prénoms influencés par le genre 'Romance Film'"
             }
            ],
            "label": "Romance Film",
            "method": "update"
           },
           {
            "args": [
             {
              "type": "bar",
              "x": [
               [
                "JACK",
                "NOAH",
                "ZACHARY"
               ]
              ],
              "y": [
               [
                17866.133333333335,
                6105.4,
                5966.7
               ]
              ]
             },
             {
              "title": "Top 3 prénoms influencés par le genre 'Romantic drama'"
             }
            ],
            "label": "Romantic drama",
            "method": "update"
           },
           {
            "args": [
             {
              "type": "bar",
              "x": [
               [
                "CONNOR",
                "JONATHAN",
                "KYLE"
               ]
              ],
              "y": [
               [
                13412.066666666668,
                10878.166666666668,
                10607.133333333331
               ]
              ]
             },
             {
              "title": "Top 3 prénoms influencés par le genre 'Science Fiction'"
             }
            ],
            "label": "Science Fiction",
            "method": "update"
           },
           {
            "args": [
             {
              "type": "bar",
              "x": [
               [
                "ETHAN",
                "EMMA",
                "JACK"
               ]
              ],
              "y": [
               [
                24403.066666666666,
                14985.966666666667,
                12508.133333333337
               ]
              ]
             },
             {
              "title": "Top 3 prénoms influencés par le genre 'Spy'"
             }
            ],
            "label": "Spy",
            "method": "update"
           },
           {
            "args": [
             {
              "type": "bar",
              "x": [
               [
                "SARAH",
                "SARA",
                "DANIEL"
               ]
              ],
              "y": [
               [
                14372.466666666667,
                5032.966666666666,
                4999.700000000001
               ]
              ]
             },
             {
              "title": "Top 3 prénoms influencés par le genre 'Supernatural'"
             }
            ],
            "label": "Supernatural",
            "method": "update"
           },
           {
            "args": [
             {
              "type": "bar",
              "x": [
               [
                "SAMANTHA",
                "CAMERON",
                "NOAH"
               ]
              ],
              "y": [
               [
                10643.533333333333,
                7474.5,
                5492.799999999999
               ]
              ]
             },
             {
              "title": "Top 3 prénoms influencés par le genre 'Teen'"
             }
            ],
            "label": "Teen",
            "method": "update"
           },
           {
            "args": [
             {
              "type": "bar",
              "x": [
               [
                "JACK",
                "ETHAN",
                "EMMA"
               ]
              ],
              "y": [
               [
                50695.66666666667,
                24403.066666666666,
                14985.966666666667
               ]
              ]
             },
             {
              "title": "Top 3 prénoms influencés par le genre 'Thriller'"
             }
            ],
            "label": "Thriller",
            "method": "update"
           },
           {
            "args": [
             {
              "type": "bar",
              "x": [
               [
                "TAYLOR",
                "JACK",
                "ISABELLA"
               ]
              ],
              "y": [
               [
                9619.866666666667,
                5517.866666666667,
                3563.166666666667
               ]
              ]
             },
             {
              "title": "Top 3 prénoms influencés par le genre 'War film'"
             }
            ],
            "label": "War film",
            "method": "update"
           }
          ]
         }
        ],
        "template": {
         "data": {
          "bar": [
           {
            "error_x": {
             "color": "#2a3f5f"
            },
            "error_y": {
             "color": "#2a3f5f"
            },
            "marker": {
             "line": {
              "color": "white",
              "width": 0.5
             },
             "pattern": {
              "fillmode": "overlay",
              "size": 10,
              "solidity": 0.2
             }
            },
            "type": "bar"
           }
          ],
          "barpolar": [
           {
            "marker": {
             "line": {
              "color": "white",
              "width": 0.5
             },
             "pattern": {
              "fillmode": "overlay",
              "size": 10,
              "solidity": 0.2
             }
            },
            "type": "barpolar"
           }
          ],
          "carpet": [
           {
            "aaxis": {
             "endlinecolor": "#2a3f5f",
             "gridcolor": "#C8D4E3",
             "linecolor": "#C8D4E3",
             "minorgridcolor": "#C8D4E3",
             "startlinecolor": "#2a3f5f"
            },
            "baxis": {
             "endlinecolor": "#2a3f5f",
             "gridcolor": "#C8D4E3",
             "linecolor": "#C8D4E3",
             "minorgridcolor": "#C8D4E3",
             "startlinecolor": "#2a3f5f"
            },
            "type": "carpet"
           }
          ],
          "choropleth": [
           {
            "colorbar": {
             "outlinewidth": 0,
             "ticks": ""
            },
            "type": "choropleth"
           }
          ],
          "contour": [
           {
            "colorbar": {
             "outlinewidth": 0,
             "ticks": ""
            },
            "colorscale": [
             [
              0,
              "#0d0887"
             ],
             [
              0.1111111111111111,
              "#46039f"
             ],
             [
              0.2222222222222222,
              "#7201a8"
             ],
             [
              0.3333333333333333,
              "#9c179e"
             ],
             [
              0.4444444444444444,
              "#bd3786"
             ],
             [
              0.5555555555555556,
              "#d8576b"
             ],
             [
              0.6666666666666666,
              "#ed7953"
             ],
             [
              0.7777777777777778,
              "#fb9f3a"
             ],
             [
              0.8888888888888888,
              "#fdca26"
             ],
             [
              1,
              "#f0f921"
             ]
            ],
            "type": "contour"
           }
          ],
          "contourcarpet": [
           {
            "colorbar": {
             "outlinewidth": 0,
             "ticks": ""
            },
            "type": "contourcarpet"
           }
          ],
          "heatmap": [
           {
            "colorbar": {
             "outlinewidth": 0,
             "ticks": ""
            },
            "colorscale": [
             [
              0,
              "#0d0887"
             ],
             [
              0.1111111111111111,
              "#46039f"
             ],
             [
              0.2222222222222222,
              "#7201a8"
             ],
             [
              0.3333333333333333,
              "#9c179e"
             ],
             [
              0.4444444444444444,
              "#bd3786"
             ],
             [
              0.5555555555555556,
              "#d8576b"
             ],
             [
              0.6666666666666666,
              "#ed7953"
             ],
             [
              0.7777777777777778,
              "#fb9f3a"
             ],
             [
              0.8888888888888888,
              "#fdca26"
             ],
             [
              1,
              "#f0f921"
             ]
            ],
            "type": "heatmap"
           }
          ],
          "heatmapgl": [
           {
            "colorbar": {
             "outlinewidth": 0,
             "ticks": ""
            },
            "colorscale": [
             [
              0,
              "#0d0887"
             ],
             [
              0.1111111111111111,
              "#46039f"
             ],
             [
              0.2222222222222222,
              "#7201a8"
             ],
             [
              0.3333333333333333,
              "#9c179e"
             ],
             [
              0.4444444444444444,
              "#bd3786"
             ],
             [
              0.5555555555555556,
              "#d8576b"
             ],
             [
              0.6666666666666666,
              "#ed7953"
             ],
             [
              0.7777777777777778,
              "#fb9f3a"
             ],
             [
              0.8888888888888888,
              "#fdca26"
             ],
             [
              1,
              "#f0f921"
             ]
            ],
            "type": "heatmapgl"
           }
          ],
          "histogram": [
           {
            "marker": {
             "pattern": {
              "fillmode": "overlay",
              "size": 10,
              "solidity": 0.2
             }
            },
            "type": "histogram"
           }
          ],
          "histogram2d": [
           {
            "colorbar": {
             "outlinewidth": 0,
             "ticks": ""
            },
            "colorscale": [
             [
              0,
              "#0d0887"
             ],
             [
              0.1111111111111111,
              "#46039f"
             ],
             [
              0.2222222222222222,
              "#7201a8"
             ],
             [
              0.3333333333333333,
              "#9c179e"
             ],
             [
              0.4444444444444444,
              "#bd3786"
             ],
             [
              0.5555555555555556,
              "#d8576b"
             ],
             [
              0.6666666666666666,
              "#ed7953"
             ],
             [
              0.7777777777777778,
              "#fb9f3a"
             ],
             [
              0.8888888888888888,
              "#fdca26"
             ],
             [
              1,
              "#f0f921"
             ]
            ],
            "type": "histogram2d"
           }
          ],
          "histogram2dcontour": [
           {
            "colorbar": {
             "outlinewidth": 0,
             "ticks": ""
            },
            "colorscale": [
             [
              0,
              "#0d0887"
             ],
             [
              0.1111111111111111,
              "#46039f"
             ],
             [
              0.2222222222222222,
              "#7201a8"
             ],
             [
              0.3333333333333333,
              "#9c179e"
             ],
             [
              0.4444444444444444,
              "#bd3786"
             ],
             [
              0.5555555555555556,
              "#d8576b"
             ],
             [
              0.6666666666666666,
              "#ed7953"
             ],
             [
              0.7777777777777778,
              "#fb9f3a"
             ],
             [
              0.8888888888888888,
              "#fdca26"
             ],
             [
              1,
              "#f0f921"
             ]
            ],
            "type": "histogram2dcontour"
           }
          ],
          "mesh3d": [
           {
            "colorbar": {
             "outlinewidth": 0,
             "ticks": ""
            },
            "type": "mesh3d"
           }
          ],
          "parcoords": [
           {
            "line": {
             "colorbar": {
              "outlinewidth": 0,
              "ticks": ""
             }
            },
            "type": "parcoords"
           }
          ],
          "pie": [
           {
            "automargin": true,
            "type": "pie"
           }
          ],
          "scatter": [
           {
            "fillpattern": {
             "fillmode": "overlay",
             "size": 10,
             "solidity": 0.2
            },
            "type": "scatter"
           }
          ],
          "scatter3d": [
           {
            "line": {
             "colorbar": {
              "outlinewidth": 0,
              "ticks": ""
             }
            },
            "marker": {
             "colorbar": {
              "outlinewidth": 0,
              "ticks": ""
             }
            },
            "type": "scatter3d"
           }
          ],
          "scattercarpet": [
           {
            "marker": {
             "colorbar": {
              "outlinewidth": 0,
              "ticks": ""
             }
            },
            "type": "scattercarpet"
           }
          ],
          "scattergeo": [
           {
            "marker": {
             "colorbar": {
              "outlinewidth": 0,
              "ticks": ""
             }
            },
            "type": "scattergeo"
           }
          ],
          "scattergl": [
           {
            "marker": {
             "colorbar": {
              "outlinewidth": 0,
              "ticks": ""
             }
            },
            "type": "scattergl"
           }
          ],
          "scattermapbox": [
           {
            "marker": {
             "colorbar": {
              "outlinewidth": 0,
              "ticks": ""
             }
            },
            "type": "scattermapbox"
           }
          ],
          "scatterpolar": [
           {
            "marker": {
             "colorbar": {
              "outlinewidth": 0,
              "ticks": ""
             }
            },
            "type": "scatterpolar"
           }
          ],
          "scatterpolargl": [
           {
            "marker": {
             "colorbar": {
              "outlinewidth": 0,
              "ticks": ""
             }
            },
            "type": "scatterpolargl"
           }
          ],
          "scatterternary": [
           {
            "marker": {
             "colorbar": {
              "outlinewidth": 0,
              "ticks": ""
             }
            },
            "type": "scatterternary"
           }
          ],
          "surface": [
           {
            "colorbar": {
             "outlinewidth": 0,
             "ticks": ""
            },
            "colorscale": [
             [
              0,
              "#0d0887"
             ],
             [
              0.1111111111111111,
              "#46039f"
             ],
             [
              0.2222222222222222,
              "#7201a8"
             ],
             [
              0.3333333333333333,
              "#9c179e"
             ],
             [
              0.4444444444444444,
              "#bd3786"
             ],
             [
              0.5555555555555556,
              "#d8576b"
             ],
             [
              0.6666666666666666,
              "#ed7953"
             ],
             [
              0.7777777777777778,
              "#fb9f3a"
             ],
             [
              0.8888888888888888,
              "#fdca26"
             ],
             [
              1,
              "#f0f921"
             ]
            ],
            "type": "surface"
           }
          ],
          "table": [
           {
            "cells": {
             "fill": {
              "color": "#EBF0F8"
             },
             "line": {
              "color": "white"
             }
            },
            "header": {
             "fill": {
              "color": "#C8D4E3"
             },
             "line": {
              "color": "white"
             }
            },
            "type": "table"
           }
          ]
         },
         "layout": {
          "annotationdefaults": {
           "arrowcolor": "#2a3f5f",
           "arrowhead": 0,
           "arrowwidth": 1
          },
          "autotypenumbers": "strict",
          "coloraxis": {
           "colorbar": {
            "outlinewidth": 0,
            "ticks": ""
           }
          },
          "colorscale": {
           "diverging": [
            [
             0,
             "#8e0152"
            ],
            [
             0.1,
             "#c51b7d"
            ],
            [
             0.2,
             "#de77ae"
            ],
            [
             0.3,
             "#f1b6da"
            ],
            [
             0.4,
             "#fde0ef"
            ],
            [
             0.5,
             "#f7f7f7"
            ],
            [
             0.6,
             "#e6f5d0"
            ],
            [
             0.7,
             "#b8e186"
            ],
            [
             0.8,
             "#7fbc41"
            ],
            [
             0.9,
             "#4d9221"
            ],
            [
             1,
             "#276419"
            ]
           ],
           "sequential": [
            [
             0,
             "#0d0887"
            ],
            [
             0.1111111111111111,
             "#46039f"
            ],
            [
             0.2222222222222222,
             "#7201a8"
            ],
            [
             0.3333333333333333,
             "#9c179e"
            ],
            [
             0.4444444444444444,
             "#bd3786"
            ],
            [
             0.5555555555555556,
             "#d8576b"
            ],
            [
             0.6666666666666666,
             "#ed7953"
            ],
            [
             0.7777777777777778,
             "#fb9f3a"
            ],
            [
             0.8888888888888888,
             "#fdca26"
            ],
            [
             1,
             "#f0f921"
            ]
           ],
           "sequentialminus": [
            [
             0,
             "#0d0887"
            ],
            [
             0.1111111111111111,
             "#46039f"
            ],
            [
             0.2222222222222222,
             "#7201a8"
            ],
            [
             0.3333333333333333,
             "#9c179e"
            ],
            [
             0.4444444444444444,
             "#bd3786"
            ],
            [
             0.5555555555555556,
             "#d8576b"
            ],
            [
             0.6666666666666666,
             "#ed7953"
            ],
            [
             0.7777777777777778,
             "#fb9f3a"
            ],
            [
             0.8888888888888888,
             "#fdca26"
            ],
            [
             1,
             "#f0f921"
            ]
           ]
          },
          "colorway": [
           "#636efa",
           "#EF553B",
           "#00cc96",
           "#ab63fa",
           "#FFA15A",
           "#19d3f3",
           "#FF6692",
           "#B6E880",
           "#FF97FF",
           "#FECB52"
          ],
          "font": {
           "color": "#2a3f5f"
          },
          "geo": {
           "bgcolor": "white",
           "lakecolor": "white",
           "landcolor": "white",
           "showlakes": true,
           "showland": true,
           "subunitcolor": "#C8D4E3"
          },
          "hoverlabel": {
           "align": "left"
          },
          "hovermode": "closest",
          "mapbox": {
           "style": "light"
          },
          "paper_bgcolor": "white",
          "plot_bgcolor": "white",
          "polar": {
           "angularaxis": {
            "gridcolor": "#EBF0F8",
            "linecolor": "#EBF0F8",
            "ticks": ""
           },
           "bgcolor": "white",
           "radialaxis": {
            "gridcolor": "#EBF0F8",
            "linecolor": "#EBF0F8",
            "ticks": ""
           }
          },
          "scene": {
           "xaxis": {
            "backgroundcolor": "white",
            "gridcolor": "#DFE8F3",
            "gridwidth": 2,
            "linecolor": "#EBF0F8",
            "showbackground": true,
            "ticks": "",
            "zerolinecolor": "#EBF0F8"
           },
           "yaxis": {
            "backgroundcolor": "white",
            "gridcolor": "#DFE8F3",
            "gridwidth": 2,
            "linecolor": "#EBF0F8",
            "showbackground": true,
            "ticks": "",
            "zerolinecolor": "#EBF0F8"
           },
           "zaxis": {
            "backgroundcolor": "white",
            "gridcolor": "#DFE8F3",
            "gridwidth": 2,
            "linecolor": "#EBF0F8",
            "showbackground": true,
            "ticks": "",
            "zerolinecolor": "#EBF0F8"
           }
          },
          "shapedefaults": {
           "line": {
            "color": "#2a3f5f"
           }
          },
          "ternary": {
           "aaxis": {
            "gridcolor": "#DFE8F3",
            "linecolor": "#A2B1C6",
            "ticks": ""
           },
           "baxis": {
            "gridcolor": "#DFE8F3",
            "linecolor": "#A2B1C6",
            "ticks": ""
           },
           "bgcolor": "white",
           "caxis": {
            "gridcolor": "#DFE8F3",
            "linecolor": "#A2B1C6",
            "ticks": ""
           }
          },
          "title": {
           "x": 0.05
          },
          "xaxis": {
           "automargin": true,
           "gridcolor": "#EBF0F8",
           "linecolor": "#EBF0F8",
           "ticks": "",
           "title": {
            "standoff": 15
           },
           "zerolinecolor": "#EBF0F8",
           "zerolinewidth": 2
          },
          "yaxis": {
           "automargin": true,
           "gridcolor": "#EBF0F8",
           "linecolor": "#EBF0F8",
           "ticks": "",
           "title": {
            "standoff": 15
           },
           "zerolinecolor": "#EBF0F8",
           "zerolinewidth": 2
          }
         }
        },
        "title": {
         "text": "Top 3 influences names by movies, per genre'Action'"
        },
        "xaxis": {
         "title": {
          "text": "Names"
         }
        },
        "yaxis": {
         "title": {
          "text": "Mean of influence"
         }
        }
       }
      }
     },
     "metadata": {},
     "output_type": "display_data"
    }
   ],
   "source": [
    "import pandas as pd\n",
    "import plotly.graph_objects as go\n",
    "\n",
    "# Étape 1: Préparer les données\n",
    "merged_df = pd.read_csv(\"data/clean/influenced_prophet_with_genres.csv\")\n",
    "merged_df['Genres'] = merged_df['Genres'].str.split(', ')\n",
    "exploded_df = merged_df.explode('Genres')  # Séparer les genres\n",
    "\n",
    "# Calculer l'influence totale par genre\n",
    "top_25_genres = (\n",
    "    exploded_df.groupby('Genres')['Mean Difference']\n",
    "    .sum()\n",
    "    .reset_index()\n",
    "    .sort_values(by='Mean Difference', ascending=False)\n",
    "    .head(25)['Genres']  # Garde les 25 genres les plus influents\n",
    ")\n",
    "\n",
    "# Filtrer les données pour ne garder que ces 25 genres\n",
    "filtered_df = exploded_df[exploded_df['Genres'].isin(top_25_genres)]\n",
    "\n",
    "# Calculer le Top 3 des prénoms influencés pour chaque genre\n",
    "top_names_by_genre = (\n",
    "    filtered_df.groupby(['Genres', 'Normalized_name'])['Mean Difference']\n",
    "    .sum()\n",
    "    .reset_index()\n",
    "    .sort_values(['Genres', 'Mean Difference'], ascending=[True, False])\n",
    "    .groupby('Genres')\n",
    "    .head(3)  # Prendre le top 3 par genre\n",
    ")\n",
    "\n",
    "# Liste unique des 25 genres\n",
    "unique_genres = top_names_by_genre['Genres'].unique()\n",
    "\n",
    "# Étape 2: Créer le graphique initial avec le premier genre\n",
    "initial_genre = unique_genres[0]\n",
    "initial_data = top_names_by_genre[top_names_by_genre['Genres'] == initial_genre]\n",
    "\n",
    "# Création de la figure\n",
    "fig = go.Figure()\n",
    "\n",
    "# Ajouter les barres pour le graphique initial\n",
    "fig.add_trace(go.Bar(\n",
    "    x=initial_data['Normalized_name'],\n",
    "    y=initial_data['Mean Difference'],\n",
    "    name=initial_genre\n",
    "))\n",
    "\n",
    "# Étape 3: Configurer les étapes du slider\n",
    "steps = []\n",
    "for genre in unique_genres:\n",
    "    filtered_data = top_names_by_genre[top_names_by_genre['Genres'] == genre]\n",
    "    step = dict(\n",
    "        method=\"update\",\n",
    "        args=[{\"x\": [filtered_data['Normalized_name']],\n",
    "               \"y\": [filtered_data['Mean Difference']],\n",
    "               \"type\": \"bar\"},\n",
    "              {\"title\": f\"Top 3 prénoms influencés par le genre '{genre}'\"}],\n",
    "        label=genre\n",
    "    )\n",
    "    steps.append(step)\n",
    "\n",
    "# Étape 4: Configuration du slider\n",
    "sliders = [dict(\n",
    "    active=0,\n",
    "    currentvalue={\"prefix\": \"Genre: \"},\n",
    "    pad={\"t\": 50},\n",
    "    steps=steps\n",
    ")]\n",
    "\n",
    "# Mettre à jour le layout\n",
    "fig.update_layout(\n",
    "    title=f\"Top 3 influences names by movies, per genre'{initial_genre}'\",\n",
    "    xaxis_title=\"Names\",\n",
    "    yaxis_title=\"Mean of influence\",\n",
    "    sliders=sliders,\n",
    "    template=\"plotly_white\"\n",
    ")\n",
    "\n",
    "# Étape 5: Afficher le graphique\n",
    "fig.show()\n"
   ]
  },
  {
   "cell_type": "code",
   "execution_count": 82,
   "metadata": {},
   "outputs": [],
   "source": [
    "fig.write_html(\"docs/_includes/top3_influenced_names_by_genres.html\")"
   ]
  },
  {
   "cell_type": "code",
   "execution_count": 85,
   "metadata": {},
   "outputs": [
    {
     "name": "stdout",
     "output_type": "stream",
     "text": [
      "Requirement already satisfied: dash in c:\\users\\pauline\\anaconda3\\envs\\ada\\lib\\site-packages (2.18.2)\n",
      "Requirement already satisfied: plotly in c:\\users\\pauline\\anaconda3\\envs\\ada\\lib\\site-packages (5.24.1)\n",
      "Requirement already satisfied: pandas in c:\\users\\pauline\\anaconda3\\envs\\ada\\lib\\site-packages (2.2.2)\n",
      "Requirement already satisfied: Flask<3.1,>=1.0.4 in c:\\users\\pauline\\anaconda3\\envs\\ada\\lib\\site-packages (from dash) (3.0.3)\n",
      "Requirement already satisfied: Werkzeug<3.1 in c:\\users\\pauline\\anaconda3\\envs\\ada\\lib\\site-packages (from dash) (3.0.6)\n",
      "Requirement already satisfied: dash-html-components==2.0.0 in c:\\users\\pauline\\anaconda3\\envs\\ada\\lib\\site-packages (from dash) (2.0.0)\n",
      "Requirement already satisfied: dash-core-components==2.0.0 in c:\\users\\pauline\\anaconda3\\envs\\ada\\lib\\site-packages (from dash) (2.0.0)\n",
      "Requirement already satisfied: dash-table==5.0.0 in c:\\users\\pauline\\anaconda3\\envs\\ada\\lib\\site-packages (from dash) (5.0.0)\n",
      "Requirement already satisfied: importlib-metadata in c:\\users\\pauline\\anaconda3\\envs\\ada\\lib\\site-packages (from dash) (8.5.0)\n",
      "Requirement already satisfied: typing-extensions>=4.1.1 in c:\\users\\pauline\\anaconda3\\envs\\ada\\lib\\site-packages (from dash) (4.11.0)\n",
      "Requirement already satisfied: requests in c:\\users\\pauline\\anaconda3\\envs\\ada\\lib\\site-packages (from dash) (2.32.3)\n",
      "Requirement already satisfied: retrying in c:\\users\\pauline\\anaconda3\\envs\\ada\\lib\\site-packages (from dash) (1.3.4)\n",
      "Requirement already satisfied: nest-asyncio in c:\\users\\pauline\\anaconda3\\envs\\ada\\lib\\site-packages (from dash) (1.6.0)\n",
      "Requirement already satisfied: setuptools in c:\\users\\pauline\\anaconda3\\envs\\ada\\lib\\site-packages (from dash) (72.1.0)\n",
      "Requirement already satisfied: tenacity>=6.2.0 in c:\\users\\pauline\\anaconda3\\envs\\ada\\lib\\site-packages (from plotly) (9.0.0)\n",
      "Requirement already satisfied: packaging in c:\\users\\pauline\\anaconda3\\envs\\ada\\lib\\site-packages (from plotly) (24.1)\n",
      "Requirement already satisfied: numpy>=1.23.2 in c:\\users\\pauline\\anaconda3\\envs\\ada\\lib\\site-packages (from pandas) (1.26.4)\n",
      "Requirement already satisfied: python-dateutil>=2.8.2 in c:\\users\\pauline\\anaconda3\\envs\\ada\\lib\\site-packages (from pandas) (2.9.0.post0)\n",
      "Requirement already satisfied: pytz>=2020.1 in c:\\users\\pauline\\anaconda3\\envs\\ada\\lib\\site-packages (from pandas) (2024.1)\n",
      "Requirement already satisfied: tzdata>=2022.7 in c:\\users\\pauline\\anaconda3\\envs\\ada\\lib\\site-packages (from pandas) (2023.3)\n",
      "Requirement already satisfied: Jinja2>=3.1.2 in c:\\users\\pauline\\anaconda3\\envs\\ada\\lib\\site-packages (from Flask<3.1,>=1.0.4->dash) (3.1.4)\n",
      "Requirement already satisfied: itsdangerous>=2.1.2 in c:\\users\\pauline\\anaconda3\\envs\\ada\\lib\\site-packages (from Flask<3.1,>=1.0.4->dash) (2.2.0)\n",
      "Requirement already satisfied: click>=8.1.3 in c:\\users\\pauline\\anaconda3\\envs\\ada\\lib\\site-packages (from Flask<3.1,>=1.0.4->dash) (8.1.7)\n",
      "Requirement already satisfied: blinker>=1.6.2 in c:\\users\\pauline\\anaconda3\\envs\\ada\\lib\\site-packages (from Flask<3.1,>=1.0.4->dash) (1.9.0)\n",
      "Requirement already satisfied: six>=1.5 in c:\\users\\pauline\\anaconda3\\envs\\ada\\lib\\site-packages (from python-dateutil>=2.8.2->pandas) (1.16.0)\n",
      "Requirement already satisfied: MarkupSafe>=2.1.1 in c:\\users\\pauline\\anaconda3\\envs\\ada\\lib\\site-packages (from Werkzeug<3.1->dash) (2.1.3)\n",
      "Requirement already satisfied: zipp>=3.20 in c:\\users\\pauline\\anaconda3\\envs\\ada\\lib\\site-packages (from importlib-metadata->dash) (3.21.0)\n",
      "Requirement already satisfied: charset-normalizer<4,>=2 in c:\\users\\pauline\\anaconda3\\envs\\ada\\lib\\site-packages (from requests->dash) (3.3.2)\n",
      "Requirement already satisfied: idna<4,>=2.5 in c:\\users\\pauline\\anaconda3\\envs\\ada\\lib\\site-packages (from requests->dash) (3.7)\n",
      "Requirement already satisfied: urllib3<3,>=1.21.1 in c:\\users\\pauline\\anaconda3\\envs\\ada\\lib\\site-packages (from requests->dash) (2.2.2)\n",
      "Requirement already satisfied: certifi>=2017.4.17 in c:\\users\\pauline\\anaconda3\\envs\\ada\\lib\\site-packages (from requests->dash) (2024.8.30)\n",
      "Requirement already satisfied: colorama in c:\\users\\pauline\\anaconda3\\envs\\ada\\lib\\site-packages (from click>=8.1.3->Flask<3.1,>=1.0.4->dash) (0.4.6)\n"
     ]
    }
   ],
   "source": [
    "!pip install dash plotly pandas\n",
    "\n"
   ]
  },
  {
   "cell_type": "code",
   "execution_count": 87,
   "metadata": {},
   "outputs": [],
   "source": [
    "import pandas as pd\n",
    "import dash\n",
    "from dash import dcc, html, Input, Output\n",
    "import plotly.express as px\n",
    "import plotly.graph_objects as go\n",
    "\n",
    "# Charger les données\n",
    "merged_df = pd.read_csv(\"data/clean/influenced_prophet_with_genres.csv\")\n",
    "merged_df['Genres'] = merged_df['Genres'].str.split(', ')\n",
    "exploded_df = merged_df.explode('Genres')\n",
    "\n",
    "# Top 25 genres les plus influents\n",
    "top_25_genres = (\n",
    "    exploded_df.groupby('Genres')['Mean Difference']\n",
    "    .sum()\n",
    "    .reset_index()\n",
    "    .sort_values(by='Mean Difference', ascending=False)\n",
    "    .head(25)['Genres']\n",
    ")\n",
    "\n",
    "filtered_df = exploded_df[exploded_df['Genres'].isin(top_25_genres)]\n",
    "\n",
    "# Obtenir le Top 3 des prénoms influencés par genre\n",
    "top_names_by_genre = (\n",
    "    filtered_df.groupby(['Genres', 'Normalized_name'])['Mean Difference']\n",
    "    .sum()\n",
    "    .reset_index()\n",
    "    .sort_values(['Genres', 'Mean Difference'], ascending=[True, False])\n",
    "    .groupby('Genres')\n",
    "    .head(3)\n",
    ")\n",
    "\n",
    "# Liste unique des genres\n",
    "unique_genres = top_names_by_genre['Genres'].unique()\n",
    "\n"
   ]
  },
  {
   "cell_type": "code",
   "execution_count": 93,
   "metadata": {},
   "outputs": [
    {
     "data": {
      "text/html": [
       "\n",
       "        <iframe\n",
       "            width=\"100%\"\n",
       "            height=\"650\"\n",
       "            src=\"http://127.0.0.1:8050/\"\n",
       "            frameborder=\"0\"\n",
       "            allowfullscreen\n",
       "            \n",
       "        ></iframe>\n",
       "        "
      ],
      "text/plain": [
       "<IPython.lib.display.IFrame at 0x260a2ac91d0>"
      ]
     },
     "metadata": {},
     "output_type": "display_data"
    }
   ],
   "source": [
    "import pandas as pd\n",
    "import dash\n",
    "from dash import dcc, html, Input, Output\n",
    "import plotly.express as px\n",
    "import plotly.graph_objects as go\n",
    "\n",
    "# Charger les données\n",
    "merged_df = pd.read_csv(\"data/clean/influenced_prophet_with_genres.csv\")\n",
    "merged_df['Genres'] = merged_df['Genres'].str.split(', ')\n",
    "exploded_df = merged_df.explode('Genres')\n",
    "\n",
    "# Top 25 genres les plus influents\n",
    "top_25_genres = (\n",
    "    exploded_df.groupby('Genres')['Mean Difference']\n",
    "    .sum()\n",
    "    .reset_index()\n",
    "    .sort_values(by='Mean Difference', ascending=False)\n",
    "    .head(25)['Genres']\n",
    ")\n",
    "\n",
    "filtered_df = exploded_df[exploded_df['Genres'].isin(top_25_genres)]\n",
    "\n",
    "# Obtenir le Top 3 des prénoms influencés par genre\n",
    "top_names_by_genre = (\n",
    "    filtered_df.groupby(['Genres', 'Normalized_name'])['Mean Difference']\n",
    "    .sum()\n",
    "    .reset_index()\n",
    "    .sort_values(['Genres', 'Mean Difference'], ascending=[True, False])\n",
    "    .groupby('Genres')\n",
    "    .head(3)\n",
    ")\n",
    "\n",
    "# Liste unique des genres\n",
    "unique_genres = top_names_by_genre['Genres'].unique()\n",
    "\n",
    "# Fonction pour générer une grille hexagonale compacte\n",
    "def generate_hex_coords_compact(n, cols=6):\n",
    "    \"\"\"Générer des coordonnées x et y pour une grille hexagonale compacte.\"\"\"\n",
    "    coords = []\n",
    "    for i in range(n):\n",
    "        row = i // cols\n",
    "        col = i % cols\n",
    "        x = col * 1.5  # Espacement horizontal\n",
    "        y = row * 1.3  # Espacement vertical\n",
    "        if row % 2 == 1:  # Décalage horizontal pour les lignes impaires\n",
    "            x += 0.75\n",
    "        coords.append((x, -y))\n",
    "    return coords\n",
    "\n",
    "# Générer les coordonnées pour les genres\n",
    "coords = generate_hex_coords_compact(len(unique_genres), cols=6)\n",
    "x_coords, y_coords = zip(*coords)\n",
    "\n",
    "# Initialiser l'application Dash\n",
    "app = dash.Dash(__name__)\n",
    "\n",
    "# Layout de l'application\n",
    "app.layout = html.Div([\n",
    "    html.H1(\"Select a movie genre:\", style={\"text-align\": \"center\"}),\n",
    "\n",
    "    # Grille hexagonale interactive\n",
    "    dcc.Graph(\n",
    "        id='hex-graph',\n",
    "        figure=px.scatter(\n",
    "            x=x_coords, y=y_coords,\n",
    "            text=unique_genres,\n",
    "            template='simple_white'\n",
    "        ).update_traces(\n",
    "            marker=dict(symbol=\"hexagon\", size=70, color='blue'),\n",
    "            textposition=\"middle center\",\n",
    "            hoverinfo=\"text\"\n",
    "        ).update_layout(\n",
    "            xaxis=dict(visible=False),\n",
    "            yaxis=dict(visible=False),\n",
    "            height=600,\n",
    "            margin=dict(l=0, r=0, t=0, b=0)\n",
    "        )\n",
    "    ),\n",
    "\n",
    "    # Barplot dynamique pour les prénoms\n",
    "    dcc.Graph(id='bar-plot')\n",
    "])\n",
    "\n",
    "# Callback pour mettre à jour le barplot\n",
    "@app.callback(\n",
    "    Output('bar-plot', 'figure'),\n",
    "    Input('hex-graph', 'hoverData')  # Interaction via hover\n",
    ")\n",
    "def update_barplot(hoverData):\n",
    "    # Récupérer le genre sélectionné (hover)\n",
    "    if hoverData is not None:\n",
    "        selected_genre = hoverData['points'][0]['text']\n",
    "    else:\n",
    "        selected_genre = unique_genres[0]  # Par défaut\n",
    "\n",
    "    # Filtrer le top 3 des prénoms pour le genre sélectionné\n",
    "    filtered_names = top_names_by_genre[top_names_by_genre['Genres'] == selected_genre]\n",
    "\n",
    "    # Créer un barplot\n",
    "    fig = go.Figure(data=[\n",
    "        go.Bar(\n",
    "            x=filtered_names['Normalized_name'],\n",
    "            y=filtered_names['Mean Difference'],\n",
    "            marker_color='lightskyblue'\n",
    "        )\n",
    "    ])\n",
    "    fig.update_layout(\n",
    "        title=f\"Top 3 prénoms influencés par le genre '{selected_genre}'\",\n",
    "        xaxis_title=\"Prénoms\",\n",
    "        yaxis_title=\"Mean of Influence\",\n",
    "        template=\"simple_white\"\n",
    "    )\n",
    "    return fig\n",
    "\n",
    "# Exécuter l'application\n",
    "if __name__ == '__main__':\n",
    "    app.run_server(debug=True)\n"
   ]
  }
 ],
 "metadata": {
  "kernelspec": {
   "display_name": "ada",
   "language": "python",
   "name": "python3"
  },
  "language_info": {
   "codemirror_mode": {
    "name": "ipython",
    "version": 3
   },
   "file_extension": ".py",
   "mimetype": "text/x-python",
   "name": "python",
   "nbconvert_exporter": "python",
   "pygments_lexer": "ipython3",
   "version": "3.11.9"
  }
 },
 "nbformat": 4,
 "nbformat_minor": 2
}
